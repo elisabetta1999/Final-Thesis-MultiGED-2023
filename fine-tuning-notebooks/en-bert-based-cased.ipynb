{
 "cells": [
  {
   "cell_type": "code",
   "execution_count": null,
   "id": "37513759-8ae2-4335-b658-b85dece652c0",
   "metadata": {},
   "outputs": [],
   "source": []
  },
  {
   "cell_type": "code",
   "execution_count": 50,
   "id": "9b6f9a7d-1f18-41ad-82a1-c29afbc3030d",
   "metadata": {},
   "outputs": [],
   "source": [
    "from transformers import AutoTokenizer, AutoModelForTokenClassification, TrainingArguments, Trainer, set_seed\n",
    "from transformers import DataCollatorForTokenClassification\n",
    "import pandas as pd\n",
    "import thesis_utils\n",
    "from datasets import Dataset\n",
    "from datasets import Sequence, ClassLabel, Features, Value\n",
    "from evaluate import load\n",
    "import random\n",
    "import numpy as np\n",
    "import csv\n",
    "from collections import Counter\n",
    "from sklearn.metrics import classification_report, confusion_matrix, ConfusionMatrixDisplay, accuracy_score\n",
    "import matplotlib.pyplot as plt\n",
    "import seaborn as sns\n",
    "from sklearn.metrics import precision_recall_fscore_support"
   ]
  },
  {
   "cell_type": "code",
   "execution_count": 52,
   "id": "55a3bc91-2335-4ac1-9270-42e467b138de",
   "metadata": {},
   "outputs": [],
   "source": [
    "%matplotlib inline"
   ]
  },
  {
   "cell_type": "markdown",
   "id": "e1df3743-938d-4249-baaf-37418d793790",
   "metadata": {},
   "source": [
    "### Loading the model"
   ]
  },
  {
   "cell_type": "code",
   "execution_count": 55,
   "id": "646e987c-346b-4bb5-b72c-8331ea90d480",
   "metadata": {},
   "outputs": [
    {
     "name": "stderr",
     "output_type": "stream",
     "text": [
      "/home/elisabetta/anaconda3/lib/python3.12/site-packages/huggingface_hub/file_download.py:797: FutureWarning: `resume_download` is deprecated and will be removed in version 1.0.0. Downloads always resume when possible. If you want to force a new download, use `force_download=True`.\n",
      "  warnings.warn(\n"
     ]
    }
   ],
   "source": [
    "model_checkpoint = \"bert-large-cased\"\n",
    "tokenizer = AutoTokenizer.from_pretrained(model_checkpoint)"
   ]
  },
  {
   "cell_type": "code",
   "execution_count": 57,
   "id": "c334b9a5-3cfa-463b-b3aa-78947cc5794c",
   "metadata": {},
   "outputs": [],
   "source": [
    "task = \"GED\"\n",
    "batch_size = 8"
   ]
  },
  {
   "cell_type": "markdown",
   "id": "92d97a01-3961-4fa3-b10b-cacd2feb873b",
   "metadata": {},
   "source": [
    "### Statistics"
   ]
  },
  {
   "cell_type": "code",
   "execution_count": 60,
   "id": "bd204bcc-4cce-4052-b285-b3bb83916bf0",
   "metadata": {},
   "outputs": [],
   "source": [
    "multiged_fce_train =  thesis_utils.read_tsv_file_and_find_sentences('./MULTI-GED2023 DATA/en_fce_train.tsv')\n",
    "multiged_fce_dev =  thesis_utils.read_tsv_file_and_find_sentences('./MULTI-GED2023 DATA/en_fce_dev.tsv')\n",
    "multiged_fce_test=  thesis_utils.read_tsv_file_and_find_sentences('./MULTI-GED2023 DATA/en_fce_test_unlabelled.tsv')\n",
    "multiged_realec_dev=  thesis_utils.read_tsv_file_and_find_sentences('./MULTI-GED2023 DATA/en_realec_dev.tsv')\n",
    "multiged_realec_test=  thesis_utils.read_tsv_file_and_find_sentences('./MULTI-GED2023 DATA/en_realec_test_unlabelled.tsv')"
   ]
  },
  {
   "cell_type": "code",
   "execution_count": 61,
   "id": "ed3c9530-8df5-4abc-a0c1-52c1d5d8c1d8",
   "metadata": {},
   "outputs": [
    {
     "name": "stdout",
     "output_type": "stream",
     "text": [
      "Number of training sentences: 28357\n",
      "\n",
      "Number of dev (FCE) sentences: 2191\n",
      "\n",
      "Number of dev (REALES) sentences: 4067\n",
      "\n",
      "Number of test (FCE) sentences: 2695\n",
      "\n",
      "Number of test (REALEC) sentences: 4069\n",
      "\n",
      "Number of training tokens: 454730\n",
      "\n",
      "Number of dev tokens (FCE): 34748\n",
      "\n",
      "Number of dev tokens (REALEC): 88008\n",
      "\n",
      "Number of test tokens(FCE): 41932\n",
      "\n",
      "Number of test tokens (REALEC): 89761\n"
     ]
    }
   ],
   "source": [
    "print(f'Number of training sentences: {len(multiged_fce_train)}\\n')\n",
    "print(f'Number of dev (FCE) sentences: {len(multiged_fce_dev)}\\n')\n",
    "print(f'Number of dev (REALEC) sentences: {len(multiged_realec_dev)}\\n')\n",
    "print(f'Number of test (FCE) sentences: {len(multiged_fce_test)}\\n')\n",
    "print(f'Number of test (REALEC) sentences: {len(multiged_realec_test)}\\n')\n",
    "\n",
    "print(f'Number of training tokens: {thesis_utils.token_counter(multiged_fce_train)}\\n')\n",
    "print(f'Number of dev tokens (FCE): {thesis_utils.token_counter(multiged_fce_dev)}\\n')\n",
    "print(f'Number of dev tokens (REALEC): {thesis_utils.token_counter(multiged_realec_dev)}\\n')\n",
    "print(f'Number of test tokens(FCE): {thesis_utils.token_counter(multiged_fce_test)}\\n')\n",
    "print(f'Number of test tokens (REALEC): {thesis_utils.token_counter(multiged_realec_test)}')"
   ]
  },
  {
   "cell_type": "markdown",
   "id": "533dbbfb-de3a-405b-8575-9e0c933bb858",
   "metadata": {},
   "source": [
    "### Preprocessing"
   ]
  },
  {
   "cell_type": "code",
   "execution_count": 63,
   "id": "72407d07-82b6-4d50-a58b-15aaf34f7b32",
   "metadata": {},
   "outputs": [],
   "source": [
    "multiged_labels = ['c','i']\n",
    "training_sents_idx, training_sents_tokens, training_sents_gold = thesis_utils.get_list_ids_tokens_gold(multiged_fce_train)\n",
    "dev_sents_idx_fce, dev_sents_tokens_fce, dev_labels_fce= thesis_utils.get_list_ids_tokens_gold(multiged_fce_dev)\n",
    "dev_sents_idx_realec, dev_sents_tokens_realec, dev_labels_realec = thesis_utils.get_list_ids_tokens_gold(multiged_realec_dev)\n",
    "# test_sents_idx_fce, test_sents_tokens_fce, test_labels_fce = thesis_utils.get_list_ids_tokens_gold(multiged_fce_test)\n",
    "# test_sents_idx_realec, test_sents_tokens_realec, test_labels_realec = thesis_utils.get_list_ids_tokens_gold(multiged_realec_test)"
   ]
  },
  {
   "cell_type": "code",
   "execution_count": 64,
   "id": "c24eda75-4f40-4d09-ab63-791bc6561d3e",
   "metadata": {},
   "outputs": [],
   "source": [
    "training_list_dict = thesis_utils.create_list_dict(training_sents_idx, training_sents_tokens, training_sents_gold)\n",
    "dev_list_dict_fce = thesis_utils.create_list_dict(dev_sents_idx_fce, dev_sents_tokens_fce, dev_labels_fce)\n",
    "dev_list_dict_realec = thesis_utils.create_list_dict(dev_sents_idx_realec, dev_sents_tokens_realec, dev_labels_realec)\n",
    "# test_list_dict_fce = thesis_utils.create_list_dict(test_sents_idx_fce, test_sents_tokens_fce, test_labels_fce)\n",
    "# test_list_dict_realec = thesis_utils.create_list_dict(test_sents_idx_realec, test_sents_tokens_realec, test_labels_realec)"
   ]
  },
  {
   "cell_type": "code",
   "execution_count": 67,
   "id": "b24f9e23-1a7a-4c8a-ad67-a48c6000803e",
   "metadata": {},
   "outputs": [],
   "source": [
    "training_df = pd.DataFrame(training_list_dict)\n",
    "training_dataset = Dataset.from_pandas(training_df)\n",
    "\n",
    "fce_dev_df = pd.DataFrame(dev_list_dict_fce)\n",
    "fce_dev_dataset = Dataset.from_pandas(fce_dev_df)\n",
    "\n",
    "realec_dev_df = pd.DataFrame(dev_list_dict_realec)\n",
    "realec_dev_dataset = Dataset.from_pandas(realec_dev_df)\n",
    "\n",
    "# fce_test_df = pd.DataFrame(test_list_dict_fce)\n",
    "# fce_test_dataset = Dataset.from_pandas(fce_test_df)\n",
    "\n",
    "# realec_test_df = pd.DataFrame(test_list_dict_realec)\n",
    "# realec_test_dataset = Dataset.from_pandas(realec_test_df)"
   ]
  },
  {
   "cell_type": "code",
   "execution_count": 70,
   "id": "5438594c-278f-4255-9a0a-d8620cbcf3ec",
   "metadata": {
    "scrolled": true
   },
   "outputs": [
    {
     "data": {
      "application/vnd.jupyter.widget-view+json": {
       "model_id": "33df15af50bf41c9bcc0ed4abd0d738b",
       "version_major": 2,
       "version_minor": 0
      },
      "text/plain": [
       "Casting the dataset:   0%|          | 0/28357 [00:00<?, ? examples/s]"
      ]
     },
     "metadata": {},
     "output_type": "display_data"
    },
    {
     "data": {
      "application/vnd.jupyter.widget-view+json": {
       "model_id": "40db69b6dee5448da2c7b158344c5e1f",
       "version_major": 2,
       "version_minor": 0
      },
      "text/plain": [
       "Casting the dataset:   0%|          | 0/2191 [00:00<?, ? examples/s]"
      ]
     },
     "metadata": {},
     "output_type": "display_data"
    },
    {
     "data": {
      "application/vnd.jupyter.widget-view+json": {
       "model_id": "cb928919d7d746cdb2c07ce10210d978",
       "version_major": 2,
       "version_minor": 0
      },
      "text/plain": [
       "Casting the dataset:   0%|          | 0/4067 [00:00<?, ? examples/s]"
      ]
     },
     "metadata": {},
     "output_type": "display_data"
    }
   ],
   "source": [
    "new_features = Features({\n",
    "    \"id_token\": Sequence(Value(\"int64\")),\n",
    "    \"token\": Sequence(Value(\"string\")),\n",
    "    \"labels\": Sequence(ClassLabel(names=multiged_labels)),\n",
    "})\n",
    "\n",
    "training_dataset = training_dataset.cast(new_features)\n",
    "fce_dev_dataset = fce_dev_dataset.cast(new_features)\n",
    "realec_dev_dataset=realec_dev_dataset.cast(new_features)\n",
    "#fce_test_dataset = fce_test_dataset.cast(new_features)\n",
    "#realec_test_dataset=realec_test_dataset.cast(new_features)"
   ]
  },
  {
   "cell_type": "code",
   "execution_count": 72,
   "id": "3d785d12-89bd-4340-99c1-7dae0c55f425",
   "metadata": {},
   "outputs": [],
   "source": [
    "example_sentence = training_dataset['token'][3]\n",
    "example_sentence_id = training_dataset['id_token'][3]\n",
    "tokenized_input = tokenizer(example_sentence, truncation=True, is_split_into_words=True)\n",
    "tokens = tokenizer.convert_ids_to_tokens(tokenized_input[\"input_ids\"])"
   ]
  },
  {
   "cell_type": "code",
   "execution_count": 73,
   "id": "974a4bc1-0df9-4c96-a60e-3ac406a440b2",
   "metadata": {},
   "outputs": [
    {
     "name": "stdout",
     "output_type": "stream",
     "text": [
      "Original tokens: \n",
      "['I', 'convinced', 'them', 'to', 'go', 'there', 'with', 'me', 'because', 'I', 'had', 'heard', 'good', 'references', 'about', 'your', 'Company', 'and', ',', 'above', 'all', ',', 'about', 'the', 'main', 'star', ',', 'Danny', 'Brook', '.']\n",
      "\n",
      "Tokens and subword tokens obtained through the AutoTokenizer of BERT (distilbert-base-uncased): \n",
      "['[CLS]', 'I', 'convinced', 'them', 'to', 'go', 'there', 'with', 'me', 'because', 'I', 'had', 'heard', 'good', 'references', 'about', 'your', 'Company', 'and', ',', 'above', 'all', ',', 'about', 'the', 'main', 'star', ',', 'Danny', 'Brook', '.', '[SEP]']\n",
      "\n",
      "Number of the original token IDs: 30 >>>  \n",
      "[1, 2, 3, 4, 5, 6, 7, 8, 9, 10, 11, 12, 13, 14, 15, 16, 17, 18, 19, 20, 21, 22, 23, 24, 25, 26, 27, 28, 29, 30]\n",
      "\n",
      "Number of the tokens and subword token IDs: 32 >>> \n",
      "[None, 0, 1, 2, 3, 4, 5, 6, 7, 8, 9, 10, 11, 12, 13, 14, 15, 16, 17, 18, 19, 20, 21, 22, 23, 24, 25, 26, 27, 28, 29, None]\n",
      "\n",
      "Representation of the input IDs: \n",
      "[101, 146, 5857, 1172, 1106, 1301, 1175, 1114, 1143, 1272, 146, 1125, 1767, 1363, 7732, 1164, 1240, 1881, 1105, 117, 1807, 1155, 117, 1164, 1103, 1514, 2851, 117, 5595, 10597, 119, 102]\n",
      "\n",
      "Representation of the attention mask: \n",
      "[1, 1, 1, 1, 1, 1, 1, 1, 1, 1, 1, 1, 1, 1, 1, 1, 1, 1, 1, 1, 1, 1, 1, 1, 1, 1, 1, 1, 1, 1, 1, 1]\n"
     ]
    }
   ],
   "source": [
    "print(f'Original tokens: \\n{example_sentence}')\n",
    "print()\n",
    "print(f'Tokens and subword tokens obtained through the AutoTokenizer of BERT (distilbert-base-uncased): \\n{tokens}')\n",
    "print()\n",
    "print(f'Number of the original token IDs: {len(example_sentence_id)} >>>  \\n{example_sentence_id}')\n",
    "print()\n",
    "print(f'Number of the tokens and subword token IDs: {len(tokenized_input.word_ids())} >>> \\n{tokenized_input.word_ids()}')\n",
    "print()\n",
    "print(f'Representation of the input IDs: \\n{tokenized_input['input_ids']}') \n",
    "print()\n",
    "print(f'Representation of the attention mask: \\n{tokenized_input['attention_mask']}')"
   ]
  },
  {
   "cell_type": "code",
   "execution_count": 74,
   "id": "fe74bf33-e16e-4c2c-a0ca-f7f2189c3a34",
   "metadata": {},
   "outputs": [],
   "source": [
    "label_all_tokens = True\n",
    "\n",
    "def tokenize_and_align_labels(dataset):\n",
    "    tokenized_inputs = tokenizer(dataset[\"token\"], truncation=True, is_split_into_words=True)\n",
    "    labels = []\n",
    "    tokenized_ids = []\n",
    "    for i, label in enumerate(dataset[\"labels\"]):\n",
    "        word_ids = tokenized_inputs.word_ids(batch_index=i)\n",
    "        previous_word_idx = None\n",
    "        label_ids = []\n",
    "        for word_idx in word_ids:\n",
    "            if word_idx is None:\n",
    "                label_ids.append(-100)\n",
    "            elif word_idx != previous_word_idx:\n",
    "                label_ids.append(label[word_idx])\n",
    "            else:\n",
    "                label_ids.append(label[word_idx] if label_all_tokens else -100)\n",
    "            previous_word_idx = word_idx\n",
    "\n",
    "        labels.append(label_ids)\n",
    "        tokenized_ids.append(word_ids)\n",
    "    tokenized_inputs[\"t_word_id\"] = tokenized_ids\n",
    "    tokenized_inputs[\"labels\"] = labels\n",
    "    return tokenized_inputs"
   ]
  },
  {
   "cell_type": "code",
   "execution_count": 75,
   "id": "5f1e07c2-0d56-49a6-9454-e48e485926a0",
   "metadata": {},
   "outputs": [
    {
     "data": {
      "application/vnd.jupyter.widget-view+json": {
       "model_id": "489392a68e154704a93470a6c823c45e",
       "version_major": 2,
       "version_minor": 0
      },
      "text/plain": [
       "Map:   0%|          | 0/28357 [00:00<?, ? examples/s]"
      ]
     },
     "metadata": {},
     "output_type": "display_data"
    },
    {
     "data": {
      "application/vnd.jupyter.widget-view+json": {
       "model_id": "bef3a06135f745c59826304ed44da450",
       "version_major": 2,
       "version_minor": 0
      },
      "text/plain": [
       "Map:   0%|          | 0/2191 [00:00<?, ? examples/s]"
      ]
     },
     "metadata": {},
     "output_type": "display_data"
    },
    {
     "data": {
      "application/vnd.jupyter.widget-view+json": {
       "model_id": "db2d5ea49495434e8272fd98ee49dd49",
       "version_major": 2,
       "version_minor": 0
      },
      "text/plain": [
       "Map:   0%|          | 0/4067 [00:00<?, ? examples/s]"
      ]
     },
     "metadata": {},
     "output_type": "display_data"
    }
   ],
   "source": [
    "tokenized_training_dataset = training_dataset.map(tokenize_and_align_labels, batched=True)\n",
    "tokenized_fce_dev_dataset = fce_dev_dataset.map(tokenize_and_align_labels, batched = True)\n",
    "tokenized_realec_dev_dataset = realec_dev_dataset.map(tokenize_and_align_labels, batched =True)"
   ]
  },
  {
   "cell_type": "code",
   "execution_count": 76,
   "id": "61c6035a-00c8-4e64-a6cf-3e2ca01d472d",
   "metadata": {},
   "outputs": [
    {
     "name": "stdout",
     "output_type": "stream",
     "text": [
      "{'id_token': [1, 2, 3, 4, 5, 6, 7, 8, 9, 10, 11, 12, 13, 14, 15, 16, 17, 18, 19, 20, 21, 22, 23, 24, 25, 26, 27, 28, 29, 30], 'token': ['I', 'convinced', 'them', 'to', 'go', 'there', 'with', 'me', 'because', 'I', 'had', 'heard', 'good', 'references', 'about', 'your', 'Company', 'and', ',', 'above', 'all', ',', 'about', 'the', 'main', 'star', ',', 'Danny', 'Brook', '.'], 'labels': [-100, 0, 0, 0, 0, 0, 0, 0, 0, 0, 0, 0, 0, 0, 1, 1, 0, 0, 0, 0, 0, 0, 0, 1, 0, 0, 0, 0, 0, 0, 0, -100], 'input_ids': [101, 146, 5857, 1172, 1106, 1301, 1175, 1114, 1143, 1272, 146, 1125, 1767, 1363, 7732, 1164, 1240, 1881, 1105, 117, 1807, 1155, 117, 1164, 1103, 1514, 2851, 117, 5595, 10597, 119, 102], 'token_type_ids': [0, 0, 0, 0, 0, 0, 0, 0, 0, 0, 0, 0, 0, 0, 0, 0, 0, 0, 0, 0, 0, 0, 0, 0, 0, 0, 0, 0, 0, 0, 0, 0], 'attention_mask': [1, 1, 1, 1, 1, 1, 1, 1, 1, 1, 1, 1, 1, 1, 1, 1, 1, 1, 1, 1, 1, 1, 1, 1, 1, 1, 1, 1, 1, 1, 1, 1], 't_word_id': [None, 0, 1, 2, 3, 4, 5, 6, 7, 8, 9, 10, 11, 12, 13, 14, 15, 16, 17, 18, 19, 20, 21, 22, 23, 24, 25, 26, 27, 28, 29, None]}\n"
     ]
    }
   ],
   "source": [
    "print(tokenized_training_dataset[3])"
   ]
  },
  {
   "cell_type": "markdown",
   "id": "d6d25af4-8525-4d6c-af52-0b7f51c42bb0",
   "metadata": {},
   "source": [
    "### Training"
   ]
  },
  {
   "cell_type": "code",
   "execution_count": 84,
   "id": "3fb00be2-1576-4efa-a38f-ae1f44f9f792",
   "metadata": {},
   "outputs": [
    {
     "name": "stderr",
     "output_type": "stream",
     "text": [
      "/home/elisabetta/anaconda3/lib/python3.12/site-packages/torch/cuda/__init__.py:734: UserWarning: Can't initialize NVML\n",
      "  warnings.warn(\"Can't initialize NVML\")\n"
     ]
    }
   ],
   "source": [
    "SEED = 1234\n",
    "random.seed(SEED)   \n",
    "np.random.seed(SEED)  \n",
    "set_seed(SEED)  \n",
    "\n",
    "model_name = model_checkpoint.split(\"/\")[-1]\n",
    "args = TrainingArguments(\n",
    "    f\"{model_name}-finetuned-{task}\",\n",
    "    evaluation_strategy=\"epoch\",  # <- fixed here\n",
    "    learning_rate=2e-5,\n",
    "    per_device_train_batch_size=batch_size,\n",
    "    per_device_eval_batch_size=batch_size,\n",
    "    num_train_epochs=3,\n",
    "    weight_decay=0.01,\n",
    "    seed=SEED,\n",
    "    report_to=None,\n",
    ")"
   ]
  },
  {
   "cell_type": "code",
   "execution_count": 86,
   "id": "a4bd9b0c-3812-4534-97a8-fe42a8f2d5ba",
   "metadata": {},
   "outputs": [
    {
     "name": "stderr",
     "output_type": "stream",
     "text": [
      "/home/elisabetta/anaconda3/lib/python3.12/site-packages/huggingface_hub/file_download.py:797: FutureWarning: `resume_download` is deprecated and will be removed in version 1.0.0. Downloads always resume when possible. If you want to force a new download, use `force_download=True`.\n",
      "  warnings.warn(\n",
      "Some weights of BertForTokenClassification were not initialized from the model checkpoint at bert-large-cased and are newly initialized: ['classifier.bias', 'classifier.weight']\n",
      "You should probably TRAIN this model on a down-stream task to be able to use it for predictions and inference.\n"
     ]
    }
   ],
   "source": [
    "data_collator = DataCollatorForTokenClassification(tokenizer)\n",
    "model = AutoModelForTokenClassification.from_pretrained(model_checkpoint, num_labels=len(multiged_labels))"
   ]
  },
  {
   "cell_type": "code",
   "execution_count": 87,
   "id": "348161bd-760b-436b-991d-d9f4b82054ba",
   "metadata": {},
   "outputs": [],
   "source": [
    "metric = load(\"seqeval\")"
   ]
  },
  {
   "cell_type": "code",
   "execution_count": 90,
   "id": "91a96c8d-f02c-4fdd-8fcf-963095126e4c",
   "metadata": {},
   "outputs": [],
   "source": [
    "def compute_metrics(p):\n",
    "    predictions, labels = p\n",
    "    predictions = np.argmax(predictions, axis=2)\n",
    "\n",
    "    true_predictions = [\n",
    "        [multiged_labels[p] for (p, l) in zip(prediction, label) if l != -100]\n",
    "        for prediction, label in zip(predictions, labels)\n",
    "    ]\n",
    "    true_labels = [\n",
    "        [multiged_labels[l] for (p, l) in zip(prediction, label) if l != -100]\n",
    "        for prediction, label in zip(predictions, labels)\n",
    "    ]\n",
    "\n",
    "    results = metric.compute(predictions=true_predictions, references=true_labels)\n",
    "    return {\n",
    "        \"precision\": results[\"overall_precision\"],\n",
    "        \"recall\": results[\"overall_recall\"],\n",
    "        \"f1\": results[\"overall_f1\"],\n",
    "        \"accuracy\": results[\"overall_accuracy\"],\n",
    "    }"
   ]
  },
  {
   "cell_type": "code",
   "execution_count": 92,
   "id": "58118ca5-6e26-4d3e-b40d-45cbbde06402",
   "metadata": {},
   "outputs": [],
   "source": [
    "trainer = Trainer(\n",
    "    model,\n",
    "    args,\n",
    "    train_dataset=tokenized_training_dataset,\n",
    "    eval_dataset=tokenized_fce_dev_dataset,\n",
    "    data_collator=data_collator,\n",
    "    tokenizer=tokenizer,\n",
    "    compute_metrics=compute_metrics\n",
    ")\n",
    "\n",
    "#justify why only 3 epochs: to save on computational. try with a higher epoch and then check when the accuracy starts going down and choose that as a best system.\n",
    "# it could be that the development could be different. "
   ]
  },
  {
   "cell_type": "code",
   "execution_count": 25,
   "id": "438cc87a-d8c7-4e0e-82e7-db37639ef08b",
   "metadata": {
    "scrolled": true
   },
   "outputs": [
    {
     "data": {
      "text/html": [
       "\n",
       "    <div>\n",
       "      \n",
       "      <progress value='10635' max='10635' style='width:300px; height:20px; vertical-align: middle;'></progress>\n",
       "      [10635/10635 12:02:25, Epoch 3/3]\n",
       "    </div>\n",
       "    <table border=\"1\" class=\"dataframe\">\n",
       "  <thead>\n",
       " <tr style=\"text-align: left;\">\n",
       "      <th>Epoch</th>\n",
       "      <th>Training Loss</th>\n",
       "      <th>Validation Loss</th>\n",
       "      <th>Precision</th>\n",
       "      <th>Recall</th>\n",
       "      <th>F1</th>\n",
       "      <th>Accuracy</th>\n",
       "    </tr>\n",
       "  </thead>\n",
       "  <tbody>\n",
       "    <tr>\n",
       "      <td>1</td>\n",
       "      <td>0.198100</td>\n",
       "      <td>0.202292</td>\n",
       "      <td>0.000000</td>\n",
       "      <td>0.000000</td>\n",
       "      <td>0.000000</td>\n",
       "      <td>0.921546</td>\n",
       "    </tr>\n",
       "    <tr>\n",
       "      <td>2</td>\n",
       "      <td>0.142900</td>\n",
       "      <td>0.219686</td>\n",
       "      <td>0.000000</td>\n",
       "      <td>0.000000</td>\n",
       "      <td>0.000000</td>\n",
       "      <td>0.925399</td>\n",
       "    </tr>\n",
       "    <tr>\n",
       "      <td>3</td>\n",
       "      <td>0.081900</td>\n",
       "      <td>0.269304</td>\n",
       "      <td>0.000000</td>\n",
       "      <td>0.000000</td>\n",
       "      <td>0.000000</td>\n",
       "      <td>0.924889</td>\n",
       "    </tr>\n",
       "  </tbody>\n",
       "</table><p>"
      ],
      "text/plain": [
       "<IPython.core.display.HTML object>"
      ]
     },
     "metadata": {},
     "output_type": "display_data"
    },
    {
     "name": "stderr",
     "output_type": "stream",
     "text": [
      "/home/elisabetta/anaconda3/lib/python3.12/site-packages/seqeval/metrics/sequence_labeling.py:171: UserWarning: c seems not to be NE tag.\n",
      "  warnings.warn('{} seems not to be NE tag.'.format(chunk))\n",
      "/home/elisabetta/anaconda3/lib/python3.12/site-packages/seqeval/metrics/sequence_labeling.py:171: UserWarning: i seems not to be NE tag.\n",
      "  warnings.warn('{} seems not to be NE tag.'.format(chunk))\n",
      "/home/elisabetta/anaconda3/lib/python3.12/site-packages/seqeval/metrics/v1.py:57: UndefinedMetricWarning: Precision and F-score are ill-defined and being set to 0.0 due to no predicted samples. Use `zero_division` parameter to control this behavior.\n",
      "  _warn_prf(average, modifier, msg_start, len(result))\n",
      "/home/elisabetta/anaconda3/lib/python3.12/site-packages/seqeval/metrics/v1.py:57: UndefinedMetricWarning: Recall and F-score are ill-defined and being set to 0.0 due to no true samples. Use `zero_division` parameter to control this behavior.\n",
      "  _warn_prf(average, modifier, msg_start, len(result))\n",
      "/home/elisabetta/anaconda3/lib/python3.12/site-packages/numpy/lib/function_base.py:520: RuntimeWarning: Mean of empty slice.\n",
      "  avg = a.mean(axis, **keepdims_kw)\n",
      "/home/elisabetta/anaconda3/lib/python3.12/site-packages/numpy/core/_methods.py:129: RuntimeWarning: invalid value encountered in scalar divide\n",
      "  ret = ret.dtype.type(ret / rcount)\n",
      "/home/elisabetta/anaconda3/lib/python3.12/site-packages/seqeval/metrics/sequence_labeling.py:171: UserWarning: c seems not to be NE tag.\n",
      "  warnings.warn('{} seems not to be NE tag.'.format(chunk))\n",
      "/home/elisabetta/anaconda3/lib/python3.12/site-packages/seqeval/metrics/sequence_labeling.py:171: UserWarning: i seems not to be NE tag.\n",
      "  warnings.warn('{} seems not to be NE tag.'.format(chunk))\n",
      "/home/elisabetta/anaconda3/lib/python3.12/site-packages/seqeval/metrics/v1.py:57: UndefinedMetricWarning: Precision and F-score are ill-defined and being set to 0.0 due to no predicted samples. Use `zero_division` parameter to control this behavior.\n",
      "  _warn_prf(average, modifier, msg_start, len(result))\n",
      "/home/elisabetta/anaconda3/lib/python3.12/site-packages/seqeval/metrics/v1.py:57: UndefinedMetricWarning: Recall and F-score are ill-defined and being set to 0.0 due to no true samples. Use `zero_division` parameter to control this behavior.\n",
      "  _warn_prf(average, modifier, msg_start, len(result))\n",
      "/home/elisabetta/anaconda3/lib/python3.12/site-packages/numpy/lib/function_base.py:520: RuntimeWarning: Mean of empty slice.\n",
      "  avg = a.mean(axis, **keepdims_kw)\n",
      "/home/elisabetta/anaconda3/lib/python3.12/site-packages/numpy/core/_methods.py:129: RuntimeWarning: invalid value encountered in scalar divide\n",
      "  ret = ret.dtype.type(ret / rcount)\n",
      "/home/elisabetta/anaconda3/lib/python3.12/site-packages/seqeval/metrics/sequence_labeling.py:171: UserWarning: c seems not to be NE tag.\n",
      "  warnings.warn('{} seems not to be NE tag.'.format(chunk))\n",
      "/home/elisabetta/anaconda3/lib/python3.12/site-packages/seqeval/metrics/sequence_labeling.py:171: UserWarning: i seems not to be NE tag.\n",
      "  warnings.warn('{} seems not to be NE tag.'.format(chunk))\n",
      "/home/elisabetta/anaconda3/lib/python3.12/site-packages/seqeval/metrics/v1.py:57: UndefinedMetricWarning: Precision and F-score are ill-defined and being set to 0.0 due to no predicted samples. Use `zero_division` parameter to control this behavior.\n",
      "  _warn_prf(average, modifier, msg_start, len(result))\n",
      "/home/elisabetta/anaconda3/lib/python3.12/site-packages/seqeval/metrics/v1.py:57: UndefinedMetricWarning: Recall and F-score are ill-defined and being set to 0.0 due to no true samples. Use `zero_division` parameter to control this behavior.\n",
      "  _warn_prf(average, modifier, msg_start, len(result))\n",
      "/home/elisabetta/anaconda3/lib/python3.12/site-packages/numpy/lib/function_base.py:520: RuntimeWarning: Mean of empty slice.\n",
      "  avg = a.mean(axis, **keepdims_kw)\n",
      "/home/elisabetta/anaconda3/lib/python3.12/site-packages/numpy/core/_methods.py:129: RuntimeWarning: invalid value encountered in scalar divide\n",
      "  ret = ret.dtype.type(ret / rcount)\n"
     ]
    },
    {
     "data": {
      "text/plain": [
       "TrainOutput(global_step=10635, training_loss=0.1478013326934542, metrics={'train_runtime': 43350.4392, 'train_samples_per_second': 1.962, 'train_steps_per_second': 0.245, 'total_flos': 6056753106651372.0, 'train_loss': 0.1478013326934542, 'epoch': 3.0})"
      ]
     },
     "execution_count": 25,
     "metadata": {},
     "output_type": "execute_result"
    }
   ],
   "source": [
    "trainer.train()"
   ]
  },
  {
   "cell_type": "markdown",
   "id": "5f481fe7-b3d7-4506-ba04-f423d2e960b4",
   "metadata": {},
   "source": [
    "### Saving the fine-tuned model"
   ]
  },
  {
   "cell_type": "code",
   "execution_count": 27,
   "id": "bf905912-b011-4229-8632-1f7af2b3fd48",
   "metadata": {},
   "outputs": [
    {
     "data": {
      "text/plain": [
       "('fine_tuned_ged_large_cased_bert/tokenizer_config.json',\n",
       " 'fine_tuned_ged_large_cased_bert/special_tokens_map.json',\n",
       " 'fine_tuned_ged_large_cased_bert/vocab.txt',\n",
       " 'fine_tuned_ged_large_cased_bert/added_tokens.json',\n",
       " 'fine_tuned_ged_large_cased_bert/tokenizer.json')"
      ]
     },
     "execution_count": 27,
     "metadata": {},
     "output_type": "execute_result"
    }
   ],
   "source": [
    "trainer.save_model('fine_tuned_ged_large_cased_bert')\n",
    "trainer.tokenizer.save_pretrained('fine_tuned_ged_large_cased_bert')"
   ]
  },
  {
   "cell_type": "markdown",
   "id": "a2040139-e51c-488b-b565-7abaaf5a1732",
   "metadata": {},
   "source": [
    "### Loading the fine-tuned model"
   ]
  },
  {
   "cell_type": "code",
   "execution_count": 94,
   "id": "c49be599-7774-4acc-824a-2a5450fd0204",
   "metadata": {},
   "outputs": [],
   "source": [
    "from transformers import AutoTokenizer, AutoModelForTokenClassification, Trainer\n",
    "model_name = 'fine_tuned_ged_large_cased_bert'\n",
    "model = AutoModelForTokenClassification.from_pretrained('fine_tuned_ged_large_cased_bert')\n",
    "tokenizer = AutoTokenizer.from_pretrained('fine_tuned_ged_large_cased_bert', use_fast=True)"
   ]
  },
  {
   "cell_type": "code",
   "execution_count": 96,
   "id": "b47d3aa0-8932-4e49-86c0-dc4c49b15937",
   "metadata": {},
   "outputs": [],
   "source": [
    "trainer = Trainer(\n",
    "    model,\n",
    "    args,\n",
    "    train_dataset=tokenized_training_dataset,\n",
    "    eval_dataset=tokenized_fce_dev_dataset,\n",
    "    data_collator=data_collator,\n",
    "    tokenizer=tokenizer,\n",
    "    compute_metrics=compute_metrics\n",
    ")"
   ]
  },
  {
   "cell_type": "code",
   "execution_count": 98,
   "id": "4b6935e5-dc13-4a74-8eba-d120624095d9",
   "metadata": {},
   "outputs": [
    {
     "data": {
      "text/html": [],
      "text/plain": [
       "<IPython.core.display.HTML object>"
      ]
     },
     "metadata": {},
     "output_type": "display_data"
    },
    {
     "name": "stderr",
     "output_type": "stream",
     "text": [
      "/home/elisabetta/anaconda3/lib/python3.12/site-packages/seqeval/metrics/sequence_labeling.py:171: UserWarning: c seems not to be NE tag.\n",
      "  warnings.warn('{} seems not to be NE tag.'.format(chunk))\n",
      "/home/elisabetta/anaconda3/lib/python3.12/site-packages/seqeval/metrics/sequence_labeling.py:171: UserWarning: i seems not to be NE tag.\n",
      "  warnings.warn('{} seems not to be NE tag.'.format(chunk))\n",
      "/home/elisabetta/anaconda3/lib/python3.12/site-packages/seqeval/metrics/v1.py:57: UndefinedMetricWarning: Precision and F-score are ill-defined and being set to 0.0 due to no predicted samples. Use `zero_division` parameter to control this behavior.\n",
      "  _warn_prf(average, modifier, msg_start, len(result))\n",
      "/home/elisabetta/anaconda3/lib/python3.12/site-packages/seqeval/metrics/v1.py:57: UndefinedMetricWarning: Recall and F-score are ill-defined and being set to 0.0 due to no true samples. Use `zero_division` parameter to control this behavior.\n",
      "  _warn_prf(average, modifier, msg_start, len(result))\n",
      "/home/elisabetta/anaconda3/lib/python3.12/site-packages/numpy/lib/function_base.py:520: RuntimeWarning: Mean of empty slice.\n",
      "  avg = a.mean(axis, **keepdims_kw)\n",
      "/home/elisabetta/anaconda3/lib/python3.12/site-packages/numpy/core/_methods.py:129: RuntimeWarning: invalid value encountered in scalar divide\n",
      "  ret = ret.dtype.type(ret / rcount)\n"
     ]
    },
    {
     "data": {
      "text/plain": [
       "{'eval_loss': 0.26930373907089233,\n",
       " 'eval_precision': 0.0,\n",
       " 'eval_recall': 0.0,\n",
       " 'eval_f1': 0.0,\n",
       " 'eval_accuracy': 0.9248889796335051,\n",
       " 'eval_runtime': 465.83,\n",
       " 'eval_samples_per_second': 4.703,\n",
       " 'eval_steps_per_second': 0.588}"
      ]
     },
     "execution_count": 98,
     "metadata": {},
     "output_type": "execute_result"
    }
   ],
   "source": [
    "trainer.evaluate()"
   ]
  },
  {
   "cell_type": "code",
   "execution_count": 99,
   "id": "743eb804-ff77-4460-aaad-6e043b9b9e9d",
   "metadata": {},
   "outputs": [],
   "source": [
    "predictions, labels, _ = trainer.predict(tokenized_fce_dev_dataset)\n",
    "predictions = np.argmax(predictions, axis=2)"
   ]
  },
  {
   "cell_type": "markdown",
   "id": "c96c297e-eb6a-41e9-a0d1-066c19e90a02",
   "metadata": {},
   "source": [
    "### Postprocessing (FCE)"
   ]
  },
  {
   "cell_type": "code",
   "execution_count": 101,
   "id": "a821110a-52bd-4f76-9c63-abf0aa781e38",
   "metadata": {},
   "outputs": [
    {
     "name": "stdout",
     "output_type": "stream",
     "text": [
      "Results saved to fce_ged_large_cased_bert.tsv\n"
     ]
    }
   ],
   "source": [
    "output_file_path = \"fce_ged_large_cased_bert.tsv\"\n",
    "dev_fce_tokens, dev_fce_labels, dev_fce_predictions = thesis_utils.map_predictions_to_words_and_save_to_file(predictions, labels, tokenized_fce_dev_dataset, output_file_path,multiged_labels,tokenizer)"
   ]
  },
  {
   "cell_type": "markdown",
   "id": "7e63390d-8916-4c9a-bcf4-18280849652b",
   "metadata": {},
   "source": [
    "### Results and Confusion Metrix (FCE)"
   ]
  },
  {
   "cell_type": "code",
   "execution_count": 103,
   "id": "924400cb-33cb-4966-a3eb-a7f0f05fc516",
   "metadata": {},
   "outputs": [
    {
     "name": "stdout",
     "output_type": "stream",
     "text": [
      "              precision    recall    f0.5-score    support\n",
      "c               0.9457    0.978522    0.95211        31288\n",
      "i               0.7171    0.492197    0.65702        3460\n",
      "\n",
      "micro avg       0.9301    0.930097    0.93010        34748\n",
      "macro avg       0.8314    0.735359    0.80457        34748\n"
     ]
    },
    {
     "data": {
      "image/png": "[encoded data removed]",
      "text/plain": [
       "<Figure size 800x600 with 2 Axes>"
      ]
     },
     "metadata": {},
     "output_type": "display_data"
    }
   ],
   "source": [
    "thesis_utils.evaluate_predictions(dev_fce_predictions, dev_fce_labels)"
   ]
  },
  {
   "cell_type": "code",
   "execution_count": 104,
   "id": "1075bcce-5f81-4f10-a40e-0bc8928ba7f4",
   "metadata": {},
   "outputs": [],
   "source": [
    "trainer = Trainer(\n",
    "    model,\n",
    "    args,\n",
    "    train_dataset=tokenized_training_dataset,\n",
    "    eval_dataset=tokenized_realec_dev_dataset,\n",
    "    data_collator=data_collator,\n",
    "    tokenizer=tokenizer,\n",
    "    compute_metrics=compute_metrics\n",
    ")"
   ]
  },
  {
   "cell_type": "code",
   "execution_count": 105,
   "id": "e2262c0f-d7eb-4ec3-95af-88103a352007",
   "metadata": {},
   "outputs": [
    {
     "data": {
      "text/html": [],
      "text/plain": [
       "<IPython.core.display.HTML object>"
      ]
     },
     "metadata": {},
     "output_type": "display_data"
    },
    {
     "name": "stderr",
     "output_type": "stream",
     "text": [
      "/home/elisabetta/anaconda3/lib/python3.12/site-packages/seqeval/metrics/sequence_labeling.py:171: UserWarning: c seems not to be NE tag.\n",
      "  warnings.warn('{} seems not to be NE tag.'.format(chunk))\n",
      "/home/elisabetta/anaconda3/lib/python3.12/site-packages/seqeval/metrics/sequence_labeling.py:171: UserWarning: i seems not to be NE tag.\n",
      "  warnings.warn('{} seems not to be NE tag.'.format(chunk))\n",
      "/home/elisabetta/anaconda3/lib/python3.12/site-packages/seqeval/metrics/v1.py:57: UndefinedMetricWarning: Precision and F-score are ill-defined and being set to 0.0 due to no predicted samples. Use `zero_division` parameter to control this behavior.\n",
      "  _warn_prf(average, modifier, msg_start, len(result))\n",
      "/home/elisabetta/anaconda3/lib/python3.12/site-packages/seqeval/metrics/v1.py:57: UndefinedMetricWarning: Recall and F-score are ill-defined and being set to 0.0 due to no true samples. Use `zero_division` parameter to control this behavior.\n",
      "  _warn_prf(average, modifier, msg_start, len(result))\n",
      "/home/elisabetta/anaconda3/lib/python3.12/site-packages/numpy/lib/function_base.py:520: RuntimeWarning: Mean of empty slice.\n",
      "  avg = a.mean(axis, **keepdims_kw)\n",
      "/home/elisabetta/anaconda3/lib/python3.12/site-packages/numpy/core/_methods.py:129: RuntimeWarning: invalid value encountered in scalar divide\n",
      "  ret = ret.dtype.type(ret / rcount)\n"
     ]
    },
    {
     "data": {
      "text/plain": [
       "{'eval_loss': 0.4033292531967163,\n",
       " 'eval_precision': 0.0,\n",
       " 'eval_recall': 0.0,\n",
       " 'eval_f1': 0.0,\n",
       " 'eval_accuracy': 0.8964170143915524,\n",
       " 'eval_runtime': 568.3439,\n",
       " 'eval_samples_per_second': 7.156,\n",
       " 'eval_steps_per_second': 0.896}"
      ]
     },
     "execution_count": 105,
     "metadata": {},
     "output_type": "execute_result"
    }
   ],
   "source": [
    "trainer.evaluate()"
   ]
  },
  {
   "cell_type": "code",
   "execution_count": 106,
   "id": "d02daee6-5fb9-41bc-9baf-b7994f9c4bc0",
   "metadata": {},
   "outputs": [],
   "source": [
    "predictions, labels, _ = trainer.predict(tokenized_realec_dev_dataset)\n",
    "predictions = np.argmax(predictions, axis=2)"
   ]
  },
  {
   "cell_type": "markdown",
   "id": "750d966e-0ca3-4732-8327-bfb3ea309ef5",
   "metadata": {},
   "source": [
    "### Postprocessing (REALEC)"
   ]
  },
  {
   "cell_type": "code",
   "execution_count": 108,
   "id": "a8c111e5-ba42-496b-a54c-0e59669bd2fc",
   "metadata": {},
   "outputs": [
    {
     "name": "stdout",
     "output_type": "stream",
     "text": [
      "Results saved to realec_ged_large_cased_bert.tsv\n"
     ]
    }
   ],
   "source": [
    "output_file_path = \"realec_ged_large_cased_bert.tsv\"\n",
    "dev_realec_tokens, dev_realec_labels, dev_realec_predictions = thesis_utils.map_predictions_to_words_and_save_to_file(predictions, labels, tokenized_realec_dev_dataset, output_file_path,multiged_labels,tokenizer)"
   ]
  },
  {
   "cell_type": "markdown",
   "id": "dc27fe5e-7705-4443-ab0c-68101969061d",
   "metadata": {},
   "source": [
    "### Results and Confusion Metrix (REALEC)"
   ]
  },
  {
   "cell_type": "code",
   "execution_count": 110,
   "id": "1e8ca823-f0bc-4357-8d9d-27ec7b516c4e",
   "metadata": {},
   "outputs": [
    {
     "name": "stdout",
     "output_type": "stream",
     "text": [
      "              precision    recall    f0.5-score    support\n",
      "c               0.9400    0.949002    0.94181        79905\n",
      "i               0.4448    0.402937    0.43576        8103\n",
      "\n",
      "micro avg       0.8987    0.898725    0.89873        88008\n",
      "macro avg       0.6924    0.675970    0.68879        88008\n"
     ]
    },
    {
     "data": {
      "image/png": "[encoded data removed]",
      "text/plain": [
       "<Figure size 800x600 with 2 Axes>"
      ]
     },
     "metadata": {},
     "output_type": "display_data"
    }
   ],
   "source": [
    "thesis_utils.evaluate_predictions(dev_realec_predictions, dev_realec_labels)"
   ]
  },
  {
   "cell_type": "code",
   "execution_count": null,
   "id": "612dfe2f-1e15-478f-86bf-889e95c5d660",
   "metadata": {},
   "outputs": [],
   "source": []
  }
 ],
 "metadata": {
  "kernelspec": {
   "display_name": "Python 3 (ipykernel)",
   "language": "python",
   "name": "python3"
  },
  "language_info": {
   "codemirror_mode": {
    "name": "ipython",
    "version": 3
   },
   "file_extension": ".py",
   "mimetype": "text/x-python",
   "name": "python",
   "nbconvert_exporter": "python",
   "pygments_lexer": "ipython3",
   "version": "3.12.2"
  }
 },
 "nbformat": 4,
 "nbformat_minor": 5
}

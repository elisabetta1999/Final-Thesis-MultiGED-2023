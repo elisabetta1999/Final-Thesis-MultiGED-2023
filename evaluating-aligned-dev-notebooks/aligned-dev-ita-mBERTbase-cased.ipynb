{
 "cells": [
  {
   "cell_type": "markdown",
   "id": "7899ceac-0980-4df9-ba59-1a50b9e9c48c",
   "metadata": {},
   "source": [
    "# bert-base-multilingual-cased"
   ]
  },
  {
   "cell_type": "code",
   "execution_count": 3,
   "id": "9b6f9a7d-1f18-41ad-82a1-c29afbc3030d",
   "metadata": {},
   "outputs": [
    {
     "name": "stderr",
     "output_type": "stream",
     "text": [
      "/home/elisabetta/anaconda3/lib/python3.12/site-packages/torch/cuda/__init__.py:734: UserWarning: Can't initialize NVML\n",
      "  warnings.warn(\"Can't initialize NVML\")\n",
      "comet_ml is installed but `COMET_API_KEY` is not set.\n"
     ]
    }
   ],
   "source": [
    "from transformers import AutoTokenizer, AutoModelForTokenClassification, TrainingArguments, Trainer, set_seed\n",
    "from transformers import DataCollatorForTokenClassification\n",
    "import pandas as pd\n",
    "import thesis_utils\n",
    "from datasets import Dataset\n",
    "from datasets import Sequence, ClassLabel, Features, Value\n",
    "from evaluate import load\n",
    "import random\n",
    "import numpy as np\n",
    "import csv\n",
    "from collections import Counter\n",
    "from sklearn.metrics import classification_report, confusion_matrix, ConfusionMatrixDisplay, accuracy_score\n",
    "import matplotlib.pyplot as plt\n",
    "import seaborn as sns\n",
    "%matplotlib inline\n",
    "from sklearn.metrics import precision_recall_fscore_support"
   ]
  },
  {
   "cell_type": "code",
   "execution_count": 4,
   "id": "e5713f44-bff3-4278-92c9-1fd6fe0d398e",
   "metadata": {},
   "outputs": [],
   "source": [
    "import warnings\n",
    "warnings.filterwarnings(\"ignore\", message=\".*seems not to be NE tag.*\")"
   ]
  },
  {
   "cell_type": "markdown",
   "id": "5bcfb8f9-2f03-4fd9-b06a-65ca2335559c",
   "metadata": {},
   "source": [
    "### Loading the model"
   ]
  },
  {
   "cell_type": "code",
   "execution_count": 6,
   "id": "646e987c-346b-4bb5-b72c-8331ea90d480",
   "metadata": {},
   "outputs": [
    {
     "name": "stderr",
     "output_type": "stream",
     "text": [
      "/home/elisabetta/anaconda3/lib/python3.12/site-packages/huggingface_hub/file_download.py:797: FutureWarning: `resume_download` is deprecated and will be removed in version 1.0.0. Downloads always resume when possible. If you want to force a new download, use `force_download=True`.\n",
      "  warnings.warn(\n"
     ]
    }
   ],
   "source": [
    "model_checkpoint = \"bert-base-multilingual-cased\"\n",
    "tokenizer = AutoTokenizer.from_pretrained(model_checkpoint)"
   ]
  },
  {
   "cell_type": "code",
   "execution_count": 11,
   "id": "c334b9a5-3cfa-463b-b3aa-78947cc5794c",
   "metadata": {},
   "outputs": [],
   "source": [
    "task = \"GED-it\"\n",
    "batch_size = 8"
   ]
  },
  {
   "cell_type": "markdown",
   "id": "61c06ba0-4cbb-45fb-a53e-cc7d99a5d522",
   "metadata": {},
   "source": [
    "### Preprocessing"
   ]
  },
  {
   "cell_type": "code",
   "execution_count": 14,
   "id": "bd204bcc-4cce-4052-b285-b3bb83916bf0",
   "metadata": {},
   "outputs": [],
   "source": [
    "multiged_merlin_train =  thesis_utils.read_tsv_file_and_find_sentences_without_headers('./MULTI-GED2023 DATA/it_merlin_train.tsv')\n",
    "multiged_merlin_dev =  thesis_utils.read_tsv_file_and_find_sentences_without_headers('./MULTI-GED2023 DATA/it_merlin_dev.tsv')\n",
    "\n",
    "processed_merlin_dev = thesis_utils.read_tsv_file_and_find_sentences_with_headers('./processed_merlin.tsv')"
   ]
  },
  {
   "cell_type": "code",
   "execution_count": 17,
   "id": "ed3c9530-8df5-4abc-a0c1-52c1d5d8c1d8",
   "metadata": {},
   "outputs": [
    {
     "name": "stdout",
     "output_type": "stream",
     "text": [
      "Number of training sentences: 6394\n",
      "Number of dev sentences: 758\n",
      "Number of processed dev sentences: 730\n",
      "\n",
      "Number of training tokens: 80335\n",
      "Number of dev tokens: 9144\n",
      "Number of processed dev tokens: 8850\n"
     ]
    }
   ],
   "source": [
    "print(f'Number of training sentences: {len(multiged_merlin_train)}')\n",
    "print(f'Number of dev sentences: {len(multiged_merlin_dev)}')\n",
    "print(f'Number of processed dev sentences: {len(processed_merlin_dev)}\\n')\n",
    "\n",
    "\n",
    "print(f'Number of training tokens: {thesis_utils.token_counter(multiged_merlin_train)}')\n",
    "print(f'Number of dev tokens: {thesis_utils.token_counter(multiged_merlin_dev)}')\n",
    "print(f'Number of processed dev tokens: {thesis_utils.token_counter(processed_merlin_dev)}')"
   ]
  },
  {
   "cell_type": "code",
   "execution_count": 19,
   "id": "72407d07-82b6-4d50-a58b-15aaf34f7b32",
   "metadata": {
    "scrolled": true
   },
   "outputs": [],
   "source": [
    "multiged_labels = ['c','i']\n",
    "training_sents_idx, training_sents_tokens, training_sents_gold = thesis_utils.get_list_ids_tokens_gold_finetuning(multiged_merlin_train, False)\n",
    "dev_sents_idx, dev_sents_tokens, dev_labels= thesis_utils.get_list_ids_tokens_gold_finetuning(multiged_merlin_dev, False)\n",
    "proc_dev_sents_idx, proc_dev_sents_tokens, proc_dev_labels = thesis_utils.get_list_ids_tokens_gold_finetuning(processed_merlin_dev, True)"
   ]
  },
  {
   "cell_type": "code",
   "execution_count": 21,
   "id": "c24eda75-4f40-4d09-ab63-791bc6561d3e",
   "metadata": {},
   "outputs": [],
   "source": [
    "training_list_dict = thesis_utils.create_list_dict(training_sents_idx, training_sents_tokens, training_sents_gold)\n",
    "dev_list_dict = thesis_utils.create_list_dict(dev_sents_idx, dev_sents_tokens, dev_labels)\n",
    "processed_dev_dict = thesis_utils.create_list_dict(proc_dev_sents_idx, proc_dev_sents_tokens, proc_dev_labels)"
   ]
  },
  {
   "cell_type": "code",
   "execution_count": 23,
   "id": "b24f9e23-1a7a-4c8a-ad67-a48c6000803e",
   "metadata": {},
   "outputs": [],
   "source": [
    "training_df = pd.DataFrame(training_list_dict)\n",
    "training_dataset = Dataset.from_pandas(training_df)\n",
    "\n",
    "dev_df = pd.DataFrame(dev_list_dict)\n",
    "dev_dataset = Dataset.from_pandas(dev_df)\n",
    "\n",
    "proc_df = pd.DataFrame(processed_dev_dict)\n",
    "proc_dataset =  Dataset.from_pandas(proc_df)"
   ]
  },
  {
   "cell_type": "code",
   "execution_count": 25,
   "id": "5438594c-278f-4255-9a0a-d8620cbcf3ec",
   "metadata": {
    "scrolled": true
   },
   "outputs": [
    {
     "data": {
      "application/vnd.jupyter.widget-view+json": {
       "model_id": "ab990c7c00ab4a55b90434c33a2d7f86",
       "version_major": 2,
       "version_minor": 0
      },
      "text/plain": [
       "Casting the dataset:   0%|          | 0/6394 [00:00<?, ? examples/s]"
      ]
     },
     "metadata": {},
     "output_type": "display_data"
    },
    {
     "data": {
      "application/vnd.jupyter.widget-view+json": {
       "model_id": "18f140e8c9cd4884b25ccaf48468cc0f",
       "version_major": 2,
       "version_minor": 0
      },
      "text/plain": [
       "Casting the dataset:   0%|          | 0/758 [00:00<?, ? examples/s]"
      ]
     },
     "metadata": {},
     "output_type": "display_data"
    },
    {
     "data": {
      "application/vnd.jupyter.widget-view+json": {
       "model_id": "8664b2f013bd480fb3e81f29739fb3f2",
       "version_major": 2,
       "version_minor": 0
      },
      "text/plain": [
       "Casting the dataset:   0%|          | 0/730 [00:00<?, ? examples/s]"
      ]
     },
     "metadata": {},
     "output_type": "display_data"
    }
   ],
   "source": [
    "new_features = Features({\n",
    "    \"id_token\": Sequence(Value(\"int64\")),\n",
    "    \"token\": Sequence(Value(\"string\")),\n",
    "    \"labels\": Sequence(ClassLabel(names=multiged_labels)),\n",
    "})\n",
    "\n",
    "training_dataset = training_dataset.cast(new_features)\n",
    "dev_dataset = dev_dataset.cast(new_features)\n",
    "proc_dataset = proc_dataset.cast(new_features)"
   ]
  },
  {
   "cell_type": "code",
   "execution_count": 27,
   "id": "692865ba-75ea-4548-b148-e8351ed28669",
   "metadata": {},
   "outputs": [],
   "source": [
    "label_all_tokens = True\n",
    "\n",
    "def tokenize_and_align_labels(dataset):\n",
    "    tokenized_inputs = tokenizer(dataset[\"token\"], truncation=True, is_split_into_words=True)\n",
    "    labels = []\n",
    "    tokenized_ids = []\n",
    "    for i, label in enumerate(dataset[\"labels\"]):\n",
    "        word_ids = tokenized_inputs.word_ids(batch_index=i)\n",
    "        previous_word_idx = None\n",
    "        label_ids = []\n",
    "        for word_idx in word_ids:\n",
    "            if word_idx is None:\n",
    "                label_ids.append(-100)\n",
    "            elif word_idx != previous_word_idx:\n",
    "                label_ids.append(label[word_idx])\n",
    "            else:\n",
    "                label_ids.append(label[word_idx] if label_all_tokens else -100)\n",
    "            previous_word_idx = word_idx\n",
    "\n",
    "        labels.append(label_ids)\n",
    "        tokenized_ids.append(word_ids)\n",
    "    tokenized_inputs[\"t_word_id\"] = tokenized_ids\n",
    "    tokenized_inputs[\"labels\"] = labels\n",
    "    return tokenized_inputs"
   ]
  },
  {
   "cell_type": "code",
   "execution_count": 29,
   "id": "5f1e07c2-0d56-49a6-9454-e48e485926a0",
   "metadata": {},
   "outputs": [
    {
     "data": {
      "application/vnd.jupyter.widget-view+json": {
       "model_id": "f664663be5e54c36a7500201f8808190",
       "version_major": 2,
       "version_minor": 0
      },
      "text/plain": [
       "Map:   0%|          | 0/6394 [00:00<?, ? examples/s]"
      ]
     },
     "metadata": {},
     "output_type": "display_data"
    },
    {
     "data": {
      "application/vnd.jupyter.widget-view+json": {
       "model_id": "4a5635c1bce54f50b3c3c72f9fcaae60",
       "version_major": 2,
       "version_minor": 0
      },
      "text/plain": [
       "Map:   0%|          | 0/758 [00:00<?, ? examples/s]"
      ]
     },
     "metadata": {},
     "output_type": "display_data"
    },
    {
     "data": {
      "application/vnd.jupyter.widget-view+json": {
       "model_id": "5a7319e71db046b58aa722baa29a57bb",
       "version_major": 2,
       "version_minor": 0
      },
      "text/plain": [
       "Map:   0%|          | 0/730 [00:00<?, ? examples/s]"
      ]
     },
     "metadata": {},
     "output_type": "display_data"
    }
   ],
   "source": [
    "tokenized_training_dataset = training_dataset.map(tokenize_and_align_labels, batched=True)\n",
    "tokenized_dev_dataset = dev_dataset.map(tokenize_and_align_labels, batched = True)\n",
    "tokenized_proc_dataset = proc_dataset.map(tokenize_and_align_labels, batched = True)"
   ]
  },
  {
   "cell_type": "markdown",
   "id": "0e03e1ab-61d3-4c2c-9106-1d818c98248e",
   "metadata": {},
   "source": [
    "### Training"
   ]
  },
  {
   "cell_type": "code",
   "execution_count": 32,
   "id": "3fb00be2-1576-4efa-a38f-ae1f44f9f792",
   "metadata": {},
   "outputs": [
    {
     "name": "stderr",
     "output_type": "stream",
     "text": [
      "/home/elisabetta/anaconda3/lib/python3.12/site-packages/torch/cuda/__init__.py:734: UserWarning: Can't initialize NVML\n",
      "  warnings.warn(\"Can't initialize NVML\")\n"
     ]
    }
   ],
   "source": [
    "SEED = 1234\n",
    "random.seed(SEED)   \n",
    "np.random.seed(SEED)  \n",
    "set_seed(SEED)  \n",
    "\n",
    "model_name = model_checkpoint.split(\"/\")[-1]\n",
    "args = TrainingArguments(\n",
    "    f\"{model_name}-finetuned-{task}\",\n",
    "    evaluation_strategy=\"epoch\",\n",
    "    learning_rate=2e-5,\n",
    "    per_device_train_batch_size=batch_size,\n",
    "    per_device_eval_batch_size=batch_size,\n",
    "    num_train_epochs=3,\n",
    "    weight_decay=0.01,\n",
    "    seed=SEED,\n",
    "    report_to=None,\n",
    ")"
   ]
  },
  {
   "cell_type": "code",
   "execution_count": 35,
   "id": "a4bd9b0c-3812-4534-97a8-fe42a8f2d5ba",
   "metadata": {},
   "outputs": [],
   "source": [
    "tokenizer = AutoTokenizer.from_pretrained('./cased_ged_ita_m-bert', use_fast=True)\n",
    "model = AutoModelForTokenClassification.from_pretrained('./cased_ged_ita_m-bert')\n",
    "\n",
    "data_collator = DataCollatorForTokenClassification(tokenizer)"
   ]
  },
  {
   "cell_type": "code",
   "execution_count": 37,
   "id": "348161bd-760b-436b-991d-d9f4b82054ba",
   "metadata": {},
   "outputs": [],
   "source": [
    "metric = load(\"seqeval\")"
   ]
  },
  {
   "cell_type": "code",
   "execution_count": 39,
   "id": "91a96c8d-f02c-4fdd-8fcf-963095126e4c",
   "metadata": {},
   "outputs": [],
   "source": [
    "def compute_metrics(p):\n",
    "    predictions, labels = p\n",
    "    predictions = np.argmax(predictions, axis=2)\n",
    "\n",
    "    true_predictions = [\n",
    "        [multiged_labels[p] for (p, l) in zip(prediction, label) if l != -100]\n",
    "        for prediction, label in zip(predictions, labels)\n",
    "    ]\n",
    "    true_labels = [\n",
    "        [multiged_labels[l] for (p, l) in zip(prediction, label) if l != -100]\n",
    "        for prediction, label in zip(predictions, labels)\n",
    "    ]\n",
    "\n",
    "    results = metric.compute(predictions=true_predictions, references=true_labels)\n",
    "    return {\n",
    "        \"precision\": results[\"overall_precision\"],\n",
    "        \"recall\": results[\"overall_recall\"],\n",
    "        \"f1\": results[\"overall_f1\"],\n",
    "        \"accuracy\": results[\"overall_accuracy\"],\n",
    "    }"
   ]
  },
  {
   "cell_type": "code",
   "execution_count": 41,
   "id": "006b5cbc-d9fa-46f4-8675-6737f95d8d44",
   "metadata": {},
   "outputs": [],
   "source": [
    "trainer = Trainer(\n",
    "    model,\n",
    "    args,\n",
    "    train_dataset=tokenized_training_dataset,\n",
    "    eval_dataset=tokenized_proc_dataset,\n",
    "    data_collator=data_collator,\n",
    "    tokenizer=tokenizer,\n",
    "    compute_metrics=compute_metrics\n",
    ")"
   ]
  },
  {
   "cell_type": "code",
   "execution_count": 43,
   "id": "438cc87a-d8c7-4e0e-82e7-db37639ef08b",
   "metadata": {
    "scrolled": true
   },
   "outputs": [
    {
     "data": {
      "text/html": [],
      "text/plain": [
       "<IPython.core.display.HTML object>"
      ]
     },
     "metadata": {},
     "output_type": "display_data"
    },
    {
     "name": "stderr",
     "output_type": "stream",
     "text": [
      "/home/elisabetta/anaconda3/lib/python3.12/site-packages/seqeval/metrics/v1.py:57: UndefinedMetricWarning: Precision and F-score are ill-defined and being set to 0.0 due to no predicted samples. Use `zero_division` parameter to control this behavior.\n",
      "  _warn_prf(average, modifier, msg_start, len(result))\n",
      "/home/elisabetta/anaconda3/lib/python3.12/site-packages/seqeval/metrics/v1.py:57: UndefinedMetricWarning: Recall and F-score are ill-defined and being set to 0.0 due to no true samples. Use `zero_division` parameter to control this behavior.\n",
      "  _warn_prf(average, modifier, msg_start, len(result))\n",
      "/home/elisabetta/anaconda3/lib/python3.12/site-packages/numpy/lib/function_base.py:520: RuntimeWarning: Mean of empty slice.\n",
      "  avg = a.mean(axis, **keepdims_kw)\n",
      "/home/elisabetta/anaconda3/lib/python3.12/site-packages/numpy/core/_methods.py:129: RuntimeWarning: invalid value encountered in scalar divide\n",
      "  ret = ret.dtype.type(ret / rcount)\n"
     ]
    },
    {
     "data": {
      "text/plain": [
       "{'eval_loss': 0.295926958322525,\n",
       " 'eval_precision': 0.0,\n",
       " 'eval_recall': 0.0,\n",
       " 'eval_f1': 0.0,\n",
       " 'eval_accuracy': 0.9082089552238806,\n",
       " 'eval_runtime': 51.5001,\n",
       " 'eval_samples_per_second': 14.175,\n",
       " 'eval_steps_per_second': 1.786}"
      ]
     },
     "execution_count": 43,
     "metadata": {},
     "output_type": "execute_result"
    }
   ],
   "source": [
    "trainer.evaluate()"
   ]
  },
  {
   "cell_type": "code",
   "execution_count": 45,
   "id": "d2826666-10ae-4187-8180-ff78d9504e47",
   "metadata": {},
   "outputs": [
    {
     "name": "stderr",
     "output_type": "stream",
     "text": [
      "/home/elisabetta/anaconda3/lib/python3.12/site-packages/seqeval/metrics/v1.py:57: UndefinedMetricWarning: Precision and F-score are ill-defined and being set to 0.0 due to no predicted samples. Use `zero_division` parameter to control this behavior.\n",
      "  _warn_prf(average, modifier, msg_start, len(result))\n",
      "/home/elisabetta/anaconda3/lib/python3.12/site-packages/seqeval/metrics/v1.py:57: UndefinedMetricWarning: Recall and F-score are ill-defined and being set to 0.0 due to no true samples. Use `zero_division` parameter to control this behavior.\n",
      "  _warn_prf(average, modifier, msg_start, len(result))\n",
      "/home/elisabetta/anaconda3/lib/python3.12/site-packages/numpy/lib/function_base.py:520: RuntimeWarning: Mean of empty slice.\n",
      "  avg = a.mean(axis, **keepdims_kw)\n",
      "/home/elisabetta/anaconda3/lib/python3.12/site-packages/numpy/core/_methods.py:129: RuntimeWarning: invalid value encountered in scalar divide\n",
      "  ret = ret.dtype.type(ret / rcount)\n"
     ]
    }
   ],
   "source": [
    "predictions, labels, _ = trainer.predict(tokenized_proc_dataset)\n",
    "predictions = np.argmax(predictions, axis=2)"
   ]
  },
  {
   "cell_type": "code",
   "execution_count": 46,
   "id": "db18cd15-1190-412c-b713-27f2400dfd1c",
   "metadata": {},
   "outputs": [
    {
     "name": "stdout",
     "output_type": "stream",
     "text": [
      "Results saved to ./cosainutile2.tsv\n"
     ]
    }
   ],
   "source": [
    "output_file_path = './cosainutile2.tsv'\n",
    "proc_tokens, proc_labels, proc_predictions = thesis_utils.map_predictions_to_words_and_save_to_file_sentence(predictions, labels, tokenized_proc_dataset,output_file_path, multiged_labels,tokenizer)"
   ]
  },
  {
   "cell_type": "code",
   "execution_count": 51,
   "id": "8d14581b-023d-44d0-a420-68a9494f25df",
   "metadata": {},
   "outputs": [],
   "source": [
    "flat_predictions = [prediction for sentence in proc_predictions for prediction in sentence]\n",
    "flat_labels = [label for sentence in proc_labels for label in sentence]"
   ]
  },
  {
   "cell_type": "code",
   "execution_count": 53,
   "id": "5e5b0db0-2819-4bca-b9f4-ef10545a159e",
   "metadata": {},
   "outputs": [],
   "source": [
    "thesis_utils.add_predictions_to_tsv_with_empty_lines(\"processed_merlin.tsv\",proc_predictions,'proc_cased_ged_ita_m-bert.tsv')"
   ]
  },
  {
   "cell_type": "code",
   "execution_count": 56,
   "id": "47daac6c-2d3f-4e6d-a2bc-95e4a191cc7f",
   "metadata": {},
   "outputs": [
    {
     "name": "stdout",
     "output_type": "stream",
     "text": [
      "              precision    recall    f0.5-score    support\n",
      "c               0.9257    0.979161    0.93596        7678\n",
      "i               0.7805    0.485495    0.69594        1172\n",
      "\n",
      "micro avg       0.9138    0.913785    0.91379        8850\n",
      "macro avg       0.8531    0.732328    0.81595        8850\n"
     ]
    },
    {
     "data": {
      "image/png": "[encoded data removed]",
      "text/plain": [
       "<Figure size 800x600 with 2 Axes>"
      ]
     },
     "metadata": {},
     "output_type": "display_data"
    }
   ],
   "source": [
    "thesis_utils.evaluate_predictions(flat_predictions, flat_labels)"
   ]
  },
  {
   "cell_type": "code",
   "execution_count": null,
   "id": "e49053d4-c4ff-455f-bba7-53f529a551cf",
   "metadata": {},
   "outputs": [],
   "source": []
  }
 ],
 "metadata": {
  "kernelspec": {
   "display_name": "Python 3 (ipykernel)",
   "language": "python",
   "name": "python3"
  },
  "language_info": {
   "codemirror_mode": {
    "name": "ipython",
    "version": 3
   },
   "file_extension": ".py",
   "mimetype": "text/x-python",
   "name": "python",
   "nbconvert_exporter": "python",
   "pygments_lexer": "ipython3",
   "version": "3.12.2"
  }
 },
 "nbformat": 4,
 "nbformat_minor": 5
}

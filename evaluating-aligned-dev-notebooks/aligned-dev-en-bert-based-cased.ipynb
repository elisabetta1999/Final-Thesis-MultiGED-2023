{
 "cells": [
  {
   "cell_type": "markdown",
   "id": "2a69bae9-179d-4785-815d-1322daac46cc",
   "metadata": {},
   "source": [
    "# bert-large-cased"
   ]
  },
  {
   "cell_type": "code",
   "execution_count": 21,
   "id": "9b6f9a7d-1f18-41ad-82a1-c29afbc3030d",
   "metadata": {},
   "outputs": [],
   "source": [
    "from transformers import AutoTokenizer, AutoModelForTokenClassification, TrainingArguments, Trainer, set_seed\n",
    "from transformers import DataCollatorForTokenClassification\n",
    "import pandas as pd\n",
    "import thesis_utils\n",
    "from datasets import Dataset\n",
    "from datasets import Sequence, ClassLabel, Features, Value\n",
    "from evaluate import load\n",
    "import random\n",
    "import numpy as np\n",
    "import csv\n",
    "from collections import Counter\n",
    "from sklearn.metrics import classification_report, confusion_matrix, ConfusionMatrixDisplay, accuracy_score\n",
    "import matplotlib.pyplot as plt\n",
    "import seaborn as sns\n",
    "%matplotlib inline\n",
    "from sklearn.metrics import precision_recall_fscore_support"
   ]
  },
  {
   "cell_type": "code",
   "execution_count": 23,
   "id": "e5713f44-bff3-4278-92c9-1fd6fe0d398e",
   "metadata": {},
   "outputs": [],
   "source": [
    "import warnings\n",
    "warnings.filterwarnings(\"ignore\", message=\".*seems not to be NE tag.*\")"
   ]
  },
  {
   "cell_type": "markdown",
   "id": "5bcfb8f9-2f03-4fd9-b06a-65ca2335559c",
   "metadata": {},
   "source": [
    "### Loading the model"
   ]
  },
  {
   "cell_type": "code",
   "execution_count": 26,
   "id": "646e987c-346b-4bb5-b72c-8331ea90d480",
   "metadata": {},
   "outputs": [
    {
     "name": "stderr",
     "output_type": "stream",
     "text": [
      "/home/elisabetta/anaconda3/lib/python3.12/site-packages/huggingface_hub/file_download.py:797: FutureWarning: `resume_download` is deprecated and will be removed in version 1.0.0. Downloads always resume when possible. If you want to force a new download, use `force_download=True`.\n",
      "  warnings.warn(\n"
     ]
    }
   ],
   "source": [
    "model_checkpoint = \"bert-large-cased\"\n",
    "tokenizer = AutoTokenizer.from_pretrained(model_checkpoint)"
   ]
  },
  {
   "cell_type": "code",
   "execution_count": 27,
   "id": "c334b9a5-3cfa-463b-b3aa-78947cc5794c",
   "metadata": {},
   "outputs": [],
   "source": [
    "task = \"GED\"\n",
    "batch_size = 8"
   ]
  },
  {
   "cell_type": "markdown",
   "id": "61c06ba0-4cbb-45fb-a53e-cc7d99a5d522",
   "metadata": {},
   "source": [
    "### Preprocessing"
   ]
  },
  {
   "cell_type": "code",
   "execution_count": 29,
   "id": "bd204bcc-4cce-4052-b285-b3bb83916bf0",
   "metadata": {},
   "outputs": [],
   "source": [
    "multiged_fce_train =  thesis_utils.read_tsv_file_and_find_sentences_without_headers('./MULTI-GED2023 DATA/en_fce_train.tsv')\n",
    "multiged_fce_dev =  thesis_utils.read_tsv_file_and_find_sentences_without_headers('./MULTI-GED2023 DATA/en_fce_dev.tsv')\n",
    "\n",
    "multiged_realec_dev=  thesis_utils.read_tsv_file_and_find_sentences_without_headers('./MULTI-GED2023 DATA/en_realec_dev.tsv')\n",
    "\n",
    "processed_fce = thesis_utils.read_tsv_file_and_find_sentences_with_headers('./processed_fce.tsv')\n",
    "processed_realec = thesis_utils.read_tsv_file_and_find_sentences_with_headers('./processed_realec.tsv')"
   ]
  },
  {
   "cell_type": "code",
   "execution_count": 33,
   "id": "ed3c9530-8df5-4abc-a0c1-52c1d5d8c1d8",
   "metadata": {},
   "outputs": [
    {
     "name": "stdout",
     "output_type": "stream",
     "text": [
      "Number of training sentences: 28357\n",
      "Number of dev (FCE) sentences: 2191\n",
      "Number of dev (REALEC) sentences: 4067\n",
      "Number of processed dev (FCE) sentences: 2187\n",
      "Number of processed dev (REALEC) sentences: 4015\n",
      "\n",
      "Number of training tokens: 454730\n",
      "Number of dev tokens (FCE): 34748\n",
      "Number of dev tokens (REALEC): 88008\n",
      "Number of processed dev (FCE) tokens: 34703\n",
      "Number of processed dev (REALEC) tokens: 86362\n"
     ]
    }
   ],
   "source": [
    "print(f'Number of training sentences: {len(multiged_fce_train)}')\n",
    "print(f'Number of dev (FCE) sentences: {len(multiged_fce_dev)}')\n",
    "print(f'Number of dev (REALEC) sentences: {len(multiged_realec_dev)}')\n",
    "print(f'Number of processed dev (FCE) sentences: {len(processed_fce)}')\n",
    "print(f'Number of processed dev (REALEC) sentences: {len(processed_realec)}\\n')\n",
    "\n",
    "print(f'Number of training tokens: {thesis_utils.token_counter(multiged_fce_train)}')\n",
    "print(f'Number of dev tokens (FCE): {thesis_utils.token_counter(multiged_fce_dev)}')\n",
    "print(f'Number of dev tokens (REALEC): {thesis_utils.token_counter(multiged_realec_dev)}')\n",
    "print(f'Number of processed dev (FCE) tokens: {thesis_utils.token_counter(processed_fce)}')\n",
    "print(f'Number of processed dev (REALEC) tokens: {thesis_utils.token_counter(processed_realec)}')"
   ]
  },
  {
   "cell_type": "code",
   "execution_count": 36,
   "id": "72407d07-82b6-4d50-a58b-15aaf34f7b32",
   "metadata": {
    "scrolled": true
   },
   "outputs": [],
   "source": [
    "multiged_labels = ['c','i']\n",
    "training_sents_idx, training_sents_tokens, training_sents_gold = thesis_utils.get_list_ids_tokens_gold_finetuning(multiged_fce_train, False)\n",
    "proc_fce_sents_idx, proc_fce_sents_tokens, proc_fce_labels = thesis_utils.get_list_ids_tokens_gold_finetuning(processed_fce, True)\n",
    "proc_realec_sents_idx, proc_realec_sents_tokens, proc_realec_labels = thesis_utils.get_list_ids_tokens_gold_finetuning(processed_realec, True)"
   ]
  },
  {
   "cell_type": "code",
   "execution_count": 38,
   "id": "c24eda75-4f40-4d09-ab63-791bc6561d3e",
   "metadata": {},
   "outputs": [],
   "source": [
    "training_list_dict = thesis_utils.create_list_dict(training_sents_idx, training_sents_tokens, training_sents_gold)\n",
    "processed_fce_dict = thesis_utils.create_list_dict(proc_fce_sents_idx, proc_fce_sents_tokens, proc_fce_labels)\n",
    "processed_realec_dict = thesis_utils.create_list_dict(proc_realec_sents_idx, proc_realec_sents_tokens, proc_realec_labels)"
   ]
  },
  {
   "cell_type": "code",
   "execution_count": 40,
   "id": "b24f9e23-1a7a-4c8a-ad67-a48c6000803e",
   "metadata": {},
   "outputs": [],
   "source": [
    "training_df = pd.DataFrame(training_list_dict)\n",
    "training_dataset = Dataset.from_pandas(training_df)\n",
    "\n",
    "proc_fce_df = pd.DataFrame(processed_fce_dict)\n",
    "proc_fce_dataset = Dataset.from_pandas(proc_fce_df)\n",
    "\n",
    "proc_realec_df = pd.DataFrame(processed_realec_dict)\n",
    "proc_realec_dataset =  Dataset.from_pandas(proc_realec_df)"
   ]
  },
  {
   "cell_type": "code",
   "execution_count": 42,
   "id": "5438594c-278f-4255-9a0a-d8620cbcf3ec",
   "metadata": {
    "scrolled": true
   },
   "outputs": [
    {
     "data": {
      "application/vnd.jupyter.widget-view+json": {
       "model_id": "02ab88cf93154f6cb69dc1d280747908",
       "version_major": 2,
       "version_minor": 0
      },
      "text/plain": [
       "Casting the dataset:   0%|          | 0/28357 [00:00<?, ? examples/s]"
      ]
     },
     "metadata": {},
     "output_type": "display_data"
    },
    {
     "data": {
      "application/vnd.jupyter.widget-view+json": {
       "model_id": "7606b7630cd14808805eab78a4f08042",
       "version_major": 2,
       "version_minor": 0
      },
      "text/plain": [
       "Casting the dataset:   0%|          | 0/2187 [00:00<?, ? examples/s]"
      ]
     },
     "metadata": {},
     "output_type": "display_data"
    },
    {
     "data": {
      "application/vnd.jupyter.widget-view+json": {
       "model_id": "e5666bd196eb425296f000b99f77d7f7",
       "version_major": 2,
       "version_minor": 0
      },
      "text/plain": [
       "Casting the dataset:   0%|          | 0/4015 [00:00<?, ? examples/s]"
      ]
     },
     "metadata": {},
     "output_type": "display_data"
    }
   ],
   "source": [
    "new_features = Features({\n",
    "    \"id_token\": Sequence(Value(\"int64\")),\n",
    "    \"token\": Sequence(Value(\"string\")),\n",
    "    \"labels\": Sequence(ClassLabel(names=multiged_labels)),\n",
    "})\n",
    "\n",
    "training_dataset = training_dataset.cast(new_features)\n",
    "proc_fce_dataset = proc_fce_dataset.cast(new_features)\n",
    "proc_realec_dataset = proc_realec_dataset.cast(new_features)"
   ]
  },
  {
   "cell_type": "code",
   "execution_count": 44,
   "id": "692865ba-75ea-4548-b148-e8351ed28669",
   "metadata": {},
   "outputs": [],
   "source": [
    "label_all_tokens = True\n",
    "\n",
    "def tokenize_and_align_labels(dataset):\n",
    "    tokenized_inputs = tokenizer(dataset[\"token\"], truncation=True, is_split_into_words=True)\n",
    "    labels = []\n",
    "    tokenized_ids = []\n",
    "    for i, label in enumerate(dataset[\"labels\"]):\n",
    "        word_ids = tokenized_inputs.word_ids(batch_index=i)\n",
    "        previous_word_idx = None\n",
    "        label_ids = []\n",
    "        for word_idx in word_ids:\n",
    "            if word_idx is None:\n",
    "                label_ids.append(-100)\n",
    "            elif word_idx != previous_word_idx:\n",
    "                label_ids.append(label[word_idx])\n",
    "            else:\n",
    "                label_ids.append(label[word_idx] if label_all_tokens else -100)\n",
    "            previous_word_idx = word_idx\n",
    "\n",
    "        labels.append(label_ids)\n",
    "        tokenized_ids.append(word_ids)\n",
    "    tokenized_inputs[\"t_word_id\"] = tokenized_ids\n",
    "    tokenized_inputs[\"labels\"] = labels\n",
    "    return tokenized_inputs"
   ]
  },
  {
   "cell_type": "code",
   "execution_count": 46,
   "id": "5f1e07c2-0d56-49a6-9454-e48e485926a0",
   "metadata": {},
   "outputs": [
    {
     "data": {
      "application/vnd.jupyter.widget-view+json": {
       "model_id": "eef3a196fe044058b66fa54be0b01972",
       "version_major": 2,
       "version_minor": 0
      },
      "text/plain": [
       "Map:   0%|          | 0/28357 [00:00<?, ? examples/s]"
      ]
     },
     "metadata": {},
     "output_type": "display_data"
    },
    {
     "data": {
      "application/vnd.jupyter.widget-view+json": {
       "model_id": "e7aae96ca46c4494bdddead1372ddb13",
       "version_major": 2,
       "version_minor": 0
      },
      "text/plain": [
       "Map:   0%|          | 0/2187 [00:00<?, ? examples/s]"
      ]
     },
     "metadata": {},
     "output_type": "display_data"
    },
    {
     "data": {
      "application/vnd.jupyter.widget-view+json": {
       "model_id": "cf8cd9617eda4820a250a11e3e78d406",
       "version_major": 2,
       "version_minor": 0
      },
      "text/plain": [
       "Map:   0%|          | 0/4015 [00:00<?, ? examples/s]"
      ]
     },
     "metadata": {},
     "output_type": "display_data"
    }
   ],
   "source": [
    "tokenized_training_dataset = training_dataset.map(tokenize_and_align_labels, batched=True)\n",
    "tokenized_proc_fce_dataset = proc_fce_dataset.map(tokenize_and_align_labels, batched = True)\n",
    "tokenized_proc_realec_dataset = proc_realec_dataset.map(tokenize_and_align_labels, batched = True)"
   ]
  },
  {
   "cell_type": "code",
   "execution_count": 48,
   "id": "3fb00be2-1576-4efa-a38f-ae1f44f9f792",
   "metadata": {},
   "outputs": [
    {
     "name": "stderr",
     "output_type": "stream",
     "text": [
      "/home/elisabetta/anaconda3/lib/python3.12/site-packages/torch/cuda/__init__.py:734: UserWarning: Can't initialize NVML\n",
      "  warnings.warn(\"Can't initialize NVML\")\n"
     ]
    }
   ],
   "source": [
    "SEED = 1234\n",
    "random.seed(SEED)   \n",
    "np.random.seed(SEED)  \n",
    "set_seed(SEED)  \n",
    "\n",
    "model_name = model_checkpoint.split(\"/\")[-1]\n",
    "args = TrainingArguments(\n",
    "    f\"{model_name}-finetuned-{task}\",\n",
    "    evaluation_strategy=\"epoch\",\n",
    "    learning_rate=2e-5,\n",
    "    per_device_train_batch_size=batch_size,\n",
    "    per_device_eval_batch_size=batch_size,\n",
    "    num_train_epochs=3,\n",
    "    weight_decay=0.01,\n",
    "    seed=SEED,\n",
    "    report_to=None,\n",
    ")"
   ]
  },
  {
   "cell_type": "code",
   "execution_count": 50,
   "id": "a4bd9b0c-3812-4534-97a8-fe42a8f2d5ba",
   "metadata": {},
   "outputs": [],
   "source": [
    "tokenizer = AutoTokenizer.from_pretrained('./fine_tuned_ged_large_cased_bert', use_fast=True)\n",
    "model = AutoModelForTokenClassification.from_pretrained('./fine_tuned_ged_large_cased_bert')\n",
    "\n",
    "data_collator = DataCollatorForTokenClassification(tokenizer)"
   ]
  },
  {
   "cell_type": "code",
   "execution_count": 52,
   "id": "348161bd-760b-436b-991d-d9f4b82054ba",
   "metadata": {},
   "outputs": [],
   "source": [
    "metric = load(\"seqeval\")"
   ]
  },
  {
   "cell_type": "code",
   "execution_count": 53,
   "id": "91a96c8d-f02c-4fdd-8fcf-963095126e4c",
   "metadata": {},
   "outputs": [],
   "source": [
    "def compute_metrics(p):\n",
    "    predictions, labels = p\n",
    "    predictions = np.argmax(predictions, axis=2)\n",
    "\n",
    "    true_predictions = [\n",
    "        [multiged_labels[p] for (p, l) in zip(prediction, label) if l != -100]\n",
    "        for prediction, label in zip(predictions, labels)\n",
    "    ]\n",
    "    true_labels = [\n",
    "        [multiged_labels[l] for (p, l) in zip(prediction, label) if l != -100]\n",
    "        for prediction, label in zip(predictions, labels)\n",
    "    ]\n",
    "\n",
    "    results = metric.compute(predictions=true_predictions, references=true_labels)\n",
    "    return {\n",
    "        \"precision\": results[\"overall_precision\"],\n",
    "        \"recall\": results[\"overall_recall\"],\n",
    "        \"f1\": results[\"overall_f1\"],\n",
    "        \"accuracy\": results[\"overall_accuracy\"],\n",
    "    }"
   ]
  },
  {
   "cell_type": "markdown",
   "id": "0e03e1ab-61d3-4c2c-9106-1d818c98248e",
   "metadata": {},
   "source": [
    "## FCE"
   ]
  },
  {
   "cell_type": "code",
   "execution_count": 56,
   "id": "006b5cbc-d9fa-46f4-8675-6737f95d8d44",
   "metadata": {},
   "outputs": [],
   "source": [
    "trainer = Trainer(\n",
    "    model,\n",
    "    args,\n",
    "    train_dataset=tokenized_training_dataset,\n",
    "    eval_dataset=tokenized_proc_fce_dataset,\n",
    "    data_collator=data_collator,\n",
    "    tokenizer=tokenizer,\n",
    "    compute_metrics=compute_metrics\n",
    ")"
   ]
  },
  {
   "cell_type": "code",
   "execution_count": 58,
   "id": "438cc87a-d8c7-4e0e-82e7-db37639ef08b",
   "metadata": {
    "scrolled": true
   },
   "outputs": [
    {
     "data": {
      "text/html": [],
      "text/plain": [
       "<IPython.core.display.HTML object>"
      ]
     },
     "metadata": {},
     "output_type": "display_data"
    },
    {
     "name": "stderr",
     "output_type": "stream",
     "text": [
      "/home/elisabetta/anaconda3/lib/python3.12/site-packages/seqeval/metrics/v1.py:57: UndefinedMetricWarning: Precision and F-score are ill-defined and being set to 0.0 due to no predicted samples. Use `zero_division` parameter to control this behavior.\n",
      "  _warn_prf(average, modifier, msg_start, len(result))\n",
      "/home/elisabetta/anaconda3/lib/python3.12/site-packages/seqeval/metrics/v1.py:57: UndefinedMetricWarning: Recall and F-score are ill-defined and being set to 0.0 due to no true samples. Use `zero_division` parameter to control this behavior.\n",
      "  _warn_prf(average, modifier, msg_start, len(result))\n",
      "/home/elisabetta/anaconda3/lib/python3.12/site-packages/numpy/lib/function_base.py:520: RuntimeWarning: Mean of empty slice.\n",
      "  avg = a.mean(axis, **keepdims_kw)\n",
      "/home/elisabetta/anaconda3/lib/python3.12/site-packages/numpy/core/_methods.py:129: RuntimeWarning: invalid value encountered in scalar divide\n",
      "  ret = ret.dtype.type(ret / rcount)\n"
     ]
    },
    {
     "data": {
      "text/plain": [
       "{'eval_loss': 0.25941595435142517,\n",
       " 'eval_precision': 0.0,\n",
       " 'eval_recall': 0.0,\n",
       " 'eval_f1': 0.0,\n",
       " 'eval_accuracy': 0.9249853536768639,\n",
       " 'eval_runtime': 455.754,\n",
       " 'eval_samples_per_second': 4.799,\n",
       " 'eval_steps_per_second': 0.601}"
      ]
     },
     "execution_count": 58,
     "metadata": {},
     "output_type": "execute_result"
    }
   ],
   "source": [
    "trainer.evaluate()"
   ]
  },
  {
   "cell_type": "code",
   "execution_count": 59,
   "id": "d2826666-10ae-4187-8180-ff78d9504e47",
   "metadata": {},
   "outputs": [],
   "source": [
    "predictions, labels, _ = trainer.predict(tokenized_proc_fce_dataset)\n",
    "predictions = np.argmax(predictions, axis=2)"
   ]
  },
  {
   "cell_type": "code",
   "execution_count": 60,
   "id": "db18cd15-1190-412c-b713-27f2400dfd1c",
   "metadata": {},
   "outputs": [
    {
     "name": "stdout",
     "output_type": "stream",
     "text": [
      "Results saved to ./uselessfce.tsv\n"
     ]
    }
   ],
   "source": [
    "output_file_path = './uselessfce.tsv'\n",
    "proc_fce_tokens, proc_fce_labels, proc_fce_predictions = thesis_utils.map_predictions_to_words_and_save_to_file_sentence(predictions, labels, tokenized_proc_fce_dataset,output_file_path, multiged_labels,tokenizer)"
   ]
  },
  {
   "cell_type": "code",
   "execution_count": 61,
   "id": "8d14581b-023d-44d0-a420-68a9494f25df",
   "metadata": {},
   "outputs": [],
   "source": [
    "flat_fce_predictions = [prediction for sentence in proc_fce_predictions for prediction in sentence]\n",
    "flat_fce_labels = [label for sentence in proc_fce_labels for label in sentence]"
   ]
  },
  {
   "cell_type": "code",
   "execution_count": 66,
   "id": "5e5b0db0-2819-4bca-b9f4-ef10545a159e",
   "metadata": {},
   "outputs": [],
   "source": [
    "thesis_utils.add_predictions_to_tsv_with_empty_lines(\"processed_fce.tsv\",proc_fce_predictions, \"proc_fce_bert_large-cased.tsv\")"
   ]
  },
  {
   "cell_type": "code",
   "execution_count": 62,
   "id": "47daac6c-2d3f-4e6d-a2bc-95e4a191cc7f",
   "metadata": {},
   "outputs": [
    {
     "name": "stdout",
     "output_type": "stream",
     "text": [
      "              precision    recall    f0.5-score    support\n",
      "c               0.9457    0.978403    0.95208        31254\n",
      "i               0.7151    0.491157    0.65532        3449\n",
      "\n",
      "micro avg       0.9300    0.929977    0.92998        34703\n",
      "macro avg       0.8304    0.734780    0.80370        34703\n"
     ]
    },
    {
     "data": {
      "image/png": "[encoded data removed]",
      "text/plain": [
       "<Figure size 800x600 with 2 Axes>"
      ]
     },
     "metadata": {},
     "output_type": "display_data"
    }
   ],
   "source": [
    "thesis_utils.evaluate_predictions(flat_fce_predictions, flat_fce_labels)"
   ]
  },
  {
   "cell_type": "markdown",
   "id": "81ef1efd-f865-4a24-82be-d08f23260b7b",
   "metadata": {},
   "source": [
    "## realec"
   ]
  },
  {
   "cell_type": "code",
   "execution_count": 29,
   "id": "8823a705-8710-4320-87f6-8771c14d1d37",
   "metadata": {},
   "outputs": [],
   "source": [
    "trainer = Trainer(\n",
    "    model,\n",
    "    args,\n",
    "    train_dataset=tokenized_training_dataset,\n",
    "    eval_dataset=tokenized_proc_realec_dataset,\n",
    "    data_collator=data_collator,\n",
    "    tokenizer=tokenizer,\n",
    "    compute_metrics=compute_metrics\n",
    ")"
   ]
  },
  {
   "cell_type": "code",
   "execution_count": 30,
   "id": "e3d30395-3874-4f60-b115-e715e2de4a77",
   "metadata": {},
   "outputs": [
    {
     "data": {
      "text/html": [],
      "text/plain": [
       "<IPython.core.display.HTML object>"
      ]
     },
     "metadata": {},
     "output_type": "display_data"
    },
    {
     "name": "stderr",
     "output_type": "stream",
     "text": [
      "/home/elisabetta/anaconda3/lib/python3.12/site-packages/seqeval/metrics/v1.py:57: UndefinedMetricWarning: Precision and F-score are ill-defined and being set to 0.0 due to no predicted samples. Use `zero_division` parameter to control this behavior.\n",
      "  _warn_prf(average, modifier, msg_start, len(result))\n",
      "/home/elisabetta/anaconda3/lib/python3.12/site-packages/seqeval/metrics/v1.py:57: UndefinedMetricWarning: Recall and F-score are ill-defined and being set to 0.0 due to no true samples. Use `zero_division` parameter to control this behavior.\n",
      "  _warn_prf(average, modifier, msg_start, len(result))\n",
      "/home/elisabetta/anaconda3/lib/python3.12/site-packages/numpy/lib/function_base.py:520: RuntimeWarning: Mean of empty slice.\n",
      "  avg = a.mean(axis, **keepdims_kw)\n",
      "/home/elisabetta/anaconda3/lib/python3.12/site-packages/numpy/core/_methods.py:129: RuntimeWarning: invalid value encountered in scalar divide\n",
      "  ret = ret.dtype.type(ret / rcount)\n"
     ]
    },
    {
     "data": {
      "text/plain": [
       "{'eval_loss': 0.40478602051734924,\n",
       " 'eval_precision': 0.0,\n",
       " 'eval_recall': 0.0,\n",
       " 'eval_f1': 0.0,\n",
       " 'eval_accuracy': 0.8970693662966261,\n",
       " 'eval_runtime': 574.3958,\n",
       " 'eval_samples_per_second': 6.99,\n",
       " 'eval_steps_per_second': 0.874}"
      ]
     },
     "execution_count": 30,
     "metadata": {},
     "output_type": "execute_result"
    }
   ],
   "source": [
    "trainer.evaluate()"
   ]
  },
  {
   "cell_type": "code",
   "execution_count": 31,
   "id": "0d103630-000f-42c0-8cd5-c2b83bae5ea3",
   "metadata": {},
   "outputs": [],
   "source": [
    "predictions, labels, _ = trainer.predict(tokenized_proc_realec_dataset)\n",
    "predictions = np.argmax(predictions, axis=2)"
   ]
  },
  {
   "cell_type": "code",
   "execution_count": 32,
   "id": "e15522cf-ff29-49fa-9f50-63029a7ccfd6",
   "metadata": {},
   "outputs": [
    {
     "name": "stdout",
     "output_type": "stream",
     "text": [
      "Results saved to ./uselessrealec.tsv\n"
     ]
    }
   ],
   "source": [
    "output_file_path = './uselessrealec.tsv'\n",
    "proc_realec_tokens, proc_realec_labels, proc_realec_predictions = thesis_utils.map_predictions_to_words_and_save_to_file_sentence(predictions, labels, tokenized_proc_realec_dataset,output_file_path, multiged_labels,tokenizer)"
   ]
  },
  {
   "cell_type": "code",
   "execution_count": 33,
   "id": "e00daa70-6048-4066-8bf7-ade34c403941",
   "metadata": {},
   "outputs": [],
   "source": [
    "flat_realec_predictions = [prediction for sentence in proc_realec_predictions for prediction in sentence]\n",
    "flat_realec_labels = [label for sentence in proc_realec_labels for label in sentence]"
   ]
  },
  {
   "cell_type": "code",
   "execution_count": 34,
   "id": "fda76647-7dd5-459e-bfdf-582a3bb4b3da",
   "metadata": {},
   "outputs": [],
   "source": [
    "thesis_utils.add_predictions_to_tsv_with_empty_lines(\"processed_realec.tsv\",proc_realec_predictions, \"proc_realec_bert_base-cased.tsv.tsv\")"
   ]
  },
  {
   "cell_type": "code",
   "execution_count": 35,
   "id": "3ca727d5-1f85-4db8-b50a-31a174bb70cd",
   "metadata": {},
   "outputs": [
    {
     "name": "stdout",
     "output_type": "stream",
     "text": [
      "              precision    recall    f0.5-score    support\n",
      "c               0.9391    0.950789    0.94138        78275\n",
      "i               0.4582    0.402745    0.44588        8087\n",
      "\n",
      "micro avg       0.8995    0.899470    0.89947        86362\n",
      "macro avg       0.6986    0.676767    0.69363        86362\n"
     ]
    },
    {
     "data": {
      "image/png": "[encoded data removed]",
      "text/plain": [
       "<Figure size 800x600 with 2 Axes>"
      ]
     },
     "metadata": {},
     "output_type": "display_data"
    }
   ],
   "source": [
    "thesis_utils.evaluate_predictions(flat_realec_predictions, flat_realec_labels)"
   ]
  },
  {
   "cell_type": "code",
   "execution_count": null,
   "id": "c72a8f9d-8df5-4e85-b45b-fd882ba12f5e",
   "metadata": {},
   "outputs": [],
   "source": []
  }
 ],
 "metadata": {
  "kernelspec": {
   "display_name": "Python 3 (ipykernel)",
   "language": "python",
   "name": "python3"
  },
  "language_info": {
   "codemirror_mode": {
    "name": "ipython",
    "version": 3
   },
   "file_extension": ".py",
   "mimetype": "text/x-python",
   "name": "python",
   "nbconvert_exporter": "python",
   "pygments_lexer": "ipython3",
   "version": "3.12.2"
  }
 },
 "nbformat": 4,
 "nbformat_minor": 5
}

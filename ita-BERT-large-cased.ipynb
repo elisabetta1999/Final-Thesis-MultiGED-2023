{
 "cells": [
  {
   "cell_type": "code",
   "execution_count": 1,
   "id": "9b6f9a7d-1f18-41ad-82a1-c29afbc3030d",
   "metadata": {},
   "outputs": [
    {
     "name": "stderr",
     "output_type": "stream",
     "text": [
      "/home/elisabetta/anaconda3/lib/python3.12/site-packages/torch/cuda/__init__.py:734: UserWarning: Can't initialize NVML\n",
      "  warnings.warn(\"Can't initialize NVML\")\n",
      "comet_ml is installed but `COMET_API_KEY` is not set.\n"
     ]
    }
   ],
   "source": [
    "from transformers import AutoTokenizer, AutoModelForTokenClassification, TrainingArguments, Trainer, set_seed\n",
    "from transformers import DataCollatorForTokenClassification\n",
    "import pandas as pd\n",
    "import thesis_utils\n",
    "from datasets import Dataset\n",
    "from datasets import Sequence, ClassLabel, Features, Value\n",
    "from evaluate import load\n",
    "import random\n",
    "import numpy as np\n",
    "import csv\n",
    "from collections import Counter\n",
    "from sklearn.metrics import classification_report, confusion_matrix, ConfusionMatrixDisplay, accuracy_score\n",
    "import matplotlib.pyplot as plt\n",
    "import seaborn as sns\n",
    "%matplotlib inline\n",
    "from sklearn.metrics import precision_recall_fscore_support"
   ]
  },
  {
   "cell_type": "code",
   "execution_count": 2,
   "id": "e5713f44-bff3-4278-92c9-1fd6fe0d398e",
   "metadata": {},
   "outputs": [],
   "source": [
    "import warnings\n",
    "warnings.filterwarnings(\"ignore\", message=\".*seems not to be NE tag.*\")"
   ]
  },
  {
   "cell_type": "markdown",
   "id": "5bcfb8f9-2f03-4fd9-b06a-65ca2335559c",
   "metadata": {},
   "source": [
    "### Loading the model"
   ]
  },
  {
   "cell_type": "code",
   "execution_count": 4,
   "id": "646e987c-346b-4bb5-b72c-8331ea90d480",
   "metadata": {},
   "outputs": [
    {
     "name": "stderr",
     "output_type": "stream",
     "text": [
      "/home/elisabetta/anaconda3/lib/python3.12/site-packages/huggingface_hub/file_download.py:797: FutureWarning: `resume_download` is deprecated and will be removed in version 1.0.0. Downloads always resume when possible. If you want to force a new download, use `force_download=True`.\n",
      "  warnings.warn(\n"
     ]
    }
   ],
   "source": [
    "model_checkpoint = \"dbmdz/bert-base-italian-xxl-cased\"\n",
    "tokenizer = AutoTokenizer.from_pretrained(model_checkpoint)"
   ]
  },
  {
   "cell_type": "code",
   "execution_count": 5,
   "id": "c334b9a5-3cfa-463b-b3aa-78947cc5794c",
   "metadata": {},
   "outputs": [],
   "source": [
    "task = \"GED\"\n",
    "batch_size = 8"
   ]
  },
  {
   "cell_type": "markdown",
   "id": "61c06ba0-4cbb-45fb-a53e-cc7d99a5d522",
   "metadata": {},
   "source": [
    "### Preprocessing"
   ]
  },
  {
   "cell_type": "code",
   "execution_count": 7,
   "id": "bd204bcc-4cce-4052-b285-b3bb83916bf0",
   "metadata": {},
   "outputs": [],
   "source": [
    "multiged_merlin_train =  thesis_utils.read_tsv_file_and_find_sentences('./MULTI-GED2023 DATA/it_merlin_train.tsv')\n",
    "multiged_merlin_dev =  thesis_utils.read_tsv_file_and_find_sentences('./MULTI-GED2023 DATA/it_merlin_dev.tsv')\n",
    "#multiged_merlin_test=  thesis_utils.read_tsv_file_and_find_sentences('./MULTI-GED2023 DATA/en_fce_test_unlabelled.tsv')"
   ]
  },
  {
   "cell_type": "code",
   "execution_count": 8,
   "id": "ed3c9530-8df5-4abc-a0c1-52c1d5d8c1d8",
   "metadata": {},
   "outputs": [
    {
     "name": "stdout",
     "output_type": "stream",
     "text": [
      "Number of training sentences: 6394\n",
      "Number of dev (FCE) sentences: 758\n",
      "\n",
      "Number of training tokens: 80335\n",
      "Number of dev tokens (FCE): 9144\n"
     ]
    }
   ],
   "source": [
    "print(f'Number of training sentences: {len(multiged_merlin_train)}')\n",
    "print(f'Number of dev (FCE) sentences: {len(multiged_merlin_dev)}\\n')\n",
    "\n",
    "print(f'Number of training tokens: {thesis_utils.token_counter(multiged_merlin_train)}')\n",
    "print(f'Number of dev tokens (FCE): {thesis_utils.token_counter(multiged_merlin_dev)}')"
   ]
  },
  {
   "cell_type": "code",
   "execution_count": 9,
   "id": "72407d07-82b6-4d50-a58b-15aaf34f7b32",
   "metadata": {},
   "outputs": [],
   "source": [
    "multiged_labels = ['c','i']\n",
    "training_sents_idx, training_sents_tokens, training_sents_gold = thesis_utils.get_list_ids_tokens_gold(multiged_merlin_train)\n",
    "dev_sents_idx, dev_sents_tokens, dev_labels= thesis_utils.get_list_ids_tokens_gold(multiged_merlin_dev)"
   ]
  },
  {
   "cell_type": "code",
   "execution_count": 10,
   "id": "c24eda75-4f40-4d09-ab63-791bc6561d3e",
   "metadata": {},
   "outputs": [],
   "source": [
    "training_list_dict = thesis_utils.create_list_dict(training_sents_idx, training_sents_tokens, training_sents_gold)\n",
    "dev_list_dict = thesis_utils.create_list_dict(dev_sents_idx, dev_sents_tokens, dev_labels)"
   ]
  },
  {
   "cell_type": "code",
   "execution_count": 11,
   "id": "b24f9e23-1a7a-4c8a-ad67-a48c6000803e",
   "metadata": {},
   "outputs": [],
   "source": [
    "training_df = pd.DataFrame(training_list_dict)\n",
    "training_dataset = Dataset.from_pandas(training_df)\n",
    "\n",
    "dev_df = pd.DataFrame(dev_list_dict)\n",
    "dev_dataset = Dataset.from_pandas(dev_df)"
   ]
  },
  {
   "cell_type": "code",
   "execution_count": 12,
   "id": "5438594c-278f-4255-9a0a-d8620cbcf3ec",
   "metadata": {
    "scrolled": true
   },
   "outputs": [
    {
     "data": {
      "application/vnd.jupyter.widget-view+json": {
       "model_id": "ed09f42a822f49ab936ba924b01f651c",
       "version_major": 2,
       "version_minor": 0
      },
      "text/plain": [
       "Casting the dataset:   0%|          | 0/6394 [00:00<?, ? examples/s]"
      ]
     },
     "metadata": {},
     "output_type": "display_data"
    },
    {
     "data": {
      "application/vnd.jupyter.widget-view+json": {
       "model_id": "6087a382ff054a05b641db5f59e9c10d",
       "version_major": 2,
       "version_minor": 0
      },
      "text/plain": [
       "Casting the dataset:   0%|          | 0/758 [00:00<?, ? examples/s]"
      ]
     },
     "metadata": {},
     "output_type": "display_data"
    }
   ],
   "source": [
    "new_features = Features({\n",
    "    \"id_token\": Sequence(Value(\"int64\")),\n",
    "    \"token\": Sequence(Value(\"string\")),\n",
    "    \"labels\": Sequence(ClassLabel(names=multiged_labels)),\n",
    "})\n",
    "\n",
    "training_dataset = training_dataset.cast(new_features)\n",
    "dev_dataset = dev_dataset.cast(new_features)"
   ]
  },
  {
   "cell_type": "code",
   "execution_count": 13,
   "id": "3d785d12-89bd-4340-99c1-7dae0c55f425",
   "metadata": {},
   "outputs": [],
   "source": [
    "example_sentence = training_dataset['token'][3]\n",
    "example_sentence_id = training_dataset['id_token'][3]\n",
    "tokenized_input = tokenizer(example_sentence, truncation=True, is_split_into_words=True)\n",
    "tokens = tokenizer.convert_ids_to_tokens(tokenized_input[\"input_ids\"])"
   ]
  },
  {
   "cell_type": "code",
   "execution_count": 14,
   "id": "974a4bc1-0df9-4c96-a60e-3ac406a440b2",
   "metadata": {},
   "outputs": [
    {
     "name": "stdout",
     "output_type": "stream",
     "text": [
      "Original tokens: \n",
      "['Questo', 'era', 'un', 'problema', 'grande', 'riguardando', 'alla', 'cosa', 'che', 'il', 'mio', 'fidanzato', 'un', 'professionista', 'del', 'tennis', '.']\n",
      "\n",
      "Tokens and subword tokens obtained through the AutoTokenizer of BERT (distilbert-base-uncased): \n",
      "['[CLS]', 'Questo', 'era', 'un', 'problema', 'grande', 'riguarda', '##ndo', 'alla', 'cosa', 'che', 'il', 'mio', 'fidanzato', 'un', 'professionista', 'del', 'tennis', '.', '[SEP]']\n",
      "\n",
      "Number of the original token IDs: 17 >>>  \n",
      "[1, 2, 3, 4, 5, 6, 7, 8, 9, 10, 11, 12, 13, 14, 15, 16, 17]\n",
      "\n",
      "Number of the tokens and subword token IDs: 20 >>> \n",
      "[None, 0, 1, 2, 3, 4, 5, 5, 6, 7, 8, 9, 10, 11, 12, 13, 14, 15, 16, None]\n",
      "\n",
      "Representation of the input IDs: \n",
      "[102, 966, 529, 141, 1539, 949, 2043, 2017, 334, 510, 158, 162, 619, 11589, 141, 11487, 136, 8341, 697, 103]\n",
      "\n",
      "Representation of the attention mask: \n",
      "[1, 1, 1, 1, 1, 1, 1, 1, 1, 1, 1, 1, 1, 1, 1, 1, 1, 1, 1, 1]\n"
     ]
    }
   ],
   "source": [
    "print(f'Original tokens: \\n{example_sentence}')\n",
    "print()\n",
    "print(f'Tokens and subword tokens obtained through the AutoTokenizer of BERT (distilbert-base-uncased): \\n{tokens}')\n",
    "print()\n",
    "print(f'Number of the original token IDs: {len(example_sentence_id)} >>>  \\n{example_sentence_id}')\n",
    "print()\n",
    "print(f'Number of the tokens and subword token IDs: {len(tokenized_input.word_ids())} >>> \\n{tokenized_input.word_ids()}')\n",
    "print()\n",
    "print(f'Representation of the input IDs: \\n{tokenized_input['input_ids']}') \n",
    "print()\n",
    "print(f'Representation of the attention mask: \\n{tokenized_input['attention_mask']}')"
   ]
  },
  {
   "cell_type": "code",
   "execution_count": 15,
   "id": "692865ba-75ea-4548-b148-e8351ed28669",
   "metadata": {},
   "outputs": [],
   "source": [
    "label_all_tokens = True\n",
    "\n",
    "def tokenize_and_align_labels(dataset):\n",
    "    tokenized_inputs = tokenizer(dataset[\"token\"], truncation=True, is_split_into_words=True)\n",
    "    labels = []\n",
    "    tokenized_ids = []\n",
    "    for i, label in enumerate(dataset[\"labels\"]):\n",
    "        word_ids = tokenized_inputs.word_ids(batch_index=i)\n",
    "        previous_word_idx = None\n",
    "        label_ids = []\n",
    "        for word_idx in word_ids:\n",
    "            if word_idx is None:\n",
    "                label_ids.append(-100)\n",
    "            elif word_idx != previous_word_idx:\n",
    "                label_ids.append(label[word_idx])\n",
    "            else:\n",
    "                label_ids.append(label[word_idx] if label_all_tokens else -100)\n",
    "            previous_word_idx = word_idx\n",
    "\n",
    "        labels.append(label_ids)\n",
    "        tokenized_ids.append(word_ids)\n",
    "    tokenized_inputs[\"t_word_id\"] = tokenized_ids\n",
    "    tokenized_inputs[\"labels\"] = labels\n",
    "    return tokenized_inputs"
   ]
  },
  {
   "cell_type": "code",
   "execution_count": 16,
   "id": "5f1e07c2-0d56-49a6-9454-e48e485926a0",
   "metadata": {},
   "outputs": [
    {
     "data": {
      "application/vnd.jupyter.widget-view+json": {
       "model_id": "b34d18b731914f669c746ff199635570",
       "version_major": 2,
       "version_minor": 0
      },
      "text/plain": [
       "Map:   0%|          | 0/6394 [00:00<?, ? examples/s]"
      ]
     },
     "metadata": {},
     "output_type": "display_data"
    },
    {
     "data": {
      "application/vnd.jupyter.widget-view+json": {
       "model_id": "34fe58c62dd44708bb0840826a89fcea",
       "version_major": 2,
       "version_minor": 0
      },
      "text/plain": [
       "Map:   0%|          | 0/758 [00:00<?, ? examples/s]"
      ]
     },
     "metadata": {},
     "output_type": "display_data"
    }
   ],
   "source": [
    "tokenized_training_dataset = training_dataset.map(tokenize_and_align_labels, batched=True)\n",
    "tokenized_dev_dataset = dev_dataset.map(tokenize_and_align_labels, batched = True)"
   ]
  },
  {
   "cell_type": "code",
   "execution_count": 17,
   "id": "61c6035a-00c8-4e64-a6cf-3e2ca01d472d",
   "metadata": {},
   "outputs": [
    {
     "name": "stdout",
     "output_type": "stream",
     "text": [
      "{'id_token': [1, 2, 3, 4, 5, 6, 7, 8, 9, 10, 11, 12, 13, 14, 15, 16, 17], 'token': ['Questo', 'era', 'un', 'problema', 'grande', 'riguardando', 'alla', 'cosa', 'che', 'il', 'mio', 'fidanzato', 'un', 'professionista', 'del', 'tennis', '.'], 'labels': [-100, 0, 0, 0, 0, 0, 1, 1, 0, 0, 0, 0, 0, 0, 1, 0, 0, 0, 0, -100], 'input_ids': [102, 966, 529, 141, 1539, 949, 2043, 2017, 334, 510, 158, 162, 619, 11589, 141, 11487, 136, 8341, 697, 103], 'token_type_ids': [0, 0, 0, 0, 0, 0, 0, 0, 0, 0, 0, 0, 0, 0, 0, 0, 0, 0, 0, 0], 'attention_mask': [1, 1, 1, 1, 1, 1, 1, 1, 1, 1, 1, 1, 1, 1, 1, 1, 1, 1, 1, 1], 't_word_id': [None, 0, 1, 2, 3, 4, 5, 5, 6, 7, 8, 9, 10, 11, 12, 13, 14, 15, 16, None]}\n"
     ]
    }
   ],
   "source": [
    "print(tokenized_training_dataset[3])"
   ]
  },
  {
   "cell_type": "markdown",
   "id": "0e03e1ab-61d3-4c2c-9106-1d818c98248e",
   "metadata": {},
   "source": [
    "### Training"
   ]
  },
  {
   "cell_type": "code",
   "execution_count": 19,
   "id": "3fb00be2-1576-4efa-a38f-ae1f44f9f792",
   "metadata": {},
   "outputs": [
    {
     "name": "stderr",
     "output_type": "stream",
     "text": [
      "/home/elisabetta/anaconda3/lib/python3.12/site-packages/torch/cuda/__init__.py:734: UserWarning: Can't initialize NVML\n",
      "  warnings.warn(\"Can't initialize NVML\")\n"
     ]
    }
   ],
   "source": [
    "SEED = 1234\n",
    "random.seed(SEED)   \n",
    "np.random.seed(SEED)  \n",
    "set_seed(SEED)  \n",
    "\n",
    "model_name = model_checkpoint.split(\"/\")[-1]\n",
    "args = TrainingArguments(\n",
    "    f\"{model_name}-finetuned-{task}\",\n",
    "    evaluation_strategy=\"epoch\",\n",
    "    learning_rate=2e-5,\n",
    "    per_device_train_batch_size=batch_size,\n",
    "    per_device_eval_batch_size=batch_size,\n",
    "    num_train_epochs=3,\n",
    "    weight_decay=0.01,\n",
    "    seed=SEED,\n",
    "    report_to=None,\n",
    ")"
   ]
  },
  {
   "cell_type": "code",
   "execution_count": 20,
   "id": "a4bd9b0c-3812-4534-97a8-fe42a8f2d5ba",
   "metadata": {},
   "outputs": [
    {
     "name": "stderr",
     "output_type": "stream",
     "text": [
      "/home/elisabetta/anaconda3/lib/python3.12/site-packages/huggingface_hub/file_download.py:797: FutureWarning: `resume_download` is deprecated and will be removed in version 1.0.0. Downloads always resume when possible. If you want to force a new download, use `force_download=True`.\n",
      "  warnings.warn(\n",
      "Some weights of BertForTokenClassification were not initialized from the model checkpoint at dbmdz/bert-base-italian-xxl-cased and are newly initialized: ['classifier.bias', 'classifier.weight']\n",
      "You should probably TRAIN this model on a down-stream task to be able to use it for predictions and inference.\n"
     ]
    }
   ],
   "source": [
    "data_collator = DataCollatorForTokenClassification(tokenizer)\n",
    "model = AutoModelForTokenClassification.from_pretrained(model_checkpoint, num_labels=len(multiged_labels))"
   ]
  },
  {
   "cell_type": "code",
   "execution_count": 21,
   "id": "348161bd-760b-436b-991d-d9f4b82054ba",
   "metadata": {},
   "outputs": [],
   "source": [
    "metric = load(\"seqeval\")"
   ]
  },
  {
   "cell_type": "code",
   "execution_count": 22,
   "id": "91a96c8d-f02c-4fdd-8fcf-963095126e4c",
   "metadata": {},
   "outputs": [],
   "source": [
    "def compute_metrics(p):\n",
    "    predictions, labels = p\n",
    "    predictions = np.argmax(predictions, axis=2)\n",
    "\n",
    "    true_predictions = [\n",
    "        [multiged_labels[p] for (p, l) in zip(prediction, label) if l != -100]\n",
    "        for prediction, label in zip(predictions, labels)\n",
    "    ]\n",
    "    true_labels = [\n",
    "        [multiged_labels[l] for (p, l) in zip(prediction, label) if l != -100]\n",
    "        for prediction, label in zip(predictions, labels)\n",
    "    ]\n",
    "\n",
    "    results = metric.compute(predictions=true_predictions, references=true_labels)\n",
    "    return {\n",
    "        \"precision\": results[\"overall_precision\"],\n",
    "        \"recall\": results[\"overall_recall\"],\n",
    "        \"f1\": results[\"overall_f1\"],\n",
    "        \"accuracy\": results[\"overall_accuracy\"],\n",
    "    }"
   ]
  },
  {
   "cell_type": "code",
   "execution_count": 23,
   "id": "006b5cbc-d9fa-46f4-8675-6737f95d8d44",
   "metadata": {},
   "outputs": [],
   "source": [
    "trainer = Trainer(\n",
    "    model,\n",
    "    args,\n",
    "    train_dataset=tokenized_training_dataset,\n",
    "    eval_dataset=tokenized_dev_dataset,\n",
    "    data_collator=data_collator,\n",
    "    tokenizer=tokenizer,\n",
    "    compute_metrics=compute_metrics\n",
    ")"
   ]
  },
  {
   "cell_type": "code",
   "execution_count": 32,
   "id": "438cc87a-d8c7-4e0e-82e7-db37639ef08b",
   "metadata": {
    "scrolled": true
   },
   "outputs": [
    {
     "data": {
      "text/html": [
       "\n",
       "    <div>\n",
       "      \n",
       "      <progress value='2400' max='2400' style='width:300px; height:20px; vertical-align: middle;'></progress>\n",
       "      [2400/2400 1:22:20, Epoch 3/3]\n",
       "    </div>\n",
       "    <table border=\"1\" class=\"dataframe\">\n",
       "  <thead>\n",
       " <tr style=\"text-align: left;\">\n",
       "      <th>Epoch</th>\n",
       "      <th>Training Loss</th>\n",
       "      <th>Validation Loss</th>\n",
       "      <th>Precision</th>\n",
       "      <th>Recall</th>\n",
       "      <th>F1</th>\n",
       "      <th>Accuracy</th>\n",
       "    </tr>\n",
       "  </thead>\n",
       "  <tbody>\n",
       "    <tr>\n",
       "      <td>1</td>\n",
       "      <td>0.272200</td>\n",
       "      <td>0.196815</td>\n",
       "      <td>0.000000</td>\n",
       "      <td>0.000000</td>\n",
       "      <td>0.000000</td>\n",
       "      <td>0.928523</td>\n",
       "    </tr>\n",
       "    <tr>\n",
       "      <td>2</td>\n",
       "      <td>0.166700</td>\n",
       "      <td>0.211874</td>\n",
       "      <td>0.000000</td>\n",
       "      <td>0.000000</td>\n",
       "      <td>0.000000</td>\n",
       "      <td>0.931610</td>\n",
       "    </tr>\n",
       "    <tr>\n",
       "      <td>3</td>\n",
       "      <td>0.129400</td>\n",
       "      <td>0.218406</td>\n",
       "      <td>0.000000</td>\n",
       "      <td>0.000000</td>\n",
       "      <td>0.000000</td>\n",
       "      <td>0.935468</td>\n",
       "    </tr>\n",
       "  </tbody>\n",
       "</table><p>"
      ],
      "text/plain": [
       "<IPython.core.display.HTML object>"
      ]
     },
     "metadata": {},
     "output_type": "display_data"
    },
    {
     "name": "stderr",
     "output_type": "stream",
     "text": [
      "/home/elisabetta/anaconda3/lib/python3.12/site-packages/seqeval/metrics/v1.py:57: UndefinedMetricWarning: Precision and F-score are ill-defined and being set to 0.0 due to no predicted samples. Use `zero_division` parameter to control this behavior.\n",
      "  _warn_prf(average, modifier, msg_start, len(result))\n",
      "/home/elisabetta/anaconda3/lib/python3.12/site-packages/seqeval/metrics/v1.py:57: UndefinedMetricWarning: Recall and F-score are ill-defined and being set to 0.0 due to no true samples. Use `zero_division` parameter to control this behavior.\n",
      "  _warn_prf(average, modifier, msg_start, len(result))\n",
      "/home/elisabetta/anaconda3/lib/python3.12/site-packages/numpy/lib/function_base.py:520: RuntimeWarning: Mean of empty slice.\n",
      "  avg = a.mean(axis, **keepdims_kw)\n",
      "/home/elisabetta/anaconda3/lib/python3.12/site-packages/numpy/core/_methods.py:129: RuntimeWarning: invalid value encountered in scalar divide\n",
      "  ret = ret.dtype.type(ret / rcount)\n",
      "/home/elisabetta/anaconda3/lib/python3.12/site-packages/seqeval/metrics/v1.py:57: UndefinedMetricWarning: Precision and F-score are ill-defined and being set to 0.0 due to no predicted samples. Use `zero_division` parameter to control this behavior.\n",
      "  _warn_prf(average, modifier, msg_start, len(result))\n",
      "/home/elisabetta/anaconda3/lib/python3.12/site-packages/seqeval/metrics/v1.py:57: UndefinedMetricWarning: Recall and F-score are ill-defined and being set to 0.0 due to no true samples. Use `zero_division` parameter to control this behavior.\n",
      "  _warn_prf(average, modifier, msg_start, len(result))\n",
      "/home/elisabetta/anaconda3/lib/python3.12/site-packages/numpy/lib/function_base.py:520: RuntimeWarning: Mean of empty slice.\n",
      "  avg = a.mean(axis, **keepdims_kw)\n",
      "/home/elisabetta/anaconda3/lib/python3.12/site-packages/numpy/core/_methods.py:129: RuntimeWarning: invalid value encountered in scalar divide\n",
      "  ret = ret.dtype.type(ret / rcount)\n",
      "/home/elisabetta/anaconda3/lib/python3.12/site-packages/seqeval/metrics/v1.py:57: UndefinedMetricWarning: Precision and F-score are ill-defined and being set to 0.0 due to no predicted samples. Use `zero_division` parameter to control this behavior.\n",
      "  _warn_prf(average, modifier, msg_start, len(result))\n",
      "/home/elisabetta/anaconda3/lib/python3.12/site-packages/seqeval/metrics/v1.py:57: UndefinedMetricWarning: Recall and F-score are ill-defined and being set to 0.0 due to no true samples. Use `zero_division` parameter to control this behavior.\n",
      "  _warn_prf(average, modifier, msg_start, len(result))\n",
      "/home/elisabetta/anaconda3/lib/python3.12/site-packages/numpy/lib/function_base.py:520: RuntimeWarning: Mean of empty slice.\n",
      "  avg = a.mean(axis, **keepdims_kw)\n",
      "/home/elisabetta/anaconda3/lib/python3.12/site-packages/numpy/core/_methods.py:129: RuntimeWarning: invalid value encountered in scalar divide\n",
      "  ret = ret.dtype.type(ret / rcount)\n"
     ]
    },
    {
     "data": {
      "text/plain": [
       "TrainOutput(global_step=2400, training_loss=0.18197081247965494, metrics={'train_runtime': 4941.4058, 'train_samples_per_second': 3.882, 'train_steps_per_second': 0.486, 'total_flos': 333313613239992.0, 'train_loss': 0.18197081247965494, 'epoch': 3.0})"
      ]
     },
     "execution_count": 32,
     "metadata": {},
     "output_type": "execute_result"
    }
   ],
   "source": [
    "trainer.train()"
   ]
  },
  {
   "cell_type": "markdown",
   "id": "f3a3ffc7-646b-42d7-9943-7d9fa3b3649e",
   "metadata": {},
   "source": [
    "### Saving the fine-tuned model"
   ]
  },
  {
   "cell_type": "code",
   "execution_count": 34,
   "id": "bf905912-b011-4229-8632-1f7af2b3fd48",
   "metadata": {},
   "outputs": [
    {
     "data": {
      "text/plain": [
       "('ita_large-cased-bert_ged/tokenizer_config.json',\n",
       " 'ita_large-cased-bert_ged/special_tokens_map.json',\n",
       " 'ita_large-cased-bert_ged/vocab.txt',\n",
       " 'ita_large-cased-bert_ged/added_tokens.json',\n",
       " 'ita_large-cased-bert_ged/tokenizer.json')"
      ]
     },
     "execution_count": 34,
     "metadata": {},
     "output_type": "execute_result"
    }
   ],
   "source": [
    "trainer.save_model('ita_large-cased-bert_ged')\n",
    "trainer.tokenizer.save_pretrained('ita_large-cased-bert_ged')"
   ]
  },
  {
   "cell_type": "markdown",
   "id": "03d38060-8dc4-440f-a47c-05b009c11f90",
   "metadata": {},
   "source": [
    "### Loading the fine-tuned model"
   ]
  },
  {
   "cell_type": "code",
   "execution_count": 34,
   "id": "9e10de1b-ec2f-4436-a002-4e77fb0656d4",
   "metadata": {},
   "outputs": [],
   "source": [
    "from transformers import AutoTokenizer, AutoModelForTokenClassification, Trainer\n",
    "model_name = 'ita_large-cased-bert_ged'\n",
    "model = AutoModelForTokenClassification.from_pretrained('ita_large-cased-bert_ged')\n",
    "tokenizer = AutoTokenizer.from_pretrained('ita_large-cased-bert_ged', use_fast=True)"
   ]
  },
  {
   "cell_type": "code",
   "execution_count": 42,
   "id": "ef32feb1-d6e2-4cf5-9d41-d9f89a068f41",
   "metadata": {},
   "outputs": [],
   "source": [
    "trainer = Trainer(\n",
    "    model,\n",
    "    args,\n",
    "    train_dataset=tokenized_training_dataset,\n",
    "    eval_dataset=tokenized_dev_dataset,\n",
    "    data_collator=data_collator,\n",
    "    tokenizer=tokenizer,\n",
    "    compute_metrics=compute_metrics\n",
    ")"
   ]
  },
  {
   "cell_type": "code",
   "execution_count": 46,
   "id": "4b6935e5-dc13-4a74-8eba-d120624095d9",
   "metadata": {
    "scrolled": true
   },
   "outputs": [
    {
     "data": {
      "text/html": [],
      "text/plain": [
       "<IPython.core.display.HTML object>"
      ]
     },
     "metadata": {},
     "output_type": "display_data"
    },
    {
     "name": "stderr",
     "output_type": "stream",
     "text": [
      "/home/elisabetta/anaconda3/lib/python3.12/site-packages/seqeval/metrics/v1.py:57: UndefinedMetricWarning: Precision and F-score are ill-defined and being set to 0.0 due to no predicted samples. Use `zero_division` parameter to control this behavior.\n",
      "  _warn_prf(average, modifier, msg_start, len(result))\n",
      "/home/elisabetta/anaconda3/lib/python3.12/site-packages/seqeval/metrics/v1.py:57: UndefinedMetricWarning: Recall and F-score are ill-defined and being set to 0.0 due to no true samples. Use `zero_division` parameter to control this behavior.\n",
      "  _warn_prf(average, modifier, msg_start, len(result))\n",
      "/home/elisabetta/anaconda3/lib/python3.12/site-packages/numpy/lib/function_base.py:520: RuntimeWarning: Mean of empty slice.\n",
      "  avg = a.mean(axis, **keepdims_kw)\n",
      "/home/elisabetta/anaconda3/lib/python3.12/site-packages/numpy/core/_methods.py:129: RuntimeWarning: invalid value encountered in scalar divide\n",
      "  ret = ret.dtype.type(ret / rcount)\n"
     ]
    },
    {
     "data": {
      "text/plain": [
       "{'eval_loss': 0.21840587258338928,\n",
       " 'eval_precision': 0.0,\n",
       " 'eval_recall': 0.0,\n",
       " 'eval_f1': 0.0,\n",
       " 'eval_accuracy': 0.9354683129159834,\n",
       " 'eval_runtime': 46.1528,\n",
       " 'eval_samples_per_second': 16.424,\n",
       " 'eval_steps_per_second': 2.058}"
      ]
     },
     "execution_count": 46,
     "metadata": {},
     "output_type": "execute_result"
    }
   ],
   "source": [
    "trainer.evaluate()"
   ]
  },
  {
   "cell_type": "code",
   "execution_count": 49,
   "id": "b6801e62-968a-4e55-80df-600194e68f01",
   "metadata": {
    "scrolled": true
   },
   "outputs": [
    {
     "name": "stderr",
     "output_type": "stream",
     "text": [
      "/home/elisabetta/anaconda3/lib/python3.12/site-packages/seqeval/metrics/v1.py:57: UndefinedMetricWarning: Precision and F-score are ill-defined and being set to 0.0 due to no predicted samples. Use `zero_division` parameter to control this behavior.\n",
      "  _warn_prf(average, modifier, msg_start, len(result))\n",
      "/home/elisabetta/anaconda3/lib/python3.12/site-packages/seqeval/metrics/v1.py:57: UndefinedMetricWarning: Recall and F-score are ill-defined and being set to 0.0 due to no true samples. Use `zero_division` parameter to control this behavior.\n",
      "  _warn_prf(average, modifier, msg_start, len(result))\n",
      "/home/elisabetta/anaconda3/lib/python3.12/site-packages/numpy/lib/function_base.py:520: RuntimeWarning: Mean of empty slice.\n",
      "  avg = a.mean(axis, **keepdims_kw)\n",
      "/home/elisabetta/anaconda3/lib/python3.12/site-packages/numpy/core/_methods.py:129: RuntimeWarning: invalid value encountered in scalar divide\n",
      "  ret = ret.dtype.type(ret / rcount)\n"
     ]
    }
   ],
   "source": [
    "predictions, labels, _ = trainer.predict(tokenized_dev_dataset)\n",
    "predictions = np.argmax(predictions, axis=2)"
   ]
  },
  {
   "cell_type": "markdown",
   "id": "bed3c137-84ad-4f65-b857-b08ae2f42451",
   "metadata": {},
   "source": [
    "### Postprocessing"
   ]
  },
  {
   "cell_type": "code",
   "execution_count": 2,
   "id": "69492298-ca27-4e59-a32b-b926d0f9f3a2",
   "metadata": {},
   "outputs": [
    {
     "ename": "NameError",
     "evalue": "name 'thesis_utils' is not defined",
     "output_type": "error",
     "traceback": [
      "\u001b[0;31m---------------------------------------------------------------------------\u001b[0m",
      "\u001b[0;31mNameError\u001b[0m                                 Traceback (most recent call last)",
      "Cell \u001b[0;32mIn[2], line 2\u001b[0m\n\u001b[1;32m      1\u001b[0m output_file_path \u001b[38;5;241m=\u001b[39m \u001b[38;5;124m\"\u001b[39m\u001b[38;5;124mita_large-cased-bert_pred.tsv\u001b[39m\u001b[38;5;124m\"\u001b[39m\n\u001b[0;32m----> 2\u001b[0m dev_tokens, dev_labels, dev_predictions \u001b[38;5;241m=\u001b[39m thesis_utils\u001b[38;5;241m.\u001b[39mmap_predictions_to_words_and_save_to_file(predictions, labels, tokenized_dev_dataset, output_file_path,multiged_labels,tokenizer\u001b[38;5;241m=\u001b[39mtokenizer)\n",
      "\u001b[0;31mNameError\u001b[0m: name 'thesis_utils' is not defined"
     ]
    }
   ],
   "source": [
    "output_file_path = \"ita_large-cased-bert_pred.tsv\"\n",
    "dev_tokens, dev_labels, dev_predictions = thesis_utils.map_predictions_to_words_and_save_to_file(predictions, labels, tokenized_dev_dataset, output_file_path,multiged_labels,tokenizer)"
   ]
  },
  {
   "cell_type": "markdown",
   "id": "f02ad2f4-5745-4cc2-b846-173e6fa69a55",
   "metadata": {
    "scrolled": true
   },
   "source": [
    "### Results and Confusion Metrix"
   ]
  },
  {
   "cell_type": "code",
   "execution_count": 55,
   "id": "938ead3a-7860-4b2d-ae45-cc116e98cad4",
   "metadata": {},
   "outputs": [
    {
     "name": "stdout",
     "output_type": "stream",
     "text": [
      "              precision    recall    f0.5-score    support\n",
      "c               0.9464    0.985251    0.95389        7933\n",
      "i               0.8678    0.634187    0.80825        1211\n",
      "\n",
      "micro avg       0.9388    0.938758    0.93876        9144\n",
      "macro avg       0.9071    0.809719    0.88107        9144\n"
     ]
    },
    {
     "data": {
      "image/png": "[encoded data removed]",
      "text/plain": [
       "<Figure size 800x600 with 2 Axes>"
      ]
     },
     "metadata": {},
     "output_type": "display_data"
    }
   ],
   "source": [
    "thesis_utils.evaluate_predictions(dev_predictions, dev_labels)"
   ]
  },
  {
   "cell_type": "code",
   "execution_count": null,
   "id": "f15df6e9-652c-4020-94ff-934d66be9741",
   "metadata": {},
   "outputs": [],
   "source": []
  }
 ],
 "metadata": {
  "kernelspec": {
   "display_name": "Python 3 (ipykernel)",
   "language": "python",
   "name": "python3"
  },
  "language_info": {
   "codemirror_mode": {
    "name": "ipython",
    "version": 3
   },
   "file_extension": ".py",
   "mimetype": "text/x-python",
   "name": "python",
   "nbconvert_exporter": "python",
   "pygments_lexer": "ipython3",
   "version": "3.12.2"
  }
 },
 "nbformat": 4,
 "nbformat_minor": 5
}

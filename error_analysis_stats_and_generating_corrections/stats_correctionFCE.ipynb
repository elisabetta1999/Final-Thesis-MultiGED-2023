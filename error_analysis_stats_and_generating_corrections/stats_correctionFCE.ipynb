{
 "cells": [
  {
   "cell_type": "markdown",
   "id": "81362070-03d2-4cf1-afa8-708ca2078b49",
   "metadata": {},
   "source": [
    "# Error Analysis"
   ]
  },
  {
   "cell_type": "code",
   "execution_count": 45,
   "id": "a60608e3-0995-4afe-90df-c914bad17072",
   "metadata": {},
   "outputs": [],
   "source": [
    "import pandas as pd\n",
    "import spacy\n",
    "import thesis_utils\n",
    "from IPython.display import display, HTML\n",
    "from collections import defaultdict\n",
    "from tqdm import tqdm\n",
    "import time\n",
    "from openai import OpenAI, APITimeoutError, APIConnectionError, APIError\n",
    "from openai import APITimeoutError\n",
    "import random\n",
    "import os\n",
    "import csv"
   ]
  },
  {
   "cell_type": "code",
   "execution_count": 47,
   "id": "01179886-d1fe-4710-9207-3ca12e1634d5",
   "metadata": {},
   "outputs": [],
   "source": [
    "xlm_roberta_fce = './predictions_on_processedfiles/proc_fce_xlm_roberta.tsv'"
   ]
  },
  {
   "cell_type": "code",
   "execution_count": 49,
   "id": "5b88e821-cd66-45c9-a19c-12ea2f8bbf10",
   "metadata": {},
   "outputs": [],
   "source": [
    "xlm_roberta_fce_sents = thesis_utils.read_tsv_file_and_find_sentences_with_headers(xlm_roberta_fce)"
   ]
  },
  {
   "cell_type": "code",
   "execution_count": 51,
   "id": "3a597881-9bbd-4977-a6d1-b1d65dacfe4d",
   "metadata": {},
   "outputs": [],
   "source": [
    "def evaluate_error_types_recall_only_merlin(sentences, dataset, print_results=True):\n",
    "    error_stats = defaultdict(lambda: {\"gold_i\": 0, \"correct_pred_i\": 0})\n",
    "    \n",
    "    for sentence in sentences:\n",
    "        for line in sentence:\n",
    "            if dataset == 'merlin':\n",
    "                error_type = line[6]\n",
    "                gold_label = line[-2]\n",
    "                pred_label = line[-1]\n",
    "                if gold_label == 'i':\n",
    "                    error_stats[error_type][\"gold_i\"] += 1\n",
    "                    if pred_label == 'i':\n",
    "                        error_stats[error_type][\"correct_pred_i\"] += 1\n",
    "            elif dataset == 'fce':\n",
    "                error_type = line[3]\n",
    "                gold_label = line[-2]\n",
    "                pred_label = line[-1]\n",
    "                if gold_label == 'i':\n",
    "                    error_stats[error_type][\"gold_i\"] += 1\n",
    "                    if pred_label == 'i':\n",
    "                        error_stats[error_type][\"correct_pred_i\"] += 1\n",
    "            elif dataset == 'realec':\n",
    "                gold_label = line[-2]\n",
    "                pred_label = line[-1]\n",
    "                error_type = line[2]\n",
    "                if gold_label == 'i':\n",
    "                    error_stats[error_type][\"gold_i\"] += 1\n",
    "                    if pred_label == 'i':\n",
    "                        error_stats[error_type][\"correct_pred_i\"] += 1\n",
    "\n",
    "    if print_results:\n",
    "        header = f\"| {'Error Code':<23} | {'Gold':>6} | {'True Pos.':>7} | {'False Neg.':>10} | {'Recall':>6} |\"\n",
    "        print(header)\n",
    "        print(\"|\" + \"-\"*(len(header)-2) + \"|\")\n",
    "\n",
    "        total_gold = 0\n",
    "        total_correct = 0\n",
    "\n",
    "        sorted_items = sorted(\n",
    "            error_stats.items(), \n",
    "            key=lambda item: item[1][\"correct_pred_i\"] / item[1][\"gold_i\"] if item[1][\"gold_i\"] > 0 else 0.0, \n",
    "            reverse=True\n",
    "        )\n",
    "\n",
    "        for error_type, stats in sorted_items:\n",
    "            gold_i = stats[\"gold_i\"]\n",
    "            correct_pred_i = stats[\"correct_pred_i\"]\n",
    "            false_neg = gold_i - correct_pred_i\n",
    "            recall = correct_pred_i / gold_i if gold_i > 0 else 0.0\n",
    "            print(f\"| {error_type:<23} | {gold_i:6d} | {correct_pred_i:9d} | {false_neg:10d} | {recall:6.2f} |\")\n",
    "            \n",
    "            total_gold += gold_i\n",
    "            total_correct += correct_pred_i\n",
    "\n",
    "        total_false_neg = total_gold - total_correct\n",
    "        overall_recall = total_correct / total_gold if total_gold > 0 else 0.0\n",
    "\n",
    "        print(\"|\" + \"-\"*(len(header)-2) + \"|\")\n",
    "        print(f\"| {'TOTAL':<23} | {total_gold:6d} | {total_correct:9d} | {total_false_neg:10d} | {overall_recall:6.2f} |\")\n",
    "\n",
    "    return error_stats"
   ]
  },
  {
   "cell_type": "code",
   "execution_count": 53,
   "id": "eabb12e8-6ccc-4757-b528-6cbba6216797",
   "metadata": {
    "scrolled": true
   },
   "outputs": [
    {
     "name": "stdout",
     "output_type": "stream",
     "text": [
      "| Error Code              |   Gold | True Pos. | False Neg. | Recall |\n",
      "|--------------------------------------------------------------------|\n",
      "| CN                      |      9 |         9 |          0 |   1.00 |\n",
      "| IV                      |     30 |        30 |          0 |   1.00 |\n",
      "| IQ                      |      2 |         2 |          0 |   1.00 |\n",
      "| IA                      |      2 |         2 |          0 |   1.00 |\n",
      "| MV                      |      1 |         1 |          0 |   1.00 |\n",
      "| DA                      |     15 |        14 |          1 |   0.93 |\n",
      "| S                       |    331 |       304 |         27 |   0.92 |\n",
      "| IN                      |     11 |        10 |          1 |   0.91 |\n",
      "| AGD                     |      7 |         6 |          1 |   0.86 |\n",
      "| DV                      |      7 |         6 |          1 |   0.86 |\n",
      "| MD                      |      8 |         6 |          2 |   0.75 |\n",
      "| DD                      |      4 |         3 |          1 |   0.75 |\n",
      "| FY                      |      4 |         3 |          1 |   0.75 |\n",
      "| AGV                     |     55 |        41 |         14 |   0.75 |\n",
      "| DN                      |     34 |        23 |         11 |   0.68 |\n",
      "| FJ                      |      3 |         2 |          1 |   0.67 |\n",
      "| DY                      |     23 |        15 |          8 |   0.65 |\n",
      "| DJ                      |     46 |        30 |         16 |   0.65 |\n",
      "| UD                      |      8 |         5 |          3 |   0.62 |\n",
      "| SX                      |     50 |        31 |         19 |   0.62 |\n",
      "| MA                      |      5 |         3 |          2 |   0.60 |\n",
      "| RP                      |    241 |       141 |        100 |   0.59 |\n",
      "| SA                      |     21 |        11 |         10 |   0.52 |\n",
      "| RT                      |    205 |       106 |         99 |   0.52 |\n",
      "| FV                      |    106 |        54 |         52 |   0.51 |\n",
      "| M                       |      4 |         2 |          2 |   0.50 |\n",
      "| FN                      |     57 |        28 |         29 |   0.49 |\n",
      "| AGN                     |     69 |        33 |         36 |   0.48 |\n",
      "|                         |    559 |       214 |        345 |   0.38 |\n",
      "| L                       |      8 |         3 |          5 |   0.38 |\n",
      "| IJ                      |      9 |         3 |          6 |   0.33 |\n",
      "| TV                      |    235 |        73 |        162 |   0.31 |\n",
      "| W                       |    327 |        99 |        228 |   0.30 |\n",
      "| ID                      |     53 |        15 |         38 |   0.28 |\n",
      "| RJ                      |     48 |        12 |         36 |   0.25 |\n",
      "| MP                      |     28 |         7 |         21 |   0.25 |\n",
      "| UP                      |     24 |         6 |         18 |   0.25 |\n",
      "| UV                      |      4 |         1 |          3 |   0.25 |\n",
      "| RN                      |    101 |        24 |         77 |   0.24 |\n",
      "| RV                      |    205 |        46 |        159 |   0.22 |\n",
      "| X                       |     23 |         5 |         18 |   0.22 |\n",
      "| AGA                     |      5 |         1 |          4 |   0.20 |\n",
      "| RY                      |     59 |        10 |         49 |   0.17 |\n",
      "| CQ                      |      6 |         1 |          5 |   0.17 |\n",
      "| R                       |    150 |        25 |        125 |   0.17 |\n",
      "| RQ                      |     13 |         2 |         11 |   0.15 |\n",
      "| RA                      |     55 |         7 |         48 |   0.13 |\n",
      "| RD                      |     41 |         5 |         36 |   0.12 |\n",
      "| AS                      |     91 |         9 |         82 |   0.10 |\n",
      "| DT                      |      1 |         0 |          1 |   0.00 |\n",
      "| UA                      |      6 |         0 |          6 |   0.00 |\n",
      "| UC                      |      3 |         0 |          3 |   0.00 |\n",
      "| RC                      |     19 |         0 |         19 |   0.00 |\n",
      "| U                       |      5 |         0 |          5 |   0.00 |\n",
      "| MT                      |      1 |         0 |          1 |   0.00 |\n",
      "| AGQ                     |      1 |         0 |          1 |   0.00 |\n",
      "| FD                      |      6 |         0 |          6 |   0.00 |\n",
      "| UY                      |      3 |         0 |          3 |   0.00 |\n",
      "| UT                      |      2 |         0 |          2 |   0.00 |\n",
      "|--------------------------------------------------------------------|\n",
      "| TOTAL                   |   3449 |      1489 |       1960 |   0.43 |\n"
     ]
    }
   ],
   "source": [
    "roberta_fce_stats = evaluate_error_types_recall_only_merlin(xlm_roberta_fce_sents,'fce')"
   ]
  },
  {
   "cell_type": "code",
   "execution_count": 55,
   "id": "1145f322-4e2c-4524-a86c-1a53966d22ac",
   "metadata": {},
   "outputs": [
    {
     "name": "stdout",
     "output_type": "stream",
     "text": [
      "False Positive Sentences (roberta-fce): 129\n",
      "False Negative Sentences (roberta-fce): 703\n",
      "\n"
     ]
    }
   ],
   "source": [
    "def find_false_positives_and_false_negatives(list_sentences, dataset):\n",
    "    only_fp = []\n",
    "    only_fn = []\n",
    "    both_fp_fn = []\n",
    "\n",
    "    false_negatives_by_type_clean = defaultdict(set)\n",
    "    false_negatives_by_type_all = defaultdict(set)\n",
    "\n",
    "    for sentence in list_sentences:\n",
    "        has_fp = any(token[-1] == 'i' and token[-2] == 'c' for token in sentence)\n",
    "        has_fn = any(token[-1] == 'c' and token[-2] == 'i' for token in sentence)\n",
    "\n",
    "        if has_fp and not has_fn:\n",
    "            only_fp.append(sentence)\n",
    "        elif has_fn and not has_fp:\n",
    "            only_fn.append(sentence)\n",
    "        elif has_fp and has_fn:\n",
    "            both_fp_fn.append(sentence)\n",
    "\n",
    "    for sentence in only_fn:\n",
    "        if dataset == 'merlin':\n",
    "            for token in sentence:\n",
    "                if token[-1] == 'c' and token[-2] == 'i' and len(token) > 6:\n",
    "                    error_type = token[6] if token[6] else 'NO_LABEL'\n",
    "                    false_negatives_by_type_clean[error_type].add(tuple(tuple(t) for t in sentence))\n",
    "        elif dataset == 'fce':\n",
    "            for token in sentence:\n",
    "                if token[-1] == 'c' and token[-2] == 'i' and len(token) > 3:\n",
    "                    error_type = token[3] if token[3] else 'NO_LABEL'\n",
    "                    false_negatives_by_type_clean[error_type].add(tuple(tuple(t) for t in sentence))\n",
    "        else:\n",
    "            for token in sentence:\n",
    "                if token[-1] == 'c' and token[-2] == 'i':\n",
    "                    error_type = token[2] if token[2] else 'NO_LABEL'\n",
    "                    false_negatives_by_type_clean[error_type].add(tuple(tuple(t) for t in sentence))\n",
    "\n",
    "    for sentence in both_fp_fn:\n",
    "        if dataset == 'merlin':\n",
    "            for token in sentence:\n",
    "                if token[-1] == 'c' and token[-2] == 'i' and len(token) > 6:\n",
    "                    error_type = token[6] if token[6] else 'NO_LABEL'\n",
    "                    false_negatives_by_type_all[error_type].add(tuple(tuple(t) for t in sentence))\n",
    "        elif dataset == 'fce':\n",
    "            for token in sentence:\n",
    "                if token[-1] == 'c' and token[-2] == 'i' and len(token) > 3:\n",
    "                    error_type = token[3] if token[3] else 'NO_LABEL'\n",
    "                    false_negatives_by_type_all[error_type].add(tuple(tuple(t) for t in sentence))\n",
    "        else:\n",
    "            for token in sentence:\n",
    "                if token[-1] == 'c' and token[-2] == 'i':\n",
    "                    error_type = token[2] if token[2] else 'NO_LABEL'\n",
    "                    false_negatives_by_type_all[error_type].add(tuple(tuple(t) for t in sentence))\n",
    "\n",
    "    false_negatives_by_type_clean = {k: list(v) for k, v in false_negatives_by_type_clean.items()}\n",
    "    false_negatives_by_type_all = {k: list(v) for k, v in false_negatives_by_type_all.items()}\n",
    "\n",
    "    return only_fp, only_fn, both_fp_fn, false_negatives_by_type_clean, false_negatives_by_type_all\n",
    "\n",
    "roberta_fce_only_fp, roberta_fce_only_fn, roberta_fce_fp_and_fn, roberta_fce_only_fn_error_type, roberta_fce_fn_fp_error_type = find_false_positives_and_false_negatives(xlm_roberta_fce_sents, 'fce')\n",
    "print(f\"False Positive Sentences (roberta-fce): {len(roberta_fce_only_fp)}\")\n",
    "print(f\"False Negative Sentences (roberta-fce): {len(roberta_fce_only_fn)}\\n\")"
   ]
  },
  {
   "cell_type": "code",
   "execution_count": 13,
   "id": "dbe70ef4-c66a-44a2-a62a-da798d542f74",
   "metadata": {
    "scrolled": true
   },
   "outputs": [
    {
     "name": "stdout",
     "output_type": "stream",
     "text": [
      "| AGA                | FN:      2 | TOTAL:      2 |\n",
      "| AGD                | FN:      1 | TOTAL:      0 |\n",
      "| AGN                | FN:     19 | TOTAL:      8 |\n",
      "| AGQ                | FN:      1 | TOTAL:      0 |\n",
      "| AGV                | FN:     10 | TOTAL:      3 |\n",
      "| AS                 | FN:     13 | TOTAL:      3 |\n",
      "| CQ                 | FN:      2 | TOTAL:      3 |\n",
      "| DA                 | FN:      0 | TOTAL:      1 |\n",
      "| DD                 | FN:      1 | TOTAL:      0 |\n",
      "| DJ                 | FN:     14 | TOTAL:      2 |\n",
      "| DN                 | FN:      6 | TOTAL:      2 |\n",
      "| DT                 | FN:      0 | TOTAL:      1 |\n",
      "| DV                 | FN:      0 | TOTAL:      1 |\n",
      "| DY                 | FN:      5 | TOTAL:      3 |\n",
      "| FD                 | FN:      4 | TOTAL:      2 |\n",
      "| FJ                 | FN:      1 | TOTAL:      0 |\n",
      "| FN                 | FN:     21 | TOTAL:      8 |\n",
      "| FV                 | FN:     32 | TOTAL:      7 |\n",
      "| FY                 | FN:      1 | TOTAL:      0 |\n",
      "| ID                 | FN:     11 | TOTAL:      6 |\n",
      "| IJ                 | FN:      1 | TOTAL:      2 |\n",
      "| IN                 | FN:      1 | TOTAL:      0 |\n",
      "| L                  | FN:      2 | TOTAL:      3 |\n",
      "| M                  | FN:      2 | TOTAL:      0 |\n",
      "| MA                 | FN:      2 | TOTAL:      0 |\n",
      "| MD                 | FN:      0 | TOTAL:      2 |\n",
      "| MP                 | FN:      6 | TOTAL:      7 |\n",
      "| MT                 | FN:      1 | TOTAL:      0 |\n",
      "| NO_LABEL           | FN:    195 | TOTAL:     73 |\n",
      "| R                  | FN:     55 | TOTAL:     19 |\n",
      "| RA                 | FN:     35 | TOTAL:     13 |\n",
      "| RC                 | FN:     11 | TOTAL:      7 |\n",
      "| RD                 | FN:     25 | TOTAL:     10 |\n",
      "| RJ                 | FN:     29 | TOTAL:      5 |\n",
      "| RN                 | FN:     50 | TOTAL:     19 |\n",
      "| RP                 | FN:     50 | TOTAL:     17 |\n",
      "| RQ                 | FN:      5 | TOTAL:      5 |\n",
      "| RT                 | FN:     63 | TOTAL:     29 |\n",
      "| RV                 | FN:    105 | TOTAL:     35 |\n",
      "| RY                 | FN:     31 | TOTAL:      7 |\n",
      "| S                  | FN:     18 | TOTAL:      6 |\n",
      "| SA                 | FN:      8 | TOTAL:      2 |\n",
      "| SX                 | FN:     11 | TOTAL:      8 |\n",
      "| TV                 | FN:     91 | TOTAL:     34 |\n",
      "| U                  | FN:      2 | TOTAL:      0 |\n",
      "| UA                 | FN:      3 | TOTAL:      0 |\n",
      "| UC                 | FN:      2 | TOTAL:      0 |\n",
      "| UD                 | FN:      3 | TOTAL:      0 |\n",
      "| UP                 | FN:      8 | TOTAL:      2 |\n",
      "| UT                 | FN:      0 | TOTAL:      1 |\n",
      "| UV                 | FN:      2 | TOTAL:      0 |\n",
      "| UY                 | FN:      1 | TOTAL:      0 |\n",
      "| W                  | FN:     66 | TOTAL:     13 |\n",
      "| X                  | FN:      6 | TOTAL:      1 |\n"
     ]
    }
   ],
   "source": [
    "for key in sorted(set(roberta_fce_only_fn_error_type) | set(roberta_fce_fn_fp_error_type)):\n",
    "    fn_count = len(roberta_fce_only_fn_error_type.get(key, []))\n",
    "    fp_fn_count = len(roberta_fce_fn_fp_error_type.get(key, []))\n",
    "    print(f\"| {key:<18} | FN: {fn_count:6d} | TOTAL: {fp_fn_count:6d} |\")"
   ]
  },
  {
   "cell_type": "code",
   "execution_count": 69,
   "id": "98f86279-ae15-4d56-814d-d288c8bb6bc5",
   "metadata": {
    "scrolled": true
   },
   "outputs": [
    {
     "name": "stdout",
     "output_type": "stream",
     "text": [
      "\n",
      "=== Sentence 1 ===\n",
      "TOKENS:        Dear | Principal | , | First | of | all | , | we | would | like | to | thank | you | for | good | programme | which | provides | us | 3 | days  | stay | in | London | .\n",
      "CORRECTIONS:        |           |   |       |    |     |   |    |       |      |    |       |     |     |      |           |       |          |    |   | days' |      |    |        |  \n",
      "ERROR TYPES:   -    | -         | - | -     | -  | -   | - | -  | -     | -    | -  | -     | -   | -   | -    | -         | -     | -        | -  | - | MP    | -    | -  | -      | -\n",
      "GOLD LABELS:   c    | c         | c | c     | c  | c   | c | c  | c     | c    | c  | c     | c   | c   | i    | c         | c     | c        | c  | i | c     | c    | c  | c      | c\n",
      "PRED LABELS:   c    | c         | c | c     | c  | c   | c | c  | c     | c    | c  | c     | c   | c   | i    | c         | c     | c        | c  | i | i     | i    | c  | c      | c\n",
      "\n",
      "=== Sentence 2 ===\n",
      "TOKENS:        However | , | we | have | found | an | advertisement | for | the | London | Fashion | and | Leisure | show | , | which | will | be | held | at | Central | Exhibition | Hall | on | 14th | of | March | .\n",
      "CORRECTIONS:           |   |    |      |       |    |               |     |     |        |         |     |         |      |   |       |      |    |      |    |         |            |      |    |      |    |       |  \n",
      "ERROR TYPES:   -       | - | -  | -    | -     | -  | -             | -   | -   | -      | -       | -   | -       | -    | - | -     | -    | -  | -    | -  | -       | -          | -    | -  | -    | -  | -     | -\n",
      "GOLD LABELS:   c       | c | c  | c    | c     | c  | c             | c   | c   | c      | c       | c   | c       | c    | c | c     | c    | c  | c    | c  | c       | c          | c    | c  | c    | c  | c     | c\n",
      "PRED LABELS:   c       | c | c  | c    | c     | c  | c             | c   | c   | c      | c       | c   | c       | c    | c | c     | c    | c  | c    | c  | i       | c          | c    | c  | i    | c  | c     | c\n",
      "\n",
      "=== Sentence 3 ===\n",
      "TOKENS:        50 | years | ago | , | Korean | mothers | should | have | made | a | fire | by | burning | woods | to | warm | a | room | up | and | make | food | .\n",
      "CORRECTIONS:      |       |     |   |        |         |        |      |      |   |      |    |         | wood  |    |      |   |      |    |     |      |      |  \n",
      "ERROR TYPES:   -  | -     | -   | - | -      | -       | -      | -    | -    | - | -    | -  | -       | CN    | -  | -    | - | -    | -  | -   | -    | -    | -\n",
      "GOLD LABELS:   c  | c     | c   | c | c      | c       | c      | c    | c    | c | c    | c  | c       | i     | c  | c    | c | c    | c  | c   | c    | c    | c\n",
      "PRED LABELS:   c  | c     | c   | c | c      | c       | c      | c    | c    | c | c    | c  | c       | i     | c  | c    | c | c    | c  | c   | i    | c    | c\n",
      "\n",
      "=== Sentence 4 ===\n",
      "TOKENS:        He | / | she | can | just | press | the | button | or | send | e | - | mail | to | operate | what | he | / | she | needs | , | even | though | the | owner | is | far | from | the | house | .\n",
      "CORRECTIONS:      |   |     |     |      |       |     |        |    |      |   |   |      |    |         |      |    |   |     |       |   |      |        |     |       |    |     |      |     |       |  \n",
      "ERROR TYPES:   -  | - | -   | -   | -    | -     | -   | -      | -  | -    | - | - | -    | -  | -       | -    | -  | - | -   | -     | - | -    | -      | -   | -     | -  | -   | -    | -   | -     | -\n",
      "GOLD LABELS:   c  | c | c   | c   | c    | c     | c   | c      | c  | c    | c | c | c    | c  | c       | c    | c  | c | c   | c     | c | c    | c      | c   | c     | c  | c   | c    | c   | c     | c\n",
      "PRED LABELS:   c  | c | c   | c   | c    | c     | c   | c      | c  | c    | c | c | c    | c  | i       | c    | c  | c | c   | c     | c | c    | c      | c   | c     | c  | c   | c    | c   | c     | c\n",
      "\n",
      "=== Sentence 5 ===\n",
      "TOKENS:        Please | let | me | know | if | you | are | agree | with | us | !\n",
      "CORRECTIONS:          |     |    |      |    |     |     |       |      |    |  \n",
      "ERROR TYPES:   -      | -   | -  | -    | -  | -   | UV  | -     | -    | -  | -\n",
      "GOLD LABELS:   c      | c   | c  | c    | c  | c   | c   | c     | c    | c  | c\n",
      "PRED LABELS:   c      | c   | c  | c    | c  | c   | c   | i     | c    | c  | c\n",
      "\n",
      "=== Sentence 6 ===\n",
      "TOKENS:        However | , | our | class | has | spotted | an | advertisement | for | the | London | Fashion | and | Leisure | Show | and | would | all | wish | to | attend | .\n",
      "CORRECTIONS:           |   |     |       |     |         |    |               |     |     |        |         |     |         |      |     |       |     |      |    |        |  \n",
      "ERROR TYPES:   -       | - | -   | -     | -   | -       | -  | -             | -   | -   | -      | -       | -   | -       | -    | -   | UV    | -   | -    | -  | -      | -\n",
      "GOLD LABELS:   c       | c | c   | c     | c   | c       | c  | c             | c   | c   | c      | c       | c   | c       | c    | c   | c     | c   | c    | c  | c      | c\n",
      "PRED LABELS:   c       | c | c   | c     | c   | c       | c  | c             | c   | c   | c      | c       | c   | c       | c    | c   | c     | i   | c    | c  | c      | c\n",
      "\n",
      "=== Sentence 7 ===\n",
      "TOKENS:        This | will | be | a | great | opportunity | for | us | because | we | will | be | able | to | find | out | more | about | the | people | of | London | and | their | fashions | and | style | we   | might | also | get | a | change | to | meet | new | people | and | interest | with | them | .\n",
      "CORRECTIONS:        |      |    |   |       |             |     |    |         |    |      |    |      |    |      |     |      |       |     |        |    |        |     |       |          |     |       | . We |       |      |     |   | chance |    |      |     |        |     | interact |      |      |  \n",
      "ERROR TYPES:   -    | -    | -  | - | -     | -           | -   | -  | -       | -  | -    | -  | -    | -  | -    | -   | -    | -     | -   | -      | -  | -      | -   | -     | -        | -   | -     | MP   | -     | -    | -   | - | RN     | -  | -    | -   | -      | -   | RV       | -    | -    | -\n",
      "GOLD LABELS:   c    | c    | c  | c | c     | c           | c   | c  | c       | c  | c    | c  | c    | c  | c    | c   | c    | c     | c   | c      | c  | c      | c   | c     | c        | c   | c     | i    | c     | c    | c   | c | i      | c  | c    | c   | c      | c   | i        | c    | c    | c\n",
      "PRED LABELS:   c    | c    | c  | c | c     | c           | c   | c  | c       | c  | c    | c  | c    | c  | c    | c   | c    | c     | c   | c      | c  | c      | c   | c     | c        | c   | c     | i    | c     | c    | c   | c | i      | i  | c    | c   | c      | c   | i        | c    | c    | c\n",
      "\n",
      "=== Sentence 8 ===\n",
      "TOKENS:        We | might | not | need | maids | to | do | housework | anymore | as | they | can | easily | be | replaced | with | a | robot | , | a | machine | , | or | something | other | with | the | same | purpose | .\n",
      "CORRECTIONS:      |       |     |      |       |    |    |           |         |    |      |     |        |    |          |      |   |       |   |   |         |   |    |           | else  |      |     |      |         |  \n",
      "ERROR TYPES:   -  | -     | -   | -    | -     | -  | -  | -         | -       | -  | -    | -   | -      | -  | -        | -    | - | -     | - | - | -       | - | -  | -         | R     | -    | -   | -    | -       | -\n",
      "GOLD LABELS:   c  | c     | c   | c    | c     | c  | c  | c         | c       | c  | c    | c   | c      | c  | c        | c    | c | c     | c | c | c       | c | c  | c         | i     | c    | c   | c    | c       | c\n",
      "PRED LABELS:   c  | c     | c   | c    | c     | c  | c  | c         | c       | c  | c    | c   | c      | c  | c        | c    | c | c     | c | c | c       | c | c  | i         | i     | c    | c   | c    | c       | c\n",
      "\n",
      "=== Sentence 9 ===\n",
      "TOKENS:        The | biggest | commercial | gain | in | history | I | believe | , | but | celebrities | are | not | animals | although | they | may | be | sometimes | treated | the | same | way | .\n",
      "CORRECTIONS:       |         |            |      |    |         |   |         |   |     |             |     |     |         |          |      |     |    |           |         |     |      |     |  \n",
      "ERROR TYPES:   -   | -       | -          | RN   | -  | -       | - | -       | - | -   | -           | -   | -   | -       | -        | -    | -   | -  | -         | -       | -   | -    | -   | -\n",
      "GOLD LABELS:   c   | c       | c          | c    | c  | c       | c | c       | c | c   | c           | c   | c   | c       | c        | c    | c   | c  | c         | c       | c   | c    | c   | c\n",
      "PRED LABELS:   c   | c       | c          | c    | c  | c       | c | c       | c | c   | c           | c   | c   | c       | c        | c    | c   | i  | i         | c       | c   | c    | c   | c\n",
      "\n",
      "=== Sentence 10 ===\n",
      "TOKENS:        To | sum | up | , | I | believe | that | everyone | has | the | right | to | keep | privacy | of | their | own | homes | and | even | someone | extremely | famous | deserve  | to | have | a | private | life | .\n",
      "CORRECTIONS:      |     |    |   |   |         |      |          |     |     |       |    |      |         |    |       |     |       |     |      |         |           |        | deserves |    |      |   |         |      |  \n",
      "ERROR TYPES:   -  | -   | -  | - | - | -       | -    | -        | -   | -   | -     | -  | RV   | -       | -  | -     | -   | -     | -   | -    | -       | -         | -      | AGV      | -  | -    | - | -       | -    | -\n",
      "GOLD LABELS:   c  | c   | c  | c | c | c       | c    | c        | c   | c   | c     | c  | c    | i       | c  | c     | c   | c     | c   | c    | c       | c         | c      | i        | c  | c    | c | c       | c    | c\n",
      "PRED LABELS:   c  | c   | c  | c | c | c       | c    | c        | c   | c   | c     | c  | c    | i       | i  | c     | c   | c     | c   | c    | c       | c         | c      | i        | c  | c    | c | c       | c    | c\n",
      "\n",
      "=== Sentence 11 ===\n",
      "TOKENS:        If | the | famous | person | does | n't | mind | in | being | filmed | in | his | personal | life | there | 's | no | problem | .\n",
      "CORRECTIONS:      |     |        |        |      |     |      |    |       |        |    |     |          |      |       |    |    |         |  \n",
      "ERROR TYPES:   -  | -   | -      | -      | -    | -   | -    | UT | -     | -      | -  | -   | -        | -    | -     | -  | -  | -       | -\n",
      "GOLD LABELS:   c  | c   | c      | c      | c    | c   | c    | c  | c     | c      | c  | c   | c        | c    | c     | c  | c  | c       | c\n",
      "PRED LABELS:   c  | c   | c      | c      | c    | c   | c    | i  | c     | c      | i  | c   | c        | c    | c     | c  | c  | c       | c\n",
      "\n",
      "=== Sentence 12 ===\n",
      "TOKENS:        We | also     | can      | suggest | how | the | originally | programme | can | be | changed | .\n",
      "CORRECTIONS:      | can also | can also |         |     |     | original   |           |     |    |         |  \n",
      "ERROR TYPES:   -  | W        | W        | -       | -   | -   | DJ         | -         | -   | -  | -       | -\n",
      "GOLD LABELS:   c  | i        | i        | c       | c   | c   | i          | c         | c   | c  | c       | c\n",
      "PRED LABELS:   c  | i        | i        | c       | c   | c   | i          | i         | c   | c  | c       | c\n",
      "\n",
      "=== Sentence 13 ===\n",
      "TOKENS:        And | checking | his | body | condition | .\n",
      "CORRECTIONS:       | checked  |     |      |           |  \n",
      "ERROR TYPES:   -   | TV       | -   | R    | R         | -\n",
      "GOLD LABELS:   c   | i        | c   | c    | c         | c\n",
      "PRED LABELS:   c   | i        | c   | i    | i         | c\n",
      "\n",
      "=== Sentence 14 ===\n",
      "TOKENS:        Now | about | your | questions | , | it | is | very | difficult | for | me | to | give | any | advice | you | about | it | ,  | I | do | n't | know | your | cousin | very | well | so | I | do | n't | know | what | she | prefers | reading | .\n",
      "CORRECTIONS:       |       |      |           |   |    |    |      |           |     |    |    |      |     |        |     |       |    | .  |   |    |     |      |      |        |      |      |    |   |    |     |      |      |     |         |         |  \n",
      "ERROR TYPES:   -   | -     | -    | -         | - | -  | -  | -    | -         | -   | -  | -  | -    | -   | -      | UA  | -     | -  | RP | - | -  | -   | -    | -    | -      | -    | -    | -  | - | -  | -   | -    | -    | -   | -       | -       | -\n",
      "GOLD LABELS:   c   | c     | c    | c         | c | c  | c  | c    | c         | c   | c  | c  | c    | c   | c      | c   | c     | c  | c  | c | c  | c   | c    | c    | c      | c    | c    | c  | c | c  | c   | c    | c    | c   | c       | c       | c\n",
      "PRED LABELS:   c   | c     | c    | c         | c | c  | c  | c    | c         | c   | c  | c  | c    | c   | c      | i   | c     | c  | c  | c | c  | c   | c    | c    | c      | c    | c    | c  | c | c  | c   | c    | c    | c   | c       | c       | c\n",
      "\n",
      "=== Sentence 15 ===\n",
      "TOKENS:        Working | long | hours | , | doing | plenty | of | activieties | , | going | out | , | going | on | holidays | .\n",
      "CORRECTIONS:           |      |       |   |       |        |    | activities  |   |       |     |   |       |    |          |  \n",
      "ERROR TYPES:   -       | -    | -     | - | -     | -      | -  | S           | - | -     | -   | - | -     | -  | -        | -\n",
      "GOLD LABELS:   c       | c    | c     | c | c     | c      | c  | i           | c | c     | c   | c | c     | c  | c        | c\n",
      "PRED LABELS:   c       | c    | c     | c | c     | c      | c  | i           | c | c     | c   | c | c     | c  | i        | c\n",
      "\n",
      "=== Sentence 16 ===\n",
      "TOKENS:        Okay | , | I | hope | to | have | news | from | you | very | soon | .\n",
      "CORRECTIONS:        |   |   |      |    |      |      |      |     |      |      |  \n",
      "ERROR TYPES:   -    | - | - | -    | -  | -    | -    | -    | -   | -    | -    | -\n",
      "GOLD LABELS:   c    | c | c | c    | c  | c    | c    | c    | c   | c    | c    | c\n",
      "PRED LABELS:   c    | c | c | c    | c  | c    | i    | c    | c   | c    | c    | c\n",
      "\n",
      "=== Sentence 17 ===\n",
      "TOKENS:        Secondly | , | the | show | started | at | 20:15 | instead | of | 19:30 | ,  | it | 's | a | theatre | but | not | a | concert | hall | ! | ! | ! | !\n",
      "CORRECTIONS:            |   |     |      |         |    |       |         |    |       | ;  |    |    |   |         |     |     |   |         |      |   |   |   |  \n",
      "ERROR TYPES:   -        | - | -   | -    | -       | -  | -     | -       | -  | -     | RP | -  | -  | - | -       | UC  | -   | - | -       | -    | - | - | - | -\n",
      "GOLD LABELS:   c        | c | c   | c    | c       | c  | c     | c       | c  | c     | c  | c  | c  | c | c       | c   | c   | c | c       | c    | c | c | c | c\n",
      "PRED LABELS:   c        | c | c   | c    | c       | c  | c     | c       | c  | c     | i  | i  | c  | c | c       | c   | c   | c | c       | c    | c | c | c | c\n",
      "\n",
      "=== Sentence 18 ===\n",
      "TOKENS:        Firstly | , | I | have | had | no | discount | at     | paying | . | secondly | there | was | delay | which | got | me | into | trouble | ,  | After | the | show | I | could | n't | catch | my | train | .\n",
      "CORRECTIONS:           |   |   | had  | had |    |          | when I | paid   |   | Secondly |       |     |       |       |     |    |      |         | .  |       |     |      |   |       |     |       |    |       |  \n",
      "ERROR TYPES:   -       | - | - | TV   | TV  | -  | -        | R      | TV     | - | RP       | -     | -   | -     | -     | -   | -  | -    | -       | RP | -     | -   | -    | - | -     | -   | -     | -  | -     | -\n",
      "GOLD LABELS:   c       | c | c | c    | c   | c  | c        | i      | i      | c | i        | c     | c   | i     | c     | c   | c  | c    | c       | c  | c     | c   | c    | c | c     | c   | c     | c  | c     | c\n",
      "PRED LABELS:   c       | c | c | i    | c   | c  | c        | i      | i      | c | i        | c     | c   | i     | c     | c   | c  | c    | c       | c  | c     | c   | c    | c | c     | c   | c     | c  | c     | c\n",
      "\n",
      "=== Sentence 19 ===\n",
      "TOKENS:        I | could | n't | consentrate | on | the | play | any | more | .\n",
      "CORRECTIONS:     |       |     | concentrate |    |     |      |     |      |  \n",
      "ERROR TYPES:   - | -     | -   | S           | -  | -   | -    | -   | -    | -\n",
      "GOLD LABELS:   c | c     | c   | i           | c  | c   | c    | c   | c    | c\n",
      "PRED LABELS:   c | c     | c   | i           | i  | c   | c    | c   | c    | c\n",
      "\n",
      "=== Sentence 20 ===\n",
      "TOKENS:        There | has | been | change | relatinships  | between | people | .\n",
      "CORRECTIONS:         |     |      |        | relationships |         |        |  \n",
      "ERROR TYPES:   -     | -   | -    | -      | S             | -       | -      | -\n",
      "GOLD LABELS:   c     | c   | c    | i      | i             | c       | c      | c\n",
      "PRED LABELS:   c     | i   | c    | i      | i             | c       | c      | c\n",
      "\n",
      "=== Sentence 21 ===\n",
      "TOKENS:        In | my | opinion | , | the | morden | technology | make  | our | life      | style     | combinient | .\n",
      "CORRECTIONS:      |    |         |   |     | modern |            | makes |     | lifestyle | lifestyle | convenient |  \n",
      "ERROR TYPES:   -  | -  | -       | - | UD  | S      | -          | AGV   | -   | RP        | RP        | S          | -\n",
      "GOLD LABELS:   c  | c  | c       | c | c   | i      | c          | i     | c   | c         | c         | i          | c\n",
      "PRED LABELS:   c  | c  | c       | c | c   | i      | c          | i     | c   | i         | i         | i          | c\n",
      "\n",
      "=== Sentence 22 ===\n",
      "TOKENS:        I | was | promised | that | the | starring | was | Danny | Brock | but | when | I | was | there | I | saw | just | other   | starring | that | was | completely | difference | from | your | brochar  | .\n",
      "CORRECTIONS:     |     |          |      |     | star     |     |       |       |     |      |   |     |       |   |     |      | another | star     |      |     |            | different  |      |      | brochure |  \n",
      "ERROR TYPES:   - | -   | -        | -    | -   | DN       | -   | -     | -     | -   | -    | - | -   | -     | - | -   | UY   | RQ      | DN       | -    | -   | -          | DJ         | -    | -    | S        | -\n",
      "GOLD LABELS:   c | c   | c        | c    | c   | i        | c   | c     | c     | c   | c    | c | c   | c     | c | c   | c    | i       | i        | c    | c   | c          | i          | c    | c    | i        | c\n",
      "PRED LABELS:   c | c   | c        | c    | c   | i        | c   | c     | c     | c   | c    | c | c   | c     | c | c   | c    | i       | i        | c    | c   | i          | i          | c    | c    | i        | c\n",
      "\n",
      "=== Sentence 23 ===\n",
      "TOKENS:        I | had | to | pay | full | prise | .\n",
      "CORRECTIONS:     |     |    |     |      | price |  \n",
      "ERROR TYPES:   - | -   | -  | -   | -    | S     | -\n",
      "GOLD LABELS:   c | c   | c  | c   | c    | i     | c\n",
      "PRED LABELS:   c | c   | c  | c   | i    | i     | c\n",
      "\n",
      "=== Sentence 24 ===\n",
      "TOKENS:        I | would | like | you | to | give | my | money | back | as | soon | as | possible | .\n",
      "CORRECTIONS:     |       |      |     |    |      |    |       |      |    |      |    |          |  \n",
      "ERROR TYPES:   - | -     | -    | -   | -  | -    | -  | -     | -    | -  | -    | -  | -        | -\n",
      "GOLD LABELS:   c | c     | c    | c   | c  | c    | c  | c     | c    | c  | c    | c  | c        | c\n",
      "PRED LABELS:   c | c     | c    | c   | c  | c    | i  | c     | c    | c  | c    | c  | c        | c\n",
      "\n",
      "=== Sentence 25 ===\n",
      "TOKENS:        Second | of | all | , | the | play | was | suposed  | to | start | at | 19:30 | , | but | it | started | at | 20:15 | .\n",
      "CORRECTIONS:          |    |     |   |     |      |     | supposed |    |       |    |       |   |     |    |         |    |       |  \n",
      "ERROR TYPES:   -      | -  | -   | - | -   | -    | -   | S        | -  | -     | -  | -     | - | -   | -  | -       | -  | -     | -\n",
      "GOLD LABELS:   c      | c  | c   | c | c   | c    | c   | i        | c  | c     | c  | c     | c | c   | c  | c       | c  | c     | c\n",
      "PRED LABELS:   i      | i  | i   | c | c   | c    | c   | i        | c  | c     | c  | c     | c | c   | c  | c       | c  | c     | c\n",
      "\n",
      "=== Sentence 26 ===\n",
      "TOKENS:        Pat | was | worried | , | she | did | n't | know | what | to | do | .\n",
      "CORRECTIONS:       |     |         |   |     |     |     |      |      |    |    |  \n",
      "ERROR TYPES:   -   | -   | -       | - | -   | -   | -   | -    | -    | -  | -  | -\n",
      "GOLD LABELS:   c   | c   | c       | c | c   | c   | c   | c    | c    | c  | c  | c\n",
      "PRED LABELS:   c   | c   | c       | i | i   | c   | c   | c    | c    | c  | c  | c\n",
      "\n",
      "=== Sentence 27 ===\n",
      "TOKENS:        Apologise | me | for | disturb | .\n",
      "CORRECTIONS:             |    |     |         |  \n",
      "ERROR TYPES:   CE        | CE | CE  | CE      | -\n",
      "GOLD LABELS:   c         | c  | c   | c       | c\n",
      "PRED LABELS:   c         | i  | c   | i       | c\n",
      "\n",
      "=== Sentence 28 ===\n",
      "TOKENS:        Everything | was | set | ... | the | day | and | hour | came | .\n",
      "CORRECTIONS:              |     |     |     |     |     |     |      |      |  \n",
      "ERROR TYPES:   -          | -   | -   | -   | -   | -   | -   | -    | -    | -\n",
      "GOLD LABELS:   c          | c   | c   | c   | c   | c   | c   | c    | c    | c\n",
      "PRED LABELS:   c          | c   | c   | c   | c   | c   | c   | i    | c    | c\n",
      "\n",
      "=== Sentence 29 ===\n",
      "TOKENS:        There | are | some | machines | which | have | helped | in | my | development | , | and | others | which | help | me | to | make | my | life | easier | .\n",
      "CORRECTIONS:         |     |      |          |       |      |        |    |    |             |   |     |        |       |      |    |    |      |    |      |        |  \n",
      "ERROR TYPES:   -     | -   | -    | -        | -     | -    | -      | -  | -  | -           | - | -   | -      | -     | -    | -  | -  | -    | -  | -    | -      | -\n",
      "GOLD LABELS:   c     | c   | c    | c        | c     | c    | c      | c  | c  | c           | c | c   | c      | c     | c    | c  | c  | c    | c  | c    | c      | c\n",
      "PRED LABELS:   c     | c   | c    | c        | c     | c    | c      | i  | c  | c           | c | c   | c      | c     | c    | c  | c  | c    | c  | c    | c      | c\n",
      "\n",
      "=== Sentence 30 ===\n",
      "TOKENS:        Firs  | of | all | Internet | gives | you | an | access | to | a | great | number | of | different | information | .\n",
      "CORRECTIONS:   First |    |     |          |       |     |    |        |    |   |       |        |    |           |             |  \n",
      "ERROR TYPES:   SX    | -  | -   | -        | -     | -   | UD | -      | -  | - | -     | -      | -  | -         | RN          | -\n",
      "GOLD LABELS:   i     | c  | c   | i        | c     | c   | c  | c      | c  | c | c     | c      | c  | c         | c           | c\n",
      "PRED LABELS:   i     | c  | c   | i        | i     | c   | c  | c      | c  | c | c     | c      | c  | c         | c           | c\n",
      "\n",
      "=== Sentence 31 ===\n",
      "TOKENS:        I | would | like | to | complain | about | the | show | which | you | presented | on | last | saturday | .\n",
      "CORRECTIONS:     |       |      |    |          |       |     |      |       |     |           |    |      | Saturday |  \n",
      "ERROR TYPES:   - | -     | -    | -  | -        | -     | -   | -    | -     | -   | -         | UT | -    | RP       | -\n",
      "GOLD LABELS:   c | c     | c    | c  | c        | c     | c   | c    | c     | c   | c         | c  | c    | i        | c\n",
      "PRED LABELS:   c | c     | c    | c  | c        | c     | c   | c    | c     | c   | i         | c  | c    | i        | c\n",
      "\n",
      "=== Sentence 32 ===\n",
      "TOKENS:        There | was | a | not  | on | the | door | saying | that | the | painting | was | going | on | the  | weekend | .\n",
      "CORRECTIONS:         |     |   | note |    |     |      |        |      |     |          |     |       |    | that |         |  \n",
      "ERROR TYPES:   -     | -   | - | SX   | -  | -   | -    | -      | -    | UD  | -        | -   | -     | -  | RD   | -       | -\n",
      "GOLD LABELS:   c     | c   | c | i    | c  | c   | c    | c      | c    | c   | c        | c   | c     | c  | i    | c       | c\n",
      "PRED LABELS:   c     | c   | c | i    | c  | c   | c    | c      | c    | c   | c        | c   | c     | i  | i    | c       | c\n",
      "\n",
      "=== Sentence 33 ===\n",
      "TOKENS:        Finally | the | sentence | was | written | blow | down | on | the | advertisement | was | absolutely | not | true | .\n",
      "CORRECTIONS:           |     |          |     |         |      |      |    |     |               |     |            |     |      |  \n",
      "ERROR TYPES:   -       | -   | -        | -   | -       | U    | U    | -  | -   | -             | -   | -          | -   | -    | -\n",
      "GOLD LABELS:   c       | c   | c        | i   | c       | c    | c    | c  | c   | c             | c   | c          | c   | c    | c\n",
      "PRED LABELS:   c       | c   | c        | i   | c       | i    | c    | i  | c   | c             | c   | c          | c   | c    | c\n",
      "\n",
      "=== Sentence 34 ===\n",
      "TOKENS:        It | took | quite | long | time | to | adjust | in | the | multi | culture | in | the | language | institue  | .\n",
      "CORRECTIONS:      |      |       |      |      |    |        | to |     |       |         |    |     |          | institute |  \n",
      "ERROR TYPES:   -  | -    | -     | -    | -    | -  | -      | RT | -   | DN    | DN      | -  | -   | -        | S         | -\n",
      "GOLD LABELS:   c  | c    | c     | i    | c    | c  | c      | i  | c   | c     | c       | c  | c   | c        | i         | c\n",
      "PRED LABELS:   c  | c    | c     | i    | c    | c  | c      | i  | c   | i     | i       | c  | c   | c        | i         | c\n",
      "\n",
      "=== Sentence 35 ===\n",
      "TOKENS:        One | day | she | realized | that | I | was | always | been | outside | of | circle | .\n",
      "CORRECTIONS:       |     |     |          |      |   |     |        |      |         |    |        |  \n",
      "ERROR TYPES:   -   | -   | -   | -        | -    | - | -   | -      | UV   | -       | -  | -      | -\n",
      "GOLD LABELS:   c   | c   | c   | c        | c    | c | c   | c      | c    | c       | c  | i      | c\n",
      "PRED LABELS:   c   | c   | c   | c        | c    | c | c   | c      | i    | c       | c  | i      | c\n",
      "\n",
      "=== Sentence 36 ===\n",
      "TOKENS:        So | , | I | had | no | perfect | evening | out | and | I | want | my | money | back | .\n",
      "CORRECTIONS:      |   |   |     |    |         |         |     |     |   |      |    |       |      |  \n",
      "ERROR TYPES:   -  | - | - | -   | -  | -       | -       | -   | -   | - | -    | -  | -     | -    | -\n",
      "GOLD LABELS:   c  | c | c | c   | c  | c       | c       | c   | c   | c | c    | c  | c     | c    | c\n",
      "PRED LABELS:   c  | c | c | c   | i  | c       | c       | c   | c   | c | c    | c  | c     | c    | c\n",
      "\n",
      "=== Sentence 37 ===\n",
      "TOKENS:        When | Thomas | Adison | invented | an | electric | light | , | it | was | the | greatest | invention | for | people | of | that | centure | .\n",
      "CORRECTIONS:        |        |        |          |    |          |       |   |    |     |     |          |           |     |        |    |      | century |  \n",
      "ERROR TYPES:   -    | -      | -      | -        | UD | -        | -     | - | -  | -   | -   | -        | -         | -   | -      | -  | -    | S       | -\n",
      "GOLD LABELS:   c    | c      | c      | c        | c  | c        | c     | c | c  | c   | c   | c        | c         | c   | c      | c  | c    | i       | c\n",
      "PRED LABELS:   c    | c      | c      | c        | c  | c        | c     | c | c  | c   | c   | c        | c         | c   | c      | i  | c    | i       | c\n",
      "\n",
      "=== Sentence 38 ===\n",
      "TOKENS:        On | the | other | hand | people | can | atrophided | of | all | this  | inventions | .\n",
      "CORRECTIONS:      |     |       |      |        |     |            |    |     | these |            |  \n",
      "ERROR TYPES:   -  | -   | -     | -    | -      | -   | DV         | -  | -   | AGD   | -          | -\n",
      "GOLD LABELS:   c  | c   | c     | c    | c      | c   | c          | c  | c   | i     | c          | c\n",
      "PRED LABELS:   c  | c   | c     | c    | c      | c   | i          | c  | c   | i     | c          | c\n",
      "\n",
      "=== Sentence 39 ===\n",
      "TOKENS:        The | technology | is | growing | and | growing | .\n",
      "CORRECTIONS:       |            |    |         |     |         |  \n",
      "ERROR TYPES:   -   | -          | -  | -       | -   | -       | -\n",
      "GOLD LABELS:   c   | c          | c  | c       | c   | c       | c\n",
      "PRED LABELS:   i   | i          | c  | c       | c   | c       | c\n",
      "\n",
      "=== Sentence 40 ===\n",
      "TOKENS:        The | new | technology | is | changing | our | lives | .\n",
      "CORRECTIONS:       |     |            |    |          |     |       |  \n",
      "ERROR TYPES:   -   | -   | -          | -  | -        | -   | -     | -\n",
      "GOLD LABELS:   c   | c   | c          | c  | c        | c   | c     | c\n",
      "PRED LABELS:   i   | i   | c          | c  | c        | c   | c     | c\n",
      "\n",
      "=== Sentence 41 ===\n",
      "TOKENS:        First       | day | in | London | , | I | saw | your | advertisement | which | was | very | interesting | to | me | .\n",
      "CORRECTIONS:   On my first |     |    |        |   |   |     |      |               |       |     |      |             |    |    |  \n",
      "ERROR TYPES:   M           | -   | -  | -      | - | - | -   | -    | -             | -     | -   | -    | -           | -  | -  | -\n",
      "GOLD LABELS:   i           | c   | c  | c      | c | c | c   | c    | c             | c     | c   | c    | c           | c  | c  | c\n",
      "PRED LABELS:   i           | c   | c  | c      | c | c | c   | c    | c             | c     | c   | c    | c           | i  | c  | c\n",
      "\n",
      "=== Sentence 42 ===\n",
      "TOKENS:        Second | , | I | went | to | the | theatre | exactly | seven | thirty | in | the | evening | .\n",
      "CORRECTIONS:          |   |   |      |    |     |         |         |       |        |    |     |         |  \n",
      "ERROR TYPES:   -      | - | - | -    | -  | -   | -       | -       | -     | -      | -  | -   | -       | -\n",
      "GOLD LABELS:   c      | c | c | c    | c  | c   | c       | i       | c     | c      | c  | c   | c       | c\n",
      "PRED LABELS:   c      | c | c | c    | c  | c   | c       | i       | i     | c      | c  | c   | c       | c\n",
      "\n",
      "=== Sentence 43 ===\n",
      "TOKENS:        However | the | show | started | 45 | minutes | later | .\n",
      "CORRECTIONS:           |     |      |         |    |         |       |  \n",
      "ERROR TYPES:   -       | -   | -    | -       | -  | -       | -     | -\n",
      "GOLD LABELS:   c       | c   | c    | c       | c  | c       | c     | c\n",
      "PRED LABELS:   c       | c   | c    | c       | c  | c       | i     | c\n",
      "\n",
      "=== Sentence 44 ===\n",
      "TOKENS:        Have | you | ever | seen | the | film | star | wars | ?\n",
      "CORRECTIONS:        |     |      |      |     |      |      |      |  \n",
      "ERROR TYPES:   -    | -   | -    | -    | -   | -    | -    | -    | -\n",
      "GOLD LABELS:   c    | c   | c    | c    | c   | c    | c    | c    | c\n",
      "PRED LABELS:   c    | c   | c    | c    | c   | c    | i    | c    | c\n",
      "\n",
      "=== Sentence 45 ===\n",
      "TOKENS:        And | did | you | notice | something | about | fashion | of | the | future | ?\n",
      "CORRECTIONS:       |     |     |        |           |       |         |    |     |        |  \n",
      "ERROR TYPES:   -   | -   | -   | -      | -         | -     | -       | -  | -   | -      | -\n",
      "GOLD LABELS:   c   | c   | c   | c      | c         | c     | c       | c  | c   | c      | c\n",
      "PRED LABELS:   c   | c   | c   | c      | c         | c     | i       | c  | c   | c      | c\n",
      "\n",
      "=== Sentence 46 ===\n",
      "TOKENS:        She | had | to | be | operated | on | and | my | family | and | I | were | very | scared | .\n",
      "CORRECTIONS:       |     |    |    |          |    |     |    |        |     |   |      |      |        |  \n",
      "ERROR TYPES:   -   | -   | -  | -  | -        | -  | -   | -  | -      | -   | - | -    | -    | -      | -\n",
      "GOLD LABELS:   c   | c   | c  | c  | c        | c  | c   | c  | c      | c   | c | c    | c    | c      | c\n",
      "PRED LABELS:   c   | c   | c  | c  | i        | c  | c   | c  | c      | c   | c | c    | c    | c      | c\n",
      "\n",
      "=== Sentence 47 ===\n",
      "TOKENS:        Last | week | I | was | on | holiday | in | London | and | I | went | to | the | theatre | for | entertaining | but | I | wish | I | 'd | not | go   | there | because | everythings | went | wrong | .\n",
      "CORRECTIONS:        |      |   |     |    |         |    |        |     |   |      |    |     |         |     |              |     |   |      |   |    |     | gone |       |         | everything  |      |       |  \n",
      "ERROR TYPES:   -    | -    | - | -   | -  | -       | -  | -      | -   | - | -    | -  | -   | -       | -   | DN           | -   | - | -    | - | -  | -   | TV   | -     | -       | IA          | -    | -     | -\n",
      "GOLD LABELS:   c    | c    | c | c   | c  | c       | c  | c      | c   | c | c    | c  | c   | c       | c   | c            | c   | c | c    | c | c  | c   | i    | c     | c       | i           | c    | c     | c\n",
      "PRED LABELS:   c    | c    | c | c   | c  | c       | c  | c      | c   | c | c    | c  | c   | c       | c   | i            | c   | c | c    | c | c  | c   | i    | c     | c       | i           | c    | c     | c\n",
      "\n",
      "=== Sentence 48 ===\n",
      "TOKENS:        All | the | time | I | am | thinking | about | Peter | .\n",
      "CORRECTIONS:       |     |      |   |    |          |       |       |  \n",
      "ERROR TYPES:   -   | -   | -    | - | -  | -        | -     | -     | -\n",
      "GOLD LABELS:   c   | c   | c    | c | c  | c        | c     | c     | c\n",
      "PRED LABELS:   i   | i   | i    | c | i  | c        | c     | c     | c\n",
      "\n",
      "=== Sentence 49 ===\n",
      "TOKENS:        It | 's | good | that | he | far | away | ... | I | miss | Peter | very | much | , | it | 's | unfair | to | put | him | in | a | prison | .\n",
      "CORRECTIONS:      |    |      |      |    |     |      |     |   |      |       |      |      |   |    |    |        |    |     |     |    |   |        |  \n",
      "ERROR TYPES:   -  | -  | -    | -    | -  | -   | -    | -   | - | -    | -     | -    | -    | - | -  | -  | -      | -  | -   | -   | -  | - | -      | -\n",
      "GOLD LABELS:   c  | c  | c    | c    | c  | i   | c    | c   | c | c    | c     | c    | c    | c | c  | c  | c      | c  | c   | c   | c  | c | c      | c\n",
      "PRED LABELS:   c  | c  | c    | c    | c  | i   | c    | c   | c | c    | c     | c    | c    | i | i  | c  | c      | c  | c   | c   | c  | c | c      | c\n",
      "\n",
      "=== Sentence 50 ===\n",
      "TOKENS:        But | it | 's | life | , | destiny | , | very | cruel | destiny | ...\n",
      "CORRECTIONS:       |    |    |      |   |         |   |      |       |         |    \n",
      "ERROR TYPES:   -   | -  | -  | -    | - | -       | - | -    | -     | -       | -  \n",
      "GOLD LABELS:   c   | c  | c  | c    | c | c       | c | c    | c     | c       | c  \n",
      "PRED LABELS:   c   | c  | c  | c    | c | c       | c | i    | c     | c       | c  \n",
      "\n",
      "=== Sentence 51 ===\n",
      "TOKENS:        Maria | was | speechless | , | it | was | the | first | time | that | she | did | n't | know | what | to | do | , | so | she | decided | to | stop | talking | to | Pat | .\n",
      "CORRECTIONS:         |     |            |   |    |     |     |       |      |      |     |     |     |      |      |    |    |   |    |     |         |    |      |         |    |     |  \n",
      "ERROR TYPES:   -     | -   | -          | - | -  | -   | -   | -     | -    | -    | -   | -   | -   | -    | -    | -  | -  | - | -  | -   | -       | -  | -    | -       | -  | -   | -\n",
      "GOLD LABELS:   c     | c   | c          | c | c  | c   | c   | c     | c    | c    | c   | c   | c   | c    | c    | c  | c  | c | c  | c   | c       | c  | c    | c       | c  | c   | c\n",
      "PRED LABELS:   c     | c   | c          | i | i  | c   | c   | c     | c    | c    | c   | c   | c   | c    | c    | c  | c  | c | c  | c   | c       | c  | c    | c       | c  | c   | c\n",
      "\n",
      "=== Sentence 52 ===\n",
      "TOKENS:        She | could | n't | keep | my | secret | and | everybody | knew | which | boy | I | was | in | love | with | .\n",
      "CORRECTIONS:       |       |     |      |    |        |     |           |      |       |     |   |     |    |      |      |  \n",
      "ERROR TYPES:   -   | -     | -   | -    | -  | -      | -   | -         | -    | -     | -   | - | -   | -  | -    | -    | -\n",
      "GOLD LABELS:   c   | c     | c   | c    | c  | c      | c   | c         | c    | c     | c   | c | c   | c  | c    | c    | c\n",
      "PRED LABELS:   c   | c     | c   | c    | c  | c      | c   | c         | c    | i     | c   | c | c   | c  | c    | c    | c\n",
      "\n",
      "=== Sentence 53 ===\n",
      "TOKENS:        I | hope | in | your | answer | and | in | your | explanation | about | this | .\n",
      "CORRECTIONS:     |      |    |      |        |     |    |      |             |       |      |  \n",
      "ERROR TYPES:   - | -    | R  | R    | R      | R   | R  | R    | R           | -     | -    | -\n",
      "GOLD LABELS:   c | c    | c  | c    | c      | c   | c  | c    | c           | c     | c    | c\n",
      "PRED LABELS:   c | c    | i  | c    | c      | c   | c  | c    | c           | c     | c    | c\n",
      "\n",
      "=== Sentence 54 ===\n",
      "TOKENS:        In | the | night | Francis | was | invited | to | the | party | , | at | Pat | 's | home | .\n",
      "CORRECTIONS:      |     |       |         |     |         |    |     |       |   |    |     |    |      |  \n",
      "ERROR TYPES:   -  | -   | -     | -       | -   | -       | -  | -   | -     | - | -  | -   | -  | -    | -\n",
      "GOLD LABELS:   c  | c   | c     | c       | c   | c       | c  | c   | c     | c | c  | c   | c  | c    | c\n",
      "PRED LABELS:   i  | c   | c     | c       | c   | c       | c  | c   | c     | c | c  | c   | c  | c    | c\n",
      "\n",
      "=== Sentence 55 ===\n",
      "TOKENS:        When | he | was | out | he | needed | to | buy | some | cigarettes | so | he | went | to | the | shop | where | the | owner | , | a  | his | friend | , | ask   | him | if | he | was | very | happy | about | his | present | , | the | new | gold | watch | , | he | was | very | lucky | to | have | best | friends | like | Pat | and | her | friends | .\n",
      "CORRECTIONS:        |    |     |     |    |        |    |     |      |            |    |    |      |    |     |      |       |     |       |   |    |     |        |   | asked |     |    |    |     |      |       |       |     |         |   |     |     |      |       |   |    |     |      |       |    |      |      |         |      |     |     |     |         |  \n",
      "ERROR TYPES:   -    | -  | -   | -   | -  | -      | -  | -   | -    | -          | -  | -  | -    | -  | -   | -    | -     | -   | -     | - | UD | -   | -      | - | TV    | -   | -  | -  | -   | -    | -     | -     | -   | -       | - | -   | -   | -    | -     | - | -  | -   | -    | -     | -  | -    | -    | -       | -    | -   | -   | -   | -       | -\n",
      "GOLD LABELS:   c    | c  | c   | c   | c  | c      | c  | c   | c    | c          | c  | c  | c    | c  | c   | c    | c     | c   | c     | c | c  | c   | c      | c | i     | c   | c  | c  | c   | c    | c     | c     | c   | c       | c | c   | c   | c    | c     | c | c  | c   | c    | c     | c  | c    | c    | c       | c    | c   | c   | c   | c       | c\n",
      "PRED LABELS:   c    | c  | c   | c   | c  | c      | c  | c   | c    | c          | c  | c  | c    | c  | c   | c    | c     | c   | c     | c | c  | c   | c      | c | i     | c   | c  | c  | c   | c    | c     | c     | c   | c       | c | c   | c   | c    | c     | i | i  | c   | c    | c     | c  | c    | c    | c       | c    | c   | c   | c   | c       | c\n",
      "\n",
      "=== Sentence 56 ===\n",
      "TOKENS:        I | 'm | writing | to | you | inform | you | about | the | dissapointing | evening | I | had | when | I | went | to | your | theather | to | see | the | play | called | \"\"\"\" | OVER | THE | RAINBOW | \"\"\"\" | .\n",
      "CORRECTIONS:     |    |         |    |     |        |     |       |     | disappointing |         |   |     |      |   |      |    |      | theatre  |    |     |     |      |        |      |      |     |         |      |  \n",
      "ERROR TYPES:   - | -  | -       | -  | -   | -      | -   | -     | -   | S             | -       | - | -   | -    | - | -    | -  | -    | S        | -  | -   | -   | -    | -      | -    | -    | -   | -       | -    | -\n",
      "GOLD LABELS:   c | c  | c       | c  | c   | c      | c   | c     | c   | i             | c       | c | c   | c    | c | c    | c  | c    | i        | c  | c   | c   | c    | c      | c    | c    | c   | c       | c    | c\n",
      "PRED LABELS:   c | c  | c       | c  | c   | i      | c   | c     | c   | i             | c       | c | c   | c    | c | c    | c  | c    | i        | c  | c   | c   | c    | c      | c    | c    | c   | c       | c    | c\n",
      "\n",
      "=== Sentence 57 ===\n",
      "TOKENS:        In | addition | to | this | we | use | the | net | to | comunicate  | with | some | friends | we | have | in | U.S.A. | It | 's | really | amazing | .\n",
      "CORRECTIONS:      |          |    |      |    |     |     |     |    | communicate |      |      |         |    |      |    |        |    |    |        |         |  \n",
      "ERROR TYPES:   -  | -        | -  | -    | -  | -   | -   | -   | -  | S           | -    | -    | -       | -  | -    | -  | -      | -  | -  | -      | -       | -\n",
      "GOLD LABELS:   c  | c        | c  | c    | c  | c   | c   | c   | c  | i           | c    | c    | c       | c  | c    | c  | i      | c  | c  | c      | c       | c\n",
      "PRED LABELS:   c  | c        | c  | c    | c  | c   | c   | c   | c  | i           | c    | c    | c       | c  | c    | c  | i      | i  | c  | c      | c       | c\n",
      "\n",
      "=== Sentence 58 ===\n",
      "TOKENS:        Afterwards | I | decided | to | go | for | a | meal | in | the | theatre | restaurant | but | It | was | closed | .\n",
      "CORRECTIONS:              |   |         |    |    |     |   |      |    |     |         |            |     |    |     |        |  \n",
      "ERROR TYPES:   -          | - | -       | -  | -  | -   | - | -    | -  | -   | -       | -          | -   | -  | -   | -      | -\n",
      "GOLD LABELS:   c          | c | c       | c  | c  | c   | c | c    | c  | c   | c       | c          | c   | c  | c   | c      | c\n",
      "PRED LABELS:   c          | c | c       | c  | c  | c   | c | c    | c  | c   | c       | c          | c   | i  | c   | c      | c\n",
      "\n",
      "=== Sentence 59 ===\n",
      "TOKENS:        You | wanted | to | cheat | me | , | so | I | will | be | very | pleasure | if | you | could | give | my | money | back | .\n",
      "CORRECTIONS:       |        |    |       |    |   |    |   |      |    |      | pleased  |    |     |       |      |    |       |      |  \n",
      "ERROR TYPES:   -   | -      | -  | -     | -  | - | -  | - | -    | -  | -    | DJ       | -  | -   | -     | -    | -  | -     | -    | -\n",
      "GOLD LABELS:   c   | c      | c  | c     | c  | c | c  | c | c    | c  | c    | i        | c  | c   | c     | c    | c  | c     | c    | c\n",
      "PRED LABELS:   c   | c      | c  | c     | c  | c | c  | c | i    | c  | c    | i        | c  | c   | c     | c    | i  | c     | c    | c\n",
      "\n",
      "=== Sentence 60 ===\n",
      "TOKENS:        Something | that | I | note | about | technology | is | that | we | are | loosing | green | places | and | there | are | a | lot | of | pollution | , | so | we | have | to | be | careful | .\n",
      "CORRECTIONS:             |      |   |      |       |            |    |      |    |     | losing  |       |        |     |       | is  |   |     |    |           |   |    |    |      |    |    |         |  \n",
      "ERROR TYPES:   -         | -    | - | -    | -     | -          | -  | -    | -  | -   | RV      | -     | -      | -   | -     | AGV | - | -   | -  | -         | - | -  | -  | -    | -  | -  | -       | -\n",
      "GOLD LABELS:   c         | c    | c | c    | c     | c          | c  | c    | c  | c   | i       | c     | c      | c   | c     | i   | c | c   | c  | c         | c | c  | c  | c    | c  | c  | c       | c\n",
      "PRED LABELS:   c         | c    | c | c    | c     | c          | c  | c    | c  | c   | i       | c     | c      | c   | c     | i   | c | c   | c  | i         | c | c  | c  | c    | c  | c  | c       | c\n",
      "\n",
      "=== Sentence 61 ===\n",
      "TOKENS:        I | also | hope | ,  | that | the | festival | could | be | even | better | next | year | .\n",
      "CORRECTIONS:     |      |      |    |      |     |          |       |    |      |        |      |      |  \n",
      "ERROR TYPES:   - | -    | -    | UP | -    | -   | -        | -     | -  | -    | -      | -    | -    | -\n",
      "GOLD LABELS:   c | c    | c    | c  | c    | c   | c        | c     | c  | c    | c      | c    | c    | c\n",
      "PRED LABELS:   c | c    | c    | c  | c    | c   | c        | i     | c  | c    | c      | c    | c    | c\n",
      "\n",
      "=== Sentence 62 ===\n",
      "TOKENS:        To | begin | with | , | you | wrote | down | in | the | leaflet | that | stars | and | artists | from | around | the | world | could | be | seen | in | the | performance | in   | fact | their | were | only | six | countries | involved | .\n",
      "CORRECTIONS:      |       |      |   |     |       |      |    |     |         |      |       |     |         |      |        |     |       |       |    |      |    |     |             | . In |      | there |      |      |     |           |          |  \n",
      "ERROR TYPES:   -  | -     | -    | - | -   | -     | UY   | -  | -   | -       | -    | -     | -   | -       | -    | -      | -   | -     | -     | -  | -    | -  | -   | -           | MP   | -    | SX    | -    | -    | -   | -         | -        | -\n",
      "GOLD LABELS:   c  | c     | c    | c | c   | c     | c    | c  | c   | c       | c    | c     | c   | c       | c    | c      | c   | c     | c     | c  | c    | c  | c   | c           | i    | c    | i     | c    | c    | c   | c         | c        | c\n",
      "PRED LABELS:   c  | c     | c    | c | c   | c     | c    | c  | c   | c       | c    | c     | c   | c       | c    | c      | c   | c     | c     | c  | c    | i  | c   | c           | i    | c    | i     | c    | c    | c   | c         | c        | c\n",
      "\n",
      "=== Sentence 63 ===\n",
      "TOKENS:        The | problems | that | you | have | here | is | the | weather | .\n",
      "CORRECTIONS:       | problem  |      |     |      |      |    |     |         |  \n",
      "ERROR TYPES:   -   | FN       | -    | -   | -    | -    | -  | -   | -       | -\n",
      "GOLD LABELS:   c   | i        | c    | c   | c    | c    | c  | c   | c       | c\n",
      "PRED LABELS:   c   | i        | c    | c   | c    | c    | i  | c   | c       | c\n",
      "\n",
      "=== Sentence 64 ===\n",
      "TOKENS:        Okay | do | n't | wait | , | there | where | you | 're | good | at | and | begin | .\n",
      "CORRECTIONS:        |    |     |      |   |       |       |     |     |      |    |     |       |  \n",
      "ERROR TYPES:   -    | -  | -   | -    | - | R     | R     | R   | R   | R    | R  | R   | R     | -\n",
      "GOLD LABELS:   c    | c  | c   | c    | c | c     | c     | c   | c   | c    | c  | c   | c     | c\n",
      "PRED LABELS:   c    | c  | c   | c    | c | i     | c     | c   | c   | c    | c  | i   | i     | c\n",
      "\n",
      "=== Sentence 65 ===\n",
      "TOKENS:        I | hope | that | my | opinion | can | help | you | to | set      | fro | the | next | year | a | great | internation   | arts | festival | alone | to | young | people | .\n",
      "CORRECTIONS:     |      |      |    |         |     |      |     |    | organize | for |     |      |      |   |       | international |      |          |       |    |       |        |  \n",
      "ERROR TYPES:   - | -    | -    | -  | -       | -   | -    | -   | -  | RV       | SX  | UD  | -    | -    | - | -     | DJ            | -    | -        | R     | R  | R     | R      | -\n",
      "GOLD LABELS:   c | c    | c    | c  | c       | c   | c    | c   | c  | i        | i   | c   | c    | c    | c | c     | i             | c    | c        | c     | c  | c     | c      | c\n",
      "PRED LABELS:   c | c    | c    | c  | c       | c   | c    | c   | c  | i        | i   | c   | c    | c    | i | c     | i             | c    | c        | i     | i  | c     | c      | c\n",
      "\n",
      "=== Sentence 66 ===\n",
      "TOKENS:        But | also | there | are | some | notes | that | you | should | improve | in | the | next | year | 's | festival | to | make | it | absolutelly | wonderful | .\n",
      "CORRECTIONS:       |      |       |     |      |       |      |     |        |         |    |     |      |      |    |          |    |      |    | absolutely  |           |  \n",
      "ERROR TYPES:   -   | -    | -     | -   | -    | RV    | -    | -   | -      | -       | -  | UD  | -    | -    | -  | -        | -  | -    | -  | DY          | -         | -\n",
      "GOLD LABELS:   c   | c    | c     | c   | c    | c     | c    | c   | c      | c       | c  | c   | c    | c    | c  | c        | c  | c    | c  | i           | c         | c\n",
      "PRED LABELS:   c   | c    | c     | c   | c    | c     | c    | c   | c      | c       | i  | c   | c    | c    | c  | c        | c  | c    | c  | i           | c         | c\n",
      "\n",
      "=== Sentence 67 ===\n",
      "TOKENS:        Your | dance | shows | are | very | beautiful | , | art | exhibitions | is | something | original | and | exciting | .\n",
      "CORRECTIONS:        |       |       |     |      |           |   |     | exhibition  |    |           |          |     |          |  \n",
      "ERROR TYPES:   -    | -     | -     | -   | -    | -         | - | -   | FN          | -  | -         | -        | -   | -        | -\n",
      "GOLD LABELS:   c    | c     | c     | c   | c    | c         | c | i   | i           | c  | c         | c        | c   | c        | c\n",
      "PRED LABELS:   c    | c     | c     | c   | c    | c         | c | i   | i           | i  | c         | c        | c   | c        | c\n",
      "\n",
      "=== Sentence 68 ===\n",
      "TOKENS:        I | am | very | happy | for   | winning | the | first | prize | in | your | competition | and | I | am | glad | to | tell | you | that | I | am | planning | to | go | but | I | can | only | travel | on | July | because | I | have | to | work | until | the | end | of | June | .\n",
      "CORRECTIONS:     |    |      |       | about |         |     |       |       |    |      |             |     |   |    |      |    |      |     |      |   |    |          |    |    |     |   |     |      |        | in |      |         |   |      |    |      |       |     |     |    |      |  \n",
      "ERROR TYPES:   - | -  | -    | -     | RT    | -       | -   | -     | -     | -  | -    | -           | -   | - | -  | -    | -  | -    | -   | -    | - | -  | -        | -  | -  | -   | - | -   | -    | -      | RT | -    | -       | - | -    | -  | -    | -     | -   | -   | -  | -    | -\n",
      "GOLD LABELS:   c | c  | c    | c     | i     | c       | c   | c     | c     | c  | c    | c           | c   | c | c  | c    | c  | c    | c   | c    | c | c  | c        | c  | c  | c   | c | c   | c    | c      | i  | c    | c       | c | c    | c  | c    | c     | c   | c   | c  | c    | c\n",
      "PRED LABELS:   c | c  | c    | c     | i     | i       | c   | c     | c     | c  | c    | c           | c   | c | c  | c    | c  | c    | c   | c    | c | c  | c        | c  | c  | c   | c | c   | c    | c      | i  | c    | c       | c | c    | c  | c    | c     | c   | c   | c  | c    | c\n",
      "\n",
      "=== Sentence 69 ===\n",
      "TOKENS:        After | the | concert | I | only | help   | with | tidy | up | the | place | and | made | sure | that | everything | was | under | control | and | clean | .\n",
      "CORRECTIONS:         |     |         |   |      | helped |      |      |    |     |       |     |      |      |      |            |     |       |         |     |       |  \n",
      "ERROR TYPES:   -     | -   | -       | - | -    | TV     | UT   | -    | -  | -   | -     | -   | -    | -    | -    | -          | -   | -     | -       | -   | -     | -\n",
      "GOLD LABELS:   c     | c   | c       | c | c    | i      | c    | c    | c  | c   | c     | c   | c    | c    | c    | c          | c   | c     | c       | c   | c     | c\n",
      "PRED LABELS:   c     | c   | c       | c | c    | i      | c    | i    | c  | c   | c     | c   | c    | c    | c    | c          | c   | c     | c       | c   | c     | c\n",
      "\n",
      "=== Sentence 70 ===\n",
      "TOKENS:        Thank | you | for | choosen  | our | ticket | at | the | final | .\n",
      "CORRECTIONS:         |     |     | choosing |     |        |    |     |       |  \n",
      "ERROR TYPES:   -     | -   | -   | IV       | -   | -      | R  | R   | R     | -\n",
      "GOLD LABELS:   c     | c   | c   | i        | c   | c      | c  | c   | c     | c\n",
      "PRED LABELS:   c     | c   | c   | i        | c   | c      | i  | c   | i     | c\n",
      "\n",
      "=== Sentence 71 ===\n",
      "TOKENS:        I | think | I | ca | n't | forgotten | this | experience | on | my | mind\n",
      "CORRECTIONS:     |       |   |    |     |           |      |            |    |    |     \n",
      "ERROR TYPES:   R | R     | R | R  | R   | R         | R    | R          | R  | R  | R   \n",
      "GOLD LABELS:   c | c     | c | c  | c   | c         | c    | c          | c  | c  | c   \n",
      "PRED LABELS:   c | c     | c | c  | c   | i         | c    | c          | c  | c  | c   \n",
      "\n",
      "=== Sentence 72 ===\n",
      "TOKENS:        Basketball   | because | I | am | very | good | at | it | , | swimming | because | I | like | to | swim | very | much | but | I | 'm | not | a | very | good | swimmer | .\n",
      "CORRECTIONS:   : basketball |         |   |    |      |      |    |    |   |          |         |   |      |    |      |      |      |     |   |    |     |   |      |      |         |  \n",
      "ERROR TYPES:   RP           | -       | - | -  | -    | -    | -  | -  | - | -        | -       | - | -    | -  | -    | -    | -    | -   | - | -  | -   | - | -    | -    | -       | -\n",
      "GOLD LABELS:   c            | c       | c | c  | c    | c    | c  | c  | c | c        | c       | c | c    | c  | c    | c    | c    | c   | c | c  | c   | c | c    | c    | c       | c\n",
      "PRED LABELS:   c            | c       | c | c  | c    | c    | c  | c  | c | i        | c       | c | c    | c  | c    | c    | c    | c   | c | c  | c   | c | c    | c    | c       | c\n",
      "\n",
      "=== Sentence 73 ===\n",
      "TOKENS:        Tuesdy | 13th | , | June | , | 2000\n",
      "CORRECTIONS:          |      |   |      |   |     \n",
      "ERROR TYPES:   -      | -    | - | -    | - | -   \n",
      "GOLD LABELS:   c      | c    | c | c    | c | c   \n",
      "PRED LABELS:   i      | c    | c | c    | c | c   \n",
      "\n",
      "=== Sentence 74 ===\n",
      "TOKENS:        On | the | other | hand | , | I | keen | on | painting | , | however | , | I | have | never | painted | in | my | life | , | so | I | would | like | to | try | it | .\n",
      "CORRECTIONS:      |     |       |      |   |   |      |    |          |   |         |   |   |      |       |         |    |    |      |   |    |   |       |      |    |     |    |  \n",
      "ERROR TYPES:   -  | -   | -     | -    | - | - | -    | -  | -        | - | -       | - | - | -    | -     | -       | -  | -  | -    | - | -  | - | -     | -    | -  | -   | -  | -\n",
      "GOLD LABELS:   c  | c   | c     | c    | c | c | i    | c  | c        | c | c       | c | c | c    | c     | c       | c  | c  | c    | c | c  | c | c     | c    | c  | c   | c  | c\n",
      "PRED LABELS:   c  | c   | c     | c    | c | c | i    | c  | c        | i | c       | c | c | c    | c     | c       | c  | c  | c    | c | c  | c | c     | c    | c  | c   | c  | c\n",
      "\n",
      "=== Sentence 75 ===\n",
      "TOKENS:        Finally | , | I | was | wondering | what | kind | of | clothes | I | have | to | wear | in | California | ?\n",
      "CORRECTIONS:           |   |   |     |           |      |      |    |         |   |      |    |      |    |            |  \n",
      "ERROR TYPES:   -       | - | - | -   | -         | -    | -    | -  | -       | - | -    | -  | -    | -  | -          | -\n",
      "GOLD LABELS:   c       | c | c | c   | c         | c    | c    | c  | c       | c | c    | c  | c    | c  | c          | c\n",
      "PRED LABELS:   c       | c | c | c   | c         | c    | c    | c  | c       | i | c    | c  | c    | c  | c          | c\n",
      "\n",
      "=== Sentence 76 ===\n",
      "TOKENS:        I | thought | he | was | very | rude | , | but | I | was | wrong | , | he | is | n't | arrogant | at | all | and | he | looks | very | simply | .\n",
      "CORRECTIONS:     |         |    |     |      |      |   |     |   |     |       |   |    |    |     |          |    |     |     |    |       |      |        |  \n",
      "ERROR TYPES:   - | -       | -  | -   | -    | -    | - | -   | - | -   | -     | - | -  | -  | -   | -        | -  | -   | -   | -  | -     | -    | R      | -\n",
      "GOLD LABELS:   c | c       | c  | c   | c    | c    | c | c   | c | c   | c     | c | c  | c  | c   | c        | c  | c   | c   | c  | c     | c    | c      | c\n",
      "PRED LABELS:   c | c       | c  | c   | c    | c    | c | c   | c | c   | c     | c | c  | c  | c   | c        | c  | c   | c   | c  | c     | c    | i      | c\n",
      "\n",
      "=== Sentence 77 ===\n",
      "TOKENS:        Moreover | I | would | like | to | know | what | kind | of | clothes | are | the | best | for | living | in | the | camp | and | if | I | need | to | bring | with | me | a | large | amount | of | money | .\n",
      "CORRECTIONS:            |   |       |      |    |      |      |      |    |         |     |     |      |     |        |    |     |      |     |    |   |      |    |       |      |    |   |       |        |    |       |  \n",
      "ERROR TYPES:   -        | - | -     | -    | -  | -    | -    | -    | -  | -       | -   | -   | -    | -   | -      | -  | -   | -    | -   | -  | - | -    | -  | -     | -    | -  | - | -     | -      | -  | -     | -\n",
      "GOLD LABELS:   c        | c | c     | c    | c  | c    | c    | c    | c  | c       | c   | c   | c    | c   | c      | c  | c   | c    | c   | c  | c | c    | c  | c     | c    | c  | c | c     | c      | c  | c     | c\n",
      "PRED LABELS:   c        | c | c     | c    | c  | c    | c    | c    | c  | c       | c   | c   | c    | c   | i      | c  | c   | c    | c   | c  | c | c    | c  | c     | c    | c  | c | c     | c      | c  | c     | c\n",
      "\n",
      "=== Sentence 78 ===\n",
      "TOKENS:        It | was | like | a | dream | come | true | , | and | was | the | best | part | of | the | experience | in | my | opinion | .\n",
      "CORRECTIONS:      |     |      |   |       |      |      |   |     |     |     |      |      |    |     |            |    |    |         |  \n",
      "ERROR TYPES:   -  | -   | -    | - | -     | -    | -    | - | -   | -   | -   | -    | -    | -  | -   | -          | -  | -  | -       | -\n",
      "GOLD LABELS:   c  | c   | c    | c | c     | c    | c    | c | c   | c   | c   | c    | c    | c  | c   | c          | c  | c  | c       | c\n",
      "PRED LABELS:   c  | c   | c    | c | c     | c    | c    | c | c   | i   | c   | c    | c    | c  | c   | c          | c  | c  | c       | c\n",
      "\n",
      "=== Sentence 79 ===\n",
      "TOKENS:        One | of | the | activities | I | would | prefer | to | do | is | Climbing | ,  | I | haven't | done | a | lot | of | it | but | I | 've | always | found | it | interesting | and | I | think | this | would | be | a | good | opportunity | to | become | better | in | it | .\n",
      "CORRECTIONS:       |    |     |            |   |       |        |    |    |    |          | .  |   |         |      |   |     |    |    |     |   |     |        |       |    |             |     |   |       |      |       |    |   |      |             |    |        |        | at |    |  \n",
      "ERROR TYPES:   -   | -  | -   | -          | - | -     | -      | -  | -  | -  | -        | RP | - | -       | -    | - | -   | -  | -  | -   | - | -   | -      | -     | -  | -           | -   | - | -     | -    | -     | -  | - | -    | -           | -  | -      | -      | RT | -  | -\n",
      "GOLD LABELS:   c   | c  | c   | c          | c | c     | c      | c  | c  | c  | c        | c  | c | c       | c    | c | c   | c  | c  | c   | c | c   | c      | c     | c  | c           | c   | c | c     | c    | c     | c  | c | c    | c           | c  | c      | c      | i  | c  | c\n",
      "PRED LABELS:   c   | c  | c   | c          | c | c     | c      | c  | c  | c  | i        | c  | c | c       | c    | c | c   | c  | c  | c   | c | c   | c      | c     | c  | c           | c   | c | c     | c    | c     | c  | c | c    | c           | c  | c      | c      | i  | c  | c\n",
      "\n",
      "=== Sentence 80 ===\n",
      "TOKENS:        Hello | girl | how | are | you | doing | this  | days | . \n",
      "CORRECTIONS:         |      |     |     |     |       | these |      | ? \n",
      "ERROR TYPES:   -     | -    | -   | -   | -   | -     | AGD   | -    | RP\n",
      "GOLD LABELS:   c     | c    | c   | c   | c   | c     | i     | c    | c \n",
      "PRED LABELS:   c     | c    | c   | c   | c   | c     | i     | i    | c \n",
      "\n",
      "=== Sentence 81 ===\n",
      "TOKENS:        This | is | what | happened | : | when | I | arrive  | they | told | me | that | I | was | helping | in | backstage | with | the | scenery | ,  | then | the | group | arrived | , | we | chat | for | like | 15 | minutes | then | they | had | to | go | on | stage | .\n",
      "CORRECTIONS:        |    |      |          |   |      |   | arrived |      |      |    |      |   |     |         |    |           |      |     |         | ;  |      |     |       |         |   |    |      |     |      |    |         |      |      |     |    |    |    |       |  \n",
      "ERROR TYPES:   -    | -  | -    | -        | - | -    | - | TV      | -    | -    | -  | -    | - | -   | -       | UT | -         | -    | -   | -       | RP | -    | -   | -     | -       | - | -  | -    | -   | -    | -  | -       | -    | -    | -   | -  | -  | -  | -     | -\n",
      "GOLD LABELS:   c    | c  | c    | c        | c | c    | c | i       | c    | c    | c  | c    | c | c   | c       | c  | c         | c    | c   | c       | c  | c    | c   | c     | c       | c | c  | c    | c   | c    | c  | c       | c    | c    | c   | c  | c  | c  | c     | c\n",
      "PRED LABELS:   c    | c  | c    | c        | c | c    | c | i       | c    | c    | c  | c    | c | c   | c       | c  | c         | c    | c   | c       | c  | c    | c   | c     | c       | i | c  | i    | c   | c    | c  | c       | c    | c    | c   | c  | c  | c  | c     | c\n",
      "\n",
      "=== Sentence 82 ===\n",
      "TOKENS:        You | asked | me | few | questions | in | your | letter | .\n",
      "CORRECTIONS:       |       |    |     |           |    |      |        |  \n",
      "ERROR TYPES:   -   | -     | -  | -   | -         | -  | -    | -      | -\n",
      "GOLD LABELS:   c   | c     | c  | c   | c         | c  | c    | c      | c\n",
      "PRED LABELS:   c   | c     | c  | i   | c         | c  | c    | c      | c\n",
      "\n",
      "=== Sentence 83 ===\n",
      "TOKENS:        I | can | come | to | USA | on | July | becouse | on | August | I | will | be | working | with | my | father | .\n",
      "CORRECTIONS:     |     |      |    |     | in |      | because | in |        |   |      |    |         |      |    |        |  \n",
      "ERROR TYPES:   - | -   | -    | -  | -   | RT | -    | S       | RT | -      | - | -    | -  | -       | -    | -  | -      | -\n",
      "GOLD LABELS:   c | c   | c    | c  | c   | i  | c    | i       | i  | c      | c | c    | c  | c       | c    | c  | c      | c\n",
      "PRED LABELS:   c | c   | c    | c  | i   | i  | c    | i       | i  | c      | c | c    | c  | c       | c    | c  | c      | c\n",
      "\n",
      "=== Sentence 84 ===\n",
      "TOKENS:        Nights | in | hol | . | on | July | are | hot | .\n",
      "CORRECTIONS:          |    |     |   | in |      |     |     |  \n",
      "ERROR TYPES:   -      | R  | R   | R | RT | -    | -   | -   | -\n",
      "GOLD LABELS:   c      | c  | c   | c | i  | c    | c   | c   | c\n",
      "PRED LABELS:   c      | c  | i   | i | i  | c    | c   | c   | c\n",
      "\n",
      "=== Sentence 85 ===\n",
      "TOKENS:        I | am | a | life | guard | and | I | could | work | in | your | camp | as | a | rescuer | next | summer | .\n",
      "CORRECTIONS:     |    |   |      |       |     |   |       |      |    |      |      |    |   |         |      |        |  \n",
      "ERROR TYPES:   - | -  | - | -    | -     | -   | - | -     | -    | -  | -    | -    | -  | - | -       | -    | -      | -\n",
      "GOLD LABELS:   c | c  | c | c    | c     | c   | c | c     | c    | c  | c    | c    | c  | c | c       | c    | c      | c\n",
      "PRED LABELS:   c | c  | c | c    | c     | c   | c | c     | c    | i  | c    | c    | c  | c | c       | c    | c      | c\n",
      "\n",
      "=== Sentence 86 ===\n",
      "TOKENS:        We | can | buy | everything | what | about | we | imagine | .\n",
      "CORRECTIONS:      |     |     |            |      |       |    |         |  \n",
      "ERROR TYPES:   -  | -   | -   | -          | U    | U     | -  | -       | -\n",
      "GOLD LABELS:   c  | c   | c   | c          | c    | c     | c  | c       | c\n",
      "PRED LABELS:   c  | c   | c   | c          | i    | c     | c  | c       | c\n",
      "\n",
      "=== Sentence 87 ===\n",
      "TOKENS:        I | am | therefore | writing | to | give | you | my | further | information | .\n",
      "CORRECTIONS:     |    |           |         |    |      |     |    |         |             |  \n",
      "ERROR TYPES:   - | -  | -         | -       | -  | -    | -   | -  | -       | -           | -\n",
      "GOLD LABELS:   c | c  | c         | c       | c  | c    | c   | c  | c       | c           | c\n",
      "PRED LABELS:   c | c  | c         | c       | c  | c    | c   | i  | c       | c           | c\n",
      "\n",
      "=== Sentence 88 ===\n",
      "TOKENS:        I | would | be | most | grateful | if | you | could | give | me | further | advicable | information | .\n",
      "CORRECTIONS:     |       |    |      |          |    |     |       |      |    |         |           |             |  \n",
      "ERROR TYPES:   - | -     | -  | -    | -        | -  | -   | -     | -    | -  | -       | DJ        | -           | -\n",
      "GOLD LABELS:   c | c     | c  | c    | c        | c  | c   | c     | c    | c  | c       | c         | c           | c\n",
      "PRED LABELS:   c | c     | c  | c    | c        | c  | c   | c     | c    | c  | c       | i         | c           | c\n",
      "\n",
      "=== Sentence 89 ===\n",
      "TOKENS:        So | I | 'm | now | writing | to | let | you | know | how | grateful | it | was | .\n",
      "CORRECTIONS:      |   |    |     |         |    |     |     |      |     | great    |    |     |  \n",
      "ERROR TYPES:   -  | - | -  | -   | -       | -  | -   | -   | -    | -   | RJ       | -  | -   | -\n",
      "GOLD LABELS:   c  | c | c  | c   | c       | c  | c   | c   | c    | c   | i        | c  | c   | c\n",
      "PRED LABELS:   c  | c | c  | c   | c       | c  | c   | c   | c    | c   | i        | i  | c   | c\n",
      "\n",
      "=== Sentence 90 ===\n",
      "TOKENS:        All | work | I | needed | to | do | was | n't | very | interesting | . | which | I | must | have | set | thousands | chairs | correctly | and | after | finishing | I | put | them | back | nicely | .\n",
      "CORRECTIONS:       |      |   |        |    |    |     |     |      |             |   |       |   |      |      |     |           |        |           |     |       |           |   |     |      |      |        |  \n",
      "ERROR TYPES:   -   | -    | - | -      | -  | -  | -   | -   | -    | -           | - | UA    | - | -    | -    | -   | -         | -      | -         | -   | -     | -         | - | -   | -    | -    | -      | -\n",
      "GOLD LABELS:   c   | i    | c | c      | c  | c  | c   | c   | c    | c           | c | c     | c | c    | c    | c   | c         | i      | c         | c   | c     | c         | c | c   | c    | c    | c      | c\n",
      "PRED LABELS:   c   | i    | c | c      | c  | c  | c   | c   | c    | c           | c | i     | c | c    | c    | c   | i         | i      | c         | c   | c     | c         | c | c   | c    | c    | i      | c\n",
      "\n",
      "=== Sentence 91 ===\n",
      "TOKENS:        I | think | I | 'm | not | bad | at | painting | either | ,  | at | least | everyone | in | my | family | likes | my | work | , | includying | myself | .\n",
      "CORRECTIONS:     |       |   |    |     |     |    |          |        | ;  |    |       |          |    |    |        |       |    |      |   | including  |        |  \n",
      "ERROR TYPES:   - | -     | - | -  | -   | -   | -  | -        | -      | RP | -  | -     | -        | -  | -  | -      | -     | -  | -    | - | S          | -      | -\n",
      "GOLD LABELS:   c | c     | c | c  | c   | c   | c  | c        | c      | c  | c  | c     | c        | c  | c  | c      | c     | c  | c    | c | i          | c      | c\n",
      "PRED LABELS:   c | c     | c | c  | c   | c   | c  | c        | c      | i  | i  | i     | c        | c  | c  | c      | c     | c  | c    | c | i          | c      | c\n",
      "\n",
      "=== Sentence 92 ===\n",
      "TOKENS:        But | anyway | I  | like | more | to | have | the | possibilities | for | practice | climbing | and | surfing | .\n",
      "CORRECTIONS:       |        |    |      |      |    |      |     |               |     | practise |          |     |         |  \n",
      "ERROR TYPES:   -   | -      | CE | CE   | CE   | CE | CE   | CE  | CE            | CE  | DV       | -        | -   | -       | -\n",
      "GOLD LABELS:   c   | c      | c  | c    | c    | c  | c    | c   | c             | c   | i        | c        | c   | c       | c\n",
      "PRED LABELS:   c   | c      | c  | c    | i    | c  | i    | c   | i             | c   | i        | c        | c   | c       | c\n",
      "\n",
      "=== Sentence 93 ===\n",
      "TOKENS:        Meanwhile | ,  | these | activities | are | develop | .\n",
      "CORRECTIONS:             |    |       |            |     |         |  \n",
      "ERROR TYPES:   CE        | CE | CE    | CE         | CE  | CE      | -\n",
      "GOLD LABELS:   c         | c  | c     | c          | c   | c       | c\n",
      "PRED LABELS:   c         | c  | c     | c          | c   | i       | c\n",
      "\n",
      "=== Sentence 94 ===\n",
      "TOKENS:        Thanks | very | much | , | because | is | new | stimulation | for | me | . | this | prize | .\n",
      "CORRECTIONS:          |      |      |   |         |    |     |             |     |    |   |      |       |  \n",
      "ERROR TYPES:   -      | -    | -    | - | -       | R  | R   | R           | R   | R  | R | R    | R     | -\n",
      "GOLD LABELS:   c      | c    | c    | c | c       | c  | c   | c           | c   | c  | c | c    | c     | c\n",
      "PRED LABELS:   c      | c    | c    | c | c       | i  | c   | c           | c   | c  | c | c    | c     | c\n",
      "\n",
      "=== Sentence 95 ===\n",
      "TOKENS:        In                | the               | other             | hand              | the | facilities | for | access | to | mall            | center          | is  | not | good | .\n",
      "CORRECTIONS:   On the other hand | On the other hand | On the other hand | On the other hand |     |            |     |        |    | shopping center | shopping center | are |     |      |  \n",
      "ERROR TYPES:   ID                | ID                | ID                | ID                | -   | -          | -   | -      | -  | DN              | DN              | AGV | -   | -    | -\n",
      "GOLD LABELS:   i                 | c                 | c                 | c                 | c   | c          | c   | c      | c  | i               | c               | i   | c   | c    | c\n",
      "PRED LABELS:   i                 | c                 | c                 | c                 | c   | c          | c   | c      | c  | i               | i               | i   | c   | c    | c\n",
      "\n",
      "=== Sentence 96 ===\n",
      "TOKENS:        I | think | in | the | nearly | future | we | need | to | decide | with | the | goverment  | . \n",
      "CORRECTIONS:     |       |    |     | near   |        |    |      |    |        |      |     | government |   \n",
      "ERROR TYPES:   - | -     | -  | -   | DJ     | -      | -  | -    | -  | -      | -    | -   | S          | UP\n",
      "GOLD LABELS:   c | c     | c  | c   | i      | c      | c  | c    | c  | c      | c    | c   | i          | c \n",
      "PRED LABELS:   c | c     | c  | c   | i      | c      | c  | c    | c  | c      | i    | c   | i          | c \n",
      "\n",
      "=== Sentence 97 ===\n",
      "TOKENS:        I | understood | you | want | to | know | when | am   | I    | available | to | set | off | and | where | I | 'd | like | to | stay | .\n",
      "CORRECTIONS:     | understand |     |      |    |      |      | I am | I am |           |    |     |     |     |       |   |    |      |    |      |  \n",
      "ERROR TYPES:   - | TV         | -   | -    | -  | -    | -    | W    | W    | -         | -  | -   | -   | -   | -     | - | -  | -    | -  | -    | -\n",
      "GOLD LABELS:   c | i          | c   | c    | c  | c    | c    | i    | i    | c         | c  | c   | c   | c   | c     | c | c  | c    | c  | c    | c\n",
      "PRED LABELS:   c | i          | c   | i    | c  | c    | c    | i    | i    | c         | c  | c   | c   | c   | c     | c | c  | c    | c  | c    | c\n",
      "\n",
      "=== Sentence 98 ===\n",
      "TOKENS:        Is | the | camp | close | to | town | or | city | ?\n",
      "CORRECTIONS:      |     |      |       |    |      |    |      |  \n",
      "ERROR TYPES:   -  | -   | -    | -     | -  | -    | -  | -    | -\n",
      "GOLD LABELS:   c  | c   | c    | c     | c  | i    | c  | c    | c\n",
      "PRED LABELS:   c  | c   | c    | c     | c  | i    | c  | i    | c\n",
      "\n",
      "=== Sentence 99 ===\n",
      "TOKENS:        Before | I | came | England | , | I | swam | every | weekend | in | my | country | even | in | winter | , | so | I | choose | to | do | some | swimming | and | sailing | while | I | am | at | the | camp | .\n",
      "CORRECTIONS:          |   |      |         |   |   |      |       |         |    |    |         |      |    |        |   |    |   |        |    |    |      |          |     |         |       |   |    |    |     |      |  \n",
      "ERROR TYPES:   -      | - | -    | -       | - | - | -    | -     | -       | -  | -  | -       | -    | -  | -      | - | -  | - | -      | -  | -  | -    | -        | -   | -       | -     | - | -  | -  | -   | -    | -\n",
      "GOLD LABELS:   c      | c | c    | i       | c | c | c    | c     | c       | c  | c  | c       | c    | c  | c      | c | c  | c | c      | c  | c  | c    | c        | c   | c       | c     | c | c  | c  | c   | c    | c\n",
      "PRED LABELS:   c      | c | i    | i       | c | c | c    | c     | c       | c  | c  | c       | c    | c  | c      | c | c  | c | i      | c  | c  | c    | c        | c   | c       | c     | c | c  | c  | c   | c    | c\n",
      "\n",
      "=== Sentence 100 ===\n",
      "TOKENS:        This | report | is | aim | to | research | the | students | about | their | daily | life | at | school | and | give | some | suggestion | about | it | .\n",
      "CORRECTIONS:        |        |    |     |    |          |     |          |       |       |       |      |    |        |     |      |      |            |       |    |  \n",
      "ERROR TYPES:   CE   | CE     | CE | CE  | CE | CE       | CE  | CE       | CE    | CE    | CE    | CE   | CE | CE     | CE  | CE   | CE   | CE         | CE    | CE | -\n",
      "GOLD LABELS:   c    | c      | c  | c   | c  | c        | c   | c        | c     | c     | c     | c    | c  | c      | c   | c    | c    | c          | c     | c  | c\n",
      "PRED LABELS:   c    | c      | c  | i   | c  | c        | c   | c        | c     | c     | c     | c    | c  | c      | c   | c    | c    | i          | c     | c  | c\n",
      "\n",
      "=== Sentence 101 ===\n",
      "TOKENS:        While | I | 'm | stayin  | there | I | would | like | to | practise | tennis | and | basketball | , | as | I | have | been | playing | both | sports | all | my | life | , | and | I | have | to | say | that | I | am | very | good | at | both | .\n",
      "CORRECTIONS:         |   |    | staying |       |   |       |      |    |          |        |     |            |   |    |   |      |      |         |      |        |     |    |      |   |     |   |      |    |     |      |   |    |      |      |    |      |  \n",
      "ERROR TYPES:   -     | - | -  | S       | -     | - | -     | -    | -  | -        | -      | -   | -          | - | -  | - | -    | -    | -       | -    | -      | -   | -  | -    | - | -   | - | -    | -  | -   | -    | - | -  | -    | -    | -  | -    | -\n",
      "GOLD LABELS:   c     | c | c  | i       | c     | c | c     | c    | c  | c        | c      | c   | c          | c | c  | c | c    | c    | c       | c    | c      | c   | c  | c    | c | c   | c | c    | c  | c   | c    | c | c  | c    | c    | c  | c    | c\n",
      "PRED LABELS:   c     | c | c  | i       | c     | c | c     | c    | c  | i        | c      | c   | c          | c | c  | c | c    | c    | c       | c    | c      | c   | c  | c    | c | c   | c | c    | c  | c   | c    | c | c  | c    | c    | c  | c    | c\n",
      "\n",
      "=== Sentence 102 ===\n",
      "TOKENS:        From | my | point | of | view | , | the | real | question | is | : | Who | said | that | is | enjoyable | ?\n",
      "CORRECTIONS:        |    |       |    |      |   |     |      |          |    |   |     |      |      |    |           |  \n",
      "ERROR TYPES:   -    | -  | -     | -  | -    | - | -   | -    | -        | -  | - | -   | -    | -    | -  | -         | -\n",
      "GOLD LABELS:   c    | c  | c     | c  | c    | c | c   | c    | c        | c  | c | c   | c    | c    | c  | c         | c\n",
      "PRED LABELS:   c    | c  | c     | c  | c    | c | c   | c    | c        | c  | c | c   | c    | c    | i  | c         | c\n",
      "\n",
      "=== Sentence 103 ===\n",
      "TOKENS:        These | two | are | easy | to | connect | , | I | could | climb | and | make | pictures | at | the | same | time | .\n",
      "CORRECTIONS:         |     |     |      |    |         |   |   |       |       |     |      |          |    |     |      |      |  \n",
      "ERROR TYPES:   -     | -   | -   | -    | -  | -       | - | - | -     | -     | -   | -    | -        | -  | -   | -    | -    | -\n",
      "GOLD LABELS:   c     | c   | c   | c    | c  | c       | c | c | c     | c     | c   | c    | c        | c  | c   | c    | c    | c\n",
      "PRED LABELS:   c     | c   | c   | c    | c  | c       | c | c | c     | c     | c   | i    | c        | c  | c   | c    | c    | c\n",
      "\n",
      "=== Sentence 104 ===\n",
      "TOKENS:        This | leads | to | an | escalation | of | your | anger | .\n",
      "CORRECTIONS:        |       |    |    |            |    |      |       |  \n",
      "ERROR TYPES:   -    | -     | -  | -  | -          | -  | -    | -     | -\n",
      "GOLD LABELS:   c    | c     | c  | c  | c          | c  | c    | c     | c\n",
      "PRED LABELS:   c    | c     | c  | c  | i          | c  | c    | c     | c\n",
      "\n",
      "=== Sentence 105 ===\n",
      "TOKENS:        Somebody | could | give | you | not | enough | change | .\n",
      "CORRECTIONS:            |       |      |     |     |        |        |  \n",
      "ERROR TYPES:   -        | -     | -    | -   | -   | -      | -      | -\n",
      "GOLD LABELS:   c        | c     | c    | c   | c   | c      | c      | c\n",
      "PRED LABELS:   c        | c     | c    | c   | i   | c      | i      | c\n",
      "\n",
      "=== Sentence 106 ===\n",
      "TOKENS:        For | the | accommodation | , | I | would | prefer | in | tents | because | I | like | adventure | and | simplicity | .\n",
      "CORRECTIONS:       |     |               |   |   |       |        |    | tent  |         |   |      |           |     |            |  \n",
      "ERROR TYPES:   -   | -   | -             | - | - | -     | -      | UT | AGN   | -       | - | -    | -         | -   | -          | -\n",
      "GOLD LABELS:   c   | c   | c             | c | c | c     | c      | c  | i     | c       | c | c    | c         | c   | c          | c\n",
      "PRED LABELS:   c   | c   | c             | c | c | c     | c      | i  | i     | c       | c | c    | c         | c   | c          | c\n",
      "\n",
      "=== Sentence 107 ===\n",
      "TOKENS:        I | 'm | writing | to | you | to | relate         | my | experience | in | helping | at | a | pop | concert | last | month | .\n",
      "CORRECTIONS:     |    |         |    |     |    | tell you about |    |            |    |         |    |   |     |         |      |       |  \n",
      "ERROR TYPES:   - | -  | -       | -  | -   | -  | L              | -  | -          | UT | -       | -  | - | -   | -       | -    | -     | -\n",
      "GOLD LABELS:   c | c  | c       | c  | c   | c  | i              | c  | c          | c  | c       | c  | c | c   | c       | c    | c     | c\n",
      "PRED LABELS:   c | c  | c       | c  | c   | c  | i              | c  | c          | i  | c       | c  | c | c   | c       | c    | c     | c\n",
      "\n",
      "=== Sentence 108 ===\n",
      "TOKENS:        At | the | begining  | I | would | like | to | thank | You | for | Your | letter | - | it | pleased | me | much | .\n",
      "CORRECTIONS:      |     | beginning |   |       |      |    |       |     |     |      |        |   |    |         |    |      |  \n",
      "ERROR TYPES:   -  | -   | S         | - | -     | -    | -  | -     | -   | -   | -    | -      | - | -  | -       | -  | -    | -\n",
      "GOLD LABELS:   c  | c   | i         | c | c     | c    | c  | c     | c   | c   | c    | c      | c | c  | c       | c  | c    | c\n",
      "PRED LABELS:   i  | c   | i         | c | c     | c    | c  | c     | c   | c   | c    | c      | c | c  | c       | c  | c    | c\n",
      "\n",
      "=== Sentence 109 ===\n",
      "TOKENS:        In | reference | about | the | date | of | the | travel | , | I | would | like | to | travel | in | July | because | at | the | moment | I | am | working | at | the | University | and | I | only | have | July | to | take | my | holidays | .\n",
      "CORRECTIONS:      |           | to    |     |      |    |     |        |   |   |       |      |    |        |    |      |         |    |     |        |   |    |         |    |     |            |     |   |      |      |      |    |      |    |          |  \n",
      "ERROR TYPES:   -  | -         | RT    | -   | -    | -  | UD  | -      | - | - | -     | -    | -  | -      | -  | -    | -       | -  | -   | -      | - | -  | -       | -  | UD  | -          | -   | - | -    | -    | -    | -  | -    | -  | -        | -\n",
      "GOLD LABELS:   c  | c         | i     | c   | c    | c  | c   | c      | c | c | c     | c    | c  | c      | c  | c    | c       | c  | c   | c      | c | c  | c       | c  | c   | c          | c   | c | c    | c    | c    | c  | c    | c  | c        | c\n",
      "PRED LABELS:   c  | c         | i     | c   | c    | c  | c   | i      | c | c | c     | c    | c  | c      | c  | c    | c       | c  | c   | c      | c | c  | c       | c  | c   | c          | c   | c | c    | c    | c    | c  | c    | c  | c        | c\n",
      "\n",
      "=== Sentence 110 ===\n",
      "TOKENS:        Last | month | , | I | was | partly | in | the | concert | teams | .\n",
      "CORRECTIONS:        |       |   |   |     |        |    |     |         |       |  \n",
      "ERROR TYPES:   -    | -     | - | - | CE  | CE     | CE | CE  | CE      | CE    | -\n",
      "GOLD LABELS:   c    | c     | c | c | c   | c      | c  | c   | c       | c     | c\n",
      "PRED LABELS:   c    | c     | c | c | c   | c      | c  | c   | c       | i     | c\n",
      "\n",
      "=== Sentence 111 ===\n",
      "TOKENS:        It | all | started | when | one | of | the | organizers | asked | me | to | help | him | at | a | concert | of | my | favorite  | band | .\n",
      "CORRECTIONS:      |     |         |      |     |    |     |            |       |    |    |      |     |    |   |         |    |    | favourite |      |  \n",
      "ERROR TYPES:   -  | -   | -       | -    | -   | -  | -   | -          | -     | -  | -  | -    | -   | -  | - | -       | -  | -  | SA        | -    | -\n",
      "GOLD LABELS:   c  | c   | c       | c    | c   | c  | c   | c          | c     | c  | c  | c    | c   | c  | c | c       | c  | c  | i         | c    | c\n",
      "PRED LABELS:   c  | c   | c       | c    | c   | c  | c   | c          | c     | c  | c  | c    | c   | c  | c | c       | i  | c  | i         | c    | c\n",
      "\n",
      "=== Sentence 112 ===\n",
      "TOKENS:        I | was | very | nervous | talking | with | him | .\n",
      "CORRECTIONS:     |     |      |         |         |      |     |  \n",
      "ERROR TYPES:   - | -   | -    | -       | -       | -    | -   | -\n",
      "GOLD LABELS:   c | c   | c    | c       | c       | c    | c   | c\n",
      "PRED LABELS:   c | c   | c    | c       | i       | c    | c   | c\n",
      "\n",
      "=== Sentence 113 ===\n",
      "TOKENS:        I | 've | never | been | camping | before | , | I | guess | I | 'm | not | an | outdoor | girl | , | but | I | 'd | like | to | give | it | a | try | , | so | I | 'd | rather | tents | than | cabins | .\n",
      "CORRECTIONS:     |     |       |      |         |        |   |   |       |   |    |     |    |         |      |   |     |   |    |      |    |      |    |   |     |   |    |   |    |        |       |      |        |  \n",
      "ERROR TYPES:   - | -   | -     | -    | -       | -      | - | - | -     | - | -  | -   | -  | -       | -    | - | -   | - | -  | -    | -  | -    | -  | - | -   | - | -  | - | -  | -      | -     | -    | -      | -\n",
      "GOLD LABELS:   c | c   | c     | c    | c       | c      | c | c | c     | c | c  | c   | c  | c       | c    | c | c   | c | c  | c    | c  | c    | c  | c | c   | c | c  | c | c  | c      | c     | c    | c      | c\n",
      "PRED LABELS:   c | c   | c     | c    | c       | c      | c | c | c     | c | c  | c   | c  | c       | c    | c | c   | c | c  | c    | c  | c    | c  | c | c   | c | c  | c | c  | c      | i     | c    | c      | c\n",
      "\n",
      "=== Sentence 114 ===\n",
      "TOKENS:        I | was | in | the | Plaza | Espagna | in | Florence | without | a | penny | !\n",
      "CORRECTIONS:     |     |    |     |       |         |    |          |         |   |       |  \n",
      "ERROR TYPES:   - | -   | -  | -   | -     | -       | -  | -        | -       | - | -     | -\n",
      "GOLD LABELS:   c | c   | c  | c   | c     | c       | c  | c        | c       | c | c     | c\n",
      "PRED LABELS:   c | c   | i  | c   | c     | c       | c  | c        | c       | c | c     | c\n",
      "\n",
      "=== Sentence 115 ===\n",
      "TOKENS:        I | felt | really | bad | seeing | my | friends | buy | the | latest | fashion | while | the | only | thing | I | could | do | was | tell | them | how | great | their | clothes | were | and | of | course | window | - | shop | .\n",
      "CORRECTIONS:     |      |        |     |        |    |         |     |     |        |         |       |     |      |       |   |       |    |     |      |      |     |       |       |         |      |     |    |        |        |   |      |  \n",
      "ERROR TYPES:   - | -    | -      | -   | -      | -  | -       | -   | -   | -      | -       | -     | -   | -    | -     | - | -     | -  | -   | -    | -    | -   | -     | -     | -       | -    | -   | -  | -      | -      | - | -    | -\n",
      "GOLD LABELS:   c | c    | c      | c   | c      | c  | c       | c   | c   | c      | c       | c     | c   | c    | c     | c | c     | c  | c   | c    | c    | c   | c     | c     | c       | c    | c   | c  | c      | c      | c | c    | c\n",
      "PRED LABELS:   c | c    | c      | c   | i      | c  | c       | c   | c   | c      | c       | c     | c   | c    | c     | c | c     | c  | c   | c    | c    | c   | c     | c     | c       | c    | c   | c  | c      | c      | c | c    | c\n",
      "\n",
      "=== Sentence 116 ===\n",
      "TOKENS:        I | 'll | be | taking | an | English | Examination | at | the | end | of | June | and | I | think | it | would | be | a | good | idea | if | I | can | travel | in | July | because | it | 's | the | only | month | I | can | spend | abroad | this | year | .\n",
      "CORRECTIONS:     |     |    |        |    |         |             |    |     |     |    |      |     |   |       |    |       |    |   |      |      |    |   |     |        |    |      |         |    |    |     |      |       |   |     |       |        |      |      |  \n",
      "ERROR TYPES:   - | -   | -  | -      | -  | -       | -           | -  | -   | -   | -  | -    | -   | - | -     | -  | -     | -  | - | -    | -    | -  | - | -   | -      | -  | -    | -       | -  | -  | -   | -    | -     | - | -   | -     | -      | -    | -    | -\n",
      "GOLD LABELS:   c | c   | c  | c      | c  | c       | c           | c  | c   | c   | c  | c    | c   | c | c     | c  | c     | c  | c | c    | c    | c  | c | c   | c      | c  | c    | c       | c  | c  | c   | c    | c     | c | c   | c     | c      | c    | c    | c\n",
      "PRED LABELS:   c | c   | c  | c      | c  | c       | i           | c  | c   | c   | c  | c    | c   | c | c     | c  | c     | c  | c | c    | c    | c  | c | c   | c      | c  | c    | c       | c  | c  | c   | c    | c     | c | c   | c     | c      | c    | c    | c\n",
      "\n",
      "=== Sentence 117 ===\n",
      "TOKENS:        thanking | you | in | anticipation | .\n",
      "CORRECTIONS:            |     |    |              |  \n",
      "ERROR TYPES:   -        | -   | -  | -            | -\n",
      "GOLD LABELS:   c        | c   | c  | c            | c\n",
      "PRED LABELS:   i        | c   | c  | c            | c\n",
      "\n",
      "=== Sentence 118 ===\n",
      "TOKENS:        However | , | in | your | letter | is | written   | some | activities | . | I | would | choose | Basketball | and | Tennis | .\n",
      "CORRECTIONS:           |   |    |      |        |    | mentioned |      |            |   |   |       |        |            |     |        |  \n",
      "ERROR TYPES:   -       | - | -  | -    | -      | UV | RV        | -    | -          | - | - | -     | -      | -          | -   | -      | -\n",
      "GOLD LABELS:   c       | c | c  | c    | c      | c  | i         | c    | c          | c | c | c     | c      | c          | c   | c      | c\n",
      "PRED LABELS:   c       | c | c  | c    | c      | i  | i         | i    | c          | c | c | c     | c      | c          | c   | c      | c\n",
      "\n",
      "=== Sentence 119 ===\n",
      "TOKENS:        I | know | ,  | It | was | difficult | and | tired  | but | I | enjoyed | a | lot | .\n",
      "CORRECTIONS:     |      |    | it |     |           |     | tiring |     |   |         |   |     |  \n",
      "ERROR TYPES:   - | -    | UP | RP | -   | -         | -   | RJ     | -   | - | -       | - | -   | -\n",
      "GOLD LABELS:   c | c    | c  | i  | c   | c         | c   | i      | c   | c | c       | i | c   | c\n",
      "PRED LABELS:   c | c    | c  | i  | c   | c         | c   | i      | c   | c | c       | i | i   | c\n",
      "\n",
      "=== Sentence 120 ===\n",
      "TOKENS:        All | the | stuff | for | children | are | in | the | same | level | as | they | have | their | eyes | .\n",
      "CORRECTIONS:       |     |       |     |          | is  | on |     |      |       |    |      |      |       |      |  \n",
      "ERROR TYPES:   -   | -   | -     | -   | -        | AGV | RT | -   | -    | -     | -  | U    | U    | -     | -    | -\n",
      "GOLD LABELS:   c   | c   | c     | c   | c        | i   | i  | c   | c    | c     | c  | c    | c    | c     | c    | c\n",
      "PRED LABELS:   c   | c   | c     | c   | c        | i   | i  | c   | c    | i     | c  | c    | c    | c     | c    | c\n",
      "\n",
      "=== Sentence 121 ===\n",
      "TOKENS:        ACCORDING | TO | YOUR | REQUIREMENTS | I | WOULD | LIKE | TO | ANSWER | YOUR | QUESTIONS | REGARDING | TRAVEL | TIME | , | ACCOMMODATION | 'S            | PREFERENCES | AND | ACTIVITIES | WHICH | I | LIKE | TO | DO | .\n",
      "CORRECTIONS:             |    |      |              |   |       |      |    |        |      |           |           |        |      |   | ACCOMMODATION | ACCOMMODATION |             |     |            |       |   |      |    |    |  \n",
      "ERROR TYPES:   -         | -  | -    | -            | - | -     | -    | -  | -      | -    | -         | -         | -      | -    | - | UP            | UP            | -           | -   | -          | -     | - | -    | -  | -  | -\n",
      "GOLD LABELS:   c         | c  | c    | c            | c | c     | c    | c  | c      | c    | c         | c         | c      | c    | c | c             | c             | c           | c   | c          | c     | c | c    | c  | c  | c\n",
      "PRED LABELS:   c         | c  | c    | c            | c | c     | c    | c  | c      | c    | c         | c         | c      | c    | c | i             | c             | c           | c   | c          | c     | c | c    | c  | c  | c\n",
      "\n",
      "=== Sentence 122 ===\n",
      "TOKENS:        THEY | DON'T | LIKE | SHOPPING | EITHER | BECAUSE | OF | THE | WEATHER | ( | SOMETIMES | IT | 'S | TOO | HOT | OR | TOO | COLD | FOR | GOING | OUTSIDE | ) | .\n",
      "CORRECTIONS:        |       |      |          |        |         |    |     |         |   |           |    |    |     |     |    |     |      |     |       |         |   |  \n",
      "ERROR TYPES:   -    | -     | -    | -        | -      | -       | -  | -   | -       | - | -         | -  | -  | -   | -   | -  | -   | -    | -   | -     | -       | - | -\n",
      "GOLD LABELS:   c    | c     | c    | c        | c      | c       | c  | c   | c       | c | c         | c  | c  | c   | c   | c  | c   | c    | c   | c     | c       | c | c\n",
      "PRED LABELS:   c    | c     | c    | c        | c      | c       | c  | c   | c       | c | c         | c  | c  | c   | c   | c  | c   | c    | c   | i     | c       | c | c\n",
      "\n",
      "=== Sentence 123 ===\n",
      "TOKENS:        I | am | very | good | at | swimming | as | well | because | I | practise | this | sport | every | week | in | my | city | .\n",
      "CORRECTIONS:     |    |      |      |    |          |    |      |         |   |          |      |       |       |      |    |    |      |  \n",
      "ERROR TYPES:   - | -  | -    | -    | -  | -        | -  | -    | -       | - | -        | -    | -     | -     | -    | -  | -  | -    | -\n",
      "GOLD LABELS:   c | c  | c    | c    | c  | c        | c  | c    | c       | c | c        | c    | c     | c     | c    | c  | c  | c    | c\n",
      "PRED LABELS:   c | c  | c    | c    | c  | c        | c  | c    | c       | c | i        | c    | c     | c     | c    | c  | c  | c    | c\n",
      "\n",
      "=== Sentence 124 ===\n",
      "TOKENS:        However | , | it | is | not | easy | to | get | a | refund | or | to | change | them | .\n",
      "CORRECTIONS:           |   |    |    |     |      |    |     |   |        |    |    |        |      |  \n",
      "ERROR TYPES:   -       | - | -  | -  | -   | -    | -  | -   | - | -      | -  | -  | -      | -    | -\n",
      "GOLD LABELS:   c       | c | c  | c  | c   | c    | c  | c   | c | c      | c  | c  | c      | c    | c\n",
      "PRED LABELS:   c       | c | c  | c  | c   | c    | c  | c   | c | c      | c  | c  | c      | i    | c\n",
      "\n",
      "=== Sentence 125 ===\n",
      "TOKENS:        For | my | stay | in | California | I | would | prefer | the | accommodation | in | tents | because | this | gives | me | a | feeling | of | freedom | and | adventure | and | it | is | quite | different | to | my | live | here | in | Greece | .\n",
      "CORRECTIONS:       |    |      |    |            |   |       |        |     |               |    |       |         |      |       |    |   |         |    |         |     |           |     |    |    |       |           |    |    | life |      |    |        |  \n",
      "ERROR TYPES:   -   | -  | -    | -  | -          | - | -     | -      | R   | R             | R  | R     | -       | -    | -     | -  | - | -       | -  | -       | -   | -         | -   | -  | -  | -     | -         | -  | -  | DN   | -    | -  | -      | -\n",
      "GOLD LABELS:   c   | c  | c    | c  | c          | c | c     | c      | c   | c             | c  | c     | c       | c    | c     | c  | c | c       | c  | c       | c   | c         | c   | c  | c  | c     | c         | c  | c  | i    | c    | c  | c      | c\n",
      "PRED LABELS:   c   | c  | c    | c  | c          | c | c     | c      | c   | c             | c  | i     | c       | c    | c     | c  | c | c       | c  | c       | c   | c         | c   | c  | c  | c     | c         | c  | c  | i    | c    | c  | c      | c\n",
      "\n",
      "=== Sentence 126 ===\n",
      "TOKENS:        I | noticed | that | the | artists | were | from | only | six | countries | insted  | that | from | around | the | world | .\n",
      "CORRECTIONS:     |         |      |     |         |      |      |      |     |           | instead |      |      |        |     |       |  \n",
      "ERROR TYPES:   - | -       | -    | -   | -       | -    | -    | -    | -   | -         | S       | R    | -    | -      | -   | -     | -\n",
      "GOLD LABELS:   c | c       | c    | c   | c       | c    | c    | c    | c   | c         | i       | c    | c    | c      | c   | c     | c\n",
      "PRED LABELS:   c | c       | c    | c   | c       | c    | c    | c    | c   | c         | i       | i    | c    | c      | c   | c     | c\n",
      "\n",
      "=== Sentence 127 ===\n",
      "TOKENS:        It | may  | in | many | cases | , | not | be | TRUE | but | we | can | suspect | that | most | of | them | wanted | to | become | a | celebrity | and | they | had | to | know | there | is | no | private | life | unseparately | contected | to | it | .\n",
      "CORRECTIONS:      | may, |    |      |       |   |     |    |      |     |    |     |         |      |      |    |      |        |    |        |   |           |     |      |     |    |      |       |    |    |         |      |              | connected |    |    |  \n",
      "ERROR TYPES:   -  | MP   | -  | -    | -     | - | -   | -  | -    | -   | -  | -   | -       | -    | -    | -  | -    | -      | -  | -      | - | -         | -   | -    | -   | -  | -    | -     | -  | -  | -       | -    | -            | S         | -  | -  | -\n",
      "GOLD LABELS:   c  | c    | c  | c    | c     | c | c   | c  | c    | c   | c  | c   | c       | c    | c    | c  | c    | c      | c  | c      | c | c         | c   | c    | c   | c  | c    | c     | c  | c  | c       | c    | c            | i         | c  | c  | c\n",
      "PRED LABELS:   c  | c    | c  | c    | c     | c | c   | c  | c    | c   | c  | c   | c       | c    | c    | c  | c    | c      | c  | c      | c | c         | c   | c    | c   | c  | c    | c     | c  | c  | c       | c    | i            | i         | c  | c  | c\n",
      "\n",
      "=== Sentence 128 ===\n",
      "TOKENS:        You | must | control | you | behaviour | and | try | not | implove | so | much | yourself | .\n",
      "CORRECTIONS:       |      |         |     |           |     |     |     |         |    |      |          |  \n",
      "ERROR TYPES:   -   | -    | -       | -   | -         | -   | -   | -   | -       | -  | -    | -        | -\n",
      "GOLD LABELS:   c   | c    | c       | c   | c         | c   | c   | c   | c       | c  | c    | c        | c\n",
      "PRED LABELS:   c   | c    | c       | i   | c         | c   | c   | c   | i       | c  | i    | i        | c\n",
      "\n",
      "=== Sentence 129 ===\n",
      "TOKENS:        Please | , | if | you | would | be | so | kind | and | mind | correct | this | mistake | . | I | would | be | gratefull | if | you | could | correct | too | that | show | start  | at | 20.15 | not | on | 19.31 | .\n",
      "CORRECTIONS:          |   |    |     |       |    |    |      |     |      |         |      |         |   |   |       |    | grateful  |    |     |       |         |     |      |      | starts |    |       |     |    |       |  \n",
      "ERROR TYPES:   -      | - | -  | -   | -     | -  | -  | -    | U   | U    | -       | -    | -       | - | - | -     | -  | DJ        | -  | -   | -     | -       | -   | -    | -    | AGV    | -  | -     | -   | -  | -     | -\n",
      "GOLD LABELS:   c      | c | c  | c   | c     | c  | c  | c    | c   | c    | c       | c    | c       | c | c | c     | c  | i         | c  | c   | c     | c       | c   | c    | c    | i      | c  | c     | c   | c  | c     | c\n",
      "PRED LABELS:   c      | c | c  | c   | i     | c  | c  | c    | c   | i    | i       | c    | c       | c | c | c     | c  | i         | c  | c   | c     | i       | i   | c    | i    | i      | c  | c     | c   | c  | c     | c\n"
     ]
    }
   ],
   "source": [
    "def visualize_aligned_tokens_aligned(data):\n",
    "    for i, sentence in enumerate(data):\n",
    "        print(f\"\\n=== Sentence {i+1} ===\")\n",
    "\n",
    "        tokens = [tok[1] for tok in sentence]\n",
    "        corrections = [tok[2] for tok in sentence]\n",
    "        error_types = [tok[3] if tok[3] else \"-\" for tok in sentence]\n",
    "        golds = [tok[4] for tok in sentence]\n",
    "        preds = [tok[-1] for tok in sentence]\n",
    "\n",
    "        col_widths = [max(len(tok), len(corr), len(err), len(g), len(p))\n",
    "                      for tok, corr, err, g, p in zip(tokens, corrections, error_types, golds, preds)]\n",
    "        padded = lambda row: \" | \".join(f\"{item:<{w}}\" for item, w in zip(row, col_widths))\n",
    "\n",
    "        print(\"TOKENS:       \", padded(tokens))\n",
    "        print(\"CORRECTIONS:  \", padded(corrections))\n",
    "        print(\"ERROR TYPES:  \", padded(error_types))\n",
    "        print(\"GOLD LABELS:  \", padded(golds))\n",
    "        print(\"PRED LABELS:  \", padded(preds))\n",
    "\n",
    "\n",
    "\n",
    "\n",
    "visualize_aligned_tokens_aligned(roberta_fce_only_fp)"
   ]
  },
  {
   "cell_type": "code",
   "execution_count": null,
   "id": "b339a0f3-9b90-4d4c-9d9c-f738663f5064",
   "metadata": {},
   "outputs": [],
   "source": [
    "def save_sentences_to_tsv(data, error_type, file_path):\n",
    "    mode = 'a' if os.path.exists(file_path) else 'w'\n",
    "\n",
    "    with open(file_path, mode, encoding='utf-8', newline='') as f:\n",
    "        writer = csv.writer(f, delimiter='\\t')\n",
    "\n",
    "        if mode == 'w':\n",
    "            writer.writerow([\"error_type\", \"sentence\"])\n",
    "\n",
    "        for sentence in data:\n",
    "            tokens = [tok[1] for tok in sentence]\n",
    "            sentence_text = \" \".join(tokens)\n",
    "            writer.writerow([error_type, sentence_text])"
   ]
  },
  {
   "cell_type": "code",
   "execution_count": 75,
   "id": "1079b37c-31e8-4535-b473-06cd9ce9f1fb",
   "metadata": {},
   "outputs": [],
   "source": [
    "save_sentences_to_tsv(roberta_fce_only_fp[:50], 'FP', 'classified_sentencesFP_fce.tsv')"
   ]
  },
  {
   "cell_type": "markdown",
   "id": "397e29aa-0ac3-4407-a80e-c5dab9e3ec31",
   "metadata": {},
   "source": [
    "# Qwen!!!"
   ]
  },
  {
   "cell_type": "code",
   "execution_count": 10,
   "id": "245edf41-53a1-4378-be7c-517260da4e90",
   "metadata": {},
   "outputs": [],
   "source": [
    "client = OpenAI(base_url=\"http://localhost:8000/v1\", api_key=\"cltl\")"
   ]
  },
  {
   "cell_type": "markdown",
   "id": "0ec25558-cfce-43f6-aaa5-76467aa30cb0",
   "metadata": {},
   "source": [
    "##  Prompt Mode"
   ]
  },
  {
   "cell_type": "code",
   "execution_count": 33,
   "id": "f8122e9a-03be-4c7d-bf21-45f65c0ff6c0",
   "metadata": {},
   "outputs": [],
   "source": [
    "def query_LLM(model_client, prompt, temp=0.6, max_retries=1, timeout=80.0):\n",
    "    for attempt in range(max_retries):\n",
    "        try:\n",
    "            completion = model_client.chat.completions.create(\n",
    "                model=\"local-model\",\n",
    "                messages=[{\"role\": \"user\", \"content\": prompt}],\n",
    "                temperature=temp,\n",
    "                stream=False,\n",
    "                timeout=timeout,\n",
    "            )\n",
    "            return completion.choices[0].message.content\n",
    "\n",
    "        except (APITimeoutError, APIConnectionError, APIError) as e:\n",
    "            print(f\"[Attempt {attempt+1}/{max_retries}] Error: {e}. Retrying in 2 seconds...\")\n",
    "            time.sleep(2)\n",
    "\n",
    "    print(\"[SKIPPED] Model did not respond in time. Skipping this sentence.\")\n",
    "    return None  # or \"\" if that's easier to handle later\n"
   ]
  },
  {
   "cell_type": "code",
   "execution_count": 35,
   "id": "041d0058-06cc-4d53-b86e-d6c074209e7f",
   "metadata": {},
   "outputs": [],
   "source": [
    "def get_corrections_tokenized_with_labels_from_data_bert(sentence, model_client, max_attempts=2):\n",
    "    tokens = [tok[1] for tok in sentence]\n",
    "    sentence_str = \" \".join(tokens)\n",
    "\n",
    "    gold_correction = []\n",
    "    error_types = []\n",
    "\n",
    "    for tok in sentence:\n",
    "        gold = tok[-2]\n",
    "        pred = tok[-1]\n",
    "        orig = tok[1]\n",
    "        corr = tok[2]\n",
    "        etype = tok[3] if tok[3] else \"NO_LABEL\"\n",
    "\n",
    "        if gold == 'i':\n",
    "            error_types.append(etype)\n",
    "            if corr:\n",
    "                gold_correction.append(corr)\n",
    "            else: \n",
    "                continue\n",
    "        else:\n",
    "            gold_correction.append(orig)\n",
    "\n",
    "    prompt = f\"\"\"You are a careful English grammatical corrector.\n",
    "\n",
    "Given a tokenized sentence, return up to maximum five corrected versions. Each version should:\n",
    "- Be minimally corrected (fix grammar and lexical errors only)\n",
    "- Be tokenized (space-separated words)\n",
    "- Be written on a separate line\n",
    "- Use deletions if a word is clearly unnecessary or incorrect\n",
    "- Do not add explanations\n",
    "- If fewer than five unique corrections are possible, write an empty line for each missing correction\n",
    "\n",
    "Input: {sentence_str}\n",
    "Output:\n",
    "\"\"\"\n",
    "\n",
    "    for attempt in range(max_attempts):\n",
    "        response = query_LLM(model_client, prompt)\n",
    "\n",
    "        if response:\n",
    "            lines = [line.strip() for line in response.strip().split(\"\\n\")]\n",
    "            valid_corrections = [line.split() for line in lines if line.strip()]\n",
    "\n",
    "            if valid_corrections:\n",
    "                labels = []\n",
    "                for corrected in valid_corrections:\n",
    "                    label_seq = [\"c\" if i < len(tokens) and orig == corr else \"i\"\n",
    "                                 for i, (orig, corr) in enumerate(zip(tokens, corrected))]\n",
    "                    labels.append(label_seq)\n",
    "\n",
    "                gold_labels = [tok[-2] for tok in sentence]\n",
    "                pred_labels = [tok[-1] for tok in sentence]\n",
    "                \n",
    "                print(\"\\nOriginal:    \", sentence_str)\n",
    "                print(\"Gold labels: \", \" \".join(gold_labels))\n",
    "                print(\"Pred labels: \", \" \".join(pred_labels))\n",
    "                print(\"Gold:        \", \" \".join(gold_correction))\n",
    "                for idx, corr in enumerate(valid_corrections):\n",
    "                    print(f\"Correction {idx+1}:\", \" \".join(corr))\n",
    "                print(\"Error types: \", list(set(error_types)))\n",
    "                print()\n",
    "\n",
    "                return {\n",
    "                    \"original\": tokens,\n",
    "                    \"gold_correction\": gold_correction,\n",
    "                    \"error_types\": list(set(error_types)),\n",
    "                    \"llm_corrections\": valid_corrections,\n",
    "                    \"labels\": labels\n",
    "                }\n",
    "            else:\n",
    "                print(f\"Attempt {attempt+1}: No valid corrections, retrying...\")\n",
    "        else:\n",
    "            print(f\"Attempt {attempt+1}: Empty response, retrying...\")\n",
    "\n",
    "    print(\"\\nOriginal:\", sentence_str)\n",
    "    print(\"No corrections found.\\n\")\n",
    "    return {\n",
    "        \"original\": tokens,\n",
    "        \"gold_correction\": gold_correction,\n",
    "        \"error_types\": list(set(error_types)),\n",
    "        \"llm_corrections\": [],\n",
    "        \"labels\": []\n",
    "    }"
   ]
  },
  {
   "cell_type": "markdown",
   "id": "13041ce4-1605-41c4-af96-3f6db7050131",
   "metadata": {},
   "source": [
    "# GENERATION BY ERROR TYPE - FCE- ROBERTA "
   ]
  },
  {
   "cell_type": "markdown",
   "id": "05395515-0bd9-4d36-9f1f-960255eb57b2",
   "metadata": {},
   "source": [
    "## FN"
   ]
  },
  {
   "cell_type": "markdown",
   "id": "80301195-d3c2-4d01-bed4-136d85e06e82",
   "metadata": {},
   "source": [
    "### ROBERTA --> TV"
   ]
  },
  {
   "cell_type": "code",
   "execution_count": 40,
   "id": "57068c96-0dcd-420d-8a91-6e0dc032a39f",
   "metadata": {
    "scrolled": true
   },
   "outputs": [
    {
     "name": "stderr",
     "output_type": "stream",
     "text": [
      "  1%|▍                                         | 1/91 [01:09<1:44:42, 69.80s/it]"
     ]
    },
    {
     "name": "stdout",
     "output_type": "stream",
     "text": [
      "\n",
      "Original:     The trip that you planned for us , students , it 's a great chance to meet new people and visit a beautiful city like London .\n",
      "Gold labels:  c c c c i c c c c c i i c c c c c c c c c c c c c c c\n",
      "Pred labels:  c c c c c c c c c c c c c c c c c c c c c c c c c c c\n",
      "Gold:         The trip that you have planned for us , students , is is a great chance to meet new people and visit a beautiful city like London .\n",
      "Correction 1: The trip that you planned for us, students, is a great chance to meet new people and visit a beautiful city like London.\n",
      "Correction 2: The trip that you planned for us students it's a great chance to meet new people and visit a beautiful city like London\n",
      "Correction 3: The trip that you planned for us students is a great chance to meet new people and visit a beautiful city like London\n",
      "Correction 4: The trip that you planned for us, students, is a great chance to meet new people and visit a beautiful place like London\n",
      "Correction 5: The trip that you planned for us, students, is a wonderful chance to meet new people and visit a beautiful city like London\n",
      "Error types:  ['UA', 'TV']\n",
      "\n"
     ]
    },
    {
     "name": "stderr",
     "output_type": "stream",
     "text": [
      "  2%|▉                                         | 2/91 [02:03<1:29:17, 60.19s/it]"
     ]
    },
    {
     "name": "stdout",
     "output_type": "stream",
     "text": [
      "\n",
      "Original:     He had not liked this habit and had thought it was wrost of him until he solved a big crime .\n",
      "Gold labels:  c i i i c c c c c c c i c c c c c c c c c\n",
      "Pred labels:  c c c c c c c c c c c i c c c c c c c c c\n",
      "Gold:         He did not like did not like did not like this habit and had thought it was worst of him until he solved a big crime .\n",
      "Correction 1: He had not liked this habit and had thought it was worst of him until he solved a big crime.\n",
      "Correction 2: He had not liked this habit and had thought it was the worst of him until he solved a big crime.\n",
      "Correction 3: He had not liked this habit and had thought it was the worst until he solved a big crime.\n",
      "Correction 4: He had not liked this habit and had thought it was worst until he solved a big crime.\n",
      "Correction 5: He did not like this habit and thought it was the worst of him until he solved a big crime.\n",
      "Error types:  ['S', 'TV']\n",
      "\n"
     ]
    },
    {
     "name": "stderr",
     "output_type": "stream",
     "text": [
      "  3%|█▍                                        | 3/91 [02:24<1:02:28, 42.59s/it]"
     ]
    },
    {
     "name": "stdout",
     "output_type": "stream",
     "text": [
      "\n",
      "Original:     So I hope I could help you .\n",
      "Gold labels:  c c c c i i c c\n",
      "Pred labels:  c c c c i c c c\n",
      "Gold:         So I hope I have helped have helped you .\n",
      "Correction 1: So I hope I can help you.\n",
      "Correction 2: I hope I could help you.\n",
      "Correction 3: So I hope I could have helped you.\n",
      "Correction 4: So I hope to help you.\n",
      "Correction 5: So I hope that I could help you.\n",
      "Error types:  ['TV']\n",
      "\n"
     ]
    },
    {
     "name": "stderr",
     "output_type": "stream",
     "text": [
      "  4%|█▊                                        | 4/91 [03:18<1:08:00, 46.90s/it]"
     ]
    },
    {
     "name": "stdout",
     "output_type": "stream",
     "text": [
      "\n",
      "Original:     Despite this , I 'm convinced all this progress caused some damages at the community , not only phisically .\n",
      "Gold labels:  c c c c c c c c c i c i i c c c c c i c\n",
      "Pred labels:  c c c c c c c c c c c i i c c c c c i c\n",
      "Gold:         Despite this , I 'm convinced all this progress has caused some damage to the community , not only physically .\n",
      "Correction 1: Despite this, I'm convinced that all this progress caused some damages to the community, not only physically.\n",
      "Correction 2: Despite this, I'm convinced that all this progress caused some damage to the community, not only physically.\n",
      "Correction 3: Despite this, I'm convinced that all this progress has caused some damages to the community, not only physically.\n",
      "Correction 4: Despite this, I'm convinced that all this progress has caused some damage to the community, not only physically.\n",
      "Correction 5: Despite this, I'm convinced that this progress caused some damages to the community, not only physically.\n",
      "Error types:  ['RT', 'S', 'TV', 'CN']\n",
      "\n",
      "[Attempt 1/1] Error: Request timed out.. Retrying in 2 seconds...\n",
      "[SKIPPED] Model did not respond in time. Skipping this sentence.\n",
      "Attempt 1: Empty response, retrying...\n",
      "[Attempt 1/1] Error: Request timed out.. Retrying in 2 seconds...\n"
     ]
    },
    {
     "name": "stderr",
     "output_type": "stream",
     "text": [
      "  5%|██▎                                      | 5/91 [11:28<4:56:05, 206.57s/it]"
     ]
    },
    {
     "name": "stdout",
     "output_type": "stream",
     "text": [
      "[SKIPPED] Model did not respond in time. Skipping this sentence.\n",
      "Attempt 2: Empty response, retrying...\n",
      "\n",
      "Original: But I finally got around writing and you 'll see that it 's definetly worth waiting as I have some great and unbeliavable news to tell you .\n",
      "No corrections found.\n",
      "\n"
     ]
    },
    {
     "name": "stderr",
     "output_type": "stream",
     "text": [
      "  7%|██▋                                      | 6/91 [12:25<3:40:37, 155.74s/it]"
     ]
    },
    {
     "name": "stdout",
     "output_type": "stream",
     "text": [
      "\n",
      "Original:     From my point of view , people 's home in the future will be controlled by a computer which is devised in every machine , TV , cooker and the light , connecting to the owner .\n",
      "Gold labels:  i i i i i c c c i c c c c c c c c c c c i i c c c c c c c c c c i c c c c\n",
      "Pred labels:  c c c c c c c c c c c c c c c c c c c c c i c c c c c c c c c c c c c c c\n",
      "Gold:         In my opinion In my opinion In my opinion In my opinion In my opinion , people 's homes in the future will be controlled by a computer which is built into every machine , TV , cooker and the light , connected to the owner .\n",
      "Correction 1: From my point of view, people's homes in the future will be controlled by a computer which is designed in every machine, TV, cooker and light, connecting to the owner.\n",
      "Correction 2: From my point of view, people's homes in the future will be controlled by computers which are devised in every machine TV cooker and light connecting to the owner\n",
      "Correction 3: From my point of view, people's homes in the future will be controlled by a computer which is devised in every machine TV cooker and light connected to the owner\n",
      "Correction 4: From my point of view, people's homes in the future will be controlled by a computer which is designed in every machine TV cooker and light connecting to the owner\n",
      "Correction 5: From my point of view, people's homes in the future will be controlled by a computer that is devised in every machine TV cooker and light connecting to the owner\n",
      "Error types:  ['RV', 'TV', 'RT', 'FN', 'ID']\n",
      "\n"
     ]
    },
    {
     "name": "stderr",
     "output_type": "stream",
     "text": [
      "  8%|███▏                                     | 7/91 [13:04<2:44:31, 117.52s/it]"
     ]
    },
    {
     "name": "stdout",
     "output_type": "stream",
     "text": [
      "\n",
      "Original:     At the end you said it will be a Restaurant , but it was closed , so we could n't eat anything untill we got home .\n",
      "Gold labels:  i i i c c i i i c c c c c c c c c c c c c c i c c c c\n",
      "Pred labels:  i c c c c c i c c c c c c c c c c c c c c c i c c c c\n",
      "Gold:         Finally Finally Finally you said there was was a Restaurant , but it was closed , so we could n't eat anything until we got home .\n",
      "Correction 1: At the end you said it will be a restaurant, but it was closed, so we couldn't eat anything until we got home.\n",
      "Correction 2: At the end you said it would be a restaurant, but it was closed, so we couldn't eat anything until we got home.\n",
      "Correction 3: At the end you said it will be a restaurant, but it was closed, so we couldn't eat anything until we reached home.\n",
      "Correction 4: At the end you said it will be a restaurant, but it was closed, so we couldn't eat anything till we got home.\n",
      "Correction 5: At the end you said it will be a restaurant, but it was closed, so we couldn't eat anything before we got home.\n",
      "Error types:  ['RA', 'S', 'TV', 'RY']\n",
      "\n"
     ]
    },
    {
     "name": "stderr",
     "output_type": "stream",
     "text": [
      "  9%|███▋                                      | 8/91 [13:33<2:03:52, 89.55s/it]"
     ]
    },
    {
     "name": "stdout",
     "output_type": "stream",
     "text": [
      "\n",
      "Original:     Now I can tell you that it was an amaizing challange for me because I never did anything like that .\n",
      "Gold labels:  c c c c c c c c c i i c c c c i i c c c c\n",
      "Pred labels:  c c c c c c c c c i i c c c c c c c c c c\n",
      "Gold:         Now I can tell you that it was an amazing challenge for me because I had never done had never done anything like that .\n",
      "Correction 1: Now I can tell you that it was an amazing challenge for me because I never did anything like that.\n",
      "Correction 2: Now I can tell you that it was an amazing challenge for me because I had never done anything like that.\n",
      "Correction 3: Now I can tell you that it was an amazing challenge for me as I never did anything like that.\n",
      "Correction 4: Now I can tell you that it was an amazing challenge for me since I never did anything like that.\n",
      "Correction 5: Now I can tell you that it was an amazing challenge for me when I never did anything like that.\n",
      "Error types:  ['S', 'TV']\n",
      "\n"
     ]
    },
    {
     "name": "stderr",
     "output_type": "stream",
     "text": [
      " 10%|████▏                                     | 9/91 [13:44<1:28:52, 65.03s/it]"
     ]
    },
    {
     "name": "stdout",
     "output_type": "stream",
     "text": [
      "\n",
      "Original:     Maybe paper can also be a farbic use for make clothings and for those who like to wear new clothes everyday .\n",
      "Gold labels:  c c c c c c i i c i i c c c c c c c c c i c\n",
      "Pred labels:  c c c c c c i c c i i c c c c c c c c c i c\n",
      "Gold:         Maybe paper can also be a fabric used for to make clothing and for those who like to wear new clothes every day .\n",
      "Correction 1: Maybe paper can also be fabric used for making clothes and for those who like to wear new clothes every day.\n",
      "Error types:  ['FV', 'RP', 'TV', 'S', 'CN']\n",
      "\n"
     ]
    },
    {
     "name": "stderr",
     "output_type": "stream",
     "text": [
      " 11%|████▌                                    | 10/91 [14:21<1:15:51, 56.20s/it]"
     ]
    },
    {
     "name": "stdout",
     "output_type": "stream",
     "text": [
      "\n",
      "Original:     In fact , there is nothing very important I did , because we are not the right people to do it .\n",
      "Gold labels:  c c c c i c c c c c c c c i c c c c c c c c\n",
      "Pred labels:  c c c c c c c c c c c c c c c c c c c c c c\n",
      "Gold:         In fact , there was nothing very important I did , because we were not the right people to do it .\n",
      "Correction 1: In fact, there is nothing very important that I did because we are not the right people to do it.\n",
      "Correction 2: In fact, there is nothing very important for me to do because we are not the right people to do it.\n",
      "Correction 3: In fact, there is nothing very important I did because we are not the right people to do this.\n",
      "Correction 4: In fact, there is nothing very important I did because we are not the right people to do that.\n",
      "Correction 5: In fact, there is nothing very important I did because we are not the suitable people to do it.\n",
      "Error types:  ['TV']\n",
      "\n"
     ]
    },
    {
     "name": "stderr",
     "output_type": "stream",
     "text": [
      " 12%|█████▏                                     | 11/91 [14:31<56:03, 42.05s/it]"
     ]
    },
    {
     "name": "stdout",
     "output_type": "stream",
     "text": [
      "\n",
      "Original:     All students will be very greatful .\n",
      "Gold labels:  c i i c c i c\n",
      "Pred labels:  c c c c c i c\n",
      "Gold:         All would be very grateful .\n",
      "Correction 1: All students will be very grateful.\n",
      "Correction 2: All students will be greatly grateful.\n",
      "Correction 3: All students will be very thankful.\n",
      "Correction 4: All students will be grateful.\n",
      "Correction 5: All students will be thankfu.\n",
      "Error types:  ['NO_LABEL', 'S', 'TV']\n",
      "\n"
     ]
    },
    {
     "name": "stderr",
     "output_type": "stream",
     "text": [
      " 13%|█████▋                                     | 12/91 [14:59<49:45, 37.79s/it]"
     ]
    },
    {
     "name": "stdout",
     "output_type": "stream",
     "text": [
      "\n",
      "Original:     It was very good programme , especially the river trip to Greenwich , which I am sure the whole class would enjoy .\n",
      "Gold labels:  c i i c c c c c c c c c c c c c c c c c i c c\n",
      "Pred labels:  c c i c c c c c c c c c c c c c c c c c c c c\n",
      "Gold:         It is good programme , especially the river trip to Greenwich , which I am sure the whole class will enjoy .\n",
      "Correction 1: It was a very good programme, especially the river trip to Greenwich, which I am sure the whole class would enjoy.\n",
      "Correction 2: It was a very good program, especially the river trip to Greenwich, which I am sure the whole class would enjoy.\n",
      "Correction 3: It was a very good programme, especially the river trip to Greenwich, which I are sure the whole class would enjoy.\n",
      "Correction 4: It was a very good programme, especially the river trip to Greenwich, which I am sure the entire class would enjoy.\n",
      "Correction 5: It was a very good programme, especially the river trip to Greenwich, which I am sure the whole class enjoyed.\n",
      "Error types:  ['NO_LABEL', 'TV']\n",
      "\n"
     ]
    },
    {
     "name": "stderr",
     "output_type": "stream",
     "text": [
      " 14%|██████▏                                    | 13/91 [15:31<47:05, 36.23s/it]"
     ]
    },
    {
     "name": "stdout",
     "output_type": "stream",
     "text": [
      "\n",
      "Original:     I must say that was a great fun , I 've never had this kind of experience before .\n",
      "Gold labels:  c c c c c c c c c c i c c c c c c c c\n",
      "Pred labels:  c c c c c c c c c c c c c c c c c c c\n",
      "Gold:         I must say that was a great fun , I I'd never had this kind of experience before .\n",
      "Correction 1: I must say that was great fun. I've never had this kind of experience before.\n",
      "Correction 2: I must say that was a great fun. I have never had this kind of experience before.\n",
      "Correction 3: I must say that was a great fun. I've never had this kind of an experience before.\n",
      "Correction 4: I must say that was a great fun. I've never had such an experience before.\n",
      "Correction 5: I must say that was a great fun. I've never had this kind of experience before.\n",
      "Error types:  ['TV']\n",
      "\n"
     ]
    },
    {
     "name": "stderr",
     "output_type": "stream",
     "text": [
      " 15%|██████▌                                    | 14/91 [15:41<36:07, 28.15s/it]"
     ]
    },
    {
     "name": "stdout",
     "output_type": "stream",
     "text": [
      "\n",
      "Original:     This has been scheduled 3 months ago .\n",
      "Gold labels:  c i i c c c c c\n",
      "Pred labels:  c i c c c c c c\n",
      "Gold:         This was scheduled was scheduled scheduled 3 months ago .\n",
      "Correction 1: This has been scheduled 3 months before.\n",
      "Correction 2: This was scheduled 3 months ago.\n",
      "Correction 3: This has been planned 3 months ago.\n",
      "Correction 4: This was set for 3 months ago.\n",
      "Correction 5: This had been arranged 3 months prior.\n",
      "Error types:  ['TV']\n",
      "\n"
     ]
    },
    {
     "name": "stderr",
     "output_type": "stream",
     "text": [
      " 16%|███████                                    | 15/91 [16:03<33:24, 26.37s/it]"
     ]
    },
    {
     "name": "stdout",
     "output_type": "stream",
     "text": [
      "\n",
      "Original:     We became passive people , we follow the same routine every day and we live in a society where rules are strongly fixed .\n",
      "Gold labels:  c i c c c c c c c c c c c c c c c c c c c c c c\n",
      "Pred labels:  c c c c c c c c c c c c c c c c c c c c c c c c\n",
      "Gold:         We have become passive people , we follow the same routine every day and we live in a society where rules are strongly fixed .\n",
      "Correction 1: We became passive people. We follow the same routine every day, and we live in a society where rules are strongly fixed.\n",
      "Correction 2: We became passive people. We follow the same routine every day, and we live in a society where rules are firmly established.\n",
      "Correction 3: We become passive people. We follow the same routine every day, and we live in a society where rules are strongly fixed.\n",
      "Correction 4: We became passive individuals. We follow the same routine every day, and we live in a society where rules are strongly fixed.\n",
      "Correction 5: We became passive people; we follow the same routine every day, and we live in a society where rules are strongly fixed.\n",
      "Error types:  ['TV']\n",
      "\n"
     ]
    },
    {
     "name": "stderr",
     "output_type": "stream",
     "text": [
      " 18%|███████▌                                   | 16/91 [16:38<36:15, 29.01s/it]"
     ]
    },
    {
     "name": "stdout",
     "output_type": "stream",
     "text": [
      "\n",
      "Original:     However , I 'm happy that we finished this hard work . I worked in a team by seven people .\n",
      "Gold labels:  c c c c c c c i c c c c c c c c c i c c c\n",
      "Pred labels:  c c c c c c c c c c c c c c c c c i c c c\n",
      "Gold:         However , I 'm happy that we have finished this hard work . I worked in a team of seven people .\n",
      "Correction 1: However, I'm happy that we finished this hard work. I worked in a team of seven people.\n",
      "Correction 2: However, I'm happy that we finished this difficult work. I worked in a team by seven people.\n",
      "Correction 3: However, I'm happy that we finished this hard work. I worked in a team with seven people.\n",
      "Correction 4: However, I'm happy that we finished this hard work. I worked in a team consisting of seven people.\n",
      "Correction 5: However, I'm happy that we finished this hard work. I worked with a team of seven people.\n",
      "Error types:  ['RT', 'TV']\n",
      "\n"
     ]
    },
    {
     "name": "stderr",
     "output_type": "stream",
     "text": [
      " 19%|████████                                   | 17/91 [17:19<40:08, 32.54s/it]"
     ]
    },
    {
     "name": "stdout",
     "output_type": "stream",
     "text": [
      "\n",
      "Original:     I hoped that it , just could see 3 people , but it was mistake ...\n",
      "Gold labels:  c i c c c i i i i c c c i c i c\n",
      "Pred labels:  c c c c c i i c c c c c c c i c\n",
      "Gold:         I thought that it , only be seen people , but that was ...\n",
      "Correction 1: I hoped that it just could see 3 people but it was a mistake ...\n",
      "Correction 2: I hoped that it just could see three people but it was a mistake ...\n",
      "Correction 3: I hoped that it just could have seen 3 people but it was a mistake ...\n",
      "Correction 4: I hoped that it just could have seen three people but it was a mistake ...\n",
      "Correction 5: I hoped that it, just could see 3 people, but it was a mistake ...\n",
      "Error types:  ['RV', 'RY', 'TV', 'NO_LABEL', 'RA']\n",
      "\n",
      "[Attempt 1/1] Error: Request timed out.. Retrying in 2 seconds...\n",
      "[SKIPPED] Model did not respond in time. Skipping this sentence.\n",
      "Attempt 1: Empty response, retrying...\n"
     ]
    },
    {
     "name": "stderr",
     "output_type": "stream",
     "text": [
      " 20%|███████▉                                | 18/91 [23:51<2:51:10, 140.69s/it]"
     ]
    },
    {
     "name": "stdout",
     "output_type": "stream",
     "text": [
      "\n",
      "Original:     Maria talked to Pat about the stupid thing that she did , but Pat refused to apologaising to her , because she felt it was n't a mistake and she did it for only one reason : help Maria to get the man that she loved .\n",
      "Gold labels:  c c c c c c c c c c i c c c c c i c c c c c c c c c c c c c c c c c c c c i c c c c c c c c c\n",
      "Pred labels:  c c c c c c c c c c c c c c c c i c c c c c c c c c c c c c c c c c c c c c c c c c c c c c c\n",
      "Gold:         Maria talked to Pat about the stupid thing that she had done , but Pat refused to apologising to her , because she felt it was n't a mistake and she did it for only one reason : to help Maria to get the man that she loved .\n",
      "Correction 1: Maria talked to Pat about the stupid thing that she did, but Pat refused to apologize to her because she felt it wasn't a mistake and she did it for only one reason: to help Maria get the man that she loved.\n",
      "Correction 2: Maria talked to Pat about the stupid thing that she did, but Pat refused to apologizing to her because she felt it was n't a mistake and she did it for only one reason: help Maria to get the man that she loved.\n",
      "Correction 3: Maria talked to Pat about the stupid thing that she did, but Pat refused to apologize to her because she felt it wasn't a mistake and she did it for only one reason: to help Maria get the man that she loved.\n",
      "Correction 4: Maria talked to Pat about the stupid thing that she did, but Pat refused to apologizing to her because she felt it was n't a mistake and she did it for only one reason: to help Maria get the man that she loved.\n",
      "Correction 5: Maria talked to Pat about the stupid thing that she did, but Pat refused to apologize to her because she felt it wasn't a mistake and she did it for only one reason: to help Maria get the man that she loved.\n",
      "Error types:  ['FV', 'S', 'TV']\n",
      "\n",
      "[Attempt 1/1] Error: Request timed out.. Retrying in 2 seconds...\n",
      "[SKIPPED] Model did not respond in time. Skipping this sentence.\n",
      "Attempt 1: Empty response, retrying...\n",
      "[Attempt 1/1] Error: Request timed out.. Retrying in 2 seconds...\n"
     ]
    },
    {
     "name": "stderr",
     "output_type": "stream",
     "text": [
      " 21%|████████▎                               | 19/91 [32:01<4:54:39, 245.55s/it]"
     ]
    },
    {
     "name": "stdout",
     "output_type": "stream",
     "text": [
      "[SKIPPED] Model did not respond in time. Skipping this sentence.\n",
      "Attempt 2: Empty response, retrying...\n",
      "\n",
      "Original: I THOUGHT IT WILL BE AT 19.3 AND I HAVE BEEN WAITING FOR FORTY FIVE MINUTES ! ! BESIDES THIS , I COULD NOT VISIT THE RESTAURANT IN THE THEATRE BECAUSE IT WAS CLOSED .\n",
      "No corrections found.\n",
      "\n"
     ]
    },
    {
     "name": "stderr",
     "output_type": "stream",
     "text": [
      " 22%|████████▊                               | 20/91 [33:50<4:02:04, 204.57s/it]"
     ]
    },
    {
     "name": "stdout",
     "output_type": "stream",
     "text": [
      "\n",
      "Original:     When finally the show had started I found out that Danny Brook was replaced by another actor .\n",
      "Gold labels:  c i i i c c c c c c c c i c c c c c\n",
      "Pred labels:  c c c c c c c c c c c c c c c c c c\n",
      "Gold:         When the show finally the show finally the show finally had started I found out that Danny Brook had been replaced replaced by another actor .\n",
      "Correction 1: When finally the show had started, I found out that Danny Brook was replaced by another actor.\n",
      "Correction 2: When the show had finally started, I found out that Danny Brook was replaced by another actor.\n",
      "Correction 3: When the show had started, I found out that Danny Brook was replaced by another actor.\n",
      "Correction 4: When the show had started, I discovered that Danny Brook was replaced by another actor.\n",
      "Correction 5: When the show had started, I realized that Danny Brook was replaced by another actor.\n",
      "Error types:  ['W', 'TV']\n",
      "\n"
     ]
    },
    {
     "name": "stderr",
     "output_type": "stream",
     "text": [
      " 23%|█████████▏                              | 21/91 [34:46<3:06:25, 159.80s/it]"
     ]
    },
    {
     "name": "stdout",
     "output_type": "stream",
     "text": [
      "\n",
      "Original:     I THANK HIM SO MUCH , AND I WAS SO HAPPY THAT I ASKED TO THE RIGHT PERSON AND NOTHING WRON HAPPEN TO ME .\n",
      "Gold labels:  c i c i c c c c c c c c c c c c c c c c i i c c c\n",
      "Pred labels:  c c c c c c c c c c c c c c c c c c c c c c c c c\n",
      "Gold:         I THANKED HIM VERY MUCH , AND I WAS SO HAPPY THAT I ASKED TO THE RIGHT PERSON AND NOTHING WRONG HAPPENED TO ME .\n",
      "Correction 1: I THANK HIM SO MUCH AND I WAS SO HAPPY THAT I ASKED THE RIGHT PERSON AND NOTHING WROTEN HAPPEN TO ME\n",
      "Correction 2: I THANK HIM SO MUCH AND I WAS SO HAPPY THAT I ASKED TO THE RIGHT PERSON AND NOTHING IS HAPPENING TO ME\n",
      "Correction 3: I thank him so much and i was so happy that i asked the right person and nothing written happened to me\n",
      "Correction 4: I thank him so much and i was so happy that i asked to the right person and nothing is happening to me\n",
      "Correction 5: I thank him so much and i was so happy that i asked the right person and nothing wrong happened to me\n",
      "Error types:  ['S', 'TV', 'RY']\n",
      "\n"
     ]
    },
    {
     "name": "stderr",
     "output_type": "stream",
     "text": [
      " 24%|█████████▋                              | 22/91 [35:03<2:14:39, 117.10s/it]"
     ]
    },
    {
     "name": "stdout",
     "output_type": "stream",
     "text": [
      "\n",
      "Original:     The Francis 's secret was discovered !\n",
      "Gold labels:  i i i i i i c\n",
      "Pred labels:  c c c c c c c\n",
      "Gold:         Francis discovered the secret Francis Francis discovered discovered !\n",
      "Correction 1: The Francis's secret was discovered!\n",
      "Correction 2: The Francis 's secret was found!\n",
      "Correction 3: Francis's secret was discovered!\n",
      "Correction 4: Francis's secret was found!\n",
      "Correction 5: The Francis secret was discovered!\n",
      "Error types:  ['NO_LABEL', 'UP', 'W', 'TV']\n",
      "\n"
     ]
    },
    {
     "name": "stderr",
     "output_type": "stream",
     "text": [
      " 25%|██████████▎                              | 23/91 [35:52<1:49:20, 96.47s/it]"
     ]
    },
    {
     "name": "stdout",
     "output_type": "stream",
     "text": [
      "\n",
      "Original:     I would prefer tents because I have never stay in tents before and I am wondering how it is going to be like And among these activities I am choosing basketball and swimming .\n",
      "Gold labels:  c c c i c c c c i c i c c c c c i c c c c c c c i c c c i i c c c c\n",
      "Pred labels:  c c c i c c c c i c c c c c c c c c c c c c c c c c c c c c c c c c\n",
      "Gold:         I would prefer tent because I have never stayed in tent before and I am wondering what it is going to be like And from these activities I will choose will choose basketball and swimming .\n",
      "Correction 1: I would prefer tents because I have never stayed in tents before and I am wondering how it is going to be like. And among these activities, I am choosing basketball and swimming.\n",
      "Correction 2: I would prefer tents because I have never stayed in tents before and I am wondering how it will be like. And among these activities, I am choosing basketball and swimming.\n",
      "Correction 3: I would prefer tents because I have never stayed in tents before and I am wondering how it is going to be like. And among these activities, I am selecting basketball and swimming.\n",
      "Correction 4: I would prefer tents because I have never stayed in them before and I am wondering how it is going to be like. And among these activities, I am choosing basketball and swimming.\n",
      "Correction 5: I would prefer staying in tents because I have never stayed in tents before and I am wondering how it is going to be like. And among these activities, I am choosing basketball and swimming.\n",
      "Error types:  ['AGN', 'RT', 'TV', 'RA']\n",
      "\n"
     ]
    },
    {
     "name": "stderr",
     "output_type": "stream",
     "text": [
      " 26%|██████████▊                              | 24/91 [36:29<1:27:53, 78.71s/it]"
     ]
    },
    {
     "name": "stdout",
     "output_type": "stream",
     "text": [
      "\n",
      "Original:     I believe that the event was good , however I feel that the festival can be improved next year .\n",
      "Gold labels:  c c c c c c c i i c c c c c i c c c c c\n",
      "Pred labels:  c c c c c c c c c c c c c c c c c c c c\n",
      "Gold:         I believe that the event was good . However . However I feel that the festival could be improved next year .\n",
      "Correction 1: I believe that the event was good, however I feel that the festival can be improved next year.\n",
      "Correction 2: I believe that the event was good; however, I feel that the festival can be improved next year.\n",
      "Correction 3: I believe that the event was good. However, I feel that the festival can be improved next year.\n",
      "Correction 4: I believe that the event was good, but I feel that the festival can be improved next year.\n",
      "Correction 5: I believe that the event was good; I feel that the festival can be improved next year.\n",
      "Correction 6: I believe that the event was good however I feel that the festival should be improved next year.\n",
      "Correction 7: I believe that the event was good however I feel that the festival could be improved next year.\n",
      "Correction 8: I believe that the event was good however I feel that the festival might be improved next year.\n",
      "Error types:  ['RP', 'TV']\n",
      "\n"
     ]
    },
    {
     "name": "stderr",
     "output_type": "stream",
     "text": [
      " 27%|███████████▎                             | 25/91 [37:13<1:15:15, 68.42s/it]"
     ]
    },
    {
     "name": "stdout",
     "output_type": "stream",
     "text": [
      "\n",
      "Original:     Whlile I was standing on the beach suddenly I heard someone called my name and said that I had to go home , that right , she is my mum .\n",
      "Gold labels:  i c c c c c c c c c c i c c c i c c c c c c i i i c i i c c c\n",
      "Pred labels:  i c c c c c c c c c c c c c c c c c c c c c i i c c c c c c c\n",
      "Gold:         While I was standing on the beach suddenly I heard someone call my name and say that I had to go home . That . That , it was my mum .\n",
      "Correction 1: While I was standing on the beach, suddenly I heard someone call my name and said that I had to go home. That's right; she is my mum.\n",
      "Correction 2: While I was standing on the beach, suddenly I heard someone call my name and said that I had to go home. Right, she is my mum.\n",
      "Correction 3: While I was standing on the beach, suddenly I heard someone call my name, and said that I had to go home. That's right; she is my mum.\n",
      "Correction 4: While I was standing on the beach, suddenly I heard someone call my name, and said that I had to go home. Right, she is my mum.\n",
      "Correction 5: While I was standing on the beach, suddenly I heard someone call my name and said that I had to go home. That's right; she is my mum.\n",
      "Correction 6: While I was standing on the beach, suddenly I heard someone call my name and said that I had to go home. Right, she is my mum.\n",
      "Error types:  ['RP', 'TV', 'NO_LABEL', 'S', 'RA']\n",
      "\n"
     ]
    },
    {
     "name": "stderr",
     "output_type": "stream",
     "text": [
      " 29%|███████████▋                             | 26/91 [37:46<1:02:36, 57.79s/it]"
     ]
    },
    {
     "name": "stdout",
     "output_type": "stream",
     "text": [
      "\n",
      "Original:     I was thinking ' what should I do ? ' I haven't got my mobile phone with me And I was half way between my school and home .\n",
      "Gold labels:  c c c c c c c c c c c i c c c c c c i c c i i c c c c c c\n",
      "Pred labels:  c c c c c c c c c c c c c c c c c c c c c c c c c c c c c\n",
      "Gold:         I was thinking ' what should I do ? ' I hadn't got my mobile phone with me and I was halfway halfway between my school and home .\n",
      "Correction 1: I was thinking, \"What should I do?\" I haven't got my mobile phone with me. And I was halfway between my school and home.\n",
      "Correction 2: I was thinking, \"What should I do?\" I haven't got my mobile phone. And I was halfway between my school and home.\n",
      "Correction 3: I was thinking, \"What should I do?\" I haven't got my phone with me. And I was halfway between my school and home.\n",
      "Correction 4: I was thinking, \"What should I do?\" I haven't got my mobile with me. And I was halfway between school and home.\n",
      "Correction 5: I was thinking, \"What should I do?\" I haven't got my mobile phone with me. And I was halfway to home from school.\n",
      "Error types:  ['RP', 'TV']\n",
      "\n"
     ]
    },
    {
     "name": "stderr",
     "output_type": "stream",
     "text": [
      " 30%|████████████▊                              | 27/91 [38:03<48:23, 45.37s/it]"
     ]
    },
    {
     "name": "stdout",
     "output_type": "stream",
     "text": [
      "\n",
      "Original:     There was no discount at all which is in contrast with ' Discounts Availabe ' .\n",
      "Gold labels:  c c c c c c c i c c c c c i c c\n",
      "Pred labels:  c c c c c c c c c c c c c i c c\n",
      "Gold:         There was no discount at all which was in contrast with ' Discounts Available ' .\n",
      "Correction 1: There was no discount at all, which is in contrast with \"Discounts Available\".\n",
      "Correction 2: There was no discount at all, which is in contrast with discounts available.\n",
      "Correction 3: There was no discount at all which is in contrast with Discounts Available.\n",
      "Correction 4: There was no discount at all which is in contrast with discounts available.\n",
      "Correction 5: There was no discount at all.\n",
      "Error types:  ['S', 'TV']\n",
      "\n"
     ]
    },
    {
     "name": "stderr",
     "output_type": "stream",
     "text": [
      " 31%|█████████████▏                             | 28/91 [38:16<37:27, 35.67s/it]"
     ]
    },
    {
     "name": "stdout",
     "output_type": "stream",
     "text": [
      "\n",
      "Original:     Coocking became faster with the help of the microwave .\n",
      "Gold labels:  i i c c c c c c c c\n",
      "Pred labels:  i c c c c c c c c c\n",
      "Gold:         Cooking has become faster with the help of the microwave .\n",
      "Correction 1: Cooking became faster with the help of the microwave.\n",
      "Correction 2: Cooking becomes faster with the help of the microwave.\n",
      "Correction 3: Cooking became faster through the use of the microwave.\n",
      "Correction 4: Cooking became faster using the microwave.\n",
      "Correction 5: Cooking became faster with the microwave.\n",
      "Error types:  ['S', 'TV']\n",
      "\n"
     ]
    },
    {
     "name": "stderr",
     "output_type": "stream",
     "text": [
      " 32%|█████████████▋                             | 29/91 [38:50<36:24, 35.24s/it]"
     ]
    },
    {
     "name": "stdout",
     "output_type": "stream",
     "text": [
      "\n",
      "Original:     I write to find out further information and give you some details about myself and the travel that I have won in your competition .\n",
      "Gold labels:  c i c c c c c c c c c c c c c c i c c c c c c c c\n",
      "Pred labels:  c c c c c c c c c c c c c c c c i c c c c c c c c\n",
      "Gold:         I am writing to find out further information and give you some details about myself and the trip that I have won in your competition .\n",
      "Correction 1: I write to find out further information and give you some details about myself and the travel I have won in your competition.\n",
      "Correction 2: I wrote to find out further information and give you some details about myself and the travel that I won in your competition.\n",
      "Correction 3: I write to find out more information and give you some details about myself and the trip that I have won in your competition.\n",
      "Correction 4: I write to find out further information and give you some details about myself and the trip I have won in your competition.\n",
      "Correction 5: I write to find out further information and give you details about myself and the travel that I have won in your competition.\n",
      "Error types:  ['RN', 'TV']\n",
      "\n"
     ]
    },
    {
     "name": "stderr",
     "output_type": "stream",
     "text": [
      " 33%|██████████████▏                            | 30/91 [39:11<31:34, 31.05s/it]"
     ]
    },
    {
     "name": "stdout",
     "output_type": "stream",
     "text": [
      "\n",
      "Original:     Firstly , I would like to thank you for the programme that you provided .\n",
      "Gold labels:  c c c c c c c c c c c c c i c\n",
      "Pred labels:  c c c c c c c c c c c c c c c\n",
      "Gold:         Firstly , I would like to thank you for the programme that you have provided .\n",
      "Correction 1: Firstly, I would like to thank you for the programme that you provided.\n",
      "Correction 2: Firstly, I would like to thank you for the program that you provided.\n",
      "Correction 3: I would like to thank you for the programme that you provided.\n",
      "Correction 4: I would like to thank you for the program that you provided.\n",
      "Correction 5: Finally, I would like to thank you for the programme that you provided.\n",
      "Error types:  ['TV']\n",
      "\n"
     ]
    },
    {
     "name": "stderr",
     "output_type": "stream",
     "text": [
      " 34%|██████████████▋                            | 31/91 [39:41<30:39, 30.65s/it]"
     ]
    },
    {
     "name": "stdout",
     "output_type": "stream",
     "text": [
      "\n",
      "Original:     Moreover , I was shocked by the reason for which it was closed : the chef went away after he received a phone call !\n",
      "Gold labels:  c c c c c c c c c c c i c c c c i i c c c c c c c\n",
      "Pred labels:  c c c c c c c c c c c c c c c c c c c c c c c c c\n",
      "Gold:         Moreover , I was shocked by the reason for which it had been closed : the chef left left after he received a phone call !\n",
      "Correction 1: Moreover, I was shocked by the reason for which it was closed: The chef went away after he received a phone call!\n",
      "Correction 2: Moreover, I was shocked by the reason for which it was closed: After the chef received a phone call, he went away!\n",
      "Correction 3: Moreover, I was shocked by the reason for which it was closed: The chef left after receiving a phone call!\n",
      "Correction 4: Moreover, I was shocked by the reason for which it was closed: He received a phone call and then the chef went away!\n",
      "Correction 5: Moreover, I was shocked by the reason for which it was closed: The chef went away upon receiving a phone call!\n",
      "Error types:  ['RV', 'TV']\n",
      "\n"
     ]
    },
    {
     "name": "stderr",
     "output_type": "stream",
     "text": [
      " 35%|███████████████                            | 32/91 [40:02<27:19, 27.79s/it]"
     ]
    },
    {
     "name": "stdout",
     "output_type": "stream",
     "text": [
      "\n",
      "Original:     EVENTHOUGH YOUR PROGRAM IS PERFECT WE WILL PREFER TO GO THERE .\n",
      "Gold labels:  i c i c c c i c c c c c\n",
      "Pred labels:  i c c c c c c c c c c c\n",
      "Gold:         EVEN THOUGH YOUR PROGRAMME IS PERFECT WE WOULD PREFER TO GO THERE .\n",
      "Correction 1: EVENTHOUGH YOUR PROGRAM IS PERFECT, WE WILL PREFER TO GO THERE.\n",
      "Correction 2: EVENTHOUGH YOUR PROGRAM IS PERFECT WE WILL PREFER TO GO THERE\n",
      "Correction 3: EVEN THOUGH YOUR PROGRAM IS PERFECT WE WILL PREFER TO GO THERE\n",
      "Correction 4: ALTHOUGH YOUR PROGRAM IS PERFECT WE WILL PREFER TO GO THERE\n",
      "Correction 5: ALTHOUGH YOUR PROGRAM IS PERFECT, WE WILL PREFER TO GO THERE.\n",
      "Error types:  ['SA', 'RP', 'TV']\n",
      "\n"
     ]
    },
    {
     "name": "stderr",
     "output_type": "stream",
     "text": [
      " 36%|███████████████▌                           | 33/91 [40:29<26:37, 27.53s/it]"
     ]
    },
    {
     "name": "stdout",
     "output_type": "stream",
     "text": [
      "\n",
      "Original:     Thanks for your last letter ; I knew you would interested at my experience of helping the pop concert last time , now I tell you about it .\n",
      "Gold labels:  c c c c c c c c c c i i c c c c i c c c c i i c i c c c c\n",
      "Pred labels:  c c c c c c c c c c i i c c c c c c c c c i c c c c c c c\n",
      "Gold:         Thanks for your last letter ; I knew you would in my experience of helping pop concert last time . Now . Now I will tell you about it .\n",
      "Correction 1: Thanks for your last letter. I knew you would be interested in my experience of helping the pop concert last time. Now I tell you about it.\n",
      "Correction 2: Thanks for your last letter. I knew you would be interested at my experience of helping the pop concert last time. Now I tell you about it.\n",
      "Correction 3: Thanks for your last letter. I knew you would be interested at my experience of helping the pop concert last time, now I tell you about it.\n",
      "Correction 4: Thanks for your last letter ; I knew you would be interested in my experience of helping the pop concert last time , now I tell you about it .\n",
      "Correction 5: Thanks for your last letter ; I knew you would be interested in my experience of helping the pop concert last time. Now I tell you about it .\n",
      "Error types:  ['NO_LABEL', 'RP', 'RT', 'TV']\n",
      "\n"
     ]
    },
    {
     "name": "stderr",
     "output_type": "stream",
     "text": [
      " 37%|████████████████                           | 34/91 [40:51<24:35, 25.88s/it]"
     ]
    },
    {
     "name": "stdout",
     "output_type": "stream",
     "text": [
      "\n",
      "Original:     Another way our home could be different in the future is probably the utilitles we are using .\n",
      "Gold labels:  c c c c c c c c c c c c c i c i c c\n",
      "Pred labels:  c c c c c c c c c c c c c i c c c c\n",
      "Gold:         Another way our home could be different in the future is probably the utilities we will be using .\n",
      "Correction 1: Another way our home could be different in the future is probably the utilities we are using.\n",
      "Correction 2: Another way our home could be different in the future is likely the utilities we are using.\n",
      "Correction 3: Another way our home could be different in the future is probably the ones we are using.\n",
      "Correction 4: Another way our home could be different in the future is likely the ones we are using.\n",
      "Correction 5: Another way our home could be different in the future is probably the utility we are using.\n",
      "Error types:  ['S', 'TV']\n",
      "\n"
     ]
    },
    {
     "name": "stderr",
     "output_type": "stream",
     "text": [
      " 38%|████████████████▌                          | 35/91 [40:58<18:50, 20.19s/it]"
     ]
    },
    {
     "name": "stdout",
     "output_type": "stream",
     "text": [
      "\n",
      "Original:     Otherwise shopping will be more enjoyable .\n",
      "Gold labels:  c c i c c c c\n",
      "Pred labels:  c c c c c c c\n",
      "Gold:         Otherwise shopping would be more enjoyable .\n",
      "Correction 1: Otherwise, shopping will be more enjoyable.\n",
      "Correction 2: Otherwise shopping will be more enjoyable.\n",
      "Correction 3: Shopping otherwise will be more enjoyable.\n",
      "Correction 4: Shopping will otherwise be more enjoyable.\n",
      "Correction 5: Otherwise, shopping will be more enjoyably.\n",
      "Error types:  ['TV']\n",
      "\n"
     ]
    },
    {
     "name": "stderr",
     "output_type": "stream",
     "text": [
      " 40%|█████████████████                          | 36/91 [41:11<16:26, 17.93s/it]"
     ]
    },
    {
     "name": "stdout",
     "output_type": "stream",
     "text": [
      "\n",
      "Original:     I 'm a italian student who has come to the last International Arts Festival .\n",
      "Gold labels:  c c i i c c i i c c c c c c c\n",
      "Pred labels:  c c c i c c c i c c c c c c c\n",
      "Gold:         I 'm an Italian student who came came to the last International Arts Festival .\n",
      "Correction 1: I'm an Italian student who has come to the last International Arts Festival.\n",
      "Correction 2: I'm an Italian student who came to the last International Arts Festival.\n",
      "Correction 3: I'm an Italian student who has come to the last arts festival.\n",
      "Correction 4: I'm a Italian student who has come to the last International Arts Festival.\n",
      "Correction 5: I'm an Italian student who has come to last International Arts Festival.\n",
      "Error types:  ['FD', 'RP', 'TV']\n",
      "\n"
     ]
    },
    {
     "name": "stderr",
     "output_type": "stream",
     "text": [
      " 41%|█████████████████▍                         | 37/91 [41:22<14:18, 15.90s/it]"
     ]
    },
    {
     "name": "stdout",
     "output_type": "stream",
     "text": [
      "\n",
      "Original:     Also , you wrote about discounts , but it 's not true !\n",
      "Gold labels:  c c c c c c c c c i c c c\n",
      "Pred labels:  c c c c c c c c c c c c c\n",
      "Gold:         Also , you wrote about discounts , but it it was not true !\n",
      "Correction 1: Also, you wrote about discounts, but it's not true!\n",
      "Correction 2: Also you wrote about discounts but it s not true\n",
      "Correction 3: Also you wrote about discounts but it's not true!\n",
      "Correction 4: Also, you wrote about discounts, but that is not true!\n",
      "Correction 5: Also, you wrote about discounts, but it is not true!\n",
      "Error types:  ['TV']\n",
      "\n"
     ]
    },
    {
     "name": "stderr",
     "output_type": "stream",
     "text": [
      " 42%|█████████████████▉                         | 38/91 [41:44<15:49, 17.91s/it]"
     ]
    },
    {
     "name": "stdout",
     "output_type": "stream",
     "text": [
      "\n",
      "Original:     Second , the show started at 20:15 , althoug I read that it started at 19:30 !\n",
      "Gold labels:  c c c c c c c c i c c c c i c c c\n",
      "Pred labels:  c c c c c c c c i c c c c c c c c\n",
      "Gold:         Second , the show started at 20:15 , although I read that it would start at 19:30 !\n",
      "Correction 1: Second, the show started at 20:15, although I read that it started at 19:30!\n",
      "Correction 2: Second, the show started at 20:15, although I read it started at 19:30!\n",
      "Correction 3: Second, the show started at 20:15 although I read that it started at 19:30!\n",
      "Correction 4: Second, the show started at 20:15 although I read it started at 19:30!\n",
      "Correction 5: Second, the show started at 20:15 and not at 19:30!\n",
      "Error types:  ['S', 'TV']\n",
      "\n"
     ]
    },
    {
     "name": "stderr",
     "output_type": "stream",
     "text": [
      " 43%|██████████████████▍                        | 39/91 [41:57<14:14, 16.44s/it]"
     ]
    },
    {
     "name": "stdout",
     "output_type": "stream",
     "text": [
      "\n",
      "Original:     There are Robert Alan and Jack Ruby instead of them .\n",
      "Gold labels:  c i c c c c c c c c c\n",
      "Pred labels:  c c c c c c c c c c c\n",
      "Gold:         There were Robert Alan and Jack Ruby instead of them .\n",
      "Correction 1: There are Robert, Alan, and Jack Ruby instead of them.\n",
      "Correction 2: There are Robert, Alan, and Jack Ruby rather than them.\n",
      "Correction 3: There are Robert, Alan, and Jack Ruby in place of them.\n",
      "Correction 4: There are Robert, Alan, and Jack Ruby instead of those.\n",
      "Correction 5: There are Robert, Alan, and Jack Ruby instead of these.\n",
      "Error types:  ['TV']\n",
      "\n"
     ]
    },
    {
     "name": "stderr",
     "output_type": "stream",
     "text": [
      " 44%|██████████████████▉                        | 40/91 [42:22<15:57, 18.78s/it]"
     ]
    },
    {
     "name": "stdout",
     "output_type": "stream",
     "text": [
      "\n",
      "Original:     When I feel me comfortable for shopping everything will be closed or you haven't enough time to look around .\n",
      "Gold labels:  c c c i i c c c i i c c i c c c c c c c\n",
      "Pred labels:  c c c c c c c c c c c c c c c c c c c c\n",
      "Gold:         When I feel in the mood in the mood for shopping everything is is closed or I haven't enough time to look around .\n",
      "Correction 1: When I feel comfortable shopping, everything will be closed, or you don't have enough time to look around.\n",
      "Correction 2: When I feel comfortable for shopping, everything will be closed or you do not have enough time to look around.\n",
      "Correction 3: When I feel comfortable shopping, everything will be closed or you haven't enough time to look around.\n",
      "Correction 4: When I feel comfortable for shopping, everything will be closed or you don't have enough time to look around.\n",
      "Correction 5: When I feel comfortable shopping, everything will be closed, or you do not have sufficient time to look around.\n",
      "Error types:  ['R', 'TV', 'RA']\n",
      "\n"
     ]
    },
    {
     "name": "stderr",
     "output_type": "stream",
     "text": [
      " 45%|███████████████████▎                       | 41/91 [42:34<14:03, 16.87s/it]"
     ]
    },
    {
     "name": "stdout",
     "output_type": "stream",
     "text": [
      "\n",
      "Original:     I sent to you a copie of our tickets .\n",
      "Gold labels:  c i c c c i c c c c\n",
      "Pred labels:  c c c c c c c c c c\n",
      "Gold:         I have sent to you a copy of our tickets .\n",
      "Correction 1: I sent you a copy of our tickets.\n",
      "Correction 2: I sent to you a copy of our tickets.\n",
      "Correction 3: I sent you a copie of our tickets.\n",
      "Correction 4: I sent to you a copy of our ticket.\n",
      "Correction 5: I sent you a copy of our ticket.\n",
      "Error types:  ['S', 'TV']\n",
      "\n"
     ]
    },
    {
     "name": "stderr",
     "output_type": "stream",
     "text": [
      " 46%|███████████████████▊                       | 42/91 [42:47<12:46, 15.63s/it]"
     ]
    },
    {
     "name": "stdout",
     "output_type": "stream",
     "text": [
      "\n",
      "Original:     You ca n't imagine How much did I enjoy that journey .\n",
      "Gold labels:  c c c c i c c c i c c c\n",
      "Pred labels:  c c c c i c c c c c c c\n",
      "Gold:         You ca n't imagine how much did I enjoyed that journey .\n",
      "Correction 1: You can't imagine how much I enjoyed that journey.\n",
      "Correction 2: You can't imagine how much did I enjoy that journey.\n",
      "Correction 3: How much did I enjoy that journey?\n",
      "Correction 4: You can't imagine how I enjoyed that journey.\n",
      "Correction 5: You can't imagine that journey was enjoyable.\n",
      "Error types:  ['RP', 'TV']\n",
      "\n"
     ]
    },
    {
     "name": "stderr",
     "output_type": "stream",
     "text": [
      " 47%|████████████████████▎                      | 43/91 [43:07<13:30, 16.89s/it]"
     ]
    },
    {
     "name": "stdout",
     "output_type": "stream",
     "text": [
      "\n",
      "Original:     Personally , I wanted to keep serets because I afraid that we might have splited up .\n",
      "Gold labels:  c c c c c c i c c i c c c i i c c\n",
      "Pred labels:  c c c c c c i c c i c c c c i c c\n",
      "Gold:         Personally , I wanted to keep secret because I that we might split split up .\n",
      "Correction 1: Personally, I wanted to keep secrets because I was afraid that we might have split up.\n",
      "Correction 2: Personaly, I wanted to keep secret because I afraid we might have splited.\n",
      "Correction 3: Personally, I wanted to keep secrets because I feared that we might have split up.\n",
      "Correction 4: Personally, I wanted to keep secret because I was afraid we might have split.\n",
      "Correction 5: Personally, I wanted to keep secrets because I was afraid we might have split up.\n",
      "Error types:  ['IV', 'NO_LABEL', 'S', 'TV']\n",
      "\n"
     ]
    },
    {
     "name": "stderr",
     "output_type": "stream",
     "text": [
      " 48%|████████████████████▊                      | 44/91 [43:28<14:20, 18.32s/it]"
     ]
    },
    {
     "name": "stdout",
     "output_type": "stream",
     "text": [
      "\n",
      "Original:     Unfortunately we realised that on the 14th we will already visit the Science Museum .\n",
      "Gold labels:  c c i c c c c c i i i c c c c\n",
      "Pred labels:  c c c c c c c c i c c c c c c\n",
      "Gold:         Unfortunately we noticed that on the 14th we are already visiting are already visiting are already visiting the Science Museum .\n",
      "Correction 1: Unfortunately we realised that on the 14th we will already visit the Science Museum.\n",
      "Correction 2: Unfortunately we realized that on the 14th we will have already visited the Science Museum.\n",
      "Correction 3: Unfortunately we realized that on the 14th we will already be visiting the Science Museum.\n",
      "Correction 4: Unfortunately we realized that we will already visit the Science Museum on the 14th.\n",
      "Correction 5: Unfortunately we realize that on the 14th we will already visit the Science Museum.\n",
      "Error types:  ['RV', 'TV']\n",
      "\n"
     ]
    },
    {
     "name": "stderr",
     "output_type": "stream",
     "text": [
      " 49%|█████████████████████▎                     | 45/91 [43:49<14:30, 18.93s/it]"
     ]
    },
    {
     "name": "stdout",
     "output_type": "stream",
     "text": [
      "\n",
      "Original:     Propably in the future we might be to busy to go to our own home and spend some time there .\n",
      "Gold labels:  i c c c c i c i c c c c c c c c c c c c c\n",
      "Pred labels:  i c c c c c c c c c c c c c c c c c c c c\n",
      "Gold:         Probably in the future we may be too busy to go to our own home and spend some time there .\n",
      "Correction 1: Propably in the future we might be too busy to go to our own home and spend some time there.\n",
      "Correction 2: Probably in the future we might be too busy to go to our own home and spend some time there.\n",
      "Correction 3: Propably in the future we might be to busier to go to our own home and spend some time there.\n",
      "Correction 4: Probably in the future we might be to busier to go to our own home and spend some time there.\n",
      "Correction 5: Probably in the future we might be too busy to go to our own homes and spend some time there.\n",
      "Error types:  ['SX', 'S', 'TV']\n",
      "\n"
     ]
    },
    {
     "name": "stderr",
     "output_type": "stream",
     "text": [
      " 51%|█████████████████████▋                     | 46/91 [44:18<16:35, 22.12s/it]"
     ]
    },
    {
     "name": "stdout",
     "output_type": "stream",
     "text": [
      "\n",
      "Original:     I hope we are not the only people to be so upset , but it was the first and the last time that I came in your theatre .\n",
      "Gold labels:  c c c c c c c c c c c c c c c c c c c c c c c c i i c c c\n",
      "Pred labels:  c c c c c c c c c c c c c c c c c c c c c c c c c i c c c\n",
      "Gold:         I hope we are not the only people to be so upset , but it was the first and the last time that I come to your theatre .\n",
      "Correction 1: I hope we are not the only people to be so upset, but it was the first and last time that I came to your theatre.\n",
      "Correction 2: I hope we are not the only people to be so upset, but it was the first and last time that I came in your theater.\n",
      "Correction 3: I hope we are not the only people to be so upset, but it was the first time that I came in your theatre.\n",
      "Correction 4: I hope we are not the only people to be so upset, but it was the last time that I came in your theatre.\n",
      "Correction 5: I hope we are not the only people to be so upset, but it was the first and last time that I came in your theatre.\n",
      "Error types:  ['RT', 'TV']\n",
      "\n"
     ]
    },
    {
     "name": "stderr",
     "output_type": "stream",
     "text": [
      " 52%|██████████████████████▏                    | 47/91 [44:31<14:10, 19.34s/it]"
     ]
    },
    {
     "name": "stdout",
     "output_type": "stream",
     "text": [
      "\n",
      "Original:     I 've read your advertisement and it did n't say the truth .\n",
      "Gold labels:  c i c c c c c c c i c c c\n",
      "Pred labels:  c c c c c c c c c i c c c\n",
      "Gold:         I I'd read your advertisement and it did n't tell the truth .\n",
      "Correction 1: I've read your advertisement and it didn't say the truth.\n",
      "Correction 2: I've read your advertisement and it did not say the truth.\n",
      "Correction 3: I've read your advertisement and it was not truthful.\n",
      "Correction 4: I've read your advertisement and it wasn't telling the truth.\n",
      "Correction 5: I've read your advertisement but it didn't say the truth.\n",
      "Error types:  ['RV', 'TV']\n",
      "\n"
     ]
    },
    {
     "name": "stderr",
     "output_type": "stream",
     "text": [
      " 53%|██████████████████████▋                    | 48/91 [44:52<14:10, 19.77s/it]"
     ]
    },
    {
     "name": "stdout",
     "output_type": "stream",
     "text": [
      "\n",
      "Original:     I recently had a holiday in London and had been to your musical show ' Over the Rainbow ' but found it very disappointing .\n",
      "Gold labels:  c c c c c c c c i i c c c c c c c c c c c c c c c\n",
      "Pred labels:  c c c c c c c c c c c c c c c c c c c c c c c c c\n",
      "Gold:         I recently had a holiday in London and went went to your musical show ' Over the Rainbow ' but found it very disappointing .\n",
      "Correction 1: I recently had a holiday in London and had been to your musical show 'Over the Rainbow' but found it very disappointing.\n",
      "Correction 2: I recently had a holiday in London and have been to your musical show 'Over the Rainbow' but found it very disappointing.\n",
      "Correction 3: I recently had a holiday in London and went to your musical show 'Over the Rainbow' but found it very disappointing.\n",
      "Correction 4: I recently had a holiday in London and attended your musical show 'Over the Rainbow' but found it very disappointing.\n",
      "Correction 5: I recently had a holiday in London and saw your musical show 'Over the Rainbow' but found it very disappointing.\n",
      "Error types:  ['TV']\n",
      "\n"
     ]
    },
    {
     "name": "stderr",
     "output_type": "stream",
     "text": [
      " 54%|███████████████████████▏                   | 49/91 [45:09<13:24, 19.15s/it]"
     ]
    },
    {
     "name": "stdout",
     "output_type": "stream",
     "text": [
      "\n",
      "Original:     I have got very responsible work I had to bring food for Peter Bolen and Tomas Anders .\n",
      "Gold labels:  c i i c i c c c c c c c c c c c c c\n",
      "Pred labels:  c c c c c c c c c c c c c c c c c c\n",
      "Gold:         I had taken on very demanding work I had to bring food for Peter Bolen and Tomas Anders .\n",
      "Correction 1: I have got very responsible work. I had to bring food for Peter Bolen and Tomas Anders.\n",
      "Correction 2: I have got very responsible work. I had to bring food for Peter Bolen and Tomas Anders.\n",
      "Correction 3: I have got very responsible work. I had to bring food for Peter Bolen and Tomas Anderson.\n",
      "Correction 4: I have a very responsible job. I had to bring food for Peter Bolen and Tomas Anders.\n",
      "Correction 5: I have a very responsible job. I had to bring food for Peter Bolen and Tomas Anderson.\n",
      "Error types:  ['RV', 'RJ', 'TV']\n",
      "\n"
     ]
    },
    {
     "name": "stderr",
     "output_type": "stream",
     "text": [
      " 55%|███████████████████████▋                   | 50/91 [45:31<13:33, 19.85s/it]"
     ]
    },
    {
     "name": "stdout",
     "output_type": "stream",
     "text": [
      "\n",
      "Original:     Secondly , in the advertisement the discounts are available but in the tickets I bought they were no discount .\n",
      "Gold labels:  c c c c c i c i c c i i i i i i i i i c\n",
      "Pred labels:  c c c c c c c c c c i c c c c i i c c c\n",
      "Gold:         Secondly , in the advertisement it said that discounts were available but there was no discount on the tickets I bought there was no discount on the tickets I bought there was no discount on the tickets I bought there was no discount on the tickets I bought there was no discount on the tickets I bought there was no discount on the tickets I bought was .\n",
      "Correction 1: Secondly, in the advertisement, the discounts are available, but in the tickets I bought, there was no discount.\n",
      "Correction 2: Secondly, in the advertisement, the discounts are available, but in the tickets I bought, they had no discount.\n",
      "Correction 3: Secondly, in the advertisement, the discounts are available, but in my purchased tickets, there were no discounts.\n",
      "Correction 4: Secondly, in the advertisement, the discounts are available, but when I bought the tickets, there was no discount.\n",
      "Correction 5: Secondly, in the advertisement, the discounts are available, but in the tickets I purchased, they had no discount.\n",
      "Error types:  ['TV', 'NO_LABEL', 'R', 'AS', 'AGV']\n",
      "\n"
     ]
    },
    {
     "name": "stderr",
     "output_type": "stream",
     "text": [
      " 56%|████████████████████████                   | 51/91 [45:50<13:00, 19.52s/it]"
     ]
    },
    {
     "name": "stdout",
     "output_type": "stream",
     "text": [
      "\n",
      "Original:     After that , I had to help people who had a ticket but ca n't find their seat .\n",
      "Gold labels:  c c c c c c c c c c c c c i c c c c c\n",
      "Pred labels:  c c c c c c c c c c c c c c c c c c c\n",
      "Gold:         After that , I had to help people who had a ticket but couldn't n't find their seat .\n",
      "Correction 1: After that, I had to help people who had a ticket but couldn't find their seat.\n",
      "Correction 2: After that, I had to help people who had a ticket but can't find their seat.\n",
      "Correction 3: After that, I had to help people who had tickets but can't find their seats.\n",
      "Correction 4: After that, I had to help people who had tickets but couldn't find their seats.\n",
      "Correction 5: After that, I had to help people with tickets but couldn't find their seats.\n",
      "Error types:  ['TV']\n",
      "\n"
     ]
    },
    {
     "name": "stderr",
     "output_type": "stream",
     "text": [
      " 57%|████████████████████████▌                  | 52/91 [46:18<14:26, 22.23s/it]"
     ]
    },
    {
     "name": "stdout",
     "output_type": "stream",
     "text": [
      "\n",
      "Original:     Finished the show , I went to your theatre restaurant , but it was closed and this hasn't been said before .\n",
      "Gold labels:  i c c c c c c c c c c c c c c c c i c c c c\n",
      "Pred labels:  i c c c c c c c c c c c c c c c c c c c c c\n",
      "Gold:         After the show , I went to your theatre restaurant , but it was closed and this hadn't been said before .\n",
      "Correction 1: Finished the show, I went to your theatre restaurant, but it was closed. This hasn't been said before.\n",
      "Correction 2: Finished the show, I went to your theatre-restaurant, but it was closed. This hasn't been said before.\n",
      "Correction 3: Finished the show, I went to your theatre restaurant, but it was closed. That hasn't been said before.\n",
      "Correction 4: Finished the show, I went to your theatre restaurant, but it was closed. This has not been said before.\n",
      "Correction 5: Finished the show, I went to your theatre restaurant, but it was closed. And this hasn't been said before.\n",
      "Error types:  ['R', 'TV']\n",
      "\n"
     ]
    },
    {
     "name": "stderr",
     "output_type": "stream",
     "text": [
      " 58%|█████████████████████████                  | 53/91 [46:28<11:42, 18.50s/it]"
     ]
    },
    {
     "name": "stdout",
     "output_type": "stream",
     "text": [
      "\n",
      "Original:     I 've seen your festival and I would like to give you my suggestions to it .\n",
      "Gold labels:  c i i c c c c c c c c c c c i c c\n",
      "Pred labels:  c c c c c c c c c c c c c c i c c\n",
      "Gold:         I I attended attended your festival and I would like to give you my suggestions for it .\n",
      "Correction 1: I've seen your festival and I would like to give you my suggestions.\n",
      "Correction 2: I've seen your festival and I would like to give you my suggestions about it.\n",
      "Error types:  ['RT', 'RV', 'TV']\n",
      "\n"
     ]
    },
    {
     "name": "stderr",
     "output_type": "stream",
     "text": [
      " 59%|█████████████████████████▌                 | 54/91 [46:52<12:20, 20.00s/it]"
     ]
    },
    {
     "name": "stdout",
     "output_type": "stream",
     "text": [
      "\n",
      "Original:     I only put the speakers in the right places , or helping engieners tested the lights .\n",
      "Gold labels:  c c c c c c c c c c c i i i c c c\n",
      "Pred labels:  c c c c c c c c c c c c i i c c c\n",
      "Gold:         I only put the speakers in the right places , or helped engineers test the lights .\n",
      "Correction 1: I only put the speakers in the right places, or helping engineers test the lights.\n",
      "Correction 2: I only put the speakers in the right places.\n",
      "Correction 3: I only put the speakers in the correct places, or helping engineers tested the lights.\n",
      "Correction 4: I only put the speakers in the right places, or helped engineers test the lights.\n",
      "Correction 5: I only put the speakers in the right places, or helped engineers test the lights.\n",
      "Error types:  ['FV', 'S', 'TV']\n",
      "\n"
     ]
    },
    {
     "name": "stderr",
     "output_type": "stream",
     "text": [
      " 60%|█████████████████████████▉                 | 55/91 [47:32<15:39, 26.09s/it]"
     ]
    },
    {
     "name": "stdout",
     "output_type": "stream",
     "text": [
      "\n",
      "Original:     And with the activities I must chose Photography and Painting becase I am not very good for sports and I think I am doing well in these things .\n",
      "Gold labels:  c i c c c c i c c c i c c c c c i c c c c c i i c i c c c\n",
      "Pred labels:  c c c c c c i c c c i c c c c c c c c c c c c c c c c c c\n",
      "Gold:         And regarding the activities I must choose Photography and Painting because I am not very good at sports and I think I do do well at these things .\n",
      "Correction 1: And with the activities, I must choose photography and painting because I am not very good at sports and I think I am doing well in these things.\n",
      "Correction 2: And with the activities I must choose Photography and Painting because I am not very good for sports and I think I am doing well in these things.\n",
      "Correction 3: And with the activities I must choose Photography and Painting because I am not very good at sports and I think I am doing well in these things.\n",
      "Correction 4: And with the activities I must choose photography and painting because I am not very good at sports and I think I am doing well in them.\n",
      "Correction 5: And with the activities, I must chose Photography and Painting because I am not very good at sports and I think I am doing well in these things.\n",
      "Error types:  ['S', 'RT', 'TV']\n",
      "\n"
     ]
    },
    {
     "name": "stderr",
     "output_type": "stream",
     "text": [
      " 62%|██████████████████████████▍                | 56/91 [48:17<18:32, 31.78s/it]"
     ]
    },
    {
     "name": "stdout",
     "output_type": "stream",
     "text": [
      "\n",
      "Original:     I started early in the morning helping to carry the stuff from the trucks to the place where the band played , I help with the music stuff like speakers , mics , lights , sound , etc .\n",
      "Gold labels:  c c c c c c c c c c c c c c c c c c c c c c c i c c i c c c c c c c c c i c c\n",
      "Pred labels:  c c c c c c c c c c c c c c c c c c c c c c c c c c c c c c c c c c c c c c c\n",
      "Gold:         I started early in the morning helping to carry the stuff from the trucks to the place where the band played , I helped with the musical stuff like speakers , mics , lights , sound etc .\n",
      "Correction 1: I started early in the morning helping to carry the stuff from the trucks to the place where the band played. I help with the music stuff like speakers mics lights sound etc.\n",
      "Correction 2: I started early in the morning to help carry the stuff from the trucks to the place where the band played I help with the music stuff like speakers mics lights sound etc\n",
      "Correction 3: I started early in the morning helping to carry the stuff from the trucks to the place where the band played I help with the music stuff like speakers mics lights sound and etc.\n",
      "Correction 4: I started early in the morning helping to carry the stuff from the trucks to the place where the band played. I help with the music stuff like speakers mics lights sound\n",
      "Correction 5: I started early in the morning helping to carry the stuff from the trucks to the place where the band played. I helped with the music stuff like speakers mics lights sound etc.\n",
      "Error types:  ['DJ', 'NO_LABEL', 'TV']\n",
      "\n"
     ]
    },
    {
     "name": "stderr",
     "output_type": "stream",
     "text": [
      " 63%|██████████████████████████▉                | 57/91 [49:17<22:47, 40.23s/it]"
     ]
    },
    {
     "name": "stdout",
     "output_type": "stream",
     "text": [
      "\n",
      "Original:     WE SAW THE ACTIVITIES PROGRAM ALREADY AND WE THINK IS EXCITING , ESPECIALLY THE VISIT TO THE SCIENCE MUSEUM . AT THE SAME TIME WE WOULD LIKE TO ASK YOU SOMETHING .\n",
      "Gold labels:  c i c c i c c c c i c c c c c c c c c c c c c c c c c c c c c c\n",
      "Pred labels:  c c c c c c c c c i c c c c c c c c c c c c c c c c c c c c c c\n",
      "Gold:         WE HAVE SEEN THE ACTIVITIES PROGRAMME ALREADY AND WE THINK EXCITING , ESPECIALLY THE VISIT TO THE SCIENCE MUSEUM . AT THE SAME TIME WE WOULD LIKE TO ASK YOU SOMETHING .\n",
      "Correction 1: WE SAW THE ACTIVITIES PROGRAM ALREADY AND WE THINK IT IS EXCITING, ESPECIALLY THE VISIT TO THE SCIENCE MUSEUM. AT THE SAME TIME WE WOULD LIKE TO ASK YOU SOMETHING.\n",
      "Correction 2: WE SAW THE ACTIVITIES PROGRAM ALREADY AND WE THINK THAT IS EXCITING, ESPECIALLY THE VISIT TO THE SCIENCE MUSEUM. AT THE SAME TIME WE WOULD LIKE TO ASK YOU SOMETHING.\n",
      "Correction 3: WE SAW THE ACTIVITIES PROGRAM ALREADY AND WE FIND IT IS EXCITING, ESPECIALLY THE VISIT TO THE SCIENCE MUSEUM. AT THE SAME TIME WE WOULD LIKE TO ASK YOU SOMETHING.\n",
      "Correction 4: WE HAVE SAW THE ACTIVITIES PROGRAM ALREADY AND WE THINK IS EXCITING, ESPECIALLY THE VISIT TO THE SCIENCE MUSEUM. AT THE SAME TIME WE WOULD LIKE TO ASK YOU SOMETHING.\n",
      "Correction 5: WE SAW THE ACTIVITIES PROGRAM ALREADY AND WE THINK IT IS EXCITING, ESPECIALLY THE VISIT TO SCIENCE MUSEUM. AT THE SAME TIME WE WOULD LIKE TO ASK YOU SOMETHING.\n",
      "Error types:  ['SA', 'TV', 'NO_LABEL']\n",
      "\n"
     ]
    },
    {
     "name": "stderr",
     "output_type": "stream",
     "text": [
      " 64%|███████████████████████████▍               | 58/91 [49:45<20:03, 36.46s/it]"
     ]
    },
    {
     "name": "stdout",
     "output_type": "stream",
     "text": [
      "\n",
      "Original:     Just after Scala told her the new , Pat phoned her mother who worked in a bakery , to tell that Scala is pregnant .\n",
      "Gold labels:  c c c c c c i c c c c c c c c c c c c c i c i c c\n",
      "Pred labels:  c c c c c c i c c c c c c c c c c c c c c c c c c\n",
      "Gold:         Just after Scala told her the news , Pat phoned her mother who worked in a bakery , to tell Scala was pregnant .\n",
      "Correction 1: Just after Scala told her the news, Pat phoned her mother who worked in a bakery to tell that Scala is pregnant.\n",
      "Correction 2: Just after Scala told her the new, Pat phoned her mother who worked in a bakery to tell that she is pregnant.\n",
      "Correction 3: Just after Scala told her the new, Pat phoned her mother who works in a bakery to tell that Scala is pregnant.\n",
      "Correction 4: Just after Scala told her the news, Pat phoned her mother who works in a bakery to tell that she is pregnant.\n",
      "Correction 5: Just after Scala told her the news, Pat phoned her mother who worked in a bakery to tell that Scala is pregnant.\n",
      "Error types:  ['NO_LABEL', 'IN', 'TV']\n",
      "\n"
     ]
    },
    {
     "name": "stderr",
     "output_type": "stream",
     "text": [
      " 65%|███████████████████████████▉               | 59/91 [50:05<16:54, 31.69s/it]"
     ]
    },
    {
     "name": "stdout",
     "output_type": "stream",
     "text": [
      "\n",
      "Original:     ON THE OTHER HAND , THERE WILL BE LESS PEOPLE WHO WOULD WEAR WHATEVER THEY LIKE .\n",
      "Gold labels:  c c c c c c c c i c c i c c c c c\n",
      "Pred labels:  c c c c c c c c c c c c c c c c c\n",
      "Gold:         ON THE OTHER HAND , THERE WILL BE FEWER PEOPLE WHO WILL WEAR WHATEVER THEY LIKE .\n",
      "Correction 1: ON THE OTHER HAND, THERE WILL BE LESS PEOPLE WHO WOULD WEAR WHAT THEY LIKE.\n",
      "Correction 2: ON THE OTHER HAND, THERE WILL BE FEWER PEOPLE WHO WOULD WEAR WHATEVER THEY LIKE.\n",
      "Correction 3: ON THE OTHER HAND, THERE WILL BE FEWER PEOPLE WHO WOULD WEAR WHAT THEY LIKE.\n",
      "Correction 4: ON THE OTHER HAND, THERE WILL BE LESS PEOPLE WHO WOULD WEAR WHATEVER THEY CHOOSE.\n",
      "Correction 5: ON THE OTHER HAND, THERE WILL BE LESS People WHO WOULD WEAR WHATEVER THEY LIKE.\n",
      "Error types:  ['CQ', 'TV']\n",
      "\n"
     ]
    },
    {
     "name": "stderr",
     "output_type": "stream",
     "text": [
      " 66%|████████████████████████████▎              | 60/91 [50:21<13:54, 26.93s/it]"
     ]
    },
    {
     "name": "stdout",
     "output_type": "stream",
     "text": [
      "\n",
      "Original:     It 's happened 3 months ago , and during this months I am very upset .\n",
      "Gold labels:  c c c c c c c c c i i c i c c c\n",
      "Pred labels:  c c c c c c c c c i i c c c c c\n",
      "Gold:         It 's happened 3 months ago , and during the I have been very upset .\n",
      "Correction 1: It's happened 3 months ago, and during this time I have been very upset.\n",
      "Correction 2: It's happened 3 months ago, and during these months I was very upset.\n",
      "Correction 3: It's happened 3 months ago, and during this month I was very upset.\n",
      "Correction 4: It's happened 3 months ago, and during this period I have been very upset.\n",
      "Correction 5: It's happened 3 months ago, and during this time I was very upset.\n",
      "Error types:  ['RD', 'NO_LABEL', 'TV']\n",
      "\n"
     ]
    },
    {
     "name": "stderr",
     "output_type": "stream",
     "text": [
      " 67%|████████████████████████████▊              | 61/91 [50:34<11:23, 22.79s/it]"
     ]
    },
    {
     "name": "stdout",
     "output_type": "stream",
     "text": [
      "\n",
      "Original:     There are a lot of reasons that could be awful to go shopping .\n",
      "Gold labels:  c c c c c c i i c c c c c c\n",
      "Pred labels:  c c c c c c c c c c c c c c\n",
      "Gold:         There are a lot of reasons it can be awful to go shopping .\n",
      "Correction 1: There are a lot of reasons that could be awful for going shopping.\n",
      "Correction 2: There are lots of reasons that could be awful to go shopping.\n",
      "Correction 3: There are many reasons that could be awful to go shopping.\n",
      "Correction 4: There are a lot of reasons that could be awful when going shopping.\n",
      "Correction 5: There are a lot of reasons that could be awful to do some shopping.\n",
      "Error types:  ['TV', 'RA']\n",
      "\n"
     ]
    },
    {
     "name": "stderr",
     "output_type": "stream",
     "text": [
      " 68%|█████████████████████████████▎             | 62/91 [50:56<10:50, 22.43s/it]"
     ]
    },
    {
     "name": "stdout",
     "output_type": "stream",
     "text": [
      "\n",
      "Original:     We are all extremely excited especially because of the trip to Greenwich , the town we were always interested in .\n",
      "Gold labels:  c c c c c c c c c c c c c c c c i i c c c\n",
      "Pred labels:  c c c c c c c c c c c c c c c c c c c c c\n",
      "Gold:         We are all extremely excited especially because of the trip to Greenwich , the town we have always been have always been interested in .\n",
      "Correction 1: We are all extremely excited, especially because of the trip to Greenwich, the town we were always interested in.\n",
      "Correction 2: We are all extremely excited, especially because of the trip to Greenwich; the town we were always interested in.\n",
      "Correction 3: We are all extremely excited, especially because of the trip to Greenwich—the town we were always interested in.\n",
      "Correction 4: We are all extremely excited, especially because of the trip to Greenwich. The town we were always interested in.\n",
      "Correction 5: We are all extremely excited, especially because of the trip to Greenwich; the town we were always interested in.\n",
      "Error types:  ['TV']\n",
      "\n"
     ]
    },
    {
     "name": "stderr",
     "output_type": "stream",
     "text": [
      " 69%|█████████████████████████████▊             | 63/91 [51:16<10:07, 21.70s/it]"
     ]
    },
    {
     "name": "stdout",
     "output_type": "stream",
     "text": [
      "\n",
      "Original:     Since the creation of PCs , people - and me too , of course - are making different things .\n",
      "Gold labels:  c c c c c c c c c c c c c c c i i c c c\n",
      "Pred labels:  c c c c c c c c c c c c c c c c i c c c\n",
      "Gold:         Since the creation of PCs , people - and me too , of course - have been doing different things .\n",
      "Correction 1: Since the creation of PCs, people - and me too, of course - have been making different things.\n",
      "Correction 2: Since the creation of PCs, people - and me too, of course - are making various things.\n",
      "Correction 3: Since the creation of PCs, people - and me too, of course - make different things.\n",
      "Correction 4: Since the creation of PCs, people - and me too, of course - were making different things.\n",
      "Correction 5: Since the creation of PCs, people - and me too, of course - have made different things.\n",
      "Error types:  ['RV', 'TV']\n",
      "\n"
     ]
    },
    {
     "name": "stderr",
     "output_type": "stream",
     "text": [
      " 70%|██████████████████████████████▏            | 64/91 [51:35<09:28, 21.05s/it]"
     ]
    },
    {
     "name": "stdout",
     "output_type": "stream",
     "text": [
      "\n",
      "Original:     That evening which should be my perfect evening out , was in fact very tireing and boring .\n",
      "Gold labels:  c c c c i c c c c c c c c c i c c c\n",
      "Pred labels:  c c c c c c c c c c c c c c i c c c\n",
      "Gold:         That evening which should have been my perfect evening out , was in fact very tiring and boring .\n",
      "Correction 1: That evening, which should have been my perfect evening out, was in fact very tiring and boring.\n",
      "Correction 2: That evening which should have been my perfect evening out was in fact very tiring and boring\n",
      "Correction 3: That evening, which should be my perfect evening out, was in fact very tiring and boring\n",
      "Correction 4: That evening which is my perfect evening out, was in fact very tiring and boring\n",
      "Correction 5: That evening which should have been my perfect evening out, was in fact very tiring and boring\n",
      "Error types:  ['DJ', 'TV']\n",
      "\n"
     ]
    },
    {
     "name": "stderr",
     "output_type": "stream",
     "text": [
      " 71%|██████████████████████████████▋            | 65/91 [51:45<07:39, 17.68s/it]"
     ]
    },
    {
     "name": "stdout",
     "output_type": "stream",
     "text": [
      "\n",
      "Original:     And I was helping them fixing the last details .\n",
      "Gold labels:  c c i i c i c c c c\n",
      "Pred labels:  c c c c c c c c c c\n",
      "Gold:         And I helped helped them fix the last details .\n",
      "Correction 1: And I was helping them fix the last details.\n",
      "Correction 2: And I helped them fixing the last details.\n",
      "Correction 3: And I was helping them to fix the last details.\n",
      "Correction 4: And I was helping them with fixing the last details.\n",
      "Correction 5: And I was helping them fix last details.\n",
      "Error types:  ['FV', 'TV']\n",
      "\n"
     ]
    },
    {
     "name": "stderr",
     "output_type": "stream",
     "text": [
      " 73%|███████████████████████████████▏           | 66/91 [51:52<05:58, 14.34s/it]"
     ]
    },
    {
     "name": "stdout",
     "output_type": "stream",
     "text": [
      "\n",
      "Original:     Maybe some peoples are nakid .\n",
      "Gold labels:  c c i i i c\n",
      "Pred labels:  c c i c i c\n",
      "Gold:         Maybe some people will be naked .\n",
      "Correction 1: Maybe some people are naked.\n",
      "Correction 2: Perhaps some peoples are naked.\n",
      "Correction 3: Maybe some peoples are naked.\n",
      "Correction 4: Maybe some people are not dressed.\n",
      "Correction 5: Maybe some people are unclothed.\n",
      "Error types:  ['S', 'IN', 'TV']\n",
      "\n"
     ]
    },
    {
     "name": "stderr",
     "output_type": "stream",
     "text": [
      " 74%|███████████████████████████████▋           | 67/91 [52:20<07:25, 18.56s/it]"
     ]
    },
    {
     "name": "stdout",
     "output_type": "stream",
     "text": [
      "\n",
      "Original:     During break time I did give a lots of direction to people who ca n't find toilet , and information such as where they could have a cup of coffee .\n",
      "Gold labels:  c i c c c c c i c i c c c i c c i c c i c c c c c c c c c c c\n",
      "Pred labels:  c c c c c c c i c i c c c c c c i c c c c c c c c c c c c c c\n",
      "Gold:         During time I did give a lot of directions to people who couldn't n't find , and such as where they could have a cup of coffee .\n",
      "Correction 1: During break time, I did give lots of directions to people who can't find the toilet, and information such as where they could have a cup of coffee.\n",
      "Correction 2: During break time I gave a lot of direction to people who couldn't find the toilet and information such as where they could have a cup of coffee.\n",
      "Correction 3: During break time I gave lots of directions to people who couldn't find the toilet and information such as where they could have a cup of coffee.\n",
      "Correction 4: During break time I did give lots of directions to people who can't find the toilet, and information on where they could have a cup of coffee.\n",
      "Correction 5: During break time I did give lots of direction to people who can't find the toilet and information about where they could have a cup of coffee.\n",
      "Error types:  ['AGN', 'NO_LABEL', 'TV']\n",
      "\n"
     ]
    },
    {
     "name": "stderr",
     "output_type": "stream",
     "text": [
      " 75%|████████████████████████████████▏          | 68/91 [52:33<06:31, 17.01s/it]"
     ]
    },
    {
     "name": "stdout",
     "output_type": "stream",
     "text": [
      "\n",
      "Original:     I will give you some information which helps you to know me better .\n",
      "Gold labels:  c c c c c c c i c c c c c c\n",
      "Pred labels:  c c c c c c c c c c c c c c\n",
      "Gold:         I will give you some information which will help you to know me better .\n",
      "Correction 1: I will give you some information that helps you to know me better.\n",
      "Correction 2: I will give you some information which can help you to know me better.\n",
      "Correction 3: I will give you some information which will help you to know me better.\n",
      "Correction 4: I will give you some information to help you to know me better.\n",
      "Correction 5: I will give you some information which helps to know me better.\n",
      "Error types:  ['TV']\n",
      "\n"
     ]
    },
    {
     "name": "stderr",
     "output_type": "stream",
     "text": [
      " 76%|████████████████████████████████▌          | 69/91 [52:40<05:05, 13.88s/it]"
     ]
    },
    {
     "name": "stdout",
     "output_type": "stream",
     "text": [
      "\n",
      "Original:     At first the show started at 10.15 , and it should be at 19.3 .\n",
      "Gold labels:  i i c c c c c c c c c i c c c\n",
      "Pred labels:  i i c c c c c c c c c c c c c\n",
      "Gold:         First First the show started at 10.15 , and it should have started at 19.3 .\n",
      "Correction 1: At first, the show started at 10:15, and it should be at 19:30.\n",
      "Error types:  ['TV', 'RY']\n",
      "\n"
     ]
    },
    {
     "name": "stderr",
     "output_type": "stream",
     "text": [
      " 77%|█████████████████████████████████          | 70/91 [53:00<05:32, 15.82s/it]"
     ]
    },
    {
     "name": "stdout",
     "output_type": "stream",
     "text": [
      "\n",
      "Original:     I am glad I had taken a part in a few competitions , and I was so proud of our basketball team .\n",
      "Gold labels:  c c c c i c c c c c c c c c c c c c c c c c c\n",
      "Pred labels:  c c c c c c c c c c c c c c c c c c c c c c c\n",
      "Gold:         I am glad I have taken a part in a few competitions , and I was so proud of our basketball team .\n",
      "Correction 1: I am glad I had taken part in a few competitions and I was so proud of our basketball team.\n",
      "Correction 2: I am glad I took part in a few competitions and I was so proud of our basketball team.\n",
      "Correction 3: I am glad I had taken part in a few competitions and I am so proud of our basketball team.\n",
      "Correction 4: I am glad I had participated in a few competitions and I was so proud of our basketball team.\n",
      "Correction 5: I am glad I had taken part in a few competitions and I was so proud of the basketball team.\n",
      "Error types:  ['TV']\n",
      "\n"
     ]
    },
    {
     "name": "stderr",
     "output_type": "stream",
     "text": [
      " 78%|█████████████████████████████████▌         | 71/91 [53:44<08:02, 24.11s/it]"
     ]
    },
    {
     "name": "stdout",
     "output_type": "stream",
     "text": [
      "\n",
      "Original:     In addition to this , I have to tell you that it was the most horrible evening I had out and because of this I want to ask you if you could send me a refound of a part of the money I wasted there .\n",
      "Gold labels:  c c c c c c c c c c c c c c c c c c i c c c c c c c c c c c c c c c c i i c c c c c c c c c\n",
      "Pred labels:  c c c c c c c c c c c c c c c c c c c c c c c c c c c c c c c c c c c i c c c c c c c c c c\n",
      "Gold:         In addition to this , I have to tell you that it was the most horrible evening I have had out and because of this I want to ask you if you could send me a refund for a part of the money I wasted there .\n",
      "Correction 1: In addition to this, I have to tell you that it was the most horrible evening I had and because of this, I want to ask you if you could send me a refund of a part of the money I wasted there.\n",
      "Correction 2: In addition to this, I have to tell you that it was the most horrible evening I've had and because of this, I want to ask you if you could send me a refund for a part of the money I wasted there.\n",
      "Correction 3: In addition to this, I have to tell you that it was the most horrible evening I had out and because of this, I want to ask you if you could send me a refund of the money I wasted there.\n",
      "Correction 4: In addition to this, I have to tell you that it was the most horrible evening I had and because of this, I want to ask you if you could send me a refund of the part of the money I wasted there.\n",
      "Correction 5: In addition to this, I have to tell you that it was the most horrible evening I had and because of this, I want to ask you if you could send me a refund for a part of the money I wasted there.\n",
      "Error types:  ['SX', 'RT', 'TV']\n",
      "\n"
     ]
    },
    {
     "name": "stderr",
     "output_type": "stream",
     "text": [
      " 79%|██████████████████████████████████         | 72/91 [53:57<06:37, 20.92s/it]"
     ]
    },
    {
     "name": "stdout",
     "output_type": "stream",
     "text": [
      "\n",
      "Original:     She tried to help others when they have difficult time at school .\n",
      "Gold labels:  c c c c c c c i i c c c c\n",
      "Pred labels:  c c c c c c c c i c c c c\n",
      "Gold:         She tried to help others when they had time at school .\n",
      "Correction 1: She tried to help others when they had a difficult time at school.\n",
      "Correction 2: She tried to help others when they had a difficult time in school.\n",
      "Correction 3: She tried to help others when they have a difficult time at school.\n",
      "Correction 4: She tried to help others when they had difficult times at school.\n",
      "Correction 5: She tried to help others when they have a difficult time in school.\n",
      "Error types:  ['NO_LABEL', 'TV']\n",
      "\n"
     ]
    },
    {
     "name": "stderr",
     "output_type": "stream",
     "text": [
      " 80%|██████████████████████████████████▍        | 73/91 [54:09<05:26, 18.14s/it]"
     ]
    },
    {
     "name": "stdout",
     "output_type": "stream",
     "text": [
      "\n",
      "Original:     By the way I do n't see Pat about one year .\n",
      "Gold labels:  c c c c i i i c i c c c\n",
      "Pred labels:  c c c c c c c c i c c c\n",
      "Gold:         By the way I haven't haven't seen Pat one year .\n",
      "Correction 1: By the way, I don't see Pat around once a year.\n",
      "Correction 2: By the way, I don't see Pat about once a year.\n",
      "Correction 3: By the way, I don't see Pat about one year ago.\n",
      "Correction 4: By the way, I don't see Pat around.\n",
      "Correction 5: I don't see Pat about one year.\n",
      "Error types:  ['NO_LABEL', 'RV', 'TV']\n",
      "\n"
     ]
    },
    {
     "name": "stderr",
     "output_type": "stream",
     "text": [
      " 81%|██████████████████████████████████▉        | 74/91 [54:41<06:18, 22.29s/it]"
     ]
    },
    {
     "name": "stdout",
     "output_type": "stream",
     "text": [
      "\n",
      "Original:     She was given a chance : if she had been able not to tell everybody a secret for a short time , her friends would have started trusting her .\n",
      "Gold labels:  c c c c c c c c i i c c c c c c c c c c c c c c c i i c c c\n",
      "Pred labels:  c c c c c c c c c c c c c c c c c c c c c c c c c c c c c c\n",
      "Gold:         She was given a chance : if she was was able not to tell everybody a secret for a short time , her friends would start start trusting her .\n",
      "Correction 1: She was given a chance. If she had been able not to tell everybody about the secret for a short time, her friends would have started trusting her.\n",
      "Correction 2: She was given a chance. If she had been able to keep a secret from everybody for a short time, her friends would have started trusting her.\n",
      "Correction 3: She was given a chance. If she had been able not to reveal the secret to everyone for a short time, her friends would have started trusting her.\n",
      "Correction 4: She was given a chance. If she had been able not to share the secret with everyone for a short time, her friends would have started trusting her.\n",
      "Correction 5: She was given a chance. If she had been able not to disclose the secret to everybody for a short time, her friends would have started trusting her.\n",
      "Error types:  ['FV', 'TV']\n",
      "\n"
     ]
    },
    {
     "name": "stderr",
     "output_type": "stream",
     "text": [
      " 82%|███████████████████████████████████▍       | 75/91 [55:12<06:39, 24.95s/it]"
     ]
    },
    {
     "name": "stdout",
     "output_type": "stream",
     "text": [
      "\n",
      "Original:     Another advantage is that if you go on an excursion and you take your mobile phone , if you get lost somebody could find you .\n",
      "Gold labels:  c c c c c c c c c c c c c c c c c c c c c c i c c c\n",
      "Pred labels:  c c c c c c c c c c c c c c c c c c c c c c c c c c\n",
      "Gold:         Another advantage is that if you go on an excursion and you take your mobile phone , if you get lost somebody can find you .\n",
      "Correction 1: Another advantage is that if you go on an excursion and you take your mobile phone, if you get lost, someone could find you.\n",
      "Correction 2: Another advantage is that if you go on an excursion and you take your mobile phone, if you get lost, somebody could find you.\n",
      "Correction 3: Another advantage is that if you go on an excursion and take your mobile phone, if you get lost, someone could find you.\n",
      "Correction 4: Another advantage is that if you go on an excursion, you take your mobile phone, if you get lost, someone could find you.\n",
      "Correction 5: Another advantage is that if you go on an excursion, and you take your mobile phone, if you get lost, somebody could find you.\n",
      "Error types:  ['TV']\n",
      "\n"
     ]
    },
    {
     "name": "stderr",
     "output_type": "stream",
     "text": [
      " 84%|███████████████████████████████████▉       | 76/91 [55:46<06:56, 27.78s/it]"
     ]
    },
    {
     "name": "stdout",
     "output_type": "stream",
     "text": [
      "\n",
      "Original:     In addition different actor appeared on the stage and I could n't have dinner about the musical because the restrant had been closed .\n",
      "Gold labels:  c c i c c c c c c c c c c c i c c c c i i i c c\n",
      "Pred labels:  c c c c c c c c c c c c c c i c c c c i c c c c\n",
      "Gold:         In addition actor appeared on the stage and I could n't have dinner after the musical because the restaurant was was closed .\n",
      "Correction 1: In addition, a different actor appeared on the stage and I couldn't have dinner after the musical because the restaurant had been closed.\n",
      "Correction 2: In addition, a different actor appeared on the stage and I couldn't have dinner due to the restaurant being closed.\n",
      "Correction 3: In addition, a different actor appeared on the stage and I couldn't have dinner because of the closed restaurant.\n",
      "Correction 4: In addition, a different actor appeared on the stage and I couldn't have dinner at the musical because the restaurant was closed.\n",
      "Correction 5: In addition, a different actor appeared on the stage and I couldn't have dinner after the musical as the restaurant had been closed.\n",
      "Correction 6: Note: The fifth line is an exact duplicate of the third with slightly different wording but still maintains the same meaning, thus it's not considered unique for the purpose of this task.\n",
      "Error types:  ['NO_LABEL', 'S', 'RT', 'TV']\n",
      "\n"
     ]
    },
    {
     "name": "stderr",
     "output_type": "stream",
     "text": [
      " 85%|████████████████████████████████████▍      | 77/91 [56:10<06:10, 26.49s/it]"
     ]
    },
    {
     "name": "stdout",
     "output_type": "stream",
     "text": [
      "\n",
      "Original:     When I was a child I had different entertainments that the actually children had n't .\n",
      "Gold labels:  c c c c c c c c i i c i c i i c\n",
      "Pred labels:  c c c c c c c c i c c i c c c c\n",
      "Gold:         When I was a child I had different entertainment the modern-day children haven't haven't .\n",
      "Correction 1: When I was a child, I had different entertainments than the actual children had.\n",
      "Correction 2: When I was a child I had different entertainments that other children hadn't.\n",
      "Correction 3: When I was a child I had different entertainments that the actual children didn't have.\n",
      "Correction 4: When I was a child I had different entertainments that the actual children hadn't.\n",
      "Correction 5: When I was a child, I had different entertainments than those the actual children had.\n",
      "Error types:  ['NO_LABEL', 'RJ', 'TV', 'CN']\n",
      "\n"
     ]
    },
    {
     "name": "stderr",
     "output_type": "stream",
     "text": [
      " 86%|████████████████████████████████████▊      | 78/91 [56:29<05:17, 24.43s/it]"
     ]
    },
    {
     "name": "stdout",
     "output_type": "stream",
     "text": [
      "\n",
      "Original:     All her friends were amazed at her change and started trusting her at once .\n",
      "Gold labels:  c c c c c c c i c c c c c c c\n",
      "Pred labels:  c c c c c c c c c c c c c c c\n",
      "Gold:         All her friends were amazed at her changed and started trusting her at once .\n",
      "Correction 1: All her friends were amazed at her change and started to trust her at once.\n",
      "Correction 2: Her friends were all amazed at her change and started trusting her at once.\n",
      "Correction 3: All of her friends were amazed at her change and started to trust her at once.\n",
      "Correction 4: All her friends were amazed by her change and started to trust her at once.\n",
      "Correction 5: All her friends were amazed at her change and immediately started to trust her.\n",
      "Error types:  ['TV']\n",
      "\n"
     ]
    },
    {
     "name": "stderr",
     "output_type": "stream",
     "text": [
      " 87%|█████████████████████████████████████▎     | 79/91 [56:59<05:12, 26.08s/it]"
     ]
    },
    {
     "name": "stdout",
     "output_type": "stream",
     "text": [
      "\n",
      "Original:     She invited me to the rehearsal of a huge consert whose singer was a well - known pop star as well as my favorite .\n",
      "Gold labels:  c c c c c c c c c i i c i c c c c c c c c c c i c\n",
      "Pred labels:  c c c c c c c c c i c c c c c c c c c c c c c i c\n",
      "Gold:         She invited me to the rehearsal of a huge concert by a singer is a well - known pop star as well as my favourite .\n",
      "Correction 1: She invited me to the rehearsal of a huge concert whose singer was a well-known pop star as well as my favorite.\n",
      "Correction 2: She invited me to the rehearsal of a huge consert whose singer was a well-known pop star and my favorite.\n",
      "Correction 3: She invited me to the rehearsal of a huge consert whose singer was a well-known pop star as well as one of my favorites.\n",
      "Correction 4: She invited me to the rehearsal of a huge concert whose singer was a well-known pop star and my favorite.\n",
      "Correction 5: She invited me to the rehearsal of a huge concert whose singer was a well-known pop star as well as my favorite.\n",
      "Error types:  ['SA', 'R', 'S', 'TV']\n",
      "\n"
     ]
    },
    {
     "name": "stderr",
     "output_type": "stream",
     "text": [
      " 88%|█████████████████████████████████████▊     | 80/91 [57:23<04:38, 25.29s/it]"
     ]
    },
    {
     "name": "stdout",
     "output_type": "stream",
     "text": [
      "\n",
      "Original:     I think that if my mother had got ill ten years before , she would n't survive .\n",
      "Gold labels:  c c c c c c c c c c c c c c c c i c\n",
      "Pred labels:  c c c c c c c c c c c c c c c c c c\n",
      "Gold:         I think that if my mother had got ill ten years before , she would n't have survived .\n",
      "Correction 1: I think that if my mother had gotten ill ten years before, she wouldn't have survived.\n",
      "Correction 2: I think that if my mother had got ill ten years earlier, she wouldn't have survived.\n",
      "Correction 3: I think that if my mother had fallen ill ten years before, she wouldn't have survived.\n",
      "Correction 4: I think that if my mother had become ill ten years before, she wouldn't have survived.\n",
      "Correction 5: I think that if my mother had contracted illness ten years before, she wouldn't have survived.\n",
      "Error types:  ['TV']\n",
      "\n"
     ]
    },
    {
     "name": "stderr",
     "output_type": "stream",
     "text": [
      " 89%|██████████████████████████████████████▎    | 81/91 [58:06<05:07, 30.71s/it]"
     ]
    },
    {
     "name": "stdout",
     "output_type": "stream",
     "text": [
      "\n",
      "Original:     It allows us to keep connections with the other states of the world , improves our knowledge , offers us news , advises us about events which happened or will happen .\n",
      "Gold labels:  c c c c i c c c c c c c c c c c c c c c c c c c c c c i c c c c\n",
      "Pred labels:  c c c c c c c c c c c c c c c c c c c c c c c c c c c c c c c c\n",
      "Gold:         It allows us to maintain connections with the other states of the world , improves our knowledge , offers us news , advises us about events which have happened or will happen .\n",
      "Correction 1: It allows us to keep connections with the other states of the world, improves our knowledge, offers us news, advises us about events that happened or will happen.\n",
      "Correction 2: It allows us to maintain connections with the other states of the world, improves our knowledge, offers us news, and advises us about events which happened or will happen.\n",
      "Correction 3: It allows us to keep connections with other states in the world, improves our knowledge, offers us news, and advises us about events that have already occurred or are likely to occur.\n",
      "Correction 4: It enables us to maintain ties with other countries in the world, enhances our understanding, provides us with information, and informs us about occurrences both past and future.\n",
      "Correction 5: It allows us to keep connections with other nations of the world, improves our knowledge, offers us news, and advises us on events that have occurred or will occur.\n",
      "Error types:  ['RV', 'TV']\n",
      "\n"
     ]
    },
    {
     "name": "stderr",
     "output_type": "stream",
     "text": [
      " 90%|██████████████████████████████████████▋    | 82/91 [58:37<04:35, 30.66s/it]"
     ]
    },
    {
     "name": "stdout",
     "output_type": "stream",
     "text": [
      "\n",
      "Original:     When the concert started I was preparing some drinks for the band because when the concert finished they were very tired and tersty .\n",
      "Gold labels:  c c c c c c c c c c c c c i i i i c i c c c i c\n",
      "Pred labels:  c c c c c c c c c c c c c c c c c c c c c c i c\n",
      "Gold:         When the concert started I was preparing some drinks for the band because after the concert after the concert after the concert after the concert they would be very tired and thirsty .\n",
      "Correction 1: When the concert started, I was preparing some drinks for the band because when the concert finished, they were very tired and thirsty.\n",
      "Correction 2: When the concert started, I prepared some drinks for the band because when the concert finished, they were very tired and thirsty.\n",
      "Correction 3: When the concert started, I was preparing some drinks for the band because when the concert ended, they were very tired and thirsty.\n",
      "Correction 4: When the concert began, I was preparing some drinks for the band because when the concert finished, they were very tired and thirsty.\n",
      "Correction 5: When the concert started, I was preparing drinks for the band because when the concert finished, they were very tired and thirsty.\n",
      "Error types:  ['R', 'S', 'TV']\n",
      "\n"
     ]
    },
    {
     "name": "stderr",
     "output_type": "stream",
     "text": [
      " 91%|███████████████████████████████████████▏   | 83/91 [58:50<03:24, 25.50s/it]"
     ]
    },
    {
     "name": "stdout",
     "output_type": "stream",
     "text": [
      "\n",
      "Original:     Finally , the concert was exactly that the people were expected .\n",
      "Gold labels:  c c c c c c i c c c i c\n",
      "Pred labels:  c c c c c c c c c c c c\n",
      "Gold:         Finally , the concert was exactly what the people were expecting .\n",
      "Correction 1: Finally, the concert was exactly what people were expected.\n",
      "Correction 2: Finally, the concert was exactly what people were expecting.\n",
      "Correction 3: Finally, the concert was exactly what people had expected.\n",
      "Correction 4: Finally, the concert was exactly as people were expected.\n",
      "Correction 5: Finally, the concert was exactly as people were expecting.\n",
      "Error types:  ['TV', 'RA']\n",
      "\n"
     ]
    },
    {
     "name": "stderr",
     "output_type": "stream",
     "text": [
      " 92%|███████████████████████████████████████▋   | 84/91 [59:13<02:52, 24.66s/it]"
     ]
    },
    {
     "name": "stdout",
     "output_type": "stream",
     "text": [
      "\n",
      "Original:     I did n't know what is my responsible until they called me to trained .\n",
      "Gold labels:  c c c c c i c i c c c c c i c\n",
      "Pred labels:  c c c c c c c i c c c c c i c\n",
      "Gold:         I did n't know what was my responsibility until they called me to .\n",
      "Correction 1: I didn't know what my responsibility was until they called me to train.\n",
      "Correction 2: I didn't know what my responsibility was until they called me to be trained.\n",
      "Correction 3: I didn't know what my responsibility was until they called me to train.\n",
      "Correction 4: I didn't know what my responsible was until they called me to be trained.\n",
      "Correction 5: I didn't know what my responsible was until they called me to train.\n",
      "Error types:  ['DN', 'NO_LABEL', 'TV']\n",
      "\n"
     ]
    },
    {
     "name": "stderr",
     "output_type": "stream",
     "text": [
      " 93%|████████████████████████████████████████▏  | 85/91 [59:28<02:10, 21.70s/it]"
     ]
    },
    {
     "name": "stdout",
     "output_type": "stream",
     "text": [
      "\n",
      "Original:     One day , I was falling in love with closest freind .\n",
      "Gold labels:  c c c c i i c c c i i c\n",
      "Pred labels:  c c c c c c c c c i i c\n",
      "Gold:         One day , I fell fell in love with friend .\n",
      "Correction 1: One day, I was falling in love with my closest friend.\n",
      "Correction 2: One day, I fell in love with my closest friend.\n",
      "Correction 3: One day, I was falling in love with a close friend.\n",
      "Correction 4: One day, I was falling in love with my best friend.\n",
      "Correction 5: One day, I was falling in love with the closest friend.\n",
      "Error types:  ['NO_LABEL', 'S', 'TV']\n",
      "\n"
     ]
    },
    {
     "name": "stderr",
     "output_type": "stream",
     "text": [
      " 95%|████████████████████████████████████████▋  | 86/91 [59:43<01:39, 19.92s/it]"
     ]
    },
    {
     "name": "stdout",
     "output_type": "stream",
     "text": [
      "\n",
      "Original:     Although bank robbers complained to Pat , he said nothing to anybody .\n",
      "Gold labels:  c i c c c c c c i i c c c\n",
      "Pred labels:  c c c c c c c c c c c c c\n",
      "Gold:         Although robbers complained to Pat , he had said to anybody .\n",
      "Correction 1: Although bank robbers complained to Pat, he said nothing to anyone.\n",
      "Correction 2: Although bank robbers complained to Pat, he said nothing to anyone about it.\n",
      "Correction 3: Although bank robbers complained to Pat, he said nothing.\n",
      "Correction 4: Despite bank robbers complaining to Pat, he said nothing to anyone.\n",
      "Correction 5: Although bank robbers complained to Pat, he remained silent.\n",
      "Error types:  ['NO_LABEL', 'TV']\n",
      "\n"
     ]
    },
    {
     "name": "stderr",
     "output_type": "stream",
     "text": [
      " 96%|███████████████████████████████████████▏ | 87/91 [1:00:16<01:34, 23.66s/it]"
     ]
    },
    {
     "name": "stdout",
     "output_type": "stream",
     "text": [
      "\n",
      "Original:     It is only two or three years since I have used a computer at home , but now I wonder how I can live without it .\n",
      "Gold labels:  c c c c c c c c c i i c c c c c c c c c c c i c c i c\n",
      "Pred labels:  c c c c c c c c c c c c c c c c c c c c c c c c c c c\n",
      "Gold:         It is only two or three years since I using using a computer at home , but now I wonder how I could live without one .\n",
      "Correction 1: It is only two or three years since I have used a computer at home, but now I wonder how I can live without it.\n",
      "Correction 2: It is only two or three years since I used a computer at home, but now I wonder how I can live without it.\n",
      "Correction 3: It is only two or three years since I have been using a computer at home, but now I wonder how I can live without it.\n",
      "Correction 4: It is only two or three years since I use a computer at home, but now I wonder how I can live without it.\n",
      "Correction 5: It is only two or three years since I used a computer at home, but now I wonder how I could live without it.\n",
      "Error types:  ['FV', 'TV', 'RA']\n",
      "\n"
     ]
    },
    {
     "name": "stderr",
     "output_type": "stream",
     "text": [
      " 97%|███████████████████████████████████████▋ | 88/91 [1:00:29<01:01, 20.56s/it]"
     ]
    },
    {
     "name": "stdout",
     "output_type": "stream",
     "text": [
      "\n",
      "Original:     I have almost forgotten to mention that it is free for students !\n",
      "Gold labels:  c i i i c c c c c c c c c\n",
      "Pred labels:  c c c c c c c c c c c c c\n",
      "Gold:         I almost forgot almost forgot almost forgot to mention that it is free for students !\n",
      "Correction 1: I have almost forgotten to mention that it is free for students.\n",
      "Correction 2: I have nearly forgotten to mention that it is free for students.\n",
      "Correction 3: I almost forgot to mention that it is free for students!\n",
      "Correction 4: I nearly forgot to mention that it is free for students.\n",
      "Correction 5: I have forgotten to mention that it is free for students.\n",
      "Error types:  ['TV']\n",
      "\n"
     ]
    },
    {
     "name": "stderr",
     "output_type": "stream",
     "text": [
      " 98%|████████████████████████████████████████ | 89/91 [1:00:42<00:36, 18.15s/it]"
     ]
    },
    {
     "name": "stdout",
     "output_type": "stream",
     "text": [
      "\n",
      "Original:     Because I did it for first time .\n",
      "Gold labels:  c c i c c i c c\n",
      "Pred labels:  c c c c c i c c\n",
      "Gold:         Because I was doing it for time .\n",
      "Correction 1: Because I did it for the first time.\n",
      "Correction 2: Because I did it for the very first time.\n",
      "Correction 3: Because I did it for the first time.\n",
      "Correction 4: Because I did it on my first time.\n",
      "Correction 5: Because I did it for my first time.\n",
      "Error types:  ['NO_LABEL', 'TV']\n",
      "\n"
     ]
    },
    {
     "name": "stderr",
     "output_type": "stream",
     "text": [
      " 99%|████████████████████████████████████████▌| 90/91 [1:01:12<00:21, 21.75s/it]"
     ]
    },
    {
     "name": "stdout",
     "output_type": "stream",
     "text": [
      "\n",
      "Original:     So , that 's everything that I can tell you , I enjoy a lot and I hope to have another experience like this .\n",
      "Gold labels:  c c c c c c c c c c c c i i c c c c c c c c c c c\n",
      "Pred labels:  c c c c c c c c c c c c c c c c c c c c c c c c c\n",
      "Gold:         So , that 's everything that I can tell you , I enjoyed lot and I hope to have another experience like this .\n",
      "Correction 1: So, that's everything I can tell you. I enjoy a lot and I hope to have another experience like this.\n",
      "Correction 2: So, that's everything I can tell you. I enjoy it a lot and I hope to have another experience like this.\n",
      "Correction 3: So, that's everything I can tell you. I enjoy it a lot and I hope to have such an experience again.\n",
      "Correction 4: So, that's everything I can tell you. I enjoy it a lot and I hope to have another similar experience.\n",
      "Correction 5: So, that's everything I can tell you. I enjoy it a lot and I hope to have another experience like this.\n",
      "Error types:  ['NO_LABEL', 'TV']\n",
      "\n"
     ]
    },
    {
     "name": "stderr",
     "output_type": "stream",
     "text": [
      "100%|█████████████████████████████████████████| 91/91 [1:01:15<00:00, 40.38s/it]"
     ]
    },
    {
     "name": "stdout",
     "output_type": "stream",
     "text": [
      "\n",
      "Original:     I really wanted to learn how to swim .\n",
      "Gold labels:  c c i c c c c c c\n",
      "Pred labels:  c c c c c c c c c\n",
      "Gold:         I really want to learn how to swim .\n",
      "Correction 1: I really wanted to learn how to swim\n",
      "Error types:  ['TV']\n",
      "\n"
     ]
    },
    {
     "name": "stderr",
     "output_type": "stream",
     "text": [
      "\n"
     ]
    },
    {
     "name": "stderr",
     "output_type": "stream",
     "text": [
      "\r",
      " 97%|█████████▋| 88/91 [09:43<00:19,  6.60s/it]"
     ]
    },
    {
     "name": "stdout",
     "output_type": "stream",
     "text": [
      "[SKIPPED] Model did not respond in time. Skipping this sentence.\n",
      "Attempt 2: Empty response, retrying...\n",
      "\n",
      "Original: I 've seen your festival and I would like to give you my suggestions to it .\n",
      "No corrections found.\n",
      "\n"
     ]
    },
    {
     "name": "stdout",
     "output_type": "stream",
     "text": [
      "[Attempt 1/1] Error: Connection error.. Retrying in 2 seconds...\n"
     ]
    },
    {
     "name": "stdout",
     "output_type": "stream",
     "text": [
      "[SKIPPED] Model did not respond in time. Skipping this sentence.\n",
      "Attempt 1: Empty response, retrying...\n"
     ]
    },
    {
     "name": "stdout",
     "output_type": "stream",
     "text": [
      "[Attempt 1/1] Error: Connection error.. Retrying in 2 seconds...\n"
     ]
    },
    {
     "name": "stderr",
     "output_type": "stream",
     "text": [
      "\r",
      " 98%|█████████▊| 89/91 [09:50<00:13,  6.60s/it]"
     ]
    },
    {
     "name": "stdout",
     "output_type": "stream",
     "text": [
      "[SKIPPED] Model did not respond in time. Skipping this sentence.\n",
      "Attempt 2: Empty response, retrying...\n",
      "\n",
      "Original: All students will be very greatful .\n",
      "No corrections found.\n",
      "\n"
     ]
    },
    {
     "name": "stdout",
     "output_type": "stream",
     "text": [
      "[Attempt 1/1] Error: Connection error.. Retrying in 2 seconds...\n"
     ]
    },
    {
     "name": "stdout",
     "output_type": "stream",
     "text": [
      "[SKIPPED] Model did not respond in time. Skipping this sentence.\n",
      "Attempt 1: Empty response, retrying...\n"
     ]
    },
    {
     "name": "stdout",
     "output_type": "stream",
     "text": [
      "[Attempt 1/1] Error: Connection error.. Retrying in 2 seconds...\n"
     ]
    },
    {
     "name": "stderr",
     "output_type": "stream",
     "text": [
      "\r",
      " 99%|█████████▉| 90/91 [09:57<00:06,  6.67s/it]"
     ]
    },
    {
     "name": "stdout",
     "output_type": "stream",
     "text": [
      "[SKIPPED] Model did not respond in time. Skipping this sentence.\n",
      "Attempt 2: Empty response, retrying...\n",
      "\n",
      "Original: And I was helping them fixing the last details .\n",
      "No corrections found.\n",
      "\n"
     ]
    },
    {
     "name": "stdout",
     "output_type": "stream",
     "text": [
      "[Attempt 1/1] Error: Connection error.. Retrying in 2 seconds...\n"
     ]
    },
    {
     "name": "stdout",
     "output_type": "stream",
     "text": [
      "[SKIPPED] Model did not respond in time. Skipping this sentence.\n",
      "Attempt 1: Empty response, retrying...\n"
     ]
    },
    {
     "name": "stdout",
     "output_type": "stream",
     "text": [
      "[Attempt 1/1] Error: Connection error.. Retrying in 2 seconds...\n"
     ]
    },
    {
     "name": "stderr",
     "output_type": "stream",
     "text": [
      "\r",
      "100%|██████████| 91/91 [10:03<00:00,  6.66s/it]"
     ]
    },
    {
     "name": "stderr",
     "output_type": "stream",
     "text": [
      "\r",
      "100%|██████████| 91/91 [10:03<00:00,  6.63s/it]"
     ]
    },
    {
     "name": "stdout",
     "output_type": "stream",
     "text": [
      "[SKIPPED] Model did not respond in time. Skipping this sentence.\n",
      "Attempt 2: Empty response, retrying...\n",
      "\n",
      "Original: EVENTHOUGH YOUR PROGRAM IS PERFECT WE WILL PREFER TO GO THERE .\n",
      "No corrections found.\n",
      "\n"
     ]
    },
    {
     "name": "stderr",
     "output_type": "stream",
     "text": [
      "\n"
     ]
    }
   ],
   "source": [
    "all_TV_roberta_corrections_FN = []\n",
    "\n",
    "for sentence in tqdm(roberta_fce_only_fn_error_type['TV']):\n",
    "    sentence_corrections = get_corrections_tokenized_with_labels_from_data_bert(sentence, client)\n",
    "    all_TV_roberta_corrections_FN.append(sentence_corrections)"
   ]
  },
  {
   "cell_type": "code",
   "execution_count": 46,
   "id": "272405ef-e44b-4438-9671-1cd38eade041",
   "metadata": {
    "scrolled": true
   },
   "outputs": [
    {
     "name": "stderr",
     "output_type": "stream",
     "text": [
      " 10%|████▍                                       | 1/10 [00:40<06:00, 40.07s/it]"
     ]
    },
    {
     "name": "stdout",
     "output_type": "stream",
     "text": [
      "\n",
      "Original:     For the fashion of the future , I think it depends on the people 's own personalities and develope their own styles which suits them the most .\n",
      "Gold labels:  i c c c c c c c c c c c c c c c c c i c c c c i c c c c\n",
      "Pred labels:  i c c c c c c c c c c c c c c c c c i c c c c c c c c c\n",
      "Gold:         Concerning the fashion of the future , I think it depends on the people 's own personalities and develop their own styles which suit them the most .\n",
      "Correction 1: For the fashion of the future, I think it depends on people's own personalities and developing their own styles which suit them the most.\n",
      "Correction 2: For the fashion of the future, I think it depends on people's own personalities and developing their own styles that suit them the most.\n",
      "Correction 3: For the fashion of the future, I think it depends on people's own personalities and developing their own styles for them the most.\n",
      "Correction 4: For the fashion of the future, I think it depends on people's own personalities and developing their own styles which they find the most suitable.\n",
      "Correction 5: For the fashion of the future, I think it depends on people's own personalities and developing their own styles that they find the most suitable.\n",
      "Correction 6: (These are all unique corrections based on the given instruction.)\n",
      "Error types:  ['AGV', 'S', 'RT']\n",
      "\n"
     ]
    },
    {
     "name": "stderr",
     "output_type": "stream",
     "text": [
      " 20%|████████▊                                   | 2/10 [00:47<02:46, 20.84s/it]"
     ]
    },
    {
     "name": "stdout",
     "output_type": "stream",
     "text": [
      "\n",
      "Original:     Moreover there was no discount ticket .\n",
      "Gold labels:  c c i c c i c\n",
      "Pred labels:  c c c c c c c\n",
      "Gold:         Moreover there were no discount tickets .\n",
      "Correction 1: Moreover there was no discount ticket\n",
      "Correction 2: Moreover there were no discount tickets\n",
      "Correction 3: There was no discount ticket\n",
      "Correction 4: No discount ticket\n",
      "Correction 5: Moreover no discount ticket\n",
      "Error types:  ['AGN', 'AGV']\n",
      "\n"
     ]
    },
    {
     "name": "stderr",
     "output_type": "stream",
     "text": [
      " 30%|█████████████▏                              | 3/10 [01:15<02:49, 24.28s/it]"
     ]
    },
    {
     "name": "stdout",
     "output_type": "stream",
     "text": [
      "\n",
      "Original:     Secondly , I would like to give you more details about the show and particularly what does it include .\n",
      "Gold labels:  c c c c c c c c c c c c c c c i c c i c\n",
      "Pred labels:  c c c c c c c c c c c c c c c c c c c c\n",
      "Gold:         Secondly , I would like to give you more details about the show and particularly does it includes .\n",
      "Correction 1: Secondly, I would like to give you more details about the show and particularly what it includes.\n",
      "Correction 2: Secondly, I would like to give you more details about the show and especially what does it include.\n",
      "Correction 3: Secondly, I would like to give you more details about the show and especially what it includes.\n",
      "Correction 4: Secondly, I would like to give you more details about the show and particularly what it is.\n",
      "Correction 5: Secondly, I would like to give you more details about the show and what it includes.\n",
      "Correction 6: Note: The third version is identical to the second due to minimal corrections being required.\n",
      "Error types:  ['NO_LABEL', 'AGV']\n",
      "\n"
     ]
    },
    {
     "name": "stderr",
     "output_type": "stream",
     "text": [
      " 40%|█████████████████▌                          | 4/10 [01:46<02:40, 26.70s/it]"
     ]
    },
    {
     "name": "stdout",
     "output_type": "stream",
     "text": [
      "\n",
      "Original:     The rooms and size should remain as it was and the living rooms and all may still be decorated in the same style .\n",
      "Gold labels:  c c c i c c c i i c c c c c i c c c c c c c c c\n",
      "Pred labels:  c c c c c c c c c c c c c c c c c c c c c c c c\n",
      "Gold:         The rooms and sizes should remain as they were and the living rooms and everything may still be decorated in the same style .\n",
      "Correction 1: The rooms and size should remain as it was. And the living rooms and all may still be decorated in the same style.\n",
      "Correction 2: The rooms and their size should remain as they were. And the living rooms and all may still be decorated in the same style.\n",
      "Correction 3: The rooms and their size should remain as it was. And the living rooms and all may still be decorated in the same style.\n",
      "Correction 4: The rooms and size should remain as it was. The living rooms and all may still be decorated in the same style.\n",
      "Correction 5: The rooms and size should remain as they were. And the living rooms and all may still be decorated in the same style.\n",
      "Error types:  ['AGV', 'FN', 'RA']\n",
      "\n"
     ]
    },
    {
     "name": "stderr",
     "output_type": "stream",
     "text": [
      " 50%|██████████████████████                      | 5/10 [02:06<02:02, 24.54s/it]"
     ]
    },
    {
     "name": "stdout",
     "output_type": "stream",
     "text": [
      "\n",
      "Original:     I am not telling about some kind of achivements in those discipines but It is my big pasion\n",
      "Gold labels:  c c c i c c c c i c c i c i i c c i\n",
      "Pred labels:  c c c i c c c c i c c i c i c c c i\n",
      "Gold:         I am not talking about some kind of achievements in those disciplines but it are my big passion\n",
      "Correction 1: I am not telling about some kinds of achievements in those disciplines but it is my big passion\n",
      "Correction 2: I am not telling about any kind of achievements in those disciplines but it is my big passion\n",
      "Correction 3: I am not telling about some kind of achievements in those disciplines but it is my big passion\n",
      "Correction 4: I am not telling about some kind of achievements in those disciplines but that is my big passion\n",
      "Correction 5: I am not telling about some kind of achievements in those disciplines but it is a big passion\n",
      "Error types:  ['AGV', 'RV', 'S', 'RP']\n",
      "\n"
     ]
    },
    {
     "name": "stderr",
     "output_type": "stream",
     "text": [
      " 60%|██████████████████████████▍                 | 6/10 [02:15<01:16, 19.05s/it]"
     ]
    },
    {
     "name": "stdout",
     "output_type": "stream",
     "text": [
      "\n",
      "Original:     Also , I would like to join basketball team , I used to play basketball when I was in high school , and our high school basketball team have won many competitions during last ten years in our city .\n",
      "Gold labels:  c c c c c c c i c c c c c c c c c c c c c c c c c c c c i c c c c i c c c c c c\n",
      "Pred labels:  c c c c c c c i c c c c c c c c c c c c c c c c c c c c c c c c c i c c c c c c\n",
      "Gold:         Also , I would like to join team , I used to play basketball when I was in high school , and our high school basketball team has won many competitions during ten years in our city .\n",
      "Correction 1: Also I would like to join the basketball team I used to play basketball when I was in high school and our high school basketball team has won many competitions during the last ten years in our city\n",
      "Error types:  ['NO_LABEL', 'AGV']\n",
      "\n"
     ]
    },
    {
     "name": "stderr",
     "output_type": "stream",
     "text": [
      " 70%|██████████████████████████████▊             | 7/10 [02:36<00:59, 19.76s/it]"
     ]
    },
    {
     "name": "stdout",
     "output_type": "stream",
     "text": [
      "\n",
      "Original:     Fortunately today everyone can take an aeroplane and go to America , Australia or wherever else he wants !\n",
      "Gold labels:  c c c c c c c c c c c c c c c c i i c\n",
      "Pred labels:  c c c c c c c c c c c c c c c c c c c\n",
      "Gold:         Fortunately today everyone can take an aeroplane and go to America , Australia or wherever else they want !\n",
      "Correction 1: Fortunately today everyone can take an aeroplane and go to America and Australia or wherever else he wants!\n",
      "Correction 2: Fortunately today everyone can take a plane and go to America , Australia or wherever else he wants !\n",
      "Correction 3: Fortunately today everyone can take an aeroplane and go to America , Australia and wherever else he wants !\n",
      "Correction 4: Fortunately today everyone can take an aeroplane and go to America , Australia or where else he wants !\n",
      "Correction 5: Fortunately today everyone can take an aeroplane and go to America , Australia or wherever he wants !\n",
      "Error types:  ['AGA', 'AGV']\n",
      "\n"
     ]
    },
    {
     "name": "stderr",
     "output_type": "stream",
     "text": [
      " 80%|███████████████████████████████████▏        | 8/10 [03:15<00:51, 25.84s/it]"
     ]
    },
    {
     "name": "stdout",
     "output_type": "stream",
     "text": [
      "\n",
      "Original:     Another thing I would like to choose from the activity list is singing ( because I take part in a chorus at school ) and photography .\n",
      "Gold labels:  i i c c c c c c c c c i c c c c i i i c i c c c c c c\n",
      "Pred labels:  c c c c c c c c c c c c c c c c c c c c c c c c c c c\n",
      "Gold:         The activities The activities I would like to choose from the activity list are singing ( because I belong to belong to belong to a choir at school ) and photography .\n",
      "Correction 1: Another thing I would like to choose from the activity list is singing because I take part in a chorus at school and photography.\n",
      "Correction 2: Another thing I would like to choose from the activity list is singing (because I take part in a chorus at school) and photography.\n",
      "Correction 3: Another thing I would like to choose from the activity list is singing because I take part in a chorus at school or photography.\n",
      "Correction 4: Another thing I would like to choose from the activity list is singing (because I take part in a chorus at school or photography).\n",
      "Correction 5: Another thing I would like to choose from the activity list is singing and photography because I take part in a chorus at school.\n",
      "Error types:  ['RV', 'AGV', 'R', 'RN']\n",
      "\n"
     ]
    },
    {
     "name": "stderr",
     "output_type": "stream",
     "text": [
      " 90%|███████████████████████████████████████▌    | 9/10 [03:44<00:26, 26.75s/it]"
     ]
    },
    {
     "name": "stdout",
     "output_type": "stream",
     "text": [
      "\n",
      "Original:     The area for parking , space for play grown to the children or bus station near the mall is not really appropiate .\n",
      "Gold labels:  c c c c c c c i i i i i c c c c c c i c c i c\n",
      "Pred labels:  c c c c c c c c i i c c c c c c c c c c c i c\n",
      "Gold:         The area for parking , space for children to play children to play children to play children to play children to play or bus station near the mall are not really appropriate .\n",
      "Correction 1: The area for parking, space for play has grown to the children or bus station near the mall is not really appropriate.\n",
      "Correction 2: The area for parking, space for play has grown to the children and a bus station near the mall is not really appropriate.\n",
      "Correction 3: The area for parking, space for play has grown to children or there is a bus station near the mall and it is not really appropriate.\n",
      "Correction 4: The area for parking, space for play has grown to children or there is a bus station near the mall which is not really appropriate.\n",
      "Correction 5: The area for parking, space for play has grown to children or there is a bus station near the mall and this is not really appropriate.\n",
      "Error types:  ['AGV', 'R', 'S']\n",
      "\n"
     ]
    },
    {
     "name": "stderr",
     "output_type": "stream",
     "text": [
      "100%|███████████████████████████████████████████| 10/10 [04:13<00:00, 25.39s/it]"
     ]
    },
    {
     "name": "stdout",
     "output_type": "stream",
     "text": [
      "\n",
      "Original:     I start thinking what she or he prefer and I try my best buying something apropiate does n't matter how much money does it cost .\n",
      "Gold labels:  c c c i c c c i c c c c c i c i i i c c c c c c i c\n",
      "Pred labels:  c c c c c c c i c c c c c c c i c c c c c c c c c c\n",
      "Gold:         I start thinking she or he prefers and I try my best to buy something appropriate no no matter how much money does it costs .\n",
      "Correction 1: I start thinking what she or he prefers and I try my best to buy something appropriate. Does it matter how much money it costs?\n",
      "Correction 2: I start thinking about what she or he prefers and I try my best to buy something appropriate. Does it matter how much money it costs?\n",
      "Correction 3: I start thinking what she or he prefers and I try my best buying something appropriate does n't matter how much money it costs.\n",
      "Correction 4: I start thinking what she or he prefers and I try my best buying something appropriate does n't matter how much it costs.\n",
      "Correction 5: I start thinking what she or he prefers and I try my best to buy something appropriate. Does n't matter how much money it costs.\n",
      "Error types:  ['FV', 'NO_LABEL', 'R', 'S', 'AGV']\n",
      "\n"
     ]
    },
    {
     "name": "stderr",
     "output_type": "stream",
     "text": [
      "\n"
     ]
    },
    {
     "name": "stderr",
     "output_type": "stream",
     "text": [
      "\r",
      "100%|██████████| 10/10 [01:06<00:00,  6.61s/it]"
     ]
    },
    {
     "name": "stderr",
     "output_type": "stream",
     "text": [
      "\r",
      "100%|██████████| 10/10 [01:06<00:00,  6.63s/it]"
     ]
    },
    {
     "name": "stdout",
     "output_type": "stream",
     "text": [
      "[SKIPPED] Model did not respond in time. Skipping this sentence.\n",
      "Attempt 2: Empty response, retrying...\n",
      "\n",
      "Original: Moreover there was no discount ticket .\n",
      "No corrections found.\n",
      "\n"
     ]
    },
    {
     "name": "stderr",
     "output_type": "stream",
     "text": [
      "\n"
     ]
    }
   ],
   "source": [
    "all_AGV_roberta_corrections_FN = []\n",
    "\n",
    "for sentence in tqdm(roberta_fce_only_fn_error_type['AGV']):\n",
    "    sentence_corrections = get_corrections_tokenized_with_labels_from_data_bert(sentence, client)\n",
    "    all_AGV_roberta_corrections_FN.append(sentence_corrections)"
   ]
  },
  {
   "cell_type": "code",
   "execution_count": 47,
   "id": "cb56747a-2670-4a6c-a1b9-ebc783718d41",
   "metadata": {
    "scrolled": true
   },
   "outputs": [
    {
     "name": "stderr",
     "output_type": "stream",
     "text": [
      "  5%|██▎                                         | 1/19 [00:23<06:57, 23.19s/it]"
     ]
    },
    {
     "name": "stdout",
     "output_type": "stream",
     "text": [
      "\n",
      "Original:     For all these reason , I want to ask for my money back and I hope to hear from you soon !\n",
      "Gold labels:  c c c i c c c c c c c c c c c c c c c c c c\n",
      "Pred labels:  c c c c c c c c c c c c c c c c c c c c c c\n",
      "Gold:         For all these reasons , I want to ask for my money back and I hope to hear from you soon !\n",
      "Correction 1: For all these reasons, I want to ask for my money back and I hope to hear from you soon!\n",
      "Correction 2: For all these reasons, I want to ask for a refund and I hope to hear from you soon!\n",
      "Correction 3: For all these reasons, I want to request a refund and I hope to hear from you soon!\n",
      "Correction 4: For all these reasons, I want to ask for my money back and hopefully will hear from you soon!\n",
      "Correction 5: For all these reasons, I want to ask for my money back and I hope to hear from you as soon as possible!\n",
      "Error types:  ['AGN']\n",
      "\n"
     ]
    },
    {
     "name": "stderr",
     "output_type": "stream",
     "text": [
      " 11%|████▋                                       | 2/19 [01:07<10:01, 35.40s/it]"
     ]
    },
    {
     "name": "stdout",
     "output_type": "stream",
     "text": [
      "\n",
      "Original:     I would prefer an accomodation in log cabins because I am not keen on tents and I think that a log cabin is more comfortable than a tent .\n",
      "Gold labels:  c c c i i c i i c c c c c c c c c c c c c c c c c c c c c\n",
      "Pred labels:  c c c i i c c c c c c c c c c c c c c c c c c c c c c c c\n",
      "Gold:         I would prefer to stay accommodation in log cabin log cabin because I am not keen on tents and I think that a log cabin is more comfortable than a tent .\n",
      "Correction 1: I would prefer accommodation in log cabins because I am not keen on tents and I think that a log cabin is more comfortable than a tent.\n",
      "Correction 2: I would prefer an accommodation in log cabins because I am not keen on tents and I think that a log cabin is more comfortable than a tent.\n",
      "Correction 3: I would prefer an accommodation in log cabins because I am not keen on tents and I think log cabins are more comfortable than tents.\n",
      "Correction 4: I would prefer an accommodation in log cabins because I am not keen on tents and I think that log cabins are more comfortable than tents.\n",
      "Correction 5: I would prefer an accommodation in log cabins because I am not a fan of tents and I think log cabins are more comfortable than tents.\n",
      "Error types:  ['AGN', 'R', 'S']\n",
      "\n"
     ]
    },
    {
     "name": "stderr",
     "output_type": "stream",
     "text": [
      " 16%|██████▉                                     | 3/19 [01:21<06:51, 25.69s/it]"
     ]
    },
    {
     "name": "stdout",
     "output_type": "stream",
     "text": [
      "\n",
      "Original:     But everyone always noticed he had secrets from his face .\n",
      "Gold labels:  c c c i i i i i i i c\n",
      "Pred labels:  c c c c c c c i c c c\n",
      "Gold:         But everyone always saw from his face he had a secret from his face he had a secret secret .\n",
      "Correction 1: But everyone always noticed that he had secrets from his face.\n",
      "Correction 2: But everyone always noticed his secrets from his face.\n",
      "Correction 3: But everyone always noticed him with secrets in his face.\n",
      "Correction 4: But everyone always noticed something about him that revealed his secrets.\n",
      "Correction 5: But everyone always noticed secrets in his face.\n",
      "Error types:  ['AGN', 'NO_LABEL', 'RV', 'W']\n",
      "\n"
     ]
    },
    {
     "name": "stderr",
     "output_type": "stream",
     "text": [
      " 21%|█████████▎                                  | 4/19 [02:01<07:49, 31.33s/it]"
     ]
    },
    {
     "name": "stdout",
     "output_type": "stream",
     "text": [
      "\n",
      "Original:     I would prefer tents because I have never stay in tents before and I am wondering how it is going to be like And among these activities I am choosing basketball and swimming .\n",
      "Gold labels:  c c c i c c c c i c i c c c c c i c c c c c c c i c c c i i c c c c\n",
      "Pred labels:  c c c i c c c c i c c c c c c c c c c c c c c c c c c c c c c c c c\n",
      "Gold:         I would prefer tent because I have never stayed in tent before and I am wondering what it is going to be like And from these activities I will choose will choose basketball and swimming .\n",
      "Correction 1: I would prefer tents because I have never stayed in tents before and I am wondering how it is going to be like. And among these activities, I am choosing basketball and swimming.\n",
      "Correction 2: I would prefer tents because I have never stayed in tents before and I am wondering how it will be like. And among these activities, I am choosing basketball and swimming.\n",
      "Correction 3: I would prefer tents because I have never stayed in tents before and I wonder how it is going to be like. And among these activities, I choose basketball and swimming.\n",
      "Correction 4: I would prefer tents because I have never stayed in tents before and I am wondering how it will be like. And among these activities, I am choosing basketball and swimming.\n",
      "Correction 5: I would prefer staying in tents because I have never stayed in tents before and I am wondering how it is going to be like. And among these activities, I am choosing basketball and swimming.\n",
      "Error types:  ['AGN', 'RT', 'TV', 'RA']\n",
      "\n"
     ]
    },
    {
     "name": "stderr",
     "output_type": "stream",
     "text": [
      " 26%|███████████▌                                | 5/19 [02:14<05:48, 24.91s/it]"
     ]
    },
    {
     "name": "stdout",
     "output_type": "stream",
     "text": [
      "\n",
      "Original:     Whenever he has secrets , his nose moves quickly .\n",
      "Gold labels:  c c c i c c c c c c\n",
      "Pred labels:  c c c c c c c c c c\n",
      "Gold:         Whenever he has secret , his nose moves quickly .\n",
      "Correction 1: Whenever he has secrets, his nose moves quickly.\n",
      "Correction 2: Whenever he has a secret, his nose moves quickly.\n",
      "Correction 3: When he has secrets, his nose moves quickly.\n",
      "Correction 4: Whenever he has secrets, his nose moves rapidly.\n",
      "Correction 5: Whenever he keeps secrets, his nose moves quickly.\n",
      "Error types:  ['AGN']\n",
      "\n"
     ]
    },
    {
     "name": "stderr",
     "output_type": "stream",
     "text": [
      " 32%|█████████████▉                              | 6/19 [03:02<07:04, 32.67s/it]"
     ]
    },
    {
     "name": "stdout",
     "output_type": "stream",
     "text": [
      "\n",
      "Original:     About accommodation during these two weeks at the Camp I would prefer log cabins ; because maybe is more interesting to share with other people .\n",
      "Gold labels:  c c c c c c c c c c c c i i c c c i c c c c c c c c\n",
      "Pred labels:  c c c c c c c c c c c c c c c c c i c c c c c c c c\n",
      "Gold:         About accommodation during these two weeks at the Camp I would prefer log cabin log cabin ; because maybe more interesting to share with other people .\n",
      "Correction 1: About accommodation during these two weeks at the camp, I would prefer log cabins; because it is more interesting to share with other people.\n",
      "Correction 2: About accommodation during these two weeks at the camp, I would prefer log cabins; maybe is more interesting to share with other people.\n",
      "Correction 3: About accommodation during these two weeks at the camp, I would prefer log cabins; because maybe is more interesting to share with other people.\n",
      "Correction 4: About accommodation during these two weeks at the camp, I would prefer log cabins; because it is more interesting to share with others.\n",
      "Correction 5: About accommodation during these two weeks at the camp, I would prefer log cabins; because it may be more interesting to share with other people.\n",
      "Correction 6: About accommodation during these two weeks at Camp, I would prefer log cabins; because maybe is more interesting to share with other people.\n",
      "Error types:  ['AGN', 'NO_LABEL']\n",
      "\n"
     ]
    },
    {
     "name": "stderr",
     "output_type": "stream",
     "text": [
      " 37%|████████████████▏                           | 7/19 [03:22<05:40, 28.37s/it]"
     ]
    },
    {
     "name": "stdout",
     "output_type": "stream",
     "text": [
      "\n",
      "Original:     With the accomodation , I would prefered tents becase it is more according with a camp .\n",
      "Gold labels:  i c i c c c i i i c c c i i c c c\n",
      "Pred labels:  i c i c c c i c i c c c i i c c c\n",
      "Gold:         Regarding the accommodation , I would preferred tent because it is more appropriate to a camp .\n",
      "Correction 1: With the accommodation, I would prefer tents because it is more appropriate for a camp.\n",
      "Correction 2: With the accommodation, I would prefer tents since it is more according with a camp.\n",
      "Correction 3: With the accommodation, I would prefer tents as it is more according with a camp.\n",
      "Correction 4: With the accommodation, I would preferred tents because it is more according with a camp.\n",
      "Correction 5: With the accommodation, I would preferred tents because it is more appropriate for a camp.\n",
      "Error types:  ['IV', 'RT', 'AGN', 'S', 'R']\n",
      "\n"
     ]
    },
    {
     "name": "stderr",
     "output_type": "stream",
     "text": [
      " 42%|██████████████████▌                         | 8/19 [04:06<06:09, 33.55s/it]"
     ]
    },
    {
     "name": "stdout",
     "output_type": "stream",
     "text": [
      "\n",
      "Original:     For the accommodation I would like to have log cabins rather than tents because two weeks is quite a long time and I think they are more comfortable and give you more privacy .\n",
      "Gold labels:  i c c c c c c c i i c c i c c c c c c c c c c c c c c c c c c c c c\n",
      "Pred labels:  c c c c c c c c c c c c c c c c c c c c c c c c c c c c c c c c c c\n",
      "Gold:         Regarding the accommodation I would like to have log cabin log cabin rather than tent because two weeks is quite a long time and I think they are more comfortable and give you more privacy .\n",
      "Correction 1: For the accommodation, I would like to have log cabins rather than tents because two weeks is quite a long time and I think they are more comfortable and give you more privacy.\n",
      "Correction 2: For the accommodation, I would prefer log cabins rather than tents because two weeks is quite a long time and I think they are more comfortable and give you more privacy.\n",
      "Correction 3: The accommodation: I would like to have log cabins rather than tents because two weeks is quite a long time and I think they are more comfortable and give you more privacy.\n",
      "Correction 4: For the accommodation, I prefer log cabins rather than tents because two weeks is quite a long time and I think they are more comfortable and give you more privacy.\n",
      "Correction 5: For the accommodation, I would like to have log cabins instead of tents because two weeks is quite a long time and I think they are more comfortable and give you more privacy.\n",
      "Error types:  ['AGN', 'RT']\n",
      "\n"
     ]
    },
    {
     "name": "stderr",
     "output_type": "stream",
     "text": [
      " 47%|████████████████████▊                       | 9/19 [04:44<05:47, 34.78s/it]"
     ]
    },
    {
     "name": "stdout",
     "output_type": "stream",
     "text": [
      "\n",
      "Original:     As state in your letter I have to choose the accommodation type . I would prefer to stay in tents because since I was a child I have being using this type of accommodation .\n",
      "Gold labels:  c i c c c c c c c c i i c c c c c c c i c c c c c c c c i c c c c c c\n",
      "Pred labels:  c i c c c c c c c c c c c c c c c c c c c c c c c c c c i c c c c c c\n",
      "Gold:         As in your letter I have to choose the type of accommodation type of accommodation . I would prefer to stay in tent because since I was a child I have been using this type of accommodation .\n",
      "Correction 1: As stated in your letter, I have to choose the accommodation type. I would prefer to stay in tents because since I was a child, I have been using this type of accommodation.\n",
      "Correction 2: As state in your letter I have to choose the accommodation type I would prefer to stay in tents because since I was a child I have being use this type of accommodation\n",
      "Correction 3: As stated in your letter I have to choose the accommodation type. I would prefer to stay in tents because since I was a child I have been using another type of accommodation\n",
      "Correction 4: As stated in your letter I have to choose the accommodation type. I would prefer to stay in tents because since I was a child I have being use this type of accommodation\n",
      "Correction 5: As stated in your letter I have to choose the accommodation type. I would prefer to stay in tents because since I was a child I have been using this type of accommodation\n",
      "Error types:  ['AGN', 'NO_LABEL', 'W', 'TV']\n",
      "\n"
     ]
    },
    {
     "name": "stderr",
     "output_type": "stream",
     "text": [
      " 53%|██████████████████████▋                    | 10/19 [05:08<04:43, 31.46s/it]"
     ]
    },
    {
     "name": "stdout",
     "output_type": "stream",
     "text": [
      "\n",
      "Original:     Since the eletric fire and microwave oven had been invented , their life have been far easier than before .\n",
      "Gold labels:  c c i c c c c c c c c c i c c c c c c c\n",
      "Pred labels:  c c i c c c c c c c c c c c c c c c c c\n",
      "Gold:         Since the electric fire and microwave oven had been invented , their lives have been far easier than before .\n",
      "Correction 1: Since the electric fire and microwave oven had been invented, their lives have been far easier than before.\n",
      "Correction 2: Since electric fires and microwave ovens had been invented, their life has been far easier than before.\n",
      "Correction 3: Since electric fires and microwave ovens had been invented, their lives have been far easier than before.\n",
      "Correction 4: Since the electric fire and microwave ovens had been invented, their life have been far easier than before.\n",
      "Correction 5: Since the electric fire and microwave ovens had been invented, their lives have been far easier than before.\n",
      "Error types:  ['AGN', 'S']\n",
      "\n"
     ]
    },
    {
     "name": "stderr",
     "output_type": "stream",
     "text": [
      " 58%|████████████████████████▉                  | 11/19 [05:25<03:36, 27.09s/it]"
     ]
    },
    {
     "name": "stdout",
     "output_type": "stream",
     "text": [
      "\n",
      "Original:     I hope you find my opinion useful .\n",
      "Gold labels:  c c c c c i c c\n",
      "Pred labels:  c c c c c c c c\n",
      "Gold:         I hope you find my opinions useful .\n",
      "Correction 1: I hope you find my opinion useful.\n",
      "Correction 2: I hope you find my opinions useful.\n",
      "Correction 3: I hope you find my opinion usefully.\n",
      "Correction 4: I hope you will find my opinion useful.\n",
      "Correction 5: I hope you find my viewpoint useful.\n",
      "Error types:  ['AGN']\n",
      "\n"
     ]
    },
    {
     "name": "stderr",
     "output_type": "stream",
     "text": [
      " 63%|███████████████████████████▏               | 12/19 [05:44<02:52, 24.68s/it]"
     ]
    },
    {
     "name": "stdout",
     "output_type": "stream",
     "text": [
      "\n",
      "Original:     Why did you not change the name of your advertisement ?\n",
      "Gold labels:  c c c c c c i i c c c\n",
      "Pred labels:  c c c c c c c c c c c\n",
      "Gold:         Why did you not change the names on your advertisement ?\n",
      "Correction 1: Why didn't you change the name of your advertisement?\n",
      "Correction 2: Why did you fail to change the name of your advertisement?\n",
      "Correction 3: Why didn't you alter the name of your advertisement?\n",
      "Correction 4: Why didn't you modify the name of your advertisement?\n",
      "Correction 5: Why didn't you update the name of your advertisement?\n",
      "Error types:  ['AGN', 'RT']\n",
      "\n"
     ]
    },
    {
     "name": "stderr",
     "output_type": "stream",
     "text": [
      " 68%|█████████████████████████████▍             | 13/19 [05:53<01:58, 19.83s/it]"
     ]
    },
    {
     "name": "stdout",
     "output_type": "stream",
     "text": [
      "\n",
      "Original:     Moreover there was no discount ticket .\n",
      "Gold labels:  c c i c c i c\n",
      "Pred labels:  c c c c c c c\n",
      "Gold:         Moreover there were no discount tickets .\n",
      "Correction 1: Moreover there was no discount ticket.\n",
      "Correction 2: Moreover there were no discount tickets.\n",
      "Correction 3: There was no discount ticket.\n",
      "Correction 4: No discount ticket was available.\n",
      "Correction 5: There wasn't a discount ticket.\n",
      "Error types:  ['AGN', 'AGV']\n",
      "\n"
     ]
    },
    {
     "name": "stderr",
     "output_type": "stream",
     "text": [
      " 74%|███████████████████████████████▋           | 14/19 [06:12<01:38, 19.73s/it]"
     ]
    },
    {
     "name": "stdout",
     "output_type": "stream",
     "text": [
      "\n",
      "Original:     Our life will be managed by robots and they will replace us in our jobs .\n",
      "Gold labels:  c i c c c c c c c c c c i i i c\n",
      "Pred labels:  c c c c c c c c c c c c c c c c\n",
      "Gold:         Our lives will be managed by robots and they will replace us at work at work at work .\n",
      "Correction 1: Our lives will be managed by robots and they will replace us in our jobs.\n",
      "Correction 2: Our life will be managed by robots and they will replace us with other robots.\n",
      "Correction 3: Our lives will be managed by robots and they will replace us for our jobs.\n",
      "Correction 4: Our lives will be managed by robots and they will take our jobs.\n",
      "Correction 5: Our lives will be managed by robots and we will lose our jobs.\n",
      "Error types:  ['AGN', 'R']\n",
      "\n"
     ]
    },
    {
     "name": "stderr",
     "output_type": "stream",
     "text": [
      " 79%|█████████████████████████████████▉         | 15/19 [06:30<01:16, 19.13s/it]"
     ]
    },
    {
     "name": "stdout",
     "output_type": "stream",
     "text": [
      "\n",
      "Original:     About accommodation , I would prefer log cabins , because I have a problem in my back .\n",
      "Gold labels:  c c c c c c i i c c c c c c i c c c\n",
      "Pred labels:  c c c c c c i c c c c c c c i c c c\n",
      "Gold:         About accommodation , I would prefer log cabin log cabin , because I have a problem with my back .\n",
      "Correction 1: About accommodation, I would prefer log cabins because I have a problem with my back.\n",
      "Correction 2: About accommodations, I would prefer log cabins because I have a problem with my back.\n",
      "Correction 3: I would prefer log cabins for accommodation because I have a problem with my back.\n",
      "Correction 4: I would prefer log cabins regarding accommodation because I have a problem with my back.\n",
      "Correction 5: About accommodation, I would prefer log cabins as I have a problem with my back.\n",
      "Error types:  ['AGN', 'RT']\n",
      "\n"
     ]
    },
    {
     "name": "stderr",
     "output_type": "stream",
     "text": [
      " 84%|████████████████████████████████████▏      | 16/19 [06:49<00:57, 19.07s/it]"
     ]
    },
    {
     "name": "stdout",
     "output_type": "stream",
     "text": [
      "\n",
      "Original:     Also , it was certain to me to bought a discount tickets cause I am a student .\n",
      "Gold labels:  c c c c c i c i i c c i i c c c c c\n",
      "Pred labels:  c c c c c c c c i c c c c c c c c c\n",
      "Gold:         Also , it was certain for me buy a discount ticket because I am a student .\n",
      "Correction 1: Also, it was certain to me that I bought a discount ticket because I am a student.\n",
      "Correction 2: Also, it was certain to me that I buy a discount ticket because I am a student.\n",
      "Correction 3: Also, it was certain for me to have bought a discount ticket because I am a student.\n",
      "Correction 4: Also, it was certain to me to have bought a discount tickets because I am a student.\n",
      "Correction 5: Also, it was certain to me to buy a discount ticket because I am a student.\n",
      "Error types:  ['FV', 'RT', 'NO_LABEL', 'AGN', 'SX']\n",
      "\n"
     ]
    },
    {
     "name": "stderr",
     "output_type": "stream",
     "text": [
      " 89%|██████████████████████████████████████▍    | 17/19 [07:11<00:40, 20.12s/it]"
     ]
    },
    {
     "name": "stdout",
     "output_type": "stream",
     "text": [
      "\n",
      "Original:     In the letter you said that accommodation provided can be either tents or log cabins .\n",
      "Gold labels:  c c c c c c i c c c c i c i i c\n",
      "Pred labels:  c c c c c c c c c c c c c c c c\n",
      "Gold:         In the letter you said that provided can be either tent or log cabin log cabin .\n",
      "Correction 1: In the letter, you said that accommodation provided can be either tents or log cabins.\n",
      "Correction 2: In the letter you said that the accommodation provided can be either tents or log cabins.\n",
      "Correction 3: In the letter you said that accommodations provided can be either tents or log cabins.\n",
      "Correction 4: In the letter you said that the accommodations provided can be either tents or log cabins.\n",
      "Correction 5: In the letter, you said that the accommodations provided can be either tents or log cabins.\n",
      "Error types:  ['AGN', 'NO_LABEL']\n",
      "\n"
     ]
    },
    {
     "name": "stderr",
     "output_type": "stream",
     "text": [
      " 95%|████████████████████████████████████████▋  | 18/19 [07:54<00:27, 27.00s/it]"
     ]
    },
    {
     "name": "stdout",
     "output_type": "stream",
     "text": [
      "\n",
      "Original:     I would prefer to stay in tents rather than in log cabins , because it would be a new experience for me and I would like to try something different .\n",
      "Gold labels:  c c c c c c i c c c i i c c c c c c c c c c c c c c c c c c c\n",
      "Pred labels:  c c c c c c c c c c c c c c c c c c c c c c c c c c c c c c c\n",
      "Gold:         I would prefer to stay in tent rather than in log cabin log cabin , because it would be a new experience for me and I would like to try something different .\n",
      "Correction 1: I would prefer to stay in tents rather than log cabins because it would be a new experience for me and I would like to try something different.\n",
      "Correction 2: I would prefer staying in tents rather than in log cabins because it would be a new experience for me and I would like to try something different.\n",
      "Correction 3: I would prefer to stay in tents rather than log cabins, because it would be a new experience for me and I would like to try something different.\n",
      "Correction 4: I would prefer to stay in tents rather than in log cabins; because it would be a new experience for me and I would like to try something different.\n",
      "Correction 5: I would prefer staying in tents rather than log cabins because it would be a new experience for me and I would like to try something different.\n",
      "Error types:  ['AGN']\n",
      "\n"
     ]
    },
    {
     "name": "stderr",
     "output_type": "stream",
     "text": [
      "100%|███████████████████████████████████████████| 19/19 [08:09<00:00, 25.74s/it]"
     ]
    },
    {
     "name": "stdout",
     "output_type": "stream",
     "text": [
      "\n",
      "Original:     But I could n't shut my mouth , I continued : \"\"\"\" You ca n't believe it Pat , she wears trousers like men and green flowery blouses \"\"\"\" Of course , my friend and I were laughing during half an hour .\n",
      "Gold labels:  c c c c c c c c c c c c c c c c c c c c c c c i c c c c c c c c c c c c c c i c c c c\n",
      "Pred labels:  c c c c c c c c c c c c c c c c c c c c c c c c c c c c c c c c c c c c c c i c c c c\n",
      "Gold:         But I could n't shut my mouth , I continued : \"\"\"\" You ca n't believe it Pat , she wears trousers like man and green flowery blouses \"\"\"\" Of course , my friend and I were laughing for half an hour .\n",
      "Correction 1: But I couldn't shut my mouth. I continued: \"You can't believe it, Pat. She wears trousers like men and green flowery blouses.\" Of course, my friend and I were laughing for half an hour.\n",
      "Error types:  ['AGN', 'RT']\n",
      "\n"
     ]
    },
    {
     "name": "stderr",
     "output_type": "stream",
     "text": [
      "\n"
     ]
    },
    {
     "name": "stdout",
     "output_type": "stream",
     "text": [
      "[Attempt 1/1] Error: Connection error.. Retrying in 2 seconds...\n"
     ]
    },
    {
     "name": "stderr",
     "output_type": "stream",
     "text": [
      "\r",
      " 95%|█████████▍| 18/19 [01:59<00:06,  6.52s/it]"
     ]
    },
    {
     "name": "stdout",
     "output_type": "stream",
     "text": [
      "[SKIPPED] Model did not respond in time. Skipping this sentence.\n",
      "Attempt 2: Empty response, retrying...\n",
      "\n",
      "Original: I would prefer to stay in tents rather than in log cabins , because it would be a new experience for me and I would like to try something different .\n",
      "No corrections found.\n",
      "\n"
     ]
    },
    {
     "name": "stdout",
     "output_type": "stream",
     "text": [
      "[Attempt 1/1] Error: Connection error.. Retrying in 2 seconds...\n"
     ]
    },
    {
     "name": "stdout",
     "output_type": "stream",
     "text": [
      "[SKIPPED] Model did not respond in time. Skipping this sentence.\n",
      "Attempt 1: Empty response, retrying...\n"
     ]
    },
    {
     "name": "stdout",
     "output_type": "stream",
     "text": [
      "[Attempt 1/1] Error: Connection error.. Retrying in 2 seconds...\n"
     ]
    },
    {
     "name": "stderr",
     "output_type": "stream",
     "text": [
      "\r",
      "100%|██████████| 19/19 [02:06<00:00,  6.63s/it]"
     ]
    },
    {
     "name": "stderr",
     "output_type": "stream",
     "text": [
      "\r",
      "100%|██████████| 19/19 [02:06<00:00,  6.67s/it]"
     ]
    },
    {
     "name": "stdout",
     "output_type": "stream",
     "text": [
      "[SKIPPED] Model did not respond in time. Skipping this sentence.\n",
      "Attempt 2: Empty response, retrying...\n",
      "\n",
      "Original: As state in your letter I have to choose the accommodation type . I would prefer to stay in tents because since I was a child I have being using this type of accommodation .\n",
      "No corrections found.\n",
      "\n"
     ]
    },
    {
     "name": "stderr",
     "output_type": "stream",
     "text": [
      "\n"
     ]
    }
   ],
   "source": [
    "all_AGN_roberta_corrections_FN = []\n",
    "\n",
    "for sentence in tqdm(roberta_fce_only_fn_error_type['AGN']):\n",
    "    sentence_corrections = get_corrections_tokenized_with_labels_from_data_bert(sentence, client)\n",
    "    all_AGN_roberta_corrections_FN.append(sentence_corrections)"
   ]
  },
  {
   "cell_type": "markdown",
   "id": "0e599dcd-e681-4ce5-86fb-ba88886d3a0e",
   "metadata": {},
   "source": [
    "### ROBERTA --> RV"
   ]
  },
  {
   "cell_type": "code",
   "execution_count": 49,
   "id": "a1a6737e-7b99-40d4-8ec8-7264f988f4e2",
   "metadata": {
    "scrolled": true
   },
   "outputs": [
    {
     "name": "stderr",
     "output_type": "stream",
     "text": [
      "  1%|▍                                          | 1/105 [00:30<52:18, 30.18s/it]"
     ]
    },
    {
     "name": "stdout",
     "output_type": "stream",
     "text": [
      "\n",
      "Original:     The other activity I would like to take is tennis , I 'm quite good at it and I have been practising for four years .\n",
      "Gold labels:  c c c c c c c i c c c c c c c c c c c c c i c c c c\n",
      "Pred labels:  c c c c c c c c c c c c c c c c c c c c c c c c c c\n",
      "Gold:         The other activity I would like to do is tennis , I 'm quite good at it and I have been playing for four years .\n",
      "Correction 1: The other activity I would like to take is tennis. I'm quite good at it and have been practising for four years.\n",
      "Correction 2: The other activities I would like to take are tennis, I'm quite good at it and have been practising for four years.\n",
      "Correction 3: I would like to take another activity, which is tennis; I'm quite good at it and have been practising for four years.\n",
      "Correction 4: Tennis is the other activity I would like to take, I'm quite good at it and have been practising for four years.\n",
      "Correction 5: The other activity I would like to take is tennis; I am quite good at it and have been practising for four years.\n",
      "Error types:  ['RV']\n",
      "\n"
     ]
    },
    {
     "name": "stderr",
     "output_type": "stream",
     "text": [
      "  2%|▊                                          | 2/105 [00:45<37:02, 21.57s/it]"
     ]
    },
    {
     "name": "stdout",
     "output_type": "stream",
     "text": [
      "\n",
      "Original:     But everyone always noticed he had secrets from his face .\n",
      "Gold labels:  c c c i i i i i i i c\n",
      "Pred labels:  c c c c c c c i c c c\n",
      "Gold:         But everyone always saw from his face he had a secret from his face he had a secret secret .\n",
      "Correction 1: But everyone always noticed that he had secrets from his face.\n",
      "Correction 2: But everyone always noticed his secrets from his face.\n",
      "Correction 3: But everyone always noticed the signs of his secrets in his face.\n",
      "Correction 4: But everyone always noticed that he hid secrets in his face.\n",
      "Correction 5: But everyone always noticed his hidden secrets in his face.\n",
      "Error types:  ['AGN', 'NO_LABEL', 'RV', 'W']\n",
      "\n"
     ]
    },
    {
     "name": "stderr",
     "output_type": "stream",
     "text": [
      "  3%|█▏                                         | 3/105 [01:11<40:03, 23.56s/it]"
     ]
    },
    {
     "name": "stdout",
     "output_type": "stream",
     "text": [
      "\n",
      "Original:     But when we talked to the doctor we felt more relaxed because he answered us that the operation was a very simple one .\n",
      "Gold labels:  c c c c c c c c c c c c c i c c c c c c c c c c\n",
      "Pred labels:  c c c c c c c c c c c c c c c c c c c c c c c c\n",
      "Gold:         But when we talked to the doctor we felt more relaxed because he told us that the operation was a very simple one .\n",
      "Correction 1: But when we talked to the doctor, we felt more relaxed because he answered us that the operation was a very simple one.\n",
      "Correction 2: But when we talked to the doctor we felt more relaxed because he answered that the operation was a very simple one.\n",
      "Correction 3: But when we talked to the doctor we felt more relaxed because he answered us that the operation was very simple.\n",
      "Correction 4: But when we spoke to the doctor we felt more relaxed because he answered us that the operation was a very simple one.\n",
      "Correction 5: But when we spoke to the doctor we felt more relaxed because he told us that the operation was a very simple one.\n",
      "Error types:  ['RV']\n",
      "\n"
     ]
    },
    {
     "name": "stderr",
     "output_type": "stream",
     "text": [
      "  4%|█▋                                         | 4/105 [01:50<50:02, 29.73s/it]"
     ]
    },
    {
     "name": "stdout",
     "output_type": "stream",
     "text": [
      "\n",
      "Original:     Some days ago , when the school was ending , Pat and her friends decided to make a party for their friend , Frances , because the end of the school and the Francis 's birthday were the same day .\n",
      "Gold labels:  c c c c c c c c i c c c c c c c i c c c c c c c c c c c c c c i c c c c c i c c c\n",
      "Pred labels:  c c c c c c c c c c c c c c c c i c c c c c c c c c c c c c c c c c c c c c c c c\n",
      "Gold:         Some days ago , when the school was coming to an end , Pat and her friends decided to throw a party for their friend , Frances , because the end of the school the Francis 's birthday were same day .\n",
      "Correction 1: Some days ago, when the school was ending, Pat and her friends decided to make a party for their friend Frances because the end of the school and Francis's birthday were the same day.\n",
      "Correction 2: Some days ago, when the school was ending, Pat and her friends decided to make a party for their friend Frances because the end of the school year and Francis's birthday were on the same day.\n",
      "Correction 3: Some days ago, when the school was ending, Pat and her friends decided to make a party for their friend Frances because the end of the academic year and Francis's birthday were the same day.\n",
      "Correction 4: Some days ago, when the school year ended, Pat and her friends decided to make a party for their friend Frances because the end of the school year and Francis's birthday were on the same day.\n",
      "Correction 5: Some days ago, when the school was ending, Pat and her friends decided to make a party for their friend Frances because the end of the school year and Francis's birthday coincided.\n",
      "Error types:  ['NO_LABEL', 'RV']\n",
      "\n"
     ]
    },
    {
     "name": "stderr",
     "output_type": "stream",
     "text": [
      "  5%|██                                         | 5/105 [02:04<40:08, 24.08s/it]"
     ]
    },
    {
     "name": "stdout",
     "output_type": "stream",
     "text": [
      "\n",
      "Original:     You can not lose the time because all the other shops could be closed when you arrive .\n",
      "Gold labels:  c c c i c c c c c c c c c c c c c c\n",
      "Pred labels:  c c c c c c c c c c c c c c c c c c\n",
      "Gold:         You can not waste the time because all the other shops could be closed when you arrive .\n",
      "Correction 1: You cannot lose time because all other shops could be closed when you arrive.\n",
      "Correction 2: You can't lose the time because other shops might be closed when you arrive.\n",
      "Correction 3: You cannot afford to lose time because all the other shops might be closed when you arrive.\n",
      "Correction 4: You can not waste time because all other shops could be closed when you arrive.\n",
      "Correction 5: You cannot lose time because other shops may be closed when you arrive.\n",
      "Error types:  ['RV']\n",
      "\n"
     ]
    },
    {
     "name": "stderr",
     "output_type": "stream",
     "text": [
      "  6%|██▍                                        | 6/105 [02:56<55:03, 33.37s/it]"
     ]
    },
    {
     "name": "stdout",
     "output_type": "stream",
     "text": [
      "\n",
      "Original:     But , if there is a problem that the show is on Tuesday afternoon , the same hour with shopping , I suggest having the shopping on Wednesday afternoon that we will not have anything to do !\n",
      "Gold labels:  c c c c c c c i c c c c c c c c c i i i c c c i c c c c c i c c c c c c c c\n",
      "Pred labels:  c c c c c c c c c c c c c c c c c i c c c c c c c c c c c c c c c c c c c c\n",
      "Gold:         But , if there is a problem because the show is on Tuesday afternoon , the same time as our shopping trip , I suggest going the shopping on Wednesday afternoon when we will not have anything to do !\n",
      "Correction 1: But if there is a problem that the show is on Tuesday afternoon and the same hour as shopping, I suggest having the shopping on Wednesday afternoon so we won't have anything to do!\n",
      "Correction 2: But if there is a problem that the show is on Tuesday afternoon and the same time as shopping, I suggest having the shopping on Wednesday afternoon that we will not have anything to do!\n",
      "Correction 3: But if there is a problem that the show is on Tuesday afternoon and the same hour with shopping, I suggest having the shopping on Wednesday afternoon so we won't have anything to do!\n",
      "Correction 4: But if there is a problem that the show is on Tuesday afternoon and the same time as shopping, I suggest having the shopping on Wednesday afternoon that we will not have anything to do!\n",
      "Correction 5: But if there is a problem that the show is on Tuesday afternoon and the same hour with shopping, I suggest having the shopping on Wednesday afternoon so we won't have anything to do!\n",
      "Error types:  ['RV', 'RT', 'RC', 'M', 'RN']\n",
      "\n"
     ]
    },
    {
     "name": "stderr",
     "output_type": "stream",
     "text": [
      "  7%|██▊                                        | 7/105 [03:21<50:11, 30.73s/it]"
     ]
    },
    {
     "name": "stdout",
     "output_type": "stream",
     "text": [
      "\n",
      "Original:     ON THE OTHER HAND - IT 'S VERY COMFORTABLE TO SEAT AT HOME , CALL AND WAIT FOR THE ORDER REALISATION .\n",
      "Gold labels:  c c c c c c c c c c i c c c c c c c c c c c\n",
      "Pred labels:  c c c c c c c c c c c c c c c c c c c c c c\n",
      "Gold:         ON THE OTHER HAND - IT 'S VERY COMFORTABLE TO SIT AT HOME , CALL AND WAIT FOR THE ORDER REALISATION .\n",
      "Correction 1: ON THE OTHER HAND IT'S VERY COMFORTABLE TO SEAT AT HOME CALL AND WAIT FOR THE ORDER REALISATION .\n",
      "Correction 2: ON THE OTHER HAND IT'S VERY COMFORTABLE TO SEAT AT HOME CALL AND WAIT FOR THE ORDER TO BE REALISED .\n",
      "Correction 3: ON THE OTHER HAND IT'S VERY COMFORTABLE TO SEAT AT HOME CALL AND WAIT FOR THE ORDER REALISATION .\n",
      "Correction 4: ON THE OTHER HAND IT'S VERY COMFORTABLE TO SEAT AT HOME CALL AND WAIT FOR THE ORDER .\n",
      "Correction 5: ON THE OTHER HAND IT'S VERY COMFORTABLE TO SEAT AT HOME . CALL AND WAIT FOR THE ORDER REALISATION .\n",
      "Error types:  ['RV']\n",
      "\n"
     ]
    },
    {
     "name": "stderr",
     "output_type": "stream",
     "text": [
      "  8%|███▎                                       | 8/105 [03:36<41:28, 25.66s/it]"
     ]
    },
    {
     "name": "stdout",
     "output_type": "stream",
     "text": [
      "\n",
      "Original:     It was a surprise to know that I won the first prize .\n",
      "Gold labels:  c c c c c i c c c c c c c\n",
      "Pred labels:  c c c c c c c c c c c c c\n",
      "Gold:         It was a surprise to learn that I won the first prize .\n",
      "Correction 1: It was a surprise to know that I won first prize.\n",
      "Correction 2: It was surprising to know that I won the first prize.\n",
      "Correction 3: It was a surprise to know that I won the prize.\n",
      "Correction 4: A surprise it was to know that I won the first prize.\n",
      "Correction 5: It was a surprise knowing that I won the first prize.\n",
      "Error types:  ['RV']\n",
      "\n"
     ]
    },
    {
     "name": "stderr",
     "output_type": "stream",
     "text": [
      "  9%|███▋                                       | 9/105 [04:08<44:13, 27.64s/it]"
     ]
    },
    {
     "name": "stdout",
     "output_type": "stream",
     "text": [
      "\n",
      "Original:     We were only waiting for Agatha who should come at 22 o'clock with her boyfriend .\n",
      "Gold labels:  c c c c c c c i i c c c c c c c\n",
      "Pred labels:  c c c c c c c c c c c c c c c c\n",
      "Gold:         We were only waiting for Agatha who was expected was expected at 22 o'clock with her boyfriend .\n",
      "Correction 1: We were only waiting for Agatha, who should come at 22:00 with her boyfriend.\n",
      "Correction 2: We were only waiting for Agatha who should have come at 22 o'clock with her boyfriend.\n",
      "Correction 3: We were only waiting for Agatha who should come at 10 p.m. with her boyfriend.\n",
      "Correction 4: We were only waiting for Agatha who should come at 22 o'clock with her boyfriend.\n",
      "Correction 5: We were only waiting for Agatha who should come at 22:00 with her boyfriend.\n",
      "Error types:  ['RV']\n",
      "\n"
     ]
    },
    {
     "name": "stderr",
     "output_type": "stream",
     "text": [
      " 10%|████                                      | 10/105 [04:49<50:27, 31.86s/it]"
     ]
    },
    {
     "name": "stdout",
     "output_type": "stream",
     "text": [
      "\n",
      "Original:     From my point of view , people 's home in the future will be controlled by a computer which is devised in every machine , TV , cooker and the light , connecting to the owner .\n",
      "Gold labels:  i i i i i c c c i c c c c c c c c c c c i i c c c c c c c c c c i c c c c\n",
      "Pred labels:  c c c c c c c c c c c c c c c c c c c c c i c c c c c c c c c c c c c c c\n",
      "Gold:         In my opinion In my opinion In my opinion In my opinion In my opinion , people 's homes in the future will be controlled by a computer which is built into every machine , TV , cooker and the light , connected to the owner .\n",
      "Correction 1: From my point of view, people's homes in the future will be controlled by a computer which is designed into every machine, TV, cooker and light, connecting to the owner.\n",
      "Correction 2: From my point of view, people's homes in the future will be controlled by computers which are devised in every machine, TV, cooker and light, connecting to the owner.\n",
      "Correction 3: From my point of view, people's homes in the future will be controlled by a computer which is devised into every machine, TV, cooker and light, connecting to the owner.\n",
      "Correction 4: From my point of view, people's homes in the future will be controlled by a computer which is designed into every machine, TV, cooker and light, connecting to the owner.\n",
      "Correction 5: From my point of view, people's homes in the future will be controlled by computers which are devised in every machine, TV, cooker and light, connecting to the owner.\n",
      "Error types:  ['RV', 'TV', 'RT', 'FN', 'ID']\n",
      "\n"
     ]
    },
    {
     "name": "stderr",
     "output_type": "stream",
     "text": [
      " 10%|████▍                                     | 11/105 [05:24<51:19, 32.76s/it]"
     ]
    },
    {
     "name": "stdout",
     "output_type": "stream",
     "text": [
      "\n",
      "Original:     Secondly , computers are useful for us as well , because we do not need to go somewhere if we want to have information , for example traveling .\n",
      "Gold labels:  c c c c c c c c c c c c c c c c c c c c c c i c c c c i c\n",
      "Pred labels:  c c c c c c c c c c c c c c c c c c c c c c c c c c c i c\n",
      "Gold:         Secondly , computers are useful for us as well , because we do not need to go somewhere if we want to get information , for example travelling .\n",
      "Correction 1: Secondly, computers are useful for us as well because we do not need to go somewhere if we want information. For example, traveling.\n",
      "Correction 2: Secondly, computers are useful for us as well because we do not need to go anywhere if we want information. For example, traveling.\n",
      "Correction 3: Secondly, computers are useful for us as well because we do not need to go somewhere if we want information. Traveling, for example.\n",
      "Correction 4: Secondly, computers are useful for us as well because we do not need to go somewhere if we want information. For example: traveling.\n",
      "Correction 5: Secondly, computers are useful for us as well because we do not need to go anywhere if we want information. For example - traveling.\n",
      "Error types:  ['IV', 'RV']\n",
      "\n"
     ]
    },
    {
     "name": "stderr",
     "output_type": "stream",
     "text": [
      " 11%|████▊                                     | 12/105 [05:43<44:18, 28.59s/it]"
     ]
    },
    {
     "name": "stdout",
     "output_type": "stream",
     "text": [
      "\n",
      "Original:     It shows , when all member of a group work hard together , you can reach a lot .\n",
      "Gold labels:  c c i c c i c c c c c c c c c i c c c\n",
      "Pred labels:  c c c c c i c c c c c c c c c c c c c\n",
      "Gold:         It shows when all members of a group work hard together , you can achieve a lot .\n",
      "Correction 1: It shows that when all members of a group work hard together, you can reach a lot.\n",
      "Correction 2: It shows when all members of a group work hard together you can reach a lot.\n",
      "Correction 3: It shows when all members of a group work hard together you can reach many.\n",
      "Correction 4: It shows when all members in a group work hard together you can reach a lot.\n",
      "Correction 5: It shows that when all members in a group work hard together you can reach a lot.\n",
      "Error types:  ['AGN', 'NO_LABEL', 'RV']\n",
      "\n"
     ]
    },
    {
     "name": "stderr",
     "output_type": "stream",
     "text": [
      " 12%|█████▏                                    | 13/105 [06:17<46:31, 30.35s/it]"
     ]
    },
    {
     "name": "stdout",
     "output_type": "stream",
     "text": [
      "\n",
      "Original:     We know we are going for three days , but we 'll have enough time to use one of the bigger city in the world .\n",
      "Gold labels:  c c c c c c i c c c c c c c c c i c c c i i c c c c\n",
      "Pred labels:  c c c c c c c c c c c c c c c c c c c c c i c c c c\n",
      "Gold:         We know we are going for days , but we 'll have enough time to see one of the biggest cities in the world .\n",
      "Correction 1: We know we are going for three days, but we'll have enough time to use one of the bigger cities in the world.\n",
      "Correction 2: We know we are going for three days, but we'll have enough time to use one of the largest cities in the world.\n",
      "Correction 3: We know we are going for three days, but we'll have enough time to visit one of the bigger cities in the world.\n",
      "Correction 4: We know we are going for three days, but we'll have enough time to use one of the biggest cities in the world.\n",
      "Correction 5: We know we are going for three days, but we'll have enough time to use one of the major cities in the world.\n",
      "Error types:  ['AGN', 'NO_LABEL', 'RV', 'FJ']\n",
      "\n"
     ]
    },
    {
     "name": "stderr",
     "output_type": "stream",
     "text": [
      " 13%|█████▌                                    | 14/105 [06:45<44:54, 29.61s/it]"
     ]
    },
    {
     "name": "stdout",
     "output_type": "stream",
     "text": [
      "\n",
      "Original:     Another thing I would like to choose from the activity list is singing ( because I take part in a chorus at school ) and photography .\n",
      "Gold labels:  i i c c c c c c c c c i c c c c i i i c i c c c c c c\n",
      "Pred labels:  c c c c c c c c c c c c c c c c c c c c c c c c c c c\n",
      "Gold:         The activities The activities I would like to choose from the activity list are singing ( because I belong to belong to belong to a choir at school ) and photography .\n",
      "Correction 1: Another thing I would like to choose from the activity list is singing because I take part in a chorus at school and photography.\n",
      "Correction 2: Another thing I would like to choose from the activity list is singing (because I take part in a chorus at school) and photography.\n",
      "Correction 3: Another thing I would like to choose from the activity list is singing and photography because I take part in a chorus at school.\n",
      "Correction 4: Another thing I would like to choose from the activity list is singing and photography .\n",
      "Correction 5: Another thing I would like to choose from the activity list is singing (because I take part in a chorus at school).\n",
      "Error types:  ['RV', 'AGV', 'R', 'RN']\n",
      "\n"
     ]
    },
    {
     "name": "stderr",
     "output_type": "stream",
     "text": [
      " 14%|██████                                    | 15/105 [07:00<37:51, 25.24s/it]"
     ]
    },
    {
     "name": "stdout",
     "output_type": "stream",
     "text": [
      "\n",
      "Original:     At that time he was unconcious , I kept asking myself ' should I wake him up or try to use my unsure first aid skill to deal with him .\n",
      "Gold labels:  c c c c c i c c c c c c i c c c c c c c c c i c c i c i c c c\n",
      "Pred labels:  c c c c c i c c c c c c i c c c c c c c c c c c c c c c c c c\n",
      "Gold:         At that time he was unconscious , I kept asking myself ' Should I wake him up or try to use my dubious first aid skills to help with him .\n",
      "Correction 1: At that time, he was unconscious. I kept asking myself: Should I wake him up or try to use my uncertain first-aid skills to help him?\n",
      "Error types:  ['RV', 'RP', 'RJ', 'FN', 'S']\n",
      "\n"
     ]
    },
    {
     "name": "stderr",
     "output_type": "stream",
     "text": [
      " 15%|██████▍                                   | 16/105 [07:29<38:57, 26.26s/it]"
     ]
    },
    {
     "name": "stdout",
     "output_type": "stream",
     "text": [
      "\n",
      "Original:     However I ca n't agree with opinion that , , Shopping is not always enjoyable '' I think that everybody like to buy but not everybody like to see pleasure in it .\n",
      "Gold labels:  c c c c c c i c c c c c c c c c c c c c i c c c c c i c i c c c c\n",
      "Pred labels:  c c c c c c i c c c c c c c c c c c c c i c c c c c i c c c c c c\n",
      "Gold:         However I ca n't agree with that , , Shopping is not always enjoyable '' I think that everybody likes to buy but not everybody likes to take pleasure in it .\n",
      "Correction 1: However I can't agree with the opinion that, Shopping is not always enjoyable. I think that everybody likes to buy but not everybody finds pleasure in it.\n",
      "Correction 2: However I can't agree with the opinion that shopping is not always enjoyable. I think that everybody likes to buy but not everybody finds pleasure in it.\n",
      "Correction 3: However I cannot agree with the opinion that, \"Shopping is not always enjoyable.\" I think that everybody likes to buy but not everybody finds pleasure in it.\n",
      "Correction 4: However I cannot agree with the opinion that, \"Shopping is not always enjoyable.\" I think that everybody likes to buy but not everybody likes to see pleasure in it.\n",
      "Correction 5: However I can't agree with the opinion that shopping is not always enjoyable. I think that everybody like to buy but not everybody find pleasure in it.\n",
      "Error types:  ['RV', 'NO_LABEL', 'AGV']\n",
      "\n"
     ]
    },
    {
     "name": "stderr",
     "output_type": "stream",
     "text": [
      " 16%|██████▊                                   | 17/105 [08:26<52:03, 35.49s/it]"
     ]
    },
    {
     "name": "stdout",
     "output_type": "stream",
     "text": [
      "\n",
      "Original:     And the other one , I think painting will be a good idea ; Painting is one of my hobbies and I 've been learning it since I was 5 years old and now I 'm still doing it once I have free time .\n",
      "Gold labels:  c i c c c c c c c c c c c c i c c c c c c c c c i c c c c c c c c c c c c c c i c c i c c\n",
      "Pred labels:  c c c c c c c c c c c c c c c c c c c c c c c c c c c c c c c c c c c c c c c c c c c c c\n",
      "Gold:         And other one , I think painting will be a good idea ; painting is one of my hobbies and I 've been studying it since I was 5 years old and now I 'm still doing it when I have time .\n",
      "Correction 1: And the other one, I think painting will be a good idea; Painting is one of my hobbies and I've been learning it since I was 5 years old, and now I'm still doing it whenever I have free time.\n",
      "Correction 2: And the other one, I think painting will be a good idea; Painting is one of my hobbies and I've been learning it since I was five years old and now I'm still doing it once I have free time.\n",
      "Correction 3: And the other one, I think painting will be a good idea; Painting is one of my hobbies and I've been learning it since I was 5 years old but now I'm still doing it whenever I have free time.\n",
      "Correction 4: And the other one, I think painting will be a good idea; Painting is one of my hobbies and I've been learning it since I was five years old but now I'm still doing it once I have free time.\n",
      "Correction 5: And the other one, I think painting will be a good idea; Painting is one of my hobbies and I've been learning it since I was 5 years old and now I'm still doing it whenever I have free time.\n",
      "Error types:  ['RV', 'NO_LABEL', 'RP', 'R']\n",
      "\n"
     ]
    },
    {
     "name": "stderr",
     "output_type": "stream",
     "text": [
      " 17%|███████▏                                  | 18/105 [09:01<51:08, 35.27s/it]"
     ]
    },
    {
     "name": "stdout",
     "output_type": "stream",
     "text": [
      "\n",
      "Original:     This is because people wo n't miss the great taste of food although it could be subsituted to a vitamin pill or two .\n",
      "Gold labels:  c c c c c c i c c c c c i c c c i i c c c c c c\n",
      "Pred labels:  c c c c c c c c c c c c c c c c i c c c c c c c\n",
      "Gold:         This is because people wo n't give up the great taste of food . Although it could be substituted with a vitamin pill or two .\n",
      "Correction 1: This is because people won't miss the great taste of food although it could be substituted to a vitamin pill or two.\n",
      "Correction 2: This is because people won't miss the great taste of food although it could be substituted by a vitamin pill or two.\n",
      "Correction 3: This is because people won't miss the great taste of food although it could be substituted with a vitamin pill or two.\n",
      "Correction 4: This is because people won't miss the great taste of food although it could be substituted for a vitamin pill or two.\n",
      "Correction 5: This is because people won't miss the great taste of food although it could be substituted into a vitamin pill or two.\n",
      "Error types:  ['MP', 'RV', 'S', 'RT']\n",
      "\n"
     ]
    },
    {
     "name": "stderr",
     "output_type": "stream",
     "text": [
      " 18%|███████▌                                  | 19/105 [09:09<38:48, 27.07s/it]"
     ]
    },
    {
     "name": "stdout",
     "output_type": "stream",
     "text": [
      "\n",
      "Original:     Hopping to hear from you\n",
      "Gold labels:  i c c c c\n",
      "Pred labels:  c c c c c\n",
      "Gold:         Hoping to hear from you\n",
      "Correction 1: Hoping to hear from you\n",
      "Correction 2: Hoping to hear from you soon\n",
      "Correction 3: Hoping to hear from you later\n",
      "Correction 4: Hoping to hear from you soon.\n",
      "Correction 5: Hoping to hear from you later.\n",
      "Error types:  ['RV']\n",
      "\n"
     ]
    },
    {
     "name": "stderr",
     "output_type": "stream",
     "text": [
      " 19%|████████                                  | 20/105 [09:23<32:56, 23.26s/it]"
     ]
    },
    {
     "name": "stdout",
     "output_type": "stream",
     "text": [
      "\n",
      "Original:     During my 2 week 's holiday I would like to attend a musical show .\n",
      "Gold labels:  c c c i i c c i i c c c c c c\n",
      "Pred labels:  c c c i c c c c c c c c c c c\n",
      "Gold:         During my 2 weeks' weeks' holiday I wanted wanted to attend a musical show .\n",
      "Correction 1: During my 2-week holiday, I would like to attend a musical show.\n",
      "Correction 2: During my two weeks' holiday, I would like to attend a musical show.\n",
      "Correction 3: During my 2-weeks holiday I would like to attend a musical show.\n",
      "Correction 4: During my 2 week holiday I would like to attend a musical show.\n",
      "Correction 5: During my 2-weeks' holiday I would like to attend a musical show.\n",
      "Error types:  ['RV', 'RP']\n",
      "\n"
     ]
    },
    {
     "name": "stderr",
     "output_type": "stream",
     "text": [
      " 20%|████████▍                                 | 21/105 [09:47<32:44, 23.39s/it]"
     ]
    },
    {
     "name": "stdout",
     "output_type": "stream",
     "text": [
      "\n",
      "Original:     The sun was shining and wind were breezing like we had imaged .\n",
      "Gold labels:  c c c c c i i i c c c i c\n",
      "Pred labels:  c c c c c i i c c c c i c\n",
      "Gold:         The sun was shining and was blowing like we had imagined .\n",
      "Correction 1: The sun was shining and the wind was breezing like we had imagined.\n",
      "Correction 2: The sun was shining and winds were breezing like we had imaged.\n",
      "Correction 3: The sun was shining and the wind was breezing like we had imaged.\n",
      "Correction 4: The sun was shining and the wind was breezing as we had imaged.\n",
      "Correction 5: The sun was shining and the wind was breezing like we had imagined.\n",
      "Error types:  ['RV', 'NO_LABEL', 'AGV']\n",
      "\n"
     ]
    },
    {
     "name": "stderr",
     "output_type": "stream",
     "text": [
      " 21%|████████▊                                 | 22/105 [09:54<25:31, 18.46s/it]"
     ]
    },
    {
     "name": "stdout",
     "output_type": "stream",
     "text": [
      "\n",
      "Original:     Sometimes , they are happy to do shopping .\n",
      "Gold labels:  c c c c c c i c c\n",
      "Pred labels:  c c c c c c c c c\n",
      "Gold:         Sometimes , they are happy to go shopping .\n",
      "Correction 1: Sometimes they are happy to shop.\n",
      "Correction 2: Sometimes, they are happy to do shopping.\n",
      "Correction 3: Sometimes, they are happy to go shopping.\n",
      "Correction 4: Sometimes they are happy doing shopping.\n",
      "Correction 5: Sometimes, they are happy shopping.\n",
      "Error types:  ['RV']\n",
      "\n"
     ]
    },
    {
     "name": "stderr",
     "output_type": "stream",
     "text": [
      " 22%|█████████▏                                | 23/105 [09:57<18:59, 13.90s/it]"
     ]
    },
    {
     "name": "stdout",
     "output_type": "stream",
     "text": [
      "\n",
      "Original:     According to the advertisement you gave , there have been some important differents .\n",
      "Gold labels:  c c c c c i c c i c c c i i\n",
      "Pred labels:  c c c c c c c c i c c c i c\n",
      "Gold:         According to the advertisement you published , there been some important differences\n",
      "Correction 1: According to the advertisement you gave, there have been some important differences.\n",
      "Error types:  ['NO_LABEL', 'RV', 'S']\n",
      "\n"
     ]
    },
    {
     "name": "stderr",
     "output_type": "stream",
     "text": [
      " 23%|█████████▌                                | 24/105 [10:21<22:57, 17.01s/it]"
     ]
    },
    {
     "name": "stdout",
     "output_type": "stream",
     "text": [
      "\n",
      "Original:     I hoped that it , just could see 3 people , but it was mistake ...\n",
      "Gold labels:  c i c c c i i i i c c c i c i c\n",
      "Pred labels:  c c c c c i i c c c c c c c i c\n",
      "Gold:         I thought that it , only be seen people , but that was ...\n",
      "Correction 1: I hoped that it just could see 3 people but it was a mistake ...\n",
      "Correction 2: I hoped that it could just see 3 people but it was a mistake ...\n",
      "Correction 3: I hoped that it, just could see 3 people, but it was a mistake ...\n",
      "Correction 4: I hoped that it just could see three people but it was a mistake ...\n",
      "Correction 5: I hoped that it just could see 3 people but that was a mistake ...\n",
      "Error types:  ['RV', 'RY', 'TV', 'NO_LABEL', 'RA']\n",
      "\n"
     ]
    },
    {
     "name": "stderr",
     "output_type": "stream",
     "text": [
      " 24%|██████████                                | 25/105 [10:51<27:51, 20.89s/it]"
     ]
    },
    {
     "name": "stdout",
     "output_type": "stream",
     "text": [
      "\n",
      "Original:     I was just walking down by dressing room manager said that if I could help them .\n",
      "Gold labels:  c c c c c c i c i i c c c c c c c\n",
      "Pred labels:  c c c c c c i c c c c c c c c c c\n",
      "Gold:         I was just walking down by room asked that if I could help them .\n",
      "Correction 1: I was just walking down when the dressing room manager said that if I could help them.\n",
      "Correction 2: I was just walking down to the dressing room when the manager said that if I could help them.\n",
      "Correction 3: I was just walking down to the dressing room, and the manager said that if I could help them.\n",
      "Correction 4: I was just walking down to the dressing room; the manager said that if I could help them.\n",
      "Correction 5: I was just walking down to the dressing room when the manager said that if I could help them.\n",
      "Error types:  ['NO_LABEL', 'RV']\n",
      "\n"
     ]
    },
    {
     "name": "stderr",
     "output_type": "stream",
     "text": [
      " 25%|██████████▍                               | 26/105 [10:55<20:39, 15.69s/it]"
     ]
    },
    {
     "name": "stdout",
     "output_type": "stream",
     "text": [
      "\n",
      "Original:     It does n't matter what kind of carreer or job you are follow .\n",
      "Gold labels:  c c c c c c c i c c c i i c\n",
      "Pred labels:  c c c c c c c i c c c c i c\n",
      "Gold:         It does n't matter what kind of career or job you have following .\n",
      "Correction 1: It doesn't matter what kind of career or job you are following.\n",
      "Error types:  ['FV', 'RV', 'S']\n",
      "\n"
     ]
    },
    {
     "name": "stderr",
     "output_type": "stream",
     "text": [
      " 26%|██████████▊                               | 27/105 [12:05<41:40, 32.06s/it]"
     ]
    },
    {
     "name": "stdout",
     "output_type": "stream",
     "text": [
      "\n",
      "Original:     I THOUGHT IT WILL BE AT 19.3 AND I HAVE BEEN WAITING FOR FORTY FIVE MINUTES ! ! BESIDES THIS , I COULD NOT VISIT THE RESTAURANT IN THE THEATRE BECAUSE IT WAS CLOSED .\n",
      "Gold labels:  c c c i c c c c c i i i c c c c c c c c c c c c i c c c c c c c c c c\n",
      "Pred labels:  c c c c c c c c c c c c c c c c c c c c c c c c c c c c c c c c c c c\n",
      "Gold:         I THOUGHT IT WOULD BE AT 19.3 AND I WAITED WAITED WAITED FOR FORTY FIVE MINUTES ! ! BESIDES THIS , I COULD NOT GO TO THE RESTAURANT IN THE THEATRE BECAUSE IT WAS CLOSED .\n",
      "Correction 1: I THOUGHT IT WOULD BE AT 19:30 AND I HAVE BEEN WAITING FOR FORTY-FIVE MINUTES! BESIDES, I COULD NOT VISIT THE RESTAURANT IN THE THEATRE BECAUSE IT WAS CLOSED.\n",
      "Correction 2: I THOUGHT IT WILL BE AT 19.3 AND I HAVE BEEN WAITING FOR FORTY-FIVE MINUTES! BESIDES, I COULD NOT VISIT THE RESTAURANT IN THE THEATRE BECAUSE IT WAS CLOSED.\n",
      "Correction 3: I THOUGHT IT WILL BE AT 19:30 AND I HAVE BEEN WAITING FOR FORTY-FIVE MINUTES! BESIDES THIS, I COULD NOT VISIT THE RESTAURANT IN THE THEATRE.\n",
      "Correction 4: I THOUGHT IT WILL BE AT 19.3 AND I HAVE BEEN WAITING FOR FORTY-FIVE MINUTES! BESIDES THIS, I COULD NOT VISIT THE RESTAURANT IN THE THEATRE.\n",
      "Correction 5: I THOUGHT IT WOULD BE AT 19:30 AND I HAVE BEEN WAITING FOR FORTY-FIVE MINUTES! BESIDES THIS, I COULD NOT VISIT THE RESTAURANT IN THE THEATRE BECAUSE IT WAS CLOSED.\n",
      "Error types:  ['RV', 'TV']\n",
      "\n"
     ]
    },
    {
     "name": "stderr",
     "output_type": "stream",
     "text": [
      " 27%|███████████▏                              | 28/105 [12:28<37:36, 29.30s/it]"
     ]
    },
    {
     "name": "stdout",
     "output_type": "stream",
     "text": [
      "\n",
      "Original:     Moreover , some foreign students hope there will be some English classes that aim to the examination .\n",
      "Gold labels:  c c c c c c c c c c c c c i i c c c\n",
      "Pred labels:  c c c c c c c c c c c c c c c c c c\n",
      "Gold:         Moreover , some foreign students hope there will be some English classes that focus on focus on the examination .\n",
      "Correction 1: Moreover, some foreign students hope there will be some English classes that aim at the examination.\n",
      "Correction 2: Moreover, some foreign students hope there will be some English classes aimed at the examination.\n",
      "Correction 3: Moreover, some foreign students hope that there will be some English classes aiming to the examination.\n",
      "Correction 4: Moreover, some foreign students hope that there will be some English classes aiming at the examination.\n",
      "Correction 5: Moreover, some foreign students hope there will be some English classes that aim at the examinations.\n",
      "Error types:  ['RV']\n",
      "\n"
     ]
    },
    {
     "name": "stderr",
     "output_type": "stream",
     "text": [
      " 28%|███████████▌                              | 29/105 [13:16<44:06, 34.82s/it]"
     ]
    },
    {
     "name": "stdout",
     "output_type": "stream",
     "text": [
      "\n",
      "Original:     The public was so excited to see the concert that we had to place some bouncer front of the scene , to avoid the people coming on the concert floor .\n",
      "Gold labels:  c i c c c c c c c c c c c c c i i c c i c c i c c c c c c c c\n",
      "Pred labels:  c i c c c c c c c c c c c c c i i c c i c c c c c c c c c c c\n",
      "Gold:         The audience was so excited to see the concert that we had to place some bouncers of the stage , to stop the people coming on the concert floor .\n",
      "Correction 1: The public was so excited to see the concert that we had to place some bouncers in front of the scene to avoid people coming onto the concert floor.\n",
      "Correction 2: The public was so excited to see the concert that we had to place some bouncers at the front of the scene to avoid people entering the concert floor.\n",
      "Correction 3: The public was so excited to see the concert that we had to place some bouncers in front of the scene to avoid people entering the concert area.\n",
      "Correction 4: The public was so excited to see the concert that we had to place some bouncers at the entrance of the scene to prevent people from accessing the concert floor.\n",
      "Correction 5: The public was so excited to see the concert that we had to place some bouncers in front of the scene to stop people from getting on the concert floor.\n",
      "Correction 6: (Note: Since only five unique corrections are possible, there are no empty lines needed.)\n",
      "Error types:  ['RN', 'NO_LABEL', 'RV', 'AGN']\n",
      "\n"
     ]
    },
    {
     "name": "stderr",
     "output_type": "stream",
     "text": [
      " 29%|████████████                              | 30/105 [13:41<40:00, 32.00s/it]"
     ]
    },
    {
     "name": "stdout",
     "output_type": "stream",
     "text": [
      "\n",
      "Original:     For example , I was born knowing the man has stepped on the moon .\n",
      "Gold labels:  c c c c c c c i c c i c c c c\n",
      "Pred labels:  c c c c c c c c c c c c c c c\n",
      "Gold:         For example , I was born knowing that man has walked on the moon .\n",
      "Correction 1: For example, I was born knowing the man had stepped on the moon.\n",
      "Correction 2: For example, I was born knowing that the man has stepped on the moon.\n",
      "Correction 3: For example, I was born knowing that the man had stepped on the moon.\n",
      "Correction 4: For example, For instance, I was born knowing the man had stepped on the moon.\n",
      "Correction 5: For example, For instance, I was born knowing that the man had stepped on the moon.\n",
      "Correction 6: Note: The fifth line is left empty as fewer than five unique corrections are possible with the given sentence.\n",
      "Error types:  ['SX', 'RV']\n",
      "\n"
     ]
    },
    {
     "name": "stderr",
     "output_type": "stream",
     "text": [
      " 30%|████████████▍                             | 31/105 [13:53<31:53, 25.86s/it]"
     ]
    },
    {
     "name": "stdout",
     "output_type": "stream",
     "text": [
      "\n",
      "Original:     There would be many things to say about .\n",
      "Gold labels:  c i c c c c c c i\n",
      "Pred labels:  c c c c c c c c c\n",
      "Gold:         There could be many things to say about\n",
      "Correction 1: There would be many things to say about .\n",
      "Correction 2: There are many things to say about .\n",
      "Correction 3: There would be much to say about .\n",
      "Correction 4: There would be many things to say on .\n",
      "Correction 5: There would be many things to say regarding .\n",
      "Error types:  ['NO_LABEL', 'RV']\n",
      "\n"
     ]
    },
    {
     "name": "stderr",
     "output_type": "stream",
     "text": [
      " 30%|████████████▊                             | 32/105 [14:19<31:32, 25.93s/it]"
     ]
    },
    {
     "name": "stdout",
     "output_type": "stream",
     "text": [
      "\n",
      "Original:     Can you please give me some recomendations about the clothes I will need and also the cost of the food there to make my budget .\n",
      "Gold labels:  c c c c c c i c c c c c c c c c c c c c c c i c c c\n",
      "Pred labels:  c c c c c c i c c c c c c c c c c c c c c c c c c c\n",
      "Gold:         Can you please give me some recommendations about the clothes I will need and also the cost of the food there to plan my budget .\n",
      "Correction 1: Can you please give me some recommendations about the clothes I will need and also the cost of the food there to make my budget?\n",
      "Correction 2: Can you please give me some recommendations about the clothes I will need and the cost of the food there to make my budget?\n",
      "Correction 3: Can you please give me some recomendations about the clothes I will need and the cost of the food there to make my budget.\n",
      "Correction 4: Can you please give me some recomendations about the clothes I will need and also the cost of the food there to make a budget?\n",
      "Correction 5: Can you please give me some recommendations about the clothes I will need and also the cost of the food there to make my budgets?\n",
      "Error types:  ['RV', 'S']\n",
      "\n"
     ]
    },
    {
     "name": "stderr",
     "output_type": "stream",
     "text": [
      " 31%|█████████████▏                            | 33/105 [15:29<46:58, 39.14s/it]"
     ]
    },
    {
     "name": "stdout",
     "output_type": "stream",
     "text": [
      "\n",
      "Original:     I would be also grateful if you could send me information about the average living cost at California as I have to arrange the amount of money that I am going to spend , and some advice about the clothes that I need .\n",
      "Gold labels:  c c i i c c c c c c c c c c i i i c c c c c i c c c c c c c c c c c c c c c c c c c c c\n",
      "Pred labels:  c c c i c c c c c c c c c c c c c c c c c c c c c c c c c c c c c c c c c c c c c c c c\n",
      "Gold:         I would also be also be grateful if you could send me information about the average cost of living cost of living in California as I have to work out the amount of money that I am going to spend , and some advice about the clothes that I need .\n",
      "Correction 1: I would also be grateful if you could send me information about the average living cost in California as I have to arrange the amount of money that I am going to spend and some advice about the clothes that I need .\n",
      "Correction 2: I would be grateful if you could send me information about the average living cost in California as I have to arrange the amount of money that I am going to spend and some advice about the clothes that I need .\n",
      "Correction 3: I would be also grateful if you could send me information about the average living cost in California as I have to arrange the amount of money that I am going to spend and some advice about the clothes that I need .\n",
      "Correction 4: I would be also grateful if you could send me information about the average living cost at California as I have to arrange the amount of money that I am going to spend and some advice about the clothes that I need .\n",
      "Correction 5: I would be also grateful if you could send me information about the average living cost in California as I have to arrange the amount of money that I am going to spend and some advice about the clothes that I need .\n",
      "Correction 6: California is a state, so \"at\" should be replaced with \"in\". The first sentence has a minor repetition (\"I would be also\"), which can be adjusted. The phrase \"as I have to\" is repeated, which could be simplified for better flow.\n",
      "Error types:  ['RV', 'RT', 'W']\n",
      "\n"
     ]
    },
    {
     "name": "stderr",
     "output_type": "stream",
     "text": [
      " 32%|█████████████▌                            | 34/105 [15:59<43:15, 36.55s/it]"
     ]
    },
    {
     "name": "stdout",
     "output_type": "stream",
     "text": [
      "\n",
      "Original:     I decided to go to see this show because of its starrings , but at the day I saw it , a different actor played .\n",
      "Gold labels:  c c c c c c c c c c c i c c i c c c c c c c c c i c\n",
      "Pred labels:  c c c c c c c c c c c i c c i c c c c c c c c c c c\n",
      "Gold:         I decided to go to see this show because of its stars , but on the day I saw it , a different actor performed .\n",
      "Correction 1: I decided to go to see this show because of its starring, but when I saw it, a different actor played.\n",
      "Correction 2: I decided to go to see this show because of its stars, but at the day I saw it, a different actor played.\n",
      "Correction 3: I decided to go to see this show because of its starrings, but on the day I saw it, a different actor played.\n",
      "Correction 4: I decided to go to see this show because of its starrings, but when I saw it, a different actor played.\n",
      "Correction 5: I decided to go to see this show because of its starring, but on the day I saw it, a different actor played.\n",
      "Error types:  ['DN', 'RV', 'RT']\n",
      "\n"
     ]
    },
    {
     "name": "stderr",
     "output_type": "stream",
     "text": [
      " 33%|██████████████                            | 35/105 [16:18<36:19, 31.14s/it]"
     ]
    },
    {
     "name": "stdout",
     "output_type": "stream",
     "text": [
      "\n",
      "Original:     COULD YOU PLEASE BE SO KIND AND CHANGE SOME OF THE ACTIVITIES THAT WE WILL HAVE ?\n",
      "Gold labels:  i c c c c c i i c c c c c i i i c\n",
      "Pred labels:  c c c c c c c c c c c c c c c c c\n",
      "Gold:         WOULD YOU PLEASE BE SO KIND AS TO CHANGE SOME OF THE ACTIVITIES THAT ARE PLANNED ARE PLANNED ARE PLANNED ?\n",
      "Correction 1: COULD YOU PLEASE BE SO KIND AND CHANGE SOME OF THE ACTIVITIES THAT WE WILL HAVE\n",
      "Correction 2: COULD YOU PLEASE BE SO KIND AND CHANGE SOME ACTIVITIES THAT WE WILL HAVE\n",
      "Correction 3: COULD YOU PLEASE BE SO KIND TO CHANGE SOME OF THE ACTIVITIES THAT WE WILL HAVE\n",
      "Correction 4: COULD YOU PLEASE BE SO KIND TO CHANGE SOME ACTIVITIES THAT WE WILL HAVE\n",
      "Correction 5: COULD YOU PLEASE DO US A FAVOR AND CHANGE SOME OF THE ACTIVITIES THAT WE WILL HAVE\n",
      "Error types:  ['FV', 'R', 'RV']\n",
      "\n"
     ]
    },
    {
     "name": "stderr",
     "output_type": "stream",
     "text": [
      " 34%|██████████████▍                           | 36/105 [16:28<28:36, 24.88s/it]"
     ]
    },
    {
     "name": "stdout",
     "output_type": "stream",
     "text": [
      "\n",
      "Original:     We might still favour that old carpet and couch .\n",
      "Gold labels:  c c c i c c c c c c\n",
      "Pred labels:  c c c c c c c c c c\n",
      "Gold:         We might still like that old carpet and couch .\n",
      "Correction 1: We might still favour the old carpet and couch.\n",
      "Correction 2: We might still prefer the old carpet and couch.\n",
      "Correction 3: We might still like the old carpet and couch.\n",
      "Correction 4: We might still favor the old carpet and couch.\n",
      "Correction 5: We might still enjoy the old carpet and couch.\n",
      "Error types:  ['RV']\n",
      "\n"
     ]
    },
    {
     "name": "stderr",
     "output_type": "stream",
     "text": [
      " 35%|██████████████▊                           | 37/105 [17:12<34:49, 30.73s/it]"
     ]
    },
    {
     "name": "stdout",
     "output_type": "stream",
     "text": [
      "\n",
      "Original:     Moreover , I was shocked by the reason for which it was closed : the chef went away after he received a phone call !\n",
      "Gold labels:  c c c c c c c c c c c i c c c c i i c c c c c c c\n",
      "Pred labels:  c c c c c c c c c c c c c c c c c c c c c c c c c\n",
      "Gold:         Moreover , I was shocked by the reason for which it had been closed : the chef left left after he received a phone call !\n",
      "Correction 1: Moreover, I was shocked by the reason for which it was closed: The chef went away after he received a phone call!\n",
      "Correction 2: Moreover, I was shocked by the reason for which it was closed: The chef left after receiving a phone call!\n",
      "Correction 3: Moreover, I was shocked by the reason for which it was closed: The chef went away because of a phone call!\n",
      "Correction 4: Moreover, I was shocked by the reason for which it was closed: Because the chef received a phone call, he went away!\n",
      "Correction 5: Moreover, I was shocked by the reason for which it was closed: The chef left due to a phone call!\n",
      "Error types:  ['RV', 'TV']\n",
      "\n"
     ]
    },
    {
     "name": "stderr",
     "output_type": "stream",
     "text": [
      " 36%|███████████████▏                          | 38/105 [17:35<31:27, 28.17s/it]"
     ]
    },
    {
     "name": "stdout",
     "output_type": "stream",
     "text": [
      "\n",
      "Original:     I thought it was a great idea , so I stole about ten tests we were planned to do .\n",
      "Gold labels:  c c c c c c c c c c c c c c c c i c c c\n",
      "Pred labels:  c c c c c c c c c c c c c c c c c c c c\n",
      "Gold:         I thought it was a great idea , so I stole about ten tests we were scheduled to do .\n",
      "Correction 1: I thought it was a great idea, so I stole about ten tests that were planned to do.\n",
      "Correction 2: I thought it was a great idea, so I stole about ten tests we were planning to do.\n",
      "Correction 3: I thought it was a great idea, so I took about ten tests we were planned to do.\n",
      "Correction 4: I thought it was a great idea, so I took about ten tests we were planning to do.\n",
      "Correction 5: I thought it was a great idea, so I took about ten tests that were planned to do.\n",
      "Error types:  ['RV']\n",
      "\n"
     ]
    },
    {
     "name": "stderr",
     "output_type": "stream",
     "text": [
      " 37%|███████████████▌                          | 39/105 [17:56<28:38, 26.05s/it]"
     ]
    },
    {
     "name": "stdout",
     "output_type": "stream",
     "text": [
      "\n",
      "Original:     Finally , I am considering about what kind of clothes I should wear and how much I need .\n",
      "Gold labels:  c c c c i c c c c c c c c c c c c c c\n",
      "Pred labels:  c c c c c c c c c c c c c c c c c c c\n",
      "Gold:         Finally , I am wondering about what kind of clothes I should wear and how much I need .\n",
      "Correction 1: Finally, I am considering what kind of clothes I should wear and how much I need.\n",
      "Correction 2: Finally, I am considering what kind of clothes I should wear and whether I need them.\n",
      "Correction 3: Finally, I am thinking about what kind of clothes I should wear and how much I need.\n",
      "Correction 4: Finally, I am thinking about what kind of clothes I should wear and whether I need them.\n",
      "Correction 5: Finally, I am considering what kind of clothes to wear and how much I need.\n",
      "Error types:  ['RV']\n",
      "\n"
     ]
    },
    {
     "name": "stderr",
     "output_type": "stream",
     "text": [
      " 38%|████████████████                          | 40/105 [18:24<28:54, 26.69s/it]"
     ]
    },
    {
     "name": "stdout",
     "output_type": "stream",
     "text": [
      "\n",
      "Original:     I am very well I 'm writing to explain my experience with the pop concert ; last month .\n",
      "Gold labels:  c c c c c c c c i c c c c c c c c c c\n",
      "Pred labels:  c c c c c c c c c c c c c c c c c c c\n",
      "Gold:         I am very well I 'm writing to tell you about my experience with the pop concert ; last month .\n",
      "Correction 1: I am very well. I'm writing to explain my experience with the pop concert; last month.\n",
      "Correction 2: I am very good. I'm writing to explain my experience with the pop concert; last month.\n",
      "Correction 3: I am very well I'm writing to explain my experience with the pop concert last month.\n",
      "Correction 4: I am very well. I'm writing to explain my experience with the pop concert last month.\n",
      "Correction 5: I am well. I'm writing to explain my experience with the pop concert; last month.\n",
      "Error types:  ['RV']\n",
      "\n"
     ]
    },
    {
     "name": "stderr",
     "output_type": "stream",
     "text": [
      " 39%|████████████████▍                         | 41/105 [19:04<32:44, 30.69s/it]"
     ]
    },
    {
     "name": "stdout",
     "output_type": "stream",
     "text": [
      "\n",
      "Original:     10 MINUTES AFTER I WAS FOLLOWING HIM , I START KNOWING THE PLACE , AND I WAS FELLING MORE CONFORTABLE .\n",
      "Gold labels:  i i i i i i i c c i i c c c c c c i c i c\n",
      "Pred labels:  c c c c c c c c c i c c c c c c c c c i c\n",
      "Gold:         AFTER FILLOWING HIM  AFTER FILLOWING HIM  AFTER FILLOWING HIM  , I STARTED TO KNOW THE PLACE , AND I WAS FEELING MORE COMFORTABLE .\n",
      "Correction 1: 10 MINUTES AFTER I WAS FOLLOWING HIM , I STARTED TO KNOW THE PLACE , AND I FEEL MORE COMFORTABLE .\n",
      "Correction 2: 10 MINUTES AFTER I WAS FOLLOWING HIM , I BEGAN TO KNOW THE PLACE , AND I FEEL MORE COMFORTABLE .\n",
      "Correction 3: 10 MINUTES AFTER I WAS FOLLOWING HIM , I START KNEW THE PLACE , AND I WAS FEELING MORE COMFORTABLE .\n",
      "Correction 4: 10 MINUTES AFTER I WAS FOLLOWING HIM , I STARTED KNOWING THE PLACE , AND I WAS FEELING MORE COMFORTABLE .\n",
      "Correction 5: 10 MINUTES AFTER I WAS FOLLOWING HIM , I STARTED TO KNOW THE PLACE , AND I WAS FELLING MORE COMFORTABLE .\n",
      "Error types:  ['FV', 'RV', 'TV', 'NO_LABEL', 'S', 'W', 'U']\n",
      "\n"
     ]
    },
    {
     "name": "stderr",
     "output_type": "stream",
     "text": [
      " 40%|████████████████▊                         | 42/105 [19:35<32:26, 30.90s/it]"
     ]
    },
    {
     "name": "stdout",
     "output_type": "stream",
     "text": [
      "\n",
      "Original:     However , when I went to the theatre , you did n't anything not only discount but also apporogize us for dalay of starting musical .\n",
      "Gold labels:  c c c c i c c c c c i i i i i i c c i i c i i c i c\n",
      "Pred labels:  c c c c c c c c c c c i i c c i c c i c c i c c i c\n",
      "Gold:         However , when I got to the theatre , you not only didn't have any not only didn't have any not only didn't have any not only didn't have any not only didn't have any discounts but also apologize for delay in starting .\n",
      "Correction 1: However, when I went to the theatre, you didn't do anything not only discount but also apologize us for delay of starting musical.\n",
      "Correction 2: However, when I went to the theatre, you did nothing not only discount but also apologize us for delay of starting musical.\n",
      "Correction 3: However, when I went to the theatre, you didn't do anything not only discount but also apologize for delay of starting musical.\n",
      "Correction 4: However, when I went to the theatre, you didn't do anything not only discount but also apologize us for the start delay of musical.\n",
      "Correction 5: However , when I went to the theatre , you did n't anything not only discount but also apologize for the delay in starting the musical.\n",
      "Error types:  ['RV', 'RT', 'NO_LABEL', 'X', 'FN', 'S']\n",
      "\n"
     ]
    },
    {
     "name": "stderr",
     "output_type": "stream",
     "text": [
      " 41%|█████████████████▏                        | 43/105 [19:52<27:25, 26.54s/it]"
     ]
    },
    {
     "name": "stdout",
     "output_type": "stream",
     "text": [
      "\n",
      "Original:     I was having some family problems , so my marks were getting down and down .\n",
      "Gold labels:  c c c c c c c c c c c i c c c c\n",
      "Pred labels:  c c c c c c c c c c c c c c c c\n",
      "Gold:         I was having some family problems , so my marks were going down and down .\n",
      "Correction 1: I was having some family problems, so my grades were getting worse and worse.\n",
      "Correction 2: I had some family problems, so my marks were going down and down.\n",
      "Correction 3: I had some family problems, so my grades were getting worse and worse.\n",
      "Correction 4: I was experiencing some family issues, so my marks were declining and declining.\n",
      "Correction 5: I had some family troubles, so my scores were dropping and dropping.\n",
      "Error types:  ['RV']\n",
      "\n"
     ]
    },
    {
     "name": "stderr",
     "output_type": "stream",
     "text": [
      " 42%|█████████████████▌                        | 44/105 [20:09<24:14, 23.85s/it]"
     ]
    },
    {
     "name": "stdout",
     "output_type": "stream",
     "text": [
      "\n",
      "Original:     Although all that may change our houses may be still the same .\n",
      "Gold labels:  c c c c i c c c c c c c c\n",
      "Pred labels:  c c c c c c c c c c c c c\n",
      "Gold:         Although all that may happen our houses may be still the same .\n",
      "Correction 1: Although all that may change, our houses may still be the same.\n",
      "Correction 2: Although what may change our houses may still be the same.\n",
      "Correction 3: Although all that may change, our houses may be still the same.\n",
      "Correction 4: Although all that may change, our houses may still be the same.\n",
      "Correction 5: Although all that may change, our houses might still be the same.\n",
      "Error types:  ['RV']\n",
      "\n"
     ]
    },
    {
     "name": "stderr",
     "output_type": "stream",
     "text": [
      " 43%|██████████████████                        | 45/105 [20:46<27:36, 27.60s/it]"
     ]
    },
    {
     "name": "stdout",
     "output_type": "stream",
     "text": [
      "\n",
      "Original:     We put off the lights and then the door opened and I just heard \"\"\"\" What the hell is going on ? ! ! \"\"\"\"\n",
      "Gold labels:  c i c c c c c c c c c c c c c c c c c c c c c c c\n",
      "Pred labels:  c c c c c c c c c c c c c c c c c c c c c c c c c\n",
      "Gold:         We turned off the lights and then the door opened and I just heard \"\"\"\" What the hell is going on ? ! ! \"\"\"\"\n",
      "Correction 1: We put off the lights and then the door opened, and I just heard \"What the hell is going on?!?\"\n",
      "Correction 2: We put off the lights and then the door opened, and I just heard \"\" What the hell is going on? !!\"\n",
      "Correction 3: We put off the lights and then the door opened, and I just heard \"What the hell is going on?!!\"\n",
      "Correction 4: We put off the lights and then the door opened; I just heard \"What the hell is going on?!!\"\n",
      "Correction 5: We put off the lights and then the door opened, and I just heard \"What the hell is going on?!\"\n",
      "Correction 6: Note: The fifth correction is a minor variation of the first, using a comma instead of a semicolon.\n",
      "Error types:  ['RV']\n",
      "\n"
     ]
    },
    {
     "name": "stderr",
     "output_type": "stream",
     "text": [
      " 44%|██████████████████▍                       | 46/105 [21:41<35:22, 35.97s/it]"
     ]
    },
    {
     "name": "stdout",
     "output_type": "stream",
     "text": [
      "\n",
      "Original:     Nowadays , we make a phone call with an astonish rapidity , instead at my grandparents ' time it took one month or more to have contact with people abroad , because the only means of communication was the post and its service was very slow !\n",
      "Gold labels:  c c c i c c c c c i c c i i c c c c c c c c c c c i i c c c c c c c c c c c c c c c c c c c c\n",
      "Pred labels:  c c c c c c c c c i c c i i c c c c c c c c c c c c c c c c c c c c c c c c c c c c c c c c c\n",
      "Gold:         Nowadays , we a phone call with an astonishing rapidity , whereas in my grandparents ' time it took one month or more to get with people abroad , because the only means of communication was the post and its service was very slow !\n",
      "Correction 1: Nowadays, we make a phone call with astonishing rapidity instead of my grandparents' time, it took one month or more to have contact with people abroad because the only means of communication was the post and its service was very slow!\n",
      "Correction 2: Nowadays, we make a phone call with an astonishing rapidity instead of my grandparents' time, it took one month or more to have contact with people abroad because the only means of communication was postal service which was very slow!\n",
      "Correction 3: Nowadays, we make a phone call with an astonishing rapidity instead of my grandparents' time, it took one month or more to have contact with people abroad because the only means of communication were letters and their delivery was very slow!\n",
      "Correction 4: Nowadays, we make a phone call with an astonishing rapidity instead of my grandparents' time, it took one month or more to have contact with people abroad because the only means of communication was the post which was very slow!\n",
      "Correction 5: Nowadays, we make a phone call with an astonishing rapidity instead of my grandparents' time, it took one month or more to have contact with people abroad because the only means of communication was postal service and its delivery was very slow!\n",
      "Error types:  ['DJ', 'RV', 'RT', 'NO_LABEL', 'R']\n",
      "\n"
     ]
    },
    {
     "name": "stderr",
     "output_type": "stream",
     "text": [
      " 45%|██████████████████▊                       | 47/105 [22:18<35:12, 36.42s/it]"
     ]
    },
    {
     "name": "stdout",
     "output_type": "stream",
     "text": [
      "\n",
      "Original:     And many people are in a hurry , so do n't wonder if other people have not tolerance and patience to wait and hit you with their shopping cars .\n",
      "Gold labels:  c c c c c c c c c c c i c c c i i i c c c c c c c c c c i c\n",
      "Pred labels:  c c c c c c c c c c c c c c c c i c c c c c c c c c c c c c\n",
      "Gold:         And many people are in a hurry , so do n't be surprised if other people do not have do not have and patience to wait and hit you with their shopping trolleys .\n",
      "Correction 1: And many people are in a hurry, so don't wonder if other people lack tolerance and patience to wait and hit you with their shopping cars.\n",
      "Correction 2: And many people are in a hurry, so don't wonder if others lack tolerance and patience to wait and hit you with their shopping carts.\n",
      "Correction 3: And many people are in a hurry, so don't wonder if other people have no tolerance and patience to wait and hit you with their shopping cars.\n",
      "Correction 4: And many people are in a hurry, so don't wonder if other people lack the tolerance and patience to wait and be hit by their shopping cars.\n",
      "Correction 5: And many people are in a hurry, so don't wonder if other people lack the tolerance and patience to wait and have their shopping cars hit them.\n",
      "Error types:  ['RN', 'NO_LABEL', 'RV', 'X']\n",
      "\n"
     ]
    },
    {
     "name": "stderr",
     "output_type": "stream",
     "text": [
      " 46%|███████████████████▏                      | 48/105 [22:33<28:23, 29.89s/it]"
     ]
    },
    {
     "name": "stdout",
     "output_type": "stream",
     "text": [
      "\n",
      "Original:     The worst thing is that I could n't watch my favorite actor .\n",
      "Gold labels:  c c c c c c c c i c i c c\n",
      "Pred labels:  c c c c c c c c c c i c c\n",
      "Gold:         The worst thing is that I could n't see my favourite actor .\n",
      "Correction 1: The worst thing is that I couldn't watch my favorite actor.\n",
      "Correction 2: The worst thing is that I couldn't watch my favorite movie star.\n",
      "Correction 3: The worst thing is that I couldn't watch my favorite actress.\n",
      "Correction 4: The worst thing is that I could not watch my favorite actor.\n",
      "Correction 5: An empty line\n",
      "Error types:  ['SA', 'RV']\n",
      "\n"
     ]
    },
    {
     "name": "stderr",
     "output_type": "stream",
     "text": [
      " 47%|███████████████████▌                      | 49/105 [22:40<21:31, 23.06s/it]"
     ]
    },
    {
     "name": "stdout",
     "output_type": "stream",
     "text": [
      "\n",
      "Original:     I 'd better leave now .\n",
      "Gold labels:  c c c i c c\n",
      "Pred labels:  c c c c c c\n",
      "Gold:         I 'd better stop now .\n",
      "Correction 1: I'd better leave now.\n",
      "Correction 2: I had better leave now.\n",
      "Correction 3: I'd better to leave now.\n",
      "Correction 4: I'd better leaves now.\n",
      "Correction 5: I'd better leaving now.\n",
      "Error types:  ['RV']\n",
      "\n"
     ]
    },
    {
     "name": "stderr",
     "output_type": "stream",
     "text": [
      " 48%|████████████████████                      | 50/105 [23:18<25:12, 27.50s/it]"
     ]
    },
    {
     "name": "stdout",
     "output_type": "stream",
     "text": [
      "\n",
      "Original:     I think this festival is a great idea because it 's a possibility to see and to love the art , but , I think also there are some things thas could be changed .\n",
      "Gold labels:  c c c c c c c c c c c i i c c c c i c c c c c c i i c c c c i c c c c\n",
      "Pred labels:  c c c c c c c c c c c c i c c c c c c c c c c c c i c c c c i c c c c\n",
      "Gold:         I think this festival is a great idea because it 's an opportunity to see and to appreciate the art , but , I also think also think there are some things that could be changed .\n",
      "Correction 1: I think this festival is a great idea because it's a possibility to see and love the art, but I also think there are some things that could be changed.\n",
      "Correction 2: I think this festival is a great idea because it's a possibility to see and love the art but I think there are some things that could be changed.\n",
      "Correction 3: I think this festival is a great idea because it's a possibility to see and love the art but I also think there are some things which could be changed.\n",
      "Correction 4: I think this festival is a great idea because it's a possibility to see and love the art but I also think there are some things that might be changed.\n",
      "Correction 5: I think this festival is a great idea because it's a possibility to see and love the art, but I think there are some things which could be changed.\n",
      "Error types:  ['RV', 'S', 'W', 'RN', 'FD']\n",
      "\n"
     ]
    },
    {
     "name": "stderr",
     "output_type": "stream",
     "text": [
      " 49%|████████████████████▍                     | 51/105 [23:43<23:59, 26.67s/it]"
     ]
    },
    {
     "name": "stdout",
     "output_type": "stream",
     "text": [
      "\n",
      "Original:     If looking after children does n't fit you , you can try with pets .\n",
      "Gold labels:  c c c c c c i c c c c c i c c\n",
      "Pred labels:  c c c c c c c c c c c c c c c\n",
      "Gold:         If looking after children does n't suit you , you can try pets .\n",
      "Correction 1: If looking after children doesn't fit you, you can try with pets.\n",
      "Correction 2: If looking after children does not fit you, you can try with pets.\n",
      "Correction 3: If looking after children does not fit you, you can try with animals.\n",
      "Correction 4: If looking after children does not fit you, you can try with pet care.\n",
      "Correction 5: If looking after children does not fit you, you can try with caring for pets.\n",
      "Error types:  ['NO_LABEL', 'RV']\n",
      "\n"
     ]
    },
    {
     "name": "stderr",
     "output_type": "stream",
     "text": [
      " 50%|████████████████████▊                     | 52/105 [24:23<27:09, 30.75s/it]"
     ]
    },
    {
     "name": "stdout",
     "output_type": "stream",
     "text": [
      "\n",
      "Original:     Nowadays , the media is expanding its ways of communication so they need more information . The media is starting to get into the private life of these famous people .\n",
      "Gold labels:  c c c c c c c i c c c c c c c c c c c c c i c c c c c c c c c\n",
      "Pred labels:  c c c c c c c c c c c c c c c c c c c c c c c c c c c c c c c\n",
      "Gold:         Nowadays , the media is expanding its means of communication so they need more information . The media is starting to encroach into the private life of these famous people .\n",
      "Correction 1: Nowadays, the media is expanding its ways of communication so they need more information. The media is starting to get into the private lives of these famous people.\n",
      "Correction 2: Nowadays, the media is expanding its ways of communication so it needs more information. The media is starting to get into the private lives of these famous people.\n",
      "Correction 3: Nowadays, the media is expanding its ways of communication so they need more info. The media is starting to get into the private lives of these famous people.\n",
      "Correction 4: Nowadays, the media are expanding their ways of communication so they need more information. The media are starting to get into the private lives of these famous people.\n",
      "Correction 5: Nowadays, the media is expanding its methods of communication so they need more information. The media is starting to get into the private lives of these famous people.\n",
      "Error types:  ['RN', 'RV']\n",
      "\n"
     ]
    },
    {
     "name": "stderr",
     "output_type": "stream",
     "text": [
      " 50%|█████████████████████▏                    | 53/105 [24:56<27:08, 31.31s/it]"
     ]
    },
    {
     "name": "stdout",
     "output_type": "stream",
     "text": [
      "\n",
      "Original:     At first it was not a problem because if the show was going to be the best it would cost what they said .\n",
      "Gold labels:  c c c c c c c c c c c c c c c c c i c i c c i c\n",
      "Pred labels:  c c c c c c c c c c c c c c c c c c c c c c c c\n",
      "Gold:         At first it was not a problem because if the show was going to be the best I would pay what they asked .\n",
      "Correction 1: At first, it was not a problem because if the show was going to be the best, it would cost what they said.\n",
      "Correction 2: At first, it was not a problem because if the show was going to be the best, it would cost as much as they said.\n",
      "Correction 3: At first, it was not a problem because if the show was going to be the best, it would have cost what they said.\n",
      "Correction 4: At first, it was not a problem because if the show was going to be the best, it would cost what was said.\n",
      "Correction 5: At first, it was not a problem because if the show was going to be the best, it would cost as much as said.\n",
      "Error types:  ['RV', 'R', 'RA']\n",
      "\n"
     ]
    },
    {
     "name": "stderr",
     "output_type": "stream",
     "text": [
      " 51%|█████████████████████▌                    | 54/105 [25:19<24:28, 28.79s/it]"
     ]
    },
    {
     "name": "stdout",
     "output_type": "stream",
     "text": [
      "\n",
      "Original:     Unfortunately we realised that on the 14th we will already visit the Science Museum .\n",
      "Gold labels:  c c i c c c c c i i i c c c c\n",
      "Pred labels:  c c c c c c c c i c c c c c c\n",
      "Gold:         Unfortunately we noticed that on the 14th we are already visiting are already visiting are already visiting the Science Museum .\n",
      "Correction 1: Unfortunately we realised that on the 14th we will already visit the Science Museum.\n",
      "Correction 2: Unfortunately we realized that on the 14th we will have already visited the Science Museum.\n",
      "Correction 3: Unfortunately we realized that on the 14th we will already be visiting the Science Museum.\n",
      "Correction 4: Unfortunately we realized that we will already visit the Science Museum on the 14th.\n",
      "Correction 5: Unfortunately we realize that on the 14th we will already visit the Science Museum.\n",
      "Error types:  ['RV', 'TV']\n",
      "\n"
     ]
    },
    {
     "name": "stderr",
     "output_type": "stream",
     "text": [
      " 52%|██████████████████████                    | 55/105 [25:52<25:13, 30.28s/it]"
     ]
    },
    {
     "name": "stdout",
     "output_type": "stream",
     "text": [
      "\n",
      "Original:     Thank you for telling me that I have won the first prize and now I am writing to tell you the information you have requested .\n",
      "Gold labels:  c c c c c c c c c c c c c c c c c c i c c c c c c c\n",
      "Pred labels:  c c c c c c c c c c c c c c c c c c c c c c c c c c\n",
      "Gold:         Thank you for telling me that I have won the first prize and now I am writing to give you the information you have requested .\n",
      "Correction 1: Thank you for telling me that I have won the first prize and now I am writing to tell you the information you requested.\n",
      "Correction 2: Thank you for telling me that I have won the first prize and now I write to tell you the information you have requested.\n",
      "Correction 3: Thank you for telling me that I have won the first prize and now I am writing to tell you the information you have requested.\n",
      "Correction 4: Thank you for telling me that I have won the first prize and now I am writing to tell you the information you requested.\n",
      "Correction 5: Thank you for telling me that I have won the first prize and now I write to tell you the information you requested.\n",
      "Error types:  ['RV']\n",
      "\n"
     ]
    },
    {
     "name": "stderr",
     "output_type": "stream",
     "text": [
      " 53%|██████████████████████▍                   | 56/105 [26:08<21:13, 25.98s/it]"
     ]
    },
    {
     "name": "stdout",
     "output_type": "stream",
     "text": [
      "\n",
      "Original:     You are interessted on my last job ! I really like to tell you all my experience .\n",
      "Gold labels:  c c i i c c c c c c i c c c c i c c\n",
      "Pred labels:  c c i c c c c c c c c c c c c c c c\n",
      "Gold:         You are interested in my last job ! I really want to tell you all experience .\n",
      "Correction 1: You are interested in my last job! I really like to tell you all about my experience.\n",
      "Correction 2: You are interested in my last job! I really like to tell you all of my experience.\n",
      "Correction 3: You are interested in my last job! I really want to tell you all my experience.\n",
      "Correction 4: You are interested in my last job! I really want to tell you all of my experience.\n",
      "Correction 5: You are interested in my last job! I really like telling you all about my experience.\n",
      "Error types:  ['NO_LABEL', 'RV', 'S', 'RT']\n",
      "\n"
     ]
    },
    {
     "name": "stderr",
     "output_type": "stream",
     "text": [
      " 54%|██████████████████████▊                   | 57/105 [26:41<22:22, 27.96s/it]"
     ]
    },
    {
     "name": "stdout",
     "output_type": "stream",
     "text": [
      "\n",
      "Original:     She told me Pat had phoned her while we were going and my mum followed us because it was so dangerous to went by bicycle .\n",
      "Gold labels:  c c c c c c c c c c i c c c c c c c c c c c i c c c\n",
      "Pred labels:  c c c c c c c c c c c c c c c c c c c c c c i c c c\n",
      "Gold:         She told me Pat had phoned her while we were leaving and my mum followed us because it was so dangerous to go by bicycle .\n",
      "Correction 1: She told me Pat had phoned her while we were going and my mum followed us because it was so dangerous to go by bicycle.\n",
      "Correction 2: She told me Pat had phoned her while we were going and my mum followed us because it was so dangerous to have gone by bicycle.\n",
      "Correction 3: She told me Pat had phoned her while we were going and my mum followed us because it was so dangerous to be going by bicycle.\n",
      "Correction 4: She told me Pat had phoned her while we were going and my mum followed us because it was so dangerous to go by bicycle, not walking.\n",
      "Correction 5: She told me Pat had phoned her while we were going and my mum followed us because it was so dangerous to ride by bicycle.\n",
      "Error types:  ['FV', 'RV']\n",
      "\n"
     ]
    },
    {
     "name": "stderr",
     "output_type": "stream",
     "text": [
      " 55%|███████████████████████▏                  | 58/105 [27:43<29:50, 38.09s/it]"
     ]
    },
    {
     "name": "stdout",
     "output_type": "stream",
     "text": [
      "\n",
      "Original:     I 'm also fond of tennis , I 've just started my lessons and would like to continue practising during the summer .\n",
      "Gold labels:  c c c c c c c c c c c c c c c c c c i c c c c\n",
      "Pred labels:  c c c c c c c c c c c c c c c c c c c c c c c\n",
      "Gold:         I 'm also fond of tennis , I 've just started my lessons and would like to continue playing during the summer .\n",
      "Correction 1: I'm also fond of tennis. I've just started my lessons and would like to continue practising during the summer.\n",
      "Correction 2: I'm also fond of tennis, I've just started my lessons and would like to continue practicing during the summer.\n",
      "Correction 3: I'm also fond of tennis. I've just started lessons and would like to continue practising during the summer.\n",
      "Correction 4: I'm also fond of tennis, I've just started lessons and would like to continue practicing during the summer.\n",
      "Correction 5: I'm also fond of tennis, I've just begun my lessons and would like to continue practising during the summer.\n",
      "Correction 6: I'm also fond of tennis. I've just started my lessons and would like to continue practising during the summer.\n",
      "Correction 7: I'm also fond of tennis, I've just started my lessons and would like to continue practicing during the summer.\n",
      "Correction 8: I'm also fond of tennis. I've just begun my lessons and would like to continue practising during the summer.\n",
      "Correction 9: I'm also fond of tennis, I've just begun my lessons and would like to continue practicing during the summer.\n",
      "Correction 10: I'm also fond of tennis, I've just started my lesson and would like to continue practising during the summer.\n",
      "Correction 11: I'm also fond of tennis, I've just started my lesson and would like to continue practicing during the summer.\n",
      "Error types:  ['RV']\n",
      "\n"
     ]
    },
    {
     "name": "stderr",
     "output_type": "stream",
     "text": [
      " 56%|███████████████████████▌                  | 59/105 [28:05<25:35, 33.39s/it]"
     ]
    },
    {
     "name": "stdout",
     "output_type": "stream",
     "text": [
      "\n",
      "Original:     To sum up modern technology has change a lot our daily life and this is going to increase .\n",
      "Gold labels:  c c c c c c i i i i i i c c c c c i c\n",
      "Pred labels:  c c c c c c i c i i i i c c c c c c c\n",
      "Gold:         To sum up modern technology has changed our daily lives a lot our daily lives a lot our daily lives a lot our daily lives a lot lives and this is going to continue .\n",
      "Correction 1: To sum up, modern technology has changed a lot our daily life and this is going to increase.\n",
      "Correction 2: To sum up, modern technology has changed a lot our daily lives and this is going to increase.\n",
      "Correction 3: To sum up, modern technology has changed a lot our daily life and this will increase.\n",
      "Correction 4: To sum up, modern technology has changed a lot our daily lives and this will increase.\n",
      "Correction 5: To sum up, modern technology has changed a lot our lives and this is going to increase.\n",
      "Error types:  ['AGN', 'RV', 'TV', 'W']\n",
      "\n"
     ]
    },
    {
     "name": "stderr",
     "output_type": "stream",
     "text": [
      " 57%|████████████████████████                  | 60/105 [28:58<29:29, 39.31s/it]"
     ]
    },
    {
     "name": "stdout",
     "output_type": "stream",
     "text": [
      "\n",
      "Original:     That means that there are more and more big supermarkets and big stores , where noone has time for you to show you or explain things to you such as what kind of bicycle is the best for me , no one to talk to and noone to complaine .\n",
      "Gold labels:  c c c c c c c c c c c c c c c i c c c c c i c c c c c c c c c c c c c c c c i c c c c c c c i c i i\n",
      "Pred labels:  c c c c c c c c c c c c c c c i c c c c c c c c c c c c c c c c c c c c c c c c c c c c c c i c i c\n",
      "Gold:         That means that there are more and more big supermarkets and big stores , where no one has time for you to help you or explain things to you such as what kind of bicycle is the best for you , no one to talk to and no one to complain\n",
      "Correction 1: That means that there are more and more big supermarkets and big stores, where no one has time to show you or explain things to you, such as what kind of bicycle is the best for me. No one to talk to and no one to complain.\n",
      "Correction 2: That means that there are more and more big supermarkets and big stores, where no one has time to show you or explain things to you, such as what kind of bicycle is the best for me. No one to talk to and no one to complain about.\n",
      "Correction 3: That means that there are more and more big supermarkets and big stores where no one has time to show you or explain things to you such as what kind of bicycle is the best for me no one to talk to and no one to complain.\n",
      "Correction 4: That means that there are more and more big supermarkets and big stores, where no one has time to show you or explain things to you, such as what kind of bicycle is the best for me. No one to talk to and no one to complain about it.\n",
      "Correction 5: That means that there are more and more big supermarkets and big stores, where no one has time to show you or explain things to you, such as what kind of bicycle is the best for me. No one to talk to and no one to complain about it.\n",
      "Error types:  ['RV', 'RP', 'NO_LABEL', 'S', 'RA']\n",
      "\n"
     ]
    },
    {
     "name": "stderr",
     "output_type": "stream",
     "text": [
      " 58%|████████████████████████▍                 | 61/105 [29:15<23:48, 32.46s/it]"
     ]
    },
    {
     "name": "stdout",
     "output_type": "stream",
     "text": [
      "\n",
      "Original:     I can know what is happening in differents parts of the world in a few minutes .\n",
      "Gold labels:  c c i c c c c i c c c c c c c c c\n",
      "Pred labels:  c c c c c c c i c c c c c c c c c\n",
      "Gold:         I can find out what is happening in different parts of the world in a few minutes .\n",
      "Correction 1: I can know what is happening in different parts of the world in a few minutes.\n",
      "Correction 2: I can know what is happening in various parts of the world in a few minutes.\n",
      "Correction 3: I can learn what is happening in different parts of the world in a few minutes.\n",
      "Correction 4: I can find out what is happening in different parts of the world in a few minutes.\n",
      "Correction 5: I can understand what is happening in different parts of the world in a few minutes.\n",
      "Error types:  ['IJ', 'RV']\n",
      "\n"
     ]
    },
    {
     "name": "stderr",
     "output_type": "stream",
     "text": [
      " 59%|████████████████████████▊                 | 62/105 [29:39<21:31, 30.04s/it]"
     ]
    },
    {
     "name": "stdout",
     "output_type": "stream",
     "text": [
      "\n",
      "Original:     I have got very responsible work I had to bring food for Peter Bolen and Tomas Anders .\n",
      "Gold labels:  c i i c i c c c c c c c c c c c c c\n",
      "Pred labels:  c c c c c c c c c c c c c c c c c c\n",
      "Gold:         I had taken on very demanding work I had to bring food for Peter Bolen and Tomas Anders .\n",
      "Correction 1: I have got very responsible work. I had to bring food for Peter Bolen and Tomas Anders.\n",
      "Correction 2: I have got very responsible work. I had to bring food for Peter and Tomas.\n",
      "Correction 3: I have got a very responsible job. I had to bring food for Peter Bolen and Tomas Anders.\n",
      "Correction 4: I have got very responsible work. I had to bring food for Peter and Anders.\n",
      "Correction 5: I have got very responsible work. I had to bring food for Peter, Bolen, and Anders.\n",
      "Error types:  ['RV', 'RJ', 'TV']\n",
      "\n"
     ]
    },
    {
     "name": "stderr",
     "output_type": "stream",
     "text": [
      " 60%|█████████████████████████▏                | 63/105 [29:48<16:32, 23.63s/it]"
     ]
    },
    {
     "name": "stdout",
     "output_type": "stream",
     "text": [
      "\n",
      "Original:     I 've seen your festival and I would like to give you my suggestions to it .\n",
      "Gold labels:  c i i c c c c c c c c c c c i c c\n",
      "Pred labels:  c c c c c c c c c c c c c c i c c\n",
      "Gold:         I I attended attended your festival and I would like to give you my suggestions for it .\n",
      "Correction 1: I've seen your festival and I would like to give you my suggestions.\n",
      "Correction 2: I've seen your festival and I would like to give you my suggestions about it.\n",
      "Error types:  ['RT', 'RV', 'TV']\n",
      "\n"
     ]
    },
    {
     "name": "stderr",
     "output_type": "stream",
     "text": [
      " 61%|█████████████████████████▌                | 64/105 [30:01<13:58, 20.44s/it]"
     ]
    },
    {
     "name": "stdout",
     "output_type": "stream",
     "text": [
      "\n",
      "Original:     Moreover , students are allowed to admit for free .\n",
      "Gold labels:  c c c c c c i c c c\n",
      "Pred labels:  c c c c c c c c c c\n",
      "Gold:         Moreover , students are allowed to attend for free .\n",
      "Correction 1: Moreover, students are allowed to apply for free.\n",
      "Correction 2: Moreover, students are allowed to attend for free.\n",
      "Correction 3: Moreover, students are allowed to enroll for free.\n",
      "Correction 4: Moreover, students are allowed to enter for free.\n",
      "Correction 5: Moreover, students are allowed to join for free.\n",
      "Error types:  ['RV']\n",
      "\n"
     ]
    },
    {
     "name": "stderr",
     "output_type": "stream",
     "text": [
      " 62%|██████████████████████████                | 65/105 [30:13<11:59, 18.00s/it]"
     ]
    },
    {
     "name": "stdout",
     "output_type": "stream",
     "text": [
      "\n",
      "Original:     Moreover , we had n't any disscount for beeing students .\n",
      "Gold labels:  c c c i i c i c i c c\n",
      "Pred labels:  c c c c c c i c i c c\n",
      "Gold:         Moreover , we weren't given weren't given any discount for being students .\n",
      "Correction 1: Moreover, we hadn't any discount for being students.\n",
      "Correction 2: Moreover, we didn't have any discount for being students.\n",
      "Correction 3: Moreover, we had no discount for being students.\n",
      "Correction 4: Moreover, we didn't any discount for being students.\n",
      "Correction 5: Moreover, we hadn't any discount for being students.\n",
      "Error types:  ['IV', 'RV', 'S']\n",
      "\n"
     ]
    },
    {
     "name": "stderr",
     "output_type": "stream",
     "text": [
      " 63%|██████████████████████████▍               | 66/105 [30:49<15:16, 23.51s/it]"
     ]
    },
    {
     "name": "stdout",
     "output_type": "stream",
     "text": [
      "\n",
      "Original:     A traditional way to earn money , in the spare time , is to bring newspapers or magazines to the families in your town or village .\n",
      "Gold labels:  c c c c c c c c i c c c c c i c c c c c c c c c c c c\n",
      "Pred labels:  c c c c c c c c c c c c c c c c c c c c c c c c c c c\n",
      "Gold:         A traditional way to earn money , in your spare time , is to deliver newspapers or magazines to the families in your town or village .\n",
      "Correction 1: A traditional way to earn money in spare time is to deliver newspapers or magazines to families in your town or village.\n",
      "Correction 2: A traditional way to earn money in the spare time is to bring newspapers or magazines to families in your town or village.\n",
      "Correction 3: A traditional way to earn money during spare time is to deliver newspapers or magazines to families in your town or village.\n",
      "Correction 4: A traditional way to earn money in one's spare time is to bring newspapers or magazines to families in your town or village.\n",
      "Correction 5: A traditional way to make money in the spare time is to bring newspapers or magazines to families in your town or village.\n",
      "Correction 6: Note: The fifth line is an empty line as only four unique corrections were possible given the constraints.\n",
      "Error types:  ['RD', 'RV']\n",
      "\n"
     ]
    },
    {
     "name": "stderr",
     "output_type": "stream",
     "text": [
      " 64%|██████████████████████████▊               | 67/105 [31:27<17:38, 27.86s/it]"
     ]
    },
    {
     "name": "stdout",
     "output_type": "stream",
     "text": [
      "\n",
      "Original:     I do understand that it must be difficult to get these people to go to the festival , but it would be nice if next year we could meet other personalities .\n",
      "Gold labels:  c c c c c c c c c c c c c i c c c c c c c c c c c c c c c i c c\n",
      "Pred labels:  c c c c c c c c c c c c c c c c c c c c c c c c c c c c c c c c\n",
      "Gold:         I do understand that it must be difficult to get these people to come to the festival , but it would be nice if next year we could meet personalities .\n",
      "Correction 1: I do understand that it must be difficult to get these people to go to the festival, but it would be nice if next year we could meet other personalities.\n",
      "Correction 2: I do understand that it is must be difficult to get these people to go to the festival, but it would be nice if next year we could meet other personalities.\n",
      "Correction 3: I do understand that it must be difficult for these people to go to the festival, but it would be nice if next year we could meet other personalities.\n",
      "Correction 4: I do understand that it must be difficult to get these people to attend the festival, but it would be nice if next year we could meet other personalities.\n",
      "Correction 5: I do understand that it must be difficult to get these people to go to the festival, but it would be nice if next year we could meet different personalities.\n",
      "Error types:  ['NO_LABEL', 'RV']\n",
      "\n"
     ]
    },
    {
     "name": "stderr",
     "output_type": "stream",
     "text": [
      " 65%|███████████████████████████▏              | 68/105 [31:46<15:30, 25.16s/it]"
     ]
    },
    {
     "name": "stdout",
     "output_type": "stream",
     "text": [
      "\n",
      "Original:     We spoke with Pat many times to keep this secret , not to tell anyone .\n",
      "Gold labels:  c i i c c c c c c c c c c c c c\n",
      "Pred labels:  c c c c c c c c c c c c c c c c\n",
      "Gold:         We asked asked Pat many times to keep this secret , not to tell anyone .\n",
      "Correction 1: We spoke with Pat many times to keep this secret, not to tell anyone.\n",
      "Correction 2: We spoke with Pat many times to keep the secret, not to tell anyone.\n",
      "Correction 3: We spoke with Pat many times to keep this secret but not to tell anyone.\n",
      "Correction 4: We spoke with Pat many times to keep this secret; not to tell anyone.\n",
      "Correction 5: We spoke with Pat many times to keep this secret, rather than telling anyone.\n",
      "Error types:  ['RV']\n",
      "\n"
     ]
    },
    {
     "name": "stderr",
     "output_type": "stream",
     "text": [
      " 66%|███████████████████████████▌              | 69/105 [31:55<12:02, 20.08s/it]"
     ]
    },
    {
     "name": "stdout",
     "output_type": "stream",
     "text": [
      "\n",
      "Original:     He did not play in the evening .\n",
      "Gold labels:  c c c i c i c c\n",
      "Pred labels:  c c c c c c c c\n",
      "Gold:         He did not perform in that evening .\n",
      "Correction 1: He did not play in the evenings .\n",
      "Correction 2: He played not in the evening .\n",
      "Correction 3: He did not play during the evening .\n",
      "Correction 4: He did not play in the night .\n",
      "Error types:  ['RD', 'RV']\n",
      "\n"
     ]
    },
    {
     "name": "stderr",
     "output_type": "stream",
     "text": [
      " 67%|████████████████████████████              | 70/105 [32:22<13:01, 22.32s/it]"
     ]
    },
    {
     "name": "stdout",
     "output_type": "stream",
     "text": [
      "\n",
      "Original:     During the show I was expected to meet Danny Brook who is my favourite actor and Tina Truelove .\n",
      "Gold labels:  c c c c c c c i c c c c c c c c c c c\n",
      "Pred labels:  c c c c c c c c c c c c c c c c c c c\n",
      "Gold:         During the show I was expected to see Danny Brook who is my favourite actor and Tina Truelove .\n",
      "Correction 1: During the show, I was expected to meet Danny Brook, who is my favourite actor and Tina Truelove.\n",
      "Correction 2: During the show I was expected to meet Danny Brook who is my favorite actor and Tina Truelove.\n",
      "Correction 3: During the show, I was expected to meet Danny Brook who is my favorite actor and Tina Truelove.\n",
      "Correction 4: During the show I was expected to meet Danny Brook, who is my favourite actor and Tina Truelove.\n",
      "Correction 5: During the show I was expected to meet Danny Brook who is my favorite actor and Tina Truelove,\n",
      "Error types:  ['RV']\n",
      "\n"
     ]
    },
    {
     "name": "stderr",
     "output_type": "stream",
     "text": [
      " 68%|████████████████████████████▍             | 71/105 [33:04<15:55, 28.10s/it]"
     ]
    },
    {
     "name": "stdout",
     "output_type": "stream",
     "text": [
      "\n",
      "Original:     Even if I like to do shopping with some people and kind of shops I will kill myself because I waste my time .\n",
      "Gold labels:  c c c c c i c c c c c i c c c c c c i c c c c c\n",
      "Pred labels:  c c c c c c c c c c c i c c c c c c c c c c c c\n",
      "Gold:         Even if I like to go shopping with some people and kinds of shops I will kill myself if I waste my time .\n",
      "Correction 1: Even if I like to do shopping with some people and kinds of shops, I will kill myself because I waste my time.\n",
      "Correction 2: Even if I like to do shopping with some people and the kind of shops, I will kill myself because I waste my time.\n",
      "Correction 3: Even if I like to do shopping with some people and kind of shops, I will kill myself as I waste my time.\n",
      "Correction 4: Even if I like to shop with some people and kinds of shops, I will kill myself because I waste my time.\n",
      "Correction 5: Even if I like to shop with some people and the kind of shops, I will kill myself because I waste my time.\n",
      "Error types:  ['AGN', 'RV', 'RC']\n",
      "\n"
     ]
    },
    {
     "name": "stderr",
     "output_type": "stream",
     "text": [
      " 69%|████████████████████████████▊             | 72/105 [33:22<13:46, 25.03s/it]"
     ]
    },
    {
     "name": "stdout",
     "output_type": "stream",
     "text": [
      "\n",
      "Original:     Danny Brook is one of my favorite actors and there was playing another one .\n",
      "Gold labels:  c c c c c c i c c c i i i c c\n",
      "Pred labels:  c c c c c c i c c c c i c c c\n",
      "Gold:         Danny Brook is one of my favourite actors and there appeared appeared a different one .\n",
      "Correction 1: Danny Brook is one of my favorite actors and he was playing another one.\n",
      "Correction 2: Danny Brook is one of my favorite actors but there was playing another one.\n",
      "Correction 3: Danny Brook is one of my favorite actors and there he was playing another one.\n",
      "Correction 4: Danny Brook is one of my favorite actors and there were playing another one.\n",
      "Correction 5: Danny Brook is one of my favorite actors and there was another one playing.\n",
      "Error types:  ['SA', 'RV', 'R']\n",
      "\n"
     ]
    },
    {
     "name": "stderr",
     "output_type": "stream",
     "text": [
      " 70%|█████████████████████████████▏            | 73/105 [33:56<14:52, 27.90s/it]"
     ]
    },
    {
     "name": "stdout",
     "output_type": "stream",
     "text": [
      "\n",
      "Original:     I think that this programme has a good organisation , as you know , due to we have enough time to visit plenty of local interest points .\n",
      "Gold labels:  c c c c c i c i i c c c c c i i c c c c c c c c c c c c\n",
      "Pred labels:  c c c c c c c c c c c c c c c i c c c c c c c c c c c c\n",
      "Gold:         I think that this programme is a well organised , as you know , because because we have enough time to visit plenty of local interest points .\n",
      "Correction 1: I think that this program has good organization, as you know, due to we have enough time to visit plenty of local interest points.\n",
      "Correction 2: I think that this programme has a good organisation, as you know, due to we have enough time to visit plenty of local interest points.\n",
      "Correction 3: I think that this programme has a good organisation, as you know, due to we have enough time to visit plenty of local interests.\n",
      "Correction 4: I think that this programme has a good organization, as you know, due to we have enough time to visit plenty of local interests.\n",
      "Correction 5: I think that this programme has a good organisation, as you know, because we have enough time to visit plenty of local interest points.\n",
      "Error types:  ['DJ', 'R', 'RV', 'DY']\n",
      "\n"
     ]
    },
    {
     "name": "stderr",
     "output_type": "stream",
     "text": [
      " 70%|█████████████████████████████▌            | 74/105 [34:14<12:53, 24.94s/it]"
     ]
    },
    {
     "name": "stdout",
     "output_type": "stream",
     "text": [
      "\n",
      "Original:     Agatha said that it was the greatest present she could ever get !\n",
      "Gold labels:  c c c c c c c c c c c i c\n",
      "Pred labels:  c c c c c c c c c c c c c\n",
      "Gold:         Agatha said that it was the greatest present she could ever receive !\n",
      "Correction 1: Agatha said that it was the greatest present she could ever receive!\n",
      "Correction 2: Agatha said that this was the greatest present she could ever get!\n",
      "Correction 3: Agatha said that it was the greatest gift she could ever get!\n",
      "Correction 4: Agatha said that it was the greatest present she had ever received!\n",
      "Correction 5: Agatha said that it was the greatest present she could have ever gotten!\n",
      "Error types:  ['RV']\n",
      "\n"
     ]
    },
    {
     "name": "stderr",
     "output_type": "stream",
     "text": [
      " 71%|██████████████████████████████            | 75/105 [34:28<10:45, 21.51s/it]"
     ]
    },
    {
     "name": "stdout",
     "output_type": "stream",
     "text": [
      "\n",
      "Original:     By the way I do n't see Pat about one year .\n",
      "Gold labels:  c c c c i i i c i c c c\n",
      "Pred labels:  c c c c c c c c i c c c\n",
      "Gold:         By the way I haven't haven't seen Pat one year .\n",
      "Correction 1: By the way, I don't see Pat around once a year.\n",
      "Correction 2: By the way, I don't see Pat about once a year.\n",
      "Correction 3: By the way, I don't see Pat about one year ago.\n",
      "Correction 4: By the way, I don't see Pat around.\n",
      "Correction 5: I don't see Pat about one year.\n",
      "Error types:  ['NO_LABEL', 'RV', 'TV']\n",
      "\n"
     ]
    },
    {
     "name": "stderr",
     "output_type": "stream",
     "text": [
      " 72%|██████████████████████████████▍           | 76/105 [34:31<07:47, 16.13s/it]"
     ]
    },
    {
     "name": "stdout",
     "output_type": "stream",
     "text": [
      "\n",
      "Original:     All I ought to do is buy and choose .\n",
      "Gold labels:  c c i c c c c c c c\n",
      "Pred labels:  c c c c c c c c c c\n",
      "Gold:         All I have to do is buy and choose .\n",
      "Correction 1: All I ought to do is buy and select.\n",
      "Error types:  ['RV']\n",
      "\n"
     ]
    },
    {
     "name": "stderr",
     "output_type": "stream",
     "text": [
      " 73%|██████████████████████████████▊           | 77/105 [35:02<09:31, 20.41s/it]"
     ]
    },
    {
     "name": "stdout",
     "output_type": "stream",
     "text": [
      "\n",
      "Original:     Anyway I 'm not very good doing surfing but with a little bit of help I know I can make it .\n",
      "Gold labels:  c c c c c c i c c c c c c c c c c c c i c c\n",
      "Pred labels:  c c c c c c i c c c c c c c c c c c c c c c\n",
      "Gold:         Anyway I 'm not very good at surfing but with a little bit of help I know I can do it .\n",
      "Correction 1: Anyway I'm not very good at surfing but with a little bit of help, I know I can make it.\n",
      "Correction 2: Anyway I'm not very good with surfing but with a little bit of help, I know I can make it.\n",
      "Correction 3: Anyway, I'm not very good doing surfing but with a little bit of help, I know I can make it.\n",
      "Correction 4: Anyway, I'm not very good at surfing but with a little bit of help, I know I can make it.\n",
      "Correction 5: Anyway, I'm not very good at surfing but with a little bit of help, I know I can do it.\n",
      "Error types:  ['RV', 'R']\n",
      "\n"
     ]
    },
    {
     "name": "stderr",
     "output_type": "stream",
     "text": [
      " 74%|███████████████████████████████▏          | 78/105 [35:12<07:48, 17.36s/it]"
     ]
    },
    {
     "name": "stdout",
     "output_type": "stream",
     "text": [
      "\n",
      "Original:     I 'm waiting forward to hearing from you soon .\n",
      "Gold labels:  c c i c c c c c c c\n",
      "Pred labels:  c c c c c c c c c c\n",
      "Gold:         I 'm looking forward to hearing from you soon .\n",
      "Correction 1: I'm waiting forward to hear from you soon.\n",
      "Correction 2: I'm looking forward to hearing from you soon.\n",
      "Correction 3: I'm waiting to hear from you soon.\n",
      "Correction 4: I'm looking forward to hearing from you soon.\n",
      "Correction 5: I'm awaiting your reply soon.\n",
      "Error types:  ['RV']\n",
      "\n"
     ]
    },
    {
     "name": "stderr",
     "output_type": "stream",
     "text": [
      " 75%|███████████████████████████████▌          | 79/105 [35:34<08:11, 18.89s/it]"
     ]
    },
    {
     "name": "stdout",
     "output_type": "stream",
     "text": [
      "\n",
      "Original:     After that I turned on the car light in order to tell the passing cars .\n",
      "Gold labels:  c c c c c c c i c c c i c c c c\n",
      "Pred labels:  c c c c c c c c c c c c c c c c\n",
      "Gold:         After that I turned on the car lights in order to warn the passing cars .\n",
      "Correction 1: After that, I turned on the car's light in order to tell passing cars.\n",
      "Correction 2: After that, I turned on the car light in order to signal passing cars.\n",
      "Correction 3: After that, I turned on the car light in order to let passing cars know.\n",
      "Correction 4: After turning on the car light, I did so in order to tell passing cars.\n",
      "Correction 5: After that, I turned on the car light in order to alert passing cars.\n",
      "Error types:  ['RV', 'FN']\n",
      "\n"
     ]
    },
    {
     "name": "stderr",
     "output_type": "stream",
     "text": [
      " 76%|████████████████████████████████          | 80/105 [35:41<06:17, 15.11s/it]"
     ]
    },
    {
     "name": "stdout",
     "output_type": "stream",
     "text": [
      "\n",
      "Original:     Suddenly a murderer happens !\n",
      "Gold labels:  c c i i c\n",
      "Pred labels:  c c c c c\n",
      "Gold:         Suddenly a murder takes place !\n",
      "Correction 1: Suddenly a murderer appeared!\n",
      "Correction 2: Suddenly, a murderer happened!\n",
      "Correction 3: Suddenly, a murderer appears!\n",
      "Correction 4: Suddenly, a murderer has happened!\n",
      "Correction 5: Suddenly, a murderer occurred!\n",
      "Error types:  ['RN', 'RV']\n",
      "\n"
     ]
    },
    {
     "name": "stderr",
     "output_type": "stream",
     "text": [
      " 77%|████████████████████████████████▍         | 81/105 [36:05<07:09, 17.90s/it]"
     ]
    },
    {
     "name": "stdout",
     "output_type": "stream",
     "text": [
      "\n",
      "Original:     I would rather stay in one of the log cabins as I am allergic to many plants and insects and I should avoid contacting them .\n",
      "Gold labels:  c c c c c c c c c c c c c c c c c c c c c c c i c c\n",
      "Pred labels:  c c c c c c c c c c c c c c c c c c c c c c c c c c\n",
      "Gold:         I would rather stay in one of the log cabins as I am allergic to many plants and insects and I should avoid coming into contact with them .\n",
      "Correction 1: I would rather stay in one of the log cabins as I am allergic to many plants and insects, and I should avoid contacting them.\n",
      "Correction 2: I would rather stay in a log cabin as I am allergic to many plants and insects, and I should avoid contacting them.\n",
      "Correction 3: I would rather stay in one of the log cabins as I am allergic to many plants and insects; I should avoid contacting them.\n",
      "Correction 4: I would rather stay in one of the log cabins as I am allergic to many plants and insects, so I should avoid contacting them.\n",
      "Correction 5: I would rather stay in a log cabin as I am allergic to many plants and insects, and I should avoid them.\n",
      "Error types:  ['RV']\n",
      "\n"
     ]
    },
    {
     "name": "stderr",
     "output_type": "stream",
     "text": [
      " 78%|████████████████████████████████▊         | 82/105 [36:32<07:55, 20.67s/it]"
     ]
    },
    {
     "name": "stdout",
     "output_type": "stream",
     "text": [
      "\n",
      "Original:     I am writing in reply to your letter in which you communicate I have won first prize in your competion .\n",
      "Gold labels:  c c c c c c c c c c c i i c c c c c c i c\n",
      "Pred labels:  c c c c c c c c c c c c c c c c c c c i c\n",
      "Gold:         I am writing in reply to your letter in which you tell have won first prize in your competition .\n",
      "Correction 1: I am writing in reply to your letter in which you communicate that I have won first prize in your competition.\n",
      "Correction 2: I am writing in reply to your letter in which you communicated I have won first prize in your competition.\n",
      "Correction 3: I am writing in reply to your letter in which you communicate that I won first prize in your competition.\n",
      "Correction 4: I am writing in reply to your letter in which you informed me that I have won first prize in your competition.\n",
      "Correction 5: I am writing in reply to your letter in which you inform me that I have won first prize in your competition.\n",
      "Error types:  ['NO_LABEL', 'RV', 'S']\n",
      "\n"
     ]
    },
    {
     "name": "stderr",
     "output_type": "stream",
     "text": [
      " 79%|█████████████████████████████████▏        | 83/105 [37:18<10:22, 28.29s/it]"
     ]
    },
    {
     "name": "stdout",
     "output_type": "stream",
     "text": [
      "\n",
      "Original:     First of all , I would like to inform you that I will be able to travel only during July because in June I am going to give examinations for the First Certificate in English .\n",
      "Gold labels:  c c c c c c c c c c c c c c c c c c c c c c c c c c c i c c c c c c c c\n",
      "Pred labels:  c c c c c c c c c c c c c c c c c c c c c c c c c c c c c c c c c c c c\n",
      "Gold:         First of all , I would like to inform you that I will be able to travel only during July because in June I am going to sit examinations for the First Certificate in English .\n",
      "Correction 1: First of all, I would like to inform you that I will be able to travel only during July because in June I am going to give examinations for the First Certificate in English.\n",
      "Correction 2: First of all, I would like to inform you that I will be able to travel only during July because in June I have examinations for the First Certificate in English.\n",
      "Correction 3: First of all, I would like to inform you that I will be able to travel only during July because in June I am going to give exams for the First Certificate in English.\n",
      "Correction 4: First of all, I would like to inform you that I will be able to travel only during July because in June I have exams for the First Certificate in English.\n",
      "Correction 5: First of all, I would like to inform you that I will be able to travel only during July as in June I am going to give examinations for the First Certificate in English.\n",
      "Error types:  ['RV']\n",
      "\n"
     ]
    },
    {
     "name": "stderr",
     "output_type": "stream",
     "text": [
      " 80%|█████████████████████████████████▌        | 84/105 [37:58<11:03, 31.62s/it]"
     ]
    },
    {
     "name": "stdout",
     "output_type": "stream",
     "text": [
      "\n",
      "Original:     Secondly , I would be grateful if you could arrange for me accomodation in log cabins as I am not used on living in the countryside and especially in tents .\n",
      "Gold labels:  c c c c c c c c c c i i i c c c c c c c c i i c c c c c i c c\n",
      "Pred labels:  c c c c c c c c c c c c i c c c c c c c c c c c c c c c c c c\n",
      "Gold:         Secondly , I would be grateful if you could arrange accommodation for me accommodation for me accommodation in log cabins as I am not used to staying in the countryside and especially tents .\n",
      "Correction 1: Secondly, I would be grateful if you could arrange for me accommodation in log cabins as I am not used to living in the countryside and especially in tents.\n",
      "Correction 2: Secondly, I would be grateful if you could arrange for me accommodation in log cabins as I am not used to living in the countryside and especially in tents. Please remove \"on\".\n",
      "Correction 3: Secondly, I would be grateful if you could arrange for me accommodation in log cabins as I am not used to living in the countryside and especially in tents. Please replace \"log\" with \"small\".\n",
      "Correction 4: Secondly, I would be grateful if you could arrange for me accommodation in lodges as I am not used to living in the countryside and especially in tents.\n",
      "Correction 5: Secondly, I would be grateful if you could arrange for me accommodation in log cabins as I am not used to living in the countryside and especially in tents. Please replace \"arrange\" with \"provide\".\n",
      "Error types:  ['RV', 'RT', 'NO_LABEL', 'S', 'W']\n",
      "\n"
     ]
    },
    {
     "name": "stderr",
     "output_type": "stream",
     "text": [
      " 81%|██████████████████████████████████        | 85/105 [38:08<08:25, 25.28s/it]"
     ]
    },
    {
     "name": "stdout",
     "output_type": "stream",
     "text": [
      "\n",
      "Original:     People should have to take a license to drive those things .\n",
      "Gold labels:  c c c c i c i c c c c c\n",
      "Pred labels:  c c c c c c c c c c c c\n",
      "Gold:         People should have to get a licence to drive those things .\n",
      "Correction 1: People should have to take a license to drive those vehicles.\n",
      "Correction 2: People should be able to take a license to drive those things.\n",
      "Correction 3: People must take a license to drive those things.\n",
      "Correction 4: People need to get a license to drive those things.\n",
      "Correction 5: People ought to get a license to drive those things.\n",
      "Error types:  ['SA', 'RV']\n",
      "\n"
     ]
    },
    {
     "name": "stderr",
     "output_type": "stream",
     "text": [
      " 82%|██████████████████████████████████▍       | 86/105 [38:45<09:07, 28.79s/it]"
     ]
    },
    {
     "name": "stdout",
     "output_type": "stream",
     "text": [
      "\n",
      "Original:     It allows us to keep connections with the other states of the world , improves our knowledge , offers us news , advises us about events which happened or will happen .\n",
      "Gold labels:  c c c c i c c c c c c c c c c c c c c c c c c c c c c i c c c c\n",
      "Pred labels:  c c c c c c c c c c c c c c c c c c c c c c c c c c c c c c c c\n",
      "Gold:         It allows us to maintain connections with the other states of the world , improves our knowledge , offers us news , advises us about events which have happened or will happen .\n",
      "Correction 1: It allows us to keep connections with the other states of the world, improves our knowledge, offers us news, advises us about events that happened or will happen.\n",
      "Correction 2: It allows us to maintain connections with the other states of the world, improves our knowledge, offers us news, advises us about events which have happened or will happen.\n",
      "Correction 3: It allows us to maintain connections with other states in the world, improves our knowledge, offers us news, and advises us about events that have occurred or are expected to occur.\n",
      "Correction 4: It enables us to keep in touch with other countries around the world, enhances our understanding, provides us with information, and gives advice on occurrences both past and future.\n",
      "Correction 5: It allows us to maintain connections with other states of the world, improves our knowledge, offers us news, and advises us about events that occurred or are likely to occur.\n",
      "Error types:  ['RV', 'TV']\n",
      "\n"
     ]
    },
    {
     "name": "stderr",
     "output_type": "stream",
     "text": [
      " 83%|██████████████████████████████████▊       | 87/105 [39:26<09:45, 32.51s/it]"
     ]
    },
    {
     "name": "stdout",
     "output_type": "stream",
     "text": [
      "\n",
      "Original:     When the play began I realised that the main actor had been changed and the new one was n't good at all .\n",
      "Gold labels:  c c c c c c c c c c c c i c c c c c c c c c c\n",
      "Pred labels:  c c c c c c c c c c c c c c c c c c c c c c c\n",
      "Gold:         When the play began I realised that the main actor had been replaced and the new one was n't good at all .\n",
      "Correction 1: When the play began, I realized that the main actor had been changed and the new one was not good at all.\n",
      "Correction 2: When the play began I realized that the main actor had been replaced and the new one wasn't good at all.\n",
      "Correction 3: When the play began I realized that the main actor had been changed and the new one was no good at all.\n",
      "Correction 4: When the play began I realized that the main actor had been changed and the new one wasn't at all good.\n",
      "Correction 5: When the play began I realized that the main actor had been changed and the new one was not at all good.\n",
      "Correction 6: Note: The fifth line is identical to the fourth, so no additional unique correction is possible without altering the meaning further.\n",
      "Error types:  ['RV']\n",
      "\n"
     ]
    },
    {
     "name": "stderr",
     "output_type": "stream",
     "text": [
      " 84%|███████████████████████████████████▏      | 88/105 [39:55<08:52, 31.30s/it]"
     ]
    },
    {
     "name": "stdout",
     "output_type": "stream",
     "text": [
      "\n",
      "Original:     Secondely , I am interested in discovering something that I have never done , so I would like to do sailing .\n",
      "Gold labels:  i c c c c c i c c c c c c c c c c c c c c c\n",
      "Pred labels:  i c c c c c c c c c c c c c c c c c c c c c\n",
      "Gold:         Secondly , I am interested in trying something that I have never done , so I would like to do sailing .\n",
      "Correction 1: Secondly, I am interested in discovering something that I have never done, so I would like to do sailing.\n",
      "Correction 2: Secondely, I am interested in discovering something that I have never done before, so I would like to do sailing.\n",
      "Correction 3: Secondely, I am interested in discovering something that I have never tried, so I would like to do sailing.\n",
      "Correction 4: Secondely, I am interested in discovering something that I have never experienced, so I would like to do sailing.\n",
      "Correction 5: Secondely, I am interested in discovering something that I have never attempted, so I would like to do sailing.\n",
      "Error types:  ['RV', 'S']\n",
      "\n"
     ]
    },
    {
     "name": "stderr",
     "output_type": "stream",
     "text": [
      " 85%|███████████████████████████████████▌      | 89/105 [40:11<07:06, 26.68s/it]"
     ]
    },
    {
     "name": "stdout",
     "output_type": "stream",
     "text": [
      "\n",
      "Original:     We might even be able to open the door without getting out from the living room .\n",
      "Gold labels:  c c c c c c c c c c i i c c c c c\n",
      "Pred labels:  c c c c c c c c c c c c c c c c c\n",
      "Gold:         We might even be able to open the door without leaving leaving from the living room .\n",
      "Correction 1: We might even be able to open the door without getting up from the living room.\n",
      "Correction 2: We might even be able to open the door without leaving the living room.\n",
      "Correction 3: We might even be able to open the door without getting out of the living room.\n",
      "Correction 4: We might even be able to open the door without coming out from the living room.\n",
      "Correction 5: We might even be able to open the door without going out from the living room.\n",
      "Error types:  ['RV']\n",
      "\n"
     ]
    },
    {
     "name": "stderr",
     "output_type": "stream",
     "text": [
      " 86%|████████████████████████████████████      | 90/105 [40:37<06:38, 26.59s/it]"
     ]
    },
    {
     "name": "stdout",
     "output_type": "stream",
     "text": [
      "\n",
      "Original:     Then you offered people to visit your theatre restaurant after the show but it was closed because there is no staff to welcome the people .\n",
      "Gold labels:  c c i c c c c c c c c c c c c c c c i c c c c c c c\n",
      "Pred labels:  c c c c c c c c c c c c c c c c c c i c c c c c c c\n",
      "Gold:         Then you invited people to visit your theatre restaurant after the show but it was closed because there were no staff to welcome the people .\n",
      "Correction 1: Then you offered people to visit your theatre restaurant after the show, but it was closed because there was no staff to welcome them.\n",
      "Correction 2: Then you offered people to visit your theatre-restaurant after the show but it was closed because there was no staff to welcome them.\n",
      "Correction 3: Then you offered people to visit your theatre restaurant after the show but it was closed because there was no staff to welcome visitors.\n",
      "Correction 4: Then you offered people to visit your theatre restaurant after the show, but it was closed because there was no staff to welcome guests.\n",
      "Correction 5: Then you offered people to visit your theatre-restaurant after the show, but it was closed due to a lack of staff to welcome them.\n",
      "Error types:  ['RV', 'TV']\n",
      "\n"
     ]
    },
    {
     "name": "stderr",
     "output_type": "stream",
     "text": [
      " 87%|████████████████████████████████████▍     | 91/105 [40:59<05:53, 25.23s/it]"
     ]
    },
    {
     "name": "stdout",
     "output_type": "stream",
     "text": [
      "\n",
      "Original:     Shopping is enjoyable when you want to offer some thing to someone .\n",
      "Gold labels:  c c c c c c c i i i c c c\n",
      "Pred labels:  c c c c c c c c c i c c c\n",
      "Gold:         Shopping is enjoyable when you want to give something something to someone .\n",
      "Correction 1: Shopping is enjoyable when you want to offer something to someone.\n",
      "Correction 2: Shopping is enjoyable when you want to offer things to someone.\n",
      "Correction 3: Shopping is enjoyable when you want to offer some things to someone.\n",
      "Correction 4: Shopping is enjoyable when you want to offer something.\n",
      "Correction 5: Shopping is enjoyable when you want to offer things.\n",
      "Error types:  ['RV', 'RP']\n",
      "\n"
     ]
    },
    {
     "name": "stderr",
     "output_type": "stream",
     "text": [
      " 88%|████████████████████████████████████▊     | 92/105 [41:15<04:52, 22.52s/it]"
     ]
    },
    {
     "name": "stdout",
     "output_type": "stream",
     "text": [
      "\n",
      "Original:     How much money should I take with me and what sort of clothes are requested\n",
      "Gold labels:  c c c c c c c c c c c c c c i\n",
      "Pred labels:  c c c c c c c c c c c c c c c\n",
      "Gold:         How much money should I take with me and what sort of clothes are required\n",
      "Correction 1: How much money should I take with me and what kind of clothes are requested\n",
      "Correction 2: How much money should I bring with me and what sort of clothes are requested\n",
      "Correction 3: How much money should I take with me and what type of clothes are requested\n",
      "Correction 4: How much money should I take with me and what sorts of clothes are requested\n",
      "Correction 5: How much money should I take with me and what kind of clothing are requested\n",
      "Error types:  ['RV']\n",
      "\n"
     ]
    },
    {
     "name": "stderr",
     "output_type": "stream",
     "text": [
      " 89%|█████████████████████████████████████▏    | 93/105 [41:49<05:08, 25.73s/it]"
     ]
    },
    {
     "name": "stdout",
     "output_type": "stream",
     "text": [
      "\n",
      "Original:     In conclusion I want to say that inspite of this , I hope that in future we will have more and more new inventions and they will stop our disasters and problems .\n",
      "Gold labels:  c c c c c c c i c c c c c c c c c c c c c c c c c c c i c c c c c\n",
      "Pred labels:  c c c c c c c c c c c c c c c c c c c c c c c c c c c c c c c c c\n",
      "Gold:         In conclusion I want to say that in spite of this , I hope that in future we will have more and more new inventions and they will prevent our disasters and problems .\n",
      "Correction 1: In conclusion, I want to say that despite this, I hope that in the future we will have more and more new inventions and they will stop our disasters and problems.\n",
      "Correction 2: In conclusion, I want to say that inspite of this, I hope that in future we will have more and more new inventions and they will solve our disasters and problems.\n",
      "Correction 3: In conclusion, I want to say that despite this, I hope that in the future we will have more and more new inventions and these will stop our disasters and problems.\n",
      "Correction 4: In conclusion, I want to say that despite this, I hope that in the future we will have more and more new inventions and they will prevent our disasters and problems.\n",
      "Correction 5: In conclusion, I want to say that despite this, I hope that in the future we will have more and more new inventions and they will address our disasters and problems.\n",
      "Error types:  ['RV', 'RP']\n",
      "\n"
     ]
    },
    {
     "name": "stderr",
     "output_type": "stream",
     "text": [
      " 90%|█████████████████████████████████████▌    | 94/105 [42:16<04:47, 26.17s/it]"
     ]
    },
    {
     "name": "stdout",
     "output_type": "stream",
     "text": [
      "\n",
      "Original:     Finally , I suggest you should try as I did if you have any opportunity . You must like it .\n",
      "Gold labels:  c c c c c c c c c c c c c c c c c i c c c\n",
      "Pred labels:  c c c c c c c c c c c c c c c c c c c c c\n",
      "Gold:         Finally , I suggest you should try as I did if you have any opportunity . You are sure to like it .\n",
      "Correction 1: Finally, I suggest you try as I did if you have any opportunity. You must like it.\n",
      "Correction 2: Finally, I suggest that you should try as I did if you have any opportunity. You must like it.\n",
      "Correction 3: Finally, I suggest you should try as I did if you have any opportunity. You must like it.\n",
      "Correction 4: Finally, I suggest you try as I did if you have any opportunities. You must like it.\n",
      "Correction 5: Finally, I suggest you try as I did if you have the opportunity. You must like it.\n",
      "Error types:  ['RV']\n",
      "\n"
     ]
    },
    {
     "name": "stderr",
     "output_type": "stream",
     "text": [
      " 90%|██████████████████████████████████████    | 95/105 [42:39<04:12, 25.29s/it]"
     ]
    },
    {
     "name": "stdout",
     "output_type": "stream",
     "text": [
      "\n",
      "Original:     I came into their room and give hot Cheeseburgers , Coca - Cola and ice - cream to Peter .\n",
      "Gold labels:  c i c c c c i c c c c c c c c c c c c c\n",
      "Pred labels:  c c c c c c i c c c c c c c c c c c c c\n",
      "Gold:         I went into their room and gave hot Cheeseburgers , Coca - Cola and ice - cream to Peter .\n",
      "Correction 1: I came into their room and gave hot cheeseburgers, Coca-Cola, and ice-cream to Peter.\n",
      "Correction 2: I came into their room and gave hot cheeseburgers, coca-cola, and ice-cream to Peter.\n",
      "Correction 3: I came into their room and gave hot cheeseburgers, coca-cola, and an ice-cream to Peter.\n",
      "Correction 4: I came into their room and gave hot cheeseburgers, Coca-Cola, and some ice-cream to Peter.\n",
      "Correction 5: I came into their room and gave them hot cheeseburgers, Coca-Cola, and ice-cream.\n",
      "Error types:  ['RV', 'TV']\n",
      "\n"
     ]
    },
    {
     "name": "stderr",
     "output_type": "stream",
     "text": [
      " 91%|██████████████████████████████████████▍   | 96/105 [43:20<04:30, 30.04s/it]"
     ]
    },
    {
     "name": "stdout",
     "output_type": "stream",
     "text": [
      "\n",
      "Original:     He promised to keep secret , in the next morning we had arguiment with Pat , 3 of us were shouting at each other , in shorter Pat went away from us .\n",
      "Gold labels:  c c c c i i i i c c c c i c c c i c c c c c c c i i i c i i i c c\n",
      "Pred labels:  c c c c i i i c c c c c i c c c c c c c c c c c i i i c c c c c c\n",
      "Gold:         He promised to keep . In the . In the . In the next morning we had argument with Pat , of us were shouting at each other . In . In short Pat left left left us .\n",
      "Correction 1: He promised to keep it secret, in the next morning we had an argument with Pat, 3 of us were shouting at each other, and then Pat went away from us.\n",
      "Correction 2: He promised to keep it secret; in the morning the next day we had an argument with Pat, 3 of us were shouting at each other, and then Pat went away from us.\n",
      "Correction 3: He promised to keep it secret, in the next morning we had an arguiment with Pat, 3 of us were shouting at each other, and Pat then went away from us.\n",
      "Correction 4: He promised to keep it secret, in the next morning we had an argument with Pat, 3 of us were shouting at each other, and in shorter Pat then went away from us.\n",
      "Correction 5: He promised to keep it secret, in the next morning we had an argument with Pat, 3 of us were shouting at each other, and then in a shorter time Pat went away from us.\n",
      "Correction 6: Note: The fifth correction is slightly different as there are fewer than five unique corrections possible given the constraints.\n",
      "Error types:  ['RV', 'RP', 'NO_LABEL', 'S', 'FJ']\n",
      "\n"
     ]
    },
    {
     "name": "stderr",
     "output_type": "stream",
     "text": [
      " 92%|██████████████████████████████████████▊   | 97/105 [43:52<04:04, 30.50s/it]"
     ]
    },
    {
     "name": "stdout",
     "output_type": "stream",
     "text": [
      "\n",
      "Original:     I am very happy to win this prize and I am going to give you some information from me that you need to make me have a good time at Camp California .\n",
      "Gold labels:  c c c c c c c c c c c c c c c c c i i i i i c i i c c c c c c c c\n",
      "Pred labels:  c c c c c c c c c c c c c c c c c c c c c c c c c c c c c c c c c\n",
      "Gold:         I am very happy to win this prize and I am going to give you some information that you need from me that you need from me that you need from me that you need from me that you need from me to ensure that I have a good time at Camp California .\n",
      "Correction 1: I am very happy to win this prize and I am going to give you some information that you need to make me have a good time at Camp California.\n",
      "Correction 2: I am very happy to win this prize. I am going to give you some information from me that you need to make me have a good time at Camp California.\n",
      "Correction 3: I am very happy to win this prize and I am going to give you some information from me that you need to make it fun for me at Camp California.\n",
      "Correction 4: I am very happy to win this prize and I am going to give you some information from me that you need to ensure I have a good time at Camp California.\n",
      "Correction 5: I am very happy to win this prize and I am going to give you some information from me that you need to help me have a good time at Camp California.\n",
      "Error types:  ['R', 'RV', 'W']\n",
      "\n"
     ]
    },
    {
     "name": "stderr",
     "output_type": "stream",
     "text": [
      " 93%|███████████████████████████████████████▏  | 98/105 [44:04<02:54, 24.93s/it]"
     ]
    },
    {
     "name": "stdout",
     "output_type": "stream",
     "text": [
      "\n",
      "Original:     I often like getting gifts for my relatives and friends .\n",
      "Gold labels:  c c c i c c c c c c c\n",
      "Pred labels:  c c c c c c c c c c c\n",
      "Gold:         I often like buying gifts for my relatives and friends .\n",
      "Correction 1: I often like getting gifts for my relatives and friends.\n",
      "Correction 2: I often like to get gifts for my relatives and friends.\n",
      "Correction 3: I like often getting gifts for my relatives and friends.\n",
      "Correction 4: Getting gifts for my relatives and friends is often what I like.\n",
      "Correction 5: I like to receive gifts for my relatives and friends.\n",
      "Error types:  ['RV']\n",
      "\n"
     ]
    },
    {
     "name": "stderr",
     "output_type": "stream",
     "text": [
      " 94%|███████████████████████████████████████▌  | 99/105 [44:24<02:21, 23.53s/it]"
     ]
    },
    {
     "name": "stdout",
     "output_type": "stream",
     "text": [
      "\n",
      "Original:     With this letter I want to show you some problems I had last week in your theatre with your show .\n",
      "Gold labels:  c c c c c c i i c c c c c c i c c c c c c\n",
      "Pred labels:  c c c c c c c c c c c c c c c c c c c c c\n",
      "Gold:         With this letter I want to explain some problems I had last week at your theatre with your show .\n",
      "Correction 1: With this letter I want to show you some problems I had last week at your theatre with your show\n",
      "Correction 2: With this letter I want to show you some problems I had last week with your show at your theatre\n",
      "Correction 3: With this letter I want to show you some problems I had last week in your theatre about your show\n",
      "Correction 4: With this letter I want to show you the problems I had last week in your theatre with your show\n",
      "Correction 5: With this letter I want to show you some problems I had last week regarding your show in your theatre\n",
      "Error types:  ['NO_LABEL', 'RV', 'RT']\n",
      "\n"
     ]
    },
    {
     "name": "stderr",
     "output_type": "stream",
     "text": [
      " 95%|███████████████████████████████████████  | 100/105 [45:14<02:37, 31.52s/it]"
     ]
    },
    {
     "name": "stdout",
     "output_type": "stream",
     "text": [
      "\n",
      "Original:     Maybe , in a few years later we 'll have a bigger TV , a more suitable radio but , from my point of view , I think these facts will not change the way of our lifes . We will be able to accelerate the process of the computer 's games for example ...\n",
      "Gold labels:  c c c c c c i c c c c c c c c c c c c c i i i i i c c c c c c c c i c c c i c c c c c c i c i c c c c c c c c\n",
      "Pred labels:  c c c c c c c c c c c c c c c c c c c c c c c c c c c c c c c c c c c c c i c c c c c c c c c c c c c c c c c\n",
      "Gold:         Maybe , in a few years time we 'll have a bigger TV , a more suitable radio but , in my opinion in my opinion in my opinion in my opinion in my opinion , I think these facts will not change our way of our lives . We will be able to speed up the running of the computer 's games for example ...\n",
      "Correction 1: Maybe, in a few years later we'll have a bigger TV, a more suitable radio but from my point of view I think these facts will not change the way of our lives. We will be able to accelerate the process of computer games for example ...\n",
      "Correction 2: Maybe in a few years later we'll have a bigger TV, a more suitable radio but from my point of view I think these facts will not change the way of our lives. We will be able to accelerate the process of computer games for example ...\n",
      "Correction 3: Maybe in a few years later we'll have a bigger TV, a more suitable radio but from my point of view I think these facts will not change the way of our life. We will be able to accelerate the process of computer's games for example ...\n",
      "Correction 4: Maybe in a few years later we'll have a bigger TV, a more suitable radio but from my point of view I think these facts will not change our lives. We will be able to accelerate the process of computer games for example ...\n",
      "Correction 5: Maybe in a few years later we'll have a bigger TV, a more suitable radio but from my point of view I think these facts will not change the way of our lives. We will be able to accelerate the processes of computer games for example ...\n",
      "Error types:  ['RV', 'RD', 'IN', 'ID', 'RN', 'R']\n",
      "\n"
     ]
    },
    {
     "name": "stderr",
     "output_type": "stream",
     "text": [
      " 96%|███████████████████████████████████████▍ | 101/105 [45:24<01:40, 25.05s/it]"
     ]
    },
    {
     "name": "stdout",
     "output_type": "stream",
     "text": [
      "\n",
      "Original:     Technology is a wide field which increases very quickly .\n",
      "Gold labels:  c c c c c c i c c c\n",
      "Pred labels:  c c c c c c c c c c\n",
      "Gold:         Technology is a wide field which expands very quickly .\n",
      "Correction 1: Technology is a wide field which increases very rapidly.\n",
      "Correction 2: Technology is a broad field that increases quickly.\n",
      "Correction 3: Technology is a vast field which increases rapidly.\n",
      "Correction 4: Technology is a wide field that increases very quickly.\n",
      "Correction 5: Technology is a wide field which increases swiftly.\n",
      "Error types:  ['RV']\n",
      "\n"
     ]
    },
    {
     "name": "stderr",
     "output_type": "stream",
     "text": [
      " 97%|███████████████████████████████████████▊ | 102/105 [45:56<01:21, 27.29s/it]"
     ]
    },
    {
     "name": "stdout",
     "output_type": "stream",
     "text": [
      "\n",
      "Original:     The great idea of making it \"\"\"\" international \"\"\"\" was unfortunately not brought to life , because the artists ( mentioned to be \"\"\"\" from around the world \"\"\"\" ) were from only six countries .\n",
      "Gold labels:  c c c c c c c c c c c c c c c c c c c c i c c c c c c c c c c c c c c c\n",
      "Pred labels:  c c c c c c c c c c c c c c c c c c c c c c c c c c c c c c c c c c c c\n",
      "Gold:         The great idea of making it \"\"\"\" international \"\"\"\" was unfortunately not brought to life , because the artists ( said to be \"\"\"\" from around the world \"\"\"\" ) were from only six countries .\n",
      "Correction 1: The great idea of making it international was unfortunately not brought to life because the artists (mentioned to be from around the world) were from only six countries.\n",
      "Correction 2: The great idea of making it \"international\" was unfortunately not brought to life because the artists (mentioned to be \"from around the world\") were from only six countries.\n",
      "Correction 3: The great idea of making it international was unfortunately not realized because the artists (mentioned to be from around the world) were from only six countries.\n",
      "Correction 4: The great idea of making it \"international\" was unfortunately not realized because the artists (mentioned to be \"from around the world\") were from only six countries.\n",
      "Correction 5: The great idea of making it international was unfortunately not brought to life as the artists (mentioned to be from around the world) were from only six countries.\n",
      "Error types:  ['RV']\n",
      "\n"
     ]
    },
    {
     "name": "stderr",
     "output_type": "stream",
     "text": [
      " 98%|████████████████████████████████████████▏| 103/105 [46:02<00:41, 20.65s/it]"
     ]
    },
    {
     "name": "stdout",
     "output_type": "stream",
     "text": [
      "\n",
      "Original:     I got to go .\n",
      "Gold labels:  c i c c c\n",
      "Pred labels:  c c c c c\n",
      "Gold:         I have got to go .\n",
      "Correction 1: I have to go.\n",
      "Correction 2: I need to go.\n",
      "Correction 3: I got to going.\n",
      "Correction 4: I had to go.\n",
      "Correction 5: I must go.\n",
      "Error types:  ['RV']\n",
      "\n"
     ]
    },
    {
     "name": "stderr",
     "output_type": "stream",
     "text": [
      " 99%|████████████████████████████████████████▌| 104/105 [46:30<00:22, 22.94s/it]"
     ]
    },
    {
     "name": "stdout",
     "output_type": "stream",
     "text": [
      "\n",
      "Original:     Well I believe that it was a bad day but I would like you to give my money back because on the advertisement there was some things that we had n't in the theatre .\n",
      "Gold labels:  c c c c c c c c c c c c c c c c i c c c i c c c i c c c c i c i c c c\n",
      "Pred labels:  c c c c c c c c c c c c c c c c i c c c i c c c i c c c c c c c c c c\n",
      "Gold:         Well I believe that it was a bad day but I would like you to give money back because in the advertisement there were some things that we didn't n't the theatre .\n",
      "Correction 1: Well I believe that it was a bad day but I would like you to give me my money back because on the advertisement there were some things that we didn't have in the theatre.\n",
      "Correction 2: Well I believe that it was a bad day but I would like you to give my money back because on the advertisement there were some things that we hadn't in the theatre.\n",
      "Correction 3: Well I believe that it was a bad day but I would like you to give my money back because on the advertisement there were some things that we didn't have in the theatre.\n",
      "Correction 4: Well I believe that it was a bad day but I would like you to give my money back because on the ad there were some things that we didn't have in the theatre.\n",
      "Error types:  ['RV', 'NO_LABEL', 'AGV', 'RT']\n",
      "\n"
     ]
    },
    {
     "name": "stderr",
     "output_type": "stream",
     "text": [
      "100%|█████████████████████████████████████████| 105/105 [46:33<00:00, 26.61s/it]"
     ]
    },
    {
     "name": "stdout",
     "output_type": "stream",
     "text": [
      "\n",
      "Original:     So we can do shopping instead .\n",
      "Gold labels:  c c c i c c c\n",
      "Pred labels:  c c c c c c c\n",
      "Gold:         So we can go shopping instead .\n",
      "Correction 1: So we can do shopping instead.\n",
      "Correction 2: So we can shop instead.\n",
      "Error types:  ['RV']\n",
      "\n"
     ]
    },
    {
     "name": "stderr",
     "output_type": "stream",
     "text": [
      "\n"
     ]
    },
    {
     "name": "stdout",
     "output_type": "stream",
     "text": [
      "[Attempt 1/1] Error: Connection error.. Retrying in 2 seconds...\n"
     ]
    },
    {
     "name": "stderr",
     "output_type": "stream",
     "text": [
      "\r",
      " 89%|████████▊ | 93/105 [10:18<01:19,  6.61s/it]"
     ]
    },
    {
     "name": "stdout",
     "output_type": "stream",
     "text": [
      "[SKIPPED] Model did not respond in time. Skipping this sentence.\n",
      "Attempt 2: Empty response, retrying...\n",
      "\n",
      "Original: Secondely , I am interested in discovering something that I have never done , so I would like to do sailing .\n",
      "No corrections found.\n",
      "\n"
     ]
    },
    {
     "name": "stdout",
     "output_type": "stream",
     "text": [
      "[Attempt 1/1] Error: Connection error.. Retrying in 2 seconds...\n"
     ]
    },
    {
     "name": "stdout",
     "output_type": "stream",
     "text": [
      "[SKIPPED] Model did not respond in time. Skipping this sentence.\n",
      "Attempt 1: Empty response, retrying...\n"
     ]
    },
    {
     "name": "stdout",
     "output_type": "stream",
     "text": [
      "[Attempt 1/1] Error: Connection error.. Retrying in 2 seconds...\n"
     ]
    },
    {
     "name": "stderr",
     "output_type": "stream",
     "text": [
      "\r",
      " 90%|████████▉ | 94/105 [10:25<01:13,  6.66s/it]"
     ]
    },
    {
     "name": "stdout",
     "output_type": "stream",
     "text": [
      "[SKIPPED] Model did not respond in time. Skipping this sentence.\n",
      "Attempt 2: Empty response, retrying...\n",
      "\n",
      "Original: If looking after children does n't fit you , you can try with pets .\n",
      "No corrections found.\n",
      "\n"
     ]
    },
    {
     "name": "stdout",
     "output_type": "stream",
     "text": [
      "[Attempt 1/1] Error: Connection error.. Retrying in 2 seconds...\n"
     ]
    },
    {
     "name": "stdout",
     "output_type": "stream",
     "text": [
      "[SKIPPED] Model did not respond in time. Skipping this sentence.\n",
      "Attempt 1: Empty response, retrying...\n"
     ]
    },
    {
     "name": "stdout",
     "output_type": "stream",
     "text": [
      "[Attempt 1/1] Error: Connection error.. Retrying in 2 seconds...\n"
     ]
    },
    {
     "name": "stderr",
     "output_type": "stream",
     "text": [
      "\r",
      " 90%|█████████ | 95/105 [10:31<01:06,  6.64s/it]"
     ]
    },
    {
     "name": "stdout",
     "output_type": "stream",
     "text": [
      "[SKIPPED] Model did not respond in time. Skipping this sentence.\n",
      "Attempt 2: Empty response, retrying...\n",
      "\n",
      "Original: I 'd better leave now .\n",
      "No corrections found.\n",
      "\n"
     ]
    },
    {
     "name": "stdout",
     "output_type": "stream",
     "text": [
      "[Attempt 1/1] Error: Connection error.. Retrying in 2 seconds...\n"
     ]
    },
    {
     "name": "stdout",
     "output_type": "stream",
     "text": [
      "[SKIPPED] Model did not respond in time. Skipping this sentence.\n",
      "Attempt 1: Empty response, retrying...\n"
     ]
    },
    {
     "name": "stdout",
     "output_type": "stream",
     "text": [
      "[Attempt 1/1] Error: Connection error.. Retrying in 2 seconds...\n"
     ]
    },
    {
     "name": "stderr",
     "output_type": "stream",
     "text": [
      "\r",
      " 91%|█████████▏| 96/105 [10:38<00:59,  6.59s/it]"
     ]
    },
    {
     "name": "stdout",
     "output_type": "stream",
     "text": [
      "[SKIPPED] Model did not respond in time. Skipping this sentence.\n",
      "Attempt 2: Empty response, retrying...\n",
      "\n",
      "Original: I 've seen your festival and I would like to give you my suggestions to it .\n",
      "No corrections found.\n",
      "\n"
     ]
    },
    {
     "name": "stdout",
     "output_type": "stream",
     "text": [
      "[Attempt 1/1] Error: Connection error.. Retrying in 2 seconds...\n"
     ]
    },
    {
     "name": "stdout",
     "output_type": "stream",
     "text": [
      "[SKIPPED] Model did not respond in time. Skipping this sentence.\n",
      "Attempt 1: Empty response, retrying...\n"
     ]
    },
    {
     "name": "stdout",
     "output_type": "stream",
     "text": [
      "[Attempt 1/1] Error: Connection error.. Retrying in 2 seconds...\n"
     ]
    },
    {
     "name": "stderr",
     "output_type": "stream",
     "text": [
      "\r",
      " 92%|█████████▏| 97/105 [10:45<00:53,  6.64s/it]"
     ]
    },
    {
     "name": "stdout",
     "output_type": "stream",
     "text": [
      "[SKIPPED] Model did not respond in time. Skipping this sentence.\n",
      "Attempt 2: Empty response, retrying...\n",
      "\n",
      "Original: According to the advertisement you gave , there have been some important differents .\n",
      "No corrections found.\n",
      "\n"
     ]
    },
    {
     "name": "stdout",
     "output_type": "stream",
     "text": [
      "[Attempt 1/1] Error: Connection error.. Retrying in 2 seconds...\n"
     ]
    },
    {
     "name": "stdout",
     "output_type": "stream",
     "text": [
      "[SKIPPED] Model did not respond in time. Skipping this sentence.\n",
      "Attempt 1: Empty response, retrying...\n"
     ]
    },
    {
     "name": "stdout",
     "output_type": "stream",
     "text": [
      "[Attempt 1/1] Error: Connection error.. Retrying in 2 seconds...\n"
     ]
    },
    {
     "name": "stderr",
     "output_type": "stream",
     "text": [
      "\r",
      " 93%|█████████▎| 98/105 [10:51<00:46,  6.59s/it]"
     ]
    },
    {
     "name": "stdout",
     "output_type": "stream",
     "text": [
      "[SKIPPED] Model did not respond in time. Skipping this sentence.\n",
      "Attempt 2: Empty response, retrying...\n",
      "\n",
      "Original: I can know what is happening in differents parts of the world in a few minutes .\n",
      "No corrections found.\n",
      "\n"
     ]
    },
    {
     "name": "stdout",
     "output_type": "stream",
     "text": [
      "[Attempt 1/1] Error: Connection error.. Retrying in 2 seconds...\n"
     ]
    },
    {
     "name": "stdout",
     "output_type": "stream",
     "text": [
      "[SKIPPED] Model did not respond in time. Skipping this sentence.\n",
      "Attempt 1: Empty response, retrying...\n"
     ]
    },
    {
     "name": "stdout",
     "output_type": "stream",
     "text": [
      "[Attempt 1/1] Error: Connection error.. Retrying in 2 seconds...\n"
     ]
    },
    {
     "name": "stderr",
     "output_type": "stream",
     "text": [
      "\r",
      " 94%|█████████▍| 99/105 [10:58<00:39,  6.64s/it]"
     ]
    },
    {
     "name": "stdout",
     "output_type": "stream",
     "text": [
      "[SKIPPED] Model did not respond in time. Skipping this sentence.\n",
      "Attempt 2: Empty response, retrying...\n",
      "\n",
      "Original: I am very happy to win this prize and I am going to give you some information from me that you need to make me have a good time at Camp California .\n",
      "No corrections found.\n",
      "\n"
     ]
    },
    {
     "name": "stdout",
     "output_type": "stream",
     "text": [
      "[Attempt 1/1] Error: Connection error.. Retrying in 2 seconds...\n"
     ]
    },
    {
     "name": "stdout",
     "output_type": "stream",
     "text": [
      "[SKIPPED] Model did not respond in time. Skipping this sentence.\n",
      "Attempt 1: Empty response, retrying...\n"
     ]
    },
    {
     "name": "stdout",
     "output_type": "stream",
     "text": [
      "[Attempt 1/1] Error: Connection error.. Retrying in 2 seconds...\n"
     ]
    },
    {
     "name": "stderr",
     "output_type": "stream",
     "text": [
      "\r",
      " 95%|█████████▌| 100/105 [11:05<00:33,  6.66s/it]"
     ]
    },
    {
     "name": "stdout",
     "output_type": "stream",
     "text": [
      "[SKIPPED] Model did not respond in time. Skipping this sentence.\n",
      "Attempt 2: Empty response, retrying...\n",
      "\n",
      "Original: But everyone always noticed he had secrets from his face .\n",
      "No corrections found.\n",
      "\n"
     ]
    },
    {
     "name": "stdout",
     "output_type": "stream",
     "text": [
      "[Attempt 1/1] Error: Connection error.. Retrying in 2 seconds...\n"
     ]
    },
    {
     "name": "stdout",
     "output_type": "stream",
     "text": [
      "[SKIPPED] Model did not respond in time. Skipping this sentence.\n",
      "Attempt 1: Empty response, retrying...\n"
     ]
    },
    {
     "name": "stdout",
     "output_type": "stream",
     "text": [
      "[Attempt 1/1] Error: Connection error.. Retrying in 2 seconds...\n"
     ]
    },
    {
     "name": "stderr",
     "output_type": "stream",
     "text": [
      "\r",
      " 96%|█████████▌| 101/105 [11:11<00:26,  6.67s/it]"
     ]
    },
    {
     "name": "stdout",
     "output_type": "stream",
     "text": [
      "[SKIPPED] Model did not respond in time. Skipping this sentence.\n",
      "Attempt 2: Empty response, retrying...\n",
      "\n",
      "Original: Shopping is enjoyable when you want to offer some thing to someone .\n",
      "No corrections found.\n",
      "\n"
     ]
    },
    {
     "name": "stdout",
     "output_type": "stream",
     "text": [
      "[Attempt 1/1] Error: Connection error.. Retrying in 2 seconds...\n"
     ]
    },
    {
     "name": "stdout",
     "output_type": "stream",
     "text": [
      "[SKIPPED] Model did not respond in time. Skipping this sentence.\n",
      "Attempt 1: Empty response, retrying...\n"
     ]
    },
    {
     "name": "stdout",
     "output_type": "stream",
     "text": [
      "[Attempt 1/1] Error: Connection error.. Retrying in 2 seconds...\n"
     ]
    },
    {
     "name": "stderr",
     "output_type": "stream",
     "text": [
      "\r",
      " 97%|█████████▋| 102/105 [11:18<00:19,  6.61s/it]"
     ]
    },
    {
     "name": "stdout",
     "output_type": "stream",
     "text": [
      "[SKIPPED] Model did not respond in time. Skipping this sentence.\n",
      "Attempt 2: Empty response, retrying...\n",
      "\n",
      "Original: So we can do shopping instead .\n",
      "No corrections found.\n",
      "\n"
     ]
    },
    {
     "name": "stdout",
     "output_type": "stream",
     "text": [
      "[Attempt 1/1] Error: Connection error.. Retrying in 2 seconds...\n"
     ]
    },
    {
     "name": "stdout",
     "output_type": "stream",
     "text": [
      "[SKIPPED] Model did not respond in time. Skipping this sentence.\n",
      "Attempt 1: Empty response, retrying...\n"
     ]
    },
    {
     "name": "stdout",
     "output_type": "stream",
     "text": [
      "[Attempt 1/1] Error: Connection error.. Retrying in 2 seconds...\n"
     ]
    },
    {
     "name": "stderr",
     "output_type": "stream",
     "text": [
      "\r",
      " 98%|█████████▊| 103/105 [11:24<00:13,  6.63s/it]"
     ]
    },
    {
     "name": "stdout",
     "output_type": "stream",
     "text": [
      "[SKIPPED] Model did not respond in time. Skipping this sentence.\n",
      "Attempt 2: Empty response, retrying...\n",
      "\n",
      "Original: During my 2 week 's holiday I would like to attend a musical show .\n",
      "No corrections found.\n",
      "\n"
     ]
    },
    {
     "name": "stdout",
     "output_type": "stream",
     "text": [
      "[Attempt 1/1] Error: Connection error.. Retrying in 2 seconds...\n"
     ]
    },
    {
     "name": "stdout",
     "output_type": "stream",
     "text": [
      "[SKIPPED] Model did not respond in time. Skipping this sentence.\n",
      "Attempt 1: Empty response, retrying...\n"
     ]
    },
    {
     "name": "stdout",
     "output_type": "stream",
     "text": [
      "[Attempt 1/1] Error: Connection error.. Retrying in 2 seconds...\n"
     ]
    },
    {
     "name": "stderr",
     "output_type": "stream",
     "text": [
      "\r",
      " 99%|█████████▉| 104/105 [11:31<00:06,  6.60s/it]"
     ]
    },
    {
     "name": "stdout",
     "output_type": "stream",
     "text": [
      "[SKIPPED] Model did not respond in time. Skipping this sentence.\n",
      "Attempt 2: Empty response, retrying...\n",
      "\n",
      "Original: However , when I went to the theatre , you did n't anything not only discount but also apporogize us for dalay of starting musical .\n",
      "No corrections found.\n",
      "\n"
     ]
    },
    {
     "name": "stdout",
     "output_type": "stream",
     "text": [
      "[Attempt 1/1] Error: Connection error.. Retrying in 2 seconds...\n"
     ]
    },
    {
     "name": "stdout",
     "output_type": "stream",
     "text": [
      "[SKIPPED] Model did not respond in time. Skipping this sentence.\n",
      "Attempt 1: Empty response, retrying...\n"
     ]
    },
    {
     "name": "stdout",
     "output_type": "stream",
     "text": [
      "[Attempt 1/1] Error: Connection error.. Retrying in 2 seconds...\n"
     ]
    },
    {
     "name": "stderr",
     "output_type": "stream",
     "text": [
      "\r",
      "100%|██████████| 105/105 [11:37<00:00,  6.60s/it]"
     ]
    },
    {
     "name": "stderr",
     "output_type": "stream",
     "text": [
      "\r",
      "100%|██████████| 105/105 [11:37<00:00,  6.65s/it]"
     ]
    },
    {
     "name": "stdout",
     "output_type": "stream",
     "text": [
      "[SKIPPED] Model did not respond in time. Skipping this sentence.\n",
      "Attempt 2: Empty response, retrying...\n",
      "\n",
      "Original: At that time he was unconcious , I kept asking myself ' should I wake him up or try to use my unsure first aid skill to deal with him .\n",
      "No corrections found.\n",
      "\n"
     ]
    },
    {
     "name": "stderr",
     "output_type": "stream",
     "text": [
      "\n"
     ]
    }
   ],
   "source": [
    "all_RV_roberta_corrections_FN = []\n",
    "\n",
    "for sentence in tqdm(roberta_fce_only_fn_error_type['RV']):\n",
    "    sentence_corrections = get_corrections_tokenized_with_labels_from_data_bert(sentence, client)\n",
    "    all_RV_roberta_corrections_FN.append(sentence_corrections)"
   ]
  },
  {
   "cell_type": "markdown",
   "id": "cd4beee5-57ff-46d6-9036-4d40451f1415",
   "metadata": {},
   "source": [
    "### ROBERTA --> SX"
   ]
  },
  {
   "cell_type": "code",
   "execution_count": 52,
   "id": "087466fd-e6ea-446c-b6e3-27b84b666ae4",
   "metadata": {
    "scrolled": true
   },
   "outputs": [
    {
     "name": "stderr",
     "output_type": "stream",
     "text": [
      "  9%|████                                        | 1/11 [00:11<01:57, 11.73s/it]"
     ]
    },
    {
     "name": "stdout",
     "output_type": "stream",
     "text": [
      "\n",
      "Original:     Tent will be more cooler to sleep then the cabin .\n",
      "Gold labels:  i c c c c c c i i c c\n",
      "Pred labels:  i c c c c c c c c c c\n",
      "Gold:         A tent will be more cooler to sleep than a cabin .\n",
      "Correction 1: Tent will be more cool to sleep than the cabin.\n",
      "Correction 2: Tent will be cooler to sleep than the cabin.\n",
      "Correction 3: Tents will be more cooler to sleep than the cabin.\n",
      "Correction 4: Tent will be more cooled to sleep than the cabin.\n",
      "Correction 5: Tent will be more cooling to sleep than the cabin.\n",
      "Error types:  ['RD', 'SX', 'MD']\n",
      "\n"
     ]
    },
    {
     "name": "stderr",
     "output_type": "stream",
     "text": [
      " 18%|████████                                    | 2/11 [00:17<01:12,  8.09s/it]"
     ]
    },
    {
     "name": "stdout",
     "output_type": "stream",
     "text": [
      "\n",
      "Original:     I have qustions to .\n",
      "Gold labels:  c c i i c\n",
      "Pred labels:  c c i c c\n",
      "Gold:         I have questions too .\n",
      "Correction 1: I have questions to .\n",
      "Correction 2: I have questions to .\n",
      "Correction 3: I have questions to .\n",
      "Correction 4: I have questions to .\n",
      "Correction 5: I have questions to .\n",
      "Error types:  ['SX', 'S']\n",
      "\n"
     ]
    },
    {
     "name": "stderr",
     "output_type": "stream",
     "text": [
      " 27%|████████████                                | 3/11 [00:45<02:17, 17.23s/it]"
     ]
    },
    {
     "name": "stdout",
     "output_type": "stream",
     "text": [
      "\n",
      "Original:     Today , however , people do not need to spend many times on making food , washing up , or even on turning on an off the light .\n",
      "Gold labels:  c c c c c c c c c c i i c c c c c c c c c c c i i i i i c\n",
      "Pred labels:  c c c c c c c c c c i i c c c c c c c c c c c c c i c c c\n",
      "Gold:         Today , however , people do not need to spend much time on making food , washing up , or even on turning the light on and off and .\n",
      "Correction 1: Today, however, people do not need to spend much time on making food, washing up, or even turning the lights on and off.\n",
      "Correction 2: Today, however, people do not need to spend much time on making food, washing up, or even turning lights on and off.\n",
      "Correction 3: Today, however, people do not need to spend many times on making food, washing up, or even turning on and off the light.\n",
      "Correction 4: Today, however, people do not need to spend much time on making food, washing up, or even turning on and off the lights.\n",
      "Correction 5: Today, however, people do not need to spend much time on making food, washing up, or even on turning on and off the light.\n",
      "Error types:  ['CQ', 'NO_LABEL', 'FN', 'SX', 'W']\n",
      "\n"
     ]
    },
    {
     "name": "stderr",
     "output_type": "stream",
     "text": [
      " 36%|████████████████                            | 4/11 [01:03<02:03, 17.62s/it]"
     ]
    },
    {
     "name": "stdout",
     "output_type": "stream",
     "text": [
      "\n",
      "Original:     Also , it was certain to me to bought a discount tickets cause I am a student .\n",
      "Gold labels:  c c c c c i c i i c c i i c c c c c\n",
      "Pred labels:  c c c c c c c c i c c c c c c c c c\n",
      "Gold:         Also , it was certain for me buy a discount ticket because I am a student .\n",
      "Correction 1: Also, it was certain to me that I bought a discount ticket because I am a student.\n",
      "Correction 2: Also, it was certain for me to buy a discount ticket because I am a student.\n",
      "Correction 3: Also, it was certain to me to have bought a discount ticket because I am a student.\n",
      "Correction 4: Also, it was certain to me to buy a discount ticket as I am a student.\n",
      "Correction 5: Also, it was certain for me to buy a discount ticket as I am a student.\n",
      "Error types:  ['FV', 'RT', 'NO_LABEL', 'AGN', 'SX']\n",
      "\n"
     ]
    },
    {
     "name": "stderr",
     "output_type": "stream",
     "text": [
      " 45%|████████████████████                        | 5/11 [01:10<01:22, 13.76s/it]"
     ]
    },
    {
     "name": "stdout",
     "output_type": "stream",
     "text": [
      "\n",
      "Original:     Forth , the theatre restaurant was closed .\n",
      "Gold labels:  i c c c c c c c\n",
      "Pred labels:  c c c c c c c c\n",
      "Gold:         Fourth , the theatre restaurant was closed .\n",
      "Correction 1: For , the theatre restaurant was closed .\n",
      "Correction 2: Fourth , the theatre restaurant was closed .\n",
      "Correction 3: Forth , the theatre and restaurant were closed .\n",
      "Correction 4: Forth , the restaurant was closed .\n",
      "Error types:  ['SX']\n",
      "\n"
     ]
    },
    {
     "name": "stderr",
     "output_type": "stream",
     "text": [
      " 55%|████████████████████████                    | 6/11 [01:38<01:32, 18.50s/it]"
     ]
    },
    {
     "name": "stdout",
     "output_type": "stream",
     "text": [
      "\n",
      "Original:     No , in the future , the present will be the past and these things now new to use will be old , outdated and changed .\n",
      "Gold labels:  c c c c c c c c c c c c c i c c c c i c c c c c c c c\n",
      "Pred labels:  c c c c c c c c c c c c c c c c c c c c c c c c c c c\n",
      "Gold:         No , in the future , the present will be the past and those things now new to us will be old , outdated and changed .\n",
      "Correction 1: No, in the future, the present will be the past and these things that are now new to use will be old, outdated, and changed.\n",
      "Correction 2: No, in the future, the present will be the past and these things which are now new to use will be old, outdated, and changed.\n",
      "Correction 3: No, in the future, the present will be the past and these things now will be old, outdated, and changed.\n",
      "Correction 4: No, in the future, the present will be the past and these new things now to use will be old, outdated, and changed.\n",
      "Correction 5: No, in the future, the present will be the past and these things now are new to use will be old, outdated, and changed.\n",
      "Error types:  ['RD', 'SX']\n",
      "\n"
     ]
    },
    {
     "name": "stderr",
     "output_type": "stream",
     "text": [
      " 64%|████████████████████████████                | 7/11 [01:59<01:17, 19.48s/it]"
     ]
    },
    {
     "name": "stdout",
     "output_type": "stream",
     "text": [
      "\n",
      "Original:     For example , I was born knowing the man has stepped on the moon .\n",
      "Gold labels:  c c c c c c c i c c i c c c c\n",
      "Pred labels:  c c c c c c c c c c c c c c c\n",
      "Gold:         For example , I was born knowing that man has walked on the moon .\n",
      "Correction 1: For example, I was born knowing the man had stepped on the moon.\n",
      "Correction 2: For example, I was born knowing that the man has stepped on the moon.\n",
      "Correction 3: For example, I was born knowing that the man had stepped on the moon.\n",
      "Correction 4: For example, I was born knowing the man has already stepped on the moon.\n",
      "Correction 5: For example, I was born knowing the man had already stepped on the moon.\n",
      "Correction 6: (Note: The fifth correction is a variation of the third and fourth, but it introduces an additional correction to make it distinct if needed.)\n",
      "Error types:  ['SX', 'RV']\n",
      "\n"
     ]
    },
    {
     "name": "stderr",
     "output_type": "stream",
     "text": [
      " 73%|████████████████████████████████            | 8/11 [02:32<01:11, 23.76s/it]"
     ]
    },
    {
     "name": "stdout",
     "output_type": "stream",
     "text": [
      "\n",
      "Original:     AT LEAST I ASKED A BOY AND HE SAID \"\"\"\" I'LL TELL YOU WHERE IS THE PLACE YOU ARE LOOKING FOR , JUST FOLLOW ME \"\"\"\" .\n",
      "Gold labels:  i i c c c c c c c c c c c c i i i i i i i c c c c c c\n",
      "Pred labels:  c c c c c c c c c c c c c c c c c c c c c c c c c c c\n",
      "Gold:         FINALLY LAST I ASKED A BOY AND HE SAID \"\"\"\" I'LL TELL YOU WHERE THE PLACE YOU ARE LOOKING FOR IS THE PLACE YOU ARE LOOKING FOR IS THE PLACE YOU ARE LOOKING FOR IS THE PLACE YOU ARE LOOKING FOR IS THE PLACE YOU ARE LOOKING FOR IS THE PLACE YOU ARE LOOKING FOR IS THE PLACE YOU ARE LOOKING FOR IS , JUST FOLLOW ME \"\"\"\" .\n",
      "Correction 1: AT LEAST I ASKED A BOY AND HE SAID \"I'LL TELL YOU WHERE THE PLACE IS THAT YOU ARE LOOKING FOR. JUST FOLLOW ME.\"\n",
      "Correction 2: AT LEAST I ASKED A BOY AND HE SAID \"I'LL TELL YOU WHERE THE Place IS THAT YOU ARE LOOKING FOR. JUST FOLLOW ME.\"\n",
      "Correction 3: AT LEAST I ASKED A BOY AND HE SAID \"I'LL TELL YOU WHERE IS THE PLACE THAT YOU ARE LOOKING FOR. JUST FOLLOW ME.\"\n",
      "Correction 4: AT LEAST I ASKED A BOY AND HE SAID \"I'LL TELL YOU WHERE THE PLACE YOU ARE LOOKING FOR IS. JUST FOLLOW ME.\"\n",
      "Correction 5: AT LEAST I ASKED A BOY AND HE SAID \"I'LL TELL YOU WHERE THE PLACE IS. JUST FOLLOW ME.\"\n",
      "Error types:  ['SX', 'W', 'RY']\n",
      "\n"
     ]
    },
    {
     "name": "stderr",
     "output_type": "stream",
     "text": [
      " 82%|████████████████████████████████████        | 9/11 [02:51<00:44, 22.30s/it]"
     ]
    },
    {
     "name": "stdout",
     "output_type": "stream",
     "text": [
      "\n",
      "Original:     Furthermore , in August I will be preparing for my course at the University which I am starting next September .\n",
      "Gold labels:  c c c c c c c c c c c c c i i c c c c c c\n",
      "Pred labels:  c c c c c c c c c c c c c c c c c c c c c\n",
      "Gold:         Furthermore , in August I will be preparing for my course at the university where I am starting next September .\n",
      "Correction 1: Furthermore, in August I will be preparing for my course at the university which I am starting next September.\n",
      "Correction 2: Furthermore, in August I will prepare for my course at the university which I start next September.\n",
      "Correction 3: Furthermore, in August I prepare for my course at the university which I started last September.\n",
      "Correction 4: Furthermore, in August I will be preparing for my course at university which I will be starting next September.\n",
      "Correction 5: Furthermore, in August I will be preparing for my courses at the university which I am starting next September.\n",
      "Error types:  ['SX', 'RP']\n",
      "\n"
     ]
    },
    {
     "name": "stderr",
     "output_type": "stream",
     "text": [
      " 91%|███████████████████████████████████████    | 10/11 [02:54<00:16, 16.16s/it]"
     ]
    },
    {
     "name": "stdout",
     "output_type": "stream",
     "text": [
      "\n",
      "Original:     But I think that the are limits .\n",
      "Gold labels:  c c c c i c c c\n",
      "Pred labels:  c c c c c c c c\n",
      "Gold:         But I think that there are limits .\n",
      "Correction 1: But I think that there are limits.\n",
      "Error types:  ['SX']\n",
      "\n"
     ]
    },
    {
     "name": "stderr",
     "output_type": "stream",
     "text": [
      "100%|███████████████████████████████████████████| 11/11 [03:15<00:00, 17.77s/it]"
     ]
    },
    {
     "name": "stdout",
     "output_type": "stream",
     "text": [
      "\n",
      "Original:     Propably in the future we might be to busy to go to our own home and spend some time there .\n",
      "Gold labels:  i c c c c i c i c c c c c c c c c c c c c\n",
      "Pred labels:  i c c c c c c c c c c c c c c c c c c c c\n",
      "Gold:         Probably in the future we may be too busy to go to our own home and spend some time there .\n",
      "Correction 1: Propably in the future we might be too busy to go to our own home and spend some time there.\n",
      "Correction 2: Probably in the future we might be too busy to go to our own home and spend some time there.\n",
      "Correction 3: Propably in the future we might be to busy to go to our home and spend some time there.\n",
      "Correction 4: Probably in the future we might be to busy to go to our home and spend some time there.\n",
      "Correction 5: Probably in the future we might be too busy to go to our own home and spend some time there.\n",
      "Error types:  ['SX', 'S', 'TV']\n",
      "\n"
     ]
    },
    {
     "name": "stderr",
     "output_type": "stream",
     "text": [
      "\n"
     ]
    },
    {
     "name": "stdout",
     "output_type": "stream",
     "text": [
      "[Attempt 1/1] Error: Connection error.. Retrying in 2 seconds...\n"
     ]
    },
    {
     "name": "stderr",
     "output_type": "stream",
     "text": [
      "\r",
      "100%|██████████| 11/11 [01:13<00:00,  6.66s/it]"
     ]
    },
    {
     "name": "stderr",
     "output_type": "stream",
     "text": [
      "\r",
      "100%|██████████| 11/11 [01:13<00:00,  6.66s/it]"
     ]
    },
    {
     "name": "stdout",
     "output_type": "stream",
     "text": [
      "[SKIPPED] Model did not respond in time. Skipping this sentence.\n",
      "Attempt 2: Empty response, retrying...\n",
      "\n",
      "Original: For example , I was born knowing the man has stepped on the moon .\n",
      "No corrections found.\n",
      "\n"
     ]
    },
    {
     "name": "stderr",
     "output_type": "stream",
     "text": [
      "\n"
     ]
    }
   ],
   "source": [
    "all_SX_roberta_corrections_FN = []\n",
    "\n",
    "for sentence in tqdm(roberta_fce_only_fn_error_type['SX']):\n",
    "    sentence_corrections = get_corrections_tokenized_with_labels_from_data_bert(sentence, client)\n",
    "    all_SX_roberta_corrections_FN.append(sentence_corrections)"
   ]
  },
  {
   "cell_type": "markdown",
   "id": "42c10955-ef91-4a39-82f2-f2c19cd4b8d3",
   "metadata": {},
   "source": [
    "### ROBERTA --> w"
   ]
  },
  {
   "cell_type": "code",
   "execution_count": 54,
   "id": "9aef3a0d-5bd0-4d9e-9c17-b7c9f1f593e7",
   "metadata": {
    "scrolled": true
   },
   "outputs": [
    {
     "name": "stderr",
     "output_type": "stream",
     "text": [
      "  2%|▋                                           | 1/66 [00:21<23:02, 21.26s/it]"
     ]
    },
    {
     "name": "stdout",
     "output_type": "stream",
     "text": [
      "\n",
      "Original:     First of all , I would like to tell you that I 've never had a such good time in my life !\n",
      "Gold labels:  c c c c c c c c c c c c c c c i i c c c c c c\n",
      "Pred labels:  c c c c c c c c c c c c c c c c c c c c c c c\n",
      "Gold:         First of all , I would like to tell you that I 've never had such a such a good time in my life !\n",
      "Correction 1: First of all, I would like to tell you that I've never had such a good time in my life!\n",
      "Correction 2: First of all, I would like to tell you that I have never had such a good time in my life!\n",
      "Correction 3: First of all, I would like to tell you that I've never had so good a time in my life!\n",
      "Correction 4: First of all, I would like to tell you that I've never had such good a time in my life!\n",
      "Correction 5: First of all, I would like to tell you that I've never had such a good time ever!\n",
      "Error types:  ['W']\n",
      "\n"
     ]
    },
    {
     "name": "stderr",
     "output_type": "stream",
     "text": [
      "  3%|█▎                                          | 2/66 [00:43<23:17, 21.84s/it]"
     ]
    },
    {
     "name": "stdout",
     "output_type": "stream",
     "text": [
      "\n",
      "Original:     It is said that the singers are Danny Brook and Tina Truelove in the advertisement .\n",
      "Gold labels:  c c c i i i i i i i i i i i i c\n",
      "Pred labels:  c c c c c c c c c c c c c c c c\n",
      "Gold:         It is said in the advertisement that the singers are Danny Brook and Tina Truelove in the advertisement that the singers are Danny Brook and Tina Truelove in the advertisement that the singers are Danny Brook and Tina Truelove in the advertisement that the singers are Danny Brook and Tina Truelove in the advertisement that the singers are Danny Brook and Tina Truelove in the advertisement that the singers are Danny Brook and Tina Truelove in the advertisement that the singers are Danny Brook and Tina Truelove in the advertisement that the singers are Danny Brook and Tina Truelove in the advertisement that the singers are Danny Brook and Tina Truelove in the advertisement that the singers are Danny Brook and Tina Truelove in the advertisement that the singers are Danny Brook and Tina Truelove in the advertisement that the singers are Danny Brook and Tina Truelove .\n",
      "Correction 1: It is said that the singers are Danny Brook and Tina Truelove in the commercial.\n",
      "Correction 2: It is said that the singers in the advertisement are Danny Brook and Tina Truelove.\n",
      "Correction 3: It is said that Danny Brook and Tina Truelove are the singers in the advertisement.\n",
      "Correction 4: The singers in the advertisement are said to be Danny Brook and Tina Truelove.\n",
      "Correction 5: It is said that the singers in the ad are Danny Brook and Tina Truelove.\n",
      "Correction 6: (Note: The fifth correction is a variation of the first, as fewer than five unique corrections were possible given the constraints.)\n",
      "Error types:  ['W']\n",
      "\n"
     ]
    },
    {
     "name": "stderr",
     "output_type": "stream",
     "text": [
      "  5%|██                                          | 3/66 [01:24<31:53, 30.37s/it]"
     ]
    },
    {
     "name": "stdout",
     "output_type": "stream",
     "text": [
      "\n",
      "Original:     Othrewise , there are people who think the opposite ; such as : children , teenagers , men ; but not always , because they go to buy hardly ever , only when they need clothes or something for their job or school .\n",
      "Gold labels:  i c c c c c c c c c c c c c c c c c c c c c c c c i i i i i c c c c c c c c c c c c c c\n",
      "Pred labels:  i c c c c c c c c c c c c c c c c c c c c c c c c c c c i c c c c c c c c c c c c c c c\n",
      "Gold:         Otherwise , there are people who think the opposite ; such as : children , teenagers , men ; but not always , because they hardly ever go shopping shopping shopping , only when they need clothes or something for their job or school .\n",
      "Correction 1: Otherwise, there are people who think the opposite; such as: children, teenagers, men; but not always because they go to buy hardly ever only when they need clothes or something for their job or school.\n",
      "Correction 2: Othrewise, there are people who think the opposite such as children teenagers men but not always because they go to buy hardly ever only when they need clothes or something for their job or school.\n",
      "Correction 3: Otherwise, there are people who think the opposite; such as: children, teenagers, men; but not always because they go to buy hardly ever only when they need clothes or something for their job or school.\n",
      "Correction 4: Otherwise, there are people who think the opposite; such as children teenagers men; but not always because they go to buy hardly ever only when they need clothes or something for their job or school.\n",
      "Correction 5: Otherwise, there are people who think the opposite; such as: children, teenagers, men but not always because they go to buy hardly ever only when they need clothes or something for their job or school.\n",
      "Error types:  ['NO_LABEL', 'R', 'S', 'W']\n",
      "\n"
     ]
    },
    {
     "name": "stderr",
     "output_type": "stream",
     "text": [
      "  6%|██▋                                         | 4/66 [02:29<45:36, 44.13s/it]"
     ]
    },
    {
     "name": "stdout",
     "output_type": "stream",
     "text": [
      "\n",
      "Original:     I 'm writing back to answer the questions that you send me in the past letter , so refering to the question of when I would like to travel , I would like to go anytime during july , because I have to be in august back home , because I need to apply and get everithing sortted out , to go into college next september .\n",
      "Gold labels:  c c c c c c c c c c i c c c i c c c i c c c c c c c c c c c c c c c c c c i c c c c c c i i i i c c c c c c c c i i c c c c i c c i c\n",
      "Pred labels:  c c c c c c c c c c i c c c c c c c i c c c c c c c c c c c c c c c c c c i c c c c c c c i c c c c c c c c c c i i c c c c c c c i c\n",
      "Gold:         I 'm writing back to answer the questions that you sent me in the last letter , so referring to the question of when I would like to travel , I would like to go anytime during July , because I have to be back home in August August , because I need to apply and get everything sorted out , to go to college next September .\n",
      "Correction 1: I'm writing back to answer the questions that you sent me in the past letter, so referring to the question of when I would like to travel, I would like to go anytime during July, because I have to be back home in August, because I need to apply and get everything sorted out, to go to college next September.\n",
      "Correction 2: I'm writing back to answer the questions that you sent me in the past letter, so referring to the question of when I would like to travel, I would like to go anytime during July, because I have to be back home in August, because I need to apply and get everything sorted out, to go into college next September.\n",
      "Correction 3: I'm writing back to answer the questions that you sent me in the past letter, so referring to the question of when I would like to travel, I would like to go anytime during July, because I have to be back home in August, because I need to apply and get everything sorted out, to college next September.\n",
      "Correction 4: I'm writing back to answer the questions that you sent me in the past letter, so referring to the question of when I would like to travel, I would like to go anytime during July, because I have to be back home in August, because I need to apply and get everything sorted out, to go to college next September.\n",
      "Correction 5: I'm writing back to answer the questions that you sent me in the past letter, so referring to the question of when I would like to travel, I would like to go anytime during July, because I have to be back home in August, because I need to apply and get everything sorted out, to college next September.\n",
      "Error types:  ['IV', 'RP', 'TV', 'RT', 'NO_LABEL', 'RJ', 'S', 'W']\n",
      "\n"
     ]
    },
    {
     "name": "stderr",
     "output_type": "stream",
     "text": [
      "  8%|███▎                                        | 5/66 [02:35<30:54, 30.40s/it]"
     ]
    },
    {
     "name": "stdout",
     "output_type": "stream",
     "text": [
      "\n",
      "Original:     But everyone always noticed he had secrets from his face .\n",
      "Gold labels:  c c c i i i i i i i c\n",
      "Pred labels:  c c c c c c c i c c c\n",
      "Gold:         But everyone always saw from his face he had a secret from his face he had a secret secret .\n",
      "Correction 1: But everyone always noticed that he had secrets from his face.\n",
      "Correction 2: But everyone always noticed he had secrets.\n",
      "Correction 3: But everyone always noticed something was hidden about him.\n",
      "Error types:  ['AGN', 'NO_LABEL', 'RV', 'W']\n",
      "\n"
     ]
    },
    {
     "name": "stderr",
     "output_type": "stream",
     "text": [
      "  9%|████                                        | 6/66 [02:48<24:28, 24.47s/it]"
     ]
    },
    {
     "name": "stdout",
     "output_type": "stream",
     "text": [
      "\n",
      "Original:     Second , it started only at 20:15 .\n",
      "Gold labels:  c c c i i c c c\n",
      "Pred labels:  c c c c c c c c\n",
      "Gold:         Second , it only started only started at 20:15 .\n",
      "Correction 1: Second, it started only at 20:15.\n",
      "Correction 2: Second, it only started at 20:15.\n",
      "Correction 3: Second, it began only at 20:15.\n",
      "Correction 4: Second, it commenced only at 20:15.\n",
      "Correction 5: Second, it started just at 20:15.\n",
      "Error types:  ['W']\n",
      "\n"
     ]
    },
    {
     "name": "stderr",
     "output_type": "stream",
     "text": [
      " 11%|████▋                                       | 7/66 [02:55<18:32, 18.86s/it]"
     ]
    },
    {
     "name": "stdout",
     "output_type": "stream",
     "text": [
      "\n",
      "Original:     The Francis 's secret was discovered !\n",
      "Gold labels:  i i i i i i c\n",
      "Pred labels:  c c c c c c c\n",
      "Gold:         Francis discovered the secret Francis Francis discovered discovered !\n",
      "Correction 1: The Francis's secret was discovered!\n",
      "Correction 2: The Francis 's secret was found!\n",
      "Correction 3: Francis's secret was discovered!\n",
      "Correction 4: Francis 's secret was found!\n",
      "Correction 5: The secret of Francis was discovered!\n",
      "Error types:  ['NO_LABEL', 'UP', 'W', 'TV']\n",
      "\n"
     ]
    },
    {
     "name": "stderr",
     "output_type": "stream",
     "text": [
      " 12%|█████▎                                      | 8/66 [03:14<18:11, 18.83s/it]"
     ]
    },
    {
     "name": "stdout",
     "output_type": "stream",
     "text": [
      "\n",
      "Original:     To sum up modern technology has change a lot our daily life and this is going to increase .\n",
      "Gold labels:  c c c c c c i i i i i i c c c c c i c\n",
      "Pred labels:  c c c c c c i c i i i i c c c c c c c\n",
      "Gold:         To sum up modern technology has changed our daily lives a lot our daily lives a lot our daily lives a lot our daily lives a lot lives and this is going to continue .\n",
      "Correction 1: To sum up, modern technology has changed a lot our daily life and this is going to increase.\n",
      "Correction 2: To sum up, modern technology has changed a lot our daily lives and this is going to increase.\n",
      "Correction 3: To sum up, modern technology has changed a lot our daily lives and this is going to be increased.\n",
      "Correction 4: To sum up, modern technology has changed a lot our daily lives and this will increase.\n",
      "Correction 5: To sum up, modern technology has changed a lot our lives and this is going to increase.\n",
      "Error types:  ['AGN', 'RV', 'TV', 'W']\n",
      "\n"
     ]
    },
    {
     "name": "stderr",
     "output_type": "stream",
     "text": [
      " 14%|██████                                      | 9/66 [03:40<20:05, 21.16s/it]"
     ]
    },
    {
     "name": "stdout",
     "output_type": "stream",
     "text": [
      "\n",
      "Original:     I am writting to thank you for your letter confirming the first prize that I won in your competition .\n",
      "Gold labels:  c c i c c c c c c c i i i i i i c c c c\n",
      "Pred labels:  c c i c c c c c c c c c c c c c c c c c\n",
      "Gold:         I am writing to thank you for your letter confirming that I won the first prize that I won the first prize that I won the first prize that I won the first prize that I won the first prize that I won the first prize in your competition .\n",
      "Correction 1: I am writing to thank you for your letter confirming the first prize that I won in your competition.\n",
      "Correction 2: I am writting to thank you for your letter confirming the first prize that I won in your competition.\n",
      "Correction 3: I am writing to thank you for your letter confirming the first prize which I won in your competition.\n",
      "Correction 4: I am writing to thank you for your letter confirming that I won the first prize in your competition.\n",
      "Correction 5: I am writing to thank you for your letter confirming the first prize I won in your competition.\n",
      "Correction 6: Note: The fifth version is essentially a repeat of the first, as there are limited ways to correct this sentence while maintaining its meaning and structure.\n",
      "Error types:  ['IV', 'W']\n",
      "\n"
     ]
    },
    {
     "name": "stderr",
     "output_type": "stream",
     "text": [
      " 15%|██████▌                                    | 10/66 [04:04<20:37, 22.10s/it]"
     ]
    },
    {
     "name": "stdout",
     "output_type": "stream",
     "text": [
      "\n",
      "Original:     I think also that will be a good idea to take some general plans of the school area as there is a huge background .\n",
      "Gold labels:  c i i c i c c c c c c c c c c c c c c c c c c c c\n",
      "Pred labels:  c c i c c c c c c c c c c c c c c c c c c c c c c\n",
      "Gold:         I also think also think that be a good idea to take some general plans of the school area as there is a huge background .\n",
      "Correction 1: I think also that will be a good idea to take some general plans of the school area as there is a huge background.\n",
      "Correction 2: I think that will be a good idea to take some general plans of the school area as there is a huge background.\n",
      "Correction 3: I think that will be a good idea to take some general plans of the school area because there is a huge background.\n",
      "Correction 4: I think also that it will be a good idea to take some general plans of the school area as there is a huge background.\n",
      "Correction 5: I think also that will be a good idea to take some general plans of the school area as there is a huge background history.\n",
      "Error types:  ['NO_LABEL', 'W']\n",
      "\n"
     ]
    },
    {
     "name": "stderr",
     "output_type": "stream",
     "text": [
      " 17%|███████▏                                   | 11/66 [04:21<18:48, 20.51s/it]"
     ]
    },
    {
     "name": "stdout",
     "output_type": "stream",
     "text": [
      "\n",
      "Original:     Particularly I am pleased to had know the most popular pop stars in the world .\n",
      "Gold labels:  i i i c c i i c c c c c c c c c\n",
      "Pred labels:  i c c c c i i c c c c c c c c c\n",
      "Gold:         I am particularly I am particularly I am particularly pleased to have known the most popular pop stars in the world .\n",
      "Correction 1: Particularly I am pleased to have known the most popular pop stars in the world.\n",
      "Correction 2: Particularly I am pleased to have know the most popular pop stars in the world.\n",
      "Correction 3: Particularly I am please to have known the most popular pop stars in the world.\n",
      "Correction 4: Particularly I am pleased to had known the most popular pop stars in the world.\n",
      "Correction 5: I am particularly pleased to have known the most popular pop stars in the world.\n",
      "Error types:  ['FV', 'W', 'TV']\n",
      "\n"
     ]
    },
    {
     "name": "stderr",
     "output_type": "stream",
     "text": [
      " 18%|███████▊                                   | 12/66 [04:34<16:19, 18.14s/it]"
     ]
    },
    {
     "name": "stdout",
     "output_type": "stream",
     "text": [
      "\n",
      "Original:     When appeared the first car , it was already a great success .\n",
      "Gold labels:  c i i i i c c c c c c c c\n",
      "Pred labels:  c i i c c c c c c c c c c\n",
      "Gold:         When the first car appeared the first car appeared the first car appeared the first car appeared , it was already a great success .\n",
      "Correction 1: When did the first car appear, it was already a great success.\n",
      "Correction 2: When the first car appeared, it was already a great success.\n",
      "Correction 3: The first car appeared when it was already a great success.\n",
      "Correction 4: When the first car appeared, already it was a great success.\n",
      "Correction 5: When the first car appeared, it was already a great success.\n",
      "Error types:  ['W']\n",
      "\n"
     ]
    },
    {
     "name": "stderr",
     "output_type": "stream",
     "text": [
      " 20%|████████▍                                  | 13/66 [05:16<22:22, 25.33s/it]"
     ]
    },
    {
     "name": "stdout",
     "output_type": "stream",
     "text": [
      "\n",
      "Original:     I would be also grateful if you could send me information about the average living cost at California as I have to arrange the amount of money that I am going to spend , and some advice about the clothes that I need .\n",
      "Gold labels:  c c i i c c c c c c c c c c i i i c c c c c i c c c c c c c c c c c c c c c c c c c c c\n",
      "Pred labels:  c c c i c c c c c c c c c c c c c c c c c c c c c c c c c c c c c c c c c c c c c c c c\n",
      "Gold:         I would also be also be grateful if you could send me information about the average cost of living cost of living in California as I have to work out the amount of money that I am going to spend , and some advice about the clothes that I need .\n",
      "Correction 1: I would also be grateful if you could send me information about the average living cost in California as I have to arrange the amount of money that I am going to spend and some advice about the clothes that I need .\n",
      "Correction 2: I would also be grateful if you could send me information about the average living cost at California as I have to arrange the amount of money that I am going to spend and some advice about the clothes that I need .\n",
      "Correction 3: I would also be grateful if you could send me information about the average living costs at California as I have to arrange the amount of money that I am going to spend and some advice about the clothes that I need .\n",
      "Correction 4: I would also be grateful if you could send me information about the average living cost at California as I have to arrange the amount of money that I am going to spend, and some advice about the clothes that I need .\n",
      "Correction 5: I would also be grateful if you could send me information about the average living cost at California as I have to arrange the amount of money that I am going to spend and some advice on the clothes that I need .\n",
      "Error types:  ['RV', 'RT', 'W']\n",
      "\n"
     ]
    },
    {
     "name": "stderr",
     "output_type": "stream",
     "text": [
      " 21%|█████████                                  | 14/66 [05:35<20:23, 23.52s/it]"
     ]
    },
    {
     "name": "stdout",
     "output_type": "stream",
     "text": [
      "\n",
      "Original:     Will we need any special clothes and How much you would suggest me to carry for these two weeks ?\n",
      "Gold labels:  c c c c c c c i c i i c i i i c c c c c\n",
      "Pred labels:  c c c c c c c i c i c c c c c c c c c c\n",
      "Gold:         Will we need any special clothes and how much would you would you suggest I carry carry for these two weeks ?\n",
      "Correction 1: Will we need any special clothes and how much would you suggest me to carry for these two weeks?\n",
      "Correction 2: Will we need any special clothes and how much do you suggest I carry for these two weeks?\n",
      "Correction 3: Will we need any special clothes and how much would you suggest I carry for these two weeks?\n",
      "Correction 4: Will we need any special clothes and how much would you suggest me to bring for these two weeks?\n",
      "Correction 5: Will we need any special clothes and how much would you suggest that I carry for these two weeks?\n",
      "Error types:  ['FV', 'RP', 'W', 'RA']\n",
      "\n"
     ]
    },
    {
     "name": "stderr",
     "output_type": "stream",
     "text": [
      " 23%|█████████▊                                 | 15/66 [05:47<16:54, 19.88s/it]"
     ]
    },
    {
     "name": "stdout",
     "output_type": "stream",
     "text": [
      "\n",
      "Original:     Most of the time is shopping fun and enjoyable .\n",
      "Gold labels:  c c c c i i c c c c\n",
      "Pred labels:  c c c c i c c c c c\n",
      "Gold:         Most of the time shopping is shopping is fun and enjoyable .\n",
      "Correction 1: Most of the time is shopping fun and enjoyable.\n",
      "Correction 2: Most of the time shopping is fun and enjoyable.\n",
      "Correction 3: Most of the time shopping is fun and enjoyable.\n",
      "Correction 4: Most of the time is spent shopping, which is fun and enjoyable.\n",
      "Correction 5: Most of the time is spent on shopping, which is fun and enjoyable.\n",
      "Error types:  ['W']\n",
      "\n"
     ]
    },
    {
     "name": "stderr",
     "output_type": "stream",
     "text": [
      " 24%|██████████▍                                | 16/66 [06:03<15:48, 18.98s/it]"
     ]
    },
    {
     "name": "stdout",
     "output_type": "stream",
     "text": [
      "\n",
      "Original:     It was a Friday suny afternoon , Scala was really excited to tell her the new .\n",
      "Gold labels:  c c c i i c c c c c c i i c c i c\n",
      "Pred labels:  c c c c i c c c c c c c c c c c c\n",
      "Gold:         It was a sunny Friday sunny afternoon , Scala was really excited telling telling her the news .\n",
      "Correction 1: It was a Friday sunny afternoon, Scala was really excited to tell her the new.\n",
      "Correction 2: It was a Friday sunny afternoon, Scala was really excited to tell her about the new.\n",
      "Correction 3: It was a Friday sunny afternoon, Scala was really excited to tell her the news.\n",
      "Correction 4: It was a Friday sunny afternoon, Scala was really excited to share the new with her.\n",
      "Correction 5: It was a Friday sunny afternoon, Scala was really excited to give her the new.\n",
      "Error types:  ['DJ', 'IN', 'FV', 'W']\n",
      "\n"
     ]
    },
    {
     "name": "stderr",
     "output_type": "stream",
     "text": [
      " 26%|███████████                                | 17/66 [06:45<21:08, 25.89s/it]"
     ]
    },
    {
     "name": "stdout",
     "output_type": "stream",
     "text": [
      "\n",
      "Original:     I only can travel on July because I am working in an office and I must ask my boss for a holiday and it 's the mounth he can give me , so I hope it is n't a problem for you .\n",
      "Gold labels:  c i i i i i c c c c c c c c c c c c c c c c c c c c i c c c c i c c c i c c c c c c c\n",
      "Pred labels:  c i i c i c c c c c c c c c c c c c c c c c c c c c i c c c c c c c c c c c c c c c c\n",
      "Gold:         I can travel in July only can travel in July only can travel in July only in because I am working in an office and I must ask my boss for a holiday and it 's the month he can give me so I hope that is n't a problem for you .\n",
      "Correction 1: I can only travel in July because I am working at an office and I must ask my boss for a holiday, and it's the month he can give me so, I hope it isn't a problem for you.\n",
      "Correction 2: I can only travel in July because I am working in an office and I must ask my boss for a holiday, and it's the month he can give me so, I hope it isn't a problem for you.\n",
      "Correction 3: I can only travel in July because I work at an office and I have to ask my boss for a holiday, and it's the month he can give me so, I hope it isn't a problem for you.\n",
      "Correction 4: I can only travel in July because I am working in an office and I must ask my boss for a holiday, and it's the month he can give me so, I hope it isn't a problem for you.\n",
      "Correction 5: I can only travel in July because I work at an office and I have to ask my boss for a holiday, and it's the month he can give me so, I hope it is not a problem for you.\n",
      "Error types:  ['RT', 'NO_LABEL', 'S', 'W', 'RA']\n",
      "\n"
     ]
    },
    {
     "name": "stderr",
     "output_type": "stream",
     "text": [
      " 27%|███████████▋                               | 18/66 [07:05<19:08, 23.93s/it]"
     ]
    },
    {
     "name": "stdout",
     "output_type": "stream",
     "text": [
      "\n",
      "Original:     Technical and Warm Home People 's way of life has considerably been changed by rapdily developing mordern technology .\n",
      "Gold labels:  c c c c c c c c c c i i i c i c i c c\n",
      "Pred labels:  c c c c c c c c c c c c c c i c i c c\n",
      "Gold:         Technical and Warm Home People 's way of life has been changed considerably been changed considerably been changed considerably by rapidly developing modern technology .\n",
      "Correction 1: Technical and Warm Home People's way of life has considerably been changed by rapidly developing modern technology.\n",
      "Correction 2: Technical and warm home people's way of life has considerably been changed by rapidly developing modern technology.\n",
      "Correction 3: Technical and warm home people's ways of life have considerably been changed by rapidly developing modern technology.\n",
      "Correction 4: Technical and warm home people's ways of life have been considerably changed by rapidly developing modern technology.\n",
      "Correction 5: Technical and warm home people's ways of life have been changed considerably by rapidly developing modern technology.\n",
      "Error types:  ['S', 'W']\n",
      "\n"
     ]
    },
    {
     "name": "stderr",
     "output_type": "stream",
     "text": [
      " 29%|████████████▍                              | 19/66 [07:32<19:26, 24.83s/it]"
     ]
    },
    {
     "name": "stdout",
     "output_type": "stream",
     "text": [
      "\n",
      "Original:     Secondly , I would be grateful if you could arrange for me accomodation in log cabins as I am not used on living in the countryside and especially in tents .\n",
      "Gold labels:  c c c c c c c c c c i i i c c c c c c c c i i c c c c c i c c\n",
      "Pred labels:  c c c c c c c c c c c c i c c c c c c c c c c c c c c c c c c\n",
      "Gold:         Secondly , I would be grateful if you could arrange accommodation for me accommodation for me accommodation in log cabins as I am not used to staying in the countryside and especially tents .\n",
      "Correction 1: Secondly, I would be grateful if you could arrange for me accommodation in log cabins as I am not used to living in the countryside and especially in tents.\n",
      "Correction 2: Secondly, I would be grateful if you could arrange for me accommodation in log cabins as I am not used to living in the countryside and in tents.\n",
      "Correction 3: Secondly, I would be grateful if you could arrange for me accommodation in log cabins as I am not used to living in tents.\n",
      "Correction 4: Secondly, I would be grateful if you could arrange for me accommodation in log cabins as I am not used to living in the countryside.\n",
      "Correction 5: Secondly, I would be grateful if you could arrange for me accommodation in log cabins.\n",
      "Error types:  ['RV', 'RT', 'NO_LABEL', 'S', 'W']\n",
      "\n"
     ]
    },
    {
     "name": "stderr",
     "output_type": "stream",
     "text": [
      " 30%|█████████████                              | 20/66 [07:40<15:16, 19.92s/it]"
     ]
    },
    {
     "name": "stdout",
     "output_type": "stream",
     "text": [
      "\n",
      "Original:     It was a such disappointing .\n",
      "Gold labels:  c c i i i c\n",
      "Pred labels:  c c c c c c\n",
      "Gold:         It was such a such a disappointment .\n",
      "Correction 1: It was such a disappointing.\n",
      "Correction 2: It was so disappointing.\n",
      "Correction 3: It was a disappointing.\n",
      "Correction 4: It was such disappointing.\n",
      "Correction 5: (There are only four unique corrections possible, so an empty line is provided for the fifth.)\n",
      "Error types:  ['DN', 'W']\n",
      "\n"
     ]
    },
    {
     "name": "stderr",
     "output_type": "stream",
     "text": [
      " 32%|█████████████▋                             | 21/66 [07:56<14:04, 18.76s/it]"
     ]
    },
    {
     "name": "stdout",
     "output_type": "stream",
     "text": [
      "\n",
      "Original:     I have sometimes troubles with backache when I coud't sleep on a flat ground .\n",
      "Gold labels:  c i i i c c c c i c c c c i c\n",
      "Pred labels:  c c c i c c c c i c c c c c c\n",
      "Gold:         I sometimes have sometimes have trouble with backache when I couldn't sleep on a flat surface .\n",
      "Correction 1: I have sometimes troubles with backache when I couldn't sleep on a flat ground.\n",
      "Correction 2: I have sometimes trouble with backache when I couldn't sleep on a flat ground.\n",
      "Correction 3: I have trouble with backache sometimes when I couldn't sleep on a flat ground.\n",
      "Correction 4: I have sometimes backaches when I couldn't sleep on a flat ground.\n",
      "Correction 5: I have trouble with backaches sometimes when I couldn't sleep on a flat ground.\n",
      "Error types:  ['RN', 'S', 'W', 'FN']\n",
      "\n"
     ]
    },
    {
     "name": "stderr",
     "output_type": "stream",
     "text": [
      " 33%|██████████████▎                            | 22/66 [08:03<11:10, 15.24s/it]"
     ]
    },
    {
     "name": "stdout",
     "output_type": "stream",
     "text": [
      "\n",
      "Original:     The last day , in fact the concert day was absolutely fantastic .\n",
      "Gold labels:  c c c c i i i i i c c c c\n",
      "Pred labels:  c c c c c c c i c c c c c\n",
      "Gold:         The last day , which was which was day of the concert day of the concert day of the concert was absolutely fantastic .\n",
      "Correction 1: The last day, in fact, the concert day was absolutely fantastic.\n",
      "Correction 2: The last day, in fact, was absolutely fantastic.\n",
      "Correction 3: The concert day was absolutely fantastic.\n",
      "Error types:  ['R', 'W']\n",
      "\n"
     ]
    },
    {
     "name": "stderr",
     "output_type": "stream",
     "text": [
      " 35%|██████████████▉                            | 23/66 [08:13<09:49, 13.71s/it]"
     ]
    },
    {
     "name": "stdout",
     "output_type": "stream",
     "text": [
      "\n",
      "Original:     She was a such wonderful person in our class .\n",
      "Gold labels:  c c i i c c c c c c\n",
      "Pred labels:  c c c c c c c c c c\n",
      "Gold:         She was such a such a wonderful person in our class .\n",
      "Correction 1: She was such a wonderful person in our class.\n",
      "Correction 2: She was a very wonderful person in our class.\n",
      "Correction 3: She was a truly wonderful person in our class.\n",
      "Correction 4: She was a great wonderful person in our class.\n",
      "Correction 5: She was a wonderful person in our class.\n",
      "Error types:  ['W']\n",
      "\n"
     ]
    },
    {
     "name": "stderr",
     "output_type": "stream",
     "text": [
      " 36%|███████████████▋                           | 24/66 [08:26<09:19, 13.32s/it]"
     ]
    },
    {
     "name": "stdout",
     "output_type": "stream",
     "text": [
      "\n",
      "Original:     Also , in Augost I will be studying a summer English course .\n",
      "Gold labels:  c c c i c c c c c c i i c\n",
      "Pred labels:  c c c i c c c c c c c c c\n",
      "Gold:         Also , in August I will be studying a summer course in English course in English .\n",
      "Correction 1: Also, in August I will be studying a summer English course.\n",
      "Correction 2: Also in August I will study a summer English course.\n",
      "Correction 3: In August also I will be studying for a summer English course.\n",
      "Correction 4: In August I will also be studying an English summer course.\n",
      "Correction 5: Also in August I will study an English summer course.\n",
      "Error types:  ['S', 'W']\n",
      "\n"
     ]
    },
    {
     "name": "stderr",
     "output_type": "stream",
     "text": [
      " 38%|████████████████▎                          | 25/66 [08:29<07:04, 10.35s/it]"
     ]
    },
    {
     "name": "stdout",
     "output_type": "stream",
     "text": [
      "\n",
      "Original:     I would like also to know how much money I can bring .\n",
      "Gold labels:  c c i i c c c c c c c c c\n",
      "Pred labels:  c c c i c c c c c c c c c\n",
      "Gold:         I would also like also like to know how much money I can bring .\n",
      "Correction 1: I would also like to know how much money I can bring.\n",
      "Error types:  ['W']\n",
      "\n"
     ]
    },
    {
     "name": "stderr",
     "output_type": "stream",
     "text": [
      " 39%|████████████████▉                          | 26/66 [08:40<06:56, 10.41s/it]"
     ]
    },
    {
     "name": "stdout",
     "output_type": "stream",
     "text": [
      "\n",
      "Original:     Could you do me my half of money back .\n",
      "Gold labels:  c c i c i i i c c c\n",
      "Pred labels:  c c i c c c c c c c\n",
      "Gold:         Could you give me half of my half of my half of my money back .\n",
      "Correction 1: Could you do me half of my money back.\n",
      "Correction 2: Could you do me my half of the money back.\n",
      "Correction 3: Could you do me a half of my money back.\n",
      "Correction 4: Could you do me my share of money back.\n",
      "Correction 5: Could you do me my half of the payment back.\n",
      "Error types:  ['RV', 'W']\n",
      "\n"
     ]
    },
    {
     "name": "stderr",
     "output_type": "stream",
     "text": [
      " 41%|█████████████████▌                         | 27/66 [08:47<06:03,  9.32s/it]"
     ]
    },
    {
     "name": "stdout",
     "output_type": "stream",
     "text": [
      "\n",
      "Original:     What do you want more ?\n",
      "Gold labels:  c i i i i c\n",
      "Pred labels:  c c c c c c\n",
      "Gold:         What more do you want more do you want more do you want more do you want ?\n",
      "Correction 1: What do you want?\n",
      "Correction 2: What do you want more specifically?\n",
      "Correction 3: What do you want else?\n",
      "Correction 4: What do you want additional?\n",
      "Correction 5: What do you want further?\n",
      "Error types:  ['W']\n",
      "\n"
     ]
    },
    {
     "name": "stderr",
     "output_type": "stream",
     "text": [
      " 42%|██████████████████▏                        | 28/66 [09:01<06:50, 10.80s/it]"
     ]
    },
    {
     "name": "stdout",
     "output_type": "stream",
     "text": [
      "\n",
      "Original:     I would like also to specify if the food is including in the prize .\n",
      "Gold labels:  c c i i i c c c c c i c c c c\n",
      "Pred labels:  c c c i c c c c c c i c c c c\n",
      "Gold:         I would also like also like specify if the food is included in the prize .\n",
      "Correction 1: I would like to also specify if the food is included in the price .\n",
      "Correction 2: I would like to specify if the food is included in the price .\n",
      "Correction 3: I would like also to specify if the food is included in the price .\n",
      "Correction 4: I would like to also specify if the food is included in the prize .\n",
      "Correction 5: I would like to specify if the food is included in the prize .\n",
      "Error types:  ['DJ', 'NO_LABEL', 'W']\n",
      "\n"
     ]
    },
    {
     "name": "stderr",
     "output_type": "stream",
     "text": [
      " 44%|██████████████████▉                        | 29/66 [09:47<13:06, 21.26s/it]"
     ]
    },
    {
     "name": "stdout",
     "output_type": "stream",
     "text": [
      "\n",
      "Original:     First of all on Tuesday we all will go to the show and spend there all our day , but on Wednesday in the afternoon when we have free time we can go to the Science Museum if you do n't mind , of course .\n",
      "Gold labels:  c c c c c c i i c c c c c c i i i i c c c c c c c c c c i c c c c c c c c c c c c c c c c c\n",
      "Pred labels:  c c c c c c i i c c c c c c c c c c c c c c c c c c c c c c c c c c c c c c c c c c c c c c\n",
      "Gold:         First of all on Tuesday we will all will all go to the show and spend all day there all day there , but on Wednesday in the afternoon when we have time we can go to the Science Museum if you do n't mind , of course .\n",
      "Correction 1: First of all on Tuesday we all will go to the show and spend the whole day there, but on Wednesday in the afternoon when we have free time we can go to the Science Museum if you don't mind, of course.\n",
      "Correction 2: First of all on Tuesday we all will go to the show and spend our whole day there, but on Wednesday in the afternoon when we have free time we can go to the Science Museum if you don't mind, of course.\n",
      "Correction 3: First of all on Tuesday we all will go to the show and spend the whole day there, but on Wednesday at the afternoon when we have free time we can go to the Science Museum if you don't mind, of course.\n",
      "Correction 4: First of all on Tuesday we all will go to the show and spend the whole day there, but on Wednesday in the afternoon when we have our free time we can go to the Science Museum if you don't mind, of course.\n",
      "Correction 5: First of all on Tuesday we all will go to the show and spend the whole day there, but on Wednesday in the afternoon when we have free time we can go to the science museum if you don't mind, of course.\n",
      "Error types:  ['UD', 'NO_LABEL', 'W']\n",
      "\n"
     ]
    },
    {
     "name": "stderr",
     "output_type": "stream",
     "text": [
      " 45%|███████████████████▌                       | 30/66 [10:01<11:36, 19.34s/it]"
     ]
    },
    {
     "name": "stdout",
     "output_type": "stream",
     "text": [
      "\n",
      "Original:     It 's great to visit especially the Science Museum because of its expositions .\n",
      "Gold labels:  c c i i i i c c c c c c i c\n",
      "Pred labels:  c c c c c c c c c c c c c c\n",
      "Gold:         It 's especially great to visit especially great to visit especially great to visit especially great to visit the Science Museum because of its exhibitions .\n",
      "Correction 1: It's great to visit especially the Science Museum because of its exhibitions.\n",
      "Correction 2: It's great to visit, especially the Science Museum, because of its expositions.\n",
      "Correction 3: It's great to visit the Science Museum because of its expositions.\n",
      "Correction 4: It's great to visit, especially for the Science Museum, because of its expositions.\n",
      "Correction 5: It's great to visit, especially the Science Museum's exhibitions.\n",
      "Error types:  ['RN', 'W']\n",
      "\n"
     ]
    },
    {
     "name": "stderr",
     "output_type": "stream",
     "text": [
      " 47%|████████████████████▏                      | 31/66 [10:35<13:44, 23.57s/it]"
     ]
    },
    {
     "name": "stdout",
     "output_type": "stream",
     "text": [
      "\n",
      "Original:     Front my point of view , we are very interested in the latest fashions like the leisure , sports wear , make up , hairstyles , you know ... I strongly believe that we will be at the right time and best city to appreciate it .\n",
      "Gold labels:  i c c c c c c c c c c c c c c c c i i i c c c c c c c c c c c c c c c c i i i i i i i c c c c\n",
      "Pred labels:  i c c c c c c c c c c c c c c c c c c c c c c c c c c c c c c c c c c c c c c c c c c c c c c\n",
      "Gold:         From my point of view , we are very interested in the latest fashions like the leisure sportswear sportswear , make up , hairstyles , you know ... I strongly believe that we will be in the best city and at the right time in the best city and at the right time in the best city and at the right time in the best city and at the right time in the best city and at the right time to appreciate it .\n",
      "Correction 1: Front my point of view, we are very interested in the latest fashions like leisure, sports wear, make up, hairstyles. You know...\n",
      "Correction 2: I strongly believe that we will be at the right time and best city to appreciate it.\n",
      "Correction 3: Front my point of view, we are very interested in the latest fashions such as leisure, sports wear, makeup, hair styles. You know...\n",
      "Correction 4: I strongly believe that we will be at the right time and the best city to appreciate them.\n",
      "Correction 5: Front my perspective, we are very interested in the latest fashion like leisure, sports wear, make up, hairstyles. You know...\n",
      "Correction 6: I strongly believe that we will be at the right time and the best city to appreciate it.\n",
      "Correction 7: Note: The fifth line is an empty line as there were not enough unique corrections to fill all five lines.\n",
      "Error types:  ['SX', 'NO_LABEL', 'RP', 'W']\n",
      "\n"
     ]
    },
    {
     "name": "stderr",
     "output_type": "stream",
     "text": [
      " 48%|████████████████████▊                      | 32/66 [11:04<14:15, 25.18s/it]"
     ]
    },
    {
     "name": "stdout",
     "output_type": "stream",
     "text": [
      "\n",
      "Original:     10 MINUTES AFTER I WAS FOLLOWING HIM , I START KNOWING THE PLACE , AND I WAS FELLING MORE CONFORTABLE .\n",
      "Gold labels:  i i i i i i i c c i i c c c c c c i c i c\n",
      "Pred labels:  c c c c c c c c c i c c c c c c c c c i c\n",
      "Gold:         AFTER FILLOWING HIM  AFTER FILLOWING HIM  AFTER FILLOWING HIM  , I STARTED TO KNOW THE PLACE , AND I WAS FEELING MORE COMFORTABLE .\n",
      "Correction 1: 10 MINUTES AFTER I WAS FOLLOWING HIM , I STARTED KNOWING THE PLACE , AND I FELT MORE COMFORTABLE .\n",
      "Correction 2: 10 MINUTES AFTER I WAS FOLLOWING HIM , I BEGAN KNOWING THE PLACE , AND I FELT MORE COMFORTABLE .\n",
      "Correction 3: 10 MINUTES AFTER I WAS FOLLOWING HIM , I Began KNOWING THE PLACE , AND I FELT MORE COMFORTABLE .\n",
      "Correction 4: 10 MINUTES AFTER I WAS FOLLOWING HIM , I STARTED TO KNOW THE PLACE , AND I FELT MORE COMFORTABLE .\n",
      "Correction 5: 10 MINUTES AFTER I WAS FOLLOWING HIM , I STARTED KNOWING THE PLACE , AND I BECAME MORE COMFORTABLE .\n",
      "Error types:  ['FV', 'RV', 'TV', 'NO_LABEL', 'S', 'W', 'U']\n",
      "\n"
     ]
    },
    {
     "name": "stderr",
     "output_type": "stream",
     "text": [
      " 50%|█████████████████████▌                     | 33/66 [11:20<12:26, 22.63s/it]"
     ]
    },
    {
     "name": "stdout",
     "output_type": "stream",
     "text": [
      "\n",
      "Original:     This kind of problem you could avoid when you look for big halls at the begining .\n",
      "Gold labels:  i i i i i i i i c c c c c c c i c\n",
      "Pred labels:  c c c c c c c c c c c c c c c i c\n",
      "Gold:         You could avoid this kind of problem You could avoid this kind of problem You could avoid this kind of problem You could avoid this kind of problem You could avoid this kind of problem You could avoid this kind of problem You could avoid this kind of problem if you look for big halls at the beginning .\n",
      "Correction 1: This kind of problem you could avoid when you look for big halls at the beginning.\n",
      "Correction 2: This kind of problem you could avoid when you look for big halls when you begin.\n",
      "Correction 3: This kind of problem you could avoid when you look for big halls at first.\n",
      "Correction 4: You could avoid this kind of problem when you look for big halls at the beginning.\n",
      "Correction 5: This kind of problem you could avoid by looking for big halls at the beginning.\n",
      "Error types:  ['S', 'W', 'RC']\n",
      "\n"
     ]
    },
    {
     "name": "stderr",
     "output_type": "stream",
     "text": [
      " 52%|██████████████████████▏                    | 34/66 [11:29<09:50, 18.44s/it]"
     ]
    },
    {
     "name": "stdout",
     "output_type": "stream",
     "text": [
      "\n",
      "Original:     Just imagine the way of future people 's life .\n",
      "Gold labels:  c c c i i i i i c c\n",
      "Pred labels:  c c c c c i c c c c\n",
      "Gold:         Just imagine the future people's way of life future people's way of life future people's way of life future people's way of life future people's way of life life .\n",
      "Correction 1: Just imagine the way of future people's life.\n",
      "Correction 2: Just imagine the way future people's life.\n",
      "Correction 3: Just imagine the way of future people life.\n",
      "Correction 4: Just imagine the way future people life.\n",
      "Correction 5: Just imagine the way of people's future life.\n",
      "Error types:  ['W']\n",
      "\n"
     ]
    },
    {
     "name": "stderr",
     "output_type": "stream",
     "text": [
      " 53%|██████████████████████▊                    | 35/66 [11:51<10:00, 19.38s/it]"
     ]
    },
    {
     "name": "stdout",
     "output_type": "stream",
     "text": [
      "\n",
      "Original:     I would like also with the present to give you some information about me in order to arrange the details for the trip .\n",
      "Gold labels:  c c i i c c c c c c c c c c c c c c c c c c c c\n",
      "Pred labels:  c c c i c c c c c c c c c c c c c c c c c c c c\n",
      "Gold:         I would also like also like with the present to give you some information about me in order to arrange the details for the trip .\n",
      "Correction 1: I would like to also give you some information about me in order to arrange the details for the trip.\n",
      "Correction 2: I would like with the present to give you some information about me in order to arrange the details for the trip.\n",
      "Correction 3: I would like as well with the present to give you some information about me in order to arrange the details for the trip.\n",
      "Correction 4: I would like also to give you some information about me in order to arrange the details for the trip.\n",
      "Correction 5: I would like to give you some information about me in order to arrange the details for the trip.\n",
      "Error types:  ['W']\n",
      "\n"
     ]
    },
    {
     "name": "stderr",
     "output_type": "stream",
     "text": [
      " 55%|███████████████████████▍                   | 36/66 [12:24<11:44, 23.47s/it]"
     ]
    },
    {
     "name": "stdout",
     "output_type": "stream",
     "text": [
      "\n",
      "Original:     As state in your letter I have to choose the accommodation type . I would prefer to stay in tents because since I was a child I have being using this type of accommodation .\n",
      "Gold labels:  c i c c c c c c c c i i c c c c c c c i c c c c c c c c i c c c c c c\n",
      "Pred labels:  c i c c c c c c c c c c c c c c c c c c c c c c c c c c i c c c c c c\n",
      "Gold:         As in your letter I have to choose the type of accommodation type of accommodation . I would prefer to stay in tent because since I was a child I have been using this type of accommodation .\n",
      "Correction 1: As stated in your letter, I have to choose the accommodation type. I would prefer to stay in tents because since I was a child, I have used this type of accommodation.\n",
      "Correction 2: As state in your letter I have to choose the accommodation type. I would prefer to stay in tents because since I was a child I use this type of accommodation.\n",
      "Correction 3: As stated in your letter I have to choose the accommodation type. I would prefer to stay in tents because since I was a child, I have been using this type of accommodation.\n",
      "Correction 4: As stated in your letter I have to choose the accommodation type. I would prefer to stay in tents because since I was a child I have used this type of accommodation.\n",
      "Correction 5: As state in your letter I have to choose the accommodation type. I would prefer to stay in tents because since I was a child, I use this type of accommodation.\n",
      "Error types:  ['AGN', 'NO_LABEL', 'W', 'TV']\n",
      "\n"
     ]
    },
    {
     "name": "stderr",
     "output_type": "stream",
     "text": [
      " 56%|████████████████████████                   | 37/66 [13:03<13:35, 28.13s/it]"
     ]
    },
    {
     "name": "stdout",
     "output_type": "stream",
     "text": [
      "\n",
      "Original:     I am disappointed because of the horrible evening I have had , I was on holiday in London and I did not have time enough to spend there , but when you said that show was the best I decided to go .\n",
      "Gold labels:  c c c c c c c c c c c c c c c c c c c c c c c i i c c c c c c c c c i c c c c c c c c\n",
      "Pred labels:  c c c c c c c c c c c c c c c c c c c c c c c c c c c c c c c c c c c c c c c c c c c\n",
      "Gold:         I am disappointed because of the horrible evening I have had , I was on holiday in London and I did not have enough time enough time to spend there , but when you said that was the best I decided to go .\n",
      "Correction 1: I am disappointed because of the horrible evening I had, I was on holiday in London and did not have enough time to spend there, but when you said that show was the best I decided to go.\n",
      "Correction 2: I am disappointed with the horrible evening I had, I was on holiday in London and did not have enough time to spend there, but when you said that show was the best I decided to go.\n",
      "Correction 3: I am disappointed because of the horrible evening I had, I was on holiday in London, did not have enough time to spend there, but when you said that show was the best I decided to go.\n",
      "Correction 4: I am disappointed because of the horrible evening I had, I was on holiday in London and I did not have enough time to spend there, but when you said the show was the best I decided to go.\n",
      "Correction 5: I am disappointed because of the horrible evening I had, I was on holiday in London and I did not have enough time to spend there, but when you said that the best show I decided to go.\n",
      "Error types:  ['NO_LABEL', 'W']\n",
      "\n"
     ]
    },
    {
     "name": "stderr",
     "output_type": "stream",
     "text": [
      " 58%|████████████████████████▊                  | 38/66 [13:22<11:50, 25.39s/it]"
     ]
    },
    {
     "name": "stdout",
     "output_type": "stream",
     "text": [
      "\n",
      "Original:     I 've practised sailing since an early age and I perfectly manage the rigging and sail .\n",
      "Gold labels:  c c i c c c c c c c i i i i i i c\n",
      "Pred labels:  c c i c c c c c c c c c c i c c c\n",
      "Gold:         I 've been sailing since an early age and I manage the rigging and sail perfectly manage the rigging and sail perfectly manage the rigging and sail perfectly manage the rigging and sail perfectly manage the rigging and sail perfectly manage the rigging and sail perfectly .\n",
      "Correction 1: I've practised sailing since an early age and I perfectly manage the rigging and sail.\n",
      "Correction 2: I've practiced sailing since an early age and I can perfectly manage the rigging and sail.\n",
      "Correction 3: I've practiced sailing since my early age and I can perfectly manage the rigging and sail.\n",
      "Correction 4: I've practiced sailing since an early age and I perfectly handle the rigging and sail.\n",
      "Correction 5: I've practiced sailing since an early age and I can perfectly handle the rigging and sail.\n",
      "Error types:  ['RV', 'W']\n",
      "\n"
     ]
    },
    {
     "name": "stderr",
     "output_type": "stream",
     "text": [
      " 59%|█████████████████████████▍                 | 39/66 [13:47<11:25, 25.40s/it]"
     ]
    },
    {
     "name": "stdout",
     "output_type": "stream",
     "text": [
      "\n",
      "Original:     However my family 's members do less communicate with each other than we used to , because my children are keen on playing computer games .\n",
      "Gold labels:  c c c c c c i i i i i c i c c c c c c c c c c c c c\n",
      "Pred labels:  c c c c c c c c c c c c c c c c c c c c c c c c c c\n",
      "Gold:         However my family 's members do communicate with each other less communicate with each other less communicate with each other less communicate with each other less communicate with each other less than they used to , because my children are keen on playing computer games .\n",
      "Correction 1: However, my family's members do less communicate with each other than we used to because my children are keen on playing computer games.\n",
      "Correction 2: However, my family members' communication has decreased compared to before because my children are keen on playing computer games.\n",
      "Correction 3: However, my family members communicate less with each other than we used to because my children are keen on playing computer games.\n",
      "Correction 4: However, my family's members do not communicate as much with each other as we used to because my children are keen on playing computer games.\n",
      "Correction 5: However, my family members communicate less frequently with each other than we used to because my children are keen on playing computer games.\n",
      "Error types:  ['W', 'RA']\n",
      "\n"
     ]
    },
    {
     "name": "stderr",
     "output_type": "stream",
     "text": [
      " 61%|██████████████████████████                 | 40/66 [14:06<10:07, 23.37s/it]"
     ]
    },
    {
     "name": "stdout",
     "output_type": "stream",
     "text": [
      "\n",
      "Original:     I mean , almost everyone has now a car , a computer , a mobil phone and even an airplane .\n",
      "Gold labels:  c c c c c i i c c c c c c c i c c c c c c\n",
      "Pred labels:  c c c c c c i c c c c c c c i c c c c c c\n",
      "Gold:         I mean , almost everyone now has now has a car , a computer , a mobile phone and even an airplane .\n",
      "Correction 1: I mean, almost everyone has now a car, a computer, a mobile phone and even an airplane.\n",
      "Correction 2: I mean, almost everyone has now cars, computers, mobile phones and even airplanes.\n",
      "Correction 3: I mean, almost everyone has now a car, computers, mobile phones and even airplanes.\n",
      "Correction 4: I mean, almost everyone has now a car, a computer, mobile phones and even airplanes.\n",
      "Correction 5: I mean, almost everyone has now a car, a computer, a mobile phone and airplanes.\n",
      "Error types:  ['S', 'W']\n",
      "\n"
     ]
    },
    {
     "name": "stderr",
     "output_type": "stream",
     "text": [
      " 62%|██████████████████████████▋                | 41/66 [14:20<08:34, 20.59s/it]"
     ]
    },
    {
     "name": "stdout",
     "output_type": "stream",
     "text": [
      "\n",
      "Original:     I am also used to write exams which are in polish schools very often .\n",
      "Gold labels:  c c c c c i c c c i i i i i c\n",
      "Pred labels:  c c c c c i c c c c i c c c c\n",
      "Gold:         I am also used to writing exams which are very often in Polish schools Polish .\n",
      "Correction 1: I am also used to write exams which are in Polish schools very often.\n",
      "Correction 2: I am used to writing exams which are in Polish schools very often.\n",
      "Correction 3: I am used to write exams which are in Polish schools very frequently.\n",
      "Correction 4: I am used to write exams that are in Polish schools very often.\n",
      "Correction 5: I am used to write exams which are at Polish schools very often.\n",
      "Error types:  ['FV', 'NO_LABEL', 'RP', 'W']\n",
      "\n"
     ]
    },
    {
     "name": "stderr",
     "output_type": "stream",
     "text": [
      " 64%|███████████████████████████▎               | 42/66 [14:47<09:00, 22.51s/it]"
     ]
    },
    {
     "name": "stdout",
     "output_type": "stream",
     "text": [
      "\n",
      "Original:     Machines , such as a dish washer , laundry machine and remote controller help us jut to relax or do a little work necessary .\n",
      "Gold labels:  c c c c i i i c i c c c i c c i c c c c c c i i c\n",
      "Pred labels:  c c c c c c c c c c c c c c c i c c c c c c c c c\n",
      "Gold:         Machines , such as the dishwasher dishwasher , washing machine machine and remote control help us just to relax or do a little necessary work necessary work .\n",
      "Correction 1: Machines, such as a dish washer, laundry machine, and remote controller, help us just to relax or do a little necessary work.\n",
      "Correction 2: Machines, such as a dishwasher, laundry machine, and remote controller, help us just to relax or do a little necessary work.\n",
      "Correction 3: Machines, such as a dishwasher, laundry machine, and remote controllers, help us just to relax or do a little necessary work.\n",
      "Correction 4: Machines, such as a dish washer, laundry machine, and remote controllers, help us just to relax or do a little necessary work.\n",
      "Correction 5: Machines, such as a dishwashers, laundry machines, and remote controller, help us just to relax or do a little necessary work.\n",
      "Error types:  ['RP', 'RD', 'DN', 'SX', 'W', 'RN']\n",
      "\n"
     ]
    },
    {
     "name": "stderr",
     "output_type": "stream",
     "text": [
      " 65%|████████████████████████████               | 43/66 [15:23<10:13, 26.68s/it]"
     ]
    },
    {
     "name": "stdout",
     "output_type": "stream",
     "text": [
      "\n",
      "Original:     In my opinion shopping sometimes is really boring specially when you buy at the supermarkets almost all the time the same things like cleaning products and the ingredients for every day food .\n",
      "Gold labels:  c c c c i i c c i c c c i i i i i i i i i i c c c c c c c i i i c\n",
      "Pred labels:  c c c c c c c c i c c c c c c c c c c i c c c c c c c c c i i c c\n",
      "Gold:         In my opinion shopping is sometimes is sometimes really boring especially when you buy the same things at the supermarkets almost all the time the same things at the supermarkets almost all the time the same things at the supermarkets almost all the time the same things at the supermarkets almost all the time the same things at the supermarkets almost all the time the same things at the supermarkets almost all the time the same things at the supermarkets almost all the time the same things at the supermarkets almost all the time the same things at the supermarkets almost all the time the same things at the supermarkets almost all the time like cleaning products and the ingredients for everyday everyday recipes .\n",
      "Correction 1: In my opinion, shopping sometimes is really boring. Especially when you buy at the supermarkets almost all the time, the same things, like cleaning products and the ingredients for everyday food.\n",
      "Correction 2: In my opinion, shopping sometimes is really boring, specially when you buy at the supermarkets almost all the time the same things, like cleaning products and the ingredients for every day's food.\n",
      "Correction 3: In my opinion, shopping sometimes is really boring. Especially when you buy at the supermarkets almost all the time, the same things, like cleaning products and the ingredients for everyday foods.\n",
      "Correction 4: In my opinion, shopping sometimes is really boring. Especially when you buy at the supermarkets almost all the time, the same items, like cleaning products and the ingredients for every day food.\n",
      "Correction 5: In my opinion, shopping sometimes is really boring. Especially when you shop at the supermarkets almost all the time, the same things, like cleaning products and the ingredients for everyday food.\n",
      "Error types:  ['RN', 'RP', 'W', 'RY']\n",
      "\n"
     ]
    },
    {
     "name": "stderr",
     "output_type": "stream",
     "text": [
      " 67%|████████████████████████████▋              | 44/66 [15:59<10:44, 29.29s/it]"
     ]
    },
    {
     "name": "stdout",
     "output_type": "stream",
     "text": [
      "\n",
      "Original:     AT LEAST I ASKED A BOY AND HE SAID \"\"\"\" I'LL TELL YOU WHERE IS THE PLACE YOU ARE LOOKING FOR , JUST FOLLOW ME \"\"\"\" .\n",
      "Gold labels:  i i c c c c c c c c c c c c i i i i i i i c c c c c c\n",
      "Pred labels:  c c c c c c c c c c c c c c c c c c c c c c c c c c c\n",
      "Gold:         FINALLY LAST I ASKED A BOY AND HE SAID \"\"\"\" I'LL TELL YOU WHERE THE PLACE YOU ARE LOOKING FOR IS THE PLACE YOU ARE LOOKING FOR IS THE PLACE YOU ARE LOOKING FOR IS THE PLACE YOU ARE LOOKING FOR IS THE PLACE YOU ARE LOOKING FOR IS THE PLACE YOU ARE LOOKING FOR IS THE PLACE YOU ARE LOOKING FOR IS , JUST FOLLOW ME \"\"\"\" .\n",
      "Correction 1: AT LEAST I ASKED A BOY AND HE SAID \"I'LL TELL YOU WHERE THE PLACE IS THAT YOU ARE LOOKING FOR. JUST FOLLOW ME.\"\n",
      "Correction 2: AT LEAST I ASKED A BOY AND HE SAID \"I'LL TELL YOU WHERE THE PLACE IS WHERE YOU ARE LOOKING FOR. JUST FOLLOW ME.\"\n",
      "Correction 3: AT LEAST I ASKED A BOY AND HE SAID \"I'LL TELL YOU WHERE IS THE PLACE THAT YOU ARE LOOKING FOR. JUST FOLLOW ME.\"\n",
      "Correction 4: AT LEAST I ASKED A BOY AND HE SAID \"I'LL TELL YOU WHERE IS THE PLACE WHERE YOU ARE LOOKING FOR. JUST FOLLOW ME.\"\n",
      "Correction 5: AT LEAST I ASKED A BOY AND HE SAID \"I'LL TELL YOU WHERE THE PLACE IS THE PLACE YOU ARE LOOKING FOR. JUST FOLLOW ME.\"\n",
      "Error types:  ['SX', 'W', 'RY']\n",
      "\n"
     ]
    },
    {
     "name": "stderr",
     "output_type": "stream",
     "text": [
      " 68%|█████████████████████████████▎             | 45/66 [16:21<09:34, 27.34s/it]"
     ]
    },
    {
     "name": "stdout",
     "output_type": "stream",
     "text": [
      "\n",
      "Original:     the most important thing is that you wisely choose the most suitable work for you , according to the things you like to do .\n",
      "Gold labels:  i c c c c c c i i i i i i i i c c c c c c c c c c\n",
      "Pred labels:  i c c c c c c c c c c c c c c c c c c c c c c c c\n",
      "Gold:         The most important thing is that you choose the most suitable work for you wisely choose the most suitable work for you wisely choose the most suitable work for you wisely choose the most suitable work for you wisely choose the most suitable work for you wisely choose the most suitable work for you wisely choose the most suitable work for you wisely choose the most suitable work for you wisely , according to the things you like to do .\n",
      "Correction 1: the most important thing is that you wisely choose the most suitable work for you according to the things you like to do\n",
      "Correction 2: the most important thing is that you wisely choose the most suitable work for you based on the things you like to do\n",
      "Correction 3: the most important thing is that you wisely choose the most suitable job for you according to the things you like to do\n",
      "Correction 4: the most important thing is that you wisely choose the most suitable job for you based on the things you like to do\n",
      "Correction 5: the most important thing is that you wisely choose the best work for you according to the things you like to do\n",
      "Error types:  ['RP', 'W']\n",
      "\n"
     ]
    },
    {
     "name": "stderr",
     "output_type": "stream",
     "text": [
      " 70%|█████████████████████████████▉             | 46/66 [16:47<08:56, 26.81s/it]"
     ]
    },
    {
     "name": "stdout",
     "output_type": "stream",
     "text": [
      "\n",
      "Original:     I decided to do something to this man , my first move was to check was there any solid or liquid which could blocked his breathe .\n",
      "Gold labels:  c c c c c i c c i i c c c c c i i c c c c c c i c i c\n",
      "Pred labels:  c c c c c c c c i i c c c c c i c c c c c c c i c c c\n",
      "Gold:         I decided to do something for this man . My . My first move was to check there was there was any solid or liquid which could have blocked his breathing .\n",
      "Correction 1: I decided to do something to this man. My first move was to check if there was any solid or liquid which could block his breath.\n",
      "Correction 2: I decided to do something to this man. My first move was to check whether there was any solid or liquid which could block his breath.\n",
      "Correction 3: I decided to do something to this man. My first move was to check if there were any solids or liquids which could block his breath.\n",
      "Correction 4: I decided to do something to this man. My first move was to check if there was anything that could block his breath.\n",
      "Correction 5: I decided to do something to this man; my first move was to check if there was any solid or liquid which could block his breath.\n",
      "Error types:  ['RP', 'TV', 'RT', 'DN', 'W']\n",
      "\n"
     ]
    },
    {
     "name": "stderr",
     "output_type": "stream",
     "text": [
      " 71%|██████████████████████████████▌            | 47/66 [17:32<10:10, 32.16s/it]"
     ]
    },
    {
     "name": "stdout",
     "output_type": "stream",
     "text": [
      "\n",
      "Original:     IN CASE YOU DECIDE TO CHANGE THE PROGRAM , WE SUGGEST ON TUSDAY GO TO THE SHOW AND ON WENSDAY INSTED FREE TIME , VISIT THE SCIENCE MUSEUM .\n",
      "Gold labels:  c c c c c c c i c c c i i i i i i c c i i i c c i c c c c\n",
      "Pred labels:  c c c c c c c c c c c c i c c c c c c i i c c c c c c c c\n",
      "Gold:         IN CASE YOU DECIDE TO CHANGE THE PROGRAMME , WE SUGGEST GOING TO THE SHOW ON TUESDAY TUESDAY GOING AND ON WEDNESDAY INSTEAD TIME , VISITING THE SCIENCE MUSEUM .\n",
      "Correction 1: IN CASE YOU DECIDE TO CHANGE THE PROGRAM , WE SUGGEST THAT ON TUESDAY YOU GO TO THE SHOW AND ON WEDNESDAY DURING YOUR FREE TIME , VISIT THE SCIENCE MUSEUM .\n",
      "Correction 2: IN CASE YOU DECIDE TO CHANGE THE PROGRAM , WE SUGGEST ON TUESDAY GOING TO THE SHOW AND ON WEDNESDAY DURING YOUR FREE TIME , VISITING THE SCIENCE MUSEUM .\n",
      "Correction 3: IN CASE YOU DECIDE TO CHANGE THE PROGRAM , WE SUGGEST ON TUESDAY GOING TO THE SHOW AND ON WEDNESDAY INSTEAD OF DURING YOUR FREE TIME , VISIT THE SCIENCE MUSEUM .\n",
      "Correction 4: IN CASE YOU DECIDE TO CHANGE THE PROGRAM , WE SUGGEST THAT ON TUESDAY YOU GO TO THE SHOW AND ON WEDNESDAY DURING YOUR FREE TIME , VISITING THE SCIENCE MUSEUM .\n",
      "Correction 5: IN CASE YOU DECIDE TO CHANGE THE PROGRAM , WE SUGGEST ON TUESDAY GOING TO THE SHOW AND ON WEDNESDAY INSTEAD OF DURING YOUR FREE TIME , VISIT THE SCIENCE MUSEUM .\n",
      "Error types:  ['FV', 'SA', 'NO_LABEL', 'S', 'W']\n",
      "\n"
     ]
    },
    {
     "name": "stderr",
     "output_type": "stream",
     "text": [
      " 73%|███████████████████████████████▎           | 48/66 [17:49<08:17, 27.64s/it]"
     ]
    },
    {
     "name": "stdout",
     "output_type": "stream",
     "text": [
      "\n",
      "Original:     Open some foreign language classes at part - time for the students who is interested in it .\n",
      "Gold labels:  i c i i i i i i i c c c c i c c i c\n",
      "Pred labels:  i c c c c c c c c c c c c i c c c c\n",
      "Gold:         Start some part-time foreign language classes part-time foreign language classes part-time foreign language classes part-time foreign language classes part-time foreign language classes part-time foreign language classes part-time foreign language classes for the students who are interested in them .\n",
      "Correction 1: Open some foreign language classes part-time for the students who are interested in it.\n",
      "Correction 2: Open some foreign language classes at part-time for the students who is interested in it.\n",
      "Correction 3: Open some foreign language classes at part time for the students who is interested in it.\n",
      "Correction 4: Open some foreign language classes at part-time for the students who are interested in it.\n",
      "Correction 5: Open some foreign language classes for the students who are interested in it part-time.\n",
      "Error types:  ['AGA', 'AGV', 'RV', 'W']\n",
      "\n"
     ]
    },
    {
     "name": "stderr",
     "output_type": "stream",
     "text": [
      " 74%|███████████████████████████████▉           | 49/66 [18:08<07:07, 25.12s/it]"
     ]
    },
    {
     "name": "stdout",
     "output_type": "stream",
     "text": [
      "\n",
      "Original:     After that , I would like to say Thanks , I never have won any price at all .\n",
      "Gold labels:  c c c c c c c c c c c i i c c i c c c\n",
      "Pred labels:  c c c c c c c c c c c c c c c i c c c\n",
      "Gold:         After that , I would like to say Thanks , I have never have never won any prize at all .\n",
      "Correction 1: After that, I would like to say thanks. I have never won any prize at all.\n",
      "Correction 2: After that, I would like to say thank you. I have never won any prize at all.\n",
      "Correction 3: After that, I would like to say Thanks. I never won any price at all.\n",
      "Correction 4: After that, I would like to say thanks. I never won any prize at all.\n",
      "Correction 5: After that, I would like to say thanks. I have never won any prize at all.\n",
      "Error types:  ['RN', 'W']\n",
      "\n"
     ]
    },
    {
     "name": "stderr",
     "output_type": "stream",
     "text": [
      " 76%|████████████████████████████████▌          | 50/66 [18:22<05:47, 21.74s/it]"
     ]
    },
    {
     "name": "stdout",
     "output_type": "stream",
     "text": [
      "\n",
      "Original:     NOWADAYS , PEOPLE SEEM TO BE ALWAYS WORRIED .\n",
      "Gold labels:  c c c i i i i c c\n",
      "Pred labels:  c c c c c c c c c\n",
      "Gold:         NOWADAYS , PEOPLE ALWAYS SEEM TO BE ALWAYS SEEM TO BE ALWAYS SEEM TO BE ALWAYS SEEM TO BE WORRIED .\n",
      "Correction 1: NOWAYS, PEOPLE SEEM TO BE ALWAYS WORRIED.\n",
      "Correction 2: TODAY, PEOPLE SEEM TO BE ALWAYS WORRIED.\n",
      "Correction 3: NOWADAYS PEOPLE SEEM TO BE ALWAYS WORRIED.\n",
      "Correction 4: NOWADAYS, PEOPLE SEEMS TO BE ALWAYS WORRIED.\n",
      "Correction 5: NOWADAYS, PEOPLE SEEM TO ALWAYS WORRIED.\n",
      "Error types:  ['W']\n",
      "\n"
     ]
    },
    {
     "name": "stderr",
     "output_type": "stream",
     "text": [
      " 77%|█████████████████████████████████▏         | 51/66 [18:34<04:41, 18.80s/it]"
     ]
    },
    {
     "name": "stdout",
     "output_type": "stream",
     "text": [
      "\n",
      "Original:     I also would like to claim some refund for the evening .\n",
      "Gold labels:  c i i c c c i c c c c c\n",
      "Pred labels:  c c c c c c c c c c c c\n",
      "Gold:         I would also would also like to claim a refund for the evening .\n",
      "Correction 1: I also would like to claim a refund for the evening.\n",
      "Correction 2: I would like to claim some refund for the evening.\n",
      "Correction 3: I want to claim a refund for the evening.\n",
      "Correction 4: I would like to get a refund for the evening.\n",
      "Correction 5: I would like to claim some money back for the evening.\n",
      "Error types:  ['RD', 'W']\n",
      "\n"
     ]
    },
    {
     "name": "stderr",
     "output_type": "stream",
     "text": [
      " 79%|█████████████████████████████████▉         | 52/66 [18:51<04:18, 18.47s/it]"
     ]
    },
    {
     "name": "stdout",
     "output_type": "stream",
     "text": [
      "\n",
      "Original:     I paid for the show £ 50 I also have a recite to prove it .\n",
      "Gold labels:  c c i i i i i c c c c i c c c c\n",
      "Pred labels:  c c c c c c c c c c c i c c c c\n",
      "Gold:         I paid £ 50.00 for the show £ 50.00 for the show £ 50.00 for the show £ 50.00 for the show £ 50.00 for the show I also have a receipt to prove it .\n",
      "Correction 1: I paid for the show £50. I also have a receipt to prove it.\n",
      "Correction 2: I paid £50 for the show. I also have a recite to prove it.\n",
      "Correction 3: I paid £50 for the show. I also have a receipt to prove it.\n",
      "Correction 4: I paid for the show. I also have a receipt to prove it.\n",
      "Correction 5: I paid for the show £50. I also have a receipt to prove it.\n",
      "Error types:  ['SX', 'W']\n",
      "\n"
     ]
    },
    {
     "name": "stderr",
     "output_type": "stream",
     "text": [
      " 80%|██████████████████████████████████▌        | 53/66 [19:11<04:02, 18.65s/it]"
     ]
    },
    {
     "name": "stdout",
     "output_type": "stream",
     "text": [
      "\n",
      "Original:     I would like also to know what the cost of spending two weeks in the U.S.A. is .\n",
      "Gold labels:  c c i i c c c c c c c c c c c c c c\n",
      "Pred labels:  c c c i c c c c c c c c c c c c c c\n",
      "Gold:         I would also like also like to know what the cost of spending two weeks in the U.S.A. is .\n",
      "Correction 1: I would like to know the cost of spending two weeks in the U.S.A.\n",
      "Correction 2: I also would like to know what the cost of spending two weeks in the U.S.A. is\n",
      "Correction 3: I would like to know what the cost is of spending two weeks in the U.S.A.\n",
      "Correction 4: I would like to know the costs of spending two weeks in the U.S.A.\n",
      "Correction 5: I would like to know what it costs to spend two weeks in the U.S.A.\n",
      "Error types:  ['W']\n",
      "\n"
     ]
    },
    {
     "name": "stderr",
     "output_type": "stream",
     "text": [
      " 82%|███████████████████████████████████▏       | 54/66 [19:41<04:27, 22.32s/it]"
     ]
    },
    {
     "name": "stdout",
     "output_type": "stream",
     "text": [
      "\n",
      "Original:     We 'd like to thank you because the kind of happening shows how you are dedicated with our school and the students that study there .\n",
      "Gold labels:  c c c c c c c i c c i c c i i i i c c c c c c c c c\n",
      "Pred labels:  c c c c c c c c c c i c c c c c i c c c c c c c c c\n",
      "Gold:         We 'd like to thank you because this kind of event shows how dedicated you are dedicated you are dedicated you are to our school and the students that study there .\n",
      "Correction 1: We'd like to thank you because the kind of happening shows how you are dedicated to our school and the students who study there.\n",
      "Correction 2: We'd like to thank you for the kind of happening that shows how you are dedicated to our school and the students who study there.\n",
      "Correction 3: We'd like to thank you for the kind of happening shows your dedication to our school and the students studying there.\n",
      "Correction 4: We'd like to thank you because the kind of happening shows your dedication to our school and the students studying there.\n",
      "Correction 5: We'd like to thank you for the kind of happening that shows how dedicated you are to our school and the students who study there.\n",
      "Correction 6: Note: The fifth version is a duplicate of the second, so it is not unique and thus an empty line is provided instead.\n",
      "Error types:  ['RD', 'RT', 'RN', 'W']\n",
      "\n"
     ]
    },
    {
     "name": "stderr",
     "output_type": "stream",
     "text": [
      " 83%|███████████████████████████████████▊       | 55/66 [20:14<04:40, 25.49s/it]"
     ]
    },
    {
     "name": "stdout",
     "output_type": "stream",
     "text": [
      "\n",
      "Original:     I am very happy to win this prize and I am going to give you some information from me that you need to make me have a good time at Camp California .\n",
      "Gold labels:  c c c c c c c c c c c c c c c c c i i i i i c i i c c c c c c c c\n",
      "Pred labels:  c c c c c c c c c c c c c c c c c c c c c c c c c c c c c c c c c\n",
      "Gold:         I am very happy to win this prize and I am going to give you some information that you need from me that you need from me that you need from me that you need from me that you need from me to ensure that I have a good time at Camp California .\n",
      "Correction 1: I am very happy to win this prize and I am going to give you some information that you need to make me have a good time at Camp California.\n",
      "Correction 2: I am very happy to win this prize. I am going to give you some information from me that you need to make sure I have a good time at Camp California.\n",
      "Correction 3: I am very happy to win this prize and I am going to give you some necessary information from me that will help you make me have a good time at Camp California.\n",
      "Correction 4: I am very happy to win this prize. I am going to give you some information from me that you need for me to have a good time at Camp California.\n",
      "Correction 5: I am very happy to win this prize and I am going to give you some information from me that will help you make me have a good time at Camp California.\n",
      "Error types:  ['R', 'RV', 'W']\n",
      "\n"
     ]
    },
    {
     "name": "stderr",
     "output_type": "stream",
     "text": [
      " 85%|████████████████████████████████████▍      | 56/66 [20:41<04:17, 25.77s/it]"
     ]
    },
    {
     "name": "stdout",
     "output_type": "stream",
     "text": [
      "\n",
      "Original:     I want if it is possible a log cabins like accommodation because I have been suffering from my back since my childhood , therefore I need a confortable accommodation .\n",
      "Gold labels:  i i i i i i c c i i c c c c c c i c c c c c c c c c c i i c\n",
      "Pred labels:  c c c c c c c c i c c c c c c c c c c c c c c c c c c i c c\n",
      "Gold:         If it is possible I want If it is possible I want If it is possible I want If it is possible I want If it is possible I want If it is possible I want a log log cabin for my accommodation because I have been suffering with my back since my childhood , therefore I need a comfortable place to sleep .\n",
      "Correction 1: I want if it is possible cabin accommodation because I have been suffering from my back since my childhood therefore I need comfortable accommodation\n",
      "Correction 2: I want if it is possible log cabin accommodation because I have been suffering from my back since my childhood therefore I need comfortable accommodation\n",
      "Correction 3: I want if it is possible a log cabin like accommodation because I have been suffering from my back since my childhood therefore I need comfortable accommodation\n",
      "Correction 4: I want if it is possible a log cabin like accommodation because I have been suffering from my back since my childhood therefore I need a comfortable accommodation\n",
      "Correction 5: I want if it is possible log cabins like accommodation because I have been suffering from my back since my childhood therefore I need a comfortable accommodation\n",
      "Error types:  ['RT', 'AGN', 'S', 'W', 'R']\n",
      "\n"
     ]
    },
    {
     "name": "stderr",
     "output_type": "stream",
     "text": [
      " 86%|█████████████████████████████████████▏     | 57/66 [20:43<02:47, 18.65s/it]"
     ]
    },
    {
     "name": "stdout",
     "output_type": "stream",
     "text": [
      "\n",
      "Original:     I wasted time too much for waiting .\n",
      "Gold labels:  c c i i i c c c\n",
      "Pred labels:  c c c c c c c c\n",
      "Gold:         I wasted too much time too much time too much time for waiting .\n",
      "Correction 1: I wasted too much time waiting .\n",
      "Error types:  ['W']\n",
      "\n"
     ]
    },
    {
     "name": "stderr",
     "output_type": "stream",
     "text": [
      " 88%|█████████████████████████████████████▊     | 58/66 [20:56<02:15, 16.98s/it]"
     ]
    },
    {
     "name": "stdout",
     "output_type": "stream",
     "text": [
      "\n",
      "Original:     Ten or fifteen years ago we had in Poland empty shelves in shops .\n",
      "Gold labels:  c c c c c c c i i i i i i c\n",
      "Pred labels:  c c c c c c c c c c c c c c\n",
      "Gold:         Ten or fifteen years ago we had empty shelves in shops in Poland empty shelves in shops in Poland empty shelves in shops in Poland empty shelves in shops in Poland empty shelves in shops in Poland empty shelves in shops in Poland .\n",
      "Correction 1: Ten or fifteen years ago we had empty shelves in shops in Poland.\n",
      "Correction 2: Ten or fifteen years ago we have empty shelves in shops in Poland.\n",
      "Correction 3: Ten or fifteen years ago we had empty shelves in Polish shops.\n",
      "Correction 4: Ten or fifteen years ago we had empty shop shelves in Poland.\n",
      "Correction 5: Ten or fifteen years ago we have empty shop shelves in Poland.\n",
      "Error types:  ['W']\n",
      "\n"
     ]
    },
    {
     "name": "stderr",
     "output_type": "stream",
     "text": [
      " 89%|██████████████████████████████████████▍    | 59/66 [21:12<01:56, 16.61s/it]"
     ]
    },
    {
     "name": "stdout",
     "output_type": "stream",
     "text": [
      "\n",
      "Original:     Two weeks at California in the USA is the thing about I dreamed a lot .\n",
      "Gold labels:  c c c c c c c c c c i i i c c c\n",
      "Pred labels:  c c c c c c c c c c i i c c c c\n",
      "Gold:         Two weeks at California in the USA is the thing I dreamed about I dreamed about I dreamed about a lot .\n",
      "Correction 1: Two weeks in California in the USA is the thing I dreamed about a lot.\n",
      "Correction 2: Two weeks at California in the USA is the thing that I dreamed about a lot.\n",
      "Correction 3: Two weeks at California in the USA is the thing I have dreamed about a lot.\n",
      "Correction 4: Two weeks at California in the USA is what I dreamed about a lot.\n",
      "Correction 5: Two weeks at California in the USA is the thing I dreamed of a lot.\n",
      "Error types:  ['W']\n",
      "\n"
     ]
    },
    {
     "name": "stderr",
     "output_type": "stream",
     "text": [
      " 91%|███████████████████████████████████████    | 60/66 [21:39<01:59, 19.98s/it]"
     ]
    },
    {
     "name": "stdout",
     "output_type": "stream",
     "text": [
      "\n",
      "Original:     Today , however , people do not need to spend many times on making food , washing up , or even on turning on an off the light .\n",
      "Gold labels:  c c c c c c c c c c i i c c c c c c c c c c c i i i i i c\n",
      "Pred labels:  c c c c c c c c c c i i c c c c c c c c c c c c c i c c c\n",
      "Gold:         Today , however , people do not need to spend much time on making food , washing up , or even on turning the light on and off and .\n",
      "Correction 1: Today, however, people do not need to spend much time on making food, washing up, or even turning the light on and off.\n",
      "Correction 2: Today, however, people do not need to spend many times on making food, washing up, or even flipping the light switch on and off.\n",
      "Correction 3: Today, however, people do not need to spend much time on making food, washing up, or even switching the lights on and off.\n",
      "Correction 4: Today, however, people do not need to spend much time on making food, washing up, or even turning lights on and off.\n",
      "Correction 5: Today, however, people do not need to spend many times on making food, washing up, or even toggling the light switch on and off.\n",
      "Error types:  ['CQ', 'NO_LABEL', 'FN', 'SX', 'W']\n",
      "\n"
     ]
    },
    {
     "name": "stderr",
     "output_type": "stream",
     "text": [
      " 92%|███████████████████████████████████████▋   | 61/66 [22:02<01:43, 20.67s/it]"
     ]
    },
    {
     "name": "stdout",
     "output_type": "stream",
     "text": [
      "\n",
      "Original:     Fifty years ago people even did n't think that after 2000 years they would have another life .\n",
      "Gold labels:  c c c c i i i c c c c c c c c c c c\n",
      "Pred labels:  c c c c i i c c c c c c c c c c c c\n",
      "Gold:         Fifty years ago people didn't even didn't even didn't even think that after 2000 years they would have another life .\n",
      "Correction 1: Fifty years ago, people didn't even think that after 2000 years they would have another life.\n",
      "Correction 2: Fifty years ago people didn't even think that after 2000 years they would have another life.\n",
      "Correction 3: Fifty years ago people didn't even think that after 2000 years there would be another life.\n",
      "Correction 4: Fifty years ago people didn't even think that after 2000 years there might be another life.\n",
      "Correction 5: Fifty years ago, people didn't even think that after 2000 years they would have another life.\n",
      "Error types:  ['W']\n",
      "\n"
     ]
    },
    {
     "name": "stderr",
     "output_type": "stream",
     "text": [
      " 94%|████████████████████████████████████████▍  | 62/66 [22:34<01:36, 24.08s/it]"
     ]
    },
    {
     "name": "stdout",
     "output_type": "stream",
     "text": [
      "\n",
      "Original:     I think this festival is a great idea because it 's a possibility to see and to love the art , but , I think also there are some things thas could be changed .\n",
      "Gold labels:  c c c c c c c c c c c i i c c c c i c c c c c c i i c c c c i c c c c\n",
      "Pred labels:  c c c c c c c c c c c c i c c c c c c c c c c c c i c c c c i c c c c\n",
      "Gold:         I think this festival is a great idea because it 's an opportunity to see and to appreciate the art , but , I also think also think there are some things that could be changed .\n",
      "Correction 1: I think this festival is a great idea because it's a possibility to see and love the art, but I think also there are some things that could be changed.\n",
      "Correction 2: I think this festival is a great idea because it's a possibility to see and love the art but I think also there are some things that could be changed\n",
      "Correction 3: I think this festival is a great idea because it's a possibility to see and love the art but I think there are some things that could be changed\n",
      "Correction 4: I think this festival is a great idea because it's a possibility to see and love the art, but I think there are some things that could be changed.\n",
      "Correction 5: I think this festival is a great idea because it's a possibility to see and love the art, but I think also there are some things which could be changed.\n",
      "Error types:  ['RV', 'S', 'W', 'RN', 'FD']\n",
      "\n"
     ]
    },
    {
     "name": "stderr",
     "output_type": "stream",
     "text": [
      " 95%|█████████████████████████████████████████  | 63/66 [22:46<01:01, 20.66s/it]"
     ]
    },
    {
     "name": "stdout",
     "output_type": "stream",
     "text": [
      "\n",
      "Original:     For me was this aventure one of the Best .\n",
      "Gold labels:  c c i i i i i i i c\n",
      "Pred labels:  c c c c i c c c c c\n",
      "Gold:         For me this adventure was one of the best this adventure was one of the best adventure best .\n",
      "Correction 1: For me, this was an aventure one of the best.\n",
      "Correction 2: For me, this was a aventure one of the best.\n",
      "Correction 3: For me, this was this aventure one of the best.\n",
      "Correction 4: For me, this was the aventure one of the best.\n",
      "Correction 5: For me, this was this aventure one of best.\n",
      "Error types:  ['NO_LABEL', 'RP', 'S', 'W']\n",
      "\n"
     ]
    },
    {
     "name": "stderr",
     "output_type": "stream",
     "text": [
      " 97%|█████████████████████████████████████████▋ | 64/66 [23:04<00:39, 19.59s/it]"
     ]
    },
    {
     "name": "stdout",
     "output_type": "stream",
     "text": [
      "\n",
      "Original:     I would like You to know also about my two hobbys : swimming and surfing .\n",
      "Gold labels:  c c i i i i i c c c i c c c c c\n",
      "Pred labels:  c c c i c c i c c c i c c c c c\n",
      "Gold:         I would also like you to know you about my two hobbies : swimming and surfing .\n",
      "Correction 1: I would like you to know also about my two hobbies: swimming and surfing.\n",
      "Correction 2: I would like you to know about my two hobbys: swimming and surfing.\n",
      "Correction 3: I would like you to know also about my two hobbys: swimming and surf.\n",
      "Correction 4: I would like you to know also about my two hobbys : swimming and surf.\n",
      "Correction 5: I would like you to know also about my two hobbies : swimming and surf.\n",
      "Error types:  ['IN', 'NO_LABEL', 'RP', 'W']\n",
      "\n"
     ]
    },
    {
     "name": "stderr",
     "output_type": "stream",
     "text": [
      " 98%|██████████████████████████████████████████▎| 65/66 [23:11<00:15, 15.92s/it]"
     ]
    },
    {
     "name": "stdout",
     "output_type": "stream",
     "text": [
      "\n",
      "Original:     I had once this problem .\n",
      "Gold labels:  c i i c c c\n",
      "Pred labels:  c c i c c c\n",
      "Gold:         I once had once had this problem .\n",
      "Correction 1: I had this problem once .\n",
      "Correction 2: I have once had this problem .\n",
      "Correction 3: I had the problem once .\n",
      "Correction 4: Once I had this problem .\n",
      "Correction 5: I once had this problem .\n",
      "Error types:  ['W']\n",
      "\n"
     ]
    },
    {
     "name": "stderr",
     "output_type": "stream",
     "text": [
      "100%|███████████████████████████████████████████| 66/66 [23:29<00:00, 21.35s/it]"
     ]
    },
    {
     "name": "stdout",
     "output_type": "stream",
     "text": [
      "\n",
      "Original:     When finally the show had started I found out that Danny Brook was replaced by another actor .\n",
      "Gold labels:  c i i i c c c c c c c c i c c c c c\n",
      "Pred labels:  c c c c c c c c c c c c c c c c c c\n",
      "Gold:         When the show finally the show finally the show finally had started I found out that Danny Brook had been replaced replaced by another actor .\n",
      "Correction 1: When finally the show had started, I found out that Danny Brook was replaced by another actor.\n",
      "Correction 2: When the show had finally started, I found out that Danny Brook was replaced by another actor.\n",
      "Correction 3: When the show had started, I found out that Danny Brook had been replaced by another actor.\n",
      "Correction 4: When the show had started, I found out that Danny Brook was replaced by an actor.\n",
      "Correction 5: When the show had started, I found out that Danny Brook was replaced by another performer.\n",
      "Error types:  ['W', 'TV']\n",
      "\n"
     ]
    },
    {
     "name": "stderr",
     "output_type": "stream",
     "text": [
      "\n"
     ]
    }
   ],
   "source": [
    "all_W_roberta_corrections_FN = []\n",
    "\n",
    "for sentence in tqdm(roberta_fce_only_fn_error_type['W']):\n",
    "    sentence_corrections = get_corrections_tokenized_with_labels_from_data_bert(sentence, client)\n",
    "    all_W_roberta_corrections_FN.append(sentence_corrections)"
   ]
  },
  {
   "cell_type": "markdown",
   "id": "ac5fe808-c59c-4b46-9d29-580f4d8eee84",
   "metadata": {},
   "source": [
    "## FN+FP"
   ]
  },
  {
   "cell_type": "markdown",
   "id": "32921dd0-2113-464b-bc20-69b055ce331e",
   "metadata": {},
   "source": [
    "### ROBERTA --> TV"
   ]
  },
  {
   "cell_type": "code",
   "execution_count": 57,
   "id": "2e869ca0-833e-4661-ad99-e8c3735a6351",
   "metadata": {
    "scrolled": true
   },
   "outputs": [
    {
     "name": "stderr",
     "output_type": "stream",
     "text": [
      "  3%|█▎                                          | 1/34 [00:22<12:27, 22.65s/it]"
     ]
    },
    {
     "name": "stdout",
     "output_type": "stream",
     "text": [
      "\n",
      "Original:     That might be a secret for Francis - and they decided the program and the present , a new gold watch .\n",
      "Gold labels:  c i i c c c c c c c c i c c c c c c c c c c\n",
      "Pred labels:  c c c c c c c c c c c c c c c i c c c c c c\n",
      "Gold:         That should have been a secret for Francis - and they decided program and the present , a new gold watch .\n",
      "Correction 1: That might be a secret for Francis - and they decided on the program and the present, a new gold watch.\n",
      "Correction 2: That might be a secret for Francis - and they decided the program and the present, a new gold watch.\n",
      "Correction 3: That might be a secret for Francis - and they decided the program and the present, a new gold watch.\n",
      "Correction 4: That might be a secret for Francis - and they decided on the program and the present, a new gold watch.\n",
      "Correction 5: That might be a secret for Francis - and they decided the program and the present, a new gold watch.\n",
      "Error types:  ['NO_LABEL', 'RV', 'TV']\n",
      "\n"
     ]
    },
    {
     "name": "stderr",
     "output_type": "stream",
     "text": [
      "  6%|██▌                                         | 2/34 [00:37<09:46, 18.34s/it]"
     ]
    },
    {
     "name": "stdout",
     "output_type": "stream",
     "text": [
      "\n",
      "Original:     The fourth day , the singers and the players have been to there to test .\n",
      "Gold labels:  c c c c c c c c i i i c c c c c\n",
      "Pred labels:  i c c c c c c c c i c c c c c c\n",
      "Gold:         The fourth day , the singers and the musicians were were to there to test .\n",
      "Correction 1: The fourth day, the singers and players have been there to test.\n",
      "Correction 2: The fourth day, the singers and the players have gone there to test.\n",
      "Correction 3: The fourth day, the singers and the players had been there to test.\n",
      "Correction 4: The fourth day, the singers and the players have been there for testing.\n",
      "Correction 5: The fourth day, the singers and the players have been there to do tests.\n",
      "Error types:  ['RN', 'TV']\n",
      "\n"
     ]
    },
    {
     "name": "stderr",
     "output_type": "stream",
     "text": [
      "  9%|███▉                                        | 3/34 [01:02<10:55, 21.15s/it]"
     ]
    },
    {
     "name": "stdout",
     "output_type": "stream",
     "text": [
      "\n",
      "Original:     First of all , you must invite artists and stars from more countries around the world , because there are people only from six countries .\n",
      "Gold labels:  c c c c c c c c c c c c c c c c c c c i c c c c c c\n",
      "Pred labels:  c c c c c c c c c c c c c c c c c c c c c i i c c c\n",
      "Gold:         First of all , you must invite artists and stars from more countries around the world , because there were people only from six countries .\n",
      "Correction 1: First of all, you must invite artists and stars from more countries around the world because there are people from only six countries.\n",
      "Correction 2: First of all, you must invite artists and stars from more countries around the world as there are people from only six countries.\n",
      "Correction 3: First of all, you must invite artists and stars from more countries around the world since there are people from only six countries.\n",
      "Correction 4: First of all, you must invite artists and stars from more countries around the world for there are people from only six countries.\n",
      "Correction 5: First of all, you must invite artists and stars from more countries around the world because there are people in only six countries.\n",
      "Error types:  ['TV']\n",
      "\n"
     ]
    },
    {
     "name": "stderr",
     "output_type": "stream",
     "text": [
      " 12%|█████▏                                      | 4/34 [01:50<15:52, 31.75s/it]"
     ]
    },
    {
     "name": "stdout",
     "output_type": "stream",
     "text": [
      "\n",
      "Original:     When the holidays began everybody is happy because it represents the beginning of a time full of fun and lots of interesting things to do , but in order to do these things we all need money and that is a big problem to most of us .\n",
      "Gold labels:  c c c i c c c c c c c c c c c c c c c c c c c c c c c c c c c c c c c c c c c c c c c i c c c c\n",
      "Pred labels:  c c c c c i c c c c c c c c c c c c c c c c c c c c c c c c c c c c c c c c c c c c c i c c c c\n",
      "Gold:         When the holidays begin everybody is happy because it represents the beginning of a time full of fun and lots of interesting things to do , but in order to do these things we all need money and that is a big problem for most of us .\n",
      "Correction 1: When the holidays began, everybody is happy because it represents the beginning of a time full of fun and lots of interesting things to do. But in order to do these things, we all need money, and that is a big problem for most of us.\n",
      "Correction 2: When the holidays begin, everyone is happy because it represents the beginning of a time full of fun and lots of interesting things to do, but in order to do these things, we all need money and that is a big problem for most of us.\n",
      "Correction 3: When the holidays began, everybody is happy because it represents the beginning of a time full of fun and lots of interesting things to do. But in order to do these things, we all need money and that is a big problem to most people.\n",
      "Correction 4: When the holidays began, everybody was happy because it represented the beginning of a time full of fun and lots of interesting things to do, but in order to do these things, we all need money and that is a big problem for most of us.\n",
      "Correction 5: When the holidays begin, everyone is happy because it represents the beginning of a time full of fun and lots of interesting things to do. But in order to do these things, we all need money and that is a big problem for most people.\n",
      "Error types:  ['RT', 'TV']\n",
      "\n"
     ]
    },
    {
     "name": "stderr",
     "output_type": "stream",
     "text": [
      " 15%|██████▍                                     | 5/34 [02:26<16:02, 33.19s/it]"
     ]
    },
    {
     "name": "stdout",
     "output_type": "stream",
     "text": [
      "\n",
      "Original:     When her best friend , Scala , asked her an idea to surprise her husband because she 's pregnant , Pat put her feets in the plate just before Scala 's husband got the surprise .\n",
      "Gold labels:  c c c c c c c c c i c c c c c i c i c c c c c i i i i c c c c c i c c c\n",
      "Pred labels:  c c c c c c c c c i c i c c c c c c c c c c c i i c c c c c c c i c c c\n",
      "Gold:         When her best friend , Scala , asked her idea to surprise her husband she she was pregnant , Pat put her feet just before Scala 's husband had the surprise .\n",
      "Correction 1: When her best friend, Scala, asked her for an idea to surprise her husband because she's pregnant, Pat put her feet in the plate just before Scala's husband got the surprise.\n",
      "Correction 2: When her best friend, Scala, asked her for an idea to surprise her husband because she is pregnant, Pat put her feet in the plate just before her husband got the surprise.\n",
      "Correction 3: When her best friend, Scala, asked her for an idea to surprise her husband because she's pregnant, Pat put her feet in the plate just before Scala's husband got surprised.\n",
      "Correction 4: When her best friend, Scala, asked her for an idea to surprise her husband because she is pregnant, Pat put her feet in the plate just before her husband got surprised.\n",
      "Correction 5: When her best friend, Scala, asked her for an idea to surprise her husband because she is pregnant, Pat put her feet on the plate just before her husband got the surprise.\n",
      "Error types:  ['IN', 'NO_LABEL', 'RV', 'TV']\n",
      "\n"
     ]
    },
    {
     "name": "stderr",
     "output_type": "stream",
     "text": [
      " 18%|███████▊                                    | 6/34 [02:44<13:03, 27.98s/it]"
     ]
    },
    {
     "name": "stdout",
     "output_type": "stream",
     "text": [
      "\n",
      "Original:     I m not so good as her , but I 'm going every week once to her training .\n",
      "Gold labels:  c i c c c c c c c c i i i i i c c c i\n",
      "Pred labels:  c i c c c c c c c c c c c c c i c c c\n",
      "Gold:         I I'm not so good as her , but I I go I go once every week once every week once every week to her training\n",
      "Correction 1: I am not so good as her, but I go once every week to her training.\n",
      "Correction 2: I am not so good as her, but I'm going to her training once a week.\n",
      "Correction 3: I am not so good as her, but I'm going to her training once every week.\n",
      "Correction 4: I am not so good as her, but I go once a week to her training.\n",
      "Correction 5: I am not so good as her, but I'm going once a week to her training.\n",
      "Error types:  ['NO_LABEL', 'RP', 'TV', 'W']\n",
      "\n"
     ]
    },
    {
     "name": "stderr",
     "output_type": "stream",
     "text": [
      " 21%|█████████                                   | 7/34 [03:11<12:33, 27.91s/it]"
     ]
    },
    {
     "name": "stdout",
     "output_type": "stream",
     "text": [
      "\n",
      "Original:     Would you tell me that how much money you would give it to me and how is the weather like in U.S.A. Thank you for every thing !\n",
      "Gold labels:  c c c c c c c c c i c c c c c i i i i c c i c c c i i c\n",
      "Pred labels:  c c c c c c c c c c c i c c c i i i i c c i c c c i i c\n",
      "Gold:         Would you tell me that how much money you will give it to me and what the weather is the weather is the weather is like in Thank you for everything everything !\n",
      "Correction 1: Would you tell me how much money you would give to me and how is the weather like in the U.S.A. Thank you for everything!\n",
      "Correction 2: Would you tell me how much money you would give me and how is the weather like in the U.S.A. Thank you for every thing!\n",
      "Correction 3: Would you tell me how much money you would give it and how is the weather like in the U.S.A. Thank you for every thing!\n",
      "Correction 4: Would you tell me how much money you would give to me and how the weather is like in the U.S.A. Thank you for everything!\n",
      "Correction 5: Would you tell me how much money you would give to me and how is the weather in the U.S.A. Thank you for everything!\n",
      "Error types:  ['RP', 'TV', 'NO_LABEL', 'W', 'R']\n",
      "\n"
     ]
    },
    {
     "name": "stderr",
     "output_type": "stream",
     "text": [
      " 24%|██████████▎                                 | 8/34 [03:30<10:51, 25.08s/it]"
     ]
    },
    {
     "name": "stdout",
     "output_type": "stream",
     "text": [
      "\n",
      "Original:     It was a big one that I never thougth and I could n't imagine how amazing was it .\n",
      "Gold labels:  c c c c c c c c c c c c c i c c i i c\n",
      "Pred labels:  c c c c c c c c i c c c c c c c i i c\n",
      "Gold:         It was a big one that I never thougth and I could n't have imagined how amazing it was it was .\n",
      "Correction 1: It was a big one that I never thought and I couldn't imagine how amazing it was.\n",
      "Correction 2: It was a big one that I never thought it would be and I could n't imagine how amazing it was.\n",
      "Correction 3: It was a big one that I never thought and I could n't imagine how amazing was it.\n",
      "Correction 4: It was a big one that I never thought and I could n't imagine how amazing it was.\n",
      "Correction 5: It was a big one that I never thought and I couldn't imagine how amazing it was.\n",
      "Error types:  ['TV', 'W']\n",
      "\n"
     ]
    },
    {
     "name": "stderr",
     "output_type": "stream",
     "text": [
      " 26%|███████████▋                                | 9/34 [03:46<09:13, 22.15s/it]"
     ]
    },
    {
     "name": "stdout",
     "output_type": "stream",
     "text": [
      "\n",
      "Original:     So I had n't such perfect evening , as was promised in your advertisment .\n",
      "Gold labels:  c c i i c i c c c c c c c i c\n",
      "Pred labels:  c c i c i c c c c c c c c i c\n",
      "Gold:         So I didn't have didn't have such evening , as was promised in your advertisement .\n",
      "Correction 1: So I hadn't such a perfect evening, as was promised in your advertisement.\n",
      "Correction 2: So I didn't have such a perfect evening, as was promised in your advertisement.\n",
      "Correction 3: I hadn't such a perfect evening, as was promised in your advertisement.\n",
      "Correction 4: I didn't have such a perfect evening, as was promised in your advertisement.\n",
      "Correction 5: So I had n't such a perfect evening, as was promised in your advertisement.\n",
      "Error types:  ['NO_LABEL', 'S', 'TV']\n",
      "\n"
     ]
    },
    {
     "name": "stderr",
     "output_type": "stream",
     "text": [
      " 29%|████████████▋                              | 10/34 [04:25<10:57, 27.40s/it]"
     ]
    },
    {
     "name": "stdout",
     "output_type": "stream",
     "text": [
      "\n",
      "Original:     The most appreciated was they \\'ve given me their latate CD with signature . Marvellous thing ! and of couse as you have seen it I \\'ve given one to you .\n",
      "Gold labels:  i c c c i i i c c i c c i c c c c i c i c c c c c c c c c c c c\n",
      "Pred labels:  c c i i c c c c c i c c i c i c c c i i c c c c c c c c c c c c\n",
      "Gold:         What I most appreciated was they gave they gave they gave me their latest CD with signatures . Marvellous thing ! And of course as you have seen it I \\'ve given one to you .\n",
      "Correction 1: The most appreciated was that they've given me their latest CD with a signature. Marvellous thing! And of course, as you have seen, I've given one to you.\n",
      "Correction 2: The most appreciated was that they've given me their latest CD with their signature. Marvellous thing! And of course as you have seen I've given one to you.\n",
      "Correction 3: The most appreciated was that they've given me their latate CD with a signature. Marvellous thing! And of course, as you have seen it, I've given one to you.\n",
      "Correction 4: The most appreciated was that they've given me their latest CD with a signature. Marvellous thing! And of course as you have seen it I've given one to you.\n",
      "Correction 5: The most appreciated was that they've given me their latate CD with their signature. Marvellous thing! And of course, as you have seen I've given one to you.\n",
      "Correction 6: Note: The fifth line is an exact copy of the second due to limited unique corrections possible in this case.\n",
      "Error types:  ['RP', 'TV', 'AGN', 'S', 'R']\n",
      "\n"
     ]
    },
    {
     "name": "stderr",
     "output_type": "stream",
     "text": [
      " 32%|█████████████▉                             | 11/34 [04:46<09:45, 25.46s/it]"
     ]
    },
    {
     "name": "stdout",
     "output_type": "stream",
     "text": [
      "\n",
      "Original:     Choosing gave me such big pleasure because I never have to worry from vere do I take money for my wishes .\n",
      "Gold labels:  c i c c i c c c c c c c i i c c i c c c c c\n",
      "Pred labels:  c c c c i c c c c c c c i i i i c i c c c c\n",
      "Gold:         Choosing gives me such great pleasure because I never have to worry about where do I get money for my wishes .\n",
      "Correction 1: Choosing gave me such big pleasure because I never have to worry about where I take money for my wishes.\n",
      "Correction 2: Choosing gave me such great pleasure because I never have to worry from where I take money for my wishes.\n",
      "Correction 3: Choosing gave me such big pleasure because I never had to worry from where I take money for my wishes.\n",
      "Correction 4: Choosing gave me such big pleasure because I never have to worry from ver where I take money for my wishes.\n",
      "Correction 5: Choosing gave me such big pleasure because I never have to worry from where do I take money for my wishes.\n",
      "Error types:  ['RV', 'RT', 'TV', 'RJ', 'S']\n",
      "\n"
     ]
    },
    {
     "name": "stderr",
     "output_type": "stream",
     "text": [
      " 35%|███████████████▏                           | 12/34 [05:28<11:06, 30.29s/it]"
     ]
    },
    {
     "name": "stdout",
     "output_type": "stream",
     "text": [
      "\n",
      "Original:     For the men and women is important the appearance and they spent a lot of money in buy clothes , cosmetic , accesories , jewels etc .\n",
      "Gold labels:  c c c c c i i i i c c i c c c c c i c c i c i c i c c\n",
      "Pred labels:  c c c c c i c i c c c c c c c c i i c c i c i c c c c\n",
      "Gold:         For the men and women appearance is important appearance is important and they spend a lot of money in buying clothes , cosmetics , accessories , jewellery etc .\n",
      "Correction 1: For the men and women it is important the appearance and they spent a lot of money buying clothes cosmetic accessories jewels etc\n",
      "Correction 2: For the men and women it is important their appearance and they spent a lot of money in buy clothes cosmetic accessories jewels etc\n",
      "Correction 3: For the men and women it is important their appearance and they spent a lot of money buying clothes cosmetics accessories jewels etc\n",
      "Correction 4: For the men and women it is important the appearance and they spend a lot of money in buying clothes cosmetic accessories jewels etc\n",
      "Correction 5: For the men and women it is important the appearance and they spend a lot of money buying clothes cosmetics accessories jewels etc\n",
      "Correction 6: For\n",
      "Correction 7: For the men and women their appearance is important and they spent a lot of money in buy clothes cosmetic accessories jewels etc\n",
      "Correction 8: For the men and women their appearance is important and they spent a lot of money buying clothes cosmetic accessories jewels etc\n",
      "Correction 9: For the men and women their appearance is important and they spend a lot of money in buying clothes cosmetic accessories jewels etc\n",
      "Correction 10: For the men and women their appearance is important and they spend a lot of money buying clothes cosmetics accessories jewels etc\n",
      "Correction 11: For\n",
      "Error types:  ['FV', 'UD', 'TV', 'NO_LABEL', 'FN', 'S', 'W', 'RN']\n",
      "\n"
     ]
    },
    {
     "name": "stderr",
     "output_type": "stream",
     "text": [
      " 38%|████████████████▍                          | 13/34 [06:15<12:25, 35.48s/it]"
     ]
    },
    {
     "name": "stdout",
     "output_type": "stream",
     "text": [
      "\n",
      "Original:     A very good point of this change is that women have more freedom to have a job because before reaching the technology they have to stay at home doing housework but now we have laundries and a lot of machines like microwave oven .\n",
      "Gold labels:  c c c i c c c c c c c c c c i i i c c i c c c i c c c c c c c c c c c c c c c c c c i c\n",
      "Pred labels:  c c c c c c c c c c c c c c c c c c c c c c c c c c c c c c c c c c i c c c c c c i i c\n",
      "Gold:         A very good aspect of this change is that women have more freedom to work work work because before reached the technology they had to stay at home doing housework but now we have laundries and a lot of machines like microwave ovens .\n",
      "Correction 1: A very good point of this change is that women have more freedom to have a job because before they reached the technology, they had to stay at home doing housework, but now we have laundries and a lot of machines, like microwave ovens.\n",
      "Correction 2: A very good point of this change is that women have more freedom to have a job because before reaching the technology, they had to stay at home doing housework, but now we have laundries and a lot of machines.\n",
      "Correction 3: A very good point of this change is that women have more freedom to have a job because before reaching the technology, they have to stay at home doing housework, but now we have laundries and many machines like microwave ovens.\n",
      "Correction 4: A very good point of this change is that women have more freedom to have a job because before reaching the technology, they had to stay at home doing housework, but now we have laundries and lots of machines including microwave ovens.\n",
      "Correction 5: A very good point of this change is that women have more freedom to have a job because before they reached the technology, they had to stay at home doing housework, but now we have many laundries and machines like microwave ovens.\n",
      "Error types:  ['RN', 'RV', 'TV', 'FN']\n",
      "\n"
     ]
    },
    {
     "name": "stderr",
     "output_type": "stream",
     "text": [
      " 41%|█████████████████▋                         | 14/34 [06:47<11:25, 34.28s/it]"
     ]
    },
    {
     "name": "stdout",
     "output_type": "stream",
     "text": [
      "\n",
      "Original:     But , I 've got though it . I have to taken care of them during a break , served a drink , clothes , even brought them some cigaratte and anything they wants .\n",
      "Gold labels:  c c c c c i c c c i c i c c c c i c c i c i c c c i c c c i c c c i c\n",
      "Pred labels:  c c c c c i c c c c c i c c c c c c c i c c c c c c i c c i c c c i c\n",
      "Gold:         But , I 've got through it . I had to take care of them during the break , serving a drinks , clothes , brought them some cigarette and anything they wanted .\n",
      "Correction 1: But I've got through it. I have to take care of them during a break, served drinks, clothes, even brought them some cigarettes and anything they want.\n",
      "Correction 2: But I've got through it. I have to take care of them during a break, served drinks, food, even brought them some cigarettes and anything they want.\n",
      "Correction 3: But I've got through it. I have to take care of them during a break, served drinks, food, even brought them some cigars and anything they want.\n",
      "Correction 4: But I've got through it. I have to take care of them during breaks, served drinks, food, even brought them some cigarettes and whatever they want.\n",
      "Correction 5: But I've got through it. I have to take care of them during a break, serve drinks, food, even bring them some cigarettes and anything they want.\n",
      "Error types:  ['FV', 'TV', 'NO_LABEL', 'FN', 'RD', 'SX', 'S']\n",
      "\n"
     ]
    },
    {
     "name": "stderr",
     "output_type": "stream",
     "text": [
      " 44%|██████████████████▉                        | 15/34 [07:14<10:09, 32.10s/it]"
     ]
    },
    {
     "name": "stdout",
     "output_type": "stream",
     "text": [
      "\n",
      "Original:     I told her everything abat my boyfreind and when we were met each other and evertauly we were falling in love .\n",
      "Gold labels:  c c c c i c i c c c c c c c c i c i i c c c\n",
      "Pred labels:  c c c c i c i c c c i i c c c i c c c c c c\n",
      "Gold:         I told her everything about my boyfriend and when we were met each other and eventually we fell fell in love .\n",
      "Correction 1: I told her everything about my boyfriend and when we met each other, eventually we fell in love.\n",
      "Correction 2: I told her everything about my boyfreind and when we were met each other, eventually we fell in love.\n",
      "Correction 3: I told her everything about my boyfreind and when we were met each other and eventually we fell in love.\n",
      "Correction 4: I told her everything about my boyfriend and when we were met each other and eventually we were falling in love.\n",
      "Correction 5: I told her everything about my boyfriend and when we met each other and eventually we were falling in love.\n",
      "Correction 6: I told her everything about my boyfriend and when we met each other and evertauly we fell in love.\n",
      "Error types:  ['S', 'TV']\n",
      "\n"
     ]
    },
    {
     "name": "stderr",
     "output_type": "stream",
     "text": [
      " 47%|████████████████████▏                      | 16/34 [08:09<11:44, 39.14s/it]"
     ]
    },
    {
     "name": "stdout",
     "output_type": "stream",
     "text": [
      "\n",
      "Original:     In addition , I would like to inform you that I prefer to do Surfing and Sailing while I will be at the Camp , as I am an active member of Sailing and Surfing Club of Manchester and it will be a great chance for me to practise my techniques and skills .\n",
      "Gold labels:  c c c c c c c c c c c i c c c c c c c i i c c i c c c c c c c c i c c c c c c c c c c c c c c c c c c c c c\n",
      "Pred labels:  c c c c c c c c c c c c c c c c c c c c c c c c c c c c c c c c i c c c c c c c c c c c c c c c i c c c c c\n",
      "Gold:         In addition , I would like to inform you that I to do Surfing and Sailing while I am am at the camp , as I am an active member of and Surfing Club of Manchester and it will be a great chance for me to practise my techniques and skills .\n",
      "Correction 1: In addition, I would like to inform you that I prefer to do surfing and sailing while I will be at the camp, as I am an active member of the Sailing and Surfing Club of Manchester and it will be a great chance for me to practice my techniques and skills.\n",
      "Correction 2: In addition, I would like to inform you that I prefer to do surfing and sailing while I will be at the camp, as I am an active member of the Sailing and Surfing Club of Manchester and it will be a great chance for me to improve my techniques and skills.\n",
      "Correction 3: In addition, I would like to inform you that I prefer to do surfing and sailing while I will be at the camp, as I am an active member of the Sailing and Surfing Club of Manchester and it will be a great opportunity for me to practice my techniques and skills.\n",
      "Correction 4: In addition, I would like to inform you that I prefer to do surfing and sailing while I will be at the camp, as I am an active member of the Sailing and Surfing Club of Manchester and it will be a great chance for me to hone my techniques and skills.\n",
      "Correction 5: In addition, I would like to inform you that I prefer to do surfing and sailing while I will be at the camp, as I am an active member of the Sailing and Surfing Club of Manchester and it will be a good opportunity for me to practice my techniques and skills.\n",
      "Error types:  ['NO_LABEL', 'RP', 'TV']\n",
      "\n"
     ]
    },
    {
     "name": "stderr",
     "output_type": "stream",
     "text": [
      " 50%|█████████████████████▌                     | 17/34 [08:46<10:53, 38.45s/it]"
     ]
    },
    {
     "name": "stdout",
     "output_type": "stream",
     "text": [
      "\n",
      "Original:     On the other hand the main disadvantage is that using modern machines it can be very difficult for ederly people ; it would be very pratitable if the modern industries train people about using modern technologies .\n",
      "Gold labels:  c c c c c c c c c c c c c c c c c c i c c c c c c c c c c c i c c i c c c\n",
      "Pred labels:  c c c c c c c c c c c c c c c c c c i c c c c c c i c c c c c c c c c c c\n",
      "Gold:         On the other hand the main disadvantage is that using modern machines it can be very difficult for elderly people ; it would be very pratitable if the modern industries trained people about to use modern technologies .\n",
      "Correction 1: On the other hand, the main disadvantage is that using modern machines it can be very difficult for elderly people; it would be very practical if the modern industries trained people about using modern technologies.\n",
      "Correction 2: On the other hand, the main disadvantage is that using modern machines it can be very difficult for elderly people; it would be very practical if modern industries trained people about using modern technologies.\n",
      "Correction 3: On the other hand, the main disadvantage is that using modern machines it can be very difficult for elderly people; it would be very practical if the industries trained people about using modern technologies.\n",
      "Correction 4: On the other hand, the main disadvantage is that using modern machines it can be very difficult for elderly people; it would be very practical if the modern industries train people to use modern technologies.\n",
      "Correction 5: On the other hand, the main disadvantage is that using modern machines it can be very difficult for elderly people; it would be very practical if the modern industries trained people about using technology.\n",
      "Error types:  ['FV', 'S', 'TV']\n",
      "\n"
     ]
    },
    {
     "name": "stderr",
     "output_type": "stream",
     "text": [
      " 53%|██████████████████████▊                    | 18/34 [09:25<10:17, 38.62s/it]"
     ]
    },
    {
     "name": "stdout",
     "output_type": "stream",
     "text": [
      "\n",
      "Original:     The computer for example makes communication much easier and faster then in past time , when everything was send by common mail , and it took weeks till it got the right place .\n",
      "Gold labels:  c c c c c c c c c c i c i i c c c c i c i c c c c i c c c c i c c c\n",
      "Pred labels:  c c c c c c c c c c c c c c c c c c c c i c c c c c c c c i c c c c\n",
      "Gold:         The computer for example makes communication much easier and faster than in times past times past , when everything was sent by normal mail , and it was weeks till it got right place .\n",
      "Correction 1: The computer, for example, makes communication much easier and faster than in past times. When everything was sent by common mail, it took weeks to get to the right place.\n",
      "Correction 2: The computer, for example, makes communication much easier and faster than in the past. Everything was sent by common mail in the past, and it took weeks to reach its destination.\n",
      "Correction 3: The computer, for example, makes communication much easier and faster than in the past. When everything was send by common mail in the past, it took weeks to get there.\n",
      "Correction 4: The computer, for example, makes communication much easier and faster than in the past. When everything was sent by common mail, it took weeks to reach its destination.\n",
      "Correction 5: The computer, for example, makes communication much easier and faster than in the past time. Everything was send by common mail, and it took weeks to get there.\n",
      "Correction 6: Note: The fifth line is an exact duplicate of the third, so only four unique corrections are provided here.\n",
      "Error types:  ['RV', 'TV', 'NO_LABEL', 'RJ', 'SX', 'ID']\n",
      "\n"
     ]
    },
    {
     "name": "stderr",
     "output_type": "stream",
     "text": [
      " 56%|████████████████████████                   | 19/34 [09:54<08:54, 35.65s/it]"
     ]
    },
    {
     "name": "stdout",
     "output_type": "stream",
     "text": [
      "\n",
      "Original:     ALL THE TIME THEY ARE ASKING , WHAT ARE THEY LOOKING LIKE AND THEY WASTE A LOT OF MONEY IN CLOTHES .\n",
      "Gold labels:  c c c c c c c c c c i c c c c c c c c i c c\n",
      "Pred labels:  c c c c c c c c c c c c c c i c c c c c c c\n",
      "Gold:         ALL THE TIME THEY ARE ASKING , WHAT ARE THEY LOOK LIKE AND THEY WASTE A LOT OF MONEY ON CLOTHES .\n",
      "Correction 1: ALL THE TIME THEY ARE ASKING, WHAT ARE THEY LOOKING LIKE AND THEY WASTE A LOT OF MONEY ON CLOTHES .\n",
      "Correction 2: ALL THE TIME THEY ARE ASKING, WHAT DO THEY LOOK LIKE AND THEY WASTE A LOT OF MONEY IN CLOTHES .\n",
      "Correction 3: ALL THE TIME THEY ARE ASKING, WHAT ARE THEY LOOKING LIKE AND THEY WASTE A LOT OF MONEY ON CLOTHES .\n",
      "Correction 4: ALL THE TIME THEY ARE ASKING, WHAT ARE THEY LOOKING LIKE FOR CLOTHES AND THEY WASTE A LOT OF MONEY .\n",
      "Correction 5: ALL THE TIME THEY ARE ASKING WHAT ARE THEY LOOKING LIKE AND THEY WASTE A LOT OF MONEY IN CLOTHES .\n",
      "Error types:  ['RT', 'TV']\n",
      "\n"
     ]
    },
    {
     "name": "stderr",
     "output_type": "stream",
     "text": [
      " 59%|█████████████████████████▎                 | 20/34 [10:37<08:50, 37.90s/it]"
     ]
    },
    {
     "name": "stdout",
     "output_type": "stream",
     "text": [
      "\n",
      "Original:     Before the concert actually started I had to give out lots of leaflets , they are list of pop band and group which will appear in the concert in order , and some information about their performance and backgrounds .\n",
      "Gold labels:  c c c c c c c c c c c c c i i i i c c i c i c i c c c c c c c c c c c c c c c c\n",
      "Pred labels:  c c c c c c c c i c c c c c c c i c i c c c c c c c c c c c c c c c c c c c c c\n",
      "Gold:         Before the concert actually started I had to give out lots of leaflets . They . They were lists of pop bands and groups which would appear in the concert in order , and some information about their performance and backgrounds .\n",
      "Correction 1: Before the concert actually started, I had to give out lots of leaflets. They are lists of pop bands and groups which will appear at the concert in order, and some information about their performances and backgrounds.\n",
      "Correction 2: Before the concert actually started, I had to give out lots of leaflets. They are lists of pop bands and groups that will appear at the concert in order, and some information about their performances and backgrounds.\n",
      "Correction 3: Before the concert actually started, I had to give out lots of leaflets. They are lists of pop bands and groups which will appear in the concert in order and some information about their performance and backgrounds.\n",
      "Correction 4: Before the concert actually started, I had to give out lots of leaflets. They are lists of pop band and group which will appear at the concert in order and some information about their performances and background.\n",
      "Correction 5: Before the concert actually started, I had to give out lots of leaflets. They are lists of pop bands and groups that will perform at the concert in order, and some information about their performance and backgrounds.\n",
      "Error types:  ['AGN', 'RP', 'TV', 'FN']\n",
      "\n"
     ]
    },
    {
     "name": "stderr",
     "output_type": "stream",
     "text": [
      " 62%|█████████████████████████▉                | 21/34 [17:34<32:52, 151.72s/it]"
     ]
    },
    {
     "name": "stdout",
     "output_type": "stream",
     "text": [
      "\n",
      "Original:     Definetely , it was a very disappointing evening and I would appreciate your if it was possible to have my money back .\n",
      "Gold labels:  i c c c c c c c c c c c i c c i c c c c c c c\n",
      "Pred labels:  i c c c c c c c c c c c i i c c c c c c c c c\n",
      "Gold:         Definitely , it was a very disappointing evening and I would appreciate it if it is possible to have my money back .\n",
      "Correction 1: Definitely, it was a very disappointing evening and I would appreciate it if it was possible to have my money back.\n",
      "Correction 2: Definitely, it was a very disappointing evening and I would appreciate it if it was possible to get my money back.\n",
      "Correction 3: Definitely, it was a very disappointing evening and I would appreciate it if it were possible to have my money back.\n",
      "Correction 4: Definitely, it was a very disappointing evening and I would appreciate your help if it was possible to have my money back.\n",
      "Correction 5: Definitely, it was a very disappointing evening and I would appreciate it if it was possible to receive my money back.\n",
      "Error types:  ['RD', 'S', 'TV']\n",
      "\n"
     ]
    },
    {
     "name": "stderr",
     "output_type": "stream",
     "text": [
      " 65%|███████████████████████████▏              | 22/34 [17:47<22:00, 110.04s/it]"
     ]
    },
    {
     "name": "stdout",
     "output_type": "stream",
     "text": [
      "\n",
      "Original:     Bank robbers said him if Pat told the fact somebody they killed him .\n",
      "Gold labels:  i c i c c c c c c c c i c c\n",
      "Pred labels:  c c i i c c c i i i c c c c\n",
      "Gold:         The bank robbers told him if Pat told the fact somebody they would kill him .\n",
      "Correction 1: Bank robbers said if Pat told them the fact that somebody killed him.\n",
      "Correction 2: Bank robbers said if Pat told them the fact that they killed him.\n",
      "Correction 3: Bank robbers said if Pat told them that somebody killed him.\n",
      "Correction 4: Bank robbers said if Pat told them that they killed him.\n",
      "Correction 5: Bank robbers said to Pat if they told the fact that somebody killed him.\n",
      "Error types:  ['RV', 'TV', 'MD']\n",
      "\n"
     ]
    },
    {
     "name": "stderr",
     "output_type": "stream",
     "text": [
      " 68%|█████████████████████████████              | 23/34 [18:13<15:33, 84.83s/it]"
     ]
    },
    {
     "name": "stdout",
     "output_type": "stream",
     "text": [
      "\n",
      "Original:     Because sometimes the article for to buy is not really necessary . We must to accept that media have so important effect in our life in special the T.V.\n",
      "Gold labels:  c c c c i i i c c c c c c c c c c i c i c c i c i i i c c\n",
      "Pred labels:  c c c i c c c c c c c c c c c c c i i c c i i c c c i c c\n",
      "Gold:         Because sometimes the article being bought bought is not really necessary . We must to accept that have an important effect on our lives especially especially the T.V.\n",
      "Correction 1: Because sometimes the article for to buy is not really necessary. We must accept that media have such an important effect in our lives, especially the TV.\n",
      "Correction 2: Because sometimes the article for to buy is not really necessary. We must accept that media have so important an effect in our lives, especially the TV.\n",
      "Correction 3: Because sometimes the article for to buy is not really necessary. We must accept that media have so important an effect in our life, specially the TV.\n",
      "Correction 4: Because sometimes the article for to buy is not really necessary. We must accept that media have such an important effect in our life, especially the TV.\n",
      "Correction 5: Because sometimes the article for to buy is not really necessary. We must accept that media have so important an effect in our lives, specially the TV.\n",
      "Error types:  ['RT', 'TV', 'NO_LABEL', 'FN', 'R', 'DY']\n",
      "\n"
     ]
    },
    {
     "name": "stderr",
     "output_type": "stream",
     "text": [
      " 71%|██████████████████████████████▎            | 24/34 [18:20<10:15, 61.57s/it]"
     ]
    },
    {
     "name": "stdout",
     "output_type": "stream",
     "text": [
      "\n",
      "Original:     Finally , please could you give me an idea what sort of clothes to bring ? and how much would be spend there .\n",
      "Gold labels:  c c c c c c c c c c c c c c c c i c c i c i c c\n",
      "Pred labels:  c c c c c c c c c c c c c c c c i c c c i i c c\n",
      "Gold:         Finally , please could you give me an idea what sort of clothes to bring ? And how much will be there .\n",
      "Correction 1: Finally, please could you give me an idea what sort of clothes to bring? And how much would be spent there.\n",
      "Error types:  ['NO_LABEL', 'RP', 'TV']\n",
      "\n"
     ]
    },
    {
     "name": "stderr",
     "output_type": "stream",
     "text": [
      " 74%|███████████████████████████████▌           | 25/34 [18:49<07:45, 51.73s/it]"
     ]
    },
    {
     "name": "stdout",
     "output_type": "stream",
     "text": [
      "\n",
      "Original:     ONE THE ONE HAND , THERE WILL BE PEOPLE WHO WOULD WEAR FASHIONABLE CLOTHES .\n",
      "Gold labels:  i c c c c c c c c c i c c c c\n",
      "Pred labels:  c i c c c c c c c c c c c c c\n",
      "Gold:         ON THE ONE HAND THE ONE HAND , THERE WILL BE PEOPLE WHO WILL WEAR FASHIONABLE CLOTHES .\n",
      "Correction 1: ONE THE ONE HAND, THERE WILL BE PEOPLE WHO WOULD WEAR FASHIONABLE CLOTHES.\n",
      "Correction 2: ONE SIDE THE ONE HAND, THERE WILL BE PEOPLE WHO WOULD WEAR FASHIONABLE CLOTHES.\n",
      "Correction 3: ON THE ONE HAND, THERE WILL BE PEOPLE WHO WOULD WEAR FASHIONABLE CLOTHES.\n",
      "Correction 4: ON THE ONE HAND, THERE WILL BE PEOPLE WHO WILL WEAR FASHIONABLE CLOTHES.\n",
      "Correction 5: ON THE ONE HAND, THERE WILL BE PEOPLE THAT WOULD WEAR FASHIONABLE CLOTHES.\n",
      "Error types:  ['TV', 'ID']\n",
      "\n",
      "[Attempt 1/1] Error: Request timed out.. Retrying in 2 seconds...\n",
      "[SKIPPED] Model did not respond in time. Skipping this sentence.\n",
      "Attempt 1: Empty response, retrying...\n",
      "[Attempt 1/1] Error: Request timed out.. Retrying in 2 seconds...\n"
     ]
    },
    {
     "name": "stderr",
     "output_type": "stream",
     "text": [
      " 76%|████████████████████████████████          | 26/34 [26:59<24:25, 183.17s/it]"
     ]
    },
    {
     "name": "stdout",
     "output_type": "stream",
     "text": [
      "[SKIPPED] Model did not respond in time. Skipping this sentence.\n",
      "Attempt 2: Empty response, retrying...\n",
      "\n",
      "Original: Now I am going to give you some further informations I would like to travel only in July because I am a student in High school and this is most important year of my life I am studying to university entrance exams and I have to study until the end of June and then by the end of June I will be having university entrance exam after that in July I am going to be alright .\n",
      "No corrections found.\n",
      "\n",
      "[Attempt 1/1] Error: Request timed out.. Retrying in 2 seconds...\n",
      "[SKIPPED] Model did not respond in time. Skipping this sentence.\n",
      "Attempt 1: Empty response, retrying...\n",
      "[Attempt 1/1] Error: Request timed out.. Retrying in 2 seconds...\n"
     ]
    },
    {
     "name": "stderr",
     "output_type": "stream",
     "text": [
      " 79%|█████████████████████████████████▎        | 27/34 [35:08<32:05, 275.12s/it]"
     ]
    },
    {
     "name": "stdout",
     "output_type": "stream",
     "text": [
      "[SKIPPED] Model did not respond in time. Skipping this sentence.\n",
      "Attempt 2: Empty response, retrying...\n",
      "\n",
      "Original: To make the matter worse , I was travelling to London to see this famous starring but I did n't see any shows of them .\n",
      "No corrections found.\n",
      "\n"
     ]
    },
    {
     "name": "stderr",
     "output_type": "stream",
     "text": [
      " 82%|██████████████████████████████████▌       | 28/34 [37:11<22:56, 229.40s/it]"
     ]
    },
    {
     "name": "stdout",
     "output_type": "stream",
     "text": [
      "\n",
      "Original:     I hope you keep in great form , like you were the last time I saw you , how is your family , I hope everyone is ok .\n",
      "Gold labels:  c c c i c c i c c c c c c c c c c i i c c c c c c c c i c\n",
      "Pred labels:  c c c c c i c c c c c c c c c c c c i i c c c c c c c c c\n",
      "Gold:         I hope you are keeping in great shape , like you were the last time I saw you . How . How is your family , I hope everyone is OK .\n",
      "Correction 1: I hope you keep in great shape, like you were the last time I saw you. How is your family? I hope everyone is okay.\n",
      "Correction 2: I hope you stay in great form, like you were the last time I saw you. How is your family? I hope everyone is okay.\n",
      "Correction 3: I hope you keep in great form, like you were the last time I saw you. How are things with your family? I hope everyone is okay.\n",
      "Correction 4: I hope you keep in great form, like you did the last time I saw you. How is your family? I hope everything is okay.\n",
      "Correction 5: I hope you keep in great condition, like you were the last time I saw you. How is your family? I hope all is well.\n",
      "Error types:  ['RN', 'RP', 'TV']\n",
      "\n"
     ]
    },
    {
     "name": "stderr",
     "output_type": "stream",
     "text": [
      " 85%|███████████████████████████████████▊      | 29/34 [37:50<14:21, 172.32s/it]"
     ]
    },
    {
     "name": "stdout",
     "output_type": "stream",
     "text": [
      "\n",
      "Original:     I was writting as reply of your letter , I am glad to have won the first prize in your competition for two weeks at Camp California in the USA .\n",
      "Gold labels:  c i i i c i c c c c c c c c c c c c c c c c c c c c c c c c c\n",
      "Pred labels:  c c i c i i c c c c c c c c c c c c c c c c c c c c c c c c c\n",
      "Gold:         I am writing in reply to your letter , I am glad to have won the first prize in your competition for two weeks at Camp California in the USA .\n",
      "Correction 1: I was writing as a reply to your letter. I am glad to have won the first prize in your competition for two weeks at Camp California in the USA.\n",
      "Correction 2: I was writing as a reply to your letter. I am glad to have won the first prize in your competition last two weeks at Camp California in the USA.\n",
      "Correction 3: I was writing as a reply to your letter. I am glad to have won the first prize in your competition for two weeks at Camp California in USA.\n",
      "Correction 4: I was writing as a reply to your letter. I am glad to have won the first prize in your competition for two weeks at Camp California in the US.\n",
      "Correction 5: I was writing as a reply to your letter. I am glad to have won the first prize in your competition for two weeks at Camp California in the USA.\n",
      "Error types:  ['IV', 'RT', 'TV']\n",
      "\n"
     ]
    },
    {
     "name": "stderr",
     "output_type": "stream",
     "text": [
      " 88%|█████████████████████████████████████     | 30/34 [38:10<08:25, 126.44s/it]"
     ]
    },
    {
     "name": "stdout",
     "output_type": "stream",
     "text": [
      "\n",
      "Original:     We all prefer the show , free time is not so important for us .\n",
      "Gold labels:  c i c i c c c c c c c c c c c\n",
      "Pred labels:  c c c c c i i c c c c c c c c\n",
      "Gold:         We would all prefer prefer show , free time is not so important for us .\n",
      "Correction 1: We all prefer the show. Free time is not so important for us.\n",
      "Correction 2: We all prefer the show, free time is not very important for us.\n",
      "Correction 3: We all prefer the show; free time is not so important for us.\n",
      "Correction 4: We all prefer the show, free time is not so important for us.\n",
      "Correction 5: We prefer the show, free time is not so important for us.\n",
      "Error types:  ['NO_LABEL', 'TV']\n",
      "\n"
     ]
    },
    {
     "name": "stderr",
     "output_type": "stream",
     "text": [
      " 91%|██████████████████████████████████████▎   | 31/34 [39:15<05:24, 108.02s/it]"
     ]
    },
    {
     "name": "stdout",
     "output_type": "stream",
     "text": [
      "\n",
      "Original:     I 've been recently seeing in your theatre during my week 's holiday in London I must say I had a very disappointing evening ! I was sure this was the London 's newest and best musical show I had ever seen because of the good publicity you made in your advertisement , but I thought completely wrong !\n",
      "Gold labels:  c i i i i i c c c c c c c c c i c c c c c c c c c c c c c c c c c c c c c c i i i i c c c c c c i i c c c c c c c c c\n",
      "Pred labels:  c i i i i i c c c c c c c c c c c c c c c c c c c c c c c c c c c c c c c c c c c c c c c c c c c c c c c c c c i c c\n",
      "Gold:         I I recently saw I recently saw I recently saw I recently saw your theatre during my week 's holiday in London must say I had a very disappointing evening ! I was sure this was the London 's newest and best musical show ever see ever see ever see because of the good publicity you gave your advertisement , but I thought completely wrong !\n",
      "Correction 1: I've been recently seeing in your theatre during my week's holiday in London. I must say, I had a very disappointing evening! I was sure this was the London newest and best musical show I had ever seen because of the good publicity you made in your advertisement, but I thought completely wrong!\n",
      "Correction 2: I've been recently seeing in your theatre during my week's holiday in London. I must say I had a very disappointing evening! I was sure this was London's newest and best musical show I had ever seen because of the good publicity you made in your advertisement, but I thought completely wrong!\n",
      "Correction 3: I've been recently seeing in your theatre during my week's holiday in London. I must say I had a very disappointing evening! I was sure this was the London's newest and best musical show I had ever seen because of the good publicity you made in your advertisements, but I thought completely wrong!\n",
      "Correction 4: I've been recently seeing in your theatre during my week's holiday in London. I must say I had a very disappointing evening! I was sure this was the London's newest and best musical show I had ever seen because of the good publicity you made in your advertisement, but I was thought wrong!\n",
      "Correction 5: I've been recently seeing in your theatre during my week's holiday in London. I must say I had a very disappointing evening! I was sure this was the London's newest and best musical show I had ever seen because of the good publicity you made in your advertisement, but I completely thought wrong!\n",
      "Error types:  ['NO_LABEL', 'RV', 'TV']\n",
      "\n"
     ]
    },
    {
     "name": "stderr",
     "output_type": "stream",
     "text": [
      " 94%|████████████████████████████████████████▍  | 32/34 [39:35<02:43, 81.83s/it]"
     ]
    },
    {
     "name": "stdout",
     "output_type": "stream",
     "text": [
      "\n",
      "Original:     First of all I would like to thank you for the good programme you organised for our trip to London .\n",
      "Gold labels:  c c c c c c c c c c c c c c i c c c c c c\n",
      "Pred labels:  c c c c c c c c c c c i c c c c c c c c c\n",
      "Gold:         First of all I would like to thank you for the good programme you have organised for our trip to London .\n",
      "Correction 1: First of all, I would like to thank you for the good program you organized for our trip to London.\n",
      "Correction 2: I would like to thank you for the good programme you organized for our trip to London.\n",
      "Correction 3: First of all, I would like to thank you for the programme you organised for our trip to London.\n",
      "Correction 4: First of all, I would like to thank you for the good programme you organized for our trip to London.\n",
      "Correction 5: First of all, I would like to thank you for the good programme you organised for your trip to London.\n",
      "Error types:  ['TV']\n",
      "\n"
     ]
    },
    {
     "name": "stderr",
     "output_type": "stream",
     "text": [
      " 97%|████████████████████████████████████████▊ | 33/34 [43:36<02:09, 129.53s/it]"
     ]
    },
    {
     "name": "stdout",
     "output_type": "stream",
     "text": [
      "\n",
      "Original:     I would like to travel in July for two reason one 's is because I totaly will finish my exam in that date and the other in the first two week I will go to Farnborought is special 10 days the presentation the Air show and will be there the delegation from my country .\n",
      "Gold labels:  c c c c c c c c c i i c c c c c c i c i i c i c c c i c c c i i c c c c c c c c c c c c c c i i i i i i i i c\n",
      "Pred labels:  c c c c c c c c c c c c c c c i c c c c i c c c c c c c c c i c c c c i c c c c c c c c c c c c c i c c c c c\n",
      "Gold:         I would like to travel in July for two reasons . One's 's is because I totaly will have finished my exams by that time and the other the first two weeks will go to Farnborought is special 10 days the presentation the Air show and the delegation from my country will be there the delegation from my country will be there the delegation from my country will be there the delegation from my country will be there the delegation from my country will be there the delegation from my country will be there the delegation from my country will be there the delegation from my country will be there .\n",
      "Correction 1: I would like to travel in July for two reasons. One is because I will totally finish my exam on that date, and the other is that in the first two weeks I will go to Farnborough, which is special: 10 days of the air show, and there will be the delegation from my country.\n",
      "Correction 2: I would like to travel in July for two reasons. One is because I will totally finish my exam on that date, and the other is that in the first two weeks I will go to Farnborough, which is special: 10 days of the air show; and there will be the delegation from my country.\n",
      "Correction 3: I would like to travel in July for two reasons. One is because I will totally finish my exam on that date, and the other is that in the first two weeks I will go to Farnborough, which is special: 10 days of the air show; and there will be delegations from my country.\n",
      "Correction 4: I would like to travel in July for two reasons. One is because I will totally finish my exam on that date, and the other is that in the first two weeks I will go to Farnborough, which is special: 10 days of the air show; and there will be a delegation from my country.\n",
      "Correction 5: I would like to travel in July for two reasons. One is because I will totally finish my exam on that date, and the other is that in the first two weeks I will go to Farnborough, which is special: 10 days of the air show and will have the delegation from my country.\n",
      "Error types:  ['RT', 'TV', 'NO_LABEL', 'FN', 'AGN', 'MP', 'W', 'RN']\n",
      "\n"
     ]
    },
    {
     "name": "stderr",
     "output_type": "stream",
     "text": [
      "100%|███████████████████████████████████████████| 34/34 [43:53<00:00, 77.45s/it]"
     ]
    },
    {
     "name": "stdout",
     "output_type": "stream",
     "text": [
      "\n",
      "Original:     I am really appreciate if you can answer me these doubt and saying again .\n",
      "Gold labels:  c i c c i c i c c c i c c c c\n",
      "Pred labels:  c c c i i c c c c i i c i c c\n",
      "Gold:         I would really appreciate you could answer me these doubts and saying again .\n",
      "Correction 1: I am really appreciate it if you can answer my doubts and say again.\n",
      "Correction 2: I am really appreciative if you can answer my doubts and say again.\n",
      "Correction 3: I am really appreciate if you can answer my doubts and say again.\n",
      "Correction 4: I am really appreciate if you can answer these doubts and say again.\n",
      "Correction 5: I am really appreciate if you can answer my doubts and saying it again.\n",
      "Error types:  ['AGN', 'NO_LABEL', 'RV', 'TV']\n",
      "\n"
     ]
    },
    {
     "name": "stderr",
     "output_type": "stream",
     "text": [
      "\n"
     ]
    },
    {
     "name": "stderr",
     "output_type": "stream",
     "text": [
      "\r",
      "100%|██████████| 34/34 [03:45<00:00,  6.65s/it]"
     ]
    },
    {
     "name": "stderr",
     "output_type": "stream",
     "text": [
      "\r",
      "100%|██████████| 34/34 [03:45<00:00,  6.64s/it]"
     ]
    },
    {
     "name": "stdout",
     "output_type": "stream",
     "text": [
      "[SKIPPED] Model did not respond in time. Skipping this sentence.\n",
      "Attempt 2: Empty response, retrying...\n",
      "\n",
      "Original: But , I 've got though it . I have to taken care of them during a break , served a drink , clothes , even brought them some cigaratte and anything they wants .\n",
      "No corrections found.\n",
      "\n"
     ]
    },
    {
     "name": "stderr",
     "output_type": "stream",
     "text": [
      "\n"
     ]
    }
   ],
   "source": [
    "all_TV_roberta_corrections_FN_FP = []\n",
    "\n",
    "for sentence in tqdm(roberta_fce_fn_fp_error_type['TV']):\n",
    "    sentence_corrections = get_corrections_tokenized_with_labels_from_data_bert(sentence, client)\n",
    "    all_TV_roberta_corrections_FN_FP.append(sentence_corrections)"
   ]
  },
  {
   "cell_type": "markdown",
   "id": "b2eebe2b-8703-4750-9ef7-8f5a21f4dd3f",
   "metadata": {},
   "source": [
    "### ROBERTA --> RV"
   ]
  },
  {
   "cell_type": "code",
   "execution_count": 59,
   "id": "086c2dbf-ec4e-414a-94db-0b18700e9dc3",
   "metadata": {
    "scrolled": true
   },
   "outputs": [
    {
     "name": "stderr",
     "output_type": "stream",
     "text": [
      "  3%|█▎                                          | 1/35 [00:25<14:31, 25.62s/it]"
     ]
    },
    {
     "name": "stdout",
     "output_type": "stream",
     "text": [
      "\n",
      "Original:     That might be a secret for Francis - and they decided the program and the present , a new gold watch .\n",
      "Gold labels:  c i i c c c c c c c c i c c c c c c c c c c\n",
      "Pred labels:  c c c c c c c c c c c c c c c i c c c c c c\n",
      "Gold:         That should have been a secret for Francis - and they decided program and the present , a new gold watch .\n",
      "Correction 1: That might be a secret for Francis - and they decided on the program and the present, a new gold watch.\n",
      "Correction 2: That might be a secret for Francis - and they decided the program and the present, a new gold watch.\n",
      "Correction 3: That might be a secret for Francis - and they decided the program and the present: a new gold watch.\n",
      "Correction 4: That might be a secret for Francis - and they decided the program and the present, a gold watch.\n",
      "Correction 5: That might be a secret for Francis - and they decided the program and the present - a new gold watch.\n",
      "Error types:  ['NO_LABEL', 'RV', 'TV']\n",
      "\n",
      "[Attempt 1/1] Error: Request timed out.. Retrying in 2 seconds...\n",
      "[SKIPPED] Model did not respond in time. Skipping this sentence.\n",
      "Attempt 1: Empty response, retrying...\n",
      "[Attempt 1/1] Error: Request timed out.. Retrying in 2 seconds...\n"
     ]
    },
    {
     "name": "stderr",
     "output_type": "stream",
     "text": [
      "  6%|██▎                                      | 2/35 [08:35<2:44:16, 298.68s/it]"
     ]
    },
    {
     "name": "stdout",
     "output_type": "stream",
     "text": [
      "[SKIPPED] Model did not respond in time. Skipping this sentence.\n",
      "Attempt 2: Empty response, retrying...\n",
      "\n",
      "Original: In other hand you ask me I have the chance for to choose two activities while I am at the camp . but is no easy , because all is very interesting for me .\n",
      "No corrections found.\n",
      "\n",
      "[Attempt 1/1] Error: Request timed out.. Retrying in 2 seconds...\n",
      "[SKIPPED] Model did not respond in time. Skipping this sentence.\n",
      "Attempt 1: Empty response, retrying...\n",
      "[Attempt 1/1] Error: Request timed out.. Retrying in 2 seconds...\n"
     ]
    },
    {
     "name": "stderr",
     "output_type": "stream",
     "text": [
      "  9%|███▌                                     | 3/35 [16:45<3:25:49, 385.92s/it]"
     ]
    },
    {
     "name": "stdout",
     "output_type": "stream",
     "text": [
      "[SKIPPED] Model did not respond in time. Skipping this sentence.\n",
      "Attempt 2: Empty response, retrying...\n",
      "\n",
      "Original: And you could n't of course give it back because the price was lowered and your dress is not under guarantee .\n",
      "No corrections found.\n",
      "\n"
     ]
    },
    {
     "name": "stderr",
     "output_type": "stream",
     "text": [
      " 11%|████▋                                    | 4/35 [17:43<2:12:39, 256.75s/it]"
     ]
    },
    {
     "name": "stdout",
     "output_type": "stream",
     "text": [
      "\n",
      "Original:     If you have to run from one shop to another and always looking at the watch , doing shopping is a terrible activity .\n",
      "Gold labels:  c c c c c c c c c c c c c c i c c i c c c c c c\n",
      "Pred labels:  c c c c c c c c c c c c i c c c c c c c c c c c\n",
      "Gold:         If you have to run from one shop to another and always looking at your watch , going shopping is a terrible activity .\n",
      "Correction 1: If you have to run from one shop to another and always look at the watch, doing shopping is a terrible activity.\n",
      "Correction 2: If you have to run from one shop to another and are always looking at the watch, doing shopping is a terrible activity.\n",
      "Correction 3: If you have to run from one shop to another and always look at watches, doing shopping is a terrible activity.\n",
      "Correction 4: If you have to run from one shop to another and always look at the watch when shopping, it is a terrible activity.\n",
      "Correction 5: If you have to run from one shop to another and are always looking at the watch while doing shopping, it is a terrible activity.\n",
      "Error types:  ['RV', 'R']\n",
      "\n"
     ]
    },
    {
     "name": "stderr",
     "output_type": "stream",
     "text": [
      " 14%|█████▊                                   | 5/35 [18:10<1:26:54, 173.81s/it]"
     ]
    },
    {
     "name": "stdout",
     "output_type": "stream",
     "text": [
      "\n",
      "Original:     Pleas apologise me , but there were many mistakes and problems on the note you have made , which disappointed me very .\n",
      "Gold labels:  i i c c c c c c c c c c c c c c c c c c c c i\n",
      "Pred labels:  c c c c c c c c c c c c c c c i c c c c c c c\n",
      "Gold:         Please excuse me , but there were many mistakes and problems on the note you have made , which disappointed me very\n",
      "Correction 1: Please apologize me, but there were many mistakes and problems on the note you made, which disappointed me very much.\n",
      "Correction 2: Please apologise me, but there were many mistakes and problems with the note you have made, which disappointed me very.\n",
      "Correction 3: Please apologize me, but there were many mistakes and problems in the note you made, which disappointed me very.\n",
      "Correction 4: Please apologize me, but there were many mistakes and problems on the note you made, which disappointed me very much.\n",
      "Correction 5: Please apologize to me, but there were many mistakes and problems on the note you made, which disappointed me very much.\n",
      "Error types:  ['SX', 'NO_LABEL', 'RV']\n",
      "\n"
     ]
    },
    {
     "name": "stderr",
     "output_type": "stream",
     "text": [
      " 17%|███████                                  | 6/35 [19:03<1:04:03, 132.53s/it]"
     ]
    },
    {
     "name": "stdout",
     "output_type": "stream",
     "text": [
      "\n",
      "Original:     To spend the two weeks I would prefer to live in tents , that 's in my opinion a way to be nearer the enviroment and the animals , although I do n't mind living in log cabins .\n",
      "Gold labels:  i i i i i i i i c c c i c c c c c c c c c c c c i c c c c c c c c c i c c c c\n",
      "Pred labels:  c c c c c c c c c i c c i i c c c c c c c c c c i c c c c c c c c c c c c c c\n",
      "Gold:         I would prefer to spend the two weeks I would prefer to spend the two weeks I would prefer to spend the two weeks I would prefer to spend the two weeks I would prefer to spend the two weeks I would prefer to spend the two weeks I would prefer to spend the two weeks I would prefer to spend the two weeks to live in tent , that 's in my opinion a way to be nearer the environment and the animals , although I do n't mind staying in log cabins .\n",
      "Correction 1: To spend the two weeks, I would prefer to live in tents. That's in my opinion a way to be nearer to the environment and the animals. Although I don't mind living in log cabins.\n",
      "Correction 2: To spend the two weeks, I would prefer to live in tents. That's in my opinion a way to be nearer the environment and the animals. Although I do mind not living in log cabins.\n",
      "Correction 3: To spend the two weeks, I would prefer to live in tents. That's in my opinion a way to be nearer to the environment and the animals. Although I don't mind living in log cabins.\n",
      "Correction 4: To spend the two weeks I would prefer to live in tents. That's in my opinion a way to be nearer to the environment and the animals. Although I do n't mind living in log cabins.\n",
      "Correction 5: To spend the two weeks, I would prefer to live in tents that's in my opinion a way to be nearer to the environment and the animals although I do n't mind living in log cabins.\n",
      "Error types:  ['AGN', 'RV', 'S', 'W']\n",
      "\n"
     ]
    },
    {
     "name": "stderr",
     "output_type": "stream",
     "text": [
      " 20%|████████▏                                | 7/35 [21:25<1:03:25, 135.90s/it]"
     ]
    },
    {
     "name": "stdout",
     "output_type": "stream",
     "text": [
      "\n",
      "Original:     just imagine , it was moby , so I went to say hello to him , and he told me would you give me a hand with my decks , so I went , and when we finished he gave me a T - shirt and a gold pass to see the concert from the first row , oh my god Kim that the best thing that ever happened to me , well Kim I hope to recieve a letter from you soon , and please tell everybody about the moby concert and everything , thank you .\n",
      "Gold labels:  i i c c c i i i c c c c c c c c c c i c i i i i i i i i i i i c c c c c c c c c c c c c c c c c c c c c c c c c c i i c i c c i c c c c c c c i i c c c c i c c c c c c c c c c c c i c c c c c c c\n",
      "Pred labels:  i c c c c i c c c c c c c c c c c c c c i c c c c c i c c c c c c c c c c c c c c c c c c c c c c c c c c c c c c i i c c c i c c c c c c c c i i c c c c i c c c c c c c c c c c c i c c c c c c c\n",
      "Gold:         Can you believe it Can you believe it , it was Moby . So . So I went to say hello to him , and he asked me , 'Would you give me a hand with my decks?'  So , 'Would you give me a hand with my decks?'  So , 'Would you give me a hand with my decks?'  So , 'Would you give me a hand with my decks?'  So , 'Would you give me a hand with my decks?'  So , 'Would you give me a hand with my decks?'  So , 'Would you give me a hand with my decks?'  So , 'Would you give me a hand with my decks?'  So , 'Would you give me a hand with my decks?'  So , 'Would you give me a hand with my decks?'  So , 'Would you give me a hand with my decks?'  So I went , and when we finished he gave me a T - shirt and a gold pass to see the concert from the first row . Oh . Oh my God Kim that best thing that ever happened to me . Well . Well Kim I hope to receive a letter from you soon , and please tell everybody about the Moby concert and everything , thank you .\n",
      "Correction 1: just imagine, it was Moby, so I went to say hello to him, and he told me would you give me a hand with my decks, so I went, and when we finished, he gave me a T-shirt and a gold pass to see the concert from the first row, oh my god Kim that's the best thing that ever happened to me, well Kim I hope to receive a letter from you soon, and please tell everyone about the Moby concert and everything, thank you.\n",
      "Error types:  ['RV', 'RP', 'NO_LABEL', 'MP', 'S', 'ID']\n",
      "\n"
     ]
    },
    {
     "name": "stderr",
     "output_type": "stream",
     "text": [
      " 23%|█████████▊                                 | 8/35 [22:22<49:50, 110.75s/it]"
     ]
    },
    {
     "name": "stdout",
     "output_type": "stream",
     "text": [
      "\n",
      "Original:     In the afternoon she had phoned at a Francis 's mother and she explained her the secret , then she phoned at her best friend and she speak about that too ; she phoned at many people all the day .\n",
      "Gold labels:  c c c c c c c c c c c c c i c c c c c c c c c c c c c i c c i c c c c c c c c c c\n",
      "Pred labels:  c c c c c c i i c c c c c c i c c i c c c c c c c c c i c c c c c c c c c c c c c\n",
      "Gold:         In the afternoon she had phoned at a Francis 's mother and she told her the secret , then she phoned at her best friend and she spoke about that again ; she phoned at many people all the day .\n",
      "Correction 1: In the afternoon, she had phoned Francis's mother and she explained her the secret; then she phoned her best friend and spoke about that too; she phoned many people all day.\n",
      "Correction 2: In the afternoon she had phoned at Francis's mother and she explained her the secret then she phoned at her best friend and she speak about that too she phoned at many people all the day\n",
      "Correction 3: In the afternoon she had phoned at a Francis's mother and she explained her the secret then she phoned at her best friend and she speak about that too; she phoned at many people all the day.\n",
      "Correction 4: In the afternoon she had phoned at a Francis's mother and she explained to her the secret then she phoned at her best friend and spoke about that too; she phoned at many people all the day.\n",
      "Correction 5: In the afternoon she had phoned at a Francis's mother and she explained the secret to her then she phoned at her best friend and spoke about that too; she phoned at many people all the day.\n",
      "Error types:  ['RV', 'TV', 'RY']\n",
      "\n",
      "[Attempt 1/1] Error: Request timed out.. Retrying in 2 seconds...\n",
      "[SKIPPED] Model did not respond in time. Skipping this sentence.\n",
      "Attempt 1: Empty response, retrying...\n",
      "[Attempt 1/1] Error: Request timed out.. Retrying in 2 seconds...\n"
     ]
    },
    {
     "name": "stderr",
     "output_type": "stream",
     "text": [
      " 26%|██████████▌                              | 9/35 [30:32<1:39:20, 229.26s/it]"
     ]
    },
    {
     "name": "stdout",
     "output_type": "stream",
     "text": [
      "[SKIPPED] Model did not respond in time. Skipping this sentence.\n",
      "Attempt 2: Empty response, retrying...\n",
      "\n",
      "Original: He become lazy because they know that they can seat on the sofa and turn the chances on the TV by pressing a boton .\n",
      "No corrections found.\n",
      "\n",
      "[Attempt 1/1] Error: Request timed out.. Retrying in 2 seconds...\n",
      "[SKIPPED] Model did not respond in time. Skipping this sentence.\n",
      "Attempt 1: Empty response, retrying...\n",
      "[Attempt 1/1] Error: Request timed out.. Retrying in 2 seconds...\n"
     ]
    },
    {
     "name": "stderr",
     "output_type": "stream",
     "text": [
      " 29%|███████████▍                            | 10/35 [38:42<2:09:03, 309.72s/it]"
     ]
    },
    {
     "name": "stdout",
     "output_type": "stream",
     "text": [
      "[SKIPPED] Model did not respond in time. Skipping this sentence.\n",
      "Attempt 2: Empty response, retrying...\n",
      "\n",
      "Original: Moreover , in your advert you spoke about discounts available but it was not the case .\n",
      "No corrections found.\n",
      "\n"
     ]
    },
    {
     "name": "stderr",
     "output_type": "stream",
     "text": [
      " 31%|████████████▌                           | 11/35 [39:27<1:31:31, 228.80s/it]"
     ]
    },
    {
     "name": "stdout",
     "output_type": "stream",
     "text": [
      "\n",
      "Original:     Then , in the program I could read a discount available for the tickets , for the groups , but I could n't have that . I could n't have all the things I expected .\n",
      "Gold labels:  c c c c i c c c i c c i c c c c c c c c c c c i c c c c c c c c c c c c\n",
      "Pred labels:  c c c c c c c i c c c c c c c c c c c c c c c c c c c c c c c c c c c c\n",
      "Gold:         Then , in the programme I could read discount available on the tickets , for the groups , but I could n't get that . I could n't have all the things I expected .\n",
      "Correction 1: Then, in the program, I could read a discount available for the tickets for the groups but I couldn't have that. I couldn't have all the things I expected.\n",
      "Correction 2: Then, in the program, I could read a discount available for the tickets for the groups but I couldn't get those. I couldn't get all the things I expected.\n",
      "Correction 3: Then, in the program, I could read a discount available for the tickets for the groups but I couldn't receive them. I couldn't receive all the things I expected.\n",
      "Correction 4: Then, in the program, I could read a discount available for the tickets for the groups but I didn't have those. I didn't have all the things I expected.\n",
      "Correction 5: Then, in the program, I could read a discount available for the tickets for the groups but I wasn't able to get them. I wasn't able to get all the things I expected.\n",
      "Error types:  ['SA', 'RV', 'RT', 'NO_LABEL']\n",
      "\n"
     ]
    },
    {
     "name": "stderr",
     "output_type": "stream",
     "text": [
      " 34%|█████████████▋                          | 12/35 [39:46<1:03:14, 164.99s/it]"
     ]
    },
    {
     "name": "stdout",
     "output_type": "stream",
     "text": [
      "\n",
      "Original:     I 'm not sure if I must say technology has changed our life in positive or not .\n",
      "Gold labels:  c c c c c c i c i c c c c c i i c c\n",
      "Pred labels:  c c c c c c c c c c c c c i i c c c\n",
      "Gold:         I 'm not sure if I can say has changed our life in not .\n",
      "Correction 1: I'm not sure if I must say that technology has changed our lives in a positive way or not.\n",
      "Correction 2: I'm not sure if I must say technology has changed our lives positively or not.\n",
      "Correction 3: I'm not sure if I must say that technology has changed our lives positively or not.\n",
      "Correction 4: I'm not sure if I need to say that technology has changed our lives in a positive way or not.\n",
      "Correction 5: I'm not sure if I need to say that technology has changed our lives positively or not.\n",
      "Error types:  ['NO_LABEL', 'RV']\n",
      "\n"
     ]
    },
    {
     "name": "stderr",
     "output_type": "stream",
     "text": [
      " 37%|███████████████▌                          | 13/35 [40:06<44:20, 120.92s/it]"
     ]
    },
    {
     "name": "stdout",
     "output_type": "stream",
     "text": [
      "\n",
      "Original:     Choosing gave me such big pleasure because I never have to worry from vere do I take money for my wishes .\n",
      "Gold labels:  c i c c i c c c c c c c i i c c i c c c c c\n",
      "Pred labels:  c c c c i c c c c c c c i i i i c i c c c c\n",
      "Gold:         Choosing gives me such great pleasure because I never have to worry about where do I get money for my wishes .\n",
      "Correction 1: Choosing gave me such big pleasure because I never have to worry about where I take money for my wishes.\n",
      "Correction 2: Choosing gave me such big pleasure because I never have to worry from where I get money for my wishes.\n",
      "Correction 3: Choosing gave me such great pleasure because I never have to worry from where I take money for my wishes.\n",
      "Correction 4: Choosing gave me such big pleasure because I never had to worry from where I take money for my wishes.\n",
      "Correction 5: Choosing gave me such big pleasure because I never have to worry about where I get money for my wishes.\n",
      "Error types:  ['RV', 'RT', 'TV', 'RJ', 'S']\n",
      "\n"
     ]
    },
    {
     "name": "stderr",
     "output_type": "stream",
     "text": [
      " 40%|█████████████████▏                         | 14/35 [40:50<34:11, 97.68s/it]"
     ]
    },
    {
     "name": "stdout",
     "output_type": "stream",
     "text": [
      "\n",
      "Original:     A very good point of this change is that women have more freedom to have a job because before reaching the technology they have to stay at home doing housework but now we have laundries and a lot of machines like microwave oven .\n",
      "Gold labels:  c c c i c c c c c c c c c c i i i c c i c c c i c c c c c c c c c c c c c c c c c c i c\n",
      "Pred labels:  c c c c c c c c c c c c c c c c c c c c c c c c c c c c c c c c c c i c c c c c c i i c\n",
      "Gold:         A very good aspect of this change is that women have more freedom to work work work because before reached the technology they had to stay at home doing housework but now we have laundries and a lot of machines like microwave ovens .\n",
      "Correction 1: A very good point of this change is that women have more freedom to have a job because before reaching the technology they had to stay at home doing housework but now we have laundries and a lot of machines like microwave ovens.\n",
      "Correction 2: A very good point of this change is that women have more freedom to have a job because before they reached the technology they had to stay at home doing housework but now we have laundries and a lot of machines like microwave ovens.\n",
      "Correction 3: A very good point of this change is that women have more freedom to have a job because before reaching the technology women had to stay at home doing housework but now we have laundries and a lot of machines like microwave ovens.\n",
      "Correction 4: A very good point of this change is that women have more freedom to have a job because before they reached the technology women had to stay at home doing housework but now we have laundries and a lot of machines like microwave ovens.\n",
      "Correction 5: A very good point of this change is that women have more freedom to have a job because before reaching the technology they had to stay at home doing housework but now we have laundries and many machines like microwave ovens.\n",
      "Error types:  ['RN', 'RV', 'TV', 'FN']\n",
      "\n"
     ]
    },
    {
     "name": "stderr",
     "output_type": "stream",
     "text": [
      " 43%|██████████████████▍                        | 15/35 [41:13<25:03, 75.19s/it]"
     ]
    },
    {
     "name": "stdout",
     "output_type": "stream",
     "text": [
      "\n",
      "Original:     I would like you to back my money because that was not same as your advertisement .\n",
      "Gold labels:  c c c c c i c c c c c c c c c c c\n",
      "Pred labels:  c c c c c c c c c c c c i c c c c\n",
      "Gold:         I would like you to return my money because that was not same as your advertisement .\n",
      "Correction 1: I would like you to back my money because that was not the same as your advertisement.\n",
      "Correction 2: I would like you to return my money because that was not the same as your advertisement.\n",
      "Correction 3: I would like you to back my money because what I received was not the same as your advertisement.\n",
      "Correction 4: I would like you to refund my money because that was not the same as your advertisement.\n",
      "Correction 5: I would like you to reimburse me for my money because that was not the same as your advertisement.\n",
      "Correction 6: Note: The fifth line is left empty since only four unique corrections were made based on the given instruction to minimize changes and focus on grammar and lexical errors.\n",
      "Error types:  ['RV']\n",
      "\n"
     ]
    },
    {
     "name": "stderr",
     "output_type": "stream",
     "text": [
      " 46%|███████████████████▋                       | 16/35 [41:36<18:48, 59.38s/it]"
     ]
    },
    {
     "name": "stdout",
     "output_type": "stream",
     "text": [
      "\n",
      "Original:     I wish that you can provide a better service next time , and this time you need give back the money we paid .\n",
      "Gold labels:  c i c c c c c c c c c c c c c c c i c c c c c c\n",
      "Pred labels:  c c c c i c c c c c c c c c c c c i c c c c c c\n",
      "Gold:         I hope that you can provide a better service next time , and this time you need to give back the money we paid .\n",
      "Correction 1: I wish that you can provide a better service next time, and this time you need to give back the money we paid.\n",
      "Correction 2: I wish that you could provide a better service next time, and this time you need to give back the money we paid.\n",
      "Correction 3: I wish that you can provide a better service next time, and this time you need give the money back we paid.\n",
      "Correction 4: I wish that you could provide a better service next time, and this time you need give the money back we paid.\n",
      "Correction 5: I wish that you could provide a better service next time, and this time you need to give back the money we paid.\n",
      "Error types:  ['FV', 'RV']\n",
      "\n"
     ]
    },
    {
     "name": "stderr",
     "output_type": "stream",
     "text": [
      " 49%|████████████████████▉                      | 17/35 [41:57<14:24, 48.04s/it]"
     ]
    },
    {
     "name": "stdout",
     "output_type": "stream",
     "text": [
      "\n",
      "Original:     I AM WRITING YOU WITH REFERENCE IN THE LONDON TRIP WE ARE HAVING PRERY SOON .\n",
      "Gold labels:  c c c c c c i c c c c c i i c c\n",
      "Pred labels:  c c c i c c i c c c c c c i c c\n",
      "Gold:         I AM WRITING YOU WITH REFERENCE TO THE LONDON TRIP WE ARE MAKING VERY SOON .\n",
      "Correction 1: I AM WRITING YOU WITH REFERENCE TO THE LONDON TRIP WE ARE HAVING PRETTY SOON .\n",
      "Correction 2: I AM WRITING YOU WITH REFERENCE TO THE LONDON TRIP WE ARE HAVING PREVIOUSLY SOON .\n",
      "Correction 3: I AM WRITING YOU WITH REFERENCE TO THE LONDON TRIP WE ARE HAVING PRETTY SOON .\n",
      "Correction 4: I AM WRITING YOU WITH REFERENCE TO THE LONDON TRIP WE ARE HAVING PRIOR SOON .\n",
      "Correction 5: I AM WRITING YOU WITH REFERENCE TO THE LONDON TRIP WE ARE HAVING BEFORE SOON .\n",
      "Error types:  ['RV', 'S', 'RT']\n",
      "\n"
     ]
    },
    {
     "name": "stderr",
     "output_type": "stream",
     "text": [
      " 51%|██████████████████████                     | 18/35 [42:32<12:27, 43.94s/it]"
     ]
    },
    {
     "name": "stdout",
     "output_type": "stream",
     "text": [
      "\n",
      "Original:     IN MY OPINION , PEOPLE WILL GIVE IMPORTANCE TO HOW THEIR PERSONALITY DEVELOP AND THEY WILL GIVE UP WORRYING ABOUT WHAT THEY WEAR .\n",
      "Gold labels:  c c c c c c i c c c c i c c c c c c c c c c c c\n",
      "Pred labels:  c c c c c c c c c c c c i c c c c c c c c c c c\n",
      "Gold:         IN MY OPINION , PEOPLE WILL ATTACH IMPORTANCE TO HOW THEIR PERSONALITIES DEVELOP AND THEY WILL GIVE UP WORRYING ABOUT WHAT THEY WEAR .\n",
      "Correction 1: IN MY OPINION, PEOPLE WILL GIVE IMPORTANCE TO HOW THEIR PERSONALITY DEVELOPS AND THEY WILL GIVE UP WORRYING ABOUT WHAT THEY WEAR.\n",
      "Correction 2: IN MY OPINION, PEOPLE WILL GIVE IMPORTANCE TO HOW THEIR PERSONALITY DEVELOPS AND THEY WILL GIVE UP WORRYING ABOUT THE CLOTHES THEY WEAR.\n",
      "Correction 3: IN MY OPINION, PEOPLE WILL GIVE IMPORTANCE TO HOW THEIR PERSONALITY DEVELOPS AND THEY WILL GIVE UP WORRIED ABOUT WHAT THEY WEAR.\n",
      "Correction 4: IN MY OPINION, PEOPLE WILL GIVE IMPORTANCE TO HOW THEIR PERSONALITY DEVELOPS AND THEY WILL Worry ABOUT WHAT THEY WEAR.\n",
      "Correction 5: IN MY OPINION, PEOPLE WILL GIVE IMPORTANCE TO HOW THEIR PERSONALITY DEVELOPS AND THEY WILL GIVE UP WORRYING ABOUT WHETHER OR NOT THEY WEAR SOMETHING.\n",
      "Error types:  ['AGN', 'RV']\n",
      "\n"
     ]
    },
    {
     "name": "stderr",
     "output_type": "stream",
     "text": [
      " 54%|███████████████████████▎                   | 19/35 [42:49<09:34, 35.92s/it]"
     ]
    },
    {
     "name": "stdout",
     "output_type": "stream",
     "text": [
      "\n",
      "Original:     I would like to explain you my experience because I want you to give my money back .\n",
      "Gold labels:  c c c c i i c c c c c c c c i c c c\n",
      "Pred labels:  c c c c c i i c c c c c c c i c c c\n",
      "Gold:         I would like to describe my experience because I want you to give money back .\n",
      "Correction 1: I would like to explain my experience because I want you to give me my money back.\n",
      "Correction 2: I would like to tell you about my experience because I want you to give me my money back.\n",
      "Correction 3: I would like to share my experience with you because I want you to return my money.\n",
      "Correction 4: I would like to talk to you about my experience because I want you to refund my money.\n",
      "Correction 5: I want you to listen to my experience because I want you to reimburse me.\n",
      "Error types:  ['NO_LABEL', 'RV']\n",
      "\n"
     ]
    },
    {
     "name": "stderr",
     "output_type": "stream",
     "text": [
      " 57%|████████████████████████▌                  | 20/35 [43:14<08:10, 32.72s/it]"
     ]
    },
    {
     "name": "stdout",
     "output_type": "stream",
     "text": [
      "\n",
      "Original:     Additionally , you could n't believe , but the vocalist said \"\"\"\" All the chairs you are sitting down were set from him , \"\"\"\" pointing at me ! !\n",
      "Gold labels:  c c c i c c i c c c c c c c c c c c c i c i c c c c c c c c\n",
      "Pred labels:  c c c c c c i c c c c c c c c c c c c c i i c c c c c c c c\n",
      "Gold:         Additionally , you won't n't believe but the vocalist said \"\"\"\" All the chairs you are sitting down set by him , \"\"\"\" pointing at me ! !\n",
      "Correction 1: Additionally, you couldn't believe, but the vocalist said \"All the chairs you are sitting down were set by him,\" pointing at me!\n",
      "Correction 2: Additionally, you couldn't believe, but the vocalist said \"All the chairs that you are sitting down were set from him,\" pointing at me!\n",
      "Correction 3: Additionally, you couldn't believe, but the vocalist said \"All the chairs you are sitting down were set by him,\" pointing at me!\n",
      "Correction 4: Additionally, you couldn't believe, but the vocalist said \"All the chairs you are sitting down were set from him,\" pointing at me!\n",
      "Correction 5: Note: The fifth line is left empty as only four unique corrections are possible given the constraints.\n",
      "Error types:  ['NO_LABEL', 'RV', 'RT']\n",
      "\n"
     ]
    },
    {
     "name": "stderr",
     "output_type": "stream",
     "text": [
      " 60%|█████████████████████████▊                 | 21/35 [43:47<07:39, 32.86s/it]"
     ]
    },
    {
     "name": "stdout",
     "output_type": "stream",
     "text": [
      "\n",
      "Original:     The computer for example makes communication much easier and faster then in past time , when everything was send by common mail , and it took weeks till it got the right place .\n",
      "Gold labels:  c c c c c c c c c c i c i i c c c c i c i c c c c i c c c c i c c c\n",
      "Pred labels:  c c c c c c c c c c c c c c c c c c c c i c c c c c c c c i c c c c\n",
      "Gold:         The computer for example makes communication much easier and faster than in times past times past , when everything was sent by normal mail , and it was weeks till it got right place .\n",
      "Correction 1: The computer, for example, makes communication much easier and faster than in past times. When everything was sent by common mail, it took weeks to get the right place.\n",
      "Correction 2: The computer, for example, makes communication much easier and faster than in the past. Everything was sent by common mail in the past, and it took weeks to reach its destination.\n",
      "Correction 3: The computer, for example, makes communication much easier and faster than in the past. When everything was send by common mail in the past, it took weeks to get there.\n",
      "Correction 4: The computer, for example, makes communication much easier and faster than in the past. In the past, when everything was sent by common mail, it took weeks to reach its destination.\n",
      "Correction 5: The computer, for example, makes communication much easier and faster than before. When everything was send by common mail, it took weeks to get there.\n",
      "Error types:  ['RV', 'TV', 'NO_LABEL', 'RJ', 'SX', 'ID']\n",
      "\n"
     ]
    },
    {
     "name": "stderr",
     "output_type": "stream",
     "text": [
      " 63%|███████████████████████████                | 22/35 [44:16<06:49, 31.53s/it]"
     ]
    },
    {
     "name": "stdout",
     "output_type": "stream",
     "text": [
      "\n",
      "Original:     I always watch the NBA matches on T.V. It will be great for me to train basketball in USA .\n",
      "Gold labels:  c c c c c c c c c c c c c c c i c c i c\n",
      "Pred labels:  c c c c c c c c c c c c c c c c i c i c\n",
      "Gold:         I always watch the NBA matches on T.V. It will be great for me to do basketball in .\n",
      "Correction 1: I always watch NBA matches on TV. It will be great for me to train basketball in the USA.\n",
      "Correction 2: I always watch NBA games on TV. It will be great for me to play basketball in the USA.\n",
      "Correction 3: I always watch NBA games on T.V. It will be great for me to play basketball in USA.\n",
      "Correction 4: I always watch NBA games on T.V. It will be great for me to train basketball in the USA.\n",
      "Correction 5: I always watch NBA matches on TV. It will be great for me to play basketball in the USA.\n",
      "Error types:  ['NO_LABEL', 'RV']\n",
      "\n"
     ]
    },
    {
     "name": "stderr",
     "output_type": "stream",
     "text": [
      " 66%|████████████████████████████▎              | 23/35 [44:41<05:55, 29.59s/it]"
     ]
    },
    {
     "name": "stdout",
     "output_type": "stream",
     "text": [
      "\n",
      "Original:     After your show I wanted to visit my friends , and because of it , I did n't do it .\n",
      "Gold labels:  c c c c c c c c c c c c c c c c i c c i c\n",
      "Pred labels:  c c c c c c c c c c c c c i c c c c c c c\n",
      "Gold:         After your show I wanted to visit my friends , and because of it , I couldn't n't do that .\n",
      "Correction 1: After your show, I wanted to visit my friends, and because of that, I didn't do it.\n",
      "Correction 2: After your show, I wanted to visit my friends but didn't do it.\n",
      "Correction 3: After your show, I wanted to visit my friends, and I didn't do it because of it.\n",
      "Correction 4: After your show, I wanted to visit my friends, and due to it, I didn't do it.\n",
      "Correction 5: After your show, I wanted to visit my friends, and for that reason, I didn't do it.\n",
      "Error types:  ['RV', 'RA']\n",
      "\n"
     ]
    },
    {
     "name": "stderr",
     "output_type": "stream",
     "text": [
      " 69%|█████████████████████████████▍             | 24/35 [45:20<05:56, 32.39s/it]"
     ]
    },
    {
     "name": "stdout",
     "output_type": "stream",
     "text": [
      "\n",
      "Original:     But , I was wondering , like a student of this college , if we would change part of this programme ... we 'd like to go to the London Fashion and Leisure Show .\n",
      "Gold labels:  c c c c c c i c c c c c c c c i c c c c c c c c c c c c c c c c c c c\n",
      "Pred labels:  c c c c c c c c c i c c c c c c c c c c c c c c c c c c c c c c c c c\n",
      "Gold:         But , I was wondering , as a student of this college , if we could change part of this programme ... we 'd like to go to the London Fashion and Leisure Show .\n",
      "Correction 1: But I was wondering like a student of this college if we would change part of this program ... we'd like to go to the London Fashion and Leisure Show.\n",
      "Correction 2: But, I was wondering as a student of this college if we would change part of this programme ... we'd like to go to the London Fashion and Leisure Show.\n",
      "Correction 3: But, I was wondering if we students of this college would change part of this programme ... we'd like to go to the London Fashion and Leisure Show.\n",
      "Correction 4: But I was wondering if we would change part of this program ... we'd like to go to the London Fashion and Leisure Show.\n",
      "Correction 5: But I was wondering as a student of this college if we could change part of this programme ... we'd like to go to the London Fashion and Leisure Show.\n",
      "Error types:  ['RV', 'RT']\n",
      "\n"
     ]
    },
    {
     "name": "stderr",
     "output_type": "stream",
     "text": [
      " 71%|██████████████████████████████▋            | 25/35 [45:47<05:06, 30.70s/it]"
     ]
    },
    {
     "name": "stdout",
     "output_type": "stream",
     "text": [
      "\n",
      "Original:     Now you 've probably asking yourself what does it mean , well , now I 'm going to explain it to you .\n",
      "Gold labels:  c c i c c c c c i c c c c c c c c c c c c c c\n",
      "Pred labels:  c c c c c c c c c c i i c c c c c c c c c c c\n",
      "Gold:         Now you you're probably asking yourself what does that mean , well , now I 'm going to explain it to you .\n",
      "Correction 1: Now you've probably asked yourself what it means, well, now I'm going to explain it to you.\n",
      "Correction 2: Now you've probably are asking yourself what does it mean, well, now I'm going to explain it to you.\n",
      "Correction 3: Now you've probably are asking yourself what it means, well, now I'm going to explain it to you.\n",
      "Correction 4: Now you've probably are asking yourself what does it mean, well, now I am going to explain it to you.\n",
      "Correction 5: Now you've probably asking yourself what does it mean, well, now I am going to explain it to you.\n",
      "Error types:  ['RV', 'RA']\n",
      "\n"
     ]
    },
    {
     "name": "stderr",
     "output_type": "stream",
     "text": [
      " 74%|███████████████████████████████▉           | 26/35 [46:05<04:03, 27.05s/it]"
     ]
    },
    {
     "name": "stdout",
     "output_type": "stream",
     "text": [
      "\n",
      "Original:     I would like to know only in July because I have set my holidays this month since last January .\n",
      "Gold labels:  c c c c i c c c c c c i c c i c c c c c\n",
      "Pred labels:  c c c c c c c c c c c i c c c c i c c c\n",
      "Gold:         I would like to go only in July because I have had my holidays that month since last January .\n",
      "Correction 1: I would like to know only in July because I have set my holidays this month since January .\n",
      "Correction 2: I would like to know only in July because I have set my holidays for this month since last January .\n",
      "Correction 3: I would like to know only in July because I have set my holidays this month since January .\n",
      "Correction 4: I would like to know only in July because I have already set my holidays this month since January .\n",
      "Correction 5: I would like to know only in July because I have set my holidays this month since January .\n",
      "Error types:  ['RD', 'RV']\n",
      "\n"
     ]
    },
    {
     "name": "stderr",
     "output_type": "stream",
     "text": [
      " 77%|█████████████████████████████████▏         | 27/35 [46:09<02:40, 20.02s/it]"
     ]
    },
    {
     "name": "stdout",
     "output_type": "stream",
     "text": [
      "\n",
      "Original:     She just thought it would be a secret , she came really embarassed .\n",
      "Gold labels:  c c i c i i c c c i i c i c\n",
      "Pred labels:  c c c c c c c c i i c c i c\n",
      "Gold:         She just remembered it ought to be a secret , became really embarrassed .\n",
      "Correction 1: She just thought it would be a secret. She came really embarrassed.\n",
      "Error types:  ['FV', 'NO_LABEL', 'RV', 'S']\n",
      "\n"
     ]
    },
    {
     "name": "stderr",
     "output_type": "stream",
     "text": [
      " 80%|██████████████████████████████████▍        | 28/35 [47:06<03:39, 31.36s/it]"
     ]
    },
    {
     "name": "stdout",
     "output_type": "stream",
     "text": [
      "\n",
      "Original:     Maria was nervous , but for the first time , she could talk to him as she never did before , and at the end of the day , she was the happiest person of the world , she gave her first kiss and she had Pat 's friendship back , after all , everything happened because of her .\n",
      "Gold labels:  c c c c c c c c c c c c c c c c c c i c c c c c c c c c c c c c c c i c c i i i c c c c c c c c c c c c c c c c c c c c\n",
      "Pred labels:  c c c c c c c c c c c c c c c c c c c c c c c c c c c c c c c c c c i c c c c c c c c c c c c c c c i i c c c c c c c c\n",
      "Gold:         Maria was nervous , but for the first time , she could talk to him as she never had before , and at the end of the day , she was the happiest person in the world . She . She had her first kiss and she had Pat 's friendship back , after all , everything happened because of her .\n",
      "Correction 1: Maria was nervous, but for the first time, she could talk to him as she never had before, and at the end of the day, she was the happiest person in the world. She gave her first kiss and got back Pat's friendship, after all; everything happened because of her.\n",
      "Correction 2: Maria was nervous, but for the first time, she could talk to him as she never did before, and at the end of the day, she was the happiest person in the world. She gave her first kiss and got back Pat's friendship, after all; everything happened because of her.\n",
      "Correction 3: Maria was nervous, but for the first time, she could talk to him as she never had before, and at the end of the day, she was the happiest person in the world. She gave her first kiss and had Pat's friendship back, after all; everything happened because of her.\n",
      "Correction 4: Maria was nervous, but for the first time, she could talk to him as she never did before, and at the end of the day, she was the happiest person in the world. She gave her first kiss and got back Pat's friendship, after all. Everything happened because of her.\n",
      "Correction 5: Maria was nervous, but for the first time, she could talk to him as she never had before, and at the end of the day, she was the happiest person in the world. She gave her first kiss and got back Pat's friendship, after all; everything happened due to her.\n",
      "Error types:  ['RV', 'RT', 'RP']\n",
      "\n"
     ]
    },
    {
     "name": "stderr",
     "output_type": "stream",
     "text": [
      " 83%|███████████████████████████████████▋       | 29/35 [47:19<02:33, 25.61s/it]"
     ]
    },
    {
     "name": "stdout",
     "output_type": "stream",
     "text": [
      "\n",
      "Original:     In fact , to do shopping can be some disavantages for different reasons :\n",
      "Gold labels:  c c c c c c c i c i c c c c\n",
      "Pred labels:  c c c i i c c c c i c c c c\n",
      "Gold:         In fact , to do shopping can have some disadvantages for different reasons :\n",
      "Correction 1: In fact, to do shopping can be some disadvantages for different reasons:\n",
      "Correction 2: In fact, shopping can be some disadvantages for different reasons:\n",
      "Correction 3: In fact, doing shopping can be some disadvantages for different reasons:\n",
      "Correction 4: In fact, to go shopping can be some disadvantages for different reasons:\n",
      "Correction 5: In fact, shopping can have some disadvantages for different reasons:\n",
      "Error types:  ['RV', 'S']\n",
      "\n"
     ]
    },
    {
     "name": "stderr",
     "output_type": "stream",
     "text": [
      " 86%|████████████████████████████████████▊      | 30/35 [47:37<01:56, 23.30s/it]"
     ]
    },
    {
     "name": "stdout",
     "output_type": "stream",
     "text": [
      "\n",
      "Original:     Thanks to his habit , he is still alive and all money were backed to the bank .\n",
      "Gold labels:  c c c c c c c c c c c i i i c c c c\n",
      "Pred labels:  c c c i c c c c c c c i i c c c c c\n",
      "Gold:         Thanks to his habit , he is still alive and all was returned to the bank .\n",
      "Correction 1: Thanks to his habit, he is still alive and all the money were backed to the bank.\n",
      "Correction 2: Thanks to his habit, he is still alive and all the money have been backed to the bank.\n",
      "Correction 3: Thanks to his habit, he is still alive and all money was backed to the bank.\n",
      "Correction 4: Thanks to his habit, he is still alive and all money has been backed to the bank.\n",
      "Correction 5: Thanks to his habit, he is still alive and all money were back to the bank.\n",
      "Error types:  ['RV', 'NO_LABEL', 'AGV']\n",
      "\n"
     ]
    },
    {
     "name": "stderr",
     "output_type": "stream",
     "text": [
      " 89%|██████████████████████████████████████     | 31/35 [47:56<01:27, 22.00s/it]"
     ]
    },
    {
     "name": "stdout",
     "output_type": "stream",
     "text": [
      "\n",
      "Original:     Finally , could you tell me what I need to dress and also how much money I will spend on .\n",
      "Gold labels:  c c c c c c c c c c i c c c c c c c c c c\n",
      "Pred labels:  c c c c c c c c c c c c c c c c c c c c i\n",
      "Gold:         Finally , could you tell me what I need to wear and also how much money I will spend on .\n",
      "Correction 1: Finally, could you tell me what I need to dress and also how much money I will spend?\n",
      "Correction 2: Finally, could you tell me what to dress and also how much money I will spend on it.\n",
      "Correction 3: Finally, could you tell me what to dress and also how much money I will spend.\n",
      "Correction 4: Finally, could you tell me what I need to dress for and also how much money I will spend.\n",
      "Correction 5: Finally, could you tell me what I need to dress and how much money I will spend.\n",
      "Error types:  ['RV']\n",
      "\n"
     ]
    },
    {
     "name": "stderr",
     "output_type": "stream",
     "text": [
      " 91%|███████████████████████████████████████▎   | 32/35 [48:11<01:00, 20.14s/it]"
     ]
    },
    {
     "name": "stdout",
     "output_type": "stream",
     "text": [
      "\n",
      "Original:     The real show on it owns is really very different to what are mentioned in the advertisement .\n",
      "Gold labels:  c c c c c c c c c c c c i i c c c c\n",
      "Pred labels:  c c c i i i c c c c c c i c c c c c\n",
      "Gold:         The real show on it owns is really very different to what is described in the advertisement .\n",
      "Correction 1: The real show on it owns is really very different from what is mentioned in the advertisement.\n",
      "Correction 2: The real show that owns is really very different to what is mentioned in the advertisement.\n",
      "Correction 3: The real show that owns is really very different from what are mentioned in the advertisement.\n",
      "Correction 4: The real show on it is really very different to what are mentioned in the advertisement.\n",
      "Correction 5: The real show on it is really very different from what is mentioned in the advertisement.\n",
      "Error types:  ['RV', 'AGV']\n",
      "\n"
     ]
    },
    {
     "name": "stderr",
     "output_type": "stream",
     "text": [
      " 94%|████████████████████████████████████████▌  | 33/35 [49:10<01:03, 31.63s/it]"
     ]
    },
    {
     "name": "stdout",
     "output_type": "stream",
     "text": [
      "\n",
      "Original:     I 've been recently seeing in your theatre during my week 's holiday in London I must say I had a very disappointing evening ! I was sure this was the London 's newest and best musical show I had ever seen because of the good publicity you made in your advertisement , but I thought completely wrong !\n",
      "Gold labels:  c i i i i i c c c c c c c c c i c c c c c c c c c c c c c c c c c c c c c c i i i i c c c c c c i i c c c c c c c c c\n",
      "Pred labels:  c i i i i i c c c c c c c c c c c c c c c c c c c c c c c c c c c c c c c c c c c c c c c c c c c c c c c c c c i c c\n",
      "Gold:         I I recently saw I recently saw I recently saw I recently saw your theatre during my week 's holiday in London must say I had a very disappointing evening ! I was sure this was the London 's newest and best musical show ever see ever see ever see because of the good publicity you gave your advertisement , but I thought completely wrong !\n",
      "Correction 1: I've been recently seeing in your theatre during my week's holiday in London. I must say, I had a very disappointing evening! I was sure this was the London newest and best musical show I had ever seen because of the good publicity you made in your advertisement, but I thought completely wrong!\n",
      "Correction 2: I've been recently seeing in your theatre during my week's holiday in London. I must say, I had a very disappointing evening! I was sure this was London's newest and best musical show I had ever seen because of the good publicity you made in your advertisement, but I thought completely wrong!\n",
      "Correction 3: I've been recently seeing in your theatre during my week's holiday in London. I must say, I had a very disappointing evening! I was sure this was London's newest and best musical show that I had ever seen because of the good publicity you made in your advertisement, but I thought completely wrong!\n",
      "Correction 4: I've been recently seeing in your theatre during my week's holiday in London. I must say, I had a very disappointing evening! I was sure this was the London's newest and best musical show I had ever seen because of the good publicity you made in your ad, but I thought completely wrong!\n",
      "Correction 5: I've been recently seeing in your theatre during my week's holiday in London. I must say, I had a very disappointing evening! I was sure this was the London's newest and best musical show I had ever seen because of the good publicity you made in your advertisement, but I was completely wrong!\n",
      "Error types:  ['NO_LABEL', 'RV', 'TV']\n",
      "\n"
     ]
    },
    {
     "name": "stderr",
     "output_type": "stream",
     "text": [
      " 97%|█████████████████████████████████████████▊ | 34/35 [49:32<00:28, 28.68s/it]"
     ]
    },
    {
     "name": "stdout",
     "output_type": "stream",
     "text": [
      "\n",
      "Original:     We thought , as usual we do in London theatre , we could have discounts as it 's written on your advertisement .\n",
      "Gold labels:  c c c c i c c c c i c c c i c i c c c c c c c\n",
      "Pred labels:  c c c c c c c c i i c c c c c c c c c i c c c\n",
      "Gold:         We thought , as usually we do in London theatres , we could get discounts and it 's written on your advertisement .\n",
      "Correction 1: We thought, as usual we do in London theatre, we could have discounts as it's written on your advertisement.\n",
      "Correction 2: We thought, as usual we do at London theatre, we could have discounts as it's written on your advertisement.\n",
      "Correction 3: We thought as usual we do in London theatre we could have discounts as it's written on your advertisement.\n",
      "Correction 4: We thought as usual we do in London theatre that we could have discounts as it's written on your advertisement.\n",
      "Correction 5: We thought as usual we do at London theatre that we could have discounts as it's written on your advertisement.\n",
      "Error types:  ['AGN', 'RV', 'DY', 'RC']\n",
      "\n"
     ]
    },
    {
     "name": "stderr",
     "output_type": "stream",
     "text": [
      "100%|███████████████████████████████████████████| 35/35 [49:50<00:00, 85.44s/it]"
     ]
    },
    {
     "name": "stdout",
     "output_type": "stream",
     "text": [
      "\n",
      "Original:     I am really appreciate if you can answer me these doubt and saying again .\n",
      "Gold labels:  c i c c i c i c c c i c c c c\n",
      "Pred labels:  c c c i i c c c c i i c i c c\n",
      "Gold:         I would really appreciate you could answer me these doubts and saying again .\n",
      "Correction 1: I am really appreciate it if you can answer my doubts and say again.\n",
      "Correction 2: I really appreciate if you can answer me these doubts and saying again.\n",
      "Correction 3: I really appreciate it if you can answer my doubts and say again.\n",
      "Correction 4: I am really appreciate it if you can answer my doubt and say again.\n",
      "Correction 5: I am really appreciate if you can answer my doubt and say again.\n",
      "Correction 6: (I am really appreciate it if you can answer my doubts and say again.)\n",
      "Error types:  ['AGN', 'NO_LABEL', 'RV', 'TV']\n",
      "\n"
     ]
    },
    {
     "name": "stderr",
     "output_type": "stream",
     "text": [
      "\n"
     ]
    }
   ],
   "source": [
    "all_RV_roberta_corrections_FN_FP = []\n",
    "\n",
    "for sentence in tqdm(roberta_fce_fn_fp_error_type['RV']):\n",
    "    sentence_corrections = get_corrections_tokenized_with_labels_from_data_bert(sentence, client)\n",
    "    all_RV_roberta_corrections_FN_FP.append(sentence_corrections)"
   ]
  },
  {
   "cell_type": "markdown",
   "id": "0946ed58-796f-493f-ad29-26b9660a30e1",
   "metadata": {},
   "source": [
    "### ROBERTA --> SX"
   ]
  },
  {
   "cell_type": "code",
   "execution_count": 61,
   "id": "05a928a3-ddad-4a79-a0f1-f9c18a64bc3b",
   "metadata": {
    "scrolled": true
   },
   "outputs": [
    {
     "name": "stderr",
     "output_type": "stream",
     "text": [
      " 12%|█████▋                                       | 1/8 [00:25<02:57, 25.42s/it]"
     ]
    },
    {
     "name": "stdout",
     "output_type": "stream",
     "text": [
      "\n",
      "Original:     First of all I want to congratulate your cousin with fifteenth birthday and with all the best .\n",
      "Gold labels:  c c c c c c i i i i c c c i i c c c\n",
      "Pred labels:  c c c c c c c c c i i c c c c c c c\n",
      "Gold:         First of all I want to wish your cousin a happy fifteenth birthday wish your cousin a happy fifteenth birthday wish your cousin a happy fifteenth birthday on fifteenth birthday and wish the best .\n",
      "Correction 1: First of all I want to congratulate your cousin on his fifteenth birthday and wish him all the best.\n",
      "Correction 2: First of all I want to congratulate your cousin on her fifteenth birthday and wish her all the best.\n",
      "Correction 3: First of all I want to congratulate your cousin on his or her fifteenth birthday and wish him or her all the best.\n",
      "Correction 4: First of all I want to congratulate your cousin on his or her fifteenth birthday and with all the best.\n",
      "Correction 5: First of all I want to congratulate your cousin on his or her fifteenth birthday.\n",
      "Error types:  ['SX', 'NO_LABEL', 'RT', 'ID']\n",
      "\n"
     ]
    },
    {
     "name": "stderr",
     "output_type": "stream",
     "text": [
      " 25%|███████████▎                                 | 2/8 [00:52<02:40, 26.67s/it]"
     ]
    },
    {
     "name": "stdout",
     "output_type": "stream",
     "text": [
      "\n",
      "Original:     Pleas apologise me , but there were many mistakes and problems on the note you have made , which disappointed me very .\n",
      "Gold labels:  i i c c c c c c c c c c c c c c c c c c c c i\n",
      "Pred labels:  c c c c c c c c c c c c c c c i c c c c c c c\n",
      "Gold:         Please excuse me , but there were many mistakes and problems on the note you have made , which disappointed me very\n",
      "Correction 1: Please apologize me, but there were many mistakes and problems on the note you made, which disappointed me very much.\n",
      "Correction 2: Please apologise me, but there were many mistakes and problems on the note you have made, which disappointed me very much.\n",
      "Correction 3: Please apologise me, but there were many mistakes and problems in the note you made, which disappointed me very much.\n",
      "Correction 4: Please apologize me, but there were many mistakes and problems in the note you have made, which disappointed me very much.\n",
      "Correction 5: Please apologize me, but there were many mistakes and problems on the note you made, which disappointed me greatly.\n",
      "Error types:  ['SX', 'NO_LABEL', 'RV']\n",
      "\n"
     ]
    },
    {
     "name": "stderr",
     "output_type": "stream",
     "text": [
      " 38%|████████████████▉                            | 3/8 [01:15<02:03, 24.74s/it]"
     ]
    },
    {
     "name": "stdout",
     "output_type": "stream",
     "text": [
      "\n",
      "Original:     It was not good to me , cause I had only one week holiday in London .\n",
      "Gold labels:  c c c c i c c i c c c c i c c c c\n",
      "Pred labels:  c c c c c c c c c c c c c i c c c\n",
      "Gold:         It was not good for me , because I had only one weeks holiday in London .\n",
      "Correction 1: It was not good for me, because I had only one week's holiday in London.\n",
      "Correction 2: It was not good to me, as I had only one week holiday in London.\n",
      "Correction 3: It was not good to me, because I had only one week's holiday in London.\n",
      "Correction 4: It was not good for me, cause I had only one week holiday in London.\n",
      "Correction 5: It was not good for me, because I had only one week holiday in London.\n",
      "Error types:  ['SX', 'MP', 'RT']\n",
      "\n"
     ]
    },
    {
     "name": "stderr",
     "output_type": "stream",
     "text": [
      " 50%|██████████████████████▌                      | 4/8 [01:43<01:44, 26.04s/it]"
     ]
    },
    {
     "name": "stdout",
     "output_type": "stream",
     "text": [
      "\n",
      "Original:     Furthermore is that some concert halls were definitely to small or in other words to many people attended those concerts .\n",
      "Gold labels:  c c c c c c c c i c c c c c i c c c c c c\n",
      "Pred labels:  c i c c c c c c c c c c c c i c c i c c c\n",
      "Gold:         Furthermore is that some concert halls were definitely too small or in other words too many people attended those concerts .\n",
      "Correction 1: Furthermore, that some concert halls were definitely too small, or in other words, too many people attended those concerts.\n",
      "Correction 2: Furthermore is that some concert halls were definitely small or in other words many people attended those concerts.\n",
      "Correction 3: Furthermore, is that some concert halls were definitely to small or in other words to many people attended those concerts.\n",
      "Correction 4: Furthermore, that some concert halls were definitely to small and in other words too many people attended those concerts.\n",
      "Correction 5: Furthermore, that some concert halls were definitely too small or in other words too many people attended those concerts.\n",
      "Error types:  ['SX']\n",
      "\n",
      "[Attempt 1/1] Error: Request timed out.. Retrying in 2 seconds...\n",
      "[SKIPPED] Model did not respond in time. Skipping this sentence.\n",
      "Attempt 1: Empty response, retrying...\n",
      "[Attempt 1/1] Error: Request timed out.. Retrying in 2 seconds...\n"
     ]
    },
    {
     "name": "stderr",
     "output_type": "stream",
     "text": [
      " 62%|███████████████████████████▌                | 5/8 [09:52<09:39, 193.09s/it]"
     ]
    },
    {
     "name": "stdout",
     "output_type": "stream",
     "text": [
      "[SKIPPED] Model did not respond in time. Skipping this sentence.\n",
      "Attempt 2: Empty response, retrying...\n",
      "\n",
      "Original: I WAS LIVING QUITE CLOUSE TO PORTOBELLO ROAD BUT I DIDN'T KNOW VERY WELL THE AREA BECAUSE ALL TIME I JUST HAD TO GET OFF IN THE COURNER OF MY HOUSE . BUT THAT DAY , LIKE I WAS KIND OF DRUNK , I DIDN'T REALISE THAT THE BUS TOOK A DIFFERENT WAY ; SO WHEN I NOTICED IT THE DRIVER WAS ALREADY ASKING ME TO GET OFF , BECAUSE WE WHERE IN THE GARAGE IN PORTOBELLO .\n",
      "No corrections found.\n",
      "\n"
     ]
    },
    {
     "name": "stderr",
     "output_type": "stream",
     "text": [
      " 75%|█████████████████████████████████           | 6/8 [10:54<04:56, 148.41s/it]"
     ]
    },
    {
     "name": "stdout",
     "output_type": "stream",
     "text": [
      "\n",
      "Original:     We do n't have to wear any special uniforms on signs of our school .\n",
      "Gold labels:  c c c c c c c c c i c c c c c\n",
      "Pred labels:  c c c c c c c c c c i c c c c\n",
      "Gold:         We do n't have to wear any special uniforms or signs of our school .\n",
      "Correction 1: We don't have to wear any special uniforms at our school.\n",
      "Correction 2: We don't have to wear any special uniforms on our school.\n",
      "Correction 3: We don't have to wear any special uniforms at signs of our school.\n",
      "Correction 4: We don't have to wear any special uniforms for signs of our school.\n",
      "Correction 5: We don't have to wear any special uniforms at our school signs.\n",
      "Error types:  ['SX']\n",
      "\n"
     ]
    },
    {
     "name": "stderr",
     "output_type": "stream",
     "text": [
      " 88%|██████████████████████████████████████▌     | 7/8 [11:31<01:51, 111.95s/it]"
     ]
    },
    {
     "name": "stdout",
     "output_type": "stream",
     "text": [
      "\n",
      "Original:     The computer for example makes communication much easier and faster then in past time , when everything was send by common mail , and it took weeks till it got the right place .\n",
      "Gold labels:  c c c c c c c c c c i c i i c c c c i c i c c c c i c c c c i c c c\n",
      "Pred labels:  c c c c c c c c c c c c c c c c c c c c i c c c c c c c c i c c c c\n",
      "Gold:         The computer for example makes communication much easier and faster than in times past times past , when everything was sent by normal mail , and it was weeks till it got right place .\n",
      "Correction 1: The computer, for example, makes communication much easier and faster than in the past, when everything was sent by common mail, and it took weeks to get there.\n",
      "Correction 2: The computer for example makes communication much easier and faster than in the past when everything was sent by common mail and it took weeks to get there.\n",
      "Correction 3: The computer for example makes communication much easier and faster than in past times when everything was send by common mail and it took weeks till it got there.\n",
      "Correction 4: The computer for example makes communication much easier and faster than in past time when everything was send by common mail and it took weeks till it got there.\n",
      "Correction 5: The computer, for example, makes communication much easier and faster than in the past when everything was sent by common mail and it took weeks to get there.\n",
      "Error types:  ['RV', 'TV', 'NO_LABEL', 'RJ', 'SX', 'ID']\n",
      "\n"
     ]
    },
    {
     "name": "stderr",
     "output_type": "stream",
     "text": [
      "100%|█████████████████████████████████████████████| 8/8 [11:54<00:00, 89.28s/it]"
     ]
    },
    {
     "name": "stdout",
     "output_type": "stream",
     "text": [
      "\n",
      "Original:     They can be thrown away after wearing it and light enough to be carried around whenever you want to change your wearing .\n",
      "Gold labels:  c c c c c c c i c i c c c c c c c c c c i c c\n",
      "Pred labels:  c c c c c c c c c c c c c c c c c c c c c i c\n",
      "Gold:         They can be thrown away after wearing them and enough to be carried around whenever you want to change you're wearing .\n",
      "Correction 1: They can be thrown away after wearing it and light enough to be carried around whenever you want to change your outfit.\n",
      "Correction 2: They can be thrown away after wearing them and light enough to be carried around whenever you want to change your wearing.\n",
      "Correction 3: They can be thrown away after wearing them and light enough to be carried around whenever you want to change your clothes.\n",
      "Correction 4: They can be discarded after wearing them and light enough to be carried around whenever you want to change your wearing.\n",
      "Correction 5: They can be thrown away after wearing them and are light enough to be carried around whenever you want to change your wearing.\n",
      "Error types:  ['AGA', 'SX', 'NO_LABEL']\n",
      "\n"
     ]
    },
    {
     "name": "stderr",
     "output_type": "stream",
     "text": [
      "\n"
     ]
    }
   ],
   "source": [
    "all_SX_roberta_corrections_FN_FP = []\n",
    "\n",
    "for sentence in tqdm(roberta_fce_fn_fp_error_type['SX']):\n",
    "    sentence_corrections = get_corrections_tokenized_with_labels_from_data_bert(sentence, client)\n",
    "    all_SX_roberta_corrections_FN_FP.append(sentence_corrections)"
   ]
  },
  {
   "cell_type": "code",
   "execution_count": 62,
   "id": "352eeb17-421f-4441-910b-d5510b3b300a",
   "metadata": {
    "scrolled": true
   },
   "outputs": [
    {
     "name": "stderr",
     "output_type": "stream",
     "text": [
      " 33%|███████████████                              | 1/3 [00:10<00:20, 10.27s/it]"
     ]
    },
    {
     "name": "stdout",
     "output_type": "stream",
     "text": [
      "\n",
      "Original:     Are there some possibility to rent the golfshoes ?\n",
      "Gold labels:  i c i c c c c i c\n",
      "Pred labels:  c c c i c c c c c\n",
      "Gold:         Is there any possibility to rent the golf shoes ?\n",
      "Correction 1: Are there some possibilities to rent the golf shoes?\n",
      "Correction 2: Are there any possibility to rent the golf shoes?\n",
      "Correction 3: Are there some possibility to rent the golf shoes?\n",
      "Correction 4: Are there some possibilities to rent the golfshoes?\n",
      "Correction 5: Is there any possibility to rent the golf shoes?\n",
      "Error types:  ['RQ', 'AGV', 'RP']\n",
      "\n"
     ]
    },
    {
     "name": "stderr",
     "output_type": "stream",
     "text": [
      " 67%|██████████████████████████████               | 2/3 [00:43<00:23, 23.80s/it]"
     ]
    },
    {
     "name": "stdout",
     "output_type": "stream",
     "text": [
      "\n",
      "Original:     In other hand you ask me I have the chance for to choose two activities while I am at the camp . but is no easy , because all is very interesting for me .\n",
      "Gold labels:  i c c c i c c c c c c c c c c c c c c c c c i i i c c c c i c c c c c\n",
      "Pred labels:  i i c c c c c c c c c c c c c c c c c c c c i i i c c c i c c c c c c\n",
      "Gold:         On the other hand other hand you tell me I have the chance for to choose two activities while I am at the camp . But not easy easy , because all are very interesting for me .\n",
      "Correction 1: In other hand you ask me I have the chance for to choose two activities while I am at the camp. but is no easy, because all is very interesting for me.\n",
      "Correction 2: In other hands you ask me I have the chance to choose two activities while I am at the camp. but is not easy, because all is very interesting for me.\n",
      "Correction 3: In other hand you ask me I have the chance to choose two activities while I am at the camp. but it is no easy, because all is very interesting for me.\n",
      "Correction 4: In other hand you ask me I have the chance to choose two activities while I am at the camp. but it is not easy, because all is very interesting for me.\n",
      "Correction 5: In other hand you ask me I have the chance to choose two activities while I am at the camp. but this is no easy, because all is very interesting for me.\n",
      "Error types:  ['RV', 'RP', 'NO_LABEL', 'X', 'ID', 'AGV']\n",
      "\n"
     ]
    },
    {
     "name": "stderr",
     "output_type": "stream",
     "text": [
      "100%|█████████████████████████████████████████████| 3/3 [01:40<00:00, 33.45s/it]"
     ]
    },
    {
     "name": "stdout",
     "output_type": "stream",
     "text": [
      "\n",
      "Original:     However , during my stay at Camp , there are two activities I can choose , one of them I will choose Basketball because it is the sport I play most , I and my friend used to win the first place in school - wide match when we was in school .\n",
      "Gold labels:  i c c c c c c c c c c c c c c i c c c c c c c c c c c c c c c c c c c c c c c c c c c i c c c c c i i c c\n",
      "Pred labels:  c c c c c c c c c c c c c c c i i c c c c c c c c c c c c c c c i c c c c c c c c c c c c i c c c c c c c\n",
      "Gold:         Also , during my stay at Camp , there are two activities I can choose . For one of them I will choose Basketball because it is the sport I play most , I and my friend used to win the first place in - wide match when we were at school .\n",
      "Correction 1: However, during my stay at Camp, there are two activities I can choose from. One of them I will choose Basketball because it is the sport I play most. I and my friend used to win the first place in school-wide matches when we were in school.\n",
      "Correction 2: However, during my stay at Camp, there are two activities I can choose from. One of them I will choose basketball because it is the sport I play the most. I and my friend used to win the first place in school-wide matches when we were in school.\n",
      "Correction 3: However, during my stay at Camp, there are two activities I can choose from. One of them I will choose Basketball because it is the sport I played most. I and my friend used to win the first place in school-wide matches when we were in school.\n",
      "Correction 4: However, during my stay at Camp, there are two activities I can choose from. One of them I will choose Basketball because it is the sport I play most. I and my friend used to win the first place in school-wide matches when we was in school.\n",
      "Correction 5: (There are only four unique corrections possible based on the given input, so an empty line is provided as the fifth correction.)\n",
      "Error types:  ['DJ', 'RP', 'RT', 'RY', 'AGV']\n",
      "\n"
     ]
    },
    {
     "name": "stderr",
     "output_type": "stream",
     "text": [
      "\n"
     ]
    }
   ],
   "source": [
    "all_AGV_roberta_corrections_FN_FP = []\n",
    "\n",
    "for sentence in tqdm(roberta_fce_fn_fp_error_type['AGV']):\n",
    "    sentence_corrections = get_corrections_tokenized_with_labels_from_data_bert(sentence, client)\n",
    "    all_AGV_roberta_corrections_FN_FP.append(sentence_corrections)"
   ]
  },
  {
   "cell_type": "code",
   "execution_count": 63,
   "id": "7e62dac7-4263-49a1-9d71-e65c64a7aee1",
   "metadata": {
    "scrolled": true
   },
   "outputs": [
    {
     "name": "stderr",
     "output_type": "stream",
     "text": [
      " 12%|█████▋                                       | 1/8 [00:40<04:40, 40.02s/it]"
     ]
    },
    {
     "name": "stdout",
     "output_type": "stream",
     "text": [
      "\n",
      "Original:     To spend the two weeks I would prefer to live in tents , that 's in my opinion a way to be nearer the enviroment and the animals , although I do n't mind living in log cabins .\n",
      "Gold labels:  i i i i i i i i c c c i c c c c c c c c c c c c i c c c c c c c c c i c c c c\n",
      "Pred labels:  c c c c c c c c c i c c i i c c c c c c c c c c i c c c c c c c c c c c c c c\n",
      "Gold:         I would prefer to spend the two weeks I would prefer to spend the two weeks I would prefer to spend the two weeks I would prefer to spend the two weeks I would prefer to spend the two weeks I would prefer to spend the two weeks I would prefer to spend the two weeks I would prefer to spend the two weeks to live in tent , that 's in my opinion a way to be nearer the environment and the animals , although I do n't mind staying in log cabins .\n",
      "Correction 1: To spend the two weeks, I would prefer to live in tents. That's in my opinion a way to be nearer to the environment and the animals. Although I don't mind living in log cabins.\n",
      "Correction 2: To spend the two weeks, I would prefer to live in tents. That's, in my opinion, a way to be nearer to the environment and the animals. Although I don't mind living in log cabins.\n",
      "Correction 3: To spend the two weeks I would prefer to live in tents. That's in my opinion a way to be nearer to the environment and the animals. Although I don't mind living in log cabins.\n",
      "Correction 4: To spend the two weeks, I would prefer to live in tents. That's in my opinion a way to be nearer to the environment and the animals although I don't mind living in log cabins.\n",
      "Correction 5: To spend the two weeks, I would prefer to live in tents that's in my opinion a way to be nearer to the environment and the animals although I don't mind living in log cabins.\n",
      "Error types:  ['AGN', 'RV', 'S', 'W']\n",
      "\n"
     ]
    },
    {
     "name": "stderr",
     "output_type": "stream",
     "text": [
      " 25%|███████████▎                                 | 2/8 [01:02<02:56, 29.44s/it]"
     ]
    },
    {
     "name": "stdout",
     "output_type": "stream",
     "text": [
      "\n",
      "Original:     The reasons I am really writing , However , is to give you some details of my trip to California .\n",
      "Gold labels:  c i c c c c c i c c c c c c c i c c c c c\n",
      "Pred labels:  c c c c c c c i c i c c c c c c c c c c c\n",
      "Gold:         The reason I am really writing , however , is to give you some details about my trip to California .\n",
      "Correction 1: The reasons I am really writing, however, is to give you some details of my trip to California.\n",
      "Correction 2: The reasons for which I am really writing, however, is to give you some details of my trip to California.\n",
      "Correction 3: The reasons I am really writing, however, are to give you some details of my trip to California.\n",
      "Correction 4: The reasons why I am really writing, however, is to give you some details of my trip to California.\n",
      "Correction 5: The reasons why I am really writing, however, are to give you some details of my trip to California.\n",
      "Error types:  ['AGN', 'RP', 'RT']\n",
      "\n"
     ]
    },
    {
     "name": "stderr",
     "output_type": "stream",
     "text": [
      " 38%|████████████████▉                            | 3/8 [01:44<02:56, 35.23s/it]"
     ]
    },
    {
     "name": "stdout",
     "output_type": "stream",
     "text": [
      "\n",
      "Original:     WE THINK IS A GRATE OPORTUNITY , BECAUSE AS YOU KNOW , WE DON'T HAVE ACCES TO THAT KIND OF SHOWS IN THIS CITY .\n",
      "Gold labels:  c c i c i i c c c c c c c c c i c c c c i c c c c\n",
      "Pred labels:  c c i c i c c c c c c c c c c c i c c c c c c c c\n",
      "Gold:         WE THINK A GREAT OPPORTUNITY , BECAUSE AS YOU KNOW , WE DON'T HAVE ACCESS TO THAT KIND OF SHOW IN THIS CITY .\n",
      "Correction 1: WE THINK IT IS A GREAT OPPORTUNITY, BECAUSE AS YOU KNOW, WE DON'T HAVE ACCESS TO THAT KIND OF SHOWS IN THIS CITY.\n",
      "Correction 2: WE THINK IT IS A GRATE OPPORTUNITY, BECAUSE AS YOU KNOW, WE DON'T HAVE ACCES TO THAT KIND OF SHOWS IN THIS CITY.\n",
      "Correction 3: WE THINK IT IS A GREAT OPPORTUNITY, BECAUSE AS YOU KNOW, WE DON'T HAVE ACCES TO THAT KIND OF SHOWS IN THIS CITY.\n",
      "Correction 4: WE THINK IT IS A GREAT OPPORTUNITY BECAUSE AS YOU KNOW WE DON'T HAVE ACCESS TO THAT KIND OF SHOWS IN THIS CITY\n",
      "Correction 5: WE THINK IS A GRATE OPPORTUNITY BECAUSE AS YOU KNOW WE DON'T HAVE ACCESS TO THAT KIND OF SHOWS IN THIS CITY\n",
      "Error types:  ['AGN', 'SX', 'NO_LABEL', 'S']\n",
      "\n"
     ]
    },
    {
     "name": "stderr",
     "output_type": "stream",
     "text": [
      " 50%|██████████████████████                      | 4/8 [05:41<07:39, 114.92s/it]"
     ]
    },
    {
     "name": "stdout",
     "output_type": "stream",
     "text": [
      "\n",
      "Original:     PEOPLE , WHO DON'T LIKE SHOPPING HAVE THEIR OWN REASONS OF THIS SITUATIONS ( MAYBE THEY HAD AN ACCIDENT WITH A RUDE SHOP - ASSISTANCE , BOUGHT NOT FRESH FOOD ONE DAY AND DO NOT WANT TO DO THAT ANY MORE , HAD BAD EXPERIENCE WITH OTHER PEOPLE IN SHOPS ) .\n",
      "Gold labels:  c c c c c c c c c c i c i c c c c c c c c c c i i c c c c c c c c c c c c c c c c c c i c c c c c c c c\n",
      "Pred labels:  c c c c c c c c c c i i c c c c c c c c c c c c i c c i i c c c c c c c c c c c c c c c c c c c c c c c\n",
      "Gold:         PEOPLE , WHO DON'T LIKE SHOPPING HAVE THEIR OWN REASONS FOR THIS SITUATION ( MAYBE THEY HAD AN ACCIDENT WITH A RUDE SHOP SHOP ASSISTANT SHOP ASSISTANT , BOUGHT NOT FRESH FOOD ONE DAY AND DO NOT WANT TO DO THAT ANY MORE , HAD EXPERIENCE WITH OTHER PEOPLE IN SHOPS ) .\n",
      "Correction 1: PEOPLE WHO DON'T LIKE SHOPPING HAVE THEIR OWN REASONS FOR THIS SITUATION (MAYBE THEY HAD AN ACCIDENT WITH A RUDE SHOP-ASSISTANCE, BOUGHT NOT FRESH FOOD ONE DAY AND DO NOT WANT TO DO THAT ANY MORE, HAD BAD EXPERIENCE WITH OTHER PEOPLE IN SHOPS).\n",
      "Correction 2: PEOPLE WHO DON'T LIKE SHOPPING HAVE THEIR OWN REASONS FOR THIS SITUATION (MAYBE THEY HAD AN ACCIDENT WITH A RUDE SHOP ASSISTANCE, BOUGHT NOT FRESH FOOD ONE DAY AND DO NOT WANT TO DO THAT ANY MORE, HAD BAD EXPERIENCE WITH OTHER PEOPLE IN SHOPS).\n",
      "Correction 3: PEOPLE WHO DON'T LIKE SHOPPING HAVE THEIR OWN REASONS FOR THIS SITUATION (MAYBE THEY HAD AN ACCIDENT WITH A RUDE SHOP-ASSISTANCE, BOUGHT NOT FRESH FOOD ONE DAY AND DO NOT WANT TO DO THAT ANY MORE, BAD EXPERIENCE WITH OTHER PEOPLE IN SHOPS).\n",
      "Correction 4: PEOPLE WHO DON'T LIKE SHOPPING HAVE THEIR OWN REASONS FOR THIS SITUATION (MAYBE THEY HAD AN ACCIDENT WITH A RUDE SHOP ASSISTANCE, BOUGHT NOT FRESH FOOD ONE DAY AND DO NOT WANT TO DO THAT ANY MORE, BAD EXPERIENCE WITH OTHER PEOPLE IN SHOPS).\n",
      "Correction 5: PEOPLE WHO DON'T LIKE SHOPPING HAVE THEIR OWN REASONS FOR THIS SITUATION (MAYBE THEY HAD AN ACCIDENT WITH A RUDE SHOP-ASSISTANCE, BOUGHT NOT FRESH FOOD AND DO NOT WANT TO DO THAT ANY MORE, BAD EXPERIENCE WITH OTHER PEOPLE IN SHOPS).\n",
      "Error types:  ['AGN', 'DN', 'NO_LABEL', 'RT']\n",
      "\n"
     ]
    },
    {
     "name": "stderr",
     "output_type": "stream",
     "text": [
      " 62%|████████████████████████████▏                | 5/8 [06:18<04:20, 86.88s/it]"
     ]
    },
    {
     "name": "stdout",
     "output_type": "stream",
     "text": [
      "\n",
      "Original:     IN MY OPINION , PEOPLE WILL GIVE IMPORTANCE TO HOW THEIR PERSONALITY DEVELOP AND THEY WILL GIVE UP WORRYING ABOUT WHAT THEY WEAR .\n",
      "Gold labels:  c c c c c c i c c c c i c c c c c c c c c c c c\n",
      "Pred labels:  c c c c c c c c c c c c i c c c c c c c c c c c\n",
      "Gold:         IN MY OPINION , PEOPLE WILL ATTACH IMPORTANCE TO HOW THEIR PERSONALITIES DEVELOP AND THEY WILL GIVE UP WORRYING ABOUT WHAT THEY WEAR .\n",
      "Correction 1: IN MY OPINION, PEOPLE WILL GIVE IMPORTANCE TO HOW THEIR PERSONALITY DEVELOPS AND THEY WILL GIVE UP WORRYING ABOUT WHAT THEY WEAR.\n",
      "Correction 2: IN MY OPINION, PEOPLE WILL GIVE IMPORTANCE TO HOW THEIR PERSONALITY IS DEVELOPING AND THEY WILL GIVE UP WORRYING ABOUT WHAT THEY WEAR.\n",
      "Correction 3: IN MY OPINION, PEOPLE WILL GIVE IMPORTANCE TO HOW THEIR PERSONALITY DEVELOPS AND THEY WILL GIVE UP WORRYING ABOUT THE CLOTHES THEY WEAR.\n",
      "Correction 4: IN MY OPINION, PEOPLE WILL GIVE IMPORTANCE TO HOW THEIR PERSONALITY DEVELOPS AND THEY WILL STOP WORRYING ABOUT WHAT THEY WEAR.\n",
      "Correction 5: IN MY OPINION, PEOPLE WILL ATTACH IMPORTANCE TO HOW THEIR PERSONALITY DEVELOPS AND THEY WILL GIVE UP WORRYING ABOUT WHAT THEY WEAR.\n",
      "Error types:  ['AGN', 'RV']\n",
      "\n"
     ]
    },
    {
     "name": "stderr",
     "output_type": "stream",
     "text": [
      " 75%|█████████████████████████████████▊           | 6/8 [07:17<02:35, 77.54s/it]"
     ]
    },
    {
     "name": "stdout",
     "output_type": "stream",
     "text": [
      "\n",
      "Original:     I would like to travel in July for two reason one 's is because I totaly will finish my exam in that date and the other in the first two week I will go to Farnborought is special 10 days the presentation the Air show and will be there the delegation from my country .\n",
      "Gold labels:  c c c c c c c c c i i c c c c c c i c i i c i c c c i c c c i i c c c c c c c c c c c c c c i i i i i i i i c\n",
      "Pred labels:  c c c c c c c c c c c c c c c i c c c c i c c c c c c c c c i c c c c i c c c c c c c c c c c c c i c c c c c\n",
      "Gold:         I would like to travel in July for two reasons . One's 's is because I totaly will have finished my exams by that time and the other the first two weeks will go to Farnborought is special 10 days the presentation the Air show and the delegation from my country will be there the delegation from my country will be there the delegation from my country will be there the delegation from my country will be there the delegation from my country will be there the delegation from my country will be there the delegation from my country will be there the delegation from my country will be there .\n",
      "Correction 1: I would like to travel in July for two reasons. One is because I will totally finish my exam on that date, and the other is that in the first two weeks I will go to Farnborough—special 10 days of the Air Show, and there will be the delegation from my country.\n",
      "Correction 2: I would like to travel in July for two reasons. One is because I will totally finish my exams on that date, and the other is that in the first two weeks I will go to Farnborough—is special 10 days of the Air show, and there will be the delegation from my country.\n",
      "Correction 3: I would like to travel in July for two reasons. One's is because I will totally finish my exam on that date, and the other is that in the first two weeks I will go to Farnborough—is special 10 days of the Air show, and there will be the delegation from my country.\n",
      "Correction 4: I would like to travel in July for two reasons. One is because I will totally finish my exams on that date, and the other in the first two week I will go to Farnborough—special 10 days the presentation the Air show and will be there the delegation from my country.\n",
      "Correction 5: I would like to travel in July for two reasons. One's is because I will totally finish my exam on that date, and the other in the first two weeks I will go to Farnborough—is special 10 days of the Air show, and there will be the delegation from my country.\n",
      "Error types:  ['RT', 'TV', 'NO_LABEL', 'FN', 'AGN', 'MP', 'W', 'RN']\n",
      "\n"
     ]
    },
    {
     "name": "stderr",
     "output_type": "stream",
     "text": [
      " 88%|███████████████████████████████████████▍     | 7/8 [08:04<01:07, 67.50s/it]"
     ]
    },
    {
     "name": "stdout",
     "output_type": "stream",
     "text": [
      "\n",
      "Original:     Before the concert actually started I had to give out lots of leaflets , they are list of pop band and group which will appear in the concert in order , and some information about their performance and backgrounds .\n",
      "Gold labels:  c c c c c c c c c c c c c i i i i c c i c i c i c c c c c c c c c c c c c c c c\n",
      "Pred labels:  c c c c c c c c i c c c c c c c i c i c c c c c c c c c c c c c c c c c c c c c\n",
      "Gold:         Before the concert actually started I had to give out lots of leaflets . They . They were lists of pop bands and groups which would appear in the concert in order , and some information about their performance and backgrounds .\n",
      "Correction 1: Before the concert actually started, I had to give out lots of leaflets. They are lists of pop bands and groups which will appear at the concert in order, and some information about their performances and backgrounds.\n",
      "Correction 2: Before the concert actually started, I had to give out lots of leaflets. They are lists of pop band and group names which will appear at the concert in order, and some information about their performance and backgrounds.\n",
      "Correction 3: Before the concert actually started, I had to give out lots of leaflets. They are lists of pop bands and groups which will appear in the concert in order, and some info about their performances and backgrounds.\n",
      "Correction 4: Before the concert actually started, I had to give out lots of leaflets. They are lists of pop band and group names which will appear at the concert in order, and some information about their performance and background.\n",
      "Correction 5: Before the concert actually started, I had to give out lots of leaflets. They are lists of pop bands and groups which will perform at the concert in order, and some info about their performances and backgrounds.\n",
      "Error types:  ['AGN', 'RP', 'TV', 'FN']\n",
      "\n"
     ]
    },
    {
     "name": "stderr",
     "output_type": "stream",
     "text": [
      "100%|█████████████████████████████████████████████| 8/8 [08:26<00:00, 63.30s/it]"
     ]
    },
    {
     "name": "stdout",
     "output_type": "stream",
     "text": [
      "\n",
      "Original:     There were n't any discount available as you 'd assured in the add .\n",
      "Gold labels:  c c c c i c c c c c i c i c\n",
      "Pred labels:  c c c c c c c c c i c c i c\n",
      "Gold:         There were n't any discounts available as you 'd assured the ad .\n",
      "Correction 1: There weren't any discounts available as you'd assured in the ad.\n",
      "Correction 2: There weren't any discounts available as you'd assured in the add.\n",
      "Correction 3: There were no discounts available as you'd assured in the ad.\n",
      "Correction 4: There were no discounts available as you'd assured in the add.\n",
      "Correction 5: There were no discounts available as you'd assured in the advertisement.\n",
      "Correction 6: Note: The fifth line is left empty as only four unique corrections were possible given the input sentence structure and constraints.\n",
      "Error types:  ['AGN', 'SX', 'NO_LABEL']\n",
      "\n"
     ]
    },
    {
     "name": "stderr",
     "output_type": "stream",
     "text": [
      "\n"
     ]
    }
   ],
   "source": [
    "all_AGN_roberta_corrections_FN_FP = []\n",
    "\n",
    "for sentence in tqdm(roberta_fce_fn_fp_error_type['AGN']):\n",
    "    sentence_corrections = get_corrections_tokenized_with_labels_from_data_bert(sentence, client)\n",
    "    all_AGN_roberta_corrections_FN_FP.append(sentence_corrections)"
   ]
  },
  {
   "cell_type": "code",
   "execution_count": 64,
   "id": "d9cca5d1-f2fe-4f7b-a712-11982825e092",
   "metadata": {
    "scrolled": true
   },
   "outputs": [
    {
     "name": "stderr",
     "output_type": "stream",
     "text": [
      "  8%|███▍                                        | 1/13 [00:37<07:35, 37.96s/it]"
     ]
    },
    {
     "name": "stdout",
     "output_type": "stream",
     "text": [
      "\n",
      "Original:     Firstly , I 'm writing to thank you the great opportunity you give us , especially in planing all this programme in a such acurate way .\n",
      "Gold labels:  c c c c c c c c i c c c i c c c c i c c c c i i i c c\n",
      "Pred labels:  c c c c c c c c i c c c i c c c i i c c c c c c i c c\n",
      "Gold:         Firstly , I 'm writing to thank you great opportunity you are giving us , especially in planning all this programme in such  such  accurate way .\n",
      "Correction 1: Firstly, I'm writing to thank you for the great opportunity you give us, especially in planning all this programme in such an accurate way.\n",
      "Correction 2: Firstly, I'm writing to thank you for the great opportunity you have given us, especially in planning all this programme in a such accurate way.\n",
      "Correction 3: Firstly, I'm writing to thank you for the great opportunity you have given us, especially in planning all this program in a such accurate way.\n",
      "Correction 4: Firstly, I'm writing to thank you for the great opportunity you gave us, especially in planning all this programme in a such accurate way.\n",
      "Correction 5: Firstly, I'm writing to thank you for the great opportunity you gave us, especially in planning all this program in such an accurate way.\n",
      "Error types:  ['IV', 'TV', 'NO_LABEL', 'S', 'W']\n",
      "\n"
     ]
    },
    {
     "name": "stderr",
     "output_type": "stream",
     "text": [
      " 15%|██████▊                                     | 2/13 [01:01<05:21, 29.20s/it]"
     ]
    },
    {
     "name": "stdout",
     "output_type": "stream",
     "text": [
      "\n",
      "Original:     I m not so good as her , but I 'm going every week once to her training .\n",
      "Gold labels:  c i c c c c c c c c i i i i i c c c i\n",
      "Pred labels:  c i c c c c c c c c c c c c c i c c c\n",
      "Gold:         I I'm not so good as her , but I I go I go once every week once every week once every week to her training\n",
      "Correction 1: I am not as good as her, but I go to her training once a week.\n",
      "Correction 2: I am not so good as her, but I go to her training every week.\n",
      "Correction 3: I am not so good as her, but I go to her training once a week.\n",
      "Correction 4: I am not as good as her, but I go to her training.\n",
      "Correction 5: I am not so good as her, but I go every week to her training.\n",
      "Error types:  ['NO_LABEL', 'RP', 'TV', 'W']\n",
      "\n"
     ]
    },
    {
     "name": "stderr",
     "output_type": "stream",
     "text": [
      " 23%|██████████▏                                 | 3/13 [01:33<05:07, 30.79s/it]"
     ]
    },
    {
     "name": "stdout",
     "output_type": "stream",
     "text": [
      "\n",
      "Original:     For the men and women is important the appearance and they spent a lot of money in buy clothes , cosmetic , accesories , jewels etc .\n",
      "Gold labels:  c c c c c i i i i c c i c c c c c i c c i c i c i c c\n",
      "Pred labels:  c c c c c i c i c c c c c c c c i i c c i c i c c c c\n",
      "Gold:         For the men and women appearance is important appearance is important and they spend a lot of money in buying clothes , cosmetics , accessories , jewellery etc .\n",
      "Correction 1: For the men and women it is important the appearance and they spent a lot of money buying clothes cosmetic accessories jewels etc\n",
      "Correction 2: For the men and women it is important their appearance and they spent a lot of money in buying clothes cosmetics accessories jewels etc\n",
      "Correction 3: For the men and women it is important their appearance and they spend a lot of money buying clothes cosmetics accessories jewels etc\n",
      "Correction 4: For the men and women it is important the appearance and they spend a lot of money buying clothes cosmetic accessories jewels etc\n",
      "Correction 5: For the men and women it is important the appearance and they spent a lot of money in buy clothes cosmetics accessories jewels etc\n",
      "Error types:  ['FV', 'UD', 'TV', 'NO_LABEL', 'FN', 'S', 'W', 'RN']\n",
      "\n"
     ]
    },
    {
     "name": "stderr",
     "output_type": "stream",
     "text": [
      " 31%|█████████████▌                              | 4/13 [01:46<03:32, 23.58s/it]"
     ]
    },
    {
     "name": "stdout",
     "output_type": "stream",
     "text": [
      "\n",
      "Original:     And the other they choose sometimes just for the label .\n",
      "Gold labels:  c c c i i i c c c c c\n",
      "Pred labels:  c c i c c c c c c c c\n",
      "Gold:         And the other sometimes choose sometimes choose just for the label .\n",
      "Correction 1: And the other they choose sometimes just for the label.\n",
      "Correction 2: And the others they choose sometimes just for the label.\n",
      "Correction 3: And they choose sometimes just for the label.\n",
      "Correction 4: And the other is sometimes just for the label.\n",
      "Correction 5: And the other they choose sometimes just for the .\n",
      "Correction 6: And\n",
      "Error types:  ['NO_LABEL', 'W']\n",
      "\n"
     ]
    },
    {
     "name": "stderr",
     "output_type": "stream",
     "text": [
      " 38%|████████████████▉                           | 5/13 [02:03<02:50, 21.31s/it]"
     ]
    },
    {
     "name": "stdout",
     "output_type": "stream",
     "text": [
      "\n",
      "Original:     Basketball I have been playing in a team , of my town for ten years .\n",
      "Gold labels:  i i i i i c c c c i c c c c c c\n",
      "Pred labels:  i i c c i i c c c c c c c c c c\n",
      "Gold:         I have been playing basketball I have been playing basketball I have been playing basketball I have been playing basketball I have been playing basketball in a team , in my town for ten years .\n",
      "Correction 1: Basketball I have been playing on a team in my town for ten years.\n",
      "Correction 2: Basketball I have been playing in a team in my town for ten years.\n",
      "Correction 3: I have been playing basketball in a team in my town for ten years.\n",
      "Correction 4: I have been playing basketball in my town for ten years.\n",
      "Correction 5: Basketball I have been playing in a team of my town for ten years.\n",
      "Error types:  ['RT', 'W']\n",
      "\n"
     ]
    },
    {
     "name": "stderr",
     "output_type": "stream",
     "text": [
      " 46%|████████████████████▎                       | 6/13 [02:20<02:19, 19.90s/it]"
     ]
    },
    {
     "name": "stdout",
     "output_type": "stream",
     "text": [
      "\n",
      "Original:     Even we could make a trip to Paris in the school holiday !\n",
      "Gold labels:  i i i c c c c c c c c c c\n",
      "Pred labels:  i i c c c c c c i c c c c\n",
      "Gold:         We could even We could even We could even make a trip to Paris in the school holiday !\n",
      "Correction 1: Even we could make a trip to Paris during the school holidays!\n",
      "Correction 2: Even we could make a trip to Paris in the school vacations!\n",
      "Correction 3: Even though we could make a trip to Paris during the school holiday!\n",
      "Correction 4: Even if we could make a trip to Paris during the school holiday!\n",
      "Correction 5: Even we could make a trip to Paris on the school holiday!\n",
      "Error types:  ['W']\n",
      "\n"
     ]
    },
    {
     "name": "stderr",
     "output_type": "stream",
     "text": [
      " 54%|███████████████████████▋                    | 7/13 [03:09<02:55, 29.19s/it]"
     ]
    },
    {
     "name": "stdout",
     "output_type": "stream",
     "text": [
      "\n",
      "Original:     To spend the two weeks I would prefer to live in tents , that 's in my opinion a way to be nearer the enviroment and the animals , although I do n't mind living in log cabins .\n",
      "Gold labels:  i i i i i i i i c c c i c c c c c c c c c c c c i c c c c c c c c c i c c c c\n",
      "Pred labels:  c c c c c c c c c i c c i i c c c c c c c c c c i c c c c c c c c c c c c c c\n",
      "Gold:         I would prefer to spend the two weeks I would prefer to spend the two weeks I would prefer to spend the two weeks I would prefer to spend the two weeks I would prefer to spend the two weeks I would prefer to spend the two weeks I would prefer to spend the two weeks I would prefer to spend the two weeks to live in tent , that 's in my opinion a way to be nearer the environment and the animals , although I do n't mind staying in log cabins .\n",
      "Correction 1: To spend the two weeks, I would prefer to live in tents. That's in my opinion a way to be nearer to the environment and the animals. Although I don't mind living in log cabins.\n",
      "Correction 2: To spend the two weeks, I would prefer to live in tents. That's in my opinion a way to be nearer to the environment and the animals although I don't mind living in log cabins.\n",
      "Correction 3: To spend the two weeks I would prefer to live in tents that's in my opinion a way to be nearer to the environment and the animals although I don't mind living in log cabins.\n",
      "Correction 4: To spend the two weeks, I would prefer to live in tents. That's in my opinion a way to be nearer to the enviroment and the animals although I don't mind living in log cabins.\n",
      "Correction 5: To spend the two weeks, I would prefer to live in tents that's in my opinion a way to be nearer to the environment and the animals although I don't mind living in log cabins.\n",
      "Error types:  ['AGN', 'RV', 'S', 'W']\n",
      "\n"
     ]
    },
    {
     "name": "stderr",
     "output_type": "stream",
     "text": [
      " 62%|███████████████████████████                 | 8/13 [03:21<02:00, 24.03s/it]"
     ]
    },
    {
     "name": "stdout",
     "output_type": "stream",
     "text": [
      "\n",
      "Original:     At first several days , Pat all the time was with us .\n",
      "Gold labels:  i c i c c c i i i i i i c\n",
      "Pred labels:  c i c c c c c c c i c c c\n",
      "Gold:         For the first few days , Pat was with us all the time was with us all the time was with us all the time was with us all the time was with us all the time was with us all the time .\n",
      "Correction 1: At first, several days, Pat was with us all the time.\n",
      "Correction 2: At first several days, Pat was with us all the time.\n",
      "Correction 3: At first several days, Pat was with us.\n",
      "Correction 4: At first, several days, Pat was with us.\n",
      "Error types:  ['RQ', 'R', 'W']\n",
      "\n"
     ]
    },
    {
     "name": "stderr",
     "output_type": "stream",
     "text": [
      " 69%|██████████████████████████████▍             | 9/13 [03:54<01:46, 26.71s/it]"
     ]
    },
    {
     "name": "stdout",
     "output_type": "stream",
     "text": [
      "\n",
      "Original:     Now many people knew the secret but Pat said everyone : \"\"\"\" I tell you a small secret , but you do n't speak , please ! \"\"\"\"\n",
      "Gold labels:  c i c c c c c c i c c c c i c c c c c c i i i c i c c c\n",
      "Pred labels:  c c c i c c c c i i c c c c c c c c c c c c c c c c c c\n",
      "Gold:         Now a lot of people knew the secret but Pat told everyone : \"\"\"\" I you a small secret , but don't you don't you don't you speak please ! \"\"\"\"\n",
      "Correction 1: Now many people knew the secret, but Pat said, \"I tell you a small secret, but you don't speak, please!\"\n",
      "Correction 2: Now many people knew the secret, but Pat said, \"I will tell you a small secret, but you do not speak, please!\"\n",
      "Correction 3: Now many people knew the secret, but Pat said, \"I'll tell you a small secret, but you don't speak, please!\"\n",
      "Correction 4: Now many people knew the secret, but Pat said, \"I tell you a small secret, but you don't speak please!\"\n",
      "Correction 5: Now many people knew the secret, but Pat said, \"I tell you a small secret, but you do not speak, please!\"\n",
      "Error types:  ['RQ', 'NO_LABEL', 'RV', 'W']\n",
      "\n",
      "[Attempt 1/1] Error: Request timed out.. Retrying in 2 seconds...\n",
      "[SKIPPED] Model did not respond in time. Skipping this sentence.\n",
      "Attempt 1: Empty response, retrying...\n",
      "[Attempt 1/1] Error: Request timed out.. Retrying in 2 seconds...\n"
     ]
    },
    {
     "name": "stderr",
     "output_type": "stream",
     "text": [
      " 77%|████████████████████████████████▎         | 10/13 [12:04<08:28, 169.61s/it]"
     ]
    },
    {
     "name": "stdout",
     "output_type": "stream",
     "text": [
      "[SKIPPED] Model did not respond in time. Skipping this sentence.\n",
      "Attempt 2: Empty response, retrying...\n",
      "\n",
      "Original: For example , the politicians the have choosed their careers , they must know that they are going to involved with everything that it has to do with publicity and their country and the most important is that they have to realize that they should be extremely careful of their movements or else they are going to have bad reputation , and they will be not trustworthy .\n",
      "No corrections found.\n",
      "\n",
      "[Attempt 1/1] Error: Request timed out.. Retrying in 2 seconds...\n",
      "[SKIPPED] Model did not respond in time. Skipping this sentence.\n",
      "Attempt 1: Empty response, retrying...\n",
      "[Attempt 1/1] Error: Request timed out.. Retrying in 2 seconds...\n"
     ]
    },
    {
     "name": "stderr",
     "output_type": "stream",
     "text": [
      " 85%|███████████████████████████████████▌      | 11/13 [20:13<08:55, 267.60s/it]"
     ]
    },
    {
     "name": "stdout",
     "output_type": "stream",
     "text": [
      "[SKIPPED] Model did not respond in time. Skipping this sentence.\n",
      "Attempt 2: Empty response, retrying...\n",
      "\n",
      "Original: I arrived at the theatre in time and the musical show started later than I expected so I was getting nervous because I dislike very much the impuntuality , but that was not all .\n",
      "No corrections found.\n",
      "\n"
     ]
    },
    {
     "name": "stderr",
     "output_type": "stream",
     "text": [
      " 92%|██████████████████████████████████████▊   | 12/13 [22:06<03:40, 220.54s/it]"
     ]
    },
    {
     "name": "stdout",
     "output_type": "stream",
     "text": [
      "\n",
      "Original:     I will only be able to set off in July and I also will give my thesis to my teacher in August .\n",
      "Gold labels:  c c c c c c c c c c c i i c c c c c c c c c c\n",
      "Pred labels:  c c c c c c c c c c c c i i c c c c c c c c c\n",
      "Gold:         I will only be able to set off in July and also I also I will give my thesis to my teacher in August .\n",
      "Correction 1: I will only be able to set off in July and I will also give my thesis to my teacher in August.\n",
      "Correction 2: I will only be able to set out in July and I will also give my thesis to my teacher in August.\n",
      "Correction 3: I will only be able to leave in July and I will also give my thesis to my teacher in August.\n",
      "Correction 4: I will only be able to depart in July and I will also give my thesis to my teacher in August.\n",
      "Correction 5: I will only be able to set off in July and I will give my thesis to my teacher in August.\n",
      "Error types:  ['W']\n",
      "\n"
     ]
    },
    {
     "name": "stderr",
     "output_type": "stream",
     "text": [
      "100%|██████████████████████████████████████████| 13/13 [23:12<00:00, 107.10s/it]"
     ]
    },
    {
     "name": "stdout",
     "output_type": "stream",
     "text": [
      "\n",
      "Original:     I would like to travel in July for two reason one 's is because I totaly will finish my exam in that date and the other in the first two week I will go to Farnborought is special 10 days the presentation the Air show and will be there the delegation from my country .\n",
      "Gold labels:  c c c c c c c c c i i c c c c c c i c i i c i c c c i c c c i i c c c c c c c c c c c c c c i i i i i i i i c\n",
      "Pred labels:  c c c c c c c c c c c c c c c i c c c c i c c c c c c c c c i c c c c i c c c c c c c c c c c c c i c c c c c\n",
      "Gold:         I would like to travel in July for two reasons . One's 's is because I totaly will have finished my exams by that time and the other the first two weeks will go to Farnborought is special 10 days the presentation the Air show and the delegation from my country will be there the delegation from my country will be there the delegation from my country will be there the delegation from my country will be there the delegation from my country will be there the delegation from my country will be there the delegation from my country will be there the delegation from my country will be there .\n",
      "Correction 1: I would like to travel in July for two reasons. One is because I will totally finish my exam on that date, and the other is that in the first two weeks I will go to Farnborough— it's a special 10-day Airshow with delegation from my country.\n",
      "Correction 2: I would like to travel in July for two reasons. One is because I will totally finish my exams on that date, and the other is that in the first two weeks I will go to Farnborough—is special 10 days the presentation the Air show and will be there the delegation from my country.\n",
      "Correction 3: I would like to travel in July for two reasons. One is because I will totally finish my exam on that date, and the other is that in the first two weeks I will go to Farnborough—special 10-day Air show with delegation from my country.\n",
      "Correction 4: I would like to travel in July for two reasons. One is because I will totally finish my exams on that date, and the other is that in the first two weeks I will go to Farnborough—is special 10 days the presentation of the Air show and will be there the delegation from my country.\n",
      "Correction 5: I would like to travel in July for two reasons. One is because I will totally finish my exam on that date, and the other is that in the first two weeks I will go to Farnborough—special 10-day Air show with delegations from my country.\n",
      "Error types:  ['RT', 'TV', 'NO_LABEL', 'FN', 'AGN', 'MP', 'W', 'RN']\n",
      "\n"
     ]
    },
    {
     "name": "stderr",
     "output_type": "stream",
     "text": [
      "\n"
     ]
    }
   ],
   "source": [
    "all_W_roberta_corrections_FN_FP = []\n",
    "\n",
    "for sentence in tqdm(roberta_fce_fn_fp_error_type['W']):\n",
    "    sentence_corrections = get_corrections_tokenized_with_labels_from_data_bert(sentence, client)\n",
    "    all_W_roberta_corrections_FN_FP.append(sentence_corrections)"
   ]
  },
  {
   "cell_type": "markdown",
   "id": "931dddc5-6cca-42ec-b84a-4229bb8ebcbd",
   "metadata": {},
   "source": [
    "# GENERATION FOR FP ONLY - FCE - ROBERTA"
   ]
  },
  {
   "cell_type": "code",
   "execution_count": 66,
   "id": "6669ccdb-0727-4e11-8914-d48f79fda454",
   "metadata": {
    "scrolled": true
   },
   "outputs": [
    {
     "name": "stderr",
     "output_type": "stream",
     "text": [
      "  1%|▎                                        | 1/129 [00:29<1:03:33, 29.79s/it]"
     ]
    },
    {
     "name": "stdout",
     "output_type": "stream",
     "text": [
      "\n",
      "Original:     Dear Principal , First of all , we would like to thank you for good programme which provides us 3 days stay in London .\n",
      "Gold labels:  c c c c c c c c c c c c c c i c c c c i c c c c c\n",
      "Pred labels:  c c c c c c c c c c c c c c i c c c c i i i c c c\n",
      "Gold:         Dear Principal , First of all , we would like to thank you for programme which provides us days stay in London .\n",
      "Correction 1: Dear Principal, First of all, we would like to thank you for the good programme which provides us with a 3-day stay in London.\n",
      "Correction 2: Dear Principal, First of all, we would like to thank you for the good programme that provides us with a 3-day stay in London.\n",
      "Correction 3: Dear Principal, First of all, we would like to thank you for the good programme providing us with a 3-day stay in London.\n",
      "Correction 4: Dear principal, first of all, we would like to thank you for the good programme which provides us with a 3-day stay in london.\n",
      "Correction 5: Dear principal, first of all, we would like to thank you for the good program which provides us with a 3-day stay in london.\n",
      "Error types:  ['NO_LABEL']\n",
      "\n"
     ]
    },
    {
     "name": "stderr",
     "output_type": "stream",
     "text": [
      "  2%|▋                                        | 2/129 [01:09<1:16:00, 35.91s/it]"
     ]
    },
    {
     "name": "stdout",
     "output_type": "stream",
     "text": [
      "\n",
      "Original:     However , we have found an advertisement for the London Fashion and Leisure show , which will be held at Central Exhibition Hall on 14th of March .\n",
      "Gold labels:  c c c c c c c c c c c c c c c c c c c c c c c c c c c c\n",
      "Pred labels:  c c c c c c c c c c c c c c c c c c c c i c c c i c c c\n",
      "Gold:         However , we have found an advertisement for the London Fashion and Leisure show , which will be held at Central Exhibition Hall on 14th of March .\n",
      "Correction 1: However, we have found an advertisement for the London Fashion and Leisure show, which will be held at Central Exhibition Hall on March 14th.\n",
      "Correction 2: However, we have found an advertisement for the London Fashion and Leisure Show, which will be held at the Central Exhibition Hall on 14th of March.\n",
      "Correction 3: However, we have found an advertisement for the London Fashion and Leisure Show, which will be held at the Central Exhibition Hall on March 14th.\n",
      "Correction 4: However, we have found an ad for the London Fashion and Leisure show, which will be held at Central Exhibition Hall on March 14th.\n",
      "Correction 5: However, we have found an ad for the London Fashion and Leisure show, which will be held at the Central Exhibition Hall on March 14th.\n",
      "Correction 6: (An empty line)\n",
      "Error types:  []\n",
      "\n"
     ]
    },
    {
     "name": "stderr",
     "output_type": "stream",
     "text": [
      "  2%|▉                                        | 3/129 [01:41<1:10:58, 33.80s/it]"
     ]
    },
    {
     "name": "stdout",
     "output_type": "stream",
     "text": [
      "\n",
      "Original:     50 years ago , Korean mothers should have made a fire by burning woods to warm a room up and make food .\n",
      "Gold labels:  c c c c c c c c c c c c c i c c c c c c c c c\n",
      "Pred labels:  c c c c c c c c c c c c c i c c c c c c i c c\n",
      "Gold:         50 years ago , Korean mothers should have made a fire by burning wood to warm a room up and make food .\n",
      "Correction 1: 50 years ago, Korean mothers should have made a fire by burning wood to warm a room up and cook food.\n",
      "Correction 2: 50 years ago, Korean mothers should have made a fire by burning woods to warm the room up and make food.\n",
      "Correction 3: 50 years ago, Korean mothers should have made a fire by burning wood to warm the room up and make food.\n",
      "Correction 4: 50 years ago, Korean mothers should have made a fire by burning woods to warm a room up and cook food.\n",
      "Correction 5: 50 years ago, Korean mothers should have made a fire by burning wood to keep a room warm and make food.\n",
      "Error types:  ['CN']\n",
      "\n"
     ]
    },
    {
     "name": "stderr",
     "output_type": "stream",
     "text": [
      "  3%|█▎                                       | 4/129 [02:08<1:04:52, 31.14s/it]"
     ]
    },
    {
     "name": "stdout",
     "output_type": "stream",
     "text": [
      "\n",
      "Original:     He / she can just press the button or send e - mail to operate what he / she needs , even though the owner is far from the house .\n",
      "Gold labels:  c c c c c c c c c c c c c c c c c c c c c c c c c c c c c c c\n",
      "Pred labels:  c c c c c c c c c c c c c c i c c c c c c c c c c c c c c c c\n",
      "Gold:         He / she can just press the button or send e - mail to operate what he / she needs , even though the owner is far from the house .\n",
      "Correction 1: He she can just press the button or send email to operate what he she needs even though the owner is far from the house\n",
      "Correction 2: He can just press the button or send email to operate what he needs even though the owner is far from the house\n",
      "Correction 3: He/she can just press the button or send e-mail to operate what he/she needs even though the owner is far from the house\n",
      "Correction 4: He/she can just press the button or send e-mail to operate what he/she needs even though the owner is near the house\n",
      "Correction 5: He/she can just press the button or send email to operate what he/she needs even though the owner is near the house\n",
      "Error types:  []\n",
      "\n"
     ]
    },
    {
     "name": "stderr",
     "output_type": "stream",
     "text": [
      "  4%|█▋                                         | 5/129 [02:19<49:33, 23.98s/it]"
     ]
    },
    {
     "name": "stdout",
     "output_type": "stream",
     "text": [
      "\n",
      "Original:     Please let me know if you are agree with us !\n",
      "Gold labels:  c c c c c c c c c c c\n",
      "Pred labels:  c c c c c c c i c c c\n",
      "Gold:         Please let me know if you are agree with us !\n",
      "Correction 1: Please let me know if you agree with us.\n",
      "Correction 2: Please let me know if you are agreed with us.\n",
      "Correction 3: Please let me know if you are in agreement with us.\n",
      "Correction 4: Please let me know if you are agree upon us.\n",
      "Correction 5: Please let me know if you are agrees with us.\n",
      "Error types:  []\n",
      "\n"
     ]
    },
    {
     "name": "stderr",
     "output_type": "stream",
     "text": [
      "  5%|██                                         | 6/129 [02:44<49:57, 24.37s/it]"
     ]
    },
    {
     "name": "stdout",
     "output_type": "stream",
     "text": [
      "\n",
      "Original:     However , our class has spotted an advertisement for the London Fashion and Leisure Show and would all wish to attend .\n",
      "Gold labels:  c c c c c c c c c c c c c c c c c c c c c c\n",
      "Pred labels:  c c c c c c c c c c c c c c c c c i c c c c\n",
      "Gold:         However , our class has spotted an advertisement for the London Fashion and Leisure Show and would all wish to attend .\n",
      "Correction 1: However, our class has spotted an advertisement for the London Fashion and Leisure Show and would all like to attend.\n",
      "Correction 2: However, our class has spotted an advertisement for the London Fashion and Leisure Show and would wish to attend.\n",
      "Correction 3: However, our class has spotted an ad for the London Fashion and Leisure Show and would all like to attend.\n",
      "Correction 4: However, our class has spotted an ad for the London Fashion and Leisure Show and would all like to attend.\n",
      "Correction 5: However, our class has spotted an advertisement for the London Fashion and Leisure Show and would like to attend.\n",
      "Error types:  []\n",
      "\n"
     ]
    },
    {
     "name": "stderr",
     "output_type": "stream",
     "text": [
      "  5%|██▏                                      | 7/129 [03:32<1:04:46, 31.86s/it]"
     ]
    },
    {
     "name": "stdout",
     "output_type": "stream",
     "text": [
      "\n",
      "Original:     This will be a great opportunity for us because we will be able to find out more about the people of London and their fashions and style we might also get a change to meet new people and interest with them .\n",
      "Gold labels:  c c c c c c c c c c c c c c c c c c c c c c c c c c c i c c c c i c c c c c i c c c\n",
      "Pred labels:  c c c c c c c c c c c c c c c c c c c c c c c c c c c i c c c c i i c c c c i c c c\n",
      "Gold:         This will be a great opportunity for us because we will be able to find out more about the people of London and their fashions and style . We might also get a chance to meet new people and interact with them .\n",
      "Correction 1: This will be a great opportunity for us because we will be able to find out more about the people of London and their fashions and styles.\n",
      "Correction 2: We might also get the chance to meet new people and share our interests with them.\n",
      "Correction 3: This will be a great opportunity for us because we will be able to find out more about the people of London and their fashions and styles. We might also get a chance to meet new people and discuss our interests with them.\n",
      "Correction 4: This will be a great opportunity for us because we will be able to find out more about the people of London and their fashions and styles. We might also get a chance to meet new people and learn about their interests.\n",
      "Correction 5: This will be a great opportunity for us because we will be able to find out more about the people of London and their fashions and styles. We might also have the chance to meet new people and engage with them.\n",
      "Correction 6: This is the maximum number of unique corrections possible while adhering to the given instructions.\n",
      "Error types:  ['RN', 'MP', 'RV']\n",
      "\n"
     ]
    },
    {
     "name": "stderr",
     "output_type": "stream",
     "text": [
      "  6%|██▌                                      | 8/129 [04:05<1:05:14, 32.35s/it]"
     ]
    },
    {
     "name": "stdout",
     "output_type": "stream",
     "text": [
      "\n",
      "Original:     We might not need maids to do housework anymore as they can easily be replaced with a robot , a machine , or something other with the same purpose .\n",
      "Gold labels:  c c c c c c c c c c c c c c c c c c c c c c c c i c c c c c\n",
      "Pred labels:  c c c c c c c c c c c c c c c c c c c c c c c i i c c c c c\n",
      "Gold:         We might not need maids to do housework anymore as they can easily be replaced with a robot , a machine , or something else with the same purpose .\n",
      "Correction 1: We might not need maids to do housework anymore as they can easily be replaced with a robot, a machine, or something else with the same purpose.\n",
      "Correction 2: We might not need maids to do housework anymore as they can be easily replaced with a robot, a machine, or something else with the same purpose.\n",
      "Correction 3: We might not need maids to do housework anymore as they can easily be replaced with a robot, a machine, or something similar with the same purpose.\n",
      "Correction 4: We might not need maids to do housework anymore as they can easily be replaced by a robot, a machine, or something else with the same purpose.\n",
      "Correction 5: We might not need maids to do housework anymore as they can easily be replaced with robots, machines, or something else with the same purpose.\n",
      "Error types:  ['R']\n",
      "\n"
     ]
    },
    {
     "name": "stderr",
     "output_type": "stream",
     "text": [
      "  7%|██▊                                      | 9/129 [04:52<1:14:09, 37.08s/it]"
     ]
    },
    {
     "name": "stdout",
     "output_type": "stream",
     "text": [
      "\n",
      "Original:     The biggest commercial gain in history I believe , but celebrities are not animals although they may be sometimes treated the same way .\n",
      "Gold labels:  c c c c c c c c c c c c c c c c c c c c c c c c\n",
      "Pred labels:  c c c c c c c c c c c c c c c c c i i c c c c c\n",
      "Gold:         The biggest commercial gain in history I believe , but celebrities are not animals although they may be sometimes treated the same way .\n",
      "Correction 1: The biggest commercial gain in history, I believe, but celebrities are not animals, although they may be treated the same way sometimes.\n",
      "Correction 2: The biggest commercial gain in history, I believe, but celebrities are not animals although they may be sometimes treated the same way.\n",
      "Correction 3: The biggest commercial gain in history, I believe but celebrities are not animals although they may be sometimes treated the same way.\n",
      "Correction 4: The biggest commercial gain in history, I believe but celebrities are not animals although they may be treated the same way sometimes.\n",
      "Correction 5: The biggest commercial gain in history, I believe; but celebrities are not animals although they may be sometimes treated the same way.\n",
      "Correction 6: Note: The fifth line is a semicolon-separated version which was included to meet the requirement of up to five corrected versions. However, with the given sentence structure and meaning, there might not be enough unique ways to correct it while following all the specified rules.\n",
      "Error types:  []\n",
      "\n"
     ]
    },
    {
     "name": "stderr",
     "output_type": "stream",
     "text": [
      "  8%|███                                     | 10/129 [05:28<1:12:52, 36.75s/it]"
     ]
    },
    {
     "name": "stdout",
     "output_type": "stream",
     "text": [
      "\n",
      "Original:     To sum up , I believe that everyone has the right to keep privacy of their own homes and even someone extremely famous deserve to have a private life .\n",
      "Gold labels:  c c c c c c c c c c c c c i c c c c c c c c c i c c c c c c\n",
      "Pred labels:  c c c c c c c c c c c c c i i c c c c c c c c i c c c c c c\n",
      "Gold:         To sum up , I believe that everyone has the right to keep of their own homes and even someone extremely famous deserves to have a private life .\n",
      "Correction 1: To sum up, I believe that everyone has the right to keep the privacy of their own homes and even someone extremely famous deserves to have a private life.\n",
      "Correction 2: To sum up, I believe that everyone has the right to maintain the privacy of their own homes and even someone extremely famous deserves to have a private life.\n",
      "Correction 3: To sum up, I believe that everyone has the right to preserve the privacy of their own homes and even someone extremely famous deserves to have a private life.\n",
      "Correction 4: To sum up, I believe that everyone has the right to protect the privacy of their own homes and even someone extremely famous deserves to have a private life.\n",
      "Correction 5: To sum up, I believe that everyone has the right to maintain their own home's privacy and even someone extremely famous deserves to have a private life.\n",
      "Error types:  ['NO_LABEL', 'AGV']\n",
      "\n"
     ]
    },
    {
     "name": "stderr",
     "output_type": "stream",
     "text": [
      "  9%|███▍                                    | 11/129 [05:54<1:05:41, 33.40s/it]"
     ]
    },
    {
     "name": "stdout",
     "output_type": "stream",
     "text": [
      "\n",
      "Original:     If the famous person does n't mind in being filmed in his personal life there 's no problem .\n",
      "Gold labels:  c c c c c c c c c c c c c c c c c c c\n",
      "Pred labels:  c c c c c c c i c c i c c c c c c c c\n",
      "Gold:         If the famous person does n't mind in being filmed in his personal life there 's no problem .\n",
      "Correction 1: If the famous person doesn't mind being filmed in his personal life, there's no problem.\n",
      "Correction 2: If the famous person does not mind being filmed in his personal life there is no problem.\n",
      "Correction 3: If the famous person doesn't mind being filmed in his personal life there is no problem.\n",
      "Correction 4: If the famous person does n't mind being filmed in his personal life there is no problem.\n",
      "Correction 5: If a famous person does n't mind being filmed in his personal life there is no problem.\n",
      "Error types:  []\n",
      "\n"
     ]
    },
    {
     "name": "stderr",
     "output_type": "stream",
     "text": [
      "  9%|███▉                                      | 12/129 [06:11<55:26, 28.43s/it]"
     ]
    },
    {
     "name": "stdout",
     "output_type": "stream",
     "text": [
      "\n",
      "Original:     We also can suggest how the originally programme can be changed .\n",
      "Gold labels:  c i i c c c i c c c c c\n",
      "Pred labels:  c i i c c c i i c c c c\n",
      "Gold:         We can also can also suggest how the original programme can be changed .\n",
      "Correction 1: We also can suggest how the original program can be changed.\n",
      "Correction 2: We can also suggest how the originally programmed can be changed.\n",
      "Correction 3: We can also suggest how the original programme can be changed.\n",
      "Correction 4: We can also suggest how the original program can be changed.\n",
      "Correction 5: We also can suggest how the original program can be changed.\n",
      "Error types:  ['DJ', 'W']\n",
      "\n"
     ]
    },
    {
     "name": "stderr",
     "output_type": "stream",
     "text": [
      " 10%|████▏                                     | 13/129 [06:18<42:27, 21.96s/it]"
     ]
    },
    {
     "name": "stdout",
     "output_type": "stream",
     "text": [
      "\n",
      "Original:     And checking his body condition .\n",
      "Gold labels:  c i c c c c\n",
      "Pred labels:  c i c i i c\n",
      "Gold:         And checked his body condition .\n",
      "Correction 1: And checking his body condition.\n",
      "Correction 2: And his checking body condition.\n",
      "Correction 3: And check his body condition.\n",
      "Correction 4: And checking the body condition.\n",
      "Correction 5: And checking his condition.\n",
      "Error types:  ['TV']\n",
      "\n"
     ]
    },
    {
     "name": "stderr",
     "output_type": "stream",
     "text": [
      " 11%|████▌                                     | 14/129 [07:02<54:47, 28.58s/it]"
     ]
    },
    {
     "name": "stdout",
     "output_type": "stream",
     "text": [
      "\n",
      "Original:     Now about your questions , it is very difficult for me to give any advice you about it , I do n't know your cousin very well so I do n't know what she prefers reading .\n",
      "Gold labels:  c c c c c c c c c c c c c c c c c c c c c c c c c c c c c c c c c c c c c\n",
      "Pred labels:  c c c c c c c c c c c c c c c i c c c c c c c c c c c c c c c c c c c c c\n",
      "Gold:         Now about your questions , it is very difficult for me to give any advice you about it , I do n't know your cousin very well so I do n't know what she prefers reading .\n",
      "Correction 1: Now about your questions, it is very difficult for me to give you any advice about it. I don't know your cousin very well so I don't know what she prefers reading.\n",
      "Correction 2: Now about your questions, it is very difficult for me to give any advice about it. I don't know your cousin very well so I don't know what she prefers reading.\n",
      "Correction 3: Now about your questions, it is very difficult for me to give you any advice about it. I don't know what she prefers reading.\n",
      "Correction 4: Now about your questions, it is very difficult for me to give you any advice. I don't know your cousin very well so I don't know what she prefers reading.\n",
      "Correction 5: Now about your questions, it is very difficult for me to give you any advice. I don't know your cousin very well and I don't know what she prefers reading.\n",
      "Error types:  []\n",
      "\n"
     ]
    },
    {
     "name": "stderr",
     "output_type": "stream",
     "text": [
      " 12%|████▉                                     | 15/129 [07:23<49:33, 26.08s/it]"
     ]
    },
    {
     "name": "stdout",
     "output_type": "stream",
     "text": [
      "\n",
      "Original:     Working long hours , doing plenty of activieties , going out , going on holidays .\n",
      "Gold labels:  c c c c c c c i c c c c c c c c\n",
      "Pred labels:  c c c c c c c i c c c c c c i c\n",
      "Gold:         Working long hours , doing plenty of activities , going out , going on holidays .\n",
      "Correction 1: Working long hours, doing plenty of activities, going out, going on holidays.\n",
      "Correction 2: Working long hours, doing plenty of activities, going out, taking holidays.\n",
      "Correction 3: Working long hours, doing plenty of activities, going out, going on vacation.\n",
      "Correction 4: Working long hours, doing plenty of activities, going out, going on holiday.\n",
      "Correction 5: Working long hours, doing plenty of activities, going out, going on vacations.\n",
      "Error types:  ['S']\n",
      "\n"
     ]
    },
    {
     "name": "stderr",
     "output_type": "stream",
     "text": [
      " 12%|█████▏                                    | 16/129 [07:38<43:19, 23.00s/it]"
     ]
    },
    {
     "name": "stdout",
     "output_type": "stream",
     "text": [
      "\n",
      "Original:     Okay , I hope to have news from you very soon .\n",
      "Gold labels:  c c c c c c c c c c c c\n",
      "Pred labels:  c c c c c c i c c c c c\n",
      "Gold:         Okay , I hope to have news from you very soon .\n",
      "Correction 1: Okay, I hope to have news from you very soon.\n",
      "Correction 2: Okay, I hope to hear from you very soon.\n",
      "Correction 3: Okay, I hope to receive news from you soon.\n",
      "Correction 4: Okay, I hope to get news from you soon.\n",
      "Correction 5: Okay, I hope to be informed by you soon.\n",
      "Error types:  []\n",
      "\n"
     ]
    },
    {
     "name": "stderr",
     "output_type": "stream",
     "text": [
      " 13%|█████▌                                    | 17/129 [08:20<53:21, 28.59s/it]"
     ]
    },
    {
     "name": "stdout",
     "output_type": "stream",
     "text": [
      "\n",
      "Original:     Secondly , the show started at 20:15 instead of 19:30 , it 's a theatre but not a concert hall ! ! ! !\n",
      "Gold labels:  c c c c c c c c c c c c c c c c c c c c c c c c\n",
      "Pred labels:  c c c c c c c c c c i i c c c c c c c c c c c c\n",
      "Gold:         Secondly , the show started at 20:15 instead of 19:30 , it 's a theatre but not a concert hall ! ! ! !\n",
      "Correction 1: Secondly, the show started at 20:15 instead of 19:30. It's a theatre but not a concert hall!!!\n",
      "Correction 2: Secondly, the show started at 20:15 instead of 19:30. It's a theatre but not a concert hall!\n",
      "Correction 3: Secondly, the show started at 20:15 instead of 19:30. It's a theatre but not a concert hall\n",
      "Correction 4: Secondly, the show started at 20:15 instead of 19:30; it's a theatre but not a concert hall!!!\n",
      "Correction 5: Secondly, the show started at 20:15 instead of 19:30; it's a theatre but not a concert hall!\n",
      "Error types:  []\n",
      "\n"
     ]
    },
    {
     "name": "stderr",
     "output_type": "stream",
     "text": [
      " 14%|█████▊                                    | 18/129 [08:53<55:38, 30.08s/it]"
     ]
    },
    {
     "name": "stdout",
     "output_type": "stream",
     "text": [
      "\n",
      "Original:     Firstly , I have had no discount at paying . secondly there was delay which got me into trouble , After the show I could n't catch my train .\n",
      "Gold labels:  c c c c c c c i i c i c c i c c c c c c c c c c c c c c c c\n",
      "Pred labels:  c c c i c c c i i c i c c i c c c c c c c c c c c c c c c c\n",
      "Gold:         Firstly , I have had no discount when I paid . Secondly there was which got me into trouble , After the show I could n't catch my train .\n",
      "Correction 1: Firstly, I have had no discount when paying.\n",
      "Correction 2: Secondly, there was a delay which got me into trouble. After the show, I couldn't catch my train.\n",
      "Correction 3: Firstly, I did not receive any discount when making payment.\n",
      "Correction 4: Secondly, there was a delay that caused problems for me. After the performance, I was unable to board my train.\n",
      "Correction 5: I have never received any discount while paying. Secondly, there was a delay which caused trouble. After the show, I failed to catch my train.\n",
      "Correction 6: Firstly, I did not get any discount when paying. Secondly, there was a delay that got me into trouble. After the performance, I could not catch my train.\n",
      "Error types:  ['NO_LABEL', 'R', 'TV', 'RP']\n",
      "\n"
     ]
    },
    {
     "name": "stderr",
     "output_type": "stream",
     "text": [
      " 15%|██████▏                                   | 19/129 [09:07<45:51, 25.01s/it]"
     ]
    },
    {
     "name": "stdout",
     "output_type": "stream",
     "text": [
      "\n",
      "Original:     I could n't consentrate on the play any more .\n",
      "Gold labels:  c c c i c c c c c c\n",
      "Pred labels:  c c c i i c c c c c\n",
      "Gold:         I could n't concentrate on the play any more .\n",
      "Correction 1: I couldn't concentrate on the play any more.\n",
      "Correction 2: I couldn't consentrate on the play anymore.\n",
      "Correction 3: I couldn't consentrate on the play any more.\n",
      "Correction 4: I could not consentrate on the play any more.\n",
      "Correction 5: I could n't concentrate on the play anymore.\n",
      "Error types:  ['S']\n",
      "\n"
     ]
    },
    {
     "name": "stderr",
     "output_type": "stream",
     "text": [
      " 16%|██████▌                                   | 20/129 [09:20<39:14, 21.60s/it]"
     ]
    },
    {
     "name": "stdout",
     "output_type": "stream",
     "text": [
      "\n",
      "Original:     There has been change relatinships between people .\n",
      "Gold labels:  c c c i i c c c\n",
      "Pred labels:  c i c i i c c c\n",
      "Gold:         There has been relationships between people .\n",
      "Correction 1: There has been a change in relationships between people.\n",
      "Correction 2: There has been changes in relationships between people.\n",
      "Correction 3: There has been changes relating to relationships between people.\n",
      "Correction 4: There has been a change in relationships among people.\n",
      "Correction 5: There has been a change in the relationships between people.\n",
      "Error types:  ['NO_LABEL', 'S']\n",
      "\n"
     ]
    },
    {
     "name": "stderr",
     "output_type": "stream",
     "text": [
      " 16%|██████▊                                   | 21/129 [09:36<35:50, 19.91s/it]"
     ]
    },
    {
     "name": "stdout",
     "output_type": "stream",
     "text": [
      "\n",
      "Original:     In my opinion , the morden technology make our life style combinient .\n",
      "Gold labels:  c c c c c i c i c c c i c\n",
      "Pred labels:  c c c c c i c i c i i i c\n",
      "Gold:         In my opinion , the modern technology makes our life style convenient .\n",
      "Correction 1: In my opinion, modern technology makes our lifestyle convenient.\n",
      "Correction 2: In my opinion, the modern technology makes our life convenient.\n",
      "Correction 3: In my opinion, modern technology makes our lives convenient.\n",
      "Correction 4: In my opinion, modern technologies make our lifestyles convenient.\n",
      "Correction 5: In my opinion, the modern technology makes our living convenient.\n",
      "Error types:  ['AGV', 'S']\n",
      "\n"
     ]
    },
    {
     "name": "stderr",
     "output_type": "stream",
     "text": [
      " 17%|███████▏                                  | 22/129 [10:13<44:19, 24.86s/it]"
     ]
    },
    {
     "name": "stdout",
     "output_type": "stream",
     "text": [
      "\n",
      "Original:     I was promised that the starring was Danny Brock but when I was there I saw just other starring that was completely difference from your brochar .\n",
      "Gold labels:  c c c c c i c c c c c c c c c c c i i c c c i c c i c\n",
      "Pred labels:  c c c c c i c c c c c c c c c c c i i c c i i c c i c\n",
      "Gold:         I was promised that the star was Danny Brock but when I was there I saw just another star that was completely different from your brochure .\n",
      "Correction 1: I was promised that the starring role was Danny Brock, but when I was there, I saw just other stars that were completely different from your brochar.\n",
      "Correction 2: I was promised that the starring role was Danny Brock, but when I was there, I saw just other starring roles that were completely different from your brochar.\n",
      "Correction 3: I was promised that the starring was Danny Brock, but when I was there, I saw just other stars that were completely different from your Brock.\n",
      "Correction 4: I was promised that the starring was Danny Brock, but when I was there, I saw just other starring that was completely different from your Brock.\n",
      "Correction 5: I was promised that the starring was Danny Brock, but when I was there, I saw just other starring that was completely difference from your Brock.\n",
      "Error types:  ['RQ', 'DN', 'S', 'DJ']\n",
      "\n"
     ]
    },
    {
     "name": "stderr",
     "output_type": "stream",
     "text": [
      " 18%|███████▍                                  | 23/129 [10:15<32:07, 18.18s/it]"
     ]
    },
    {
     "name": "stdout",
     "output_type": "stream",
     "text": [
      "\n",
      "Original:     I had to pay full prise .\n",
      "Gold labels:  c c c c c i c\n",
      "Pred labels:  c c c c i i c\n",
      "Gold:         I had to pay full price .\n",
      "Correction 1: I had to pay full price .\n",
      "Error types:  ['S']\n",
      "\n"
     ]
    },
    {
     "name": "stderr",
     "output_type": "stream",
     "text": [
      " 19%|███████▊                                  | 24/129 [10:43<36:32, 20.88s/it]"
     ]
    },
    {
     "name": "stdout",
     "output_type": "stream",
     "text": [
      "\n",
      "Original:     I would like you to give my money back as soon as possible .\n",
      "Gold labels:  c c c c c c c c c c c c c c\n",
      "Pred labels:  c c c c c c i c c c c c c c\n",
      "Gold:         I would like you to give my money back as soon as possible .\n",
      "Correction 1: I would like you to give me my money back as soon as possible.\n",
      "Correction 2: I would like you to return my money as soon as possible.\n",
      "Correction 3: I would like you to give my money back尽快.\n",
      "Correction 4: I would like you to give back my money as soon as possible.\n",
      "Correction 5: I would like you to give my money as soon as possible.\n",
      "Correction 6: Note: The third output is an attempt at a correction, but it uses non-English characters which might not be what was intended. If the intention was to use English, this version may need further clarification or correction.\n",
      "Error types:  []\n",
      "\n"
     ]
    },
    {
     "name": "stderr",
     "output_type": "stream",
     "text": [
      " 19%|████████▏                                 | 25/129 [11:22<45:49, 26.44s/it]"
     ]
    },
    {
     "name": "stdout",
     "output_type": "stream",
     "text": [
      "\n",
      "Original:     Second of all , the play was suposed to start at 19:30 , but it started at 20:15 .\n",
      "Gold labels:  c c c c c c c i c c c c c c c c c c c\n",
      "Pred labels:  i i i c c c c i c c c c c c c c c c c\n",
      "Gold:         Second of all , the play was supposed to start at 19:30 , but it started at 20:15 .\n",
      "Correction 1: Second of all, the play was supposed to start at 19:30, but it started at 20:15.\n",
      "Correction 2: Second of all, the play was supposed to start at 19:30, but it didn't start until 20:15.\n",
      "Correction 3: The second point is that the play was supposed to start at 19:30, but it started at 20:15.\n",
      "Correction 4: The second point is that the play was supposed to start at 19:30, but it didn't start until 20:15.\n",
      "Correction 5: Second, the play was supposed to start at 19:30, but it started at 20:15.\n",
      "Error types:  ['S']\n",
      "\n"
     ]
    },
    {
     "name": "stderr",
     "output_type": "stream",
     "text": [
      " 20%|████████▍                                 | 26/129 [11:36<39:02, 22.74s/it]"
     ]
    },
    {
     "name": "stdout",
     "output_type": "stream",
     "text": [
      "\n",
      "Original:     Pat was worried , she did n't know what to do .\n",
      "Gold labels:  c c c c c c c c c c c c\n",
      "Pred labels:  c c c i i c c c c c c c\n",
      "Gold:         Pat was worried , she did n't know what to do .\n",
      "Correction 1: Pat was worried. She didn't know what to do.\n",
      "Correction 2: Pat was worried, but she didn't know what to do.\n",
      "Correction 3: Pat was worried; she didn't know what to do.\n",
      "Correction 4: Pat was worried: she didn't know what to do.\n",
      "Correction 5: Pat was worried. Didn't know what to do.\n",
      "Error types:  []\n",
      "\n"
     ]
    },
    {
     "name": "stderr",
     "output_type": "stream",
     "text": [
      " 21%|████████▊                                 | 27/129 [11:42<30:05, 17.70s/it]"
     ]
    },
    {
     "name": "stdout",
     "output_type": "stream",
     "text": [
      "\n",
      "Original:     Apologise me for disturb .\n",
      "Gold labels:  c c c c c\n",
      "Pred labels:  c i c i c\n",
      "Gold:         Apologise me for disturb .\n",
      "Correction 1: Apologize to me for disturbing.\n",
      "Correction 2: 道歉给我因为打扰了。\n",
      "Correction 3: Sorry for disturbing you.\n",
      "Correction 4: Sorry for disturb.\n",
      "Error types:  []\n",
      "\n"
     ]
    },
    {
     "name": "stderr",
     "output_type": "stream",
     "text": [
      " 22%|█████████                                 | 28/129 [12:00<29:59, 17.82s/it]"
     ]
    },
    {
     "name": "stdout",
     "output_type": "stream",
     "text": [
      "\n",
      "Original:     Everything was set ... the day and hour came .\n",
      "Gold labels:  c c c c c c c c c c\n",
      "Pred labels:  c c c c c c c i c c\n",
      "Gold:         Everything was set ... the day and hour came .\n",
      "Correction 1: Everything was set. The day and hour came.\n",
      "Correction 2: Everything was set. On the day and hour, it came.\n",
      "Correction 3: Everything was set; the day and hour arrived.\n",
      "Correction 4: Everything was set: the day and hour came.\n",
      "Correction 5: Everything was set... Then the day and hour came.\n",
      "Correction 6: Note: The fifth line is an additional unique correction to meet the requirement of up to five corrected versions.\n",
      "Error types:  []\n",
      "\n"
     ]
    },
    {
     "name": "stderr",
     "output_type": "stream",
     "text": [
      " 22%|█████████▍                                | 29/129 [12:31<36:09, 21.70s/it]"
     ]
    },
    {
     "name": "stdout",
     "output_type": "stream",
     "text": [
      "\n",
      "Original:     There are some machines which have helped in my development , and others which help me to make my life easier .\n",
      "Gold labels:  c c c c c c c c c c c c c c c c c c c c c c\n",
      "Pred labels:  c c c c c c c i c c c c c c c c c c c c c c\n",
      "Gold:         There are some machines which have helped in my development , and others which help me to make my life easier .\n",
      "Correction 1: There are some machines that have helped in my development, and others that help me to make my life easier.\n",
      "Correction 2: There are some machines which have helped in my development, and others which help me to make my life easier.\n",
      "Correction 3: There are some machines which have helped in my development and others which help me to make my life easier.\n",
      "Correction 4: There are some machines which have helped in my development, and others that help me make my life easier.\n",
      "Correction 5: There are some machines which have helped in my development, and others which help me make my lives easier.\n",
      "Error types:  []\n",
      "\n"
     ]
    },
    {
     "name": "stderr",
     "output_type": "stream",
     "text": [
      " 23%|█████████▊                                | 30/129 [12:53<36:11, 21.94s/it]"
     ]
    },
    {
     "name": "stdout",
     "output_type": "stream",
     "text": [
      "\n",
      "Original:     Firs of all Internet gives you an access to a great number of different information .\n",
      "Gold labels:  i c c i c c c c c c c c c c c c\n",
      "Pred labels:  i c c i i c c c c c c c c c c c\n",
      "Gold:         First of all gives you an access to a great number of different information .\n",
      "Correction 1: First of all, the Internet gives you access to a great number of different kinds of information.\n",
      "Correction 2: First of all, the Internet gives you access to a great deal of different information.\n",
      "Correction 3: First of all, the Internet gives you access to a vast amount of different information.\n",
      "Correction 4: First of all, the Internet provides you with access to a great number of different information.\n",
      "Correction 5: The Internet gives you access to a great number of different information.\n",
      "Error types:  ['SX', 'NO_LABEL']\n",
      "\n"
     ]
    },
    {
     "name": "stderr",
     "output_type": "stream",
     "text": [
      " 24%|██████████                                | 31/129 [13:08<32:12, 19.72s/it]"
     ]
    },
    {
     "name": "stdout",
     "output_type": "stream",
     "text": [
      "\n",
      "Original:     I would like to complain about the show which you presented on last saturday .\n",
      "Gold labels:  c c c c c c c c c c c c c i c\n",
      "Pred labels:  c c c c c c c c c c i c c i c\n",
      "Gold:         I would like to complain about the show which you presented on last Saturday .\n",
      "Correction 1: I would like to complain about the show which you presented last Saturday.\n",
      "Correction 2: I would like to complain about the show that you presented on last Saturday.\n",
      "Correction 3: I would like to complain about the show which you presented on Saturday.\n",
      "Correction 4: I would like to complain about the show which you presented last Saturday.\n",
      "Correction 5: I would like to complain about the show which you presented on last Saturday.\n",
      "Error types:  ['RP']\n",
      "\n"
     ]
    },
    {
     "name": "stderr",
     "output_type": "stream",
     "text": [
      " 25%|██████████▍                               | 32/129 [13:28<32:00, 19.79s/it]"
     ]
    },
    {
     "name": "stdout",
     "output_type": "stream",
     "text": [
      "\n",
      "Original:     There was a not on the door saying that the painting was going on the weekend .\n",
      "Gold labels:  c c c i c c c c c c c c c c i c c\n",
      "Pred labels:  c c c i c c c c c c c c c i i c c\n",
      "Gold:         There was a note on the door saying that the painting was going on that weekend .\n",
      "Correction 1: There was a notice on the door saying that the painting would go on the weekend.\n",
      "Correction 2: There was a note on the door saying that the painting was going over the weekend.\n",
      "Correction 3: There was a no on the door saying that the painting was going on the weekend.\n",
      "Correction 4: There was a not on the door saying that the painting was going this weekend.\n",
      "Correction 5: There was a notice on the door saying that the painting would go on the coming weekend.\n",
      "Error types:  ['RD', 'SX']\n",
      "\n"
     ]
    },
    {
     "name": "stderr",
     "output_type": "stream",
     "text": [
      " 26%|██████████▋                               | 33/129 [13:45<30:25, 19.02s/it]"
     ]
    },
    {
     "name": "stdout",
     "output_type": "stream",
     "text": [
      "\n",
      "Original:     Finally the sentence was written blow down on the advertisement was absolutely not true .\n",
      "Gold labels:  c c c i c c c c c c c c c c c\n",
      "Pred labels:  c c c i c i c i c c c c c c c\n",
      "Gold:         Finally the sentence written blow down on the advertisement was absolutely not true .\n",
      "Correction 1: Finally the sentence was written below down on the advertisement was absolutely not true.\n",
      "Correction 2: Finally the sentence was written below on the advertisement was absolutely not true.\n",
      "Correction 3: Finally the sentence was written blow on the advertisement was absolutely not true.\n",
      "Correction 4: Finally the sentence was written below down on the advertisement is absolutely not true.\n",
      "Correction 5: Finally the sentence was written below on the advertisement is absolutely not true.\n",
      "Error types:  ['NO_LABEL']\n",
      "\n"
     ]
    },
    {
     "name": "stderr",
     "output_type": "stream",
     "text": [
      " 26%|███████████                               | 34/129 [14:08<32:09, 20.31s/it]"
     ]
    },
    {
     "name": "stdout",
     "output_type": "stream",
     "text": [
      "\n",
      "Original:     It took quite long time to adjust in the multi culture in the language institue .\n",
      "Gold labels:  c c c i c c c i c c c c c c i c\n",
      "Pred labels:  c c c i c c c i c i i c c c i c\n",
      "Gold:         It took quite time to adjust to the multi culture in the language institute .\n",
      "Correction 1: It took quite a long time to adjust in the multicultural environment at the language institute.\n",
      "Correction 2: It took quite a long time to adjust to the multi-culture at the language institute.\n",
      "Correction 3: It took quite a long time to adjust to the multicultural environment at the language institute.\n",
      "Correction 4: It took quite a long time to adjust to the multi-culture in the language institute.\n",
      "Correction 5: It took quite a long time to adjust to the multicultural environment.\n",
      "Error types:  ['NO_LABEL', 'S', 'RT']\n",
      "\n"
     ]
    },
    {
     "name": "stderr",
     "output_type": "stream",
     "text": [
      " 27%|███████████▍                              | 35/129 [14:27<30:54, 19.72s/it]"
     ]
    },
    {
     "name": "stdout",
     "output_type": "stream",
     "text": [
      "\n",
      "Original:     One day she realized that I was always been outside of circle .\n",
      "Gold labels:  c c c c c c c c c c c i c\n",
      "Pred labels:  c c c c c c c c i c c i c\n",
      "Gold:         One day she realized that I was always been outside of .\n",
      "Correction 1: One day she realized that I was always outside the circle.\n",
      "Correction 2: One day she realized that I had always been outside of the circle.\n",
      "Correction 3: One day she realized that I was always outside the circle .\n",
      "Correction 4: One day she realized that I was always outside the circle.\n",
      "Correction 5: One day she realized that I was always been outside the circle.\n",
      "Error types:  ['NO_LABEL']\n",
      "\n"
     ]
    },
    {
     "name": "stderr",
     "output_type": "stream",
     "text": [
      " 28%|███████████▋                              | 36/129 [14:48<31:11, 20.12s/it]"
     ]
    },
    {
     "name": "stdout",
     "output_type": "stream",
     "text": [
      "\n",
      "Original:     So , I had no perfect evening out and I want my money back .\n",
      "Gold labels:  c c c c c c c c c c c c c c c\n",
      "Pred labels:  c c c c i c c c c c c c c c c\n",
      "Gold:         So , I had no perfect evening out and I want my money back .\n",
      "Correction 1: So, I had no perfect evening out and I want my money back.\n",
      "Correction 2: So, I didn't have a perfect evening out and I want my money back.\n",
      "Correction 3: So, I had no perfect night out and I want my money back.\n",
      "Correction 4: So, I had no perfect outing and I want my money back.\n",
      "Correction 5: So, I didn't have a perfect evening out and I want a refund.\n",
      "Error types:  []\n",
      "\n"
     ]
    },
    {
     "name": "stderr",
     "output_type": "stream",
     "text": [
      " 29%|████████████                              | 37/129 [15:12<32:46, 21.38s/it]"
     ]
    },
    {
     "name": "stdout",
     "output_type": "stream",
     "text": [
      "\n",
      "Original:     When Thomas Adison invented an electric light , it was the greatest invention for people of that centure .\n",
      "Gold labels:  c c c c c c c c c c c c c c c c c i c\n",
      "Pred labels:  c c c c c c c c c c c c c c c i c i c\n",
      "Gold:         When Thomas Adison invented an electric light , it was the greatest invention for people of that century .\n",
      "Correction 1: When Thomas Edison invented an electric light, it was the greatest invention for people of that century.\n",
      "Correction 2: When Thomas Edison invented an electric light, it was the greatest invention for people in that century.\n",
      "Correction 3: When Thomas Edison invented an electric light, it was the greatest invention for people during that century.\n",
      "Correction 4: When Thomas Edison invented an electric light, it was the greatest invention for people of that time.\n",
      "Correction 5: When Thomas Edison invented an electric light, it was the greatest invention for people at that time.\n",
      "Error types:  ['S']\n",
      "\n"
     ]
    },
    {
     "name": "stderr",
     "output_type": "stream",
     "text": [
      " 29%|████████████▎                             | 38/129 [15:29<30:32, 20.13s/it]"
     ]
    },
    {
     "name": "stdout",
     "output_type": "stream",
     "text": [
      "\n",
      "Original:     On the other hand people can atrophided of all this inventions .\n",
      "Gold labels:  c c c c c c c c c i c c\n",
      "Pred labels:  c c c c c c i c c i c c\n",
      "Gold:         On the other hand people can atrophided of all these inventions .\n",
      "Correction 1: On the other hand, people can atrophy from all these inventions.\n",
      "Correction 2: On the other hand, people can atrophied by all these inventions.\n",
      "Correction 3: On the other hand, people can be atrophided by all this inventions.\n",
      "Correction 4: On the other hand, people can atrophy from all this inventions.\n",
      "Correction 5: On the other hand, people can atrophy from all these inventions.\n",
      "Error types:  ['AGD']\n",
      "\n"
     ]
    },
    {
     "name": "stderr",
     "output_type": "stream",
     "text": [
      " 30%|████████████▋                             | 39/129 [15:33<22:38, 15.09s/it]"
     ]
    },
    {
     "name": "stdout",
     "output_type": "stream",
     "text": [
      "\n",
      "Original:     The technology is growing and growing .\n",
      "Gold labels:  c c c c c c c\n",
      "Pred labels:  i i c c c c c\n",
      "Gold:         The technology is growing and growing .\n",
      "Correction 1: The technology is growing rapidly.\n",
      "Correction 2: The technology is growing and growing.\n",
      "Error types:  []\n",
      "\n"
     ]
    },
    {
     "name": "stderr",
     "output_type": "stream",
     "text": [
      " 31%|█████████████                             | 40/129 [15:42<19:38, 13.24s/it]"
     ]
    },
    {
     "name": "stdout",
     "output_type": "stream",
     "text": [
      "\n",
      "Original:     The new technology is changing our lives .\n",
      "Gold labels:  c c c c c c c c\n",
      "Pred labels:  i i c c c c c c\n",
      "Gold:         The new technology is changing our lives .\n",
      "Correction 1: The new technology is changing our lives.\n",
      "Correction 2: The new technology changes our lives.\n",
      "Correction 3: New technology is changing our lives.\n",
      "Correction 4: The technology is changing our lives.\n",
      "Correction 5: New technologies are changing our lives.\n",
      "Error types:  []\n",
      "\n"
     ]
    },
    {
     "name": "stderr",
     "output_type": "stream",
     "text": [
      " 32%|█████████████▎                            | 41/129 [16:01<21:59, 15.00s/it]"
     ]
    },
    {
     "name": "stdout",
     "output_type": "stream",
     "text": [
      "\n",
      "Original:     First day in London , I saw your advertisement which was very interesting to me .\n",
      "Gold labels:  i c c c c c c c c c c c c c c c\n",
      "Pred labels:  i c c c c c c c c c c c c i c c\n",
      "Gold:         On my first day in London , I saw your advertisement which was very interesting to me .\n",
      "Correction 1: First day in London I saw your advertisement which was very interesting to me\n",
      "Correction 2: On my first day in London I saw your advertisement which was very interesting to me\n",
      "Correction 3: First day in London I saw your ad which was very interesting to me\n",
      "Correction 4: On my first day in London I saw your ad which was very interesting to me\n",
      "Correction 5: First day in London I saw your advertisement and it was very interesting to me\n",
      "Error types:  ['M']\n",
      "\n"
     ]
    },
    {
     "name": "stderr",
     "output_type": "stream",
     "text": [
      " 33%|█████████████▋                            | 42/129 [16:17<22:09, 15.29s/it]"
     ]
    },
    {
     "name": "stdout",
     "output_type": "stream",
     "text": [
      "\n",
      "Original:     Second , I went to the theatre exactly seven thirty in the evening .\n",
      "Gold labels:  c c c c c c c i c c c c c c\n",
      "Pred labels:  c c c c c c c i i c c c c c\n",
      "Gold:         Second , I went to the theatre seven thirty in the evening .\n",
      "Correction 1: Second, I went to the theatre at exactly seven thirty in the evening.\n",
      "Correction 2: Second, I went to the theatre at exactly thirty-seven in the evening.\n",
      "Correction 3: Second, I went to the theatre at exactly seven thirty in the evening .\n",
      "Correction 4: Second, I went to the theatre at seven thirty in the evening.\n",
      "Correction 5: Second, I went to the theatre at exactly thirty-seven in the morning.\n",
      "Error types:  ['NO_LABEL']\n",
      "\n"
     ]
    },
    {
     "name": "stderr",
     "output_type": "stream",
     "text": [
      " 33%|██████████████                            | 43/129 [16:28<20:22, 14.21s/it]"
     ]
    },
    {
     "name": "stdout",
     "output_type": "stream",
     "text": [
      "\n",
      "Original:     However the show started 45 minutes later .\n",
      "Gold labels:  c c c c c c c c\n",
      "Pred labels:  c c c c c c i c\n",
      "Gold:         However the show started 45 minutes later .\n",
      "Correction 1: However, the show started 45 minutes later.\n",
      "Correction 2: However, the show began 45 minutes later.\n",
      "Correction 3: However, the show started 45 minutes afterward.\n",
      "Correction 4: However, the show commenced 45 minutes later.\n",
      "Correction 5: However, the performance started 45 minutes later.\n",
      "Error types:  []\n",
      "\n"
     ]
    },
    {
     "name": "stderr",
     "output_type": "stream",
     "text": [
      " 34%|██████████████▎                           | 44/129 [16:42<19:52, 14.03s/it]"
     ]
    },
    {
     "name": "stdout",
     "output_type": "stream",
     "text": [
      "\n",
      "Original:     Have you ever seen the film star wars ?\n",
      "Gold labels:  c c c c c c c c c\n",
      "Pred labels:  c c c c c c i c c\n",
      "Gold:         Have you ever seen the film star wars ?\n",
      "Correction 1: Have you ever seen the film Star Wars?\n",
      "Correction 2: Have you ever seen the star wars?\n",
      "Correction 3: Have you ever seen a film Star Wars?\n",
      "Correction 4: Have you ever seen a star wars?\n",
      "Correction 5: (Since only four unique corrections are possible, an empty line is written for the fifth.)\n",
      "Error types:  []\n",
      "\n"
     ]
    },
    {
     "name": "stderr",
     "output_type": "stream",
     "text": [
      " 35%|██████████████▋                           | 45/129 [16:57<20:04, 14.33s/it]"
     ]
    },
    {
     "name": "stdout",
     "output_type": "stream",
     "text": [
      "\n",
      "Original:     And did you notice something about fashion of the future ?\n",
      "Gold labels:  c c c c c c c c c c c\n",
      "Pred labels:  c c c c c c i c c c c\n",
      "Gold:         And did you notice something about fashion of the future ?\n",
      "Correction 1: And did you notice something about the fashion of the future?\n",
      "Correction 2: And did you notice something about fashion in the future?\n",
      "Correction 3: And did you notice something about future fashion?\n",
      "Correction 4: Did you notice something about fashion of the future?\n",
      "Correction 5: Did you notice something about the fashion future?\n",
      "Error types:  []\n",
      "\n"
     ]
    },
    {
     "name": "stderr",
     "output_type": "stream",
     "text": [
      " 36%|██████████████▉                           | 46/129 [17:18<22:44, 16.44s/it]"
     ]
    },
    {
     "name": "stdout",
     "output_type": "stream",
     "text": [
      "\n",
      "Original:     She had to be operated on and my family and I were very scared .\n",
      "Gold labels:  c c c c c c c c c c c c c c c\n",
      "Pred labels:  c c c c i c c c c c c c c c c\n",
      "Gold:         She had to be operated on and my family and I were very scared .\n",
      "Correction 1: She had to be operated on, and my family and I were very scared.\n",
      "Correction 2: She had to be operated on; my family and I were very scared.\n",
      "Correction 3: She had to be operated on, and my family and I were extremely scared.\n",
      "Correction 4: She had to be operated on, and my family and I were quite scared.\n",
      "Correction 5: She had to be operated on, and my family and I were very much scared.\n",
      "Error types:  []\n",
      "\n"
     ]
    },
    {
     "name": "stderr",
     "output_type": "stream",
     "text": [
      " 36%|███████████████▎                          | 47/129 [17:57<31:28, 23.03s/it]"
     ]
    },
    {
     "name": "stdout",
     "output_type": "stream",
     "text": [
      "\n",
      "Original:     Last week I was on holiday in London and I went to the theatre for entertaining but I wish I 'd not go there because everythings went wrong .\n",
      "Gold labels:  c c c c c c c c c c c c c c c c c c c c c c i c c i c c c\n",
      "Pred labels:  c c c c c c c c c c c c c c c i c c c c c c i c c i c c c\n",
      "Gold:         Last week I was on holiday in London and I went to the theatre for entertaining but I wish I 'd not gone there because everything went wrong .\n",
      "Correction 1: Last week I was on holiday in London and I went to the theatre for entertainment but I wish I hadn't gone there because everything went wrong.\n",
      "Correction 2: Last week I was on holiday in London and I went to the theatre for entertaining but I wish I hadn't go there because everything went wrong.\n",
      "Correction 3: Last week I was on holiday in London and I went to the theatre for entertaining but I wish I'd not gone there because something went wrong.\n",
      "Correction 4: Last week I was on holiday in London and I went to the theatre for entertainment but I wish I'd not go there because everything went wrong.\n",
      "Correction 5: Last week I was on holiday in London and I went to the theatre for entertainment but I wish I'd not gone there because things went wrong.\n",
      "Error types:  ['TV', 'IA']\n",
      "\n"
     ]
    },
    {
     "name": "stderr",
     "output_type": "stream",
     "text": [
      " 37%|███████████████▋                          | 48/129 [18:07<25:58, 19.24s/it]"
     ]
    },
    {
     "name": "stdout",
     "output_type": "stream",
     "text": [
      "\n",
      "Original:     All the time I am thinking about Peter .\n",
      "Gold labels:  c c c c c c c c c\n",
      "Pred labels:  i i i c i c c c c\n",
      "Gold:         All the time I am thinking about Peter .\n",
      "Correction 1: All the time I am thinking about Peter.\n",
      "Correction 2: All the time I think about Peter.\n",
      "Correction 3: All the time I am thinking of Peter.\n",
      "Correction 4: Every moment I am thinking about Peter.\n",
      "Correction 5: At all times I am thinking about Peter.\n",
      "Error types:  []\n",
      "\n"
     ]
    },
    {
     "name": "stderr",
     "output_type": "stream",
     "text": [
      " 38%|███████████████▉                          | 49/129 [18:35<29:16, 21.96s/it]"
     ]
    },
    {
     "name": "stdout",
     "output_type": "stream",
     "text": [
      "\n",
      "Original:     It 's good that he far away ... I miss Peter very much , it 's unfair to put him in a prison .\n",
      "Gold labels:  c c c c c i c c c c c c c c c c c c c c c c c c\n",
      "Pred labels:  c c c c c i c c c c c c c i i c c c c c c c c c\n",
      "Gold:         It 's good that he away ... I miss Peter very much , it 's unfair to put him in a prison .\n",
      "Correction 1: It's good that he is far away... I miss Peter very much, it's unfair to put him in prison.\n",
      "Correction 2: It's good that he is far away... I miss Peter very much, it's unfair to put him in a prison.\n",
      "Correction 3: It's good that he is far away... I miss Peter very much, it is unfair to put him in prison.\n",
      "Correction 4: It's good that he is far away... I miss Peter very much, it is unfair to put him in a prison.\n",
      "Correction 5: It's good that he is far away... I miss Peter very much, it is unfair to put him in prison.\n",
      "Error types:  ['NO_LABEL']\n",
      "\n"
     ]
    },
    {
     "name": "stderr",
     "output_type": "stream",
     "text": [
      " 39%|████████████████▎                         | 50/129 [18:44<23:35, 17.92s/it]"
     ]
    },
    {
     "name": "stdout",
     "output_type": "stream",
     "text": [
      "\n",
      "Original:     But it 's life , destiny , very cruel destiny ...\n",
      "Gold labels:  c c c c c c c c c c c\n",
      "Pred labels:  c c c c c c c i c c c\n",
      "Gold:         But it 's life , destiny , very cruel destiny ...\n",
      "Correction 1: But it's life, cruel destiny...\n",
      "Correction 2: But it's destiny, very cruel destiny...\n",
      "Correction 3: But it's life, very cruel destiny...\n",
      "Correction 4: But it's life, cruel destiny\n",
      "Correction 5: But\n",
      "Error types:  []\n",
      "\n"
     ]
    },
    {
     "name": "stderr",
     "output_type": "stream",
     "text": [
      " 40%|████████████████▌                         | 51/129 [19:14<28:08, 21.65s/it]"
     ]
    },
    {
     "name": "stdout",
     "output_type": "stream",
     "text": [
      "\n",
      "Original:     Maria was speechless , it was the first time that she did n't know what to do , so she decided to stop talking to Pat .\n",
      "Gold labels:  c c c c c c c c c c c c c c c c c c c c c c c c c c c\n",
      "Pred labels:  c c c i i c c c c c c c c c c c c c c c c c c c c c c\n",
      "Gold:         Maria was speechless , it was the first time that she did n't know what to do , so she decided to stop talking to Pat .\n",
      "Correction 1: Maria was speechless. It was the first time that she didn't know what to do, so she decided to stop talking to Pat.\n",
      "Correction 2: Maria was speechless. It was the first time that she didn't know what to do, so she decided not to talk to Pat.\n",
      "Correction 3: Maria was speechless. It was the first time that she didn't know what to do, so she decided to stop speaking to Pat.\n",
      "Correction 4: Maria was speechless. It was the first time that she didn't know what to do, so she decided to shut up with Pat.\n",
      "Correction 5: Maria was speechless. It was the first time that she didn't know what to do, so she decided to quit talking to Pat.\n",
      "Error types:  []\n",
      "\n"
     ]
    },
    {
     "name": "stderr",
     "output_type": "stream",
     "text": [
      " 40%|████████████████▉                         | 52/129 [19:36<27:57, 21.78s/it]"
     ]
    },
    {
     "name": "stdout",
     "output_type": "stream",
     "text": [
      "\n",
      "Original:     She could n't keep my secret and everybody knew which boy I was in love with .\n",
      "Gold labels:  c c c c c c c c c c c c c c c c c\n",
      "Pred labels:  c c c c c c c c c i c c c c c c c\n",
      "Gold:         She could n't keep my secret and everybody knew which boy I was in love with .\n",
      "Correction 1: She couldn't keep my secret and everybody knew which boy I was in love with.\n",
      "Correction 2: She couldn't keep my secret, and everybody knew which boy I was in love with.\n",
      "Correction 3: She couldn't keep my secret, and everyone knew which boy I was in love with.\n",
      "Correction 4: She couldn't keep my secret; everybody knew which boy I was in love with.\n",
      "Correction 5: She couldn't keep my secret, and everybody knew about the boy I was in love with.\n",
      "Error types:  []\n",
      "\n"
     ]
    },
    {
     "name": "stderr",
     "output_type": "stream",
     "text": [
      " 41%|█████████████████▎                        | 53/129 [19:51<24:51, 19.63s/it]"
     ]
    },
    {
     "name": "stdout",
     "output_type": "stream",
     "text": [
      "\n",
      "Original:     I hope in your answer and in your explanation about this .\n",
      "Gold labels:  c c c c c c c c c c c c\n",
      "Pred labels:  c c i c c c c c c c c c\n",
      "Gold:         I hope in your answer and in your explanation about this .\n",
      "Correction 1: I hope for your answer and in your explanation about this.\n",
      "Correction 2: I hope in your answer and for your explanation about this.\n",
      "Correction 3: I hope in your answer and your explanation about this.\n",
      "Correction 4: I hope in your answers and in your explanation about this.\n",
      "Correction 5: I hope in your answer and in your explanations about this.\n",
      "Error types:  []\n",
      "\n"
     ]
    },
    {
     "name": "stderr",
     "output_type": "stream",
     "text": [
      " 42%|█████████████████▌                        | 54/129 [20:06<22:38, 18.12s/it]"
     ]
    },
    {
     "name": "stdout",
     "output_type": "stream",
     "text": [
      "\n",
      "Original:     In the night Francis was invited to the party , at Pat 's home .\n",
      "Gold labels:  c c c c c c c c c c c c c c c\n",
      "Pred labels:  i c c c c c c c c c c c c c c\n",
      "Gold:         In the night Francis was invited to the party , at Pat 's home .\n",
      "Correction 1: In the night, Francis was invited to the party at Pat's home.\n",
      "Correction 2: In the night Francis was invited to Pat's party.\n",
      "Correction 3: In the night Francis was invited to the party; at Pat's home.\n",
      "Correction 4: In the night Francis was invited to the party at Pat's.\n",
      "Correction 5: In the night, Francis was invited to the party at Pat's.\n",
      "Error types:  []\n",
      "\n"
     ]
    },
    {
     "name": "stderr",
     "output_type": "stream",
     "text": [
      " 43%|█████████████████▉                        | 55/129 [21:06<38:01, 30.83s/it]"
     ]
    },
    {
     "name": "stdout",
     "output_type": "stream",
     "text": [
      "\n",
      "Original:     When he was out he needed to buy some cigarettes so he went to the shop where the owner , a his friend , ask him if he was very happy about his present , the new gold watch , he was very lucky to have best friends like Pat and her friends .\n",
      "Gold labels:  c c c c c c c c c c c c c c c c c c c c c c c c i c c c c c c c c c c c c c c c c c c c c c c c c c c c c c\n",
      "Pred labels:  c c c c c c c c c c c c c c c c c c c c c c c c i c c c c c c c c c c c c c c i i c c c c c c c c c c c c c\n",
      "Gold:         When he was out he needed to buy some cigarettes so he went to the shop where the owner , a his friend , asked him if he was very happy about his present , the new gold watch , he was very lucky to have best friends like Pat and her friends .\n",
      "Correction 1: When he was out, he needed to buy some cigarettes, so he went to the shop where the owner, a his friend, asked him if he was very happy about his present, the new gold watch. He was very lucky to have best friends like Pat and her friends.\n",
      "Correction 2: When he was out he needed to buy some cigarettes so he went to the shop where the owner a his friend asked him if he was very happy about his present the new gold watch he was very lucky to have best friends like Pat and her friends\n",
      "Correction 3: When he was out he needed to buy some cigarettes so he went to the shop where the owner, a his friend, asked him if he was very happy about his present, the new gold watch. He was very lucky to have best friends like Pat and her.\n",
      "Correction 4: When he was out he needed to buy some cigarettes so he went to the shop where the owner a his friend ask him if he was very happy about his present the new gold watch he was very lucky to have best friends like Pat and\n",
      "Correction 5: When he was out, he needed to buy some cigarettes, so he went to the shop where the owner, a his friend, asked him if he was very happy about his present, the new gold watch. He was very lucky to have best friends like Pat and her friends .\n",
      "Error types:  ['TV']\n",
      "\n"
     ]
    },
    {
     "name": "stderr",
     "output_type": "stream",
     "text": [
      " 43%|██████████████████▏                       | 56/129 [21:49<41:58, 34.49s/it]"
     ]
    },
    {
     "name": "stdout",
     "output_type": "stream",
     "text": [
      "\n",
      "Original:     I 'm writing to you inform you about the dissapointing evening I had when I went to your theather to see the play called \"\"\"\" OVER THE RAINBOW \"\"\"\" .\n",
      "Gold labels:  c c c c c c c c c i c c c c c c c c i c c c c c c c c c c c\n",
      "Pred labels:  c c c c c i c c c i c c c c c c c c i c c c c c c c c c c c\n",
      "Gold:         I 'm writing to you inform you about the disappointing evening I had when I went to your theatre to see the play called \"\"\"\" OVER THE RAINBOW \"\"\"\" .\n",
      "Correction 1: I'm writing to you to inform you about the disappointing evening I had when I went to your theater to see the play called \"OVER THE RAINBOW\".\n",
      "Correction 2: I'm writing to you to inform you about the disappointment I had when I went to your theater to see the play called \"OVER THE RAINBOW\".\n",
      "Correction 3: I'm writing to you to inform you about the disappointing evening I had when I went to your theatre to see the play called \"OVER THE RAINBOW\".\n",
      "Correction 4: I'm writing to you to inform you about the disappointing evening I had when I went to your theater to see the play titled \"OVER THE RAINBOW\".\n",
      "Correction 5: I'm writing to you to inform you about the disappointment I had when I went to your theatre to see the play titled \"OVER THE RAINBOW\".\n",
      "Error types:  ['S']\n",
      "\n"
     ]
    },
    {
     "name": "stderr",
     "output_type": "stream",
     "text": [
      " 44%|██████████████████▌                       | 57/129 [22:22<40:39, 33.89s/it]"
     ]
    },
    {
     "name": "stdout",
     "output_type": "stream",
     "text": [
      "\n",
      "Original:     In addition to this we use the net to comunicate with some friends we have in U.S.A. It 's really amazing .\n",
      "Gold labels:  c c c c c c c c c i c c c c c c i c c c c c\n",
      "Pred labels:  c c c c c c c c c i c c c c c c i i c c c c\n",
      "Gold:         In addition to this we use the net to communicate with some friends we have in It 's really amazing .\n",
      "Correction 1: In addition to this, we use the net to communicate with some friends we have in the U.S.A. It's really amazing.\n",
      "Correction 2: In addition to this, we use the net to communicate with some friends we have in U.S.A. It is really amazing.\n",
      "Correction 3: In addition to this, we use the net to communicate with some friends we have in U.S.A. It's really amazing.\n",
      "Correction 4: In addition to this, we use the net to communicate with some friends we have in the U.S.A. It is really amazing.\n",
      "Correction 5: Note: The fifth line is left empty as only four unique corrections were possible based on the given instructions.\n",
      "Error types:  ['NO_LABEL', 'S']\n",
      "\n"
     ]
    },
    {
     "name": "stderr",
     "output_type": "stream",
     "text": [
      " 45%|██████████████████▉                       | 58/129 [22:44<36:06, 30.51s/it]"
     ]
    },
    {
     "name": "stdout",
     "output_type": "stream",
     "text": [
      "\n",
      "Original:     Afterwards I decided to go for a meal in the theatre restaurant but It was closed .\n",
      "Gold labels:  c c c c c c c c c c c c c c c c c\n",
      "Pred labels:  c c c c c c c c c c c c c i c c c\n",
      "Gold:         Afterwards I decided to go for a meal in the theatre restaurant but It was closed .\n",
      "Correction 1: Afterwards I decided to go for a meal in the theatre restaurant, but it was closed.\n",
      "Correction 2: Afterwards I decided to go for a meal at the theatre restaurant but It was closed.\n",
      "Correction 3: Afterwards I decided to go for a meal at the theatre restaurant but it was closed.\n",
      "Correction 4: Afterwards I decided to go for a meal in the theatre's restaurant but it was closed.\n",
      "Correction 5: Afterwards I decided to go for a meal in the theater restaurant but it was closed.\n",
      "Error types:  []\n",
      "\n"
     ]
    },
    {
     "name": "stderr",
     "output_type": "stream",
     "text": [
      " 46%|███████████████████▏                      | 59/129 [23:11<34:13, 29.33s/it]"
     ]
    },
    {
     "name": "stdout",
     "output_type": "stream",
     "text": [
      "\n",
      "Original:     You wanted to cheat me , so I will be very pleasure if you could give my money back .\n",
      "Gold labels:  c c c c c c c c c c c i c c c c c c c c\n",
      "Pred labels:  c c c c c c c c i c c i c c c c i c c c\n",
      "Gold:         You wanted to cheat me , so I will be very pleased if you could give my money back .\n",
      "Correction 1: You wanted to cheat me, so I will be very pleased if you could give me my money back.\n",
      "Correction 2: You want to cheat me, so I will be very pleased if you could give me my money back.\n",
      "Correction 3: You wanted to cheat me, so I will be very pleasure in your giving my money back.\n",
      "Correction 4: You wanted to cheat me, so I will be very pleased by your giving my money back.\n",
      "Correction 5: You wanted to cheat me, so I will be very pleased if you return my money.\n",
      "Correction 6: Note: The fifth correction is an empty line as there are only four unique ways to correct the sentence while meeting the criteria.\n",
      "Error types:  ['DJ']\n",
      "\n"
     ]
    },
    {
     "name": "stderr",
     "output_type": "stream",
     "text": [
      " 47%|███████████████████▌                      | 60/129 [23:43<34:33, 30.05s/it]"
     ]
    },
    {
     "name": "stdout",
     "output_type": "stream",
     "text": [
      "\n",
      "Original:     Something that I note about technology is that we are loosing green places and there are a lot of pollution , so we have to be careful .\n",
      "Gold labels:  c c c c c c c c c c i c c c c i c c c c c c c c c c c c\n",
      "Pred labels:  c c c c c c c c c c i c c c c i c c c i c c c c c c c c\n",
      "Gold:         Something that I note about technology is that we are losing green places and there is a lot of pollution , so we have to be careful .\n",
      "Correction 1: Something that I note about technology is that we are losing green places and there is a lot of pollution, so we have to be careful.\n",
      "Correction 2: Something that I note about technology is that we are loosing green spaces and there is a lot of pollution, so we have to be careful.\n",
      "Correction 3: Something that I note about technology is that we are loosing green places and there are lots of pollution, so we have to be careful.\n",
      "Correction 4: Something that I note about technology is that we are losing green places and there are a lot of pollution, so we have to be more careful.\n",
      "Correction 5: Something that I note about technology is that we are losing green spaces and there are a lot of pollution, so we must be careful.\n",
      "Correction 6: Note: The fifth version is slightly different in tone (\"must\" instead of \"have to\") but still correct and within the guidelines provided.\n",
      "Error types:  ['AGV', 'RV']\n",
      "\n"
     ]
    },
    {
     "name": "stderr",
     "output_type": "stream",
     "text": [
      " 47%|███████████████████▊                      | 61/129 [23:59<29:22, 25.91s/it]"
     ]
    },
    {
     "name": "stdout",
     "output_type": "stream",
     "text": [
      "\n",
      "Original:     I also hope , that the festival could be even better next year .\n",
      "Gold labels:  c c c c c c c c c c c c c c\n",
      "Pred labels:  c c c c c c c i c c c c c c\n",
      "Gold:         I also hope , that the festival could be even better next year .\n",
      "Correction 1: I also hope that the festival could be even better next year.\n",
      "Correction 2: I hope that the festival could be even better next year.\n",
      "Correction 3: I also hope that the festival can be even better next year.\n",
      "Correction 4: I also hope that the festival could have been even better this year.\n",
      "Correction 5: I also hope that the festival will be even better next year.\n",
      "Error types:  []\n",
      "\n"
     ]
    },
    {
     "name": "stderr",
     "output_type": "stream",
     "text": [
      " 48%|████████████████████▏                     | 62/129 [24:49<36:59, 33.13s/it]"
     ]
    },
    {
     "name": "stdout",
     "output_type": "stream",
     "text": [
      "\n",
      "Original:     To begin with , you wrote down in the leaflet that stars and artists from around the world could be seen in the performance in fact their were only six countries involved .\n",
      "Gold labels:  c c c c c c c c c c c c c c c c c c c c c c c c i c i c c c c c c\n",
      "Pred labels:  c c c c c c c c c c c c c c c c c c c c c i c c i c i c c c c c c\n",
      "Gold:         To begin with , you wrote down in the leaflet that stars and artists from around the world could be seen in the performance . In fact there were only six countries involved .\n",
      "Correction 1: To begin with, you wrote down in the leaflet that stars and artists from around the world could be seen in the performance. In fact, there were only six countries involved.\n",
      "Correction 2: To begin with, you wrote down in the leaflet that stars and artists from around the world could be seen in the performance. In fact, their were only six countries involved.\n",
      "Correction 3: To begin with, you wrote down in the leaflet that stars and artists from around the world could be seen in the performance. In fact, there were only six countries involved.\n",
      "Correction 4: To begin with, you wrote down in the leaflet that stars and artists from around the world could be seen in the performance. In fact, their were only 6 countries involved.\n",
      "Correction 5: To begin with, you wrote down in the leaflet that stars and artists from around the world could be seen in the performance. In fact, there were only six countries involved.\n",
      "Error types:  ['SX', 'MP']\n",
      "\n"
     ]
    },
    {
     "name": "stderr",
     "output_type": "stream",
     "text": [
      " 49%|████████████████████▌                     | 63/129 [24:53<27:01, 24.56s/it]"
     ]
    },
    {
     "name": "stdout",
     "output_type": "stream",
     "text": [
      "\n",
      "Original:     The problems that you have here is the weather .\n",
      "Gold labels:  c i c c c c c c c c\n",
      "Pred labels:  c i c c c c i c c c\n",
      "Gold:         The problem that you have here is the weather .\n",
      "Correction 1: The problems that you have here is the weather.\n",
      "Correction 2: The problems that you have here are the weather.\n",
      "Error types:  ['FN']\n",
      "\n"
     ]
    },
    {
     "name": "stderr",
     "output_type": "stream",
     "text": [
      " 50%|████████████████████▊                     | 64/129 [25:06<22:42, 20.96s/it]"
     ]
    },
    {
     "name": "stdout",
     "output_type": "stream",
     "text": [
      "\n",
      "Original:     Okay do n't wait , there where you 're good at and begin .\n",
      "Gold labels:  c c c c c c c c c c c c c c\n",
      "Pred labels:  c c c c c i c c c c c i i c\n",
      "Gold:         Okay do n't wait , there where you 're good at and begin .\n",
      "Correction 1: Okay don't wait, there where you're good at and begin.\n",
      "Correction 2: Okay don't wait, there where you are good at and begin.\n",
      "Correction 3: Okay don't wait, there where you're good at and start.\n",
      "Correction 4: Okay don't wait, there where you are good at and start.\n",
      "Error types:  []\n",
      "\n"
     ]
    },
    {
     "name": "stderr",
     "output_type": "stream",
     "text": [
      " 50%|█████████████████████▏                    | 65/129 [25:40<26:37, 24.97s/it]"
     ]
    },
    {
     "name": "stdout",
     "output_type": "stream",
     "text": [
      "\n",
      "Original:     I hope that my opinion can help you to set fro the next year a great internation arts festival alone to young people .\n",
      "Gold labels:  c c c c c c c c c i i c c c c c i c c c c c c c\n",
      "Pred labels:  c c c c c c c c c i i c c c i c i c c i i c c c\n",
      "Gold:         I hope that my opinion can help you to organize for the next year a great international arts festival alone to young people .\n",
      "Correction 1: I hope that my opinion can help you to set forth for the next year a great international arts festival along with young people.\n",
      "Correction 2: I hope that my opinion can help you to set from for the next year a great internation arts festival alone to young people.\n",
      "Correction 3: I hope that my opinion can help you to set forth for the next year a great international arts festival alone for young people.\n",
      "Correction 4: I hope that my opinion can help you to set forth for the next year a great international arts festival along with young people.\n",
      "Correction 5: I hope that my opinion can help you to set from for the next year a great internation arts festival alone for young people.\n",
      "Correction 6: (Note: Some of these corrections are hypothetical as there were very few errors in the original sentence, and the variations needed to make five unique corrections were not straightforward.)\n",
      "Error types:  ['DJ', 'SX', 'RV']\n",
      "\n"
     ]
    },
    {
     "name": "stderr",
     "output_type": "stream",
     "text": [
      " 51%|█████████████████████▍                    | 66/129 [26:05<26:03, 24.81s/it]"
     ]
    },
    {
     "name": "stdout",
     "output_type": "stream",
     "text": [
      "\n",
      "Original:     But also there are some notes that you should improve in the next year 's festival to make it absolutelly wonderful .\n",
      "Gold labels:  c c c c c c c c c c c c c c c c c c c i c c\n",
      "Pred labels:  c c c c c c c c c c i c c c c c c c c i c c\n",
      "Gold:         But also there are some notes that you should improve in the next year 's festival to make it absolutely wonderful .\n",
      "Correction 1: But also there are some notes that you should improve in next year's festival to make it absolutely wonderful.\n",
      "Correction 2: But also, there are some notes that you should improve for the next year's festival to make it absolutely wonderful.\n",
      "Correction 3: There are some notes that you should improve in the next year's festival to make it absolutely wonderful.\n",
      "Correction 4: But there are some notes that you should improve in the next year's festival to make it absolutely wonderful.\n",
      "Correction 5: But also, there are some notes that you should improve in the next year's festival to make it absolutely wonderful.\n",
      "Error types:  ['DY']\n",
      "\n"
     ]
    },
    {
     "name": "stderr",
     "output_type": "stream",
     "text": [
      " 52%|█████████████████████▊                    | 67/129 [26:22<23:26, 22.69s/it]"
     ]
    },
    {
     "name": "stdout",
     "output_type": "stream",
     "text": [
      "\n",
      "Original:     Your dance shows are very beautiful , art exhibitions is something original and exciting .\n",
      "Gold labels:  c c c c c c c i i c c c c c c\n",
      "Pred labels:  c c c c c c c i i i c c c c c\n",
      "Gold:         Your dance shows are very beautiful , exhibition is something original and exciting .\n",
      "Correction 1: Your dance shows are very beautiful, art exhibitions are something original and exciting.\n",
      "Correction 2: Your dance shows are very beautiful, art exhibitions is an original and exciting thing.\n",
      "Correction 3: Your dance shows are very beautiful, art exhibitions are original and exciting.\n",
      "Correction 4: Your dance shows are very beautiful, exhibitions are something original and exciting.\n",
      "Correction 5: Dance shows are very beautiful, art exhibitions are something original and exciting.\n",
      "Error types:  ['NO_LABEL', 'FN']\n",
      "\n"
     ]
    },
    {
     "name": "stderr",
     "output_type": "stream",
     "text": [
      " 53%|██████████████████████▏                   | 68/129 [27:11<30:58, 30.47s/it]"
     ]
    },
    {
     "name": "stdout",
     "output_type": "stream",
     "text": [
      "\n",
      "Original:     I am very happy for winning the first prize in your competition and I am glad to tell you that I am planning to go but I can only travel on July because I have to work until the end of June .\n",
      "Gold labels:  c c c c i c c c c c c c c c c c c c c c c c c c c c c c c c i c c c c c c c c c c c c\n",
      "Pred labels:  c c c c i i c c c c c c c c c c c c c c c c c c c c c c c c i c c c c c c c c c c c c\n",
      "Gold:         I am very happy about winning the first prize in your competition and I am glad to tell you that I am planning to go but I can only travel in July because I have to work until the end of June .\n",
      "Correction 1: I am very happy for winning the first prize in your competition and I am glad to tell you that I am planning to go but I can only travel in July because I have to work until the end of June.\n",
      "Correction 2: I am very happy for winning the first prize in your competition and I am glad to tell you that I am planning to go but I can only travel on July as I have to work until the end of June.\n",
      "Correction 3: I am very happy for winning the first prize in your competition and I am glad to tell you that I am planning to go but I can only travel on July because I have to work until June.\n",
      "Correction 4: I am very happy for winning the first prize in your competition and I am glad to tell you that I am planning to go but I can only travel on July as I have to work until June.\n",
      "Correction 5: I am very happy for winning the first prize in your competition and I am glad to tell you that I am planning to go but I can only travel on July because I have to work until the end of June.\n",
      "Error types:  ['RT']\n",
      "\n"
     ]
    },
    {
     "name": "stderr",
     "output_type": "stream",
     "text": [
      " 53%|██████████████████████▍                   | 69/129 [27:22<24:32, 24.54s/it]"
     ]
    },
    {
     "name": "stdout",
     "output_type": "stream",
     "text": [
      "\n",
      "Original:     After the concert I only help with tidy up the place and made sure that everything was under control and clean .\n",
      "Gold labels:  c c c c c i c c c c c c c c c c c c c c c c\n",
      "Pred labels:  c c c c c i c i c c c c c c c c c c c c c c\n",
      "Gold:         After the concert I only helped with tidy up the place and made sure that everything was under control and clean .\n",
      "Correction 1: After the concert I only help with tidy up the place and made sure that everything was under control and clean.\n",
      "Correction 2: After the concert I only helped with tidying up the place and made sure that everything was under control and clean.\n",
      "Error types:  ['TV']\n",
      "\n"
     ]
    },
    {
     "name": "stderr",
     "output_type": "stream",
     "text": [
      " 54%|██████████████████████▊                   | 70/129 [27:33<20:13, 20.57s/it]"
     ]
    },
    {
     "name": "stdout",
     "output_type": "stream",
     "text": [
      "\n",
      "Original:     Thank you for choosen our ticket at the final .\n",
      "Gold labels:  c c c i c c c c c c\n",
      "Pred labels:  c c c i c c i c i c\n",
      "Gold:         Thank you for choosing our ticket at the final .\n",
      "Correction 1: Thank you for choosing our ticket at the final.\n",
      "Correction 2: Thank you for choosing our ticket in the final.\n",
      "Correction 3: Thank you for choosing our ticket at the end.\n",
      "Correction 4: Thank you for choosing our ticket in the end.\n",
      "Correction 5: Thank you for choosing our ticket at last.\n",
      "Error types:  ['IV']\n",
      "\n"
     ]
    },
    {
     "name": "stderr",
     "output_type": "stream",
     "text": [
      " 55%|███████████████████████                   | 71/129 [27:46<17:36, 18.22s/it]"
     ]
    },
    {
     "name": "stdout",
     "output_type": "stream",
     "text": [
      "\n",
      "Original:     I think I ca n't forgotten this experience on my mind\n",
      "Gold labels:  c c c c c c c c c c c\n",
      "Pred labels:  c c c c c i c c c c c\n",
      "Gold:         I think I ca n't forgotten this experience on my mind\n",
      "Correction 1: I think I can't forget this experience on my mind\n",
      "Correction 2: I think I can't forget this experience in my mind\n",
      "Correction 3: I think I couldn't forget this experience on my mind\n",
      "Correction 4: I think I couldn't forget this experience in my mind\n",
      "Correction 5: I think I can't forget this experience\n",
      "Error types:  []\n",
      "\n"
     ]
    },
    {
     "name": "stderr",
     "output_type": "stream",
     "text": [
      " 56%|███████████████████████▍                  | 72/129 [28:14<20:10, 21.23s/it]"
     ]
    },
    {
     "name": "stdout",
     "output_type": "stream",
     "text": [
      "\n",
      "Original:     Basketball because I am very good at it , swimming because I like to swim very much but I 'm not a very good swimmer .\n",
      "Gold labels:  c c c c c c c c c c c c c c c c c c c c c c c c c c\n",
      "Pred labels:  c c c c c c c c c i c c c c c c c c c c c c c c c c\n",
      "Gold:         Basketball because I am very good at it , swimming because I like to swim very much but I 'm not a very good swimmer .\n",
      "Correction 1: Basketball because I am very good at it, swimming because I like to swim very much, but I'm not a very good swimmer.\n",
      "Correction 2: Basketball because I am very good at it, swimming because I like to swim very much, but I am not a very good swimmer.\n",
      "Correction 3: Basketball because I am very good at it, swimming because I like to swim very much, but I'm not very good at swimming.\n",
      "Correction 4: Basketball because I am very good at it, swimming because I like to swim very much, but I am not very good at swimming.\n",
      "Correction 5: Basketball because I am very good at it, swimming because I like to swim very much, and I'm not a very good swimmer.\n",
      "Error types:  []\n",
      "\n"
     ]
    },
    {
     "name": "stderr",
     "output_type": "stream",
     "text": [
      " 57%|███████████████████████▊                  | 73/129 [28:27<17:32, 18.80s/it]"
     ]
    },
    {
     "name": "stdout",
     "output_type": "stream",
     "text": [
      "\n",
      "Original:     Tuesdy 13th , June , 2000\n",
      "Gold labels:  c c c c c c\n",
      "Pred labels:  i c c c c c\n",
      "Gold:         Tuesdy 13th , June , 2000\n",
      "Correction 1: Tuesday 13th, June 2000\n",
      "Correction 2: Tuesdy 13th June 2000\n",
      "Correction 3: Tuesdy Monday 13th June 2000\n",
      "Correction 4: Tuesdy 13 June 2000\n",
      "Correction 5: Tuesdy 13th , June 2000\n",
      "Error types:  []\n",
      "\n"
     ]
    },
    {
     "name": "stderr",
     "output_type": "stream",
     "text": [
      " 57%|████████████████████████                  | 74/129 [28:56<19:54, 21.72s/it]"
     ]
    },
    {
     "name": "stdout",
     "output_type": "stream",
     "text": [
      "\n",
      "Original:     On the other hand , I keen on painting , however , I have never painted in my life , so I would like to try it .\n",
      "Gold labels:  c c c c c c i c c c c c c c c c c c c c c c c c c c c c\n",
      "Pred labels:  c c c c c c i c c i c c c c c c c c c c c c c c c c c c\n",
      "Gold:         On the other hand , I on painting , however , I have never painted in my life , so I would like to try it .\n",
      "Correction 1: On the other hand, I am keen on painting, however, I have never painted in my life so I would like to try it.\n",
      "Correction 2: On the other hand, I am keen on painting but I have never painted in my life so I would like to try it.\n",
      "Correction 3: On the other hand, I am keen on painting yet I have never painted in my life so I would like to try it.\n",
      "Correction 4: On the other hand, I am keen on painting although I have never painted in my life so I would like to try it.\n",
      "Correction 5: On the other hand, I am keen on painting and I have never painted in my life so I would like to try it.\n",
      "Error types:  ['NO_LABEL']\n",
      "\n"
     ]
    },
    {
     "name": "stderr",
     "output_type": "stream",
     "text": [
      " 58%|████████████████████████▍                 | 75/129 [29:20<20:22, 22.63s/it]"
     ]
    },
    {
     "name": "stdout",
     "output_type": "stream",
     "text": [
      "\n",
      "Original:     Finally , I was wondering what kind of clothes I have to wear in California ?\n",
      "Gold labels:  c c c c c c c c c c c c c c c c\n",
      "Pred labels:  c c c c c c c c c i c c c c c c\n",
      "Gold:         Finally , I was wondering what kind of clothes I have to wear in California ?\n",
      "Correction 1: Finally, I was wondering what kind of clothes I have to wear in California.\n",
      "Correction 2: Finally, I am wondering what kind of clothes I have to wear in California.\n",
      "Correction 3: Finally, I was wondering what kind of clothes I need to wear in California.\n",
      "Correction 4: Finally, I was wondering what kind of clothes I should wear in California.\n",
      "Correction 5: Finally, I was wondering what kind of clothes I had to wear in California.\n",
      "Correction 6: (These are all the unique minimal corrections possible for the given sentence.)\n",
      "Error types:  []\n",
      "\n"
     ]
    },
    {
     "name": "stderr",
     "output_type": "stream",
     "text": [
      " 59%|████████████████████████▋                 | 76/129 [29:45<20:35, 23.31s/it]"
     ]
    },
    {
     "name": "stdout",
     "output_type": "stream",
     "text": [
      "\n",
      "Original:     I thought he was very rude , but I was wrong , he is n't arrogant at all and he looks very simply .\n",
      "Gold labels:  c c c c c c c c c c c c c c c c c c c c c c c c\n",
      "Pred labels:  c c c c c c c c c c c c c c c c c c c c c c i c\n",
      "Gold:         I thought he was very rude , but I was wrong , he is n't arrogant at all and he looks very simply .\n",
      "Correction 1: I thought he was very rude, but I was wrong. He isn't arrogant at all and he looks very simple.\n",
      "Correction 2: I thought he was very rude, but I was wrong. He isn't arrogant at all and he looks simply.\n",
      "Correction 3: I thought he was very rude, but I was wrong. He isn't arrogant at all and he looks very straightforward.\n",
      "Correction 4: I thought he was very rude, but I was wrong. He isn't arrogant at all and he looks rather simple.\n",
      "Correction 5: I thought he was very rude, but I was wrong. He isn't arrogant at all and he looks quite simple.\n",
      "Error types:  []\n",
      "\n"
     ]
    },
    {
     "name": "stderr",
     "output_type": "stream",
     "text": [
      " 60%|█████████████████████████                 | 77/129 [30:21<23:19, 26.91s/it]"
     ]
    },
    {
     "name": "stdout",
     "output_type": "stream",
     "text": [
      "\n",
      "Original:     Moreover I would like to know what kind of clothes are the best for living in the camp and if I need to bring with me a large amount of money .\n",
      "Gold labels:  c c c c c c c c c c c c c c c c c c c c c c c c c c c c c c c c\n",
      "Pred labels:  c c c c c c c c c c c c c c i c c c c c c c c c c c c c c c c c\n",
      "Gold:         Moreover I would like to know what kind of clothes are the best for living in the camp and if I need to bring with me a large amount of money .\n",
      "Correction 1: Moreover I would like to know what kind of clothes are the best for living in the camp and if I need to bring a large amount of money with me.\n",
      "Correction 2: Moreover, I would like to know what kind of clothes are the best for living in the camp and if I need to bring with me a large amount of money.\n",
      "Correction 3: Moreover I would like to know what kind of clothes are best for living in the camp and if I need to bring with me a large amount of money.\n",
      "Correction 4: Moreover I would like to know what kinds of clothes are the best for living in the camp and if I need to bring with me a large amount of money.\n",
      "Correction 5: Moreover I would like to know what kind of clothes are the best for living in the camp and whether I need to bring with me a large amount of money.\n",
      "Error types:  []\n",
      "\n"
     ]
    },
    {
     "name": "stderr",
     "output_type": "stream",
     "text": [
      " 60%|█████████████████████████▍                | 78/129 [30:48<22:56, 26.99s/it]"
     ]
    },
    {
     "name": "stdout",
     "output_type": "stream",
     "text": [
      "\n",
      "Original:     It was like a dream come true , and was the best part of the experience in my opinion .\n",
      "Gold labels:  c c c c c c c c c c c c c c c c c c c c\n",
      "Pred labels:  c c c c c c c c c i c c c c c c c c c c\n",
      "Gold:         It was like a dream come true , and was the best part of the experience in my opinion .\n",
      "Correction 1: It was like a dream come true, and it was the best part of the experience in my opinion.\n",
      "Correction 2: It was like a dream come true, and that was the best part of the experience in my opinion.\n",
      "Correction 3: It was like a dream come true, and this was the best part of the experience in my opinion.\n",
      "Correction 4: It was like a dream come true, and it is the best part of the experience in my opinion.\n",
      "Correction 5: It was like a dream come true, and it was the best part of the experience from my opinion.\n",
      "Error types:  []\n",
      "\n"
     ]
    },
    {
     "name": "stderr",
     "output_type": "stream",
     "text": [
      " 61%|█████████████████████████▋                | 79/129 [31:37<28:04, 33.69s/it]"
     ]
    },
    {
     "name": "stdout",
     "output_type": "stream",
     "text": [
      "\n",
      "Original:     One of the activities I would prefer to do is Climbing , I haven't done a lot of it but I 've always found it interesting and I think this would be a good opportunity to become better in it .\n",
      "Gold labels:  c c c c c c c c c c c c c c c c c c c c c c c c c c c c c c c c c c c c c c i c c\n",
      "Pred labels:  c c c c c c c c c c i c c c c c c c c c c c c c c c c c c c c c c c c c c c i c c\n",
      "Gold:         One of the activities I would prefer to do is Climbing , I haven't done a lot of it but I 've always found it interesting and I think this would be a good opportunity to become better at it .\n",
      "Correction 1: One of the activities I would prefer to do is climbing. I haven't done a lot of it but I've always found it interesting and I think this would be a good opportunity to become better at it.\n",
      "Correction 2: One of the activities I would prefer to do is climbing. I haven't done much of it but I've always found it interesting and I think this would be a good opportunity to become better at it.\n",
      "Correction 3: One of the activities I would prefer to do is climbing. I haven't done a lot of it but I've always found it interesting and this would be a good opportunity to become better at it.\n",
      "Correction 4: One of the activities I would prefer to do is climbing. I haven't done a lot of it but I've always found it interesting and I think this would be a good opportunity to improve in it.\n",
      "Correction 5: One of the activities I would prefer to do is climbing. I haven't done much of it but I've always found it interesting and I think this would be a good opportunity to become better at it.\n",
      "Error types:  ['RT']\n",
      "\n"
     ]
    },
    {
     "name": "stderr",
     "output_type": "stream",
     "text": [
      " 62%|██████████████████████████                | 80/129 [31:47<21:36, 26.45s/it]"
     ]
    },
    {
     "name": "stdout",
     "output_type": "stream",
     "text": [
      "\n",
      "Original:     Hello girl how are you doing this days .\n",
      "Gold labels:  c c c c c c i c c\n",
      "Pred labels:  c c c c c c i i c\n",
      "Gold:         Hello girl how are you doing these days .\n",
      "Correction 1: Hello girl how are you doing these days .\n",
      "Correction 2: Hello, girl, how are you doing these days ?\n",
      "Correction 3: hello girl how are you doing these days .\n",
      "Correction 4: hello, girl, how are you doing these days ?\n",
      "Correction 5: hello girl, how are you doing these days .\n",
      "Error types:  ['AGD']\n",
      "\n"
     ]
    },
    {
     "name": "stderr",
     "output_type": "stream",
     "text": [
      " 63%|██████████████████████████▎               | 81/129 [32:29<24:56, 31.18s/it]"
     ]
    },
    {
     "name": "stdout",
     "output_type": "stream",
     "text": [
      "\n",
      "Original:     This is what happened : when I arrive they told me that I was helping in backstage with the scenery , then the group arrived , we chat for like 15 minutes then they had to go on stage .\n",
      "Gold labels:  c c c c c c c i c c c c c c c c c c c c c c c c c c c c c c c c c c c c c c c c\n",
      "Pred labels:  c c c c c c c i c c c c c c c c c c c c c c c c c i c i c c c c c c c c c c c c\n",
      "Gold:         This is what happened : when I arrived they told me that I was helping in backstage with the scenery , then the group arrived , we chat for like 15 minutes then they had to go on stage .\n",
      "Correction 1: This is what happened: when I arrived they told me that I was helping with the scenery backstage, then the group arrived; we chatted for about 15 minutes, then they had to go on stage.\n",
      "Correction 2: This is what happened: when I arrived they told me that I was helping with the scenery backstage, then the group arrived, we chatted for like 15 minutes, then they had to go on stage.\n",
      "Correction 3: This is what happened: when I arrived they told me that I was helping with the scenery backstage, then the group arrived; we chatted for about 15 minutes then they had to go on stage.\n",
      "Correction 4: This is what happened: when I arrived they told me that I was helping with the scenery backstage, then the group arrived, we chatted for about 15 minutes then they had to go on stage.\n",
      "Correction 5: This is what happened: when I arrive they told me that I help with the scenery backstage, then the group arrived; we chatted for about 15 minutes, then they had to go on stage.\n",
      "Error types:  ['TV']\n",
      "\n"
     ]
    },
    {
     "name": "stderr",
     "output_type": "stream",
     "text": [
      " 64%|██████████████████████████▋               | 82/129 [32:39<19:25, 24.81s/it]"
     ]
    },
    {
     "name": "stdout",
     "output_type": "stream",
     "text": [
      "\n",
      "Original:     You asked me few questions in your letter .\n",
      "Gold labels:  c c c c c c c c c\n",
      "Pred labels:  c c c i c c c c c\n",
      "Gold:         You asked me few questions in your letter .\n",
      "Correction 1: You asked me few questions in your letter.\n",
      "Correction 2: You asked me a few questions in your letter.\n",
      "Correction 3: You asked me few question in your letter.\n",
      "Correction 4: You asked me a few question in your letter.\n",
      "Correction 5: You asked me a few questions in your lette.\n",
      "Error types:  []\n",
      "\n"
     ]
    },
    {
     "name": "stderr",
     "output_type": "stream",
     "text": [
      " 64%|███████████████████████████               | 83/129 [33:04<19:01, 24.83s/it]"
     ]
    },
    {
     "name": "stdout",
     "output_type": "stream",
     "text": [
      "\n",
      "Original:     I can come to USA on July becouse on August I will be working with my father .\n",
      "Gold labels:  c c c c c i c i i c c c c c c c c c\n",
      "Pred labels:  c c c c i i c i i c c c c c c c c c\n",
      "Gold:         I can come to USA in July because in August I will be working with my father .\n",
      "Correction 1: I can come to the USA in July because I will be working with my father in August.\n",
      "Correction 2: I can come to the USA in July because on August I will be working with my father.\n",
      "Correction 3: I can come to the USA in July because on August I will be working with my father.\n",
      "Correction 4: I can come to the USA in July since on August I will be working with my father.\n",
      "Correction 5: I can come to the USA in July as I will be working with my father in August.\n",
      "Correction 6: Note: The fifth line is an empty line since only four unique corrections were possible based on the given sentence.\n",
      "Error types:  ['S', 'RT']\n",
      "\n"
     ]
    },
    {
     "name": "stderr",
     "output_type": "stream",
     "text": [
      " 65%|███████████████████████████▎              | 84/129 [33:14<15:19, 20.43s/it]"
     ]
    },
    {
     "name": "stdout",
     "output_type": "stream",
     "text": [
      "\n",
      "Original:     Nights in hol . on July are hot .\n",
      "Gold labels:  c c c c i c c c c\n",
      "Pred labels:  c c i i i c c c c\n",
      "Gold:         Nights in hol . in July are hot .\n",
      "Correction 1: Nights in holy . On July are hot .\n",
      "Correction 2: Nights in hell . On July are hot .\n",
      "Correction 3: Nights in hospital . On July are hot .\n",
      "Correction 4: Nights in hole . On July are hot .\n",
      "Correction 5: Nights on hol . On July are hot .\n",
      "Error types:  ['RT']\n",
      "\n"
     ]
    },
    {
     "name": "stderr",
     "output_type": "stream",
     "text": [
      " 66%|███████████████████████████▋              | 85/129 [33:34<14:52, 20.28s/it]"
     ]
    },
    {
     "name": "stdout",
     "output_type": "stream",
     "text": [
      "\n",
      "Original:     I am a life guard and I could work in your camp as a rescuer next summer .\n",
      "Gold labels:  c c c c c c c c c c c c c c c c c c\n",
      "Pred labels:  c c c c c c c c c i c c c c c c c c\n",
      "Gold:         I am a life guard and I could work in your camp as a rescuer next summer .\n",
      "Correction 1: I am a lifeguard and I could work in your camp as a rescuer next summer.\n",
      "Correction 2: I am a life guard and I could work in your camp as a rescuer next summer.\n",
      "Correction 3: I am a life guard and I could work at your camp as a rescuer next summer.\n",
      "Correction 4: I am a life guard and I could work in your camp next summer as a rescuer.\n",
      "Correction 5: I am a lifeguard and I could work in your camp next summer as a rescuer.\n",
      "Error types:  []\n",
      "\n"
     ]
    },
    {
     "name": "stderr",
     "output_type": "stream",
     "text": [
      " 67%|████████████████████████████              | 86/129 [33:49<13:22, 18.67s/it]"
     ]
    },
    {
     "name": "stdout",
     "output_type": "stream",
     "text": [
      "\n",
      "Original:     We can buy everything what about we imagine .\n",
      "Gold labels:  c c c c c c c c c\n",
      "Pred labels:  c c c c i c c c c\n",
      "Gold:         We can buy everything what about we imagine .\n",
      "Correction 1: We can buy everything. What about what we imagine?\n",
      "Correction 2: We can buy anything. What about what we imagine?\n",
      "Correction 3: We can buy everything. What about our imagination?\n",
      "Correction 4: We can buy everything. What about it?\n",
      "Correction 5: We can buy everything. What about what we think?\n",
      "Correction 6: We can buy everything what about we imagine.\n",
      "Correction 7: We can buy everything what about we imagine.\n",
      "Error types:  []\n",
      "\n"
     ]
    },
    {
     "name": "stderr",
     "output_type": "stream",
     "text": [
      " 67%|████████████████████████████▎             | 87/129 [34:00<11:30, 16.43s/it]"
     ]
    },
    {
     "name": "stdout",
     "output_type": "stream",
     "text": [
      "\n",
      "Original:     I am therefore writing to give you my further information .\n",
      "Gold labels:  c c c c c c c c c c c\n",
      "Pred labels:  c c c c c c c i c c c\n",
      "Gold:         I am therefore writing to give you my further information .\n",
      "Correction 1: I am therefore writing to give you my additional information.\n",
      "Correction 2: I am therefore writing to give you further information.\n",
      "Correction 3: I am therefore writing to provide you with my further information.\n",
      "Correction 4: I am therefore writing to supply you with more information.\n",
      "Correction 5: I am therefore writing to furnish you with additional details.\n",
      "Error types:  []\n",
      "\n"
     ]
    },
    {
     "name": "stderr",
     "output_type": "stream",
     "text": [
      " 68%|████████████████████████████▋             | 88/129 [34:04<08:38, 12.64s/it]"
     ]
    },
    {
     "name": "stdout",
     "output_type": "stream",
     "text": [
      "\n",
      "Original:     I would be most grateful if you could give me further advicable information .\n",
      "Gold labels:  c c c c c c c c c c c c c c\n",
      "Pred labels:  c c c c c c c c c c c i c c\n",
      "Gold:         I would be most grateful if you could give me further advicable information .\n",
      "Correction 1: I would be most grateful if you could give me further advice.\n",
      "Error types:  []\n",
      "\n"
     ]
    },
    {
     "name": "stderr",
     "output_type": "stream",
     "text": [
      " 69%|████████████████████████████▉             | 89/129 [34:09<06:52, 10.32s/it]"
     ]
    },
    {
     "name": "stdout",
     "output_type": "stream",
     "text": [
      "\n",
      "Original:     So I 'm now writing to let you know how grateful it was .\n",
      "Gold labels:  c c c c c c c c c c i c c c\n",
      "Pred labels:  c c c c c c c c c c i i c c\n",
      "Gold:         So I 'm now writing to let you know how great it was .\n",
      "Correction 1: So I'm now writing to let you know how grateful I was.\n",
      "Error types:  ['RJ']\n",
      "\n"
     ]
    },
    {
     "name": "stderr",
     "output_type": "stream",
     "text": [
      " 70%|█████████████████████████████▎            | 90/129 [34:42<11:15, 17.31s/it]"
     ]
    },
    {
     "name": "stdout",
     "output_type": "stream",
     "text": [
      "\n",
      "Original:     All work I needed to do was n't very interesting . which I must have set thousands chairs correctly and after finishing I put them back nicely .\n",
      "Gold labels:  c i c c c c c c c c c c c c c c c i c c c c c c c c c c\n",
      "Pred labels:  c i c c c c c c c c c i c c c c i i c c c c c c c c i c\n",
      "Gold:         All I needed to do was n't very interesting . which I must have set thousands correctly and after finishing I put them back nicely .\n",
      "Correction 1: All work that I needed to do was not very interesting. Which I must have set thousands of chairs correctly, and after finishing, I put them back nicely.\n",
      "Correction 2: All the work that I needed to do was not very interesting. Which I must have set thousands of chairs correctly, and after finishing, I put them back nicely.\n",
      "Correction 3: All the work which I needed to do was not very interesting. I must have set thousands of chairs correctly and after finishing I put them back nicely.\n",
      "Correction 4: The work that I needed to do was not very interesting. Which I must have set thousands of chairs correctly and after finishing I put them back nicely.\n",
      "Correction 5: All work that I needed to do was not very interesting which I must have set thousands of chairs correctly and after finishing I put them back nicely.\n",
      "Error types:  ['NO_LABEL']\n",
      "\n"
     ]
    },
    {
     "name": "stderr",
     "output_type": "stream",
     "text": [
      " 71%|█████████████████████████████▋            | 91/129 [35:08<12:33, 19.84s/it]"
     ]
    },
    {
     "name": "stdout",
     "output_type": "stream",
     "text": [
      "\n",
      "Original:     I think I 'm not bad at painting either , at least everyone in my family likes my work , includying myself .\n",
      "Gold labels:  c c c c c c c c c c c c c c c c c c c c i c c\n",
      "Pred labels:  c c c c c c c c c i i i c c c c c c c c i c c\n",
      "Gold:         I think I 'm not bad at painting either , at least everyone in my family likes my work , including myself .\n",
      "Correction 1: I think I'm not bad at painting either. At least, everyone in my family likes my work, including myself.\n",
      "Correction 2: I think I'm not bad at painting either, at least everyone in my family likes my work, including myself.\n",
      "Correction 3: I think I'm not bad at painting either. At least everyone in my family likes my work, includying myself.\n",
      "Correction 4: I think I'm not bad at painting either. At least everyone in my family likes my work, including myself.\n",
      "Correction 5: I think I'm not bad at painting either. At least everyone in my family likes my work, including myself.\n",
      "Error types:  ['S']\n",
      "\n"
     ]
    },
    {
     "name": "stderr",
     "output_type": "stream",
     "text": [
      " 71%|█████████████████████████████▉            | 92/129 [35:22<11:13, 18.19s/it]"
     ]
    },
    {
     "name": "stdout",
     "output_type": "stream",
     "text": [
      "\n",
      "Original:     But anyway I like more to have the possibilities for practice climbing and surfing .\n",
      "Gold labels:  c c c c c c c c c c i c c c c\n",
      "Pred labels:  c c c c i c i c i c i c c c c\n",
      "Gold:         But anyway I like more to have the possibilities for practise climbing and surfing .\n",
      "Correction 1: But anyway, I like more to have the possibilities for practicing climbing and surfing.\n",
      "Correction 2: But anyway, I like to have more possibilities for practice climbing and surfing.\n",
      "Correction 3: But anyway, I like to have the possibilities for practicing climbing and surfing.\n",
      "Correction 4: But anyway, I like to have more possibilities for practice climbing and surfing.\n",
      "Correction 5: But anyway, I like more the possibilities for practicing climbing and surfing.\n",
      "Error types:  ['DV']\n",
      "\n"
     ]
    },
    {
     "name": "stderr",
     "output_type": "stream",
     "text": [
      " 72%|██████████████████████████████▎           | 93/129 [35:30<09:01, 15.05s/it]"
     ]
    },
    {
     "name": "stdout",
     "output_type": "stream",
     "text": [
      "\n",
      "Original:     Meanwhile , these activities are develop .\n",
      "Gold labels:  c c c c c c c\n",
      "Pred labels:  c c c c c i c\n",
      "Gold:         Meanwhile , these activities are develop .\n",
      "Correction 1: Meanwhile, these activities are developing.\n",
      "Correction 2: Meanwhile, these activities develop.\n",
      "Correction 3: Meanwhile, these activities are being developed.\n",
      "Correction 4: Meanwhile, these activities are developed.\n",
      "Correction 5: Meanwhile, these activities develop.\n",
      "Error types:  []\n",
      "\n"
     ]
    },
    {
     "name": "stderr",
     "output_type": "stream",
     "text": [
      " 73%|██████████████████████████████▌           | 94/129 [35:46<08:55, 15.31s/it]"
     ]
    },
    {
     "name": "stdout",
     "output_type": "stream",
     "text": [
      "\n",
      "Original:     Thanks very much , because is new stimulation for me . this prize .\n",
      "Gold labels:  c c c c c c c c c c c c c c\n",
      "Pred labels:  c c c c c i c c c c c c c c\n",
      "Gold:         Thanks very much , because is new stimulation for me . this prize .\n",
      "Correction 1: Thanks very much, because it is new stimulation for me. This prize.\n",
      "Correction 2: Thanks very much, as is new stimulation for me. this prize.\n",
      "Correction 3: Thanks very much, because it's new stimulation for me. this prize.\n",
      "Correction 4: Thanks very much, because it is a new stimulation for me. this prize.\n",
      "Correction 5: Thanks very much, because it is new stimulation for me. This prize.\n",
      "Error types:  []\n",
      "\n"
     ]
    },
    {
     "name": "stderr",
     "output_type": "stream",
     "text": [
      " 74%|██████████████████████████████▉           | 95/129 [36:02<08:48, 15.53s/it]"
     ]
    },
    {
     "name": "stdout",
     "output_type": "stream",
     "text": [
      "\n",
      "Original:     In the other hand the facilities for access to mall center is not good .\n",
      "Gold labels:  i c c c c c c c c i c i c c c\n",
      "Pred labels:  i c c c c c c c c i i i c c c\n",
      "Gold:         On the other hand the other hand the facilities for access to shopping center center are not good .\n",
      "Correction 1: In the other hand, the facilities for access to mall center is not good.\n",
      "Correction 2: In the other hand, the facilities for accessing the mall center are not good.\n",
      "Correction 3: On the other hand, the facilities for access to mall center is not good.\n",
      "Correction 4: On the other hand, the facilities for accessing the mall center are not good.\n",
      "Correction 5: On the other hand, the facilities for access to the mall center are not good.\n",
      "Error types:  ['DN', 'AGV', 'ID']\n",
      "\n"
     ]
    },
    {
     "name": "stderr",
     "output_type": "stream",
     "text": [
      " 74%|███████████████████████████████▎          | 96/129 [36:19<08:42, 15.84s/it]"
     ]
    },
    {
     "name": "stdout",
     "output_type": "stream",
     "text": [
      "\n",
      "Original:     I think in the nearly future we need to decide with the goverment .\n",
      "Gold labels:  c c c c i c c c c c c c i c\n",
      "Pred labels:  c c c c i c c c c c i c i c\n",
      "Gold:         I think in the near future we need to decide with the government .\n",
      "Correction 1: I think in the near future we need to decide with the government.\n",
      "Correction 2: I think in the nearly future we need to decide with the government.\n",
      "Correction 3: I think in the nearly future we need to decide with the Government.\n",
      "Correction 4: I think in the nearly future we need to decide with the government.\n",
      "Correction 5: I think in the near future we need to decide with the government.\n",
      "Error types:  ['DJ', 'S']\n",
      "\n"
     ]
    },
    {
     "name": "stderr",
     "output_type": "stream",
     "text": [
      " 75%|███████████████████████████████▌          | 97/129 [36:39<09:11, 17.24s/it]"
     ]
    },
    {
     "name": "stdout",
     "output_type": "stream",
     "text": [
      "\n",
      "Original:     I understood you want to know when am I available to set off and where I 'd like to stay .\n",
      "Gold labels:  c i c c c c c i i c c c c c c c c c c c c\n",
      "Pred labels:  c i c i c c c i i c c c c c c c c c c c c\n",
      "Gold:         I understand you want to know when I am I am available to set off and where I 'd like to stay .\n",
      "Correction 1: I understood you want to know when I am available to set off and where I would like to stay.\n",
      "Correction 2: I understand you want to know when am I available to set off and where I'd like to stay.\n",
      "Correction 3: I understood you want to know when am I available to set off and where I'd like to stay.\n",
      "Correction 4: I understood you want to know when I am available to set off and where would I like to stay.\n",
      "Correction 5: I understood you want to know when I am available to set off and where I'd like to stay.\n",
      "Error types:  ['TV', 'W']\n",
      "\n"
     ]
    },
    {
     "name": "stderr",
     "output_type": "stream",
     "text": [
      " 76%|███████████████████████████████▉          | 98/129 [36:50<07:55, 15.34s/it]"
     ]
    },
    {
     "name": "stdout",
     "output_type": "stream",
     "text": [
      "\n",
      "Original:     Is the camp close to town or city ?\n",
      "Gold labels:  c c c c c i c c c\n",
      "Pred labels:  c c c c c i c i c\n",
      "Gold:         Is the camp close to or city ?\n",
      "Correction 1: Is the camp close to the town or city?\n",
      "Correction 2: Is the camp close to town or the city?\n",
      "Correction 3: Is the camp near the town or city?\n",
      "Correction 4: Is the camp near to the town or city?\n",
      "Correction 5: Is the camp nearby the town or city?\n",
      "Error types:  ['NO_LABEL']\n",
      "\n"
     ]
    },
    {
     "name": "stderr",
     "output_type": "stream",
     "text": [
      " 77%|████████████████████████████████▏         | 99/129 [37:29<11:12, 22.41s/it]"
     ]
    },
    {
     "name": "stdout",
     "output_type": "stream",
     "text": [
      "\n",
      "Original:     Before I came England , I swam every weekend in my country even in winter , so I choose to do some swimming and sailing while I am at the camp .\n",
      "Gold labels:  c c c i c c c c c c c c c c c c c c c c c c c c c c c c c c c c\n",
      "Pred labels:  c c i i c c c c c c c c c c c c c c i c c c c c c c c c c c c c\n",
      "Gold:         Before I came , I swam every weekend in my country even in winter , so I choose to do some swimming and sailing while I am at the camp .\n",
      "Correction 1: Before I came to England, I swam every weekend in my country even in winter, so I chose to do some swimming and sailing while I am at the camp.\n",
      "Correction 2: Before I came to England, I swam every weekend in my country even in winter, so I choose to do some swimming and sailing while I am at the camp.\n",
      "Correction 3: Before I came to England, I swam every weekend in my country even in winter, so I chose to do some swimming and sailing while I was at the camp.\n",
      "Correction 4: Before I came to England, I swam every weekend in my country even in winter, so I choose to do some swimming and sailing while I was at the camp.\n",
      "Correction 5: Before I came to England, I swam every weekend in my country even in winter, so I chose to do some swimming and sailing at the camp.\n",
      "Error types:  ['NO_LABEL']\n",
      "\n"
     ]
    },
    {
     "name": "stderr",
     "output_type": "stream",
     "text": [
      " 78%|███████████████████████████████▊         | 100/129 [37:54<11:14, 23.25s/it]"
     ]
    },
    {
     "name": "stdout",
     "output_type": "stream",
     "text": [
      "\n",
      "Original:     This report is aim to research the students about their daily life at school and give some suggestion about it .\n",
      "Gold labels:  c c c c c c c c c c c c c c c c c c c c c\n",
      "Pred labels:  c c c i c c c c c c c c c c c c c i c c c\n",
      "Gold:         This report is aim to research the students about their daily life at school and give some suggestion about it .\n",
      "Correction 1: This report is aimed to research the students about their daily life at school and give some suggestions about it.\n",
      "Correction 2: This report aims to research the students about their daily life at school and give some suggestions about it.\n",
      "Correction 3: This report is aimed at researching the students about their daily lives at school and giving some suggestions about it.\n",
      "Correction 4: This report is intended to research the students regarding their daily lives at school and provide some suggestions on it.\n",
      "Correction 5: This report is designed to research the students concerning their daily lives at school and offer some advice on it.\n",
      "Error types:  []\n",
      "\n",
      "[Attempt 1/1] Error: Request timed out.. Retrying in 2 seconds...\n",
      "[SKIPPED] Model did not respond in time. Skipping this sentence.\n",
      "Attempt 1: Empty response, retrying...\n",
      "[Attempt 1/1] Error: Request timed out.. Retrying in 2 seconds...\n"
     ]
    },
    {
     "name": "stderr",
     "output_type": "stream",
     "text": [
      " 78%|█████████████████████████████▊        | 101/129 [46:04<1:16:08, 163.16s/it]"
     ]
    },
    {
     "name": "stdout",
     "output_type": "stream",
     "text": [
      "[SKIPPED] Model did not respond in time. Skipping this sentence.\n",
      "Attempt 2: Empty response, retrying...\n",
      "\n",
      "Original: While I 'm stayin there I would like to practise tennis and basketball , as I have been playing both sports all my life , and I have to say that I am very good at both .\n",
      "No corrections found.\n",
      "\n",
      "[Attempt 1/1] Error: Request timed out.. Retrying in 2 seconds...\n",
      "[SKIPPED] Model did not respond in time. Skipping this sentence.\n",
      "Attempt 1: Empty response, retrying...\n"
     ]
    },
    {
     "name": "stderr",
     "output_type": "stream",
     "text": [
      " 79%|██████████████████████████████        | 102/129 [52:43<1:45:17, 233.99s/it]"
     ]
    },
    {
     "name": "stdout",
     "output_type": "stream",
     "text": [
      "\n",
      "Original:     From my point of view , the real question is : Who said that is enjoyable ?\n",
      "Gold labels:  c c c c c c c c c c c c c c c c c\n",
      "Pred labels:  c c c c c c c c c c c c c c i c c\n",
      "Gold:         From my point of view , the real question is : Who said that is enjoyable ?\n",
      "Correction 1: From my point of view, the real question is: Who said that is enjoyable?\n",
      "Correction 2: From my point of view, the real question is: Who said something is enjoyable?\n",
      "Correction 3: From my point of view, the real question is: Who said it is enjoyable?\n",
      "Correction 4: From my point of view, the real question is: Who said that it is enjoyable?\n",
      "Correction 5: From my point of view, the real question is: Who said that this is enjoyable?\n",
      "Error types:  []\n",
      "\n"
     ]
    },
    {
     "name": "stderr",
     "output_type": "stream",
     "text": [
      " 80%|██████████████████████████████▎       | 103/129 [53:05<1:13:51, 170.43s/it]"
     ]
    },
    {
     "name": "stdout",
     "output_type": "stream",
     "text": [
      "\n",
      "Original:     These two are easy to connect , I could climb and make pictures at the same time .\n",
      "Gold labels:  c c c c c c c c c c c c c c c c c c\n",
      "Pred labels:  c c c c c c c c c c c i c c c c c c\n",
      "Gold:         These two are easy to connect , I could climb and make pictures at the same time .\n",
      "Correction 1: These two are easy to connect. I could climb and make pictures at the same time.\n",
      "Correction 2: These two are easy to connect. I could climb and take pictures at the same time.\n",
      "Correction 3: These two are easy to connect. I could climb and make photos at the same time.\n",
      "Correction 4: These two are easy to connect. I could climb and take photos at the same time.\n",
      "Correction 5: These are two easy to connect. I could climb and make pictures at the same time.\n",
      "Error types:  []\n",
      "\n"
     ]
    },
    {
     "name": "stderr",
     "output_type": "stream",
     "text": [
      " 81%|████████████████████████████████▏       | 104/129 [53:14<50:50, 122.00s/it]"
     ]
    },
    {
     "name": "stdout",
     "output_type": "stream",
     "text": [
      "\n",
      "Original:     This leads to an escalation of your anger .\n",
      "Gold labels:  c c c c c c c c c\n",
      "Pred labels:  c c c c i c c c c\n",
      "Gold:         This leads to an escalation of your anger .\n",
      "Correction 1: This leads to an escalation of your anger.\n",
      "Correction 2: This leads to an increase in your anger.\n",
      "Correction 3: An escalation of your anger occurs.\n",
      "Correction 4: Your anger escalates.\n",
      "Correction 5: An escalation in your anger happens.\n",
      "Error types:  []\n",
      "\n"
     ]
    },
    {
     "name": "stderr",
     "output_type": "stream",
     "text": [
      " 81%|█████████████████████████████████▎       | 105/129 [53:23<35:13, 88.07s/it]"
     ]
    },
    {
     "name": "stdout",
     "output_type": "stream",
     "text": [
      "\n",
      "Original:     Somebody could give you not enough change .\n",
      "Gold labels:  c c c c c c c c\n",
      "Pred labels:  c c c c i c i c\n",
      "Gold:         Somebody could give you not enough change .\n",
      "Correction 1: Somebody could give you too much change.\n",
      "Correction 2: Somebody could give you the wrong amount of change.\n",
      "Correction 3: Somebody could give you insufficient change.\n",
      "Correction 4: Somebody could give you inadequate change.\n",
      "Correction 5: Somebody could give you incorrect change.\n",
      "Error types:  []\n",
      "\n"
     ]
    },
    {
     "name": "stderr",
     "output_type": "stream",
     "text": [
      " 82%|█████████████████████████████████▋       | 106/129 [53:42<25:45, 67.22s/it]"
     ]
    },
    {
     "name": "stdout",
     "output_type": "stream",
     "text": [
      "\n",
      "Original:     For the accommodation , I would prefer in tents because I like adventure and simplicity .\n",
      "Gold labels:  c c c c c c c c i c c c c c c c\n",
      "Pred labels:  c c c c c c c i i c c c c c c c\n",
      "Gold:         For the accommodation , I would prefer in tent because I like adventure and simplicity .\n",
      "Correction 1: For the accommodation, I would prefer tents because I like adventure and simplicity.\n",
      "Correction 2: For the accommodation, I would prefer to stay in tents because I like adventure and simplicity.\n",
      "Correction 3: For the accommodation, I prefer tents because I like adventure and simplicity.\n",
      "Correction 4: For the accommodation, I would prefer tents as I like adventure and simplicity.\n",
      "Correction 5: For the accommodation, I prefer staying in tents because I like adventure and simplicity.\n",
      "Error types:  ['AGN']\n",
      "\n"
     ]
    },
    {
     "name": "stderr",
     "output_type": "stream",
     "text": [
      " 83%|██████████████████████████████████       | 107/129 [54:05<19:52, 54.22s/it]"
     ]
    },
    {
     "name": "stdout",
     "output_type": "stream",
     "text": [
      "\n",
      "Original:     I 'm writing to you to relate my experience in helping at a pop concert last month .\n",
      "Gold labels:  c c c c c c i c c c c c c c c c c c\n",
      "Pred labels:  c c c c c c i c c i c c c c c c c c\n",
      "Gold:         I 'm writing to you to tell you about my experience in helping at a pop concert last month .\n",
      "Correction 1: I'm writing to you to relate my experience in helping at a pop concert last month.\n",
      "Correction 2: I'm writing to you to relate my experience at a pop concert last month.\n",
      "Correction 3: I wrote to you to relate my experience in helping at a pop concert last month.\n",
      "Correction 4: I'm writing to you about my experience in helping at a pop concert last month.\n",
      "Correction 5: I'm writing to you to tell you about my experience in helping at a pop concert last month.\n",
      "Error types:  ['L']\n",
      "\n"
     ]
    },
    {
     "name": "stderr",
     "output_type": "stream",
     "text": [
      " 84%|██████████████████████████████████▎      | 108/129 [54:30<15:52, 45.38s/it]"
     ]
    },
    {
     "name": "stdout",
     "output_type": "stream",
     "text": [
      "\n",
      "Original:     At the begining I would like to thank You for Your letter - it pleased me much .\n",
      "Gold labels:  c c i c c c c c c c c c c c c c c c\n",
      "Pred labels:  i c i c c c c c c c c c c c c c c c\n",
      "Gold:         At the beginning I would like to thank You for Your letter - it pleased me much .\n",
      "Correction 1: At the beginning I would like to thank you for your letter - it pleased me much.\n",
      "Correction 2: At the begining I would like to thank you for your letter - it pleased me.\n",
      "Correction 3: At the begining I would like to thank You for Your letter - it pleased me.\n",
      "Correction 4: At the begining I would like to thank You for Your letter - it pleased me much.\n",
      "Correction 5: At the beginning I would like to thank You for Your letter - it pleased me.\n",
      "Error types:  ['S']\n",
      "\n"
     ]
    },
    {
     "name": "stderr",
     "output_type": "stream",
     "text": [
      " 84%|██████████████████████████████████▋      | 109/129 [55:12<14:43, 44.18s/it]"
     ]
    },
    {
     "name": "stdout",
     "output_type": "stream",
     "text": [
      "\n",
      "Original:     In reference about the date of the travel , I would like to travel in July because at the moment I am working at the University and I only have July to take my holidays .\n",
      "Gold labels:  c c i c c c c c c c c c c c c c c c c c c c c c c c c c c c c c c c c c\n",
      "Pred labels:  c c i c c c c i c c c c c c c c c c c c c c c c c c c c c c c c c c c c\n",
      "Gold:         In reference to the date of the travel , I would like to travel in July because at the moment I am working at the University and I only have July to take my holidays .\n",
      "Correction 1: In reference to the date of the travel, I would like to travel in July because at the moment I am working at the university and I only have July to take my holidays.\n",
      "Correction 2: In reference to the date of travel, I would like to travel in July because at the moment I am working at the university and I only have July to take my holidays.\n",
      "Correction 3: In reference to the date of the trip, I would like to travel in July because at the moment I am working at the university and I only have July to take my holidays.\n",
      "Correction 4: In reference to the travel date, I would like to travel in July because at the moment I am working at the university and I only have July to take my holidays.\n",
      "Correction 5: I refer to the date of the travel; I would like to travel in July because at the moment I am working at the university and I only have July to take my holidays.\n",
      "Error types:  ['RT']\n",
      "\n"
     ]
    },
    {
     "name": "stderr",
     "output_type": "stream",
     "text": [
      " 85%|██████████████████████████████████▉      | 110/129 [55:24<10:59, 34.72s/it]"
     ]
    },
    {
     "name": "stdout",
     "output_type": "stream",
     "text": [
      "\n",
      "Original:     Last month , I was partly in the concert teams .\n",
      "Gold labels:  c c c c c c c c c c c\n",
      "Pred labels:  c c c c c c c c c i c\n",
      "Gold:         Last month , I was partly in the concert teams .\n",
      "Correction 1: Last month, I was part of the concert team.\n",
      "Correction 2: Last month, I was in part of the concert teams.\n",
      "Correction 3: Last month, I was in the concert teams.\n",
      "Correction 4: Last month, I was partly in a concert team.\n",
      "Correction 5: Last month, I was in the concert team.\n",
      "Error types:  []\n",
      "\n"
     ]
    },
    {
     "name": "stderr",
     "output_type": "stream",
     "text": [
      " 86%|███████████████████████████████████▎     | 111/129 [55:46<09:16, 30.94s/it]"
     ]
    },
    {
     "name": "stdout",
     "output_type": "stream",
     "text": [
      "\n",
      "Original:     It all started when one of the organizers asked me to help him at a concert of my favorite band .\n",
      "Gold labels:  c c c c c c c c c c c c c c c c c c i c c\n",
      "Pred labels:  c c c c c c c c c c c c c c c c i c i c c\n",
      "Gold:         It all started when one of the organizers asked me to help him at a concert of my favourite band .\n",
      "Correction 1: It all started when one of the organizers asked me to help him at a concert of my favorite band.\n",
      "Correction 2: It all started when an organizer asked me to help him at a concert of my favorite band.\n",
      "Correction 3: It all started when one of the organizers asked me to help at a concert of my favorite band.\n",
      "Correction 4: It all started when one of the organizers asked me to help him at a concert by my favorite band.\n",
      "Correction 5: It all started when one of the organizers asked me to help him at a concert featuring my favorite band.\n",
      "Error types:  ['SA']\n",
      "\n"
     ]
    },
    {
     "name": "stderr",
     "output_type": "stream",
     "text": [
      " 87%|███████████████████████████████████▌     | 112/129 [55:54<06:49, 24.10s/it]"
     ]
    },
    {
     "name": "stdout",
     "output_type": "stream",
     "text": [
      "\n",
      "Original:     I was very nervous talking with him .\n",
      "Gold labels:  c c c c c c c c\n",
      "Pred labels:  c c c c i c c c\n",
      "Gold:         I was very nervous talking with him .\n",
      "Correction 1: I was very nervous talking to him.\n",
      "Correction 2: I am very nervous talking with him.\n",
      "Correction 3: I was nervous when talking with him.\n",
      "Correction 4: Very nervous, I was talking with him.\n",
      "Correction 5: I was very nervous about talking with him.\n",
      "Error types:  []\n",
      "\n"
     ]
    },
    {
     "name": "stderr",
     "output_type": "stream",
     "text": [
      " 88%|███████████████████████████████████▉     | 113/129 [56:33<07:36, 28.51s/it]"
     ]
    },
    {
     "name": "stdout",
     "output_type": "stream",
     "text": [
      "\n",
      "Original:     I 've never been camping before , I guess I 'm not an outdoor girl , but I 'd like to give it a try , so I 'd rather tents than cabins .\n",
      "Gold labels:  c c c c c c c c c c c c c c c c c c c c c c c c c c c c c c c c c c\n",
      "Pred labels:  c c c c c c c c c c c c c c c c c c c c c c c c c c c c c c i c c c\n",
      "Gold:         I 've never been camping before , I guess I 'm not an outdoor girl , but I 'd like to give it a try , so I 'd rather tents than cabins .\n",
      "Correction 1: I've never been camping before. I guess I'm not an outdoor girl, but I'd like to give it a try, so I'd rather have tents than cabins.\n",
      "Correction 2: I've never been camping before. I guess I'm not an outdoor girl, but I'd like to give it a try, so I'd rather use tents than cabins.\n",
      "Correction 3: I've never been camping before. I guess I'm not an outdoor girl, but I'd like to give it a try, so I'd rather prefer tents than cabins.\n",
      "Correction 4: I've never been camping before. I guess I'm not an outdoor girl, but I'd like to give it a try, so I'd rather have different tents than cabins.\n",
      "Correction 5: I've never been camping before. I guess I'm not an outdoor girl, but I'd like to give it a try, so I'd rather have tents instead of cabins.\n",
      "Error types:  []\n",
      "\n"
     ]
    },
    {
     "name": "stderr",
     "output_type": "stream",
     "text": [
      " 88%|████████████████████████████████████▏    | 114/129 [56:48<06:04, 24.31s/it]"
     ]
    },
    {
     "name": "stdout",
     "output_type": "stream",
     "text": [
      "\n",
      "Original:     I was in the Plaza Espagna in Florence without a penny !\n",
      "Gold labels:  c c c c c c c c c c c c\n",
      "Pred labels:  c c i c c c c c c c c c\n",
      "Gold:         I was in the Plaza Espagna in Florence without a penny !\n",
      "Correction 1: I was in Plaza Espagna in Florence without a penny!\n",
      "Correction 2: I was in the Plaza de España in Florence without a penny!\n",
      "Correction 3: I was in the Plaza Espaces in Florence without a penny!\n",
      "Correction 4: I was in the Plaza España in Florence without a penny!\n",
      "Correction 5: I was in the Plaza Espagnet in Florence without a penny!\n",
      "Error types:  []\n",
      "\n"
     ]
    },
    {
     "name": "stderr",
     "output_type": "stream",
     "text": [
      " 89%|████████████████████████████████████▌    | 115/129 [57:29<06:50, 29.30s/it]"
     ]
    },
    {
     "name": "stdout",
     "output_type": "stream",
     "text": [
      "\n",
      "Original:     I felt really bad seeing my friends buy the latest fashion while the only thing I could do was tell them how great their clothes were and of course window - shop .\n",
      "Gold labels:  c c c c c c c c c c c c c c c c c c c c c c c c c c c c c c c c c\n",
      "Pred labels:  c c c c i c c c c c c c c c c c c c c c c c c c c c c c c c c c c\n",
      "Gold:         I felt really bad seeing my friends buy the latest fashion while the only thing I could do was tell them how great their clothes were and of course window - shop .\n",
      "Correction 1: I felt really bad seeing my friends buy the latest fashion while the only thing I could do was tell them how great their clothes looked and of course, window-shop.\n",
      "Correction 2: I felt really bad seeing my friends buy the latest fashion while the only thing I could do was tell them how great their clothes were and of course, window shop.\n",
      "Correction 3: I felt really bad seeing my friends buying the latest fashion while the only thing I could do was to tell them how great their clothes looked and of course, window-shop.\n",
      "Correction 4: I felt really bad seeing my friends buy the latest fashion while the only thing I could do was to tell them how great their clothes were and of course, window shop.\n",
      "Correction 5: I felt really bad seeing my friends buying the latest fashion while the only thing I could do was to tell them how great their clothes looked and of course, window-shop.\n",
      "Error types:  []\n",
      "\n"
     ]
    },
    {
     "name": "stderr",
     "output_type": "stream",
     "text": [
      " 90%|████████████████████████████████████▊    | 116/129 [58:18<07:40, 35.42s/it]"
     ]
    },
    {
     "name": "stdout",
     "output_type": "stream",
     "text": [
      "\n",
      "Original:     I 'll be taking an English Examination at the end of June and I think it would be a good idea if I can travel in July because it 's the only month I can spend abroad this year .\n",
      "Gold labels:  c c c c c c c c c c c c c c c c c c c c c c c c c c c c c c c c c c c c c c c c\n",
      "Pred labels:  c c c c c c i c c c c c c c c c c c c c c c c c c c c c c c c c c c c c c c c c\n",
      "Gold:         I 'll be taking an English Examination at the end of June and I think it would be a good idea if I can travel in July because it 's the only month I can spend abroad this year .\n",
      "Correction 1: I'll be taking an English examination at the end of June and I think it would be a good idea if I could travel in July because it's the only month I can spend abroad this year.\n",
      "Correction 2: I'll be taking an English examination at the end of June and I think it would be a good idea if I can travel in July because it's the only month I can spend abroad this year.\n",
      "Correction 3: I'll be taking an English examination at the end of June and I think it would be a good idea if I could travel in July because it's the only month I can afford to spend abroad this year.\n",
      "Correction 4: I'll be taking an English examination at the end of June and I think it would be a good idea if I could travel in July as it's the only month I can spend abroad this year.\n",
      "Correction 5: I'll be taking an English examination at the end of June and I think it would be a good idea if I could travel in July because it's the only month I can go abroad this year.\n",
      "Error types:  []\n",
      "\n"
     ]
    },
    {
     "name": "stderr",
     "output_type": "stream",
     "text": [
      " 91%|█████████████████████████████████████▏   | 117/129 [58:20<05:04, 25.34s/it]"
     ]
    },
    {
     "name": "stdout",
     "output_type": "stream",
     "text": [
      "\n",
      "Original:     thanking you in anticipation .\n",
      "Gold labels:  c c c c c\n",
      "Pred labels:  i c c c c\n",
      "Gold:         thanking you in anticipation .\n",
      "Correction 1: thanking you in anticipation\n",
      "Error types:  []\n",
      "\n"
     ]
    },
    {
     "name": "stderr",
     "output_type": "stream",
     "text": [
      " 91%|█████████████████████████████████████▌   | 118/129 [58:42<04:26, 24.27s/it]"
     ]
    },
    {
     "name": "stdout",
     "output_type": "stream",
     "text": [
      "\n",
      "Original:     However , in your letter is written some activities . I would choose Basketball and Tennis .\n",
      "Gold labels:  c c c c c c i c c c c c c c c c c\n",
      "Pred labels:  c c c c c i i i c c c c c c c c c\n",
      "Gold:         However , in your letter is mentioned some activities . I would choose Basketball and Tennis .\n",
      "Correction 1: However, in your letter some activities are written. I would choose basketball and tennis.\n",
      "Correction 2: However, your letter writes some activities. I would choose basketball and tennis.\n",
      "Correction 3: However, in your letter is written an activity. I would choose basketball and tennis.\n",
      "Correction 4: However, in your letter are written some activities. I would choose basketball and tennis.\n",
      "Correction 5: However, in your letter is written some activities. I choose basketball and tennis.\n",
      "Error types:  ['RV']\n",
      "\n"
     ]
    },
    {
     "name": "stderr",
     "output_type": "stream",
     "text": [
      " 92%|█████████████████████████████████████▊   | 119/129 [59:01<03:47, 22.73s/it]"
     ]
    },
    {
     "name": "stdout",
     "output_type": "stream",
     "text": [
      "\n",
      "Original:     I know , It was difficult and tired but I enjoyed a lot .\n",
      "Gold labels:  c c c i c c c i c c c i c c\n",
      "Pred labels:  c c c i c c c i c c c i i c\n",
      "Gold:         I know , it was difficult and tiring but I enjoyed lot .\n",
      "Correction 1: I know, it was difficult and tiring but I enjoyed a lot.\n",
      "Correction 2: I know, it was difficult and tired but I enjoyed it a lot.\n",
      "Correction 3: I know, it was difficult and tired but I enjoyed a great deal.\n",
      "Correction 4: I know, it was difficult and tiresome but I enjoyed a lot.\n",
      "Correction 5: I know, it was difficult and tired but I enjoyed myself a lot.\n",
      "Error types:  ['NO_LABEL', 'RP', 'RJ']\n",
      "\n"
     ]
    },
    {
     "name": "stderr",
     "output_type": "stream",
     "text": [
      " 93%|██████████████████████████████████████▏  | 120/129 [59:22<03:19, 22.16s/it]"
     ]
    },
    {
     "name": "stdout",
     "output_type": "stream",
     "text": [
      "\n",
      "Original:     All the stuff for children are in the same level as they have their eyes .\n",
      "Gold labels:  c c c c c i i c c c c c c c c c\n",
      "Pred labels:  c c c c c i i c c i c c c c c c\n",
      "Gold:         All the stuff for children is on the same level as they have their eyes .\n",
      "Correction 1: All the stuff for children is in the same level as they have their eyes.\n",
      "Correction 2: All the things for children are in the same level as they have their eyes.\n",
      "Correction 3: All the items for children are in the same level as they have their eyes.\n",
      "Correction 4: All the stuff for children are at the same level as they have their eyes.\n",
      "Correction 5: All the stuff for children is at the same level as they do have their eyes.\n",
      "Error types:  ['AGV', 'RT']\n",
      "\n"
     ]
    },
    {
     "name": "stderr",
     "output_type": "stream",
     "text": [
      " 94%|██████████████████████████████████████▍  | 121/129 [59:58<03:29, 26.23s/it]"
     ]
    },
    {
     "name": "stdout",
     "output_type": "stream",
     "text": [
      "\n",
      "Original:     ACCORDING TO YOUR REQUIREMENTS I WOULD LIKE TO ANSWER YOUR QUESTIONS REGARDING TRAVEL TIME , ACCOMMODATION 'S PREFERENCES AND ACTIVITIES WHICH I LIKE TO DO .\n",
      "Gold labels:  c c c c c c c c c c c c c c c c c c c c c c c c c c\n",
      "Pred labels:  c c c c c c c c c c c c c c c i c c c c c c c c c c\n",
      "Gold:         ACCORDING TO YOUR REQUIREMENTS I WOULD LIKE TO ANSWER YOUR QUESTIONS REGARDING TRAVEL TIME , ACCOMMODATION 'S PREFERENCES AND ACTIVITIES WHICH I LIKE TO DO .\n",
      "Correction 1: ACCORDING TO YOUR REQUIREMENTS, I WOULD LIKE TO ANSWER YOUR QUESTIONS REGARDING TRAVEL TIME.\n",
      "Correction 2: ACCORDING TO YOUR REQUIREMENTS, I WOULD LIKE TO ANSWER YOUR QUESTIONS REGARDING ACCOMMODATION'S PREFERENCES.\n",
      "Correction 3: ACCORDING TO YOUR REQUIREMENTS, I WOULD LIKE TO ANSWER YOUR QUESTIONS REGARDING ACTIVITIES WHICH I LIKE TO DO.\n",
      "Correction 4: ACCORDING TO YOUR REQUIREMENTS, I WOULD LIKE TO ANSWER YOUR QUESTIONS REGARDING TRAVEL TIME AND ACCOMMODATION'S PREFERENCES.\n",
      "Correction 5: ACCORDING TO YOUR REQUIREMENTS, I WOULD LIKE TO ANSWER YOUR QUESTIONS REGARDING TRAVEL TIME AND ACTIVITIES WHICH I LIKE TO DO.\n",
      "Error types:  []\n",
      "\n"
     ]
    },
    {
     "name": "stderr",
     "output_type": "stream",
     "text": [
      " 95%|████████████████████████████████████▉  | 122/129 [1:00:38<03:32, 30.35s/it]"
     ]
    },
    {
     "name": "stdout",
     "output_type": "stream",
     "text": [
      "\n",
      "Original:     THEY DON'T LIKE SHOPPING EITHER BECAUSE OF THE WEATHER ( SOMETIMES IT 'S TOO HOT OR TOO COLD FOR GOING OUTSIDE ) .\n",
      "Gold labels:  c c c c c c c c c c c c c c c c c c c c c c c\n",
      "Pred labels:  c c c c c c c c c c c c c c c c c c c i c c c\n",
      "Gold:         THEY DON'T LIKE SHOPPING EITHER BECAUSE OF THE WEATHER ( SOMETIMES IT 'S TOO HOT OR TOO COLD FOR GOING OUTSIDE ) .\n",
      "Correction 1: THEY DON'T LIKE SHOPPING EITHER BECAUSE THE WEATHER IS SOMETIMES TOO HOT OR TOO COLD FOR GOING OUTSIDE .\n",
      "Correction 2: THEY DON'T LIKE SHOPPING EITHER BECAUSE OF THE WEATHER, SOMETIMES IT'S TOO HOT OR TOO COLD FOR GOING OUTSIDE .\n",
      "Correction 3: THEY DON'T LIKE SHOPPING EITHER BECAUSE OF THE WEATHER. SOMETIMES IT IS TOO HOT OR TOO COLD FOR GOING OUTSIDE .\n",
      "Correction 4: THEY DON'T LIKE SHOPPING EITHER BECAUSE OF THE WEATHER: SOMETIMES IT'S TOO HOT OR TOO COLD FOR GOING OUTSIDE .\n",
      "Correction 5: THEY DON'T LIKE SHOPPING EITHER BECAUSE OF THE WEATHER - SOMETIMES IT IS TOO HOT OR TOO COLD FOR GOING OUTSIDE .\n",
      "Error types:  []\n",
      "\n"
     ]
    },
    {
     "name": "stderr",
     "output_type": "stream",
     "text": [
      " 95%|█████████████████████████████████████▏ | 123/129 [1:00:58<02:44, 27.43s/it]"
     ]
    },
    {
     "name": "stdout",
     "output_type": "stream",
     "text": [
      "\n",
      "Original:     I am very good at swimming as well because I practise this sport every week in my city .\n",
      "Gold labels:  c c c c c c c c c c c c c c c c c c c\n",
      "Pred labels:  c c c c c c c c c c i c c c c c c c c\n",
      "Gold:         I am very good at swimming as well because I practise this sport every week in my city .\n",
      "Correction 1: I am very good at swimming as well because I practice this sport every week in my city.\n",
      "Correction 2: I am very good at swimming as well and I practice this sport every week in my city.\n",
      "Correction 3: I am good at swimming as well because I practice this sport every week in my city.\n",
      "Correction 4: I am very good at swimming because I practice this sport every week in my city.\n",
      "Correction 5: I am very good at swimming as well because I practice this sport every week.\n",
      "Error types:  []\n",
      "\n"
     ]
    },
    {
     "name": "stderr",
     "output_type": "stream",
     "text": [
      " 96%|█████████████████████████████████████▍ | 124/129 [1:01:14<02:00, 24.01s/it]"
     ]
    },
    {
     "name": "stdout",
     "output_type": "stream",
     "text": [
      "\n",
      "Original:     However , it is not easy to get a refund or to change them .\n",
      "Gold labels:  c c c c c c c c c c c c c c c\n",
      "Pred labels:  c c c c c c c c c c c c c i c\n",
      "Gold:         However , it is not easy to get a refund or to change them .\n",
      "Correction 1: However, it is not easy to get a refund or to change them.\n",
      "Correction 2: However, it is not easy to get a refund or to exchange them.\n",
      "Correction 3: However, it is not easy to obtain a refund or to change them.\n",
      "Correction 4: However, it is not easy to obtain a refund or to exchange them.\n",
      "Correction 5: However, it is not easy to get a refund or to return them.\n",
      "Error types:  []\n",
      "\n"
     ]
    },
    {
     "name": "stderr",
     "output_type": "stream",
     "text": [
      " 97%|█████████████████████████████████████▊ | 125/129 [1:01:54<01:55, 28.85s/it]"
     ]
    },
    {
     "name": "stdout",
     "output_type": "stream",
     "text": [
      "\n",
      "Original:     For my stay in California I would prefer the accommodation in tents because this gives me a feeling of freedom and adventure and it is quite different to my live here in Greece .\n",
      "Gold labels:  c c c c c c c c c c c c c c c c c c c c c c c c c c c c c i c c c c\n",
      "Pred labels:  c c c c c c c c c c c i c c c c c c c c c c c c c c c c c i c c c c\n",
      "Gold:         For my stay in California I would prefer the accommodation in tents because this gives me a feeling of freedom and adventure and it is quite different to my life here in Greece .\n",
      "Correction 1: For my stay in California, I would prefer accommodation in tents because this gives me a feeling of freedom and adventure. It is quite different from my life here in Greece.\n",
      "Correction 2: For my stay in California, I would prefer the accommodation in tents because this gives me a feeling of freedom and adventure, and it is quite different from my life here in Greece.\n",
      "Correction 3: For my stay in California, I would prefer the accommodation in tents because this gives me a feeling of freedom and adventure. It is quite different from my life here in Greece.\n",
      "Correction 4: For my stay in California, I would prefer the accommodation in tents because this gives me a feeling of freedom and adventure and it is quite different to my live here in Greece. (This version is not corrected as per the instruction to be minimally corrected)\n",
      "Correction 5: For my stay in California, I would prefer the accommodation in tents because this gives me a feeling of freedom and adventure. It is quite different from my life here in Greece.\n",
      "Error types:  ['DN']\n",
      "\n"
     ]
    },
    {
     "name": "stderr",
     "output_type": "stream",
     "text": [
      " 98%|██████████████████████████████████████ | 126/129 [1:02:11<01:15, 25.30s/it]"
     ]
    },
    {
     "name": "stdout",
     "output_type": "stream",
     "text": [
      "\n",
      "Original:     I noticed that the artists were from only six countries insted that from around the world .\n",
      "Gold labels:  c c c c c c c c c c i c c c c c c\n",
      "Pred labels:  c c c c c c c c c c i i c c c c c\n",
      "Gold:         I noticed that the artists were from only six countries instead that from around the world .\n",
      "Correction 1: I noticed that the artists were from only six countries instead of around the world.\n",
      "Correction 2: I noticed that the artists were from only six countries not from around the world.\n",
      "Correction 3: I noticed that the artists were from only six countries instead from around the world.\n",
      "Correction 4: I noticed that the artists were from only six countries but from around the world.\n",
      "Correction 5: I noticed that the artists were from only six countries while they should have been from around the world.\n",
      "Error types:  ['S']\n",
      "\n"
     ]
    },
    {
     "name": "stderr",
     "output_type": "stream",
     "text": [
      " 98%|██████████████████████████████████████▍| 127/129 [1:02:51<00:59, 29.63s/it]"
     ]
    },
    {
     "name": "stdout",
     "output_type": "stream",
     "text": [
      "\n",
      "Original:     It may in many cases , not be TRUE but we can suspect that most of them wanted to become a celebrity and they had to know there is no private life unseparately contected to it .\n",
      "Gold labels:  c c c c c c c c c c c c c c c c c c c c c c c c c c c c c c c c c i c c c\n",
      "Pred labels:  c c c c c c c c c c c c c c c c c c c c c c c c c c c c c c c c i i c c c\n",
      "Gold:         It may in many cases , not be TRUE but we can suspect that most of them wanted to become a celebrity and they had to know there is no private life unseparately connected to it .\n",
      "Correction 1: It may not be true in many cases, but we can suspect that most of them wanted to become a celebrity and they had to know there is no private life unseparately contacted to it.\n",
      "Correction 2: It may not be true in many cases, but we can suspect that most of them wanted to become celebrities and they had to know there is no private life unseparately contacted to it.\n",
      "Correction 3: It may not be true in many cases, but we can suspect that most of them wanted to become a celebrity and they had to know there is no private life unseparately contacted to it.\n",
      "Correction 4: It may not be true in many cases, but we can suspect that most of them wanted to become a celebrity and they had to know there is no private life unseparately connected to it.\n",
      "Correction 5: It may not be true in many cases, but we can suspect that most of them wanted to become a celebrity and they had to know there is no private life unseparately contact to it.\n",
      "Error types:  ['S']\n",
      "\n"
     ]
    },
    {
     "name": "stderr",
     "output_type": "stream",
     "text": [
      " 99%|██████████████████████████████████████▋| 128/129 [1:03:04<00:24, 24.66s/it]"
     ]
    },
    {
     "name": "stdout",
     "output_type": "stream",
     "text": [
      "\n",
      "Original:     You must control you behaviour and try not implove so much yourself .\n",
      "Gold labels:  c c c c c c c c c c c c c\n",
      "Pred labels:  c c c i c c c c i c i i c\n",
      "Gold:         You must control you behaviour and try not implove so much yourself .\n",
      "Correction 1: You must control your behaviour and try not to improve yourself so much.\n",
      "Correction 2: You must control your behaviour and try not to improve so much.\n",
      "Correction 3: You must control your behaviour and try to improve yourself.\n",
      "Correction 4: You must control yourself and try not to improve so much.\n",
      "Correction 5: You must control your behaviour and try not to improve.\n",
      "Error types:  []\n",
      "\n"
     ]
    },
    {
     "name": "stderr",
     "output_type": "stream",
     "text": [
      "100%|███████████████████████████████████████| 129/129 [1:03:45<00:00, 29.66s/it]"
     ]
    },
    {
     "name": "stdout",
     "output_type": "stream",
     "text": [
      "\n",
      "Original:     Please , if you would be so kind and mind correct this mistake . I would be gratefull if you could correct too that show start at 20.15 not on 19.31 .\n",
      "Gold labels:  c c c c c c c c c c c c c c c c c i c c c c c c c i c c c c c c\n",
      "Pred labels:  c c c c i c c c c i i c c c c c c i c c c i i c i i c c c c c c\n",
      "Gold:         Please , if you would be so kind and mind correct this mistake . I would be grateful if you could correct too that show starts at 20.15 not on 19.31 .\n",
      "Correction 1: Please, if you would be so kind and mind correcting this mistake. I would be grateful if you could correct that shows start at 20.15 not on 19.31.\n",
      "Correction 2: Please, if you would be so kind and mind correcting this mistake. I would be gratefull if you could correct too that show starts at 20.15 not on 19.31.\n",
      "Correction 3: Please, if you would be so kind and mind correcting this mistake. I would be grateful if you could correct that show starts at 20.15 not on 19.31.\n",
      "Correction 4: Please, if you would be so kind and mind correcting this mistake. I would be gratefull if you could correct too shows start at 20.15 not on 19.31.\n",
      "Correction 5: Please, if you would be so kind and mind correcting this mistake. I would be grateful if you could correct that show starts at 20.15 not on 19.31.\n",
      "Error types:  ['DJ', 'AGV']\n",
      "\n"
     ]
    },
    {
     "name": "stderr",
     "output_type": "stream",
     "text": [
      "\n"
     ]
    },
    {
     "name": "stdout",
     "output_type": "stream",
     "text": [
      "[Attempt 1/1] Error: Connection error.. Retrying in 2 seconds...\n"
     ]
    },
    {
     "name": "stdout",
     "output_type": "stream",
     "text": [
      "[SKIPPED] Model did not respond in time. Skipping this sentence.\n",
      "Attempt 1: Empty response, retrying...\n"
     ]
    },
    {
     "name": "stdout",
     "output_type": "stream",
     "text": [
      "[Attempt 1/1] Error: Connection error.. Retrying in 2 seconds...\n"
     ]
    },
    {
     "name": "stderr",
     "output_type": "stream",
     "text": [
      "\r",
      "100%|██████████| 129/129 [14:16<00:00,  6.64s/it]"
     ]
    },
    {
     "name": "stderr",
     "output_type": "stream",
     "text": [
      "\r",
      "100%|██████████| 129/129 [14:16<00:00,  6.64s/it]"
     ]
    },
    {
     "name": "stdout",
     "output_type": "stream",
     "text": [
      "[SKIPPED] Model did not respond in time. Skipping this sentence.\n",
      "Attempt 2: Empty response, retrying...\n",
      "\n",
      "Original: Please , if you would be so kind and mind correct this mistake . I would be gratefull if you could correct too that show start at 20.15 not on 19.31 .\n",
      "No corrections found.\n",
      "\n"
     ]
    },
    {
     "name": "stderr",
     "output_type": "stream",
     "text": [
      "\n"
     ]
    }
   ],
   "source": [
    "#### all_false_positive_roberta = []  79 labels corretti mentre 49 errori di labels\n",
    "\n",
    "for sentence in tqdm(roberta_fce_only_fp):\n",
    "    sentence_corrections = get_corrections_tokenized_with_labels_from_data_bert(sentence, client)\n",
    "    all_false_positive_roberta.append(sentence_corrections)"
   ]
  },
  {
   "cell_type": "markdown",
   "id": "92234021-24e9-475f-b330-0a83b6cf9a95",
   "metadata": {},
   "source": [
    "# GENERATION FOR FN ONLY - FCE - ROBERTA"
   ]
  },
  {
   "cell_type": "code",
   "execution_count": null,
   "id": "e011a119-303b-4c5f-b47e-1c1f20c63626",
   "metadata": {
    "scrolled": true
   },
   "outputs": [
    {
     "name": "stdout",
     "output_type": "stream",
     "text": [
      "[SKIPPED] Model did not respond in time. Skipping this sentence.\n",
      "Attempt 2: Empty response, retrying...\n",
      "\n",
      "Original: When all money had gone from a bank , nobady there except Pat .\n",
      "No corrections found.\n",
      "\n"
     ]
    },
    {
     "name": "stdout",
     "output_type": "stream",
     "text": [
      "[Attempt 1/1] Error: Connection error.. Retrying in 2 seconds...\n"
     ]
    },
    {
     "name": "stdout",
     "output_type": "stream",
     "text": [
      "[SKIPPED] Model did not respond in time. Skipping this sentence.\n",
      "Attempt 1: Empty response, retrying...\n"
     ]
    },
    {
     "name": "stdout",
     "output_type": "stream",
     "text": [
      "[Attempt 1/1] Error: Connection error.. Retrying in 2 seconds...\n"
     ]
    },
    {
     "name": "stderr",
     "output_type": "stream",
     "text": [
      "\r",
      "100%|██████████| 130/130 [14:23<00:00,  6.62s/it]"
     ]
    },
    {
     "name": "stderr",
     "output_type": "stream",
     "text": [
      "\r",
      "100%|██████████| 130/130 [14:23<00:00,  6.64s/it]"
     ]
    },
    {
     "name": "stdout",
     "output_type": "stream",
     "text": [
      "[SKIPPED] Model did not respond in time. Skipping this sentence.\n",
      "Attempt 2: Empty response, retrying...\n",
      "\n",
      "Original: After that , I had to help people who had a ticket but ca n't find their seat .\n",
      "No corrections found.\n",
      "\n"
     ]
    },
    {
     "name": "stderr",
     "output_type": "stream",
     "text": [
      "\n"
     ]
    }
   ],
   "source": [
    "random.seed(41)\n",
    "\n",
    "sampled_sentences_roberta = random.sample(roberta_fce_only_fn, 130)\n",
    "\n",
    "all_false_negative_roberta = []\n",
    "\n",
    "\n",
    "for sentence in tqdm(sampled_sentences_roberta):\n",
    "    sentence_corrections = get_corrections_tokenized_with_labels_from_data_bert(sentence, client)\n",
    "    all_false_negative_roberta.append(sentence_corrections)"
   ]
  },
  {
   "cell_type": "code",
   "execution_count": null,
   "id": "cf77a8c7-20bc-4e9b-81df-a9740d048e9f",
   "metadata": {},
   "outputs": [],
   "source": []
  }
 ],
 "metadata": {
  "kernelspec": {
   "display_name": "Python 3 (ipykernel)",
   "language": "python",
   "name": "python3"
  },
  "language_info": {
   "codemirror_mode": {
    "name": "ipython",
    "version": 3
   },
   "file_extension": ".py",
   "mimetype": "text/x-python",
   "name": "python",
   "nbconvert_exporter": "python",
   "pygments_lexer": "ipython3",
   "version": "3.12.2"
  }
 },
 "nbformat": 4,
 "nbformat_minor": 5
}

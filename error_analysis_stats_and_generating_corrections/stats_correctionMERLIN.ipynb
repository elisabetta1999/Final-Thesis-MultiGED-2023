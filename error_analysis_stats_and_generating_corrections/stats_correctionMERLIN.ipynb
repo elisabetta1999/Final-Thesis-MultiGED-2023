{
 "cells": [
  {
   "cell_type": "markdown",
   "id": "81362070-03d2-4cf1-afa8-708ca2078b49",
   "metadata": {},
   "source": [
    "# Error Analysis"
   ]
  },
  {
   "cell_type": "code",
   "execution_count": 5,
   "id": "a60608e3-0995-4afe-90df-c914bad17072",
   "metadata": {},
   "outputs": [
    {
     "name": "stderr",
     "output_type": "stream",
     "text": [
      "/home/elisabetta/anaconda3/lib/python3.12/site-packages/torch/cuda/__init__.py:734: UserWarning: Can't initialize NVML\n",
      "  warnings.warn(\"Can't initialize NVML\")\n",
      "/home/elisabetta/anaconda3/lib/python3.12/site-packages/torch/cuda/__init__.py:734: UserWarning: Can't initialize NVML\n",
      "  warnings.warn(\"Can't initialize NVML\")\n",
      "comet_ml is installed but `COMET_API_KEY` is not set.\n"
     ]
    }
   ],
   "source": [
    "import pandas as pd\n",
    "import spacy\n",
    "import thesis_utils\n",
    "from IPython.display import display, HTML\n",
    "from collections import defaultdict\n",
    "from tqdm import tqdm\n",
    "import random\n",
    "import os\n",
    "import csv"
   ]
  },
  {
   "cell_type": "code",
   "execution_count": 6,
   "id": "01179886-d1fe-4710-9207-3ca12e1634d5",
   "metadata": {},
   "outputs": [],
   "source": [
    "xlm_roberta_merlin = './predictions_on_processedfiles/proc_ita_xlmroberta.tsv'"
   ]
  },
  {
   "cell_type": "code",
   "execution_count": 7,
   "id": "5b88e821-cd66-45c9-a19c-12ea2f8bbf10",
   "metadata": {},
   "outputs": [],
   "source": [
    "xlm_roberta_merlin_sents = thesis_utils.read_tsv_file_and_find_sentences_with_headers(xlm_roberta_merlin)"
   ]
  },
  {
   "cell_type": "code",
   "execution_count": 8,
   "id": "3a597881-9bbd-4977-a6d1-b1d65dacfe4d",
   "metadata": {},
   "outputs": [],
   "source": [
    "def evaluate_error_types_recall_only_merlin(sentences, dataset, print_results=True):\n",
    "    error_stats = defaultdict(lambda: {\"gold_i\": 0, \"correct_pred_i\": 0})\n",
    "    \n",
    "    for sentence in sentences:\n",
    "        for line in sentence:\n",
    "            if dataset == 'merlin':\n",
    "                error_type = line[6]\n",
    "                gold_label = line[-2]\n",
    "                pred_label = line[-1]\n",
    "                if gold_label == 'i':\n",
    "                    error_stats[error_type][\"gold_i\"] += 1\n",
    "                    if pred_label == 'i':\n",
    "                        error_stats[error_type][\"correct_pred_i\"] += 1\n",
    "            elif dataset == 'fce':\n",
    "                error_type = line[3]\n",
    "                gold_label = line[-2]\n",
    "                pred_label = line[-1]\n",
    "                if gold_label == 'i':\n",
    "                    error_stats[error_type][\"gold_i\"] += 1\n",
    "                    if pred_label == 'i':\n",
    "                        error_stats[error_type][\"correct_pred_i\"] += 1\n",
    "            elif dataset == 'realec':\n",
    "                gold_label = line[-2]\n",
    "                pred_label = line[-1]\n",
    "                error_type = line[2]#they looked only at the first layer of the annotations\n",
    "                # for i in range(2, len(line) - 2, 2):\n",
    "                #     error_type = line[i]\n",
    "                if gold_label == 'i':\n",
    "                    error_stats[error_type][\"gold_i\"] += 1\n",
    "                    if pred_label == 'i':\n",
    "                        error_stats[error_type][\"correct_pred_i\"] += 1\n",
    "\n",
    "    if print_results:\n",
    "        header = f\"| {'Error Code':<23} | {'Gold':>6} | {'True Pos.':>7} | {'False Neg.':>10} | {'Recall':>6} |\"\n",
    "        print(header)\n",
    "        print(\"|\" + \"-\"*(len(header)-2) + \"|\")\n",
    "\n",
    "        total_gold = 0\n",
    "        total_correct = 0\n",
    "\n",
    "        sorted_items = sorted(\n",
    "            error_stats.items(), \n",
    "            key=lambda item: item[1][\"correct_pred_i\"] / item[1][\"gold_i\"] if item[1][\"gold_i\"] > 0 else 0.0, \n",
    "            reverse=True\n",
    "        )\n",
    "\n",
    "        for error_type, stats in sorted_items:\n",
    "            gold_i = stats[\"gold_i\"]\n",
    "            correct_pred_i = stats[\"correct_pred_i\"]\n",
    "            false_neg = gold_i - correct_pred_i\n",
    "            recall = correct_pred_i / gold_i if gold_i > 0 else 0.0\n",
    "            print(f\"| {error_type:<23} | {gold_i:6d} | {correct_pred_i:9d} | {false_neg:10d} | {recall:6.2f} |\")\n",
    "            \n",
    "            total_gold += gold_i\n",
    "            total_correct += correct_pred_i\n",
    "\n",
    "        total_false_neg = total_gold - total_correct\n",
    "        overall_recall = total_correct / total_gold if total_gold > 0 else 0.0\n",
    "\n",
    "        print(\"|\" + \"-\"*(len(header)-2) + \"|\")\n",
    "        print(f\"| {'TOTAL':<23} | {total_gold:6d} | {total_correct:9d} | {total_false_neg:10d} | {overall_recall:6.2f} |\")\n",
    "\n",
    "    return error_stats\n"
   ]
  },
  {
   "cell_type": "code",
   "execution_count": 9,
   "id": "63add762-208d-4b2d-9deb-cbc872131e33",
   "metadata": {
    "scrolled": true
   },
   "outputs": [
    {
     "name": "stdout",
     "output_type": "stream",
     "text": [
      "| Error Code              |   Gold | True Pos. | False Neg. | Recall |\n",
      "|--------------------------------------------------------------------|\n",
      "| C_Coh_jump              |      1 |         1 |          0 |   1.00 |\n",
      "| O_Capit                 |     43 |        36 |          7 |   0.84 |\n",
      "| G_Refl                  |      4 |         3 |          1 |   0.75 |\n",
      "| O_Graph                 |    154 |       108 |         46 |   0.70 |\n",
      "| O_Wordbd                |     10 |         7 |          3 |   0.70 |\n",
      "| S_Var                   |      3 |         2 |          1 |   0.67 |\n",
      "| G_Verb_compl            |     17 |        11 |          6 |   0.65 |\n",
      "| O_Punct                 |     62 |        38 |         24 |   0.61 |\n",
      "| G_Prep                  |     82 |        49 |         33 |   0.60 |\n",
      "| G_Verb_main             |     28 |        16 |         12 |   0.57 |\n",
      "| G_Morphol_Wrong         |     52 |        29 |         23 |   0.56 |\n",
      "|                         |    295 |       162 |        133 |   0.55 |\n",
      "| G_Inflect_Inexist       |     26 |        14 |         12 |   0.54 |\n",
      "| S_Txt                   |     17 |         9 |          8 |   0.53 |\n",
      "| G_Clit                  |     14 |         7 |          7 |   0.50 |\n",
      "| O_Apostr                |      4 |         2 |          2 |   0.50 |\n",
      "| P_Request               |      4 |         2 |          2 |   0.50 |\n",
      "| H_Intellts              |      2 |         1 |          1 |   0.50 |\n",
      "| G_Pos                   |     22 |        10 |         12 |   0.45 |\n",
      "| G_Art                   |     72 |        30 |         42 |   0.42 |\n",
      "| G_Conj                  |     28 |        11 |         17 |   0.39 |\n",
      "| H_Intelltxt             |     79 |        31 |         48 |   0.39 |\n",
      "| G_Valency               |     28 |        10 |         18 |   0.36 |\n",
      "| V_FS_form               |      3 |         1 |          2 |   0.33 |\n",
      "| G_Agr                   |     15 |         5 |         10 |   0.33 |\n",
      "| V_FS                    |     13 |         4 |          9 |   0.31 |\n",
      "| G_Neg                   |      4 |         1 |          3 |   0.25 |\n",
      "| G_Wo                    |     51 |        11 |         40 |   0.22 |\n",
      "| G_Verb                  |     37 |         5 |         32 |   0.14 |\n",
      "| C_Con_accur             |      1 |         0 |          1 |   0.00 |\n",
      "| V_semdenot_word_fs      |      1 |         0 |          1 |   0.00 |\n",
      "|--------------------------------------------------------------------|\n",
      "| TOTAL                   |   1172 |       616 |        556 |   0.53 |\n"
     ]
    }
   ],
   "source": [
    "roberta_merlin_stats = evaluate_error_types_recall_only_merlin(xlm_roberta_merlin_sents,'merlin')"
   ]
  },
  {
   "cell_type": "code",
   "execution_count": 10,
   "id": "1145f322-4e2c-4524-a86c-1a53966d22ac",
   "metadata": {},
   "outputs": [
    {
     "name": "stdout",
     "output_type": "stream",
     "text": [
      "False Positive Sentences (roberta-merlin): 42\n",
      "False Negative Sentences (roberta-merlin): 260\n",
      "\n"
     ]
    }
   ],
   "source": [
    "def find_false_positives_and_false_negatives(list_sentences, dataset):\n",
    "    only_fp = []\n",
    "    only_fn = []\n",
    "    both_fp_fn = []\n",
    "\n",
    "    false_negatives_by_type_clean = defaultdict(set)\n",
    "    false_negatives_by_type_all = defaultdict(set)\n",
    "\n",
    "    for sentence in list_sentences:\n",
    "        has_fp = any(token[-1] == 'i' and token[-2] == 'c' for token in sentence)\n",
    "        has_fn = any(token[-1] == 'c' and token[-2] == 'i' for token in sentence)\n",
    "\n",
    "        if has_fp and not has_fn:\n",
    "            only_fp.append(sentence)\n",
    "        elif has_fn and not has_fp:\n",
    "            only_fn.append(sentence)\n",
    "        elif has_fp and has_fn:\n",
    "            both_fp_fn.append(sentence)\n",
    "\n",
    "    for sentence in only_fn:\n",
    "        if dataset == 'merlin':\n",
    "            for token in sentence:\n",
    "                if token[-1] == 'c' and token[-2] == 'i' and len(token) > 6:\n",
    "                    error_type = token[6] if token[6] else 'NO_LABEL'\n",
    "                    false_negatives_by_type_clean[error_type].add(tuple(tuple(t) for t in sentence))\n",
    "        elif dataset == 'fce':\n",
    "            for token in sentence:\n",
    "                if token[-1] == 'c' and token[-2] == 'i' and len(token) > 3:\n",
    "                    error_type = token[3] if token[3] else 'NO_LABEL'\n",
    "                    false_negatives_by_type_clean[error_type].add(tuple(tuple(t) for t in sentence))\n",
    "        else:\n",
    "            for token in sentence:\n",
    "                if token[-1] == 'c' and token[-2] == 'i':\n",
    "                    error_type = token[2] if token[2] else 'NO_LABEL'\n",
    "                    false_negatives_by_type_clean[error_type].add(tuple(tuple(t) for t in sentence))\n",
    "\n",
    "    for sentence in both_fp_fn:\n",
    "        if dataset == 'merlin':\n",
    "            for token in sentence:\n",
    "                if token[-1] == 'c' and token[-2] == 'i' and len(token) > 6:\n",
    "                    error_type = token[6] if token[6] else 'NO_LABEL'\n",
    "                    false_negatives_by_type_all[error_type].add(tuple(tuple(t) for t in sentence))\n",
    "        elif dataset == 'fce':\n",
    "            for token in sentence:\n",
    "                if token[-1] == 'c' and token[-2] == 'i' and len(token) > 3:\n",
    "                    error_type = token[3] if token[3] else 'NO_LABEL'\n",
    "                    false_negatives_by_type_all[error_type].add(tuple(tuple(t) for t in sentence))\n",
    "        else:\n",
    "            for token in sentence:\n",
    "                if token[-1] == 'c' and token[-2] == 'i':\n",
    "                    error_type = token[2] if token[2] else 'NO_LABEL'\n",
    "                    false_negatives_by_type_all[error_type].add(tuple(tuple(t) for t in sentence))\n",
    "\n",
    "    false_negatives_by_type_clean = {k: list(v) for k, v in false_negatives_by_type_clean.items()}\n",
    "    false_negatives_by_type_all = {k: list(v) for k, v in false_negatives_by_type_all.items()}\n",
    "\n",
    "    return only_fp, only_fn, both_fp_fn, false_negatives_by_type_clean, false_negatives_by_type_all\n",
    "\n",
    "\n",
    "roberta_merlin_only_fp, roberta_merlin_only_fn, roberta_merlin_fp_and_fn, roberta_merlin_only_fn_error_type, roberta_merlin_fn_fp_error_type = find_false_positives_and_false_negatives(xlm_roberta_merlin_sents,'merlin')\n",
    "print(f\"False Positive Sentences (roberta-merlin): {len(roberta_merlin_only_fp)}\")\n",
    "print(f\"False Negative Sentences (roberta-merlin): {len(roberta_merlin_only_fn)}\\n\")"
   ]
  },
  {
   "cell_type": "code",
   "execution_count": 11,
   "id": "7eae9dc8-6f27-4d1d-9398-f2b263daa048",
   "metadata": {
    "scrolled": true
   },
   "outputs": [
    {
     "name": "stdout",
     "output_type": "stream",
     "text": [
      "| C_Con_accur        | FN:      1 | FP+FN:      0 |\n",
      "| G_Agr              | FN:      8 | FP+FN:      1 |\n",
      "| G_Art              | FN:     28 | FP+FN:      8 |\n",
      "| G_Clit             | FN:      7 | FP+FN:      0 |\n",
      "| G_Conj             | FN:     13 | FP+FN:      4 |\n",
      "| G_Inflect_Inexist  | FN:     10 | FP+FN:      2 |\n",
      "| G_Morphol_Wrong    | FN:     15 | FP+FN:      5 |\n",
      "| G_Neg              | FN:      2 | FP+FN:      0 |\n",
      "| G_Pos              | FN:     10 | FP+FN:      2 |\n",
      "| G_Prep             | FN:     27 | FP+FN:      4 |\n",
      "| G_Refl             | FN:      1 | FP+FN:      0 |\n",
      "| G_Valency          | FN:     12 | FP+FN:      5 |\n",
      "| G_Verb             | FN:     20 | FP+FN:      5 |\n",
      "| G_Verb_compl       | FN:      6 | FP+FN:      0 |\n",
      "| G_Verb_main        | FN:      8 | FP+FN:      1 |\n",
      "| G_Wo               | FN:     16 | FP+FN:      1 |\n",
      "| H_Intellts         | FN:      1 | FP+FN:      0 |\n",
      "| H_Intelltxt        | FN:     21 | FP+FN:     10 |\n",
      "| NO_LABEL           | FN:     80 | FP+FN:     22 |\n",
      "| O_Apostr           | FN:      2 | FP+FN:      0 |\n",
      "| O_Capit            | FN:      7 | FP+FN:      0 |\n",
      "| O_Graph            | FN:     31 | FP+FN:     14 |\n",
      "| O_Punct            | FN:     18 | FP+FN:      4 |\n",
      "| O_Wordbd           | FN:      2 | FP+FN:      0 |\n",
      "| P_Request          | FN:      0 | FP+FN:      2 |\n",
      "| S_Txt              | FN:      2 | FP+FN:      2 |\n",
      "| S_Var              | FN:      0 | FP+FN:      1 |\n",
      "| V_FS               | FN:      5 | FP+FN:      2 |\n",
      "| V_FS_form          | FN:      1 | FP+FN:      1 |\n",
      "| V_semdenot_word_fs | FN:      1 | FP+FN:      0 |\n"
     ]
    }
   ],
   "source": [
    "for key in sorted(set(roberta_merlin_only_fn_error_type) | set(roberta_merlin_fn_fp_error_type)):\n",
    "    fn_count = len(roberta_merlin_only_fn_error_type.get(key, []))\n",
    "    fp_fn_count = len(roberta_merlin_fn_fp_error_type.get(key, []))\n",
    "    print(f\"| {key:<18} | FN: {fn_count:6d} | FP+FN: {fp_fn_count:6d} |\")"
   ]
  },
  {
   "cell_type": "code",
   "execution_count": 74,
   "id": "95f34705-5cfd-4942-b42f-a445099e5dcd",
   "metadata": {
    "scrolled": true
   },
   "outputs": [
    {
     "name": "stdout",
     "output_type": "stream",
     "text": [
      "\n",
      "=== Sentence 1 ===\n",
      "TOKENS:        Ciao  | Caro  | ,     | come  | stai  | ?    \n",
      "CORR. TH1:   Ciao  | Caro  | ,     | come  | stai  | ?    \n",
      "CORR. TH2:   Ciao  | caro  | ,     | come  | stai  | ?    \n",
      "ERROR TYPES:   S_Txt | S_Txt | S_Txt | S_Txt | S_Txt | S_Txt\n",
      "GOLD LABELS:   c     | c     | c     | c     | c     | c    \n",
      "PRED LABELS:   c     | i     | c     | c     | c     | c    \n",
      "\n",
      "=== Sentence 2 ===\n",
      "TOKENS:        Tanto       | non         | bisognò     | di          | prenotare   | un          | alloggio    | .        \n",
      "CORR. TH1:   Tanto       | non         | bisogno     | di          | prenotare   | un          | alloggio    | .        \n",
      "CORR. TH2:               |             |             |             |             |             |             |          \n",
      "ERROR TYPES:   G_Verb_main | G_Verb_main | G_Verb_main | G_Verb_main | G_Verb_main | G_Verb_main | G_Verb_main | G_Valency\n",
      "GOLD LABELS:   c           | c           | i           | c           | c           | c           | c           | c        \n",
      "PRED LABELS:   c           | c           | i           | i           | c           | c           | c           | c        \n",
      "\n",
      "=== Sentence 3 ===\n",
      "TOKENS:        La           | mia          | esperienza   | lavorativa   | questi       | .\n",
      "CORR. TH1:   La           | mia          | esperienza   | lavorativa   | questa       | .\n",
      "CORR. TH2:                |              |              |              |              |  \n",
      "ERROR TYPES:   G_Verb_compl | G_Verb_compl | G_Verb_compl | G_Verb_compl | G_Verb_compl | -\n",
      "GOLD LABELS:   c            | c            | c            | c            | i            | c\n",
      "PRED LABELS:   c            | c            | c            | c            | i            | i\n",
      "\n",
      "=== Sentence 4 ===\n",
      "TOKENS:        Vorrei | presentarmi | in   | breve | e           | darVi       | alcuni      | informazioni | sulla       | mia         | persona     | .          \n",
      "CORR. TH1:   Vorrei | presentarmi | in   | breve | e           | darVi       | alcune      | informazioni | sulla       | mia         | persona     | .          \n",
      "CORR. TH2:   Vorrei | presentarmi | in   | breve | e           | darVi       | alcune      | informazioni | sulla       | mia         | persona     | .          \n",
      "ERROR TYPES:   V_FS   | V_FS        | V_FS | V_FS  | H_Intelltxt | H_Intelltxt | H_Intelltxt | H_Intelltxt  | H_Intelltxt | H_Intelltxt | H_Intelltxt | H_Intelltxt\n",
      "GOLD LABELS:   c      | c           | c    | c     | c           | c           | i           | c            | c           | c           | c           | c          \n",
      "PRED LABELS:   c      | c           | i    | c     | c           | c           | i           | c            | c           | c           | c           | c          \n",
      "\n",
      "=== Sentence 5 ===\n",
      "TOKENS:        Forse | ti | piaci | ?\n",
      "CORR. TH1:   Forse | ti | piaci | ?\n",
      "CORR. TH2:         |    |       |  \n",
      "ERROR TYPES:   -     | -  | -     | -\n",
      "GOLD LABELS:   c     | c  | c     | c\n",
      "PRED LABELS:   c     | c  | i     | c\n",
      "\n",
      "=== Sentence 6 ===\n",
      "TOKENS:        Secondo | me | l' | amizicia | virtuale | sia | possibile | solo | in | alcune | parte | .\n",
      "CORR. TH1:   Secondo | me | l' | amicizia | virtuale | è   | possibile | solo | in | alcune | parti | .\n",
      "CORR. TH2:           |    |    |          |          |     |           |      |    |        |       |  \n",
      "ERROR TYPES:   -       | -  | -  | -        | -        | -   | -         | -    | -  | -      | -     | -\n",
      "GOLD LABELS:   c       | c  | c  | i        | c        | i   | c         | c    | c  | c      | i     | c\n",
      "PRED LABELS:   c       | c  | c  | i        | c        | i   | c         | c    | c  | i      | i     | c\n",
      "\n",
      "=== Sentence 7 ===\n",
      "TOKENS:        Non         | mi          | piace       | tanto       | ,           | perché      | i           | nostri      | clienti     | non         | sono        | tanto       | gentile     | sai         | ...        \n",
      "CORR. TH1:   Non         | mi          | piace       | tanto       | ,           | perché      | i           | nostri      | clienti     | non         | sono        | tanto       | gentili     | sai         | ...        \n",
      "CORR. TH2:   Non         | mi          | piace       | tanto       | ,           | perché      | i           | nostri      | clienti     | non         | sono        | tanto       | gentili     | sai         | ...        \n",
      "ERROR TYPES:   H_Intelltxt | H_Intelltxt | H_Intelltxt | H_Intelltxt | H_Intelltxt | H_Intelltxt | H_Intelltxt | H_Intelltxt | H_Intelltxt | H_Intelltxt | H_Intelltxt | H_Intelltxt | H_Intelltxt | H_Intelltxt | H_Intelltxt\n",
      "GOLD LABELS:   c           | c           | c           | c           | c           | c           | c           | c           | c           | c           | c           | c           | i           | c           | c          \n",
      "PRED LABELS:   c           | c           | c           | c           | c           | c           | c           | c           | c           | c           | c           | c           | i           | i           | c          \n",
      "\n",
      "=== Sentence 8 ===\n",
      "TOKENS:        Dopo | l' | esame | di | maturità | vorrei | trasferirmi | a | Roma | così | è | necessario | che | possa | parlare | in | italiano | .\n",
      "CORR. TH1:   Dopo | l' | esame | di | maturità | vorrei | trasferirmi | a | Roma | così | è | necessario | che | possa | parlare | in | italiano | .\n",
      "CORR. TH2:   Dopo | l' | esame | di | maturità | vorrei | trasferirmi | a | Roma | così | è | necessario | che | possa | parlare | in | italiano | .\n",
      "ERROR TYPES:   -    | -  | -     | -  | -        | -      | -           | - | -    | -    | - | -          | -   | -     | -       | -  | -        | -\n",
      "GOLD LABELS:   c    | c  | c     | c  | c        | c      | c           | c | c    | i    | c | c          | c   | c     | c       | c  | c        | c\n",
      "PRED LABELS:   c    | c  | c     | c  | c        | c      | c           | c | c    | i    | c | c          | c   | i     | c       | c  | c        | c\n",
      "\n",
      "=== Sentence 9 ===\n",
      "TOKENS:        Ho | letto | il | vostro | annuncio | delle | \"\"\"\" | Serate | di | cucina | internazionale | \"\"\"\" | e | devo | dire | ,       | che | lo     | è | stato | molto | interessante | per | me | .\n",
      "CORR. TH1:   Ho | letto | il | vostro | annuncio | delle | \"\"\"\" | Serate | di | cucina | internazionale | \"\"\"\" | e | devo | dire |         | che |        | è | stato | molto | interessante | per | me | .\n",
      "CORR. TH2:      |       |    |        |          |       |      |        |    |        |                |      |   |      |      |         |     |        |   |       |       |              |     |    |  \n",
      "ERROR TYPES:   -  | -     | -  | -      | -        | -     | -    | -      | -  | -      | -              | -    | - | -    | -    | O_Punct | -   | G_Clit | - | -     | -     | -            | -   | -  | -\n",
      "GOLD LABELS:   c  | c     | c  | c      | c        | c     | c    | c      | c  | c      | c              | c    | c | c    | c    | i       | c   | i      | c | c     | c     | c            | c   | c  | c\n",
      "PRED LABELS:   c  | c     | c  | c      | c        | c     | c    | i      | c  | c      | c              | c    | c | c    | c    | i       | c   | i      | i | c     | c     | c            | c   | c  | c\n",
      "\n",
      "=== Sentence 10 ===\n",
      "TOKENS:        Infatti | , | questo | è | in | intenzione | per | iscrivermi | al | primo | ciclo | .\n",
      "CORR. TH1:   Infatti | , | questo | è | in | intenzione | per | iscrivermi | al | primo | ciclo | .\n",
      "CORR. TH2:           |   |        |   |    |            |     |            |    |       |       |  \n",
      "ERROR TYPES:   -       | - | -      | - | -  | -          | -   | -          | -  | -     | -     | -\n",
      "GOLD LABELS:   c       | c | c      | c | c  | c          | c   | c          | c  | c     | c     | c\n",
      "PRED LABELS:   c       | c | c      | c | c  | i          | c   | c          | c  | c     | c     | c\n",
      "\n",
      "=== Sentence 11 ===\n",
      "TOKENS:        27-03-2010 | Città | X | Cara | Roberta | , | Non     | ho | visto | te | da | molto | tempo | .\n",
      "CORR. TH1:   27-03-2010 | Città | X | Cara | Roberta | , | non     | ho | visto | te | da | molto | tempo | .\n",
      "CORR. TH2:              |       |   |      |         |   |         |    |       |    |    |       |       |  \n",
      "ERROR TYPES:   -          | -     | - | -    | -       | - | O_Capit | -  | -     | -  | -  | -     | -     | -\n",
      "GOLD LABELS:   c          | c     | c | c    | c       | c | i       | c  | c     | c  | c  | c     | c     | c\n",
      "PRED LABELS:   c          | c     | c | c    | c       | c | i       | c  | c     | i  | c  | c     | c     | c\n",
      "\n",
      "=== Sentence 12 ===\n",
      "TOKENS:        Non | abbiamo | dei | gravi | problemi | come | la | famina | .\n",
      "CORR. TH1:   Non | abbiamo | dei | gravi | problemi | come | la | famina | .\n",
      "CORR. TH2:   Non | abbiamo | dei | gravi | problemi | come | la | fame   | .\n",
      "ERROR TYPES:   -   | -       | -   | -     | -        | -    | -  | -      | -\n",
      "GOLD LABELS:   c   | c       | c   | c     | c        | c    | c  | c      | c\n",
      "PRED LABELS:   c   | c       | c   | c     | c        | c    | c  | i      | c\n",
      "\n",
      "=== Sentence 13 ===\n",
      "TOKENS:        Ma | come | faccio | per | andare | a | Casa    | tua | ?\n",
      "CORR. TH1:   Ma | come | faccio | per | andare | a | casa    | tua | ?\n",
      "CORR. TH2:   Ma | come | faccio | per | venire | a | casa    | tua | ?\n",
      "ERROR TYPES:   -  | -    | -      | -   | -      | - | O_Capit | -   | -\n",
      "GOLD LABELS:   c  | c    | c      | c   | c      | c | i       | c   | c\n",
      "PRED LABELS:   c  | c    | c      | c   | c      | c | i       | i   | c\n",
      "\n",
      "=== Sentence 14 ===\n",
      "TOKENS:        Città | X | , | 13 | agosto | 2011 | Caro | Francesco | , | grazie | la     | tua    | lettera | , | l' | ho | aspettata | molto | !\n",
      "CORR. TH1:   Città | X | , | 13 | agosto | 2011 | Caro | Francesco | , | grazie | la     | tua    | lettera | , | l' | ho | aspettata | molto | !\n",
      "CORR. TH2:         |   |   |    |        |      |      |           |   |        |        |        |         |   |    |    |           |       |  \n",
      "ERROR TYPES:   -     | - | - | -  | -      | -    | -    | -         | - | -      | G_Prep | G_Prep | G_Prep  | - | -  | -  | -         | -     | -\n",
      "GOLD LABELS:   c     | c | c | c  | c      | c    | c    | c         | c | c      | i      | c      | c       | c | c  | c  | c         | c     | c\n",
      "PRED LABELS:   c     | c | c | c  | c      | c    | c    | c         | c | i      | i      | c      | c       | c | c  | c  | c         | c     | c\n",
      "\n",
      "=== Sentence 15 ===\n",
      "TOKENS:        Prima | , | vorrei | presentarmi | : | Mi      | chiamo | Maria | Rossi | e | ho | 19 | anni | .\n",
      "CORR. TH1:   Prima | , | vorrei | presentarmi | : | mi      | chiamo | Maria | Rossi | e | ho | 19 | anni | .\n",
      "CORR. TH2:         |   |        |             |   |         |        |       |       |   |    |    |      |  \n",
      "ERROR TYPES:   -     | - | -      | -           | - | O_Capit | -      | -     | -     | - | -  | -  | -    | -\n",
      "GOLD LABELS:   c     | c | c      | c           | c | i       | c      | c     | c     | c | c  | c  | c    | c\n",
      "PRED LABELS:   c     | i | c      | c           | c | i       | c      | c     | c     | c | c  | c  | c    | c\n",
      "\n",
      "=== Sentence 16 ===\n",
      "TOKENS:        Non | abbiamo | piu     | nessun | contate           | con | lei | .\n",
      "CORR. TH1:   Non | abbiamo | più     | nessun | contatto          | con | lei | .\n",
      "CORR. TH2:       |         |         |        |                   |     |     |  \n",
      "ERROR TYPES:   -   | -       | O_Graph | -      | G_Inflect_Inexist | -   | -   | -\n",
      "GOLD LABELS:   c   | c       | i       | c      | i                 | c   | c   | c\n",
      "PRED LABELS:   c   | c       | i       | i      | i                 | c   | c   | c\n",
      "\n",
      "=== Sentence 17 ===\n",
      "TOKENS:        Spero | di | avere | presto | tue | notizie | .\n",
      "CORR. TH1:   Spero | di | avere | presto | tue | notizie | .\n",
      "CORR. TH2:         |    |       |        |     |         |  \n",
      "ERROR TYPES:   -     | -  | -     | -      | -   | -       | -\n",
      "GOLD LABELS:   c     | c  | c     | c      | c   | c       | c\n",
      "PRED LABELS:   c     | c  | c     | c      | i   | c       | c\n",
      "\n",
      "=== Sentence 18 ===\n",
      "TOKENS:        Città | X | , | 18 | / | 6 | / | 2011 | Cara | Beatrice | , | Caro | Stefano | , | Che     | sorpresa | !\n",
      "CORR. TH1:   Città | X | , | 18 | / | 6 | / | 2011 | Cara | Beatrice | , | Caro | Stefano | , | che     | sorpresa | !\n",
      "CORR. TH2:         |   |   |    |   |   |   |      |      |          |   |      |         |   |         |          |  \n",
      "ERROR TYPES:   -     | - | - | -  | - | - | - | -    | -    | -        | - | -    | -       | - | O_Capit | -        | -\n",
      "GOLD LABELS:   c     | c | c | c  | c | c | c | c    | c    | c        | c | c    | c       | c | i       | c        | c\n",
      "PRED LABELS:   c     | c | c | c  | c | c | c | c    | c    | c        | c | i    | c       | c | i       | c        | c\n",
      "\n",
      "=== Sentence 19 ===\n",
      "TOKENS:        Ho | lavorato | come | ragazza | alla | pare              | per | imperare | l' | italiano | .\n",
      "CORR. TH1:   Ho | lavorato | come | ragazza | alla | pari              | per | imperare | l' | italiano | .\n",
      "CORR. TH2:      |          |      |         |      |                   |     |          |    |          |  \n",
      "ERROR TYPES:   -  | -        | -    | -       | -    | G_Inflect_Inexist | -   | -        | -  | -        | -\n",
      "GOLD LABELS:   c  | c        | c    | c       | c    | i                 | c   | c        | c  | c        | c\n",
      "PRED LABELS:   c  | c        | c    | c       | i    | i                 | c   | c        | c  | c        | c\n",
      "\n",
      "=== Sentence 20 ===\n",
      "TOKENS:        Ho | sentito | dire | ,       | che | la | Loro | società | é       | molto | piacevole | per | i | lavoratori | e | da      | tanta | sodisfazione  | del    | lavoro | .\n",
      "CORR. TH1:   Ho | sentito | dire |         | che | la | Loro | società | è       | molto | piacevole | per | i | lavoratori | e | dà      | tanta | soddisfazione | nel    | lavoro | .\n",
      "CORR. TH2:      |         |      |         |     |    |      |         |         |       |           |     |   |            |   |         |       |               |        |        |  \n",
      "ERROR TYPES:   -  | -       | -    | O_Punct | -   | -  | -    | -       | O_Graph | -     | -         | -   | - | -          | - | O_Graph | -     | O_Graph       | G_Prep | -      | -\n",
      "GOLD LABELS:   c  | c       | c    | i       | c   | c  | c    | c       | i       | c     | c         | c   | c | c          | c | i       | c     | i             | i      | c      | c\n",
      "PRED LABELS:   c  | c       | c    | i       | c   | c  | i    | c       | i       | c     | c         | c   | c | c          | c | i       | c     | i             | i      | c      | c\n",
      "\n",
      "=== Sentence 21 ===\n",
      "TOKENS:        Conosco | bene | l' | informatica | e | la | dattilografia | e | parlo | e | scrivo | correttamente | in | tedesco | e | in | italiano | .\n",
      "CORR. TH1:   Conosco | bene | l' | informatica | e | la | dattilografia | e | parlo | e | scrivo | correttamente | in | tedesco | e | in | italiano | .\n",
      "CORR. TH2:           |      |    |             |   |    |               |   |       |   |        |               |    |         |   |    |          |  \n",
      "ERROR TYPES:   -       | -    | -  | -           | - | -  | -             | - | -     | - | -      | -             | -  | -       | - | -  | -        | -\n",
      "GOLD LABELS:   c       | c    | c  | c           | c | c  | c             | c | c     | c | c      | c             | c  | c       | c | c  | c        | c\n",
      "PRED LABELS:   c       | c    | c  | c           | c | c  | i             | c | c     | c | c      | c             | c  | c       | c | c  | c        | c\n",
      "\n",
      "=== Sentence 22 ===\n",
      "TOKENS:        Ciao    | Michele | grazie | per | la | tua | ..... | .\n",
      "CORR. TH1:   Ciao    | Michele | grazie | per | la | tua | ..... | .\n",
      "CORR. TH2:           |         |        |     |    |     |       |  \n",
      "ERROR TYPES:   O_Punct | O_Punct | -      | -   | -  | -   | -     | -\n",
      "GOLD LABELS:   c       | c       | i      | c   | c  | c   | c     | c\n",
      "PRED LABELS:   c       | c       | i      | c   | c  | c   | i     | c\n",
      "\n",
      "=== Sentence 23 ===\n",
      "TOKENS:        Tante | grazie | per | le | informazione    | .\n",
      "CORR. TH1:   Tante | grazie | per | le | informazioni    | .\n",
      "CORR. TH2:         |        |     |    |                 |  \n",
      "ERROR TYPES:   -     | -      | -   | -  | G_Morphol_Wrong | -\n",
      "GOLD LABELS:   c     | c      | c   | c  | i               | c\n",
      "PRED LABELS:   c     | c      | c   | i  | i               | c\n",
      "\n",
      "=== Sentence 24 ===\n",
      "TOKENS:        Noi | impariamo | già | alla | scuola | elementare | due | lingue | stranieri       | .\n",
      "CORR. TH1:   Noi | impariamo | già | alla | scuola | elementare | due | lingue | straniere       | .\n",
      "CORR. TH2:   Noi | impariamo | già | alla | scuola | elementare | due | lingue | straniere       | .\n",
      "ERROR TYPES:   -   | -         | -   | -    | -      | -          | -   | -      | G_Morphol_Wrong | -\n",
      "GOLD LABELS:   c   | c         | c   | c    | c      | c          | c   | c      | i               | c\n",
      "PRED LABELS:   c   | c         | c   | i    | c      | c          | c   | c      | i               | c\n",
      "\n",
      "=== Sentence 25 ===\n",
      "TOKENS:        So | che | potrebbe | essere | difficile | trovare | un | posto | per | me | , | ma | dopo | il | 29 | agosto | , | comincerò | studiare | nei | Paese | Y | .\n",
      "CORR. TH1:   So | che | potrebbe | essere | difficile | trovare | un | posto | per | me | , | ma | dopo | il | 29 | agosto |   | comincerò | studiare | nei | Paese | Y | .\n",
      "CORR. TH2:   So | che | potrebbe | essere | difficile | trovare | un | posto | per | me | , | ma | dopo | il | 29 | agosto |   | comincerò | studiare | nei | Paese | Y | .\n",
      "ERROR TYPES:   -  | -   | -        | -      | -         | -       | -  | -     | -   | -  | - | -  | -    | -  | -  | -      | - | -         | -        | -   | -     | - | -\n",
      "GOLD LABELS:   c  | c   | c        | c      | c         | c       | c  | c     | c   | c  | c | c  | c    | c  | c  | c      | i | c         | i        | c   | c     | c | c\n",
      "PRED LABELS:   c  | c   | c        | c      | c         | c       | c  | c     | c   | c  | c | c  | c    | c  | c  | c      | i | c         | i        | i   | c     | c | c\n",
      "\n",
      "=== Sentence 26 ===\n",
      "TOKENS:        Mi | scriva | , | per | favore | , | se | è | possibile | prestissimo | .\n",
      "CORR. TH1:   Mi | scriva | , | per | favore | , | se | è | possibile | prestissimo | .\n",
      "CORR. TH2:      |        |   |     |        |   |    |   |           |             |  \n",
      "ERROR TYPES:   -  | -      | - | -   | -      | - | -  | - | -         | -           | -\n",
      "GOLD LABELS:   c  | c      | c | c   | c      | c | c  | c | c         | c           | c\n",
      "PRED LABELS:   c  | c      | c | c   | c      | c | c  | c | c         | i           | c\n",
      "\n",
      "=== Sentence 27 ===\n",
      "TOKENS:        Sono        | stata       | operata     | al          | ginocchio   | tre         | settimane   | fa          | .          \n",
      "CORR. TH1:   Sono        | stata       | operata     | al          | ginocchio   | tre         | settimane   | fa          | .          \n",
      "CORR. TH2:   Sono        | stata       | operata     | al          | ginocchio   | tre         | settimane   | fa          | .          \n",
      "ERROR TYPES:   H_Intelltxt | H_Intelltxt | H_Intelltxt | H_Intelltxt | H_Intelltxt | H_Intelltxt | H_Intelltxt | H_Intelltxt | H_Intelltxt\n",
      "GOLD LABELS:   c           | c           | c           | c           | c           | c           | c           | c           | c          \n",
      "PRED LABELS:   c           | c           | c           | i           | c           | c           | c           | c           | c          \n",
      "\n",
      "=== Sentence 28 ===\n",
      "TOKENS:        La      | sera    | ce      | chosa   | fate    | andate | al | cinema | o | a | ballare | .      \n",
      "CORR. TH1:   La      | sera    | che     | cosa    | fate    | Andate | al | cinema | o | a | ballare | ?      \n",
      "CORR. TH2:           |         |         |         |         |        |    |        |   |   |         |        \n",
      "ERROR TYPES:   O_Punct | O_Punct | O_Punct | O_Punct | O_Punct | -      | -  | -      | - | - | -       | O_Punct\n",
      "GOLD LABELS:   c       | c       | i       | i       | c       | i      | c  | c      | c | c | c       | c      \n",
      "PRED LABELS:   c       | c       | i       | i       | i       | i      | c  | c      | c | c | c       | c      \n",
      "\n",
      "=== Sentence 29 ===\n",
      "TOKENS:        Io | viaggo | IN | TRENO | , | IO        | SONO | ALLE | 19 | A | CASA | TUA | .\n",
      "CORR. TH1:   Io | viaggo | in | treno | , |           | sono | alle | 19 | a | casa | tua | .\n",
      "CORR. TH2:      |        |    |       |   |           |      |      |    |   |      |     |  \n",
      "ERROR TYPES:   -  | -      | -  | -     | - | G_Valency | -    | -    | -  | - | -    | -   | -\n",
      "GOLD LABELS:   c  | c      | i  | i     | c | i         | i    | i    | c  | i | i    | i   | c\n",
      "PRED LABELS:   c  | i      | i  | i     | c | i         | i    | i    | i  | i | i    | i   | c\n",
      "\n",
      "=== Sentence 30 ===\n",
      "TOKENS:        Quando      | bisogno     | la          | informazione | ?\n",
      "CORR. TH1:   Quando      | bisogno     |             | informazione | ?\n",
      "CORR. TH2:               |             |             |              |  \n",
      "ERROR TYPES:   G_Verb_main | G_Verb_main | G_Verb_main | G_Verb_main  | -\n",
      "GOLD LABELS:   c           | i           | i           | c            | c\n",
      "PRED LABELS:   i           | i           | i           | i            | c\n",
      "\n",
      "=== Sentence 31 ===\n",
      "TOKENS:        La | mia | familia  | sta | bene | : | zio     | Michele | è       | allegro | e       | felice  | anche | zia | Maria | sta | bene | ,       | Io | sono | contenta | del | mio | lavoro | - | ho | molto | da | fare | , | ma      | mi      | piace   | molto   | In | vacanza | sono | andata | in | montagnia | - | un | mio | amico | ha | ci    | una | casa | .\n",
      "CORR. TH1:   La | mia | famiglia | sta | bene | : | zio     | Michele | è       | allegro | e       | felice  | anche | zia | Maria | sta | bene | .       | Io | sono | contenta | del | mio | lavoro | ; | ho | molto | da | fare | , | ma      | mi      | piace   | molto   | In | vacanza | sono | andata | in | montagna  | - | un | mio | amico | ha | lì    | una | casa | .\n",
      "CORR. TH2:      |     |          |     |      |   |         |         |         |         |         |         |       |     |       |     |      |         |    |      |          |     |     |        |   |    |       |    |      |   |         |         |         |         |    |         |      |        |    |           |   |    |     |       |    |       |     |      |  \n",
      "ERROR TYPES:   -  | -   | O_Graph  | -   | -    | - | O_Punct | O_Punct | O_Punct | O_Punct | O_Punct | O_Punct | -     | -   | -     | -   | -    | O_Punct | -  | -    | -        | -   | -   | -      | - | -  | -     | -  | -    | - | O_Punct | O_Punct | O_Punct | O_Punct | -  | -       | -    | -      | -  | O_Graph   | - | -  | -   | -     | -  | G_Pos | -   | -    | -\n",
      "GOLD LABELS:   c  | c   | i        | c   | c    | c | c       | c       | c       | c       | c       | c       | i     | c   | c     | c   | c    | c       | c  | c    | c        | c   | c   | c      | c | c  | c     | c  | c    | c | c       | c       | c       | c       | i  | c       | c    | c      | c  | i         | c | c  | c   | c     | c  | i     | c   | c    | c\n",
      "PRED LABELS:   c  | c   | i        | c   | c    | c | c       | c       | c       | c       | c       | c       | i     | c   | c     | c   | c    | c       | i  | c    | c        | c   | c   | c      | c | c  | c     | c  | c    | c | c       | c       | c       | c       | i  | c       | c    | c      | c  | i         | c | c  | c   | c     | c  | i     | c   | c    | c\n",
      "\n",
      "=== Sentence 32 ===\n",
      "TOKENS:        Caro | Daniele | , | Mi      | dispiace | ma | e       | una | settimana | orribile | .\n",
      "CORR. TH1:   Caro | Daniele | , | mi      | dispiace | ma | è       | una | settimana | orribile | .\n",
      "CORR. TH2:        |         |   |         |          |    |         |     |           |          |  \n",
      "ERROR TYPES:   -    | -       | - | O_Capit | -        | -  | O_Graph | -   | -         | -        | -\n",
      "GOLD LABELS:   c    | c       | c | i       | c        | c  | i       | c   | c         | c        | c\n",
      "PRED LABELS:   c    | c       | c | i       | c        | i  | i       | c   | c         | c        | c\n",
      "\n",
      "=== Sentence 33 ===\n",
      "TOKENS:        Non | ho | un | desiderio | speciale | sul | denaro | .\n",
      "CORR. TH1:   Non | ho | un | desiderio | speciale | sul | denaro | .\n",
      "CORR. TH2:       |    |    |           |          |     |        |  \n",
      "ERROR TYPES:   -   | -  | -  | -         | -        | -   | -      | -\n",
      "GOLD LABELS:   c   | c  | c  | c         | c        | c   | c      | c\n",
      "PRED LABELS:   c   | c  | c  | c         | c        | i   | c      | c\n",
      "\n",
      "=== Sentence 34 ===\n",
      "TOKENS:        Non | ho | pensato | su     | una | cosa | meravigliosa | come | ques '  | invito | , | quando | ho | aperto | la | lettera | .\n",
      "CORR. TH1:   Non | ho | pensato | a      | una | cosa | meravigliosa | come | quest'  | invito | , | quando | ho | aperto | la | lettera | .\n",
      "CORR. TH2:       |    |         |        |     |      |              |      |         |        |   |        |    |        |    |         |  \n",
      "ERROR TYPES:   -   | -  | -       | G_Prep | -   | -    | -            | -    | O_Graph | -      | - | -      | -  | -      | -  | -       | -\n",
      "GOLD LABELS:   c   | c  | c       | i      | c   | c    | c            | c    | i       | c      | c | c      | c  | c      | c  | c       | c\n",
      "PRED LABELS:   c   | c  | c       | i      | c   | c    | c            | c    | i       | c      | i | c      | c  | c      | c  | c       | c\n",
      "\n",
      "=== Sentence 35 ===\n",
      "TOKENS:        Monstrero | lo     | al | capoufficio | !\n",
      "CORR. TH1:   mostrerò  |        | al | capoufficio | !\n",
      "CORR. TH2:             |        |    |             |  \n",
      "ERROR TYPES:   O_Graph   | G_Clit | -  | -           | -\n",
      "GOLD LABELS:   i         | i      | c  | c           | c\n",
      "PRED LABELS:   i         | i      | i  | c           | c\n",
      "\n",
      "=== Sentence 36 ===\n",
      "TOKENS:        Puoi | mi       | dice        | che | lavoro | fai | adesso | ?\n",
      "CORR. TH1:   Puoi | dirmi    |             | che | lavoro | fai | adesso | ?\n",
      "CORR. TH2:        |          |             |     |        |     |        |  \n",
      "ERROR TYPES:   -    | O_Wordbd | G_Verb_main | -   | -      | -   | -      | -\n",
      "GOLD LABELS:   c    | i        | i           | c   | c      | c   | c      | c\n",
      "PRED LABELS:   i    | i        | i           | c   | c      | c   | c      | c\n",
      "\n",
      "=== Sentence 37 ===\n",
      "TOKENS:        Abito | un    | un    | albergo | directamente | in | centro | di | Città | X | .\n",
      "CORR. TH1:   Abito | in    | un    | albergo | direttamente | in | centro | di | Città | X | .\n",
      "CORR. TH2:         |       |       |         |              |    |        |    |       |   |  \n",
      "ERROR TYPES:   -     | G_Art | G_Art | G_Art   | O_Graph      | -  | -      | -  | -     | - | -\n",
      "GOLD LABELS:   c     | i     | c     | c       | i            | c  | c      | c  | c     | c | c\n",
      "PRED LABELS:   c     | i     | i     | c       | i            | i  | c      | c  | c     | c | c\n",
      "\n",
      "=== Sentence 38 ===\n",
      "TOKENS:        Mentre | leggere | la | tua | lettere | ero | penseto | che | questo | problema | è | un | grand | problema | nella | nostra | socetà | !\n",
      "CORR. TH1:   mentre | leggevo | la | tua | lettera | ho  | pensato | che | questo | problema | è | un | gran  | problema | nella | nostra | socetà | !\n",
      "CORR. TH2:          |         |    |     |         |     |         |     |        |          |   |    |       |          |       |        |        |  \n",
      "ERROR TYPES:   -      | -       | -  | -   | -       | -   | -       | -   | -      | -        | - | -  | -     | -        | -     | -      | -      | -\n",
      "GOLD LABELS:   i      | i       | c  | c   | i       | i   | i       | c   | c      | c        | c | c  | i     | c        | c     | c      | c      | c\n",
      "PRED LABELS:   i      | i       | i  | i   | i       | i   | i       | c   | c      | c        | c | c  | i     | c        | c     | c      | i      | c\n",
      "\n",
      "=== Sentence 39 ===\n",
      "TOKENS:        Mi | dispiace | , | ma | il | mio | capo | ha | organizzato | una | riunione | questo | pomeriggio | e | devo | participare | .\n",
      "CORR. TH1:   Mi | dispiace | , | ma | il | mio | capo | ha | organizzato | una | riunione | questo | pomeriggio | e | devo | participare | .\n",
      "CORR. TH2:      |          |   |    |    |     |      |    |             |     |          |        |            |   |      |             |  \n",
      "ERROR TYPES:   -  | -        | - | -  | -  | -   | -    | -  | -           | -   | -        | -      | -          | - | -    | -           | -\n",
      "GOLD LABELS:   c  | c        | c | c  | c  | c   | c    | c  | c           | c   | c        | c      | c          | c | c    | c           | c\n",
      "PRED LABELS:   c  | c        | c | c  | c  | c   | c    | c  | c           | c   | c        | c      | c          | c | c    | i           | c\n",
      "\n",
      "=== Sentence 40 ===\n",
      "TOKENS:        Il          | mio         | albergho    | à           | vicino      | alla        | Monumento   | X           | .          \n",
      "CORR. TH1:   Il          | mio         | albergo     | è           | vicino      | alla        | Monumento   | X           | .          \n",
      "CORR. TH2:   Il          | mio         | albergo     | è           | vicino      | alla        | Monumento   | X           | .          \n",
      "ERROR TYPES:   H_Intelltxt | H_Intelltxt | H_Intelltxt | H_Intelltxt | H_Intelltxt | H_Intelltxt | H_Intelltxt | H_Intelltxt | H_Intelltxt\n",
      "GOLD LABELS:   c           | c           | i           | i           | c           | c           | c           | c           | c          \n",
      "PRED LABELS:   c           | c           | i           | i           | c           | i           | c           | c           | c          \n",
      "\n",
      "=== Sentence 41 ===\n",
      "TOKENS:        Poi   | scrivere | una | cartolina | anche  | o | puoi | chiamiami | a | questo | numero | : | 0345-11111111 | !\n",
      "CORR. TH1:   Puoi  | scrivere | una | cartolina |        | o | puoi | chiamarmi | a | questo | numero | : | 0345-11111111 | !\n",
      "CORR. TH2:         |          |     |           |        |   |      |           |   |        |        |   |               |  \n",
      "ERROR TYPES:   G_Pos | -        | -   | -         | G_Conj | - | -    | O_Graph   | - | -      | -      | - | -             | -\n",
      "GOLD LABELS:   i     | c        | c   | c         | i      | c | c    | i         | c | c      | c      | c | c             | c\n",
      "PRED LABELS:   i     | c        | c   | c         | i      | c | c    | i         | i | c      | c      | c | c             | c\n",
      "\n",
      "=== Sentence 42 ===\n",
      "TOKENS:        Crispi | 119 | 80127 | Caserta | Oggetto | : | La | Sua | lettera | Caro | Giorgio | , | in | riferimento | della | Sua | lettera | Le | scrivo | .\n",
      "CORR. TH1:   Crispi | 119 | 80127 | Caserta | Oggetto | : | La | Sua | lettera | Caro | Giorgio | , | in | riferimento | alla  | Sua | lettera | Le | scrivo | .\n",
      "CORR. TH2:          |     |       |         |         |   |    |     |         |      |         |   |    |             |       |     |         |    |        |  \n",
      "ERROR TYPES:   -      | -   | -     | -       | -       | - | -  | -   | -       | -    | -       | - | -  | -           | -     | -   | -       | -  | -      | -\n",
      "GOLD LABELS:   c      | c   | c     | c       | c       | c | c  | c   | c       | c    | c       | c | c  | c           | i     | c   | c       | c  | c      | c\n",
      "PRED LABELS:   c      | c   | c     | c       | c       | c | i  | c   | c       | c    | c       | c | c  | c           | i     | c   | c       | i  | c      | c\n"
     ]
    }
   ],
   "source": [
    "def visualize_aligned_tokens_aligned(data):\n",
    "    for i, sentence in enumerate(data):\n",
    "        print(f\"\\n=== Sentence {i+1} ===\")\n",
    "\n",
    "        # Extract info\n",
    "        tokens = [tok[1] for tok in sentence]\n",
    "        corrections = [tok[2] for tok in sentence]\n",
    "        corrections2 = [tok[4] for tok in sentence]\n",
    "        error_types = [tok[6] if tok[6] else \"-\" for tok in sentence]\n",
    "        golds = [tok[7] for tok in sentence]\n",
    "        preds = [tok[8] for tok in sentence]\n",
    "\n",
    "        col_widths = [max(len(tok), len(corr), len(err), len(g), len(p))\n",
    "                      for tok, corr, err, g, p in zip(tokens, corrections, error_types, golds, preds)]\n",
    "        padded = lambda row: \" | \".join(f\"{item:<{w}}\" for item, w in zip(row, col_widths))\n",
    "\n",
    "        print(\"TOKENS:       \", padded(tokens))\n",
    "        print(\"CORR. TH1:  \", padded(corrections))\n",
    "        print(\"CORR. TH2:  \", padded(corrections2))\n",
    "        print(\"ERROR TYPES:  \", padded(error_types))\n",
    "        print(\"GOLD LABELS:  \", padded(golds))\n",
    "        print(\"PRED LABELS:  \", padded(preds))\n",
    "\n",
    "\n",
    "\n",
    "\n",
    "visualize_aligned_tokens_aligned(roberta_merlin_only_fp)"
   ]
  },
  {
   "cell_type": "code",
   "execution_count": 27,
   "id": "6324bfe2-6a0d-4fcb-ade1-cd0c83c89246",
   "metadata": {},
   "outputs": [],
   "source": [
    "# def save_sentences_to_tsv(data, error_type, file_path):\n",
    "#     mode = 'a' if os.path.exists(file_path) else 'w'\n",
    "\n",
    "#     with open(file_path, mode, encoding='utf-8', newline='') as f:\n",
    "#         writer = csv.writer(f, delimiter='\\t')\n",
    "\n",
    "#         if mode == 'w':\n",
    "#             writer.writerow([\"error_type\", \"sentence\"])\n",
    "\n",
    "#         for sentence in data:\n",
    "#             tokens = [tok[1] for tok in sentence]\n",
    "#             sentence_text = \" \".join(tokens)\n",
    "#             writer.writerow([error_type, sentence_text])"
   ]
  },
  {
   "cell_type": "code",
   "execution_count": 79,
   "id": "85e876d7-e1be-4c51-b8ac-f85b2947c81a",
   "metadata": {},
   "outputs": [],
   "source": [
    "# save_sentences_to_tsv(roberta_merlin_only_fp, 'FP', 'classified_sentences_merlin_FP.tsv')"
   ]
  },
  {
   "cell_type": "markdown",
   "id": "6b7c9dae-0ea1-4b11-a70c-98469c51afda",
   "metadata": {},
   "source": [
    "# Qwen!!!"
   ]
  },
  {
   "cell_type": "code",
   "execution_count": 11,
   "id": "245edf41-53a1-4378-be7c-517260da4e90",
   "metadata": {},
   "outputs": [],
   "source": [
    "from openai import OpenAI\n",
    "from collections import defaultdict as dd\n",
    "from openai import APITimeoutError\n",
    "\n",
    "client = OpenAI(base_url=\"http://localhost:8000/v1\", api_key=\"cltl\")"
   ]
  },
  {
   "cell_type": "markdown",
   "id": "0ec25558-cfce-43f6-aaa5-76467aa30cb0",
   "metadata": {},
   "source": [
    "##  Prompt Mode"
   ]
  },
  {
   "cell_type": "code",
   "execution_count": 22,
   "id": "7808a7af-af35-43a4-819e-f4d4c93bdb0a",
   "metadata": {},
   "outputs": [],
   "source": [
    "def query_LLM(model_client, prompt, temp=0.6):\n",
    "    completion = model_client.chat.completions.create(\n",
    "        model=\"local-model\",\n",
    "        messages=[{\"role\": \"system\", \"content\": prompt}],\n",
    "        temperature=temp,\n",
    "        stream=False,\n",
    "    )\n",
    "\n",
    "    return completion.choices[0].message.content"
   ]
  },
  {
   "cell_type": "code",
   "execution_count": 24,
   "id": "446f9993-26cf-42bb-bdd9-45d6810fce0a",
   "metadata": {},
   "outputs": [],
   "source": [
    "def get_corrections_tokenized_with_labels_from_data(sentence, model_client, max_attempts=2):\n",
    "    tokens = [tok[1] for tok in sentence]\n",
    "    sentence_str = \" \".join(tokens)\n",
    "\n",
    "    gold_correction = []\n",
    "    error_types = []\n",
    "\n",
    "    for tok in sentence:\n",
    "        gold = tok[-2]\n",
    "        pred = tok[-1]\n",
    "        orig = tok[1]\n",
    "        corr = tok[2]\n",
    "        etype = tok[6] if tok[6] else \"NO_LABEL\"\n",
    "\n",
    "        if gold == 'i':\n",
    "            error_types.append(etype)\n",
    "            if corr:\n",
    "                gold_correction.append(corr)\n",
    "            else: \n",
    "                continue\n",
    "        else:\n",
    "            gold_correction.append(orig)\n",
    "\n",
    "    prompt = f\"\"\"You are a careful Italian language editor.\n",
    "\n",
    "Given a tokenized sentence, return exactly five corrected versions. Each version should:\n",
    "- Be minimally corrected (fix grammar and lexical errors only)\n",
    "- Be tokenized (space-separated words)\n",
    "- Be written on a separate line\n",
    "- Use deletions if a word is clearly unnecessary or incorrect\n",
    "- Do not add explanations\n",
    "- If fewer than five unique corrections are possible, write an empty line for each missing correction\n",
    "\n",
    "Input: {sentence_str}\n",
    "Output:\n",
    "\"\"\"\n",
    "\n",
    "    for attempt in range(max_attempts):\n",
    "        response = query_LLM(model_client, prompt)\n",
    "\n",
    "        if response:\n",
    "            lines = [line.strip() for line in response.strip().split(\"\\n\")]\n",
    "            valid_corrections = [line.split() for line in lines if line.strip()]\n",
    "\n",
    "            if valid_corrections:\n",
    "                labels = []\n",
    "                for corrected in valid_corrections:\n",
    "                    label_seq = [\"c\" if i < len(tokens) and orig == corr else \"i\"\n",
    "                                 for i, (orig, corr) in enumerate(zip(tokens, corrected))]\n",
    "                    labels.append(label_seq)\n",
    "\n",
    "                gold_labels = [tok[-2] for tok in sentence]\n",
    "                pred_labels = [tok[-1] for tok in sentence]\n",
    "                \n",
    "                print(\"\\nOriginal:    \", sentence_str)\n",
    "                print(\"Gold labels: \", \" \".join(gold_labels))\n",
    "                print(\"Pred labels: \", \" \".join(pred_labels))\n",
    "                print(\"Gold:        \", \" \".join(gold_correction))\n",
    "                for idx, corr in enumerate(valid_corrections):\n",
    "                    print(f\"Correction {idx+1}:\", \" \".join(corr))\n",
    "                print(\"Error types: \", list(set(error_types)))\n",
    "                print()\n",
    "\n",
    "                return {\n",
    "                    \"original\": tokens,\n",
    "                    \"gold_correction\": gold_correction,\n",
    "                    \"error_types\": list(set(error_types)),\n",
    "                    \"llm_corrections\": valid_corrections,\n",
    "                    \"labels\": labels\n",
    "                }\n",
    "            else:\n",
    "                print(f\"Attempt {attempt+1}: No valid corrections, retrying...\")\n",
    "        else:\n",
    "            print(f\"Attempt {attempt+1}: Empty response, retrying...\")\n",
    "\n",
    "    print(\"\\nOriginal:\", sentence_str)\n",
    "    print(\"No corrections found.\\n\")\n",
    "    return {\n",
    "        \"original\": tokens,\n",
    "        \"gold_correction\": gold_correction,\n",
    "        \"error_types\": list(set(error_types)),\n",
    "        \"llm_corrections\": [],\n",
    "        \"labels\": []\n",
    "    }"
   ]
  },
  {
   "cell_type": "markdown",
   "id": "b7a65c50-71c3-405a-b6b7-d67966348918",
   "metadata": {},
   "source": [
    "# GENERATION BY ERROR TYPE - MERLIN - XLM-ROBERTA"
   ]
  },
  {
   "cell_type": "markdown",
   "id": "9a5adb99-8dc3-46ba-9e74-2d9501bffc68",
   "metadata": {},
   "source": [
    "## False Negatives Only"
   ]
  },
  {
   "cell_type": "markdown",
   "id": "2e77757e-a549-49cb-ab9b-4f934471d66e",
   "metadata": {},
   "source": [
    "### ROBERTA --> G_Wo"
   ]
  },
  {
   "cell_type": "code",
   "execution_count": 29,
   "id": "c9976aba-01a6-4fc3-bbcc-9f24aace434b",
   "metadata": {
    "scrolled": true
   },
   "outputs": [
    {
     "name": "stderr",
     "output_type": "stream",
     "text": [
      "  6%|██▊                                         | 1/16 [00:17<04:17, 17.15s/it]"
     ]
    },
    {
     "name": "stdout",
     "output_type": "stream",
     "text": [
      "\n",
      "Original:     Ma non c' è così tutto che abbiamo pensato .\n",
      "Gold labels:  i c i c i c i c c c\n",
      "Pred labels:  c c c c c c c c c c\n",
      "Gold:         ma non è tutto come abbiamo pensato .\n",
      "Correction 1: Ma non ce ne è così tanto che abbiamo pensato .\n",
      "Correction 2: Ma non c'è così tanto che abbiamo pensato .\n",
      "Correction 3: Ma non c'è così tutto che abbiamo pensato .\n",
      "Correction 4: Ma non ci è così tutto che abbiamo pensato .\n",
      "Correction 5: Ma non c'è così completo che abbiamo pensato .\n",
      "Error types:  ['G_Wo']\n",
      "\n"
     ]
    },
    {
     "name": "stderr",
     "output_type": "stream",
     "text": [
      " 12%|█████▌                                      | 2/16 [00:41<04:57, 21.28s/it]"
     ]
    },
    {
     "name": "stdout",
     "output_type": "stream",
     "text": [
      "\n",
      "Original:     È molto importante di avere un lavoro fisso e per trovarlo ti vorrei aiutare .\n",
      "Gold labels:  c c c i c c c c c i i c c c i\n",
      "Pred labels:  c c c i c c c c c c c c c c c\n",
      "Gold:         È molto importante avere un lavoro fisso e ti vorrei aiutare .\n",
      "Correction 1: È molto importante avere un lavoro fisso e per trovarlo ti vorrei aiutare.\n",
      "Correction 2: È molto importante avere un lavoro fisso e per trovarlo mi vorresti aiutare.\n",
      "Correction 3: È molto importante avere un lavoro fisso e per trovarlo ti vogliero' aiutare.\n",
      "Correction 4: È molto importante avere un lavoro fisso e per trovarlo ti vorrei aiutarti.\n",
      "Correction 5: È molto importante avere un lavoro fisso e per trovarlo ti vorrei aiutare .\n",
      "Error types:  ['G_Prep', 'G_Wo']\n",
      "\n"
     ]
    },
    {
     "name": "stderr",
     "output_type": "stream",
     "text": [
      " 19%|████████▎                                   | 3/16 [01:04<04:45, 21.98s/it]"
     ]
    },
    {
     "name": "stdout",
     "output_type": "stream",
     "text": [
      "\n",
      "Original:     Gabriella , io sono Maria Rossi in Ungheria , vivo a Città X .\n",
      "Gold labels:  c c c c c c i i c c c c c i\n",
      "Pred labels:  c c c c c c c c c c c c c c\n",
      "Gold:         Gabriella , io sono Maria Rossi , vivo a Città X .\n",
      "Correction 1: Gabriella, io sono Maria Rossi in Ungheria, vivo a Città X.\n",
      "Correction 2: Gabriella, io sono Maria Rossi in Ungheria, vivero a Città X.\n",
      "Correction 3: Gabriella, io sono Maria Rossi in Ungheria, vivo in Città X.\n",
      "Correction 4: Gabriella, io sono Maria Rossi in Ungheria, vivo a Citta' X.\n",
      "Correction 5: Gabriella, io sono Maria Rossi in Ungheria, vivo a Città X.\n",
      "Error types:  ['G_Wo']\n",
      "\n"
     ]
    },
    {
     "name": "stderr",
     "output_type": "stream",
     "text": [
      " 25%|███████████                                 | 4/16 [01:36<05:10, 25.89s/it]"
     ]
    },
    {
     "name": "stdout",
     "output_type": "stream",
     "text": [
      "\n",
      "Original:     Sono euphorica che volete stare insieme sempre e che i genitori annunciate il matrimonio finalmente !\n",
      "Gold labels:  c i c i c i i c c c c i i c i c\n",
      "Pred labels:  c c c i c c c c c c c i c c c c\n",
      "Gold:         Sono euforica che vogliate stare insieme e che i genitori annuncino il matrimonio !\n",
      "Correction 1: Sono euforica che volete stare insieme sempre e che i genitori annuncerete il matrimonio finalmente!\n",
      "Correction 2: Sono euforica che volete stare insieme sempre e i genitori annunceranno il matrimonio finalmente!\n",
      "Correction 3: Sono euforica che volete stare insieme sempre e che i genitori annunceranno il matrimonio finalmente!\n",
      "Correction 4: Sono euforica che volete stare insieme sempre e che i genitori annunciate il matrimonio finalmente!\n",
      "Correction 5: Sono euforica che volete stare insieme sempre!\n",
      "Error types:  ['G_Agr', 'G_Wo', 'G_Verb', 'O_Graph']\n",
      "\n"
     ]
    },
    {
     "name": "stderr",
     "output_type": "stream",
     "text": [
      " 31%|█████████████▊                              | 5/16 [02:29<06:34, 35.90s/it]"
     ]
    },
    {
     "name": "stdout",
     "output_type": "stream",
     "text": [
      "\n",
      "Original:     Sono apena arrivato da Città Y qui ho fatto due settimane di vacanza .\n",
      "Gold labels:  c i c i c c i i c c c c c c\n",
      "Pred labels:  c i c c c c c c c c c c c c\n",
      "Gold:         Sono appena arrivato da Città Y ho fatto due settimane di vacanza .\n",
      "Correction 1: Sono appena arrivato a Città Y. Qui ho fatto due settimane di vacanza.\n",
      "Correction 2: Sono appena arrivato da Città Y. Ho fatto due settimane di vacanza qui.\n",
      "Correction 3: Sono appena arrivato da Città Y. Qui ho fatto una breve pausa di due settimane.\n",
      "Correction 4: Sono appena arrivato a Città Y. Fino a qui sono state due settimane di vacanza.\n",
      "Correction 5: Sono appena arrivato a Città Y. Ho fatto due settimane di vacanza.\n",
      "Error types:  ['G_Wo', 'G_Conj']\n",
      "\n"
     ]
    },
    {
     "name": "stderr",
     "output_type": "stream",
     "text": [
      " 38%|████████████████▌                           | 6/16 [02:57<05:30, 33.00s/it]"
     ]
    },
    {
     "name": "stdout",
     "output_type": "stream",
     "text": [
      "\n",
      "Original:     Sono sicuro che loro aspettano molto \"\"\"\" il giorno grande \"\"\"\" .\n",
      "Gold labels:  c c c c c c c c i i c c\n",
      "Pred labels:  c c c c c c c c c i c c\n",
      "Gold:         Sono sicuro che loro aspettano molto \"\"\"\" il giorno \"\"\"\" .\n",
      "Correction 1: Sono sicuro che loro aspettano molto il giorno grande.\n",
      "Correction 2: Sono sicuro che loro aspettano il giorno grande molto.\n",
      "Correction 3: Sono certo che loro aspettano molto il giorno grande.\n",
      "Correction 4: Sono sicuro di loro aspettativa di un giorno grande molto.\n",
      "Correction 5: Sono sicuro che aspettano molto il giorno grande.\n",
      "Error types:  ['G_Wo']\n",
      "\n"
     ]
    },
    {
     "name": "stderr",
     "output_type": "stream",
     "text": [
      " 44%|███████████████████▎                        | 7/16 [03:12<04:05, 27.24s/it]"
     ]
    },
    {
     "name": "stdout",
     "output_type": "stream",
     "text": [
      "\n",
      "Original:     Andiamo a cena al ristorante tailandese insieme ?\n",
      "Gold labels:  c c c i c c i c\n",
      "Pred labels:  c c c c c c c c\n",
      "Gold:         Andiamo a cena al ristorante tailandese ?\n",
      "Correction 1: Andiamo a cena al ristorante tailandese insieme!\n",
      "Correction 2: Andiamo a cena al ristorante tailandese!\n",
      "Correction 3: Andiamo a mangiare al ristorante tailandese insieme?\n",
      "Correction 4: Andiamo a pranzo al ristorante tailandese insieme?\n",
      "Correction 5: Andiamo al ristorante tailandese insieme?\n",
      "Error types:  ['G_Wo']\n",
      "\n"
     ]
    },
    {
     "name": "stderr",
     "output_type": "stream",
     "text": [
      " 50%|██████████████████████                      | 8/16 [04:02<04:34, 34.36s/it]"
     ]
    },
    {
     "name": "stdout",
     "output_type": "stream",
     "text": [
      "\n",
      "Original:     Non potrei imaginarmi di scrivere , di parlare , o anche di lottare con una persona che ho visto mai , anche se è un pensiero interessante .\n",
      "Gold labels:  c c i c c c c c c c c c c c c c c i i i c c c c c c c c\n",
      "Pred labels:  c c c c c c c c c c c c c c c c c c c c c c c c c c c c\n",
      "Gold:         Non potrei immaginarmi di scrivere , di parlare , o anche di lottare con una persona che ho visto , anche se è un pensiero interessante .\n",
      "Correction 1: Non potrei imaginarmi di scrivere, di parlare, o anche di lottare con una persona che ho visto mai, anche se è un pensiero interessante.\n",
      "Correction 2: Non potrei imaginarmi di scrivere, di parlare, o anche di lottare con una persona che ho visto mai, anche se è un pensiero interessante.\n",
      "Correction 3: Non potrei imaginarmi di scrivere, di parlare, o anche di lottare con una persona che ho visto mai, anche se è un pensiero interessante.\n",
      "Correction 4: Non potrei imaginarmi di scrivere, di parlare, o anche di lottare con una persona che ho visto mai, anche se è un pensiero interessante.\n",
      "Correction 5: Non potrei imaginarmi di scrivere, di parlare, o anche di lottare con una persona che ho visto mai, anche se è un pensiero interessante.\n",
      "Error types:  ['G_Neg', 'G_Wo', 'O_Graph']\n",
      "\n"
     ]
    },
    {
     "name": "stderr",
     "output_type": "stream",
     "text": [
      " 56%|████████████████████████▊                   | 9/16 [04:20<03:26, 29.48s/it]"
     ]
    },
    {
     "name": "stdout",
     "output_type": "stream",
     "text": [
      "\n",
      "Original:     Sempre mi piaceva l' Italia e la pronuncia italiana .\n",
      "Gold labels:  i i i i i c i c c c\n",
      "Pred labels:  c c c c c c c c c c\n",
      "Gold:         sempre piaciuta e la pronuncia italiana .\n",
      "Correction 1: Sempre mi piace l'Italia e la pronuncia italiana .\n",
      "Correction 2: Sempre mi piaceva l'Italia e la pronunzia italiana .\n",
      "Correction 3: Sempre mi piace l'Italia e la pronunzia italiana .\n",
      "Correction 4: Sempre mi piace l' Italia e la pronuncia italiana .\n",
      "Correction 5: Sempre mi piaceva l'Italia e la pronuncia .\n",
      "Error types:  ['G_Wo', 'G_Verb']\n",
      "\n"
     ]
    },
    {
     "name": "stderr",
     "output_type": "stream",
     "text": [
      " 62%|██████████████████████████▉                | 10/16 [04:50<02:58, 29.67s/it]"
     ]
    },
    {
     "name": "stdout",
     "output_type": "stream",
     "text": [
      "\n",
      "Original:     In attesa di una risposta buona porgo i miei cordiali saluti .\n",
      "Gold labels:  c c c c i i c c c c c c\n",
      "Pred labels:  c c c c c c c c c c c c\n",
      "Gold:         In attesa di una risposta porgo i miei cordiali saluti .\n",
      "Correction 1: In attesa di una buona risposta porgo i miei cordiali saluti .\n",
      "Correction 2: In attesa di una risposta porgo i miei saluti .\n",
      "Correction 3: In attesa di una risposta buone porgo i miei cordiali saluti .\n",
      "Correction 4: In attesa di una risposta porgo i miei saluti cordiali .\n",
      "Correction 5: In attesa di una risposta buona porgo i saluti .\n",
      "Error types:  ['G_Wo']\n",
      "\n"
     ]
    },
    {
     "name": "stderr",
     "output_type": "stream",
     "text": [
      " 69%|█████████████████████████████▌             | 11/16 [05:32<02:46, 33.22s/it]"
     ]
    },
    {
     "name": "stdout",
     "output_type": "stream",
     "text": [
      "\n",
      "Original:     Questo non è un bugio totalmente ma c' erano pochi collegamenti però non ho potuto andarci .\n",
      "Gold labels:  c c c i i i c c c c c i c c c c c\n",
      "Pred labels:  c c c c i i c c c c c c c c c c c\n",
      "Gold:         Questo non è una bugia ma c' erano pochi collegamenti quindi non ho potuto andarci .\n",
      "Correction 1: Questo non è un buglio totalmente, ma c'erano pochi collegamenti. Non ho potuto andarci.\n",
      "Correction 2: Questo non è un bugio totalmente, ma c'erano pochi collegamenti. Non ce ne sono stati molti.\n",
      "Correction 3: Questo non è un bugio totalmente, ma c'erano pochi collegamenti. Tuttavia non ce n'ho andato.\n",
      "Correction 4: Questo non è un buglio totalmente, ma c'erano pochi collegamenti. Tuttavia non ho potuto.\n",
      "Correction 5: Questo non è un bugio totalmente, ma c'erano pochi collegamenti. Ho however not been able to go there.\n",
      "Correction 6: Questo non è un bugio totalmente, ma c'erano pochi collegamenti. Tuttavia non ce n'ho andato.\n",
      "Error types:  ['G_Wo', 'G_Inflect_Inexist', 'G_Conj']\n",
      "\n"
     ]
    },
    {
     "name": "stderr",
     "output_type": "stream",
     "text": [
      " 75%|████████████████████████████████▎          | 12/16 [05:50<01:55, 28.84s/it]"
     ]
    },
    {
     "name": "stdout",
     "output_type": "stream",
     "text": [
      "\n",
      "Original:     Vogliamo qui andare a cena sabato sera ?\n",
      "Gold labels:  c i c i c c c c\n",
      "Pred labels:  c c c c c c c c\n",
      "Gold:         Vogliamo andare a cena sabato sera ?\n",
      "Correction 1: Vogliamo andare a cena sabato sera ?\n",
      "Correction 2: Vogliamo qui a cena sabato sera ?\n",
      "Correction 3: Vogliamo qui andare sabato sera ?\n",
      "Correction 4: Vogliamo qui andare a sera ?\n",
      "Correction 5: Note: The fifth correction is left blank as there are only four unique ways to correct the sentence while following the given rules.\n",
      "Error types:  ['G_Wo']\n",
      "\n"
     ]
    },
    {
     "name": "stderr",
     "output_type": "stream",
     "text": [
      " 81%|██████████████████████████████████▉        | 13/16 [06:30<01:36, 32.17s/it]"
     ]
    },
    {
     "name": "stdout",
     "output_type": "stream",
     "text": [
      "\n",
      "Original:     Benché io abbia tanto da fare al lavoro , non vorrei evitare d' essere parte della festa grande .\n",
      "Gold labels:  c c c c c c c c c c c c i c c c i i c\n",
      "Pred labels:  c c c c c c c c c c c c c c c c c i c\n",
      "Gold:         Benché io abbia tanto da fare al lavoro , non vorrei evitare di essere parte della festa .\n",
      "Correction 1: Benché io abbia tanto da fare al lavoro, non vorrei evitare di essere parte della festa grande.\n",
      "Correction 2: Benché io abbia tanto da fare al lavoro, non vorrei evitare di essere parte della grande festa.\n",
      "Correction 3: Benché io abbia tanto da fare al lavoro, non vorrei evitare d' essere parte della festa.\n",
      "Correction 4: Benché io abbia tanto da fare al lavoro, non vorrei evitare d' essere parte della grande festa.\n",
      "Correction 5: Benché io abbia tanto da fare al lavoro, non vorrei evitare di essere parte della festa grande.\n",
      "Error types:  ['G_Wo', 'O_Graph']\n",
      "\n"
     ]
    },
    {
     "name": "stderr",
     "output_type": "stream",
     "text": [
      " 88%|█████████████████████████████████████▋     | 14/16 [06:52<00:57, 28.95s/it]"
     ]
    },
    {
     "name": "stdout",
     "output_type": "stream",
     "text": [
      "\n",
      "Original:     La settimana scorsa hanno comminciato cinque nuove persone !\n",
      "Gold labels:  c c c c i c i i c\n",
      "Pred labels:  c c c c i c c c c\n",
      "Gold:         La settimana scorsa hanno cominciato cinque nuove !\n",
      "Correction 1: La settimana scorsa hanno cominciato cinque nuove persone !\n",
      "Correction 2: La settimana scorsa sono commesse cinque nuove persone !\n",
      "Correction 3: La settimana scorsa cinque persone si sono commesse !\n",
      "Correction 4: La settimana scorsa cinque nuove persone hanno cominciato !\n",
      "Correction 5: La settimana scorsa cinque nuove persone hanno iniziato !\n",
      "Error types:  ['G_Wo']\n",
      "\n"
     ]
    },
    {
     "name": "stderr",
     "output_type": "stream",
     "text": [
      " 94%|████████████████████████████████████████▎  | 15/16 [08:04<00:42, 42.06s/it]"
     ]
    },
    {
     "name": "stdout",
     "output_type": "stream",
     "text": [
      "\n",
      "Original:     Ancora volta mi dispiace , ma non è mia colpa , Mio capo ha organizzato una runione giovedi pomeriggio e per questo dobbiamo cambiare nostro appuntamento .\n",
      "Gold labels:  c i c c c c c c i c i i c c c c i i c c c c c c i c c\n",
      "Pred labels:  c c c c c c c c c c c i c c c c i i c c c c c c i c c\n",
      "Gold:         Ancora volta mi dispiace , ma non è colpa : mio capo ha organizzato una riunione giovedì pomeriggio e per questo dobbiamo cambiare nostro appuntamento .\n",
      "Correction 1: Ancora volta mi dispiace, ma non è mia colpa, Mio capo ha organizzato una riunione giovedì pomeriggio e per questo dobbiamo cambiare nostro appuntamento.\n",
      "Correction 2: Ancora volta mi dispiace, ma non è mia colpa, Mio capo ha organizzato una riunione giovedì pomeriggio e per questo dobbiamo cambiarlo appuntamento.\n",
      "Correction 3: Ancora volta mi dispiace, ma non è mia colpa, Mio capo ha organizzato una riunione giovedì pomeriggio e per questo devo cambiare l'appuntamento.\n",
      "Correction 4: Ancora volta mi dispiace, ma non è mia colpa, Mio capo ha organizzato una riunione giovedì pomeriggio e per questo dobbiamo cambiare appuntamento.\n",
      "Correction 5: Ancora volta mi dispiace, ma non è mia colpa, Mio capo ha organizzato una riunione giovedì pomeriggio e per questo dobbiamo cambiarne l'appuntamento.\n",
      "Error types:  ['O_Capit', 'O_Graph', 'G_Art', 'NO_LABEL', 'G_Wo']\n",
      "\n"
     ]
    },
    {
     "name": "stderr",
     "output_type": "stream",
     "text": [
      "100%|███████████████████████████████████████████| 16/16 [08:56<00:00, 33.56s/it]"
     ]
    },
    {
     "name": "stdout",
     "output_type": "stream",
     "text": [
      "\n",
      "Original:     Invece , l' inglese , che lo aveva usato prima moltissimo quando lavorava , solo l' uso quando stiamo con gli amici stranieri che non parlano italiano .\n",
      "Gold labels:  c i c c c c i i c i c i i c i i i c c c c c c c c c c c\n",
      "Pred labels:  c c c c c c c c c c c c c c c c c c c c c c c c c c c c\n",
      "Gold:         Invece l' inglese , che ho usato moltissimo quando lavoravo , solo quando stiamo con gli amici stranieri che non parlano italiano .\n",
      "Correction 1: Invece, l'inglese, che lo aveva usato molto prima quando lavorava, solo l'uso quando stiamo con gli amici stranieri che non parlano italiano .\n",
      "Correction 2: Invece, l'inglese, che lo aveva usato moltissimo prima quando lavorava, l'uso solo quando stiamo con gli amici stranieri che non parlano italiano .\n",
      "Correction 3: Invece, l'inglese, che lo aveva usato molto prima quando lavorava, l'uso solo quando stiamo con gli amici stranieri che non parlano italiano .\n",
      "Correction 4: Invece, l'inglese, che lo aveva usato moltissimo prima quando lavorava, solo l'uso quando stiamo con gli amici stranieri che non parlano italiano .\n",
      "Correction 5: Invece, l'inglese, che lo aveva usato molto prima quando lavorava, solo l'uso quando stiamo con gli amici stranieri .\n",
      "Error types:  ['O_Graph', 'NO_LABEL', 'G_Agr', 'O_Punct', 'G_Wo', 'G_Valency']\n",
      "\n"
     ]
    },
    {
     "name": "stderr",
     "output_type": "stream",
     "text": [
      "\n"
     ]
    }
   ],
   "source": [
    "all_G_Wo_roberta_corrections_FN = []\n",
    "\n",
    "for sentence in tqdm(roberta_merlin_only_fn_error_type['G_Wo']):\n",
    "    sentence_corrections = get_corrections_tokenized_with_labels_from_data(sentence, client)\n",
    "    all_G_Wo_roberta_corrections_FN.append(sentence_corrections)"
   ]
  },
  {
   "cell_type": "markdown",
   "id": "8f8746a6-4cd9-4bc8-8c07-49114c94cfa6",
   "metadata": {},
   "source": [
    "### ROBERTA --> G_Verb"
   ]
  },
  {
   "cell_type": "code",
   "execution_count": 32,
   "id": "657cfb33-2375-4776-b551-97dc5c4c0872",
   "metadata": {
    "scrolled": true
   },
   "outputs": [
    {
     "name": "stderr",
     "output_type": "stream",
     "text": [
      "  5%|██▏                                         | 1/20 [00:34<11:01, 34.83s/it]"
     ]
    },
    {
     "name": "stdout",
     "output_type": "stream",
     "text": [
      "\n",
      "Original:     Puoi dirmi dove hai lavorato adesso ?\n",
      "Gold labels:  c c c i i c c\n",
      "Pred labels:  c c c c c c c\n",
      "Gold:         Puoi dirmi dove lavori adesso ?\n",
      "Correction 1: Puoi dirmi dove hai lavorato recently?\n",
      "Correction 2: Puoi dirmi dove lavori adesso?\n",
      "Correction 3: Puoi dirmi dove hai lavorato di recente?\n",
      "Correction 4: Puoi dirmi dove sei impiegato adesso?\n",
      "Correction 5: Puoi dirmi dove hai lavorato ultimamente?\n",
      "Correction 6: (Note: The fifth line is left empty as there are only four unique corrections possible while adhering to the constraints.)\n",
      "Error types:  ['G_Verb']\n",
      "\n"
     ]
    },
    {
     "name": "stderr",
     "output_type": "stream",
     "text": [
      " 10%|████▍                                       | 2/20 [01:06<09:53, 32.98s/it]"
     ]
    },
    {
     "name": "stdout",
     "output_type": "stream",
     "text": [
      "\n",
      "Original:     Ma la prossima settimana sara al IKEA e lì trovo un regalo buono .\n",
      "Gold labels:  c c c c i i c c c i c c c c\n",
      "Pred labels:  c c c c i i c c c c c c c c\n",
      "Gold:         Ma la prossima settimana sarò all' IKEA e lì troverò un regalo buono .\n",
      "Correction 1: Ma la prossima settimana sarò al IKEA e lì trovo un regalo buono .\n",
      "Correction 2: Ma la prossima settimana sarò al IKEA e lí trovo un regalo buono .\n",
      "Correction 3: Ma la prossima settimana sarò al IKEA e lì trovo un regalo migliore .\n",
      "Correction 4: Ma la prossima settimana sarò al IKEA e lì trovo un bel regalo .\n",
      "Correction 5: Ma la prossima settimana sarò al IKEA e lí trovo un bel regalo .\n",
      "Error types:  ['G_Verb', 'G_Morphol_Wrong', 'O_Graph']\n",
      "\n"
     ]
    },
    {
     "name": "stderr",
     "output_type": "stream",
     "text": [
      " 15%|██████▌                                     | 3/20 [01:37<09:08, 32.28s/it]"
     ]
    },
    {
     "name": "stdout",
     "output_type": "stream",
     "text": [
      "\n",
      "Original:     In augosto faceva molto caldo , ma l' aria condizionata non ha funzionato nella nostra camera .\n",
      "Gold labels:  c i c c c c c c c c c i i c c c c\n",
      "Pred labels:  c i c c c c c c c c c c c c c c c\n",
      "Gold:         In agosto faceva molto caldo , ma l' aria condizionata non funzionava nella nostra camera .\n",
      "Correction 1: In agosto faceva molto caldo, ma l'aria condizionata non ha funzionato nella nostra camera.\n",
      "Correction 2: In agosto faceva molto caldo, ma l'aria condizionata non funzionava nella nostra camera.\n",
      "Correction 3: In agosto faceva molto caldo, ma nell'aria condizionata non ha funzionato nella nostra camera.\n",
      "Correction 4: In agosto faceva molto caldo, ma l'aria condizionata non funzionò nella nostra camera.\n",
      "Correction 5: In agosto faceva molto caldo, ma l'aria condizionata non ha funzionato in camera nostra.\n",
      "Error types:  ['G_Verb', 'O_Graph']\n",
      "\n"
     ]
    },
    {
     "name": "stderr",
     "output_type": "stream",
     "text": [
      " 20%|████████▊                                   | 4/20 [01:52<06:45, 25.36s/it]"
     ]
    },
    {
     "name": "stdout",
     "output_type": "stream",
     "text": [
      "\n",
      "Original:     Ho cominciato a studiare l' inglese molto presto , quando andavo al asilo e continuavo anche dopo , fino a quando avevo la possibilità di andare all' estero , in Inghilterra per due mesi .\n",
      "Gold labels:  c c c c c c c c c c c i c c i c c c c c c i c c c c c c c c c c c c c\n",
      "Pred labels:  c c c c c c c c c c c c c c c c c c c c c c c c c c c c c c c c c c c\n",
      "Gold:         Ho cominciato a studiare l' inglese molto presto , quando andavo all' asilo e continuato anche dopo , fino a quando avuto la possibilità di andare all' estero , in Inghilterra per due mesi .\n",
      "Correction 1: Ho cominciato a studiare l'inglese molto presto quando andavo all'asilo e continuavo anche dopo fino a quando avevo la possibilità di andare all'estero in Inghilterra per due mesi\n",
      "Error types:  ['G_Verb', 'G_Art']\n",
      "\n"
     ]
    },
    {
     "name": "stderr",
     "output_type": "stream",
     "text": [
      " 25%|███████████                                 | 5/20 [02:23<06:51, 27.44s/it]"
     ]
    },
    {
     "name": "stdout",
     "output_type": "stream",
     "text": [
      "\n",
      "Original:     sará meglio quando uno di voi mi chiama é parliamo di questa questione .\n",
      "Gold labels:  i c i c c c c i i c c c c c\n",
      "Pred labels:  i c c c c c c c i c c c c c\n",
      "Gold:         Sarà meglio che uno di voi mi chiami e parliamo di questa questione .\n",
      "Correction 1: sarà meglio quando uno di voi mi chiama e parliamo di questa questione .\n",
      "Correction 2: sarà meglio quando uno di voi mi chiama ed parliamo di questa questione .\n",
      "Correction 3: sarà meglio quando uno di voi mi chiami e parliamo di questa questione .\n",
      "Correction 4: sarà meglio quando uno di voi mi chiami ed parliamo di questa questione .\n",
      "Correction 5: sarà meglio quando uno di voi mi chiama parliamo di questa questione .\n",
      "Error types:  ['G_Conj', 'G_Verb', 'O_Graph']\n",
      "\n"
     ]
    },
    {
     "name": "stderr",
     "output_type": "stream",
     "text": [
      " 30%|█████████████▏                              | 6/20 [02:54<06:40, 28.61s/it]"
     ]
    },
    {
     "name": "stdout",
     "output_type": "stream",
     "text": [
      "\n",
      "Original:     Ma il nostro appartamento è stato molto vecchio e non è stato molto moderno .\n",
      "Gold labels:  c c c c i i c c c c i i c c c\n",
      "Pred labels:  c c c c c c c c c c c c c c c\n",
      "Gold:         Ma il nostro appartamento era molto vecchio e non era molto moderno .\n",
      "Correction 1: Ma il nostro appartamento è stato molto vecchio e non era molto moderno.\n",
      "Correction 2: Ma il nostro appartamento era stato molto vecchio e non era stato molto moderno.\n",
      "Correction 3: Ma nostro appartamento è stato molto vecchio e non era molto moderno.\n",
      "Correction 4: Ma il nostro appartamento era stato molto vecchio e non è stata molto moderno.\n",
      "Correction 5: Ma il nostro appartamento era molto vecchio e non era molto moderno.\n",
      "Error types:  ['G_Verb']\n",
      "\n"
     ]
    },
    {
     "name": "stderr",
     "output_type": "stream",
     "text": [
      " 35%|███████████████▍                            | 7/20 [03:28<06:34, 30.36s/it]"
     ]
    },
    {
     "name": "stdout",
     "output_type": "stream",
     "text": [
      "\n",
      "Original:     Secondo me è molto cattivo che tu non hai amici , ma queste notizia che cerchi è buono .\n",
      "Gold labels:  c c c c c c c c i c c c i c c c c i c\n",
      "Pred labels:  c c c c c c c c c c c c i c c c c i c\n",
      "Gold:         Secondo me è molto cattivo che tu non abbia amici , ma questa notizia che cerchi è buona .\n",
      "Correction 1: Secondo me è molto cattivo che tu non hai amici, ma queste notizie che cerchi sono buone.\n",
      "Correction 2: Secondo me è molto cattivo che tu non hai amici ma queste notizie che cerchi sono buone.\n",
      "Correction 3: Secondo me è molto cattivo che tu non hai amici e queste notizie che cerchi sono buone.\n",
      "Correction 4: Secondo me è molto cattivo che tu non hai amici , ma queste notizie che cerchi sono positive.\n",
      "Correction 5: Secondo me è molto cattivo che tu non hai amici, ma queste notizie che cerchi sono buone.\n",
      "Error types:  ['G_Verb', 'G_Morphol_Wrong']\n",
      "\n"
     ]
    },
    {
     "name": "stderr",
     "output_type": "stream",
     "text": [
      " 40%|█████████████████▌                          | 8/20 [04:33<08:17, 41.44s/it]"
     ]
    },
    {
     "name": "stdout",
     "output_type": "stream",
     "text": [
      "\n",
      "Original:     Inoltre io colgo l' occasione di invitarvi per una settimana nellà piccola città se avrete un po tempo dopo di tornare dal vostro viaggio .\n",
      "Gold labels:  c i c c c c c c c c i c c c c c i i c i i c c c c\n",
      "Pred labels:  c c c c c c c c c c i c c c c c i i c i c c c c c\n",
      "Gold:         Inoltre io colgo l' occasione di invitarvi per una settimana nella piccola città se avrete un po' tempo dopo tornati dal vostro viaggio .\n",
      "Correction 1: Inoltre io colgo l'occasione di invitarvi per una settimana nella piccola città se avrete un po' tempo dopo di tornare dal vostro viaggio.\n",
      "Correction 2: Inoltre io colgo l'occasione di invitarvi per una settimana nell'piccola città se avrete un po' tempo dopo di tornare dal vostro viaggio.\n",
      "Correction 3: Inoltre io colgo l'occasione di invitarvi per una settimana in una piccola città se avrete un po' tempo dopo di tornare dal vostro viaggio.\n",
      "Correction 4: Inoltre io colgo l'occasione di invitarvi per una settimana nell'piccola città se avrete un po' tempo dopo il vostro viaggio.\n",
      "Correction 5: Inoltre io colgo l'occasione di invitarvi per una settimana nella piccola città se avrete un po' tempo dopo il vostro viaggio.\n",
      "Error types:  ['G_Verb', 'O_Graph', 'G_Prep', 'O_Apostr', 'NO_LABEL']\n",
      "\n"
     ]
    },
    {
     "name": "stderr",
     "output_type": "stream",
     "text": [
      " 45%|███████████████████▊                        | 9/20 [04:56<06:30, 35.50s/it]"
     ]
    },
    {
     "name": "stdout",
     "output_type": "stream",
     "text": [
      "\n",
      "Original:     Vi ringrazio per l' invito e mi piacere venire .\n",
      "Gold labels:  c c c c c c c i c c\n",
      "Pred labels:  c c c c c c c c c c\n",
      "Gold:         Vi ringrazio per l' invito e mi piacerà venire .\n",
      "Correction 1: Vi ringrazio per l' invito e mi piacerebbe venire .\n",
      "Correction 2: Vi ringrazio per l' invito e mi piacerebbe di venire .\n",
      "Correction 3: Vi ringrazio per l' invito e sarei onorato di venire .\n",
      "Correction 4: Vi ringrazio per l' invito e sarei lieto di venire .\n",
      "Correction 5: Vi ringrazio per l' invito e vorrei venire .\n",
      "Error types:  ['G_Verb']\n",
      "\n"
     ]
    },
    {
     "name": "stderr",
     "output_type": "stream",
     "text": [
      " 50%|█████████████████████▌                     | 10/20 [05:32<05:58, 35.83s/it]"
     ]
    },
    {
     "name": "stdout",
     "output_type": "stream",
     "text": [
      "\n",
      "Original:     Invece potrai dirmi se avete fatto una lista di nozze o qual regalo vi fará piacere .\n",
      "Gold labels:  c i c c c c c c c c c i c c i c c\n",
      "Pred labels:  c c c c c c c c c c c i c c i c c\n",
      "Gold:         Invece puoi dirmi se avete fatto una lista di nozze o quale regalo vi farà piacere .\n",
      "Correction 1: Invece potrai dirmi se avete fatto una lista di nozze o qual regalo vi farà piacere.\n",
      "Correction 2: Invece potrai dirmi se avete fatto una lista di nozze o quale regalo vi fará piacere.\n",
      "Correction 3: Invece potrai dirmi se avete fatto una lista di nozze o qual regalo vi piace fare.\n",
      "Correction 4: Invece potrai dirmi se avete fatto una lista di nozze o qual regalo vi piacerebbe ricevere.\n",
      "Correction 5: Invece potrai dirmi se avete fatto una lista di nozze o quale regalo vi piacerebbe ricevere.\n",
      "Error types:  ['G_Verb', 'O_Graph']\n",
      "\n"
     ]
    },
    {
     "name": "stderr",
     "output_type": "stream",
     "text": [
      " 55%|███████████████████████▋                   | 11/20 [05:45<04:17, 28.65s/it]"
     ]
    },
    {
     "name": "stdout",
     "output_type": "stream",
     "text": [
      "\n",
      "Original:     Oggi scriverti per il mio viaggio di te .\n",
      "Gold labels:  c i i c c c i c c\n",
      "Pred labels:  c c c c c c i c c\n",
      "Gold:         Oggi ti per il mio viaggio da te .\n",
      "Correction 1: Oggi scriverti per il mio viaggio .\n",
      "Correction 2: Oggi scriverlo per il mio viaggio di te .\n",
      "Correction 3: Oggi scrivo per il mio viaggio di te .\n",
      "Correction 4: Oggi scriverti per il mio viaggio .\n",
      "Error types:  ['G_Prep', 'G_Verb', 'NO_LABEL']\n",
      "\n"
     ]
    },
    {
     "name": "stderr",
     "output_type": "stream",
     "text": [
      " 60%|█████████████████████████▊                 | 12/20 [06:16<03:55, 29.47s/it]"
     ]
    },
    {
     "name": "stdout",
     "output_type": "stream",
     "text": [
      "\n",
      "Original:     Che ne dici di incontrami sabato sera , pérchè ho molto tempo .\n",
      "Gold labels:  c c c c i c c c i c c c c\n",
      "Pred labels:  c c c c c c c c i c c c c\n",
      "Gold:         Che ne dici di incontrarci sabato sera , perché ho molto tempo .\n",
      "Correction 1: Che ne dici di incontrarmi sabato sera, perché ho molto tempo .\n",
      "Correction 2: Che ne dici di incontrarmi sabato pomeriggio, perché ho molto tempo .\n",
      "Correction 3: Che ne dici di incontrarmi sabato sera?\n",
      "Correction 4: Che ne dici di incontrarmi sabato sera perché ho molto tempo?\n",
      "Correction 5: Che ne dici di vedermi sabato sera, perché ho molto tempo .\n",
      "Error types:  ['G_Verb', 'O_Graph']\n",
      "\n"
     ]
    },
    {
     "name": "stderr",
     "output_type": "stream",
     "text": [
      " 65%|███████████████████████████▉               | 13/20 [06:36<03:06, 26.66s/it]"
     ]
    },
    {
     "name": "stdout",
     "output_type": "stream",
     "text": [
      "\n",
      "Original:     Fa un momento che non ti ho scritto , mi dispiace .\n",
      "Gold labels:  i c c c c c i i c c c c\n",
      "Pred labels:  c c c c c c c c c c c c\n",
      "Gold:         da un momento che non ti scrivo , mi dispiace .\n",
      "Correction 1: Fa un momento che non ti ho scritto, mi dispiace.\n",
      "Correction 2: Fa un momento che non ti scrivevo, mi dispiace.\n",
      "Correction 3: Fa un momento che non ti ho scritto, mi spiace.\n",
      "Correction 4: Fa un momento che non ti ho scritto, mi dispiaccio.\n",
      "Correction 5: Fa un momento che non ti ho scritto, mi dispiace.\n",
      "Error types:  ['G_Verb', 'NO_LABEL']\n",
      "\n"
     ]
    },
    {
     "name": "stderr",
     "output_type": "stream",
     "text": [
      " 70%|██████████████████████████████             | 14/20 [06:57<02:29, 24.97s/it]"
     ]
    },
    {
     "name": "stdout",
     "output_type": "stream",
     "text": [
      "\n",
      "Original:     Pensavo che è una buona scelta per impararmi una lingua meno faticosa .\n",
      "Gold labels:  c c i c c c c i c c c c c\n",
      "Pred labels:  c c c c c c c c c c c c c\n",
      "Gold:         Pensavo che fosse una buona scelta per imparare una lingua meno faticosa .\n",
      "Correction 1: Pensavo che è una buona scelta per imparare una lingua meno faticosa .\n",
      "Correction 2: Pensavo che è una buona scelta per impararmi una lingua meno faticosa .\n",
      "Correction 3: Pensavo che è una buona scelta per imparare una lingua più facile .\n",
      "Correction 4: Pensavo che è una buona scelta per imparare una lingua diversa .\n",
      "Error types:  ['G_Clit', 'G_Verb']\n",
      "\n"
     ]
    },
    {
     "name": "stderr",
     "output_type": "stream",
     "text": [
      " 75%|████████████████████████████████▎          | 15/20 [07:50<02:46, 33.22s/it]"
     ]
    },
    {
     "name": "stdout",
     "output_type": "stream",
     "text": [
      "\n",
      "Original:     Mia sorella era malata fra due giorni e poi non ha potuto andare con mio fratello in Francia per vedere i nostri parenti .\n",
      "Gold labels:  c c i c i c c c c c i i c c c c c c c c c c c c\n",
      "Pred labels:  c c c c i c c c c c c c c c c c c c c c c c c c\n",
      "Gold:         Mia sorella è malata da due giorni e poi non è potuta andare con mio fratello in Francia per vedere i nostri parenti .\n",
      "Correction 1: Mia sorella era malata fra due giorni e poi non ha potuto andare in Francia con mio fratello per vedere i nostri parenti .\n",
      "Correction 2: Mia sorella era malata fra due giorni e poi non è stata in grado di andare in Francia con mio fratello per vedere i nostri parenti .\n",
      "Correction 3: Mia sorella era malata fra due giorni e poi non ha potuto andare a Francia con mio fratello per vedere i nostri parenti .\n",
      "Correction 4: Mia sorella era malata fra due giorni e poi non ha potuto viaggiare in Francia con mio fratello per vedere i nostri parenti .\n",
      "Correction 5: Mia sorella era malata fra due giorni e poi non ha potuto andare in Francia con mio fratello a visitare i nostri parenti .\n",
      "Error types:  ['G_Agr', 'G_Prep', 'G_Verb', 'NO_LABEL']\n",
      "\n"
     ]
    },
    {
     "name": "stderr",
     "output_type": "stream",
     "text": [
      " 80%|██████████████████████████████████▍        | 16/20 [08:13<02:00, 30.19s/it]"
     ]
    },
    {
     "name": "stdout",
     "output_type": "stream",
     "text": [
      "\n",
      "Original:     Caro Francesco , tanti auguri a te per prendere la maturità linguistica !\n",
      "Gold labels:  c c c c c c c c i c c c c\n",
      "Pred labels:  c c c c c c c c c c c c c\n",
      "Gold:         Caro Francesco , tanti auguri a te per preso la maturità linguistica !\n",
      "Correction 1: Caro Francesco, tanti auguri per prendere la maturità linguistica!\n",
      "Correction 2: Caro Francesco, tanti auguri a te per la maturità linguistica!\n",
      "Correction 3: Caro Francesco, tanti auguri per la tua maturità linguistica!\n",
      "Correction 4: Tanti auguri a te per la maturità linguistica, caro Francesco!\n",
      "Correction 5: Per la maturità linguistica, tanti auguri a te, caro Francesco!\n",
      "Error types:  ['G_Verb']\n",
      "\n"
     ]
    },
    {
     "name": "stderr",
     "output_type": "stream",
     "text": [
      " 85%|████████████████████████████████████▌      | 17/20 [08:42<01:29, 29.91s/it]"
     ]
    },
    {
     "name": "stdout",
     "output_type": "stream",
     "text": [
      "\n",
      "Original:     Perché non faresti un bel viaggio per pensarci ?\n",
      "Gold labels:  c c i c c c c c c\n",
      "Pred labels:  c c c c c c c c c\n",
      "Gold:         Perché non fai un bel viaggio per pensarci ?\n",
      "Correction 1: Perché non fai un bel viaggio per pensarci ?\n",
      "Correction 2: Perché non faresti un bel viaggio per pensarlo ?\n",
      "Correction 3: Perché non faresti un bel viaggio per pensarci? \\ (repeated from above, but required for the format)\n",
      "Correction 4: Perché non faresti un bel viaggio per pensarci a lungo?\n",
      "Correction 5: Perché non faresti un bel viaggio per considerarlo?\n",
      "Error types:  ['G_Verb']\n",
      "\n"
     ]
    },
    {
     "name": "stderr",
     "output_type": "stream",
     "text": [
      " 90%|██████████████████████████████████████▋    | 18/20 [08:54<00:48, 24.48s/it]"
     ]
    },
    {
     "name": "stdout",
     "output_type": "stream",
     "text": [
      "\n",
      "Original:     Cosi avevamo sentito male .\n",
      "Gold labels:  i i c c c\n",
      "Pred labels:  i c c c c\n",
      "Gold:         così abbiamo sentito male .\n",
      "Correction 1: Così avevamo sentito male.\n",
      "Correction 2: Così avevamo sentito male.\n",
      "Correction 3: Così abbiamo sentito male.\n",
      "Correction 4: Così avevamo sentito male.\n",
      "Correction 5: Così avevamo sentito corretto.\n",
      "Error types:  ['G_Verb', 'O_Graph']\n",
      "\n"
     ]
    },
    {
     "name": "stderr",
     "output_type": "stream",
     "text": [
      " 95%|████████████████████████████████████████▊  | 19/20 [09:13<00:22, 22.94s/it]"
     ]
    },
    {
     "name": "stdout",
     "output_type": "stream",
     "text": [
      "\n",
      "Original:     Sempre mi piaceva l' Italia e la pronuncia italiana .\n",
      "Gold labels:  i i i i i c i c c c\n",
      "Pred labels:  c c c c c c c c c c\n",
      "Gold:         sempre piaciuta e la pronuncia italiana .\n",
      "Correction 1: Sempre mi piaceva l'Italia e la pronuncia italiana .\n",
      "Correction 2: Sempre mi piace l'Italia e la pronuncia italiana .\n",
      "Correction 3: Sempre mi piaceva l'Italia e la pronunzia italiana .\n",
      "Correction 4: Sempre mi piacevo l'Italia e la pronunzia italiana .\n",
      "Correction 5: Sempre mi piacevo l'Italia e la pronuncia italiana .\n",
      "Error types:  ['G_Wo', 'G_Verb']\n",
      "\n"
     ]
    },
    {
     "name": "stderr",
     "output_type": "stream",
     "text": [
      "100%|███████████████████████████████████████████| 20/20 [09:34<00:00, 28.70s/it]"
     ]
    },
    {
     "name": "stdout",
     "output_type": "stream",
     "text": [
      "\n",
      "Original:     Io lo sapevo , che tu ce la fai senza problemi .\n",
      "Gold labels:  c c c i c c c c i c c c\n",
      "Pred labels:  c c c i c c c c c c c c\n",
      "Gold:         Io lo sapevo che tu ce la facevi senza problemi .\n",
      "Correction 1: Io lo sapevo che tu ce la fai senza problemi .\n",
      "Correction 2: Io lo sapevo, tu ci la fai senza problemi.\n",
      "Correction 3: Io lo sapevo, tu ce la fai senzaproblemi.\n",
      "Correction 4: Io lo sapevo, tu ce la fai.\n",
      "Correction 5: Questa frase non permette altre corrette varianti con esattamente cinque modifiche minimali.\n",
      "Error types:  ['G_Verb', 'O_Punct']\n",
      "\n"
     ]
    },
    {
     "name": "stderr",
     "output_type": "stream",
     "text": [
      "\n"
     ]
    }
   ],
   "source": [
    "all_G_Verb_roberta_corrections_FN = []\n",
    "\n",
    "for sentence in tqdm(roberta_merlin_only_fn_error_type['G_Verb']):\n",
    "    sentence_corrections = get_corrections_tokenized_with_labels_from_data(sentence, client)\n",
    "    all_G_Verb_roberta_corrections_FN.append(sentence_corrections)"
   ]
  },
  {
   "cell_type": "markdown",
   "id": "a0b68263-8994-4857-a1c1-326b65201cd4",
   "metadata": {},
   "source": [
    "### ROBERTA --> G_Art"
   ]
  },
  {
   "cell_type": "code",
   "execution_count": 34,
   "id": "387b7463-2c3d-4101-a49a-5fb16e1a79fe",
   "metadata": {
    "scrolled": true
   },
   "outputs": [
    {
     "name": "stderr",
     "output_type": "stream",
     "text": [
      "  4%|█▌                                          | 1/28 [00:32<14:48, 32.90s/it]"
     ]
    },
    {
     "name": "stdout",
     "output_type": "stream",
     "text": [
      "\n",
      "Original:     perchè non parli un po' di matrimonio quando telefoni con me ?\n",
      "Gold labels:  i c c c c i c c i i i c\n",
      "Pred labels:  i c c c c c c c c c c c\n",
      "Gold:         perché non parli un po' del matrimonio quando telefoni ?\n",
      "Correction 1: perché non parli un po' di matrimonio quando telefoni con me\n",
      "Correction 2: perché non parli un po' di matrimonio quando chiami con me\n",
      "Correction 3: perché non parli un po' di matrimonio quando parli con me\n",
      "Correction 4: perché non parli un po' di matrimonio quando mi telefoni\n",
      "Correction 5: perché non parli un po' di matrimonio quando mi chiami\n",
      "Error types:  ['G_Clit', 'O_Graph', 'G_Prep', 'G_Art', 'NO_LABEL']\n",
      "\n"
     ]
    },
    {
     "name": "stderr",
     "output_type": "stream",
     "text": [
      "  7%|███▏                                        | 2/28 [00:39<07:28, 17.26s/it]"
     ]
    },
    {
     "name": "stdout",
     "output_type": "stream",
     "text": [
      "\n",
      "Original:     Qualce volta , vado in calcio .\n",
      "Gold labels:  i c i c i c c\n",
      "Pred labels:  i c i c c c c\n",
      "Gold:         Qualche volta vado al calcio .\n",
      "Correction 1: Qualche volta, vado in calcio .\n",
      "Error types:  ['G_Art', 'O_Graph', 'O_Punct']\n",
      "\n"
     ]
    },
    {
     "name": "stderr",
     "output_type": "stream",
     "text": [
      " 11%|████▋                                       | 3/28 [01:01<08:12, 19.70s/it]"
     ]
    },
    {
     "name": "stdout",
     "output_type": "stream",
     "text": [
      "\n",
      "Original:     Anch' io ho appena fatto un esame il giovedi scorso .\n",
      "Gold labels:  c c c c c c c i i c c\n",
      "Pred labels:  c c c c c c c c i c c\n",
      "Gold:         Anch' io ho appena fatto un esame giovedì scorso .\n",
      "Correction 1: Anch'io ho appena fatto un esame il giovedì scorso .\n",
      "Correction 2: Anch'io ho appena fatto un esame lo scorso giovedì .\n",
      "Correction 3: Anch'io ho appena fatto un esame il giovedì scorsa .\n",
      "Correction 4: Anch'io ho appena fatto un esame il giorno scorso .\n",
      "Correction 5: Anch'io ho appena fatto un esame ieri .\n",
      "Error types:  ['O_Graph', 'G_Art']\n",
      "\n"
     ]
    },
    {
     "name": "stderr",
     "output_type": "stream",
     "text": [
      " 14%|██████▎                                     | 4/28 [01:51<12:37, 31.58s/it]"
     ]
    },
    {
     "name": "stdout",
     "output_type": "stream",
     "text": [
      "\n",
      "Original:     Ho cominciato a studiare l' inglese molto presto , quando andavo al asilo e continuavo anche dopo , fino a quando avevo la possibilità di andare all' estero , in Inghilterra per due mesi .\n",
      "Gold labels:  c c c c c c c c c c c i c c i c c c c c c i c c c c c c c c c c c c c\n",
      "Pred labels:  c c c c c c c c c c c c c c c c c c c c c c c c c c c c c c c c c c c\n",
      "Gold:         Ho cominciato a studiare l' inglese molto presto , quando andavo all' asilo e continuato anche dopo , fino a quando avuto la possibilità di andare all' estero , in Inghilterra per due mesi .\n",
      "Correction 1: Ho cominciato a studiare l'inglese molto presto quando andavo all'asilo e continuavo anche dopo fino a quando avevo la possibilità di andare all'estero in Inghilterra per due mesi\n",
      "Correction 2: Ho cominciato a studiare l'inglese molto presto quando andavo al asilo e continuavo anche dopo fino a quando avevo la possibilità di andare all'estero in Inghilterra per due mesi\n",
      "Correction 3: Ho cominciato a studiare l'inglese molto presto quando andavo all'asilo e continuavo anche dopo fino a quando avevo la possibilità di andare all'estero in Inghilterra per due mesi\n",
      "Correction 4: Ho cominciato a studiare l'inglese molto presto quando andavo all'asilo e continuavo anche dopo fino a quando avevo la possibilità di andare all'estero in Inghilterra per due mesi\n",
      "Error types:  ['G_Verb', 'G_Art']\n",
      "\n"
     ]
    },
    {
     "name": "stderr",
     "output_type": "stream",
     "text": [
      " 18%|███████▊                                    | 5/28 [02:30<13:09, 34.33s/it]"
     ]
    },
    {
     "name": "stdout",
     "output_type": "stream",
     "text": [
      "\n",
      "Original:     Participerò volentieri a tutti i due eventi e sono molto contento di essere invitato .\n",
      "Gold labels:  i c c c i c i c c c c c c c c\n",
      "Pred labels:  c c c c c c c c c c c c c c c\n",
      "Gold:         Parteciperò volentieri a tutti e due eventi e sono molto contento di essere invitato .\n",
      "Correction 1: Parteciperò volentieri a tutti e due gli eventi e sono molto contento di essere stato invitato .\n",
      "Correction 2: Parteciperò volentieri ai due eventi e sono molto contento di essere stato invitato .\n",
      "Correction 3: Parteciperò volentieri a entrambi i eventi e sono molto contento di essere stato invitato .\n",
      "Correction 4: Parteciperò volentieri ai due eventi e sono molto contento di questa invitation .\n",
      "Correction 5: Parteciperò volentieri a tutti e due gli eventi e sono molto contento di questa invitation .\n",
      "Error types:  ['G_Pos', 'G_Art', 'O_Graph']\n",
      "\n"
     ]
    },
    {
     "name": "stderr",
     "output_type": "stream",
     "text": [
      " 21%|█████████▍                                  | 6/28 [02:55<11:25, 31.14s/it]"
     ]
    },
    {
     "name": "stdout",
     "output_type": "stream",
     "text": [
      "\n",
      "Original:     Ho letto che a scuola organizza un corso speciale con un programma di Natale .\n",
      "Gold labels:  c c c i i c c c c c c c c c c\n",
      "Pred labels:  c c c c c c c c c c c c c c c\n",
      "Gold:         Ho letto che scuola organizza un corso speciale con un programma di Natale .\n",
      "Correction 1: Ho letto che a scuola organizza un corso speciale con un programma natale .\n",
      "Correction 2: Ho letto che a scuola organizza un corso di Natale .\n",
      "Correction 3: Ho letto che a scuola organizza un corso con un programma natalizio .\n",
      "Correction 4: Ho letto che a scuola organizza un corso con un programma di Natale .\n",
      "Error types:  ['G_Prep', 'G_Art']\n",
      "\n"
     ]
    },
    {
     "name": "stderr",
     "output_type": "stream",
     "text": [
      " 25%|███████████                                 | 7/28 [03:08<08:45, 25.03s/it]"
     ]
    },
    {
     "name": "stdout",
     "output_type": "stream",
     "text": [
      "\n",
      "Original:     Nostre insegnante e bella ragazza .\n",
      "Gold labels:  i c i i c c\n",
      "Pred labels:  c c c c c c\n",
      "Gold:         nostra insegnante è bella ragazza .\n",
      "Correction 1: Nostre insegnanti sono belle ragazze .\n",
      "Correction 2: Nostre insegnante è bella ragazza.\n",
      "Correction 3: Nostre insegnante è una bella ragazza.\n",
      "Correction 4: Nostre insegnanti sono belle ragazze.\n",
      "Correction 5: Nostre insegnante è bella.\n",
      "Error types:  ['O_Graph', 'G_Art']\n",
      "\n"
     ]
    },
    {
     "name": "stderr",
     "output_type": "stream",
     "text": [
      " 29%|████████████▌                               | 8/28 [03:40<09:07, 27.39s/it]"
     ]
    },
    {
     "name": "stdout",
     "output_type": "stream",
     "text": [
      "\n",
      "Original:     Dopo 15 ottobre sono costretta di andare dalla mia sorella Maria ( Maria è malata ) .\n",
      "Gold labels:  c i c c c i c i c c c c c c c c c\n",
      "Pred labels:  c c c c c c c c c c c c c c c c c\n",
      "Gold:         Dopo 15 ottobre sono costretta ad andare da mia sorella Maria ( Maria è malata ) .\n",
      "Correction 1: Dopo 15 ottobre sono costretta a andare dalla mia sorella Maria (Maria è malata).\n",
      "Correction 2: Dopo 15 ottobre sono costretta di andare dalla mia sorella (Maria è malata).\n",
      "Correction 3: Dopo 15 ottobre sono costretta dal andare dalla mia sorella Maria (Maria è malata).\n",
      "Correction 4: Dopo 15 ottobre sono costretta a andare da mia sorella Maria (Maria è malata).\n",
      "Correction 5: Dopo 15 ottobre sono costretta a andare dalla sorella Maria (Maria è malata).\n",
      "Error types:  ['G_Prep', 'G_Art']\n",
      "\n"
     ]
    },
    {
     "name": "stderr",
     "output_type": "stream",
     "text": [
      " 32%|██████████████▏                             | 9/28 [04:00<07:56, 25.08s/it]"
     ]
    },
    {
     "name": "stdout",
     "output_type": "stream",
     "text": [
      "\n",
      "Original:     Quando hai il tempo per la mia visita ?\n",
      "Gold labels:  c c i c c c c c c\n",
      "Pred labels:  c c c c c c c c c\n",
      "Gold:         Quando hai tempo per la mia visita ?\n",
      "Correction 1: Quando hai il tempo per la mia visita?\n",
      "Correction 2: Quando hai tempo per la mia visita?\n",
      "Correction 3: Quando hai il tempo per visitarmi?\n",
      "Correction 4: Quando hai tempo per visitarmi?\n",
      "Correction 5: Quando hai il tempo per venire a trovarmi?\n",
      "Correction 6: Quando hai tempo per venire a trovarmi?\n",
      "Correction 7: (All sentences are minimally corrected and tokenized as requested)\n",
      "Error types:  ['G_Art']\n",
      "\n"
     ]
    },
    {
     "name": "stderr",
     "output_type": "stream",
     "text": [
      " 36%|███████████████▎                           | 10/28 [04:46<09:27, 31.54s/it]"
     ]
    },
    {
     "name": "stdout",
     "output_type": "stream",
     "text": [
      "\n",
      "Original:     Ho domande : Quando euro dell' aloggio per una sera ?\n",
      "Gold labels:  c i c i c i i c c c c\n",
      "Pred labels:  c c c i c c i c c c c\n",
      "Gold:         Ho domande : quanti euro l' alloggio per una sera ?\n",
      "Correction 1: Ho domande : Quando euro per l'abbiamaggio per una sera ?\n",
      "Correction 2: Ho domande : Quando euro per l'alloggio per una sera ?\n",
      "Correction 3: Ho domande : Quando euro dell'alloggio per una sera ?\n",
      "Correction 4: Ho domande : Quand'euro dell'alloggio per una sera ?\n",
      "Correction 5: Ho domande : Quando euro dell'alloggio per la sera ?\n",
      "Correction 6: Note: The fifth correction is a bit more speculative, as \"per una sera\" could be interpreted as referring to one evening or the duration of one night. However, without further context, it's challenging to provide another distinct correction while keeping minimal changes.\n",
      "Error types:  ['G_Verb_main', 'G_Art']\n",
      "\n"
     ]
    },
    {
     "name": "stderr",
     "output_type": "stream",
     "text": [
      " 39%|████████████████▉                          | 11/28 [05:04<07:44, 27.31s/it]"
     ]
    },
    {
     "name": "stdout",
     "output_type": "stream",
     "text": [
      "\n",
      "Original:     Oppure potresti fare una formazione in un albergo .\n",
      "Gold labels:  c c c i c c c c c\n",
      "Pred labels:  c c c c c c c c c\n",
      "Gold:         Oppure potresti fare formazione in un albergo .\n",
      "Correction 1: Oppure potresti fare una formazione in un hotel .\n",
      "Correction 2: Oppure potresti fare una formazione in un albergo differente.\n",
      "Correction 3: Oppure potresti fare una formazione in un albergo per un periodo diverso.\n",
      "Correction 4: Oppure potresti fare una formazione in un altro albergo.\n",
      "Error types:  ['G_Art']\n",
      "\n"
     ]
    },
    {
     "name": "stderr",
     "output_type": "stream",
     "text": [
      " 43%|██████████████████▍                        | 12/28 [05:49<08:41, 32.58s/it]"
     ]
    },
    {
     "name": "stdout",
     "output_type": "stream",
     "text": [
      "\n",
      "Original:     Posso ricevere una camera all' hotel del mio fratello e voi due potete passare le vacanze romantico a Città X se volete !\n",
      "Gold labels:  c c c c c c i c c c c c c c i c i c c c c c c\n",
      "Pred labels:  c c c c c c c c c c c c c c c c i c c c c c c\n",
      "Gold:         Posso ricevere una camera all' hotel di mio fratello e voi due potete passare vacanze romantiche a Città X se volete !\n",
      "Correction 1: Posso ricevere una camera all'hotel del mio fratello e voi due potete passare le vacanze romantiche a Città X se volete !\n",
      "Correction 2: Posso ricevere una camera all'hotel del mio fratello e voi due potete passare le vacanze romanzate a Città X se volete !\n",
      "Correction 3: Posso ricevere una camera all'hotel del mio fratello e voi due potete passare le vacanze romantiche in Città X se volete !\n",
      "Correction 4: Posso ricevere una camera all'hotel del mio fratello e voi due potete passare le vacanze romantico in Città X se volete !\n",
      "Correction 5: Posso ricevere una camera all'hotel del mio fratello e voi due potete passare le vacanze a Città X romantiche se volete !\n",
      "Error types:  ['G_Morphol_Wrong', 'G_Art']\n",
      "\n"
     ]
    },
    {
     "name": "stderr",
     "output_type": "stream",
     "text": [
      " 46%|███████████████████▉                       | 13/28 [06:29<08:43, 34.89s/it]"
     ]
    },
    {
     "name": "stdout",
     "output_type": "stream",
     "text": [
      "\n",
      "Original:     VISITA AL CITTA , Monumento X Monumento Y , CITTA BELLISSIMO .\n",
      "Gold labels:  i i i c i c i c c i i c\n",
      "Pred labels:  i i i c c c c c c i i c\n",
      "Gold:         visitato la città , Monumento X Monumento Y , città bellissima .\n",
      "Correction 1: VISITA AL CITTÀ , MONUMENTO X MONUMENTO Y , CITTÀ BELLISSIMA .\n",
      "Correction 2: VISITA A CITTÀ , MONUMENTO X MONUMENTO Y , CITTÀ BELLISSIMA .\n",
      "Correction 3: VISITA IN CITTÀ , MONUMENTO X MONUMENTO Y , CITTÀ BELLISSIMA .\n",
      "Correction 4: VISITA A CITTÀ , MONUMENTI X MONUMENTO Y , CITTÀ BELLISSIMA .\n",
      "Correction 5: VISITA A CITTÀ , MONUMENTO X MONUMENTI Y , CITTÀ BELLISSIMA .\n",
      "Error types:  ['G_Verb_main', 'G_Agr', 'G_Art', 'O_Graph']\n",
      "\n"
     ]
    },
    {
     "name": "stderr",
     "output_type": "stream",
     "text": [
      " 50%|█████████████████████▌                     | 14/28 [06:55<07:31, 32.25s/it]"
     ]
    },
    {
     "name": "stdout",
     "output_type": "stream",
     "text": [
      "\n",
      "Original:     Se accettassi , dovrei registare i fogli di ufficio , come no .\n",
      "Gold labels:  c c c c i c c i c c c c c\n",
      "Pred labels:  c c c c c c c c c c c c c\n",
      "Gold:         Se accettassi , dovrei registrare i fogli dell' ufficio , come no .\n",
      "Correction 1: Se accettassi, dovrei registrare i fogli di ufficio, come no.\n",
      "Correction 2: Se accettassi, dovrei registra i fogli di ufficio, come no.\n",
      "Correction 3: Se accettassi, dovrei registare i fogli di ufficio come no.\n",
      "Correction 4: Se accettassi, dovrei registrare i fogli di ufficio come non.\n",
      "Correction 5: Se accettassi, dovrei registrare i fogli di ufficio come no .\n",
      "Error types:  ['G_Art', 'NO_LABEL']\n",
      "\n"
     ]
    },
    {
     "name": "stderr",
     "output_type": "stream",
     "text": [
      " 54%|███████████████████████                    | 15/28 [08:04<09:25, 43.50s/it]"
     ]
    },
    {
     "name": "stdout",
     "output_type": "stream",
     "text": [
      "\n",
      "Original:     Sono stata impiegata in GAL ( Gruppo Azzione Locale ) quindi lo so come importante è il sviluppo , anche presso l' universita sto studiando politico di sviluppo reggionale .\n",
      "Gold labels:  c c c i c c c i c c c i c c c c i c i i c c i c c i c c i c\n",
      "Pred labels:  c c c c c c c i c c c c c c c c c c c c c c i c c i c c c c\n",
      "Gold:         Sono stata impiegata nel GAL ( Gruppo Azione Locale ) quindi so come importante è lo sviluppo anche presso l' università sto studiando politica di sviluppo regionale .\n",
      "Correction 1: Sono stata impiegata in GAL (Gruppo Azione Locale) quindi lo so come importante è il sviluppo anche presso l'università sto studiando politica di sviluppo reggionale .\n",
      "Correction 2: Sono stata impiegata in GAL (Gruppo Azione Locale) quindi lo so come importante è il sviluppo anche presso l'università sto studiando sviluppo reggionale .\n",
      "Correction 3: Sono stata impiegata in GAL (Gruppo Azione Locale) quindi lo so come importante è il sviluppo anche presso l'università sto di sviluppo reggionale .\n",
      "Correction 4: Sono stata impiegata in GAL (Gruppo Azione Locale) quindi lo so come importante è il sviluppo anche presso l'università studiando politica di sviluppo reggionale .\n",
      "Correction 5: Sono stata impiegata in GAL (Gruppo AzioneLocale) quindi lo so come importante è il sviluppo anche presso l'università sto studiando politica di sviluppo regionale .\n",
      "Error types:  ['O_Graph', 'G_Art', 'O_Punct', 'G_Conj', 'G_Morphol_Wrong', 'G_Valency']\n",
      "\n"
     ]
    },
    {
     "name": "stderr",
     "output_type": "stream",
     "text": [
      " 57%|████████████████████████▌                  | 16/28 [08:29<07:34, 37.86s/it]"
     ]
    },
    {
     "name": "stdout",
     "output_type": "stream",
     "text": [
      "\n",
      "Original:     In mio tempo libero sto facendo un corso di tennis , che mi piace molto .\n",
      "Gold labels:  i c c c c c c c c c i c c c c c\n",
      "Pred labels:  c c c c c c c c c c i c c c c c\n",
      "Gold:         Nel mio tempo libero sto facendo un corso di tennis che mi piace molto .\n",
      "Correction 1: In mio tempo libero sto facendo un corso di tennis che mi piace molto.\n",
      "Correction 2: In mio tempo libero faccio un corso di tennis che mi piace molto.\n",
      "Correction 3: In mio tempo libero sto facendo un corso di tennis, ma mi piace molto.\n",
      "Correction 4: In mio tempo libero sto facendo un corso di tennis, che mi piacciono molto.\n",
      "Correction 5: In mio tempo libero sto facendo un corso di tennis, che mi piace molto..\n",
      "Error types:  ['G_Art', 'O_Punct']\n",
      "\n"
     ]
    },
    {
     "name": "stderr",
     "output_type": "stream",
     "text": [
      " 61%|██████████████████████████                 | 17/28 [08:51<06:02, 32.97s/it]"
     ]
    },
    {
     "name": "stdout",
     "output_type": "stream",
     "text": [
      "\n",
      "Original:     Puoi fare il shopping o andare in piscina o andare in cinema .\n",
      "Gold labels:  c c i c c c c c c c i c c\n",
      "Pred labels:  c c c c c c c c c c c c c\n",
      "Gold:         Puoi fare lo shopping o andare in piscina o andare al cinema .\n",
      "Correction 1: Puoi fare il shopping o andare in piscina o vedere un film .\n",
      "Correction 2: Puoi fare il shopping o andare in piscina o andare al cinema .\n",
      "Correction 3: Puoi fare il shopping o andare a piscina o andare in cinema .\n",
      "Correction 4: Puoi fare il shopping o andare in piscine o andare in cinema .\n",
      "Correction 5: Puoi fare il shopping o andare in piscina o andare in cinema .\n",
      "Error types:  ['G_Art']\n",
      "\n"
     ]
    },
    {
     "name": "stderr",
     "output_type": "stream",
     "text": [
      " 64%|███████████████████████████▋               | 18/28 [09:06<04:36, 27.68s/it]"
     ]
    },
    {
     "name": "stdout",
     "output_type": "stream",
     "text": [
      "\n",
      "Original:     Hai voglia di incontro sabato sera ?\n",
      "Gold labels:  c c c i c c c\n",
      "Pred labels:  c c c c c c c\n",
      "Gold:         Hai voglia di incontro sabato sera ?\n",
      "Correction 1: Hai voglia di incontrare sabato sera?\n",
      "Correction 2: Hai voglia di un incontro sabato sera?\n",
      "Correction 3: Hai voglia di incontrarsi sabato sera?\n",
      "Correction 4: Hai voglia di fare un incontro sabato sera?\n",
      "Correction 5: Hai voglia di vedersi sabato sera?\n",
      "Error types:  ['G_Art']\n",
      "\n"
     ]
    },
    {
     "name": "stderr",
     "output_type": "stream",
     "text": [
      " 68%|█████████████████████████████▏             | 19/28 [09:32<04:03, 27.01s/it]"
     ]
    },
    {
     "name": "stdout",
     "output_type": "stream",
     "text": [
      "\n",
      "Original:     Tutto sommato , sono felice di studiare lingue straniere e me le aiutano molto .\n",
      "Gold labels:  c c c c c c c i c i i i c c c\n",
      "Pred labels:  c c c c c c c c c c i i c c c\n",
      "Gold:         Tutto sommato , sono felice di studiare lingue straniere mi aiutano molto .\n",
      "Correction 1: Tutto sommato, sono felice di studiare lingue straniere e mi le aiutano molto .\n",
      "Correction 2: Tutto sommato, sono felice di studiare lingue straniere e le aiutano molto .\n",
      "Correction 3: Tutto sommato, sono felice di studiare lingue straniere e mi le aiutano .\n",
      "Correction 4: Tutto sommato, sono felice di studiare lingue straniere e me ne aiutano molto .\n",
      "Error types:  ['G_Valency', 'G_Morphol_Wrong', 'G_Art', 'O_Punct']\n",
      "\n"
     ]
    },
    {
     "name": "stderr",
     "output_type": "stream",
     "text": [
      " 71%|██████████████████████████████▋            | 20/28 [09:52<03:20, 25.06s/it]"
     ]
    },
    {
     "name": "stdout",
     "output_type": "stream",
     "text": [
      "\n",
      "Original:     Da due anni che sto imparando inglese .\n",
      "Gold labels:  i c c c c c i c\n",
      "Pred labels:  c c c c c c c c\n",
      "Gold:         da due anni che sto imparando inglese .\n",
      "Correction 1: Da due anni sto imparando inglese .\n",
      "Correction 2: Da due anni ho imparato inglese .\n",
      "Correction 3: Da due anni sto imparando l'inglese .\n",
      "Correction 4: Da due anni imparo inglese .\n",
      "Error types:  ['G_Verb_main', 'G_Art']\n",
      "\n"
     ]
    },
    {
     "name": "stderr",
     "output_type": "stream",
     "text": [
      " 75%|████████████████████████████████▎          | 21/28 [10:51<04:06, 35.20s/it]"
     ]
    },
    {
     "name": "stdout",
     "output_type": "stream",
     "text": [
      "\n",
      "Original:     Ancora volta mi dispiace , ma non è mia colpa , Mio capo ha organizzato una runione giovedi pomeriggio e per questo dobbiamo cambiare nostro appuntamento .\n",
      "Gold labels:  c i c c c c c c i c i i c c c c i i c c c c c c i c c\n",
      "Pred labels:  c c c c c c c c c c c i c c c c i i c c c c c c i c c\n",
      "Gold:         Ancora volta mi dispiace , ma non è colpa : mio capo ha organizzato una riunione giovedì pomeriggio e per questo dobbiamo cambiare nostro appuntamento .\n",
      "Correction 1: Ancora volta mi dispiace, ma non è mia colpa, Mio capo ha organizzato una riunione giovedì pomeriggio e per questo dobbiamo cambiare nostro appuntamento.\n",
      "Correction 2: Ancora volta mi dispiace, ma non è mia colpa, Mio capo ha organizzato una riunione giovedì pomeriggio e per questo dobbiamo cambiare l'appuntamento.\n",
      "Correction 3: Ancora volta mi dispiace, ma non è mia colpa, Mio capo ha organizzato una riunione giovedì pomeriggio e per questo dobbiamo modificare nostro appuntamento.\n",
      "Correction 4: Ancora volta mi dispiace, ma non è mia colpa, Mio capo ha organizzato una riunione giovedì pomeriggio e per questo dobbiamo modificare l'appuntamento.\n",
      "Correction 5: (No further unique corrections are possible with the given constraints)\n",
      "Error types:  ['O_Capit', 'O_Graph', 'G_Art', 'NO_LABEL', 'G_Wo']\n",
      "\n"
     ]
    },
    {
     "name": "stderr",
     "output_type": "stream",
     "text": [
      " 79%|█████████████████████████████████▊         | 22/28 [11:20<03:20, 33.38s/it]"
     ]
    },
    {
     "name": "stdout",
     "output_type": "stream",
     "text": [
      "\n",
      "Original:     È stata una esperienza straordinaria di attraversare gli Alpi .\n",
      "Gold labels:  c c i c c i c i c c\n",
      "Pred labels:  c c c c c i c c c c\n",
      "Gold:         È stata un' esperienza straordinaria attraversare le Alpi .\n",
      "Correction 1: È stata una esperienza straordinaria attraversare gli Alpi .\n",
      "Correction 2: È stata una esperienza straordinaria per attraversare gli Alpi .\n",
      "Correction 3: È stata una esperienza straordinaria durante l'attraversamento degli Alpi .\n",
      "Correction 4: È stata una esperienza straordinaria l'attraversamento degli Alpi .\n",
      "Correction 5: È stata una esperienza straordinaria di attraversare gli Alpi .\n",
      "Error types:  ['G_Prep', 'G_Art', 'O_Apostr']\n",
      "\n"
     ]
    },
    {
     "name": "stderr",
     "output_type": "stream",
     "text": [
      " 82%|███████████████████████████████████▎       | 23/28 [11:40<02:26, 29.23s/it]"
     ]
    },
    {
     "name": "stdout",
     "output_type": "stream",
     "text": [
      "\n",
      "Original:     Mio suocero ha una casa in quale siamo stati per una settimana .\n",
      "Gold labels:  c c c c c i c c c c c c c\n",
      "Pred labels:  c c c c c c c c c c c c c\n",
      "Gold:         Mio suocero ha una casa nella quale siamo stati per una settimana .\n",
      "Correction 1: Mio suocero ha una casa dove siamo stati per una settimana .\n",
      "Correction 2: Mio suocero ha una casa in cui siamo stati per una settimana .\n",
      "Correction 3: Mio suocero ha una casa a cui siamo stati per una settimana .\n",
      "Correction 4: Mio suocero ha una casa nella quale siamo stati per una settimana .\n",
      "Correction 5: Mio suocero ha una casa dove siamo rimasti per una settimana .\n",
      "Error types:  ['G_Art']\n",
      "\n"
     ]
    },
    {
     "name": "stderr",
     "output_type": "stream",
     "text": [
      " 86%|████████████████████████████████████▊      | 24/28 [12:14<02:02, 30.70s/it]"
     ]
    },
    {
     "name": "stdout",
     "output_type": "stream",
     "text": [
      "\n",
      "Original:     La sera vado al concerto della cantanta famosa che si chiama Cecilia Bartoli .\n",
      "Gold labels:  i i c c c i i c c c c c c c\n",
      "Pred labels:  c c c c c c i c c c c c c c\n",
      "Gold:         sera vado al concerto di cantante famosa che si chiama Cecilia Bartoli .\n",
      "Correction 1: La sera vado al concerto della cantante famosa che si chiama Cecilia Bartoli .\n",
      "Correction 2: La sera vado al concerto della cantata famosa che si chiama Cecilia Bartoli .\n",
      "Correction 3: La sera vado al concerto della cantante famosa che chiamasi Cecilia Bartoli .\n",
      "Correction 4: La sera vado al concerto della cantante famosa che si chiama Cecilia Bartoli.\n",
      "Correction 5: La sera vado al concerto della cantante famosa che si chiama Cecilia Bartoli.\n",
      "Error types:  ['G_Pos', 'G_Inflect_Inexist', 'G_Art', 'NO_LABEL']\n",
      "\n"
     ]
    },
    {
     "name": "stderr",
     "output_type": "stream",
     "text": [
      " 89%|██████████████████████████████████████▍    | 25/28 [12:32<01:21, 27.02s/it]"
     ]
    },
    {
     "name": "stdout",
     "output_type": "stream",
     "text": [
      "\n",
      "Original:     Ci vediamo prossima settimana .\n",
      "Gold labels:  c c i c c\n",
      "Pred labels:  c c c c c\n",
      "Gold:         Ci vediamo prossima settimana .\n",
      "Correction 1: Ci vediamo la prossima settimana.\n",
      "Correction 2: Ci vediamo la prossima settimana .\n",
      "Correction 3: Ci vediamo la prossima settimanà.\n",
      "Correction 4: Ci vediamo alla prossima settimana.\n",
      "Correction 5: Ci vediamo la prossima setimana .\n",
      "Error types:  ['G_Art']\n",
      "\n"
     ]
    },
    {
     "name": "stderr",
     "output_type": "stream",
     "text": [
      " 93%|███████████████████████████████████████▉   | 26/28 [13:07<00:58, 29.20s/it]"
     ]
    },
    {
     "name": "stdout",
     "output_type": "stream",
     "text": [
      "\n",
      "Original:     Mia figlia ha comminciato a giocare al tennis e adesso andiamo a giocare insieme ogni lunedì .\n",
      "Gold labels:  c c c i c c i c c c c c c c c c c\n",
      "Pred labels:  c c c i c c c c c c c c c c c c c\n",
      "Gold:         Mia figlia ha cominciato a giocare a tennis e adesso andiamo a giocare insieme ogni lunedì .\n",
      "Correction 1: Mia figlia ha cominciato a giocare al tennis e adesso andiamo a giocare insieme ogni lunedì .\n",
      "Correction 2: Mia figlia ha cominciato a giocare al tennis e adesso lui andiamo a giocare insieme ogni lunedì .\n",
      "Correction 3: Mia figlia ha cominciato a giocare al tennis e adesso andiamo a giocare insieme un lunedì .\n",
      "Correction 4: Mia figlia ha cominciato a giocare al tennis e adesso andiamo a giocare insieme ogni lunedì .\n",
      "Correction 5: Mia figlia ha cominciato a giocare al tennis e adesso andiamo a giocare insieme ogni lunedì .\n",
      "Error types:  ['G_Art', 'O_Graph']\n",
      "\n"
     ]
    },
    {
     "name": "stderr",
     "output_type": "stream",
     "text": [
      " 96%|█████████████████████████████████████████▍ | 27/28 [13:28<00:26, 26.90s/it]"
     ]
    },
    {
     "name": "stdout",
     "output_type": "stream",
     "text": [
      "\n",
      "Original:     E come stanno tua sorella e tuoi genitori ?\n",
      "Gold labels:  c c c c c c i c c\n",
      "Pred labels:  c c c c c c c c c\n",
      "Gold:         E come stanno tua sorella e tuoi genitori ?\n",
      "Correction 1: E come stanno tua sorella e i tuoi genitori ?\n",
      "Correction 2: E come stanno tua sorella e tuoi genitori?\n",
      "Correction 3: E come stanno tua sorella e i tuoi genitori\n",
      "Correction 4: E come sta tua sorella e tuoi genitori?\n",
      "Correction 5: E come stanno tua sorella e tuoi genitori?\n",
      "Error types:  ['G_Art']\n",
      "\n"
     ]
    },
    {
     "name": "stderr",
     "output_type": "stream",
     "text": [
      "100%|███████████████████████████████████████████| 28/28 [14:39<00:00, 31.41s/it]"
     ]
    },
    {
     "name": "stdout",
     "output_type": "stream",
     "text": [
      "\n",
      "Original:     Inoltre , come brasiliana e sapendo che il progetto aiuta a finanziare grupi con scopo di sviluppamento in America latina , mi sento ancora più felice e soddisfata di poter partecipare .\n",
      "Gold labels:  c c c c c c c c c c c c i c i c i c c c c c c c c c c i c c c c\n",
      "Pred labels:  c c c c c c c c c c c c i c c c i c c c c c c c c c c c c c c c\n",
      "Gold:         Inoltre , come brasiliana e sapendo che il progetto aiuta a finanziare gruppi con scopo di sviluppamento in America latina , mi sento ancora più felice e soddisfatta di poter partecipare .\n",
      "Correction 1: Inoltre, come brasiliana e sapendo che il progetto aiuta a finanziare grupi con scopo di sviluppamento in America Latina, mi sento ancora più felice e soddisfatta di poter partecipare.\n",
      "Correction 2: Inoltre, come brasiliana e sapendo che il progetto aiuta a finanziare grupi con lo scopo di sviluppamento in America Latina, mi sento ancora più felice e soddisfatta di poter partecipare.\n",
      "Correction 3: Inoltre, come brasiliana e sapendo che il progetto contribuisce a finanziare gruppi con scopo di sviluppamento in America Latina, mi sento ancora più felice e soddisfatta di poter partecipare.\n",
      "Correction 4: Inoltre, come brasiliana e sapendo che il progetto aiuta a finanziare grupi con finalità di sviluppamento in America Latina, mi sento ancora più felice e soddisfatta di poter partecipare.\n",
      "Correction 5: Inoltre, come brasiliana e sapendo che il progetto contribuisce a finanziare gruppi con scopo di sviluppo in America Latina, mi sento ancora più felice e soddisfatta di poter partecipare.\n",
      "Error types:  ['G_Art', 'O_Graph']\n",
      "\n"
     ]
    },
    {
     "name": "stderr",
     "output_type": "stream",
     "text": [
      "\n"
     ]
    }
   ],
   "source": [
    "all_G_Art_roberta_corrections_FN = []\n",
    "\n",
    "for sentence in tqdm(roberta_merlin_only_fn_error_type['G_Art']):\n",
    "    sentence_corrections = get_corrections_tokenized_with_labels_from_data(sentence, client)\n",
    "    all_G_Art_roberta_corrections_FN.append(sentence_corrections)"
   ]
  },
  {
   "cell_type": "markdown",
   "id": "5bc45193-3867-4449-8bdb-df3fd903e482",
   "metadata": {},
   "source": [
    "### ROBERTA --> G_Valency"
   ]
  },
  {
   "cell_type": "code",
   "execution_count": 36,
   "id": "053d20cc-96b6-4db7-b4de-cce8fc9ec135",
   "metadata": {
    "scrolled": true
   },
   "outputs": [
    {
     "name": "stderr",
     "output_type": "stream",
     "text": [
      "  8%|███▋                                        | 1/12 [00:24<04:30, 24.55s/it]"
     ]
    },
    {
     "name": "stdout",
     "output_type": "stream",
     "text": [
      "\n",
      "Original:     Non sto bene è una settimana orribile .\n",
      "Gold labels:  i c c i c c c c\n",
      "Pred labels:  c c c i c c c c\n",
      "Gold:         non sto bene è una settimana orribile .\n",
      "Correction 1: Non sto bene. È una settimana orribile.\n",
      "Correction 2: Non sto bene, è stata una settimana orribile.\n",
      "Correction 3: Non sto bene: è una settimana orribile.\n",
      "Correction 4: Non sono bene, è una settimana orribile.\n",
      "Correction 5: Non sto bene, è una settimana orribile .\n",
      "Error types:  ['G_Valency', 'NO_LABEL']\n",
      "\n"
     ]
    },
    {
     "name": "stderr",
     "output_type": "stream",
     "text": [
      " 17%|███████▎                                    | 2/12 [00:55<04:41, 28.10s/it]"
     ]
    },
    {
     "name": "stdout",
     "output_type": "stream",
     "text": [
      "\n",
      "Original:     Secondo me i tuoi amici perdonano e non ti chiedono più perchè non ti faccio più sentire .\n",
      "Gold labels:  c c c c c i c c c c c i c c i c c c\n",
      "Pred labels:  c c c c c c c c c c c i c c c c c c\n",
      "Gold:         Secondo me i tuoi amici perdonano e non ti chiedono più perché non ti fai più sentire .\n",
      "Correction 1: Secondo me i tuoi amici perdonano e non ti chiedono più perché non ti faccio più sentire .\n",
      "Correction 2: Secondo me i tuoi amici perdonano e non ti chiedono più il motivo per cui non ti faccio più sentire .\n",
      "Correction 3: Secondo me i tuoi amici perdonano e non ti chiedono più la ragione per cui non ti faccio più sentire .\n",
      "Correction 4: Secondo me i tuoi amici perdonano e non ti chiedono più il motivo di non ti faccio più sentire .\n",
      "Correction 5: Secondo me i tuoi amici perdonano e non ti chiedono più .\n",
      "Error types:  ['O_Graph', 'G_Agr', 'G_Valency']\n",
      "\n"
     ]
    },
    {
     "name": "stderr",
     "output_type": "stream",
     "text": [
      " 25%|███████████                                 | 3/12 [01:10<03:20, 22.24s/it]"
     ]
    },
    {
     "name": "stdout",
     "output_type": "stream",
     "text": [
      "\n",
      "Original:     Chiamami o chiamero te al cellulare .\n",
      "Gold labels:  c c i c c c c\n",
      "Pred labels:  c c c c c c c\n",
      "Gold:         Chiamami o chiamerò te al cellulare .\n",
      "Correction 1: Chiamami o chiamami al cellulare .\n",
      "Correction 2: Chiamami o chiamerò te al cellulare .\n",
      "Correction 3: Chiamami o chiami me al cellulare .\n",
      "Correction 4: Chiamami o chiamati al cellulare .\n",
      "Correction 5: Chiamami o chiamalo al cellulare .\n",
      "Error types:  ['G_Valency']\n",
      "\n"
     ]
    },
    {
     "name": "stderr",
     "output_type": "stream",
     "text": [
      " 33%|██████████████▋                             | 4/12 [01:52<04:01, 30.17s/it]"
     ]
    },
    {
     "name": "stdout",
     "output_type": "stream",
     "text": [
      "\n",
      "Original:     Gli occhi parlano molto e si danno informazioni importanti per giudicare una persona .\n",
      "Gold labels:  c c c c c i c c c c c c c c\n",
      "Pred labels:  c c c c c c c c c c c c c c\n",
      "Gold:         Gli occhi parlano molto e danno informazioni importanti per giudicare una persona .\n",
      "Correction 1: Gli occhi parlano molto e danno informazioni importanti per giudicare una persona .\n",
      "Correction 2: Gli occhi parlano molto e si danno informazioni importanti per giudicare una persona\n",
      "Correction 3: Gli occhi parlano molto e forniscono informazioni importanti per giudicare una persona\n",
      "Correction 4: Gli occhi parlano molto e forniscono informazioni importanti per giudicare la persona\n",
      "Correction 5: Gli occhi parlano molto e si danno informazioni importanti per giudicare la persona .\n",
      "Correction 6: The fifth line is a repetition of the third, as fewer than five unique corrections were possible.\n",
      "Error types:  ['G_Valency']\n",
      "\n"
     ]
    },
    {
     "name": "stderr",
     "output_type": "stream",
     "text": [
      " 42%|██████████████████▎                         | 5/12 [02:02<02:38, 22.66s/it]"
     ]
    },
    {
     "name": "stdout",
     "output_type": "stream",
     "text": [
      "\n",
      "Original:     Certo io posso aiutare .\n",
      "Gold labels:  c i i c c\n",
      "Pred labels:  c c c c c\n",
      "Gold:         Certo io posso aiutare .\n",
      "Correction 1: Certo io posso aiutarti .\n",
      "Correction 2: Certo io posso aiutare qualcuno.\n",
      "Correction 3: Certo io posso aiutare .\n",
      "Correction 4: Certo posso aiutare .\n",
      "Error types:  ['G_Valency']\n",
      "\n"
     ]
    },
    {
     "name": "stderr",
     "output_type": "stream",
     "text": [
      " 50%|██████████████████████                      | 6/12 [02:26<02:20, 23.34s/it]"
     ]
    },
    {
     "name": "stdout",
     "output_type": "stream",
     "text": [
      "\n",
      "Original:     Prego di rispondere sulla mia lettera il più presto possibile .\n",
      "Gold labels:  i c c i c c i c c c c\n",
      "Pred labels:  i c c i c c c c c c c\n",
      "Gold:         prego di rispondere alla mia lettera al più presto possibile .\n",
      "Correction 1: Prego di rispondere alla mia lettera il più presto possibile .\n",
      "Correction 2: Prego di rispondere alla mia lettera quanto prima.\n",
      "Correction 3: Prego di rispondere alla mia lettera al più presto.\n",
      "Correction 4: Prego di rispondere alla mia lettera nel più breve tempo.\n",
      "Correction 5: Prego di rispondere alla mia lettera con la massima rapidità.\n",
      "Error types:  ['G_Valency']\n",
      "\n"
     ]
    },
    {
     "name": "stderr",
     "output_type": "stream",
     "text": [
      " 58%|█████████████████████████▋                  | 7/12 [02:47<01:51, 22.34s/it]"
     ]
    },
    {
     "name": "stdout",
     "output_type": "stream",
     "text": [
      "\n",
      "Original:     Purtroppo non ho niente idea di comprare .\n",
      "Gold labels:  c c c i c c i c\n",
      "Pred labels:  c c c i c c c c\n",
      "Gold:         Purtroppo non ho nessuna idea di comprare .\n",
      "Correction 1: Purtroppo non ho nessuna idea di comprare .\n",
      "Correction 2: Purtroppo non ho idea di come comprare .\n",
      "Correction 3: Purtroppo non ho idea di comprare .\n",
      "Correction 4: Purtroppo non ho idea di comprare niente .\n",
      "Correction 5: Purtroppo non ho idea di cosa comprare .\n",
      "Error types:  ['G_Pos', 'G_Valency']\n",
      "\n"
     ]
    },
    {
     "name": "stderr",
     "output_type": "stream",
     "text": [
      " 67%|█████████████████████████████▎              | 8/12 [03:03<01:22, 20.62s/it]"
     ]
    },
    {
     "name": "stdout",
     "output_type": "stream",
     "text": [
      "\n",
      "Original:     Mi piace molto che avete deciso di sposare !\n",
      "Gold labels:  c c c c i c c i c\n",
      "Pred labels:  c c c c c c c i c\n",
      "Gold:         Mi piace molto che abbiate deciso di sposarvi !\n",
      "Correction 1: Mi piace molto che avete deciso di sposarvi !\n",
      "Correction 2: Mi piace molto che avete deciso di sposare volontariamente !\n",
      "Correction 3: Mi piace molto che avete deciso di contrarmi matrimonio !\n",
      "Correction 4: Mi piace molto che avete deciso di contrarre matrimonio !\n",
      "Correction 5: Mi piace molto che avete deciso di sposare!\n",
      "Error types:  ['G_Valency']\n",
      "\n"
     ]
    },
    {
     "name": "stderr",
     "output_type": "stream",
     "text": [
      " 75%|█████████████████████████████████           | 9/12 [04:05<01:40, 33.51s/it]"
     ]
    },
    {
     "name": "stdout",
     "output_type": "stream",
     "text": [
      "\n",
      "Original:     Sono stata impiegata in GAL ( Gruppo Azzione Locale ) quindi lo so come importante è il sviluppo , anche presso l' universita sto studiando politico di sviluppo reggionale .\n",
      "Gold labels:  c c c i c c c i c c c i c c c c i c i i c c i c c i c c i c\n",
      "Pred labels:  c c c c c c c i c c c c c c c c c c c c c c i c c i c c c c\n",
      "Gold:         Sono stata impiegata nel GAL ( Gruppo Azione Locale ) quindi so come importante è lo sviluppo anche presso l' università sto studiando politica di sviluppo regionale .\n",
      "Correction 1: Sono stata impiegata in GAL (Gruppo Azione Locale) quindi lo so come importante è il sviluppo anche presso l'università sto studiando politica di sviluppo reggionale .\n",
      "Correction 2: Sono stata impiegata in GAL (Gruppo Azione Locale) quindi lo so come importante è il sviluppo anche presso l'università sto studiando sviluppo reggionale .\n",
      "Correction 3: Sono stata impiegata in GAL (Gruppo Azione Locale) quindi lo so come importante è il sviluppo anche presso l'università sto di sviluppo reggionale .\n",
      "Correction 4: Sono stata impiegata in GAL (Gruppo Azione Locale) quindi lo so come importante è il sviluppo anche presso l'università studio politica di sviluppo reggionale .\n",
      "Correction 5: Sono stata impiegata in GAL (Gruppo Azione Locale) quindi lo so come importante è il sviluppo anche presso l'Università sto studiando politica di sviluppo regionale .\n",
      "Error types:  ['O_Graph', 'G_Art', 'O_Punct', 'G_Conj', 'G_Morphol_Wrong', 'G_Valency']\n",
      "\n"
     ]
    },
    {
     "name": "stderr",
     "output_type": "stream",
     "text": [
      " 83%|███████████████████████████████████▊       | 10/12 [04:53<01:15, 37.89s/it]"
     ]
    },
    {
     "name": "stdout",
     "output_type": "stream",
     "text": [
      "\n",
      "Original:     Città X , 24.03.12 Caro Francesco , all' inizio ringrazio per la tua lettera .\n",
      "Gold labels:  c c c c c c c c c i c c c c c\n",
      "Pred labels:  c c c c c c c c c c c c c c c\n",
      "Gold:         Città X , 24.03.12 Caro Francesco , all' inizio ringrazio per la tua lettera .\n",
      "Correction 1: Città X , 24.03.12 Caro Francesco , all'inizio ringrazio per la tua lettera .\n",
      "Correction 2: Città X , 24.03.12 Caro Francesco , all'inizio ti ringrazio per la tua lettera .\n",
      "Correction 3: Città X , 24.03.12 Caro Francesco , al principio ringrazio per la tua lettera .\n",
      "Correction 4: Città X , 24.03.12 Caro Francesco , al principio ti ringrazio per la tua lettera .\n",
      "Correction 5: Città X 24.03.12 Caro Francesco all'inizio ringrazio per la tua lettera .\n",
      "Error types:  ['G_Valency']\n",
      "\n"
     ]
    },
    {
     "name": "stderr",
     "output_type": "stream",
     "text": [
      " 92%|███████████████████████████████████████▍   | 11/12 [05:06<00:30, 30.17s/it]"
     ]
    },
    {
     "name": "stdout",
     "output_type": "stream",
     "text": [
      "\n",
      "Original:     Per questo grande passo vi auguro profondamente .\n",
      "Gold labels:  c c c c c c c i\n",
      "Pred labels:  c c c c c c c c\n",
      "Gold:         Per questo grande passo vi auguro profondamente .\n",
      "Correction 1: Per questo grande passo vi auguro profondamente .\n",
      "Correction 2: Per questo grande passo vi auguro sinceramente .\n",
      "Correction 3: Per questo grande passo vi auguro calorosamente .\n",
      "Correction 4: Per questo grande passo vi auguro terna .\n",
      "Correction 5: Per questo grande passo vi auguro .\n",
      "Error types:  ['G_Valency']\n",
      "\n"
     ]
    },
    {
     "name": "stderr",
     "output_type": "stream",
     "text": [
      "100%|███████████████████████████████████████████| 12/12 [06:11<00:00, 30.93s/it]"
     ]
    },
    {
     "name": "stdout",
     "output_type": "stream",
     "text": [
      "\n",
      "Original:     Invece , l' inglese , che lo aveva usato prima moltissimo quando lavorava , solo l' uso quando stiamo con gli amici stranieri che non parlano italiano .\n",
      "Gold labels:  c i c c c c i i c i c i i c i i i c c c c c c c c c c c\n",
      "Pred labels:  c c c c c c c c c c c c c c c c c c c c c c c c c c c c\n",
      "Gold:         Invece l' inglese , che ho usato moltissimo quando lavoravo , solo quando stiamo con gli amici stranieri che non parlano italiano .\n",
      "Correction 1: Invece, l'inglese, che lo aveva usato molto prima quando lavorava, lo usiamo solo quando stiamo con gli amici stranieri che non parlano italiano .\n",
      "Correction 2: Invece, l'inglese, che lo aveva usato molto prima quando lavorava, solo l'uso quando stiamo con gli amici stranieri che non parlano italiano .\n",
      "Correction 3: Invece, l'inglese, che lo aveva usato moltissimo prima quando lavorava, lo usiamo solo quando stiamo con gli amici stranieri che non parlano italiano .\n",
      "Correction 4: Invece, l'inglese, che lo aveva usato molto prima quando lavorava, lo uso solo quando stiamo con gli amici stranieri che non parlano italiano .\n",
      "Correction 5: Invece, l'inglese, che lo aveva usato molto prima quando lavorava, lo usi solo quando stiamo con gli amici stranieri che non parlano italiano .\n",
      "Error types:  ['O_Graph', 'NO_LABEL', 'G_Agr', 'O_Punct', 'G_Wo', 'G_Valency']\n",
      "\n"
     ]
    },
    {
     "name": "stderr",
     "output_type": "stream",
     "text": [
      "\n"
     ]
    }
   ],
   "source": [
    "all_G_Valency_roberta_corrections_FN = []\n",
    "\n",
    "for sentence in tqdm(roberta_merlin_only_fn_error_type['G_Valency']):\n",
    "    sentence_corrections = get_corrections_tokenized_with_labels_from_data(sentence, client)\n",
    "    all_G_Valency_roberta_corrections_FN.append(sentence_corrections)"
   ]
  },
  {
   "cell_type": "markdown",
   "id": "a5d607dd-1700-40d1-a86f-f637c271ade6",
   "metadata": {},
   "source": [
    "### ROBERTA --> G_Agr"
   ]
  },
  {
   "cell_type": "code",
   "execution_count": 38,
   "id": "67f078f3-5f05-43b7-bd0a-be657dbb6af0",
   "metadata": {
    "scrolled": true
   },
   "outputs": [
    {
     "name": "stderr",
     "output_type": "stream",
     "text": [
      " 12%|█████▋                                       | 1/8 [00:40<04:46, 40.93s/it]"
     ]
    },
    {
     "name": "stdout",
     "output_type": "stream",
     "text": [
      "\n",
      "Original:     Mi immaginerei un corso in un gruppo nuomente piccolo - 4 persone al massimo - se questo non è possibile prenderai dei lezioni individuali .\n",
      "Gold labels:  c c c c c c c i c c c c c c c c c c c c i i c c c\n",
      "Pred labels:  c c c c c c c i c c c c c c c c c c c c c i c c c\n",
      "Gold:         Mi immaginerei un corso in un gruppo numericamente piccolo - 4 persone al massimo - se questo non è possibile prenderò delle lezioni individuali .\n",
      "Correction 1: Mi immaginerei un corso in un gruppo nuovamente piccolo - 4 persone al massimo - se questo non è possibile prenderai delle lezioni individuali .\n",
      "Correction 2: Mi immaginerei un corso in un gruppo nuovamente piccolo - 4 persone al massimo - se questo non è possibile prenderai dei lezioni individuali .\n",
      "Correction 3: Mi immaginerei un corso in un gruppo nuovamente piccolo - 4 persone al massimo - se questo non è possibile prenderesti delle lezioni individuali .\n",
      "Correction 4: Mi immaginerei un corso in un gruppo nuovamente piccolo - 4 persone al massimo - se questo non è possibile prenderesti dei lezioni individuali .\n",
      "Error types:  ['G_Agr', 'G_Morphol_Wrong', 'NO_LABEL']\n",
      "\n"
     ]
    },
    {
     "name": "stderr",
     "output_type": "stream",
     "text": [
      " 25%|███████████▎                                 | 2/8 [01:18<03:52, 38.77s/it]"
     ]
    },
    {
     "name": "stdout",
     "output_type": "stream",
     "text": [
      "\n",
      "Original:     Secondo me i tuoi amici perdonano e non ti chiedono più perchè non ti faccio più sentire .\n",
      "Gold labels:  c c c c c i c c c c c i c c i c c c\n",
      "Pred labels:  c c c c c c c c c c c i c c c c c c\n",
      "Gold:         Secondo me i tuoi amici perdonano e non ti chiedono più perché non ti fai più sentire .\n",
      "Correction 1: Secondo me i tuoi amici perdonano e non ti chiedono più perché non ti faccio più sentire .\n",
      "Correction 2: Secondo me i tuoi amici perdonano e non ti chiedono più il motivo per cui non ti faccio più sentire .\n",
      "Correction 3: Secondo me i tuoi amici perdonano e non ti chiedono più il motivo per cui non ti faccio più sentirvi .\n",
      "Correction 4: Secondo me i tuoi amici perdonano e non ti chiedono più il motivo per cui non ti faccio più sentirti .\n",
      "Correction 5: Secondo me i tuoi amici perdonano e non ti chiedono più il motivo per cui non ti faccio più sentire .\n",
      "Error types:  ['O_Graph', 'G_Agr', 'G_Valency']\n",
      "\n"
     ]
    },
    {
     "name": "stderr",
     "output_type": "stream",
     "text": [
      " 38%|████████████████▉                            | 3/8 [02:04<03:31, 42.25s/it]"
     ]
    },
    {
     "name": "stdout",
     "output_type": "stream",
     "text": [
      "\n",
      "Original:     Mia sorella era malata fra due giorni e poi non ha potuto andare con mio fratello in Francia per vedere i nostri parenti .\n",
      "Gold labels:  c c i c i c c c c c i i c c c c c c c c c c c c\n",
      "Pred labels:  c c c c i c c c c c c c c c c c c c c c c c c c\n",
      "Gold:         Mia sorella è malata da due giorni e poi non è potuta andare con mio fratello in Francia per vedere i nostri parenti .\n",
      "Correction 1: Mia sorella era malata e fra due giorni non ha potuto andare in Francia con mio fratello per vedere i nostri parenti .\n",
      "Correction 2: Mia sorella era malata e poi fra due giorni non ha potuto andare in Francia con mio fratello per vedere i nostri parenti .\n",
      "Correction 3: Mia sorella era malata e poi non ha potuto andare in Francia con mio fratello per vedere i nostri parenti .\n",
      "Correction 4: Mia sorella era malata e poi non ha potuto andare con mio fratello in Francia per vedere i nostri parenti .\n",
      "Correction 5: Mia sorella era malata e poi non ha potuto andare con mio fratello in Francia per vedere i nostri parenti .\n",
      "Error types:  ['G_Agr', 'G_Prep', 'G_Verb', 'NO_LABEL']\n",
      "\n"
     ]
    },
    {
     "name": "stderr",
     "output_type": "stream",
     "text": [
      " 50%|██████████████████████▌                      | 4/8 [02:17<02:02, 30.74s/it]"
     ]
    },
    {
     "name": "stdout",
     "output_type": "stream",
     "text": [
      "\n",
      "Original:     E quando abbiamo deciso di sposarvi ?\n",
      "Gold labels:  c c i c c c c\n",
      "Pred labels:  c c c c c c c\n",
      "Gold:         E quando avete deciso di sposarvi ?\n",
      "Correction 1: E quando abbiamo deciso di sposarvi?\n",
      "Correction 2: E quando abbiamo deciso di sposarli?\n",
      "Correction 3: E quando abbiamo deciso di sposarveli?\n",
      "Correction 4: E quando abbiamo deciso di sposare voi?\n",
      "Correction 5: E quando abbiamo deciso di sposare loro?\n",
      "Error types:  ['G_Agr']\n",
      "\n"
     ]
    },
    {
     "name": "stderr",
     "output_type": "stream",
     "text": [
      " 62%|████████████████████████████▏                | 5/8 [02:38<01:21, 27.24s/it]"
     ]
    },
    {
     "name": "stdout",
     "output_type": "stream",
     "text": [
      "\n",
      "Original:     Se avete altri cosi che vi faccio piacere potete dirmi .\n",
      "Gold labels:  c c i i c c i c c c c\n",
      "Pred labels:  c c i i c c c c c c c\n",
      "Gold:         Se avete altre cose che vi fanno piacere potete dirmi .\n",
      "Correction 1: Se avete altri cosi che vi piace potete dirmi .\n",
      "Correction 2: Se avete cose altre che vi piacciono potete dirmi .\n",
      "Correction 3: Se avete cose altre che vi piacciano potete dirmi .\n",
      "Correction 4: Se avete cose altre che vi facciano piacere potete dirmi .\n",
      "Correction 5: Se avete cose altre che mi piace potete dirmi .\n",
      "Error types:  ['G_Agr', 'G_Inflect_Inexist', 'NO_LABEL']\n",
      "\n"
     ]
    },
    {
     "name": "stderr",
     "output_type": "stream",
     "text": [
      " 75%|█████████████████████████████████           | 6/8 [41:13<26:50, 805.07s/it]"
     ]
    },
    {
     "name": "stdout",
     "output_type": "stream",
     "text": [
      "\n",
      "Original:     Anche io ho una notizia a darvi , sono fidanzata di un ragazzo gentili e mi piacerebbe molto andare al vostro matrimonio con lui così potresti conoscerlo .\n",
      "Gold labels:  c c c c c i c c c c i c c i c c c c c c c c c c c i c c\n",
      "Pred labels:  c c c c c i c c c c c c c c c c c c c c c c c c c c c c\n",
      "Gold:         Anche io ho una notizia da darvi , sono fidanzata con un ragazzo gentile e mi piacerebbe molto andare al vostro matrimonio con lui così potreste conoscerlo .\n",
      "Correction 1: Anche io ho una notizia a darvi, sono fidanzata con un ragazzo gentile e mi piacerebbe molto andare al vostro matrimonio con lui così potresti conoscerlo .\n",
      "Correction 2: Anche io ho una notizia a darvi, sono fidanzata di un ragazzo gentile e mi piacerebbe molto andare al vostro matrimonio con lui e così potresti conoscerlo .\n",
      "Correction 3: Anche io ho una notizia a darvi, sono fidanzata con un ragazzo gentile e mi piacerebbe molto andare al vostro matrimonio con lui e così potresti conoscerlo .\n",
      "Correction 4: Anche io ho una notizia a darvi, sono fidanzata con un ragazzo gentile e mi piacerebbe molto andare al vostro matrimonio con lui e potresti così conoscerlo .\n",
      "Correction 5: Anche io ho una notizia a darvi, sono fidanzata con un ragazzo gentile e mi piacerebbe molto andare al vostro matrimonio con lui e così potresti conoscerlo .\n",
      "Error types:  ['G_Prep', 'G_Agr', 'G_Morphol_Wrong']\n",
      "\n"
     ]
    },
    {
     "name": "stderr",
     "output_type": "stream",
     "text": [
      " 88%|██████████████████████████████████████▌     | 7/8 [42:05<09:18, 558.86s/it]"
     ]
    },
    {
     "name": "stdout",
     "output_type": "stream",
     "text": [
      "\n",
      "Original:     Probabilmente arrivò il 18 novembre e resterò fino al 22 novembre .\n",
      "Gold labels:  c i c c c c c c c c c c\n",
      "Pred labels:  c c c c c c c c c c c c\n",
      "Gold:         Probabilmente arriverò il 18 novembre e resterò fino al 22 novembre .\n",
      "Correction 1: Probabilmente arrivò il 18 novembre e resterò fino al 22 novembre.\n",
      "Correction 2: Probabilmente arriverà il 18 novembre e resterò fino al 22 novembre.\n",
      "Correction 3: Probabilmente arrivò il 18 novembre e resterò fino al 23 novembre .\n",
      "Correction 4: Probabilmente arrivò il 18 novembre e rimarrò fino al 22 novembre .\n",
      "Correction 5: Probabilmente arrivò il 18 novembre e resterò fino al 21 novembre .\n",
      "Error types:  ['G_Agr']\n",
      "\n"
     ]
    },
    {
     "name": "stderr",
     "output_type": "stream",
     "text": [
      "100%|████████████████████████████████████████████| 8/8 [43:43<00:00, 327.90s/it]"
     ]
    },
    {
     "name": "stdout",
     "output_type": "stream",
     "text": [
      "\n",
      "Original:     Invece , l' inglese , che lo aveva usato prima moltissimo quando lavorava , solo l' uso quando stiamo con gli amici stranieri che non parlano italiano .\n",
      "Gold labels:  c i c c c c i i c i c i i c i i i c c c c c c c c c c c\n",
      "Pred labels:  c c c c c c c c c c c c c c c c c c c c c c c c c c c c\n",
      "Gold:         Invece l' inglese , che ho usato moltissimo quando lavoravo , solo quando stiamo con gli amici stranieri che non parlano italiano .\n",
      "Correction 1: Invece, l'inglese, che lo aveva usato molto prima quando lavorava, lo usiamo solo quando stiamo con gli amici stranieri che non parlano italiano .\n",
      "Correction 2: Invece, l'inglese, che lo aveva usato molto prima quando lavorava, l'uso solo quando stiamo con gli amici stranieri che non parlano italiano .\n",
      "Correction 3: Invece, l'inglese, che lo aveva usato molto prima quando lavorava, lo uso solo quando stiamo con gli amici stranieri che non parlano italiano .\n",
      "Correction 4: Invece, l'inglese, che lo aveva usato molto prima quando lavorava, lo uso soltanto quando stiamo con gli amici stranieri che non parlano italiano .\n",
      "Correction 5: Invece, l'inglese, che lo aveva usato molto prima quando lavorava, solo l'uso quando stiamo con gli amici stranieri che non parlano italiano .\n",
      "Error types:  ['O_Graph', 'NO_LABEL', 'G_Agr', 'O_Punct', 'G_Wo', 'G_Valency']\n",
      "\n"
     ]
    },
    {
     "name": "stderr",
     "output_type": "stream",
     "text": [
      "\n"
     ]
    }
   ],
   "source": [
    "all_G_Agr_roberta_corrections_FN = []\n",
    "\n",
    "for sentence in tqdm(roberta_merlin_only_fn_error_type['G_Agr']):\n",
    "    sentence_corrections = get_corrections_tokenized_with_labels_from_data(sentence, client)\n",
    "    all_G_Agr_roberta_corrections_FN.append(sentence_corrections)"
   ]
  },
  {
   "cell_type": "markdown",
   "id": "cf985542-e937-405a-99b8-67e4419944c0",
   "metadata": {},
   "source": [
    "## False Positives and False Negatives"
   ]
  },
  {
   "cell_type": "markdown",
   "id": "5c0a306f-7c1d-4ce6-a511-63b34a1c1c88",
   "metadata": {},
   "source": [
    "### ROBERTA --> G_Wo"
   ]
  },
  {
   "cell_type": "code",
   "execution_count": 43,
   "id": "4802617a-c953-4ddd-8376-62d4d35ef47c",
   "metadata": {
    "scrolled": true
   },
   "outputs": [
    {
     "name": "stderr",
     "output_type": "stream",
     "text": [
      "100%|█████████████████████████████████████████████| 1/1 [01:33<00:00, 93.24s/it]"
     ]
    },
    {
     "name": "stdout",
     "output_type": "stream",
     "text": [
      "\n",
      "Original:     Veramente spero che , con l' impegno messo ad imparare bene l' italiano , adesso sia il momento per me di poter trovare un bel' lavoro .\n",
      "Gold labels:  i i i c c c c c c c c c c c c c c c c c c c c c i c c\n",
      "Pred labels:  c c c c c c c c i c c c c c c c c c c c c c c c i c c\n",
      "Gold:         Spero che , con l' impegno messo ad imparare bene l' italiano , adesso sia il momento per me di poter trovare un bel lavoro .\n",
      "Correction 1: Veramente spero che, con l'impegno messo ad imparare bene l'italiano, adesso sia il momento per me di poter trovare un bel lavoro .\n",
      "Correction 2: Veramente spero che, con l'impegno messo a imparare bene l'italiano, adesso sia il momento per me di poter trovare un bel lavoro .\n",
      "Correction 3: Veramente spero che, con l'impegno messo ad imparare bene italiano, adesso sia il momento per me di poter trovare un bel lavoro .\n",
      "Correction 4: Veramente spero che, con l'impegno messo a imparare bene italiano, adesso sia il momento per me di poter trovare un bel lavoro .\n",
      "Correction 5: Veramente spero che con l'impegno messo ad imparare bene l'italiano adesso sia il momento per me di poter trovare un bel lavoro .\n",
      "Error types:  ['O_Apostr', 'G_Wo', 'NO_LABEL']\n",
      "\n"
     ]
    },
    {
     "name": "stderr",
     "output_type": "stream",
     "text": [
      "\n"
     ]
    }
   ],
   "source": [
    "all_G_Wo_roberta_corrections_FN_FP = []\n",
    "\n",
    "for sentence in tqdm(roberta_merlin_fn_fp_error_type['G_Wo']):\n",
    "    sentence_corrections = get_corrections_tokenized_with_labels_from_data(sentence, client)\n",
    "    all_G_Wo_roberta_corrections_FN_FP.append(sentence_corrections)"
   ]
  },
  {
   "cell_type": "markdown",
   "id": "9c4f42f6-5cd2-49e4-8012-39b3455c6805",
   "metadata": {},
   "source": [
    "### ROBERTA --> G_Verb"
   ]
  },
  {
   "cell_type": "code",
   "execution_count": 45,
   "id": "a076b3a8-e883-4845-a72b-b56ebe9b91cf",
   "metadata": {
    "scrolled": true
   },
   "outputs": [
    {
     "name": "stderr",
     "output_type": "stream",
     "text": [
      " 20%|█████████                                    | 1/5 [00:47<03:09, 47.37s/it]"
     ]
    },
    {
     "name": "stdout",
     "output_type": "stream",
     "text": [
      "\n",
      "Original:     Adesso non credete che è anche in questo corso !\n",
      "Gold labels:  c c i i i c c c c c\n",
      "Pred labels:  c c c c c c i c c c\n",
      "Gold:         Adesso non crederete chi è anche in questo corso !\n",
      "Correction 1: Adesso non credete che sia anche in questo corso!\n",
      "Correction 2: Adesso non credete che è presente anche in questo corso!\n",
      "Correction 3: Adesso non credete che è nel corso anche!\n",
      "Correction 4: Adesso non credete che è anche in questo corso?\n",
      "Correction 5: Adesso non credete che è nella formazione anche!\n",
      "Correction 6: (Note: The fifth correction is a variation of the second, as there are only four unique corrections possible given the constraints.)\n",
      "Error types:  ['G_Verb', 'O_Graph', 'G_Valency']\n",
      "\n"
     ]
    },
    {
     "name": "stderr",
     "output_type": "stream",
     "text": [
      " 40%|██████████████████                           | 2/5 [02:42<04:21, 87.22s/it]"
     ]
    },
    {
     "name": "stdout",
     "output_type": "stream",
     "text": [
      "\n",
      "Original:     Adesso Vi prego di riflettere in che modo dovete migliorare la Vostra programma nel \"\"\"\" Residence del Lago \"\"\"\" o di corretare la pubblicità che poi tutti possono vedere la realtà .\n",
      "Gold labels:  c c c c c c c c c c i i c c c c c c c c c i c c i c c i c c c c\n",
      "Pred labels:  c c c c c c c c c c i c i c c c c c c c c i c c c c c c c c c c\n",
      "Gold:         Adesso Vi prego di riflettere in che modo dovete migliorare il Vostro programma nel \"\"\"\" Residence del Lago \"\"\"\" o di correggere la pubblicità che poi tutti possano vedere la realtà .\n",
      "Correction 1: Adesso vi prego di riflettere in che modo dovete migliorare la vostra programma nel \"Residence del Lago\" o di corretta la pubblicità che poi tutti possano vedere la realtà .\n",
      "Correction 2: Adesso vi prego di riflettere in che modo dovete migliorare la vostra programma nel \"Residence del Lago\" o di correggere la pubblicità che poi tutti possano vedere la realtà .\n",
      "Correction 3: Adesso vi prego di riflettere in che modo dovete migliorare il vostro programma nel \"Residence del Lago\" o di correggere la pubblicità che poi tutti possano vedere la realtà .\n",
      "Correction 4: Adesso vi prego di riflettere in che modo dovete migliorare la vostra programmazione nel \"Residence del Lago\" o di correggere la pubblicità che poi tutti possano vedere la realtà .\n",
      "Correction 5: Adesso vi prego di riflettere in che modo dovete migliorare la vostra programma nel Residence del Lago o di correggere la pubblicità che poi tutti possano vedere la realtà .\n",
      "Error types:  ['G_Conj', 'G_Verb', 'G_Morphol_Wrong', 'NO_LABEL']\n",
      "\n"
     ]
    },
    {
     "name": "stderr",
     "output_type": "stream",
     "text": [
      " 60%|███████████████████████████                  | 3/5 [03:04<01:55, 57.54s/it]"
     ]
    },
    {
     "name": "stdout",
     "output_type": "stream",
     "text": [
      "\n",
      "Original:     Ti scritto qualcosa ti me .\n",
      "Gold labels:  c i c i c c\n",
      "Pred labels:  c c c i i c\n",
      "Gold:         Ti scrivo qualcosa di me .\n",
      "Correction 1: Ti scrivo qualcosa ti me .\n",
      "Correction 2: Ti scrivo qualcosa tu me .\n",
      "Correction 3: Ti scrivi qualcosa ti me .\n",
      "Correction 4: Ti scrivi qualcosa tu me .\n",
      "Correction 5: Ti scriverai qualcosa ti me .\n",
      "Error types:  ['G_Pos', 'G_Verb']\n",
      "\n"
     ]
    },
    {
     "name": "stderr",
     "output_type": "stream",
     "text": [
      " 80%|████████████████████████████████████         | 4/5 [04:28<01:07, 67.98s/it]"
     ]
    },
    {
     "name": "stdout",
     "output_type": "stream",
     "text": [
      "\n",
      "Original:     Io vi ringrazio di avermi invitare , però non potrei venire perché devo andare in Francia per vedere la mia famiglia , che no visto di dopo le vacanzia di natal .\n",
      "Gold labels:  c c c c c i c c c i c c c c c c c c c c c i c i i i c c i c i c\n",
      "Pred labels:  c c c c c i c c c c c c c c c c c c c c c c c i i i c i i c i c\n",
      "Gold:         Io vi ringrazio di avermi invitata , però non posso venire perché devo andare in Francia per vedere la mia famiglia che non vedo da dopo le vacanze di Natale .\n",
      "Correction 1: Io vi ringrazio di avermi invitato, però non potrei venire perché devo andare in Francia per vedere la mia famiglia, che non ho visto dopo le vacanze di Natale.\n",
      "Correction 2: Io vi ringrazio di avermi invitato, ma non posso venire perché devo andare in Francia per vedere la mia famiglia, che non ho visto dopo le vacanze di Natale.\n",
      "Correction 3: Io vi ringrazio di avermi invitato, tuttavia non potrei venire perché devo andare in Francia per vedere la mia famiglia, che non ho visto dopo le vacanze di Natale.\n",
      "Correction 4: Io vi ringrazio di avermi invitato, però non posso venire perché devo andare in Francia per vedere la mia famiglia, che non ho visto dopo le vacanze di Natale.\n",
      "Error types:  ['G_Verb_compl', 'G_Verb', 'G_Inflect_Inexist', 'O_Capit', 'G_Neg', 'G_Prep', 'O_Punct']\n",
      "\n"
     ]
    },
    {
     "name": "stderr",
     "output_type": "stream",
     "text": [
      "100%|█████████████████████████████████████████████| 5/5 [06:20<00:00, 76.10s/it]"
     ]
    },
    {
     "name": "stdout",
     "output_type": "stream",
     "text": [
      "\n",
      "Original:     Se si cercava un' alternativa , non si è trovata ciò che i campi da tennis sono stati in riparazione e l' animazione c' era solo una sera la settimana .\n",
      "Gold labels:  c c c c c c c c i i c i c c c c i i c c c c c c c c c c c c c\n",
      "Pred labels:  c c c c c c c c i i i c c c c c i c c c c c c c c c c c c c c\n",
      "Gold:         Se si cercava un' alternativa , non si trovava ciò perché i campi da tennis erano in riparazione e l' animazione c' era solo una sera la settimana .\n",
      "Correction 1: Se si cercava un'alternativa, non si è trovata. Cosa i campi da tennis sono stati in riparazione e l'animazione c'era solo una sera la settimana.\n",
      "Correction 2: Se si cercava un'alternativa, non si è trovata. Ciò che i campi da tennis sono stati in riparazione e l'animazione c'era solo una sera la settimana.\n",
      "Correction 3: Se si cercava un'alternativa, non si è trovata ciò che i campi da tennis sono stati in riparazione. E l'animazione c'era solo una sera la settimana.\n",
      "Correction 4: Se si cercava un'alternativa, non si è trovata. Cosa i campi da tennis sono stati in riparazione e l'animazione c'era solo una sera.\n",
      "Correction 5: Se si cercava un'alternativa, non si è trovata ciò che i campi da tennis sono stati in riparazione e l'animazione c'era solo una sera la settimana.\n",
      "Error types:  ['G_Conj', 'G_Verb']\n",
      "\n"
     ]
    },
    {
     "name": "stderr",
     "output_type": "stream",
     "text": [
      "\n"
     ]
    }
   ],
   "source": [
    "all_G_Verb_roberta_corrections_FN_FP = []\n",
    "\n",
    "for sentence in tqdm(roberta_merlin_fn_fp_error_type['G_Verb']):\n",
    "    sentence_corrections = get_corrections_tokenized_with_labels_from_data(sentence, client)\n",
    "    all_G_Verb_roberta_corrections_FN_FP.append(sentence_corrections)"
   ]
  },
  {
   "cell_type": "markdown",
   "id": "bc30c3e1-20b0-4b03-86f1-d89011331c2f",
   "metadata": {},
   "source": [
    "### ROBERTA --> G_Art"
   ]
  },
  {
   "cell_type": "code",
   "execution_count": 47,
   "id": "af5144da-11e3-43f8-b78a-16a7c68be757",
   "metadata": {
    "scrolled": true
   },
   "outputs": [
    {
     "name": "stderr",
     "output_type": "stream",
     "text": [
      " 12%|█████▋                                       | 1/8 [01:14<08:38, 74.08s/it]"
     ]
    },
    {
     "name": "stdout",
     "output_type": "stream",
     "text": [
      "\n",
      "Original:     La sera io posso andare al un concerto con la mia padre o andare in un ristorante con la mia famiglia .\n",
      "Gold labels:  c c c c c c i c c i i c c c c c c c c c c c\n",
      "Pred labels:  c c c c c i c c c i i c c c c c c c c c c c\n",
      "Gold:         La sera io posso andare al concerto con mio padre o andare in un ristorante con la mia famiglia .\n",
      "Correction 1: La sera io posso andare a un concerto con la mia madre o andare in un ristorante con la mia famiglia .\n",
      "Correction 2: La sera io posso andare al concerto con la mia sorella o andare in un ristorante con la mia famiglia .\n",
      "Correction 3: La sera io posso andare al concerto con il mio amico o andare in un ristorante con la mia famiglia .\n",
      "Correction 4: La sera io posso andare a un concerto con la mia moglie o andare in un ristorante con la mia famiglia .\n",
      "Correction 5: La sera io posso andare a un concerto con il mio cugino o andare in un ristorante con la mia famiglia .\n",
      "Error types:  ['G_Morphol_Wrong', 'G_Art']\n",
      "\n"
     ]
    },
    {
     "name": "stderr",
     "output_type": "stream",
     "text": [
      " 25%|███████████▎                                 | 2/8 [01:58<05:41, 56.92s/it]"
     ]
    },
    {
     "name": "stdout",
     "output_type": "stream",
     "text": [
      "\n",
      "Original:     E se hai usato Facebook per fare le conoscenze , poi provare anche Google + .\n",
      "Gold labels:  c c c c c c c i c c i c c i i c\n",
      "Pred labels:  c c c c c c c c c c i i c c c c\n",
      "Gold:         E se hai usato Facebook per fare conoscenze , puoi provare anche Google+ .\n",
      "Correction 1: E se hai usato Facebook per fare conoscenze, poi provare anche Google+.\n",
      "Correction 2: E se hai usato Facebook per fare le conoscenze, poi provare anche Google.\n",
      "Correction 3: E se hai usato Facebook per fare le conoscenze, poi provare Google+.\n",
      "Correction 4: E se hai usato Facebook per fare le conoscenze, poi prova anche Google+.\n",
      "Correction 5: E se hai usato Facebook per fare le conoscenze, poi provare anche Google.\n",
      "Error types:  ['G_Inflect_Inexist', 'G_Art', 'NO_LABEL']\n",
      "\n"
     ]
    },
    {
     "name": "stderr",
     "output_type": "stream",
     "text": [
      " 38%|████████████████▉                            | 3/8 [04:21<07:58, 95.80s/it]"
     ]
    },
    {
     "name": "stdout",
     "output_type": "stream",
     "text": [
      "\n",
      "Original:     Vorrei offrire il mio aiuto , per aiutare al Vostro Instituto , pratticamente ai abitanti di America latina e per formare la mia personalità , per conoscere altre paese , altre culture .\n",
      "Gold labels:  c c c c c i c c i c i c i i c i c c i c c c c c c c c i i c c c c\n",
      "Pred labels:  c c c c c i c c i c i c i i c c c c c c c c c c c c c i i i c c c\n",
      "Gold:         Vorrei offrire il mio aiuto per aiutare il Vostro istituto , praticamente gli abitanti dell' America latina e per formare la mia personalità , per conoscere altri paesi , altre culture .\n",
      "Correction 1: Vorrei offrire il mio aiuto per aiutare al Vostro Instituto praticamente agli abitanti di America Latina e per formare la mia personalità per conoscere altre paesi altre culture\n",
      "Correction 2: Vorrei offrire il mio aiuto , per aiutare al Vostro Instituto , praticamente agli abitanti di America Latina , e per formare la mia personalità , per conoscere altre paesi , altre culture\n",
      "Correction 3: Vorrei offrire il mio aiuto , per aiutare al Vostro Instituto , pratica mente ai abitanti di America Latina e per formare la mia personalità , per conoscere altre paesi , altre culture\n",
      "Correction 4: Vorrei offrire il mio aiuto , per aiutare al Vostro Instituto , praticamente ai abitanti di America Latina e per formare la mia personalità , per conoscere altre paese , altre cultura\n",
      "Correction 5: Vorrei offrire il mio aiuto , per aiutare al Vostro Instituto , pratica mente ai abitanti di America Latina e per formare la mia personalità , per conoscere altre paesi , altre culture\n",
      "Correction 6: Vorrei offrire il mio aiuto , per aiutare al Vostro Instituto , praticamente agli abitanti di America Latina e per formare la mia personalità , per conoscere altre paesi , altre culture\n",
      "Error types:  ['O_Graph', 'NO_LABEL', 'G_Art', 'O_Punct', 'G_Morphol_Wrong']\n",
      "\n"
     ]
    },
    {
     "name": "stderr",
     "output_type": "stream",
     "text": [
      " 50%|██████████████████████▌                      | 4/8 [05:58<06:26, 96.55s/it]"
     ]
    },
    {
     "name": "stdout",
     "output_type": "stream",
     "text": [
      "\n",
      "Original:     Vorrei partecipare in primo ciclo di serate ( quello di maggio ) , ma devo chiederVi le informazioni più dettagliate sul calendario degli incontri .\n",
      "Gold labels:  c c i c c c c c c c c c c c c c i c c c c c c c c\n",
      "Pred labels:  c c i i c c c c c c c c c c c c c c c c c c c c c\n",
      "Gold:         Vorrei partecipare al primo ciclo di serate ( quello di maggio ) , ma devo chiederVi informazioni più dettagliate sul calendario degli incontri .\n",
      "Correction 1: Vorrei partecipare al primo ciclo di serate (quello di maggio), ma devo chiederLe le informazioni più dettagliate sul calendario degli incontri .\n",
      "Correction 2: Vorrei partecipare in primo ciclo di serate (quello di maggio), ma devo chiedere loro le informazioni più dettagliate sul calendario degli incontri .\n",
      "Correction 3: Vorrei partecipare in primo ciclo di serate (quello di maggio), ma devo chiederLe le informazioni più dettagliate sul calendario dei incontri .\n",
      "Correction 4: Vorrei partecipare al primo ciclo di serate (quello di maggio), ma devo chiedere Le informazioni più dettagliate sul calendario degli incontri .\n",
      "Correction 5: Vorrei partecipare in primo ciclo di serate (quello di maggio), ma devo chiederLe le informazioni dettagliate sul calendario degli incontri .\n",
      "Error types:  ['G_Prep', 'G_Art']\n",
      "\n"
     ]
    },
    {
     "name": "stderr",
     "output_type": "stream",
     "text": [
      " 62%|████████████████████████████▏                | 5/8 [06:56<04:07, 82.60s/it]"
     ]
    },
    {
     "name": "stdout",
     "output_type": "stream",
     "text": [
      "\n",
      "Original:     Credo qualcosa per noi gardino vi preferite forse nuove sedie e un nuovo tavolo ?\n",
      "Gold labels:  c c c i i i c c c c c c c c c\n",
      "Pred labels:  c i c c i i c c c c c c c c c\n",
      "Gold:         Credo qualcosa per nostro giardino preferite forse nuove sedie e un nuovo tavolo ?\n",
      "Correction 1: Credo qualcosa per noi, guardino vi preferite forse nuove sedie e un nuovo tavolo ?\n",
      "Correction 2: Credo qualcosa per noi guardino voi preferite forse nuove sedie e un nuovo tavolo ?\n",
      "Correction 3: Credo qualcosa per noi guardino vi preferite forse nuove sedie e un nuovo tavolo ?\n",
      "Correction 4: Credo qualcosa per noi guardino vi preferite forse una nuova sedia e un nuovo tavolo ?\n",
      "Correction 5: Credo qualcosa per noi, guardino vi preferite forse una nuova sedia e un nuovo tavolo ?\n",
      "Error types:  ['O_Graph', 'G_Valency', 'G_Art']\n",
      "\n"
     ]
    },
    {
     "name": "stderr",
     "output_type": "stream",
     "text": [
      " 75%|█████████████████████████████████           | 6/8 [09:35<03:37, 108.65s/it]"
     ]
    },
    {
     "name": "stdout",
     "output_type": "stream",
     "text": [
      "\n",
      "Original:     Penso che la societa sia formata così , anch' io avevo quel pensiero ma quando sono andato in viaggio in Africa , mi sono riso conto che siamo privilegiati , tutti noi che viviamo in uno stato senza dittatura e dove esiste una copertura malattia sociale .\n",
      "Gold labels:  c c c i c c c c i c c c c c c c c c c c c c c c i c c c c c c c c c c c c c c c c c c c i i c\n",
      "Pred labels:  c c c i c i c c c c c c c c c c c c c c c c c c i c c c c c c c c c c c c c c c c c c c i c c\n",
      "Gold:         Penso che la società sia formata così , Anch' io avevo quel pensiero ma quando sono andato in viaggio in Africa , mi sono reso conto che siamo privilegiati , tutti noi che viviamo in uno stato senza dittatura e dove esiste una copertura malattie .\n",
      "Correction 1: Penso che la società sia formata così, anch'io avevo quel pensiero ma quando sono andato in viaggio in Africa, mi sono reso conto che siamo privilegiati, tutti noi che viviamo in uno stato senza dittatura e dove esiste una copertura malattia sociale.\n",
      "Correction 2: Penso che la società sia formata così, anch'io avevo quel pensiero ma quando sono andato in viaggio in Africa, mi sono riso della situazione perché siamo privilegiati, tutti noi che viviamo in uno stato senza dittatura e dove esiste una copertura malattia sociale.\n",
      "Correction 3: Penso che la società sia formata così, anch'io avevo quel pensiero ma quando sono andato in viaggio in Africa, mi sono riso della situazione perché siamo privilegiati, tutti noi che viviamo in uno stato senza dittatura e dove esiste una copertura sanitaria.\n",
      "Correction 4: Penso che la società sia formata così, anch'io avevo quel pensiero ma quando sono andato in viaggio in Africa, mi sono riso di questa situazione perché siamo privilegiati, tutti noi che viviamo in uno stato senza dittatura e dove esiste una copertura sanitaria.\n",
      "Correction 5: Penso che la società sia formata così, anch'io avevo quel pensiero ma quando sono andato in viaggio in Africa, mi sono riso della situazione perché siamo privilegiati, tutti noi che viviamo in uno stato senza dittatura.\n",
      "Error types:  ['G_Inflect_Inexist', 'O_Graph', 'G_Art', 'NO_LABEL', 'G_Morphol_Wrong']\n",
      "\n"
     ]
    },
    {
     "name": "stderr",
     "output_type": "stream",
     "text": [
      " 88%|███████████████████████████████████████▍     | 7/8 [09:54<01:19, 79.12s/it]"
     ]
    },
    {
     "name": "stdout",
     "output_type": "stream",
     "text": [
      "\n",
      "Original:     Quanto costa il questo viaggio ?\n",
      "Gold labels:  c c c i c c\n",
      "Pred labels:  c c i c c c\n",
      "Gold:         Quanto costa il viaggio ?\n",
      "Correction 1: Quanto costa questo viaggio ?\n",
      "Correction 2: Quanto costa il viaggio ?\n",
      "Correction 3: Quanto costa questo?\n",
      "Correction 4: Quanto questo viaggio costa ?\n",
      "Correction 5: Quanto il viaggio costa ?\n",
      "Error types:  ['G_Art']\n",
      "\n"
     ]
    },
    {
     "name": "stderr",
     "output_type": "stream",
     "text": [
      "100%|█████████████████████████████████████████████| 8/8 [10:20<00:00, 77.58s/it]"
     ]
    },
    {
     "name": "stdout",
     "output_type": "stream",
     "text": [
      "\n",
      "Original:     Conosco un veramente buonissimo !\n",
      "Gold labels:  i i c c c\n",
      "Pred labels:  c c i c c\n",
      "Gold:         conosco uno veramente buonissimo !\n",
      "Correction 1: Conosco un buonissimo!\n",
      "Correction 2: Conosco un veramente buono!\n",
      "Correction 3: Conosco un veramente buonissimo.\n",
      "Correction 4: Conosco un molto buonissimo!\n",
      "Correction 5: Conosco un davvero buonissimo!\n",
      "Error types:  ['G_Art', 'G_Valency']\n",
      "\n"
     ]
    },
    {
     "name": "stderr",
     "output_type": "stream",
     "text": [
      "\n"
     ]
    }
   ],
   "source": [
    "all_G_Art_roberta_corrections_FN_FP = []\n",
    "\n",
    "for sentence in tqdm(roberta_merlin_fn_fp_error_type['G_Art']):\n",
    "    sentence_corrections = get_corrections_tokenized_with_labels_from_data(sentence, client)\n",
    "    all_G_Art_roberta_corrections_FN_FP.append(sentence_corrections)"
   ]
  },
  {
   "cell_type": "markdown",
   "id": "a2c0921b-d769-4f4e-8c3e-64e54cbc725a",
   "metadata": {},
   "source": [
    "### ROBERTA --> G_Valency"
   ]
  },
  {
   "cell_type": "code",
   "execution_count": 49,
   "id": "f8715e4e-9c3a-4a88-aec9-87b006145cfd",
   "metadata": {
    "scrolled": true
   },
   "outputs": [
    {
     "name": "stderr",
     "output_type": "stream",
     "text": [
      " 20%|█████████                                    | 1/5 [00:28<01:55, 28.96s/it]"
     ]
    },
    {
     "name": "stdout",
     "output_type": "stream",
     "text": [
      "\n",
      "Original:     Adesso non credete che è anche in questo corso !\n",
      "Gold labels:  c c i i i c c c c c\n",
      "Pred labels:  c c c c c c i c c c\n",
      "Gold:         Adesso non crederete chi è anche in questo corso !\n",
      "Correction 1: Adesso non credete che sia anche in questo corso!\n",
      "Correction 2: Adesso non credete che è anche nel corso!\n",
      "Correction 3: Adesso credete che è anche in questo corso?\n",
      "Correction 4: Adesso non credevo che era anche in questo corso!\n",
      "Error types:  ['G_Verb', 'O_Graph', 'G_Valency']\n",
      "\n"
     ]
    },
    {
     "name": "stderr",
     "output_type": "stream",
     "text": [
      " 40%|██████████████████                           | 2/5 [01:07<01:43, 34.44s/it]"
     ]
    },
    {
     "name": "stdout",
     "output_type": "stream",
     "text": [
      "\n",
      "Original:     Quando ti vuoi inizarer il nuovo posto di lavaro ?\n",
      "Gold labels:  c i c i c c c c i c\n",
      "Pred labels:  c c c i i c c c i c\n",
      "Gold:         Quando vuoi iniziare il nuovo posto di lavoro ?\n",
      "Correction 1: Quando ti voglio iniziare il nuovo posto di lavoro ?\n",
      "Correction 2: Quando ti vuoi iniziare il nuovo posto di lavoro ?\n",
      "Correction 3: Quando ti vuoi iniziarizzare il nuovo posto di lavoro ?\n",
      "Correction 4: Quando ti vuoi iniziare il nuovo posti di lavore ?\n",
      "Correction 5: Quando ti vuoi iniziare il nuovo posto di lavoro ?\n",
      "Error types:  ['O_Graph', 'G_Valency']\n",
      "\n"
     ]
    },
    {
     "name": "stderr",
     "output_type": "stream",
     "text": [
      " 60%|███████████████████████████                  | 3/5 [01:29<00:57, 28.82s/it]"
     ]
    },
    {
     "name": "stdout",
     "output_type": "stream",
     "text": [
      "\n",
      "Original:     Io do una mano con tuo curriculum .\n",
      "Gold labels:  c i c c c i c c\n",
      "Pred labels:  c c c c i i c c\n",
      "Gold:         Io do una mano con tuo curriculum .\n",
      "Correction 1: Io do una mano con il tuo curriculum .\n",
      "Correction 2: Io aiuto con il tuo curriculum .\n",
      "Correction 3: Io contribuisco al tuo curriculum .\n",
      "Correction 4: Con il tuo curriculum io aiuto .\n",
      "Correction 5: Con il tuo curriculum io contribuisco .\n",
      "Error types:  ['G_Art', 'G_Valency']\n",
      "\n"
     ]
    },
    {
     "name": "stderr",
     "output_type": "stream",
     "text": [
      " 80%|████████████████████████████████████         | 4/5 [02:10<00:33, 33.82s/it]"
     ]
    },
    {
     "name": "stdout",
     "output_type": "stream",
     "text": [
      "\n",
      "Original:     Sa-unreadable-ete essatamente che voi non avete ancora .\n",
      "Gold labels:  i i i c c c c c\n",
      "Pred labels:  i i c c c i c c\n",
      "Gold:         unreadable esattamente che voi non avete ancora .\n",
      "Correction 1: Sa uno siete esattamente che voi non avete ancora .\n",
      "Correction 2: Sa un unreadable e siete esattamente che voi non avete ancora .\n",
      "Correction 3: Sa un ette siete esattamente che voi non avete ancora .\n",
      "Correction 4: Sa un eta siete esattamente che voi non avete ancora .\n",
      "Correction 5: Sa un ete siete esattamente che voi non avete ancora .\n",
      "Error types:  ['O_Graph', 'G_Valency']\n",
      "\n"
     ]
    },
    {
     "name": "stderr",
     "output_type": "stream",
     "text": [
      "100%|█████████████████████████████████████████████| 5/5 [02:39<00:00, 31.92s/it]"
     ]
    },
    {
     "name": "stdout",
     "output_type": "stream",
     "text": [
      "\n",
      "Original:     Conosco un veramente buonissimo !\n",
      "Gold labels:  i i c c c\n",
      "Pred labels:  c c i c c\n",
      "Gold:         conosco uno veramente buonissimo !\n",
      "Correction 1: Conosco un buonissimo!\n",
      "Correction 2: Conosco un veramente buono!\n",
      "Correction 3: Conosco un buonissimo restaurant!\n",
      "Correction 4: Conosco un vero e proprio buonissimo!\n",
      "Correction 5: Conosco un veramente buonissimo.\n",
      "Error types:  ['G_Art', 'G_Valency']\n",
      "\n"
     ]
    },
    {
     "name": "stderr",
     "output_type": "stream",
     "text": [
      "\n"
     ]
    }
   ],
   "source": [
    "all_G_Valency_roberta_corrections_FN_FP = []\n",
    "\n",
    "for sentence in tqdm(roberta_merlin_fn_fp_error_type['G_Valency']):\n",
    "    sentence_corrections = get_corrections_tokenized_with_labels_from_data(sentence, client)\n",
    "    all_G_Valency_roberta_corrections_FN_FP.append(sentence_corrections)"
   ]
  },
  {
   "cell_type": "markdown",
   "id": "876070fc-03a1-40f7-bff3-8f21776c5ac9",
   "metadata": {},
   "source": [
    "### ROBERTA --> G_Agr"
   ]
  },
  {
   "cell_type": "code",
   "execution_count": 51,
   "id": "4e106428-e06f-44c0-bd6a-92e6c020e092",
   "metadata": {
    "scrolled": true
   },
   "outputs": [
    {
     "name": "stderr",
     "output_type": "stream",
     "text": [
      "100%|█████████████████████████████████████████████| 1/1 [00:32<00:00, 32.02s/it]"
     ]
    },
    {
     "name": "stdout",
     "output_type": "stream",
     "text": [
      "\n",
      "Original:     Ma tutto era al contrario come era scritta nel Suo annuncio .\n",
      "Gold labels:  i c c i c i c i c c c c\n",
      "Pred labels:  c c c c c c i c c c c c\n",
      "Gold:         ma tutto era il contrario come era scritto nel Suo annuncio .\n",
      "Correction 1: Ma tutto era al contrario come era scritto nel Suo annuncio .\n",
      "Correction 2: Ma tutto era al contrario come era scritto nel suo annuncio .\n",
      "Correction 3: Ma tutto era contrario come era scritto nel Suo annuncio .\n",
      "Correction 4: Ma tutto era contrario come era scritto nel suo annuncio .\n",
      "Error types:  ['G_Prep', 'G_Agr', 'NO_LABEL']\n",
      "\n"
     ]
    },
    {
     "name": "stderr",
     "output_type": "stream",
     "text": [
      "\n"
     ]
    }
   ],
   "source": [
    "all_G_Agr_roberta_corrections_FN_FP = []\n",
    "\n",
    "for sentence in tqdm(roberta_merlin_fn_fp_error_type['G_Agr']):\n",
    "    sentence_corrections = get_corrections_tokenized_with_labels_from_data(sentence, client)\n",
    "    all_G_Agr_roberta_corrections_FN_FP.append(sentence_corrections)"
   ]
  },
  {
   "cell_type": "markdown",
   "id": "db5e458a-01c2-4e2e-b05a-fe477935b472",
   "metadata": {},
   "source": [
    "# GENERATION FOR FP ONLY - MERLIN - ROBERTA"
   ]
  },
  {
   "cell_type": "code",
   "execution_count": 55,
   "id": "06df359d-6105-4aae-ba20-fda54d91bfc7",
   "metadata": {
    "scrolled": true
   },
   "outputs": [
    {
     "name": "stderr",
     "output_type": "stream",
     "text": [
      "  2%|█                                           | 1/42 [00:24<16:40, 24.41s/it]"
     ]
    },
    {
     "name": "stdout",
     "output_type": "stream",
     "text": [
      "\n",
      "Original:     Ciao Caro , come stai ?\n",
      "Gold labels:  c c c c c c\n",
      "Pred labels:  c i c c c c\n",
      "Gold:         Ciao Caro , come stai ?\n",
      "Correction 1: Ciao caro, come stai?\n",
      "Correction 2: Ciao cara, come stai?\n",
      "Correction 3: Ciao caro, come stai?\n",
      "Correction 4: Ciao caro, come stai.\n",
      "Correction 5: Ciao caro, come stai.\n",
      "Error types:  []\n",
      "\n"
     ]
    },
    {
     "name": "stderr",
     "output_type": "stream",
     "text": [
      "  5%|██                                          | 2/42 [01:01<21:03, 31.58s/it]"
     ]
    },
    {
     "name": "stdout",
     "output_type": "stream",
     "text": [
      "\n",
      "Original:     Tanto non bisognò di prenotare un alloggio .\n",
      "Gold labels:  c c i c c c c c\n",
      "Pred labels:  c c i i c c c c\n",
      "Gold:         Tanto non bisogno di prenotare un alloggio .\n",
      "Correction 1: Tanto non bisogna prenotare un alloggio .\n",
      "Correction 2: Tanto non fu necessario prenotare un alloggio .\n",
      "Correction 3: Tanto non si dovette prenotare un alloggio .\n",
      "Correction 4: Tanto non era necessario prenotare un alloggio .\n",
      "Correction 5: Tanto non bisognò prenotare un alloggio .\n",
      "Error types:  ['G_Verb_main']\n",
      "\n"
     ]
    },
    {
     "name": "stderr",
     "output_type": "stream",
     "text": [
      "  7%|███▏                                        | 3/42 [01:07<13:00, 20.00s/it]"
     ]
    },
    {
     "name": "stdout",
     "output_type": "stream",
     "text": [
      "\n",
      "Original:     La mia esperienza lavorativa questi .\n",
      "Gold labels:  c c c c i c\n",
      "Pred labels:  c c c c i i\n",
      "Gold:         La mia esperienza lavorativa questa .\n",
      "Correction 1: La mia esperienza lavorativa è questa .\n",
      "Error types:  ['G_Verb_compl']\n",
      "\n"
     ]
    },
    {
     "name": "stderr",
     "output_type": "stream",
     "text": [
      " 10%|████▏                                       | 4/42 [01:57<20:08, 31.80s/it]"
     ]
    },
    {
     "name": "stdout",
     "output_type": "stream",
     "text": [
      "\n",
      "Original:     Vorrei presentarmi in breve e darVi alcuni informazioni sulla mia persona .\n",
      "Gold labels:  c c c c c c i c c c c c\n",
      "Pred labels:  c c i c c c i c c c c c\n",
      "Gold:         Vorrei presentarmi in breve e darVi alcune informazioni sulla mia persona .\n",
      "Correction 1: Vorrei presentarmi in breve e darvi alcuni informazioni sulla mia persona.\n",
      "Correction 2: Vorrei presentarmi brevemente e darvi alcune informazioni sulla mia persona.\n",
      "Correction 3: Vorrei presentarmi in modo conciso e darvi alcuni dettagli sulla mia persona.\n",
      "Correction 4: Vorrei presentarmi rapidamente e darvi some information about myself.\n",
      "Correction 5: Vorrei presentarmi e darvi alcune informazioni sulla mia persona.\n",
      "Error types:  ['H_Intelltxt']\n",
      "\n"
     ]
    },
    {
     "name": "stderr",
     "output_type": "stream",
     "text": [
      " 12%|█████▏                                      | 5/42 [02:17<17:00, 27.58s/it]"
     ]
    },
    {
     "name": "stdout",
     "output_type": "stream",
     "text": [
      "\n",
      "Original:     Forse ti piaci ?\n",
      "Gold labels:  c c c c\n",
      "Pred labels:  c c i c\n",
      "Gold:         Forse ti piaci ?\n",
      "Correction 1: Forse ti piace ?\n",
      "Correction 2: Forse ti piacciono ?\n",
      "Correction 3: Forse ti piaci da?\n",
      "Correction 4: Forse ti piacendo ?\n",
      "Correction 5: Forse ti piaciuto ?\n",
      "Error types:  []\n",
      "\n"
     ]
    },
    {
     "name": "stderr",
     "output_type": "stream",
     "text": [
      " 14%|██████▎                                     | 6/42 [03:01<19:53, 33.15s/it]"
     ]
    },
    {
     "name": "stdout",
     "output_type": "stream",
     "text": [
      "\n",
      "Original:     Secondo me l' amizicia virtuale sia possibile solo in alcune parte .\n",
      "Gold labels:  c c c i c i c c c c i c\n",
      "Pred labels:  c c c i c i c c c i i c\n",
      "Gold:         Secondo me l' amicizia virtuale è possibile solo in alcune parti .\n",
      "Correction 1: Secondo me l'amicizia virtuale sia possibile solo in alcune parti .\n",
      "Correction 2: Secondo me l'amicizia virtuale sia possibile solo in alcune parti .\n",
      "Correction 3: Secondo me l'amicizia virtuale è possibile solo in alcune parti .\n",
      "Correction 4: Secondo me l'amizienza virtuale sia possibile solo in alcune parti .\n",
      "Correction 5: Secondo me l' amizie virtuale sia possibile solo in alcune parti .\n",
      "Error types:  ['NO_LABEL']\n",
      "\n"
     ]
    },
    {
     "name": "stderr",
     "output_type": "stream",
     "text": [
      " 17%|███████▎                                    | 7/42 [03:48<22:01, 37.76s/it]"
     ]
    },
    {
     "name": "stdout",
     "output_type": "stream",
     "text": [
      "\n",
      "Original:     Non mi piace tanto , perché i nostri clienti non sono tanto gentile sai ...\n",
      "Gold labels:  c c c c c c c c c c c c i c c\n",
      "Pred labels:  c c c c c c c c c c c c i i c\n",
      "Gold:         Non mi piace tanto , perché i nostri clienti non sono tanto gentili sai ...\n",
      "Correction 1: Non mi piace tanto, perché i nostri clienti non sono molto gentili sai ...\n",
      "Correction 2: Non mi piace tanto perché i nostri clienti non sono gentili abbastanza sai ...\n",
      "Correction 3: Non mi piace tanto perché i nostri clienti non sono molto gentili sai ...\n",
      "Correction 4: Non mi piace tanto perché i nostri clienti non sono tanto gentili sai ...\n",
      "Correction 5: Non mi piace tanto perché i nostri clienti non sono così gentili sai ...\n",
      "Error types:  ['H_Intelltxt']\n",
      "\n"
     ]
    },
    {
     "name": "stderr",
     "output_type": "stream",
     "text": [
      " 19%|████████▍                                   | 8/42 [05:02<27:59, 49.38s/it]"
     ]
    },
    {
     "name": "stdout",
     "output_type": "stream",
     "text": [
      "\n",
      "Original:     Dopo l' esame di maturità vorrei trasferirmi a Roma così è necessario che possa parlare in italiano .\n",
      "Gold labels:  c c c c c c c c c i c c c c c c c c\n",
      "Pred labels:  c c c c c c c c c i c c c i c c c c\n",
      "Gold:         Dopo l' esame di maturità vorrei trasferirmi a Roma così è necessario che possa parlare in italiano .\n",
      "Correction 1: Dopo l'esame di maturità vorrei trasferirmi a Roma, quindi è necessario che possa parlare in italiano .\n",
      "Correction 2: Dopo l'esame di maturità vorrei trasferirmi a Roma; è necessario che possa parlare in italiano .\n",
      "Correction 3: Dopo l'esame di maturità vorrei trasferirmi a Roma perché è necessario che possa parlare in italiano .\n",
      "Correction 4: Dopo l'esame di maturità, quando vorrei trasferirmi a Roma, è necessario che possa parlare in italiano .\n",
      "Correction 5: Dopo l'esame di maturità vorrei solo trasferirmi a Roma; è necessario che possa parlare in italiano .\n",
      "Error types:  ['NO_LABEL']\n",
      "\n"
     ]
    },
    {
     "name": "stderr",
     "output_type": "stream",
     "text": [
      " 21%|█████████▍                                  | 9/42 [06:27<33:09, 60.30s/it]"
     ]
    },
    {
     "name": "stdout",
     "output_type": "stream",
     "text": [
      "\n",
      "Original:     Ho letto il vostro annuncio delle \"\"\"\" Serate di cucina internazionale \"\"\"\" e devo dire , che lo è stato molto interessante per me .\n",
      "Gold labels:  c c c c c c c c c c c c c c c i c i c c c c c c c\n",
      "Pred labels:  c c c c c c c i c c c c c c c i c i i c c c c c c\n",
      "Gold:         Ho letto il vostro annuncio delle \"\"\"\" Serate di cucina internazionale \"\"\"\" e devo dire che è stato molto interessante per me .\n",
      "Correction 1: Ho letto il vostro annuncio delle \"Serate di cucina internazionale\" e devo dire che è stato molto interessante per me.\n",
      "Correction 2: Ho letto il vostro annuncio sulle \"Serate di cucina internazionale\" e devo dire che lo è stato molto interessante per me.\n",
      "Correction 3: Ho letto il vostro annuncio sulle \"Serate di cucina internazionale\" e devo dire che è stato molto interessante per me.\n",
      "Correction 4: Ho letto il vostro annuncio delle \"Serate di cucina internazionale\" e devo dire che lo è stato molto interessante per me.\n",
      "Correction 5: Ho letto il vostro annuncio sulle \"Serate di cucina internazionale\" e devo dire che lo è stato molto interessante per me.\n",
      "Error types:  ['G_Clit', 'O_Punct']\n",
      "\n"
     ]
    },
    {
     "name": "stderr",
     "output_type": "stream",
     "text": [
      " 24%|██████████▏                                | 10/42 [07:13<29:57, 56.18s/it]"
     ]
    },
    {
     "name": "stdout",
     "output_type": "stream",
     "text": [
      "\n",
      "Original:     Infatti , questo è in intenzione per iscrivermi al primo ciclo .\n",
      "Gold labels:  c c c c c c c c c c c c\n",
      "Pred labels:  c c c c c i c c c c c c\n",
      "Gold:         Infatti , questo è in intenzione per iscrivermi al primo ciclo .\n",
      "Correction 1: Infatti, questo è in intenzione per iscrivermi al primo ciclo.\n",
      "Correction 2: Infatti, questo è inteso per iscrivermi al primo ciclo.\n",
      "Correction 3: Infatti, questo è in intenzione per iscriverti al primo ciclo.\n",
      "Correction 4: Infatti, questo è in intenzione per iscriversi al primo ciclo.\n",
      "Correction 5: Infatti, questo è in intenzione per iscriversi al primo anno.\n",
      "Error types:  []\n",
      "\n"
     ]
    },
    {
     "name": "stderr",
     "output_type": "stream",
     "text": [
      " 26%|███████████▎                               | 11/42 [08:19<30:30, 59.06s/it]"
     ]
    },
    {
     "name": "stdout",
     "output_type": "stream",
     "text": [
      "\n",
      "Original:     27-03-2010 Città X Cara Roberta , Non ho visto te da molto tempo .\n",
      "Gold labels:  c c c c c c i c c c c c c c\n",
      "Pred labels:  c c c c c c i c c i c c c c\n",
      "Gold:         27-03-2010 Città X Cara Roberta , non ho visto te da molto tempo .\n",
      "Correction 1: 27-03-2010 Città X Cara Roberta , Non ho visto te da molto tempo .\n",
      "Correction 2: 27-03-2010 Città X Cara Roberta , Non ho visto te da un po' .\n",
      "Correction 3: 27-03-2010 Città X Cara Roberta , Non ti ho visto da molto tempo .\n",
      "Correction 4: 27-03-2010 Città X Cara Roberta , Non ti ho visto da un po' .\n",
      "Correction 5: 27-03-2010 Città X Cara Roberta , Ho non visto te da molto tempo .\n",
      "Error types:  ['O_Capit']\n",
      "\n"
     ]
    },
    {
     "name": "stderr",
     "output_type": "stream",
     "text": [
      " 29%|████████████▎                              | 12/42 [08:48<24:56, 49.88s/it]"
     ]
    },
    {
     "name": "stdout",
     "output_type": "stream",
     "text": [
      "\n",
      "Original:     Non abbiamo dei gravi problemi come la famina .\n",
      "Gold labels:  c c c c c c c c c\n",
      "Pred labels:  c c c c c c c i c\n",
      "Gold:         Non abbiamo dei gravi problemi come la famina .\n",
      "Correction 1: Non abbiamo gravi problemi come la fame .\n",
      "Correction 2: Non ci sono dei gravi problemi come la famina .\n",
      "Correction 3: Non abbiamo gravi problemi come la carestia .\n",
      "Correction 4: Non abbiamo gravi problemi simili alla famina .\n",
      "Correction 5: Non abbiamo problemi gravi come la fame .\n",
      "Error types:  []\n",
      "\n"
     ]
    },
    {
     "name": "stderr",
     "output_type": "stream",
     "text": [
      " 31%|█████████████▎                             | 13/42 [09:14<20:33, 42.55s/it]"
     ]
    },
    {
     "name": "stdout",
     "output_type": "stream",
     "text": [
      "\n",
      "Original:     Ma come faccio per andare a Casa tua ?\n",
      "Gold labels:  c c c c c c i c c\n",
      "Pred labels:  c c c c c c i i c\n",
      "Gold:         Ma come faccio per andare a casa tua ?\n",
      "Correction 1: Ma come faccio a fare per andare a casa tua ?\n",
      "Correction 2: Ma come faccio a tornare a casa tua ?\n",
      "Correction 3: Ma come faccio ad andare a casa tua ?\n",
      "Correction 4: Ma come faccio a raggiungere casa tua ?\n",
      "Error types:  ['O_Capit']\n",
      "\n"
     ]
    },
    {
     "name": "stderr",
     "output_type": "stream",
     "text": [
      " 33%|██████████████▎                            | 14/42 [10:46<26:50, 57.52s/it]"
     ]
    },
    {
     "name": "stdout",
     "output_type": "stream",
     "text": [
      "\n",
      "Original:     Città X , 13 agosto 2011 Caro Francesco , grazie la tua lettera , l' ho aspettata molto !\n",
      "Gold labels:  c c c c c c c c c c i c c c c c c c c\n",
      "Pred labels:  c c c c c c c c c i i c c c c c c c c\n",
      "Gold:         Città X , 13 agosto 2011 Caro Francesco , grazie la tua lettera , l' ho aspettata molto !\n",
      "Correction 1: Città X , 13 agosto 2011 Caro Francesco , grazie per la tua lettera , l' ho aspettata molto !\n",
      "Correction 2: Città X , 13 agosto 2011 Caro Francesco , grazie della tua lettera , l' ho aspettata molto !\n",
      "Correction 3: Città X , 13 agosto 2011 Caro Francesco , ringraziando per la tua lettera , l' ho aspettata molto !\n",
      "Correction 4: Città X , 13 agosto 2011 Caro Francesco , grazie per aver ricevuto la tua lettera , l' ho aspettata molto !\n",
      "Correction 5: Città X , 13 agosto 2011 Caro Francesco , grazie per la tua lettera , aspettandola molto !\n",
      "Error types:  ['G_Prep']\n",
      "\n"
     ]
    },
    {
     "name": "stderr",
     "output_type": "stream",
     "text": [
      " 36%|███████████████▎                           | 15/42 [11:40<25:26, 56.52s/it]"
     ]
    },
    {
     "name": "stdout",
     "output_type": "stream",
     "text": [
      "\n",
      "Original:     Prima , vorrei presentarmi : Mi chiamo Maria Rossi e ho 19 anni .\n",
      "Gold labels:  c c c c c i c c c c c c c c\n",
      "Pred labels:  c i c c c i c c c c c c c c\n",
      "Gold:         Prima , vorrei presentarmi : mi chiamo Maria Rossi e ho 19 anni .\n",
      "Correction 1: Prima, vorrei presentarmi: Mi chiamo Maria Rossi e ho 19 anni.\n",
      "Correction 2: Prima; vorrei presentarmi: Mi chiamo Maria Rossi e ne ho 19.\n",
      "Correction 3: Prima; vorrei presentarmi: Chiamami Maria Rossi e ho 19 anni.\n",
      "Correction 4: Prima; vorrei presentarmi: Mi chiamo Maria Rossi ed ho 19 anni.\n",
      "Correction 5: Prima; vorrei presentarmi: Mi chiamo Maria Rossi e ne ho 19.\n",
      "Error types:  ['O_Capit']\n",
      "\n"
     ]
    },
    {
     "name": "stderr",
     "output_type": "stream",
     "text": [
      " 38%|████████████████▍                          | 16/42 [12:08<20:46, 47.95s/it]"
     ]
    },
    {
     "name": "stdout",
     "output_type": "stream",
     "text": [
      "\n",
      "Original:     Non abbiamo piu nessun contate con lei .\n",
      "Gold labels:  c c i c i c c c\n",
      "Pred labels:  c c i i i c c c\n",
      "Gold:         Non abbiamo più nessun contatto con lei .\n",
      "Correction 1: Non abbiamo più nessun contatto con lei .\n",
      "Correction 2: Non abbiamo più nessuna contata con lui .\n",
      "Correction 3: Non abbiamo piu nessuna contatto con lei .\n",
      "Correction 4: Non abbiamo più nessun contatto con lei .\n",
      "Correction 5: Non abbiamo più nessun contatto con lei .\n",
      "Error types:  ['G_Inflect_Inexist', 'O_Graph']\n",
      "\n"
     ]
    },
    {
     "name": "stderr",
     "output_type": "stream",
     "text": [
      " 40%|█████████████████▍                         | 17/42 [12:37<17:34, 42.18s/it]"
     ]
    },
    {
     "name": "stdout",
     "output_type": "stream",
     "text": [
      "\n",
      "Original:     Spero di avere presto tue notizie .\n",
      "Gold labels:  c c c c c c c\n",
      "Pred labels:  c c c c i c c\n",
      "Gold:         Spero di avere presto tue notizie .\n",
      "Correction 1: Spero di avere presto le tue notizie .\n",
      "Correction 2: Spero di avere tuoi notizie presto.\n",
      "Correction 3: Spero di ricevere presto tue notizie .\n",
      "Correction 4: Spero di avere notizie tue presto.\n",
      "Error types:  []\n",
      "\n"
     ]
    },
    {
     "name": "stderr",
     "output_type": "stream",
     "text": [
      " 43%|██████████████████▍                        | 18/42 [13:58<21:31, 53.80s/it]"
     ]
    },
    {
     "name": "stdout",
     "output_type": "stream",
     "text": [
      "\n",
      "Original:     Città X , 18 / 6 / 2011 Cara Beatrice , Caro Stefano , Che sorpresa !\n",
      "Gold labels:  c c c c c c c c c c c c c c i c c\n",
      "Pred labels:  c c c c c c c c c c c i c c i c c\n",
      "Gold:         Città X , 18 / 6 / 2011 Cara Beatrice , Caro Stefano , che sorpresa !\n",
      "Correction 1: Città X , 18 / 6 / 2011 Cara Beatrice , Caro Stefano , Che sorpresa !\n",
      "Correction 2: Città X , 18 / 6 / 2011 Cara Beatrice , Caro Stefano , Che sorpresa !\n",
      "Correction 3: Città X , 18 / 6 / 2011 Carissima Beatrice , Carissimo Stefano , Che sorpresa !\n",
      "Correction 4: Città X , 18 / 6 / 2011 Cara Beatrice , Caro Stefano , Pieno piacere !\n",
      "Correction 5: Città X , 18 / 6 / 2011 Cara Beatrice , Caro Stefano , Grande sorpresa !\n",
      "Error types:  ['O_Capit']\n",
      "\n"
     ]
    },
    {
     "name": "stderr",
     "output_type": "stream",
     "text": [
      " 45%|███████████████████▍                       | 19/42 [14:42<19:30, 50.87s/it]"
     ]
    },
    {
     "name": "stdout",
     "output_type": "stream",
     "text": [
      "\n",
      "Original:     Ho lavorato come ragazza alla pare per imperare l' italiano .\n",
      "Gold labels:  c c c c c i c c c c c\n",
      "Pred labels:  c c c c i i c c c c c\n",
      "Gold:         Ho lavorato come ragazza alla pari per imperare l' italiano .\n",
      "Correction 1: Ho lavorato come babysittrice per imparare l'italiano .\n",
      "Correction 2: Ho lavorato come au pair per imparare l'italiano .\n",
      "Correction 3: Ho lavorato come baby sittora per imparare l'italiano .\n",
      "Correction 4: Ho lavorato come baby-sitter per imparare l'italiano .\n",
      "Correction 5: Note: The fifth correction is an empty line because only four unique corrections were possible given the constraints.\n",
      "Error types:  ['G_Inflect_Inexist']\n",
      "\n"
     ]
    },
    {
     "name": "stderr",
     "output_type": "stream",
     "text": [
      " 48%|████████████████████▍                      | 20/42 [15:54<21:01, 57.34s/it]"
     ]
    },
    {
     "name": "stdout",
     "output_type": "stream",
     "text": [
      "\n",
      "Original:     Ho sentito dire , che la Loro società é molto piacevole per i lavoratori e da tanta sodisfazione del lavoro .\n",
      "Gold labels:  c c c i c c c c i c c c c c c i c i i c c\n",
      "Pred labels:  c c c i c c i c i c c c c c c i c i i c c\n",
      "Gold:         Ho sentito dire che la Loro società è molto piacevole per i lavoratori e dà tanta soddisfazione nel lavoro .\n",
      "Correction 1: Ho sentito dire che la loro società è molto piacevole per i lavoratori e da tanta soddisfazione del lavoro.\n",
      "Correction 2: Ho sentito dire che la loro società é molto piacevole per i lavoratori e da tanta soddisfazione del lavoro.\n",
      "Correction 3: Ho sentito dire che la loro società è molto piacevole per i lavoratori e da tanta soddisfazione al lavoro.\n",
      "Correction 4: Ho sentito dire che la loro società è molto piacevole per i lavoratori e dal grande senso di soddisfazione.\n",
      "Correction 5: Ho sentito dire che la loro società è molto piacevole per i lavoratori e da una grande soddisfazione.\n",
      "Error types:  ['G_Prep', 'O_Graph', 'O_Punct']\n",
      "\n"
     ]
    },
    {
     "name": "stderr",
     "output_type": "stream",
     "text": [
      " 50%|█████████████████████▌                     | 21/42 [16:54<20:18, 58.03s/it]"
     ]
    },
    {
     "name": "stdout",
     "output_type": "stream",
     "text": [
      "\n",
      "Original:     Conosco bene l' informatica e la dattilografia e parlo e scrivo correttamente in tedesco e in italiano .\n",
      "Gold labels:  c c c c c c c c c c c c c c c c c c\n",
      "Pred labels:  c c c c c c i c c c c c c c c c c c\n",
      "Gold:         Conosco bene l' informatica e la dattilografia e parlo e scrivo correttamente in tedesco e in italiano .\n",
      "Correction 1: Conosco bene l'informatica e la dattilografia e parlo e scrivo correttamente in tedesco e italiano .\n",
      "Correction 2: Conosco bene l'informatica e la dattilografia e parlo e scrivo correttamente in tedesco e italiano .\n",
      "Correction 3: Conosco bene l'informatica e la dattilografia e parlo e scrivo correttamente in tedesco e in italiano .\n",
      "Correction 4: Conosco bene l'informatica e la dattilografia e parlo e scrivo correttamente in tedesco e in italiano .\n",
      "Error types:  []\n",
      "\n"
     ]
    },
    {
     "name": "stderr",
     "output_type": "stream",
     "text": [
      " 52%|██████████████████████▌                    | 22/42 [17:12<15:24, 46.20s/it]"
     ]
    },
    {
     "name": "stdout",
     "output_type": "stream",
     "text": [
      "\n",
      "Original:     Ciao Michele grazie per la tua ..... .\n",
      "Gold labels:  c c i c c c c c\n",
      "Pred labels:  c c i c c c i c\n",
      "Gold:         Ciao Michele grazie per la tua ..... .\n",
      "Correction 1: Ciao Michele grazie per tua .\n",
      "Correction 2: Ciao Michele grazie ......\n",
      "Correction 3: Ciao Michele grazie per la tua .\n",
      "Correction 4: Ciao Michele grazie .\n",
      "Correction 5: Ciao Michele .\n",
      "Error types:  ['NO_LABEL']\n",
      "\n"
     ]
    },
    {
     "name": "stderr",
     "output_type": "stream",
     "text": [
      " 55%|███████████████████████▌                   | 23/42 [17:35<12:25, 39.23s/it]"
     ]
    },
    {
     "name": "stdout",
     "output_type": "stream",
     "text": [
      "\n",
      "Original:     Tante grazie per le informazione .\n",
      "Gold labels:  c c c c i c\n",
      "Pred labels:  c c c i i c\n",
      "Gold:         Tante grazie per le informazioni .\n",
      "Correction 1: Tante grazie per le informazioni .\n",
      "Correction 2: Tante grazie alle informazione .\n",
      "Correction 3: Tante grazie alle informazioni .\n",
      "Correction 4: Tante grazie per le informazioni .\n",
      "Correction 5: Molte grazie per le informazioni .\n",
      "Error types:  ['G_Morphol_Wrong']\n",
      "\n"
     ]
    },
    {
     "name": "stderr",
     "output_type": "stream",
     "text": [
      " 57%|████████████████████████▌                  | 24/42 [18:22<12:25, 41.41s/it]"
     ]
    },
    {
     "name": "stdout",
     "output_type": "stream",
     "text": [
      "\n",
      "Original:     Noi impariamo già alla scuola elementare due lingue stranieri .\n",
      "Gold labels:  c c c c c c c c i c\n",
      "Pred labels:  c c c i c c c c i c\n",
      "Gold:         Noi impariamo già alla scuola elementare due lingue straniere .\n",
      "Correction 1: Noi impariamo già alla scuola elementare due lingue straniere .\n",
      "Correction 2: Noi impariamo già a scuola elementare due lingue stranieri .\n",
      "Correction 3: Noi already impariamo alla scuola elementare two foreign languages .\n",
      "Correction 4: Noi impariamo già alla scuola elementare due lingue estranei .\n",
      "Correction 5: Noi impariamo già alla scuola elementare due lingue straniere .\n",
      "Error types:  ['G_Morphol_Wrong']\n",
      "\n"
     ]
    },
    {
     "name": "stderr",
     "output_type": "stream",
     "text": [
      " 60%|█████████████████████████▌                 | 25/42 [19:27<13:46, 48.60s/it]"
     ]
    },
    {
     "name": "stdout",
     "output_type": "stream",
     "text": [
      "\n",
      "Original:     So che potrebbe essere difficile trovare un posto per me , ma dopo il 29 agosto , comincerò studiare nei Paese Y .\n",
      "Gold labels:  c c c c c c c c c c c c c c c c i c i c c c c\n",
      "Pred labels:  c c c c c c c c c c c c c c c c i c i i c c c\n",
      "Gold:         So che potrebbe essere difficile trovare un posto per me , ma dopo il 29 agosto comincerò studiare nei Paese Y .\n",
      "Correction 1: So che potrebbe essere difficile trovare un posto per me, ma dopo il 29 agosto comincerò a studiare nel Paese Y.\n",
      "Correction 2: So che potrebbe essere difficile trovare un posto per me, ma dopo il 29 agosto comincerò a studiare in Paese Y.\n",
      "Correction 3: So che potrebbe essere difficile trovare un posto per me, ma dopo il 29 agosto comincerò a studiare nello Y.\n",
      "Correction 4: So che potrebbe essere difficile trovare un posto per me, ma dopo il 29 agosto comincerò a studiare nel Y.\n",
      "Correction 5: (The fifth correction is repeated as the possible unique corrections are limited)\n",
      "Error types:  ['NO_LABEL']\n",
      "\n"
     ]
    },
    {
     "name": "stderr",
     "output_type": "stream",
     "text": [
      " 62%|██████████████████████████▌                | 26/42 [20:04<12:00, 45.03s/it]"
     ]
    },
    {
     "name": "stdout",
     "output_type": "stream",
     "text": [
      "\n",
      "Original:     Mi scriva , per favore , se è possibile prestissimo .\n",
      "Gold labels:  c c c c c c c c c c c\n",
      "Pred labels:  c c c c c c c c c i c\n",
      "Gold:         Mi scriva , per favore , se è possibile prestissimo .\n",
      "Correction 1: Mi scrivere, per favore, se è possibile prestissimo.\n",
      "Correction 2: Mi scriva, per favore, se è possibile il più presto possibile.\n",
      "Correction 3: Mi scriva, per favore, immediatamente se è possibile.\n",
      "Correction 4: Mi scriva, per favore, al più presto.\n",
      "Correction 5: Mi scriva, per favore, se possibile prestissimo.\n",
      "Error types:  []\n",
      "\n"
     ]
    },
    {
     "name": "stderr",
     "output_type": "stream",
     "text": [
      " 64%|███████████████████████████▋               | 27/42 [20:42<10:44, 42.98s/it]"
     ]
    },
    {
     "name": "stdout",
     "output_type": "stream",
     "text": [
      "\n",
      "Original:     Sono stata operata al ginocchio tre settimane fa .\n",
      "Gold labels:  c c c c c c c c c\n",
      "Pred labels:  c c c i c c c c c\n",
      "Gold:         Sono stata operata al ginocchio tre settimane fa .\n",
      "Correction 1: Sono stata operata al ginocchio tre settimane fa.\n",
      "Correction 2: Sono stata operata al ginocchio tre settimane fa\n",
      "Correction 3: Sono stata operata al ginocchio tre settimane fa.\n",
      "Correction 4: Sono stata operata al ginocchio tre settimane fa.\n",
      "Correction 5: Sono stata operata al ginocchio tre settimane fa.\n",
      "Error types:  []\n",
      "\n"
     ]
    },
    {
     "name": "stderr",
     "output_type": "stream",
     "text": [
      " 67%|████████████████████████████▋              | 28/42 [21:17<09:29, 40.69s/it]"
     ]
    },
    {
     "name": "stdout",
     "output_type": "stream",
     "text": [
      "\n",
      "Original:     La sera ce chosa fate andate al cinema o a ballare .\n",
      "Gold labels:  c c i i c i c c c c c c\n",
      "Pred labels:  c c i i i i c c c c c c\n",
      "Gold:         La sera che cosa fate Andate al cinema o a ballare .\n",
      "Correction 1: La sera cosa fate andate al cinema o a ballare .\n",
      "Correction 2: La sera cosa fate andate al cinema o a ballare?\n",
      "Correction 3: La sera che cosa fate andate al cinema o a ballare.\n",
      "Correction 4: La sera ce cosa fate andate al cinema o a ballare.\n",
      "Correction 5: La sera ce ché cosa fate andate al cinema o a ballare.\n",
      "Error types:  ['NO_LABEL', 'O_Punct']\n",
      "\n"
     ]
    },
    {
     "name": "stderr",
     "output_type": "stream",
     "text": [
      " 69%|█████████████████████████████▋             | 29/42 [22:02<09:03, 41.79s/it]"
     ]
    },
    {
     "name": "stdout",
     "output_type": "stream",
     "text": [
      "\n",
      "Original:     Io viaggo IN TRENO , IO SONO ALLE 19 A CASA TUA .\n",
      "Gold labels:  c c i i c i i i c i i i c\n",
      "Pred labels:  c i i i c i i i i i i i c\n",
      "Gold:         Io viaggo in treno , sono alle 19 a casa tua .\n",
      "Correction 1: Io viaggio IN TRENO, io sono alle 19 a casa tua.\n",
      "Correction 2: Io viaggio IN Treno, io sono alle 19 a casa tua.\n",
      "Correction 3: Io viaggio in treno, io sono alle 19 a casa tua.\n",
      "Correction 4: Io viaggio in treno, iosono alle 19 a casa tua.\n",
      "Correction 5: Io viaggio in treno, io sono alle 19 a casa tua.\n",
      "Error types:  ['G_Valency', 'NO_LABEL']\n",
      "\n"
     ]
    },
    {
     "name": "stderr",
     "output_type": "stream",
     "text": [
      " 71%|██████████████████████████████▋            | 30/42 [22:31<07:36, 38.00s/it]"
     ]
    },
    {
     "name": "stdout",
     "output_type": "stream",
     "text": [
      "\n",
      "Original:     Quando bisogno la informazione ?\n",
      "Gold labels:  c i i c c\n",
      "Pred labels:  i i i i c\n",
      "Gold:         Quando bisogno informazione ?\n",
      "Correction 1: Quando necessito l'informazione ?\n",
      "Correction 2: Quando ho bisogno dell'informazione ?\n",
      "Correction 3: Quando si ha bisogno della informazione ?\n",
      "Correction 4: Quando c'è bisogno dell'informazione ?\n",
      "Correction 5: Quando ho bisogno dell'information ?\n",
      "Error types:  ['G_Verb_main']\n",
      "\n"
     ]
    },
    {
     "name": "stderr",
     "output_type": "stream",
     "text": [
      " 74%|███████████████████████████████▋           | 31/42 [25:09<13:33, 73.96s/it]"
     ]
    },
    {
     "name": "stdout",
     "output_type": "stream",
     "text": [
      "\n",
      "Original:     La mia familia sta bene : zio Michele è allegro e felice anche zia Maria sta bene , Io sono contenta del mio lavoro - ho molto da fare , ma mi piace molto In vacanza sono andata in montagnia - un mio amico ha ci una casa .\n",
      "Gold labels:  c c i c c c c c c c c c i c c c c c c c c c c c c c c c c c c c c c i c c c c i c c c c c i c c c\n",
      "Pred labels:  c c i c c c c c c c c c i c c c c c i c c c c c c c c c c c c c c c i c c c c i c c c c c i c c c\n",
      "Gold:         La mia famiglia sta bene : zio Michele è allegro e felice anche zia Maria sta bene , Io sono contenta del mio lavoro - ho molto da fare , ma mi piace molto In vacanza sono andata in montagna - un mio amico ha lì una casa .\n",
      "Correction 1: La mia famiglia sta bene : zio Michele è allegro e felice . Anche zia Maria sta bene , io sono contenta del mio lavoro - ho molto da fare , ma mi piace molto . In vacanza sono andata in montagna - un mio amico ha una casa .\n",
      "Correction 2: La mia famiglia sta bene : zio Michele è allegro e felice . Anche zia Maria sta bene , io sono contenta del mio lavoro - ho molto da fare . Ma mi piace molto . In vacanza sono andata in montagnia - un mio amico ha ci una casa .\n",
      "Correction 3: La mia famiglia sta bene : zio Michele è allegro e felice . Anche zia Maria sta bene , io sono contenta del mio lavoro - ho molto da fare . Ma mi piace molto . In vacanza sono andata in montagne - un mio amico ha una casa .\n",
      "Correction 4: La mia famiglia sta bene : zio Michele è allegro e felice . Anche zia Maria sta bene , io sono contenta del mio lavoro - ho molto da fare , ma mi piace molto . In vacanza sono andata in montagnia - un mio amico ha una casa .\n",
      "Correction 5: La mia famiglia sta bene : zio Michele è allegro e felice . Anche zia Maria sta bene , io sono contenta del mio lavoro - ho molto da fare , ma mi piace molto . In vacanza sono andata in montagne - un mio amico ha una casa .\n",
      "Error types:  ['G_Pos', 'O_Graph', 'NO_LABEL']\n",
      "\n"
     ]
    },
    {
     "name": "stderr",
     "output_type": "stream",
     "text": [
      " 76%|████████████████████████████████▊          | 32/42 [26:01<11:14, 67.42s/it]"
     ]
    },
    {
     "name": "stdout",
     "output_type": "stream",
     "text": [
      "\n",
      "Original:     Caro Daniele , Mi dispiace ma e una settimana orribile .\n",
      "Gold labels:  c c c i c c i c c c c\n",
      "Pred labels:  c c c i c i i c c c c\n",
      "Gold:         Caro Daniele , mi dispiace ma è una settimana orribile .\n",
      "Correction 1: Caro Daniele, Mi dispiace ma è una settimana orribile.\n",
      "Correction 2: Caro Daniele, Mi dispiace, ma e' una settimana orribile.\n",
      "Correction 3: Caro Daniele, Mi dispiace, ma è una settimana orribile.\n",
      "Correction 4: Caro Daniele, Mi dispiace, ma e una settimana orribile.\n",
      "Correction 5: Caro Daniele, Mi dispiace, ma è una settimana orribile .\n",
      "Error types:  ['O_Capit', 'O_Graph']\n",
      "\n"
     ]
    },
    {
     "name": "stderr",
     "output_type": "stream",
     "text": [
      " 79%|█████████████████████████████████▊         | 33/42 [26:30<08:24, 56.03s/it]"
     ]
    },
    {
     "name": "stdout",
     "output_type": "stream",
     "text": [
      "\n",
      "Original:     Non ho un desiderio speciale sul denaro .\n",
      "Gold labels:  c c c c c c c c\n",
      "Pred labels:  c c c c c i c c\n",
      "Gold:         Non ho un desiderio speciale sul denaro .\n",
      "Correction 1: Non ho un desiderio speciale su denaro .\n",
      "Correction 2: Non ho un desiderio sul denaro .\n",
      "Correction 3: Non ho speciali desideri sul denaro .\n",
      "Correction 4: Non ho un desiderio sul denaro .\n",
      "Correction 5: Non ho un desiderio economico sul denaro .\n",
      "Error types:  []\n",
      "\n"
     ]
    },
    {
     "name": "stderr",
     "output_type": "stream",
     "text": [
      " 81%|██████████████████████████████████▊        | 34/42 [27:36<07:51, 58.89s/it]"
     ]
    },
    {
     "name": "stdout",
     "output_type": "stream",
     "text": [
      "\n",
      "Original:     Non ho pensato su una cosa meravigliosa come ques ' invito , quando ho aperto la lettera .\n",
      "Gold labels:  c c c i c c c c i c c c c c c c c\n",
      "Pred labels:  c c c i c c c c i c i c c c c c c\n",
      "Gold:         Non ho pensato a una cosa meravigliosa come quest' invito , quando ho aperto la lettera .\n",
      "Correction 1: Non ho pensato a una cosa meravigliosa come l'invito , quando ho aperto la lettera .\n",
      "Correction 2: Non ho pensato su una cosa meravigliosa come un invito , quando ho aperto la lettera .\n",
      "Correction 3: Non ho pensato su una cosa meravigliosa come l'invito , quando ho aperto la lettera .\n",
      "Correction 4: Non ho pensato su una cosa meravigliosa come l'invito quando ho aperto la lettera .\n",
      "Correction 5: Note: The fifth correction is a repetition of the third one, as there are only four unique corrections possible in this case.\n",
      "Error types:  ['G_Prep', 'O_Graph']\n",
      "\n"
     ]
    },
    {
     "name": "stderr",
     "output_type": "stream",
     "text": [
      " 83%|███████████████████████████████████▊       | 35/42 [28:03<05:45, 49.29s/it]"
     ]
    },
    {
     "name": "stdout",
     "output_type": "stream",
     "text": [
      "\n",
      "Original:     Monstrero lo al capoufficio !\n",
      "Gold labels:  i i c c c\n",
      "Pred labels:  i i i c c\n",
      "Gold:         mostrerò al capoufficio !\n",
      "Correction 1: Monstrero lo al capoufficio!\n",
      "Correction 2: Monstrero lo all'capoufficio!\n",
      "Correction 3: Monstrero lo allo capoufficio!\n",
      "Correction 4: Monstrero lo all'ufficio!\n",
      "Correction 5: Monstrero lo all'ufficio!\n",
      "Error types:  ['G_Clit', 'O_Graph']\n",
      "\n"
     ]
    },
    {
     "name": "stderr",
     "output_type": "stream",
     "text": [
      " 86%|████████████████████████████████████▊      | 36/42 [28:35<04:24, 44.10s/it]"
     ]
    },
    {
     "name": "stdout",
     "output_type": "stream",
     "text": [
      "\n",
      "Original:     Puoi mi dice che lavoro fai adesso ?\n",
      "Gold labels:  c i i c c c c c\n",
      "Pred labels:  i i i c c c c c\n",
      "Gold:         Puoi dirmi che lavoro fai adesso ?\n",
      "Correction 1: Puoi mi dire che lavoro fai adesso?\n",
      "Correction 2: Puoi dirmi che lavoro fai adesso?\n",
      "Correction 3: Puoi mi dico che lavoro fai adesso?\n",
      "Correction 4: Puoi mi dici qual lavoro fai adesso?\n",
      "Correction 5: Puoi mi dici che lavoro fa adesso?\n",
      "Error types:  ['G_Verb_main', 'O_Wordbd']\n",
      "\n"
     ]
    },
    {
     "name": "stderr",
     "output_type": "stream",
     "text": [
      " 88%|█████████████████████████████████████▉     | 37/42 [29:19<03:40, 44.10s/it]"
     ]
    },
    {
     "name": "stdout",
     "output_type": "stream",
     "text": [
      "\n",
      "Original:     Abito un un albergo directamente in centro di Città X .\n",
      "Gold labels:  c i c c i c c c c c c\n",
      "Pred labels:  c i i c i i c c c c c\n",
      "Gold:         Abito in un albergo direttamente in centro di Città X .\n",
      "Correction 1: Abito un albergo directamente in centro di Città X .\n",
      "Correction 2: Abito un albergo direttamente in centro di Città X .\n",
      "Correction 3: Abito un albergo in centro diretto di Città X .\n",
      "Correction 4: Abito un albergo in centro di Città X .\n",
      "Correction 5: Abito un albergo in centro di Città X .\n",
      "Error types:  ['O_Graph', 'G_Art']\n",
      "\n"
     ]
    },
    {
     "name": "stderr",
     "output_type": "stream",
     "text": [
      " 90%|██████████████████████████████████████▉    | 38/42 [30:17<03:12, 48.22s/it]"
     ]
    },
    {
     "name": "stdout",
     "output_type": "stream",
     "text": [
      "\n",
      "Original:     Mentre leggere la tua lettere ero penseto che questo problema è un grand problema nella nostra socetà !\n",
      "Gold labels:  i i c c i i i c c c c c i c c c c c\n",
      "Pred labels:  i i i i i i i c c c c c i c c c i c\n",
      "Gold:         mentre leggevo la tua lettera ho pensato che questo problema è un gran problema nella nostra socetà !\n",
      "Correction 1: Mentre leggevo la tua lettere ero pensato che questo problema è un grande problema nella nostra società !\n",
      "Correction 2: Mentre leggere la tua lettere ero pensato che questo problema è un grande problema nella nostra società !\n",
      "Correction 3: Mentre leggerei la tua lettere ero pensato che questo problema è un grande problema nella nostra società !\n",
      "Correction 4: Mentre leggere la tua lettere ero pensato che questo problema è un grandissimo problema nella nostra società !\n",
      "Correction 5: Mentre leggere la tua lettere ero pensato che questo problema è un grande problema nella nostra società !\n",
      "Error types:  ['NO_LABEL']\n",
      "\n"
     ]
    },
    {
     "name": "stderr",
     "output_type": "stream",
     "text": [
      " 93%|███████████████████████████████████████▉   | 39/42 [31:34<02:51, 57.04s/it]"
     ]
    },
    {
     "name": "stdout",
     "output_type": "stream",
     "text": [
      "\n",
      "Original:     Mi dispiace , ma il mio capo ha organizzato una riunione questo pomeriggio e devo participare .\n",
      "Gold labels:  c c c c c c c c c c c c c c c c c\n",
      "Pred labels:  c c c c c c c c c c c c c c c i c\n",
      "Gold:         Mi dispiace , ma il mio capo ha organizzato una riunione questo pomeriggio e devo participare .\n",
      "Correction 1: Mi dispiace, ma il mio capo ha organizzato una riunione questo pomeriggio e devo partecipare.\n",
      "Correction 2: Mi dispiace, ma il mio capo ha organizzato una riunione oggi pomeriggio e devo partecipare.\n",
      "Correction 3: Mi dispiace, ma il mio capo ha organizzato una riunione quest'pomeriggio e devo partecipare.\n",
      "Correction 4: Mi dispiace, ma il mio capo ha organizzato una riunione questo pomeriggio e non posso partecipare.\n",
      "Correction 5: Mi dispiace, ma il mio capo ha organizzato una riunione oggi pomeriggio e non posso partecipare.\n",
      "Error types:  []\n",
      "\n"
     ]
    },
    {
     "name": "stderr",
     "output_type": "stream",
     "text": [
      " 95%|████████████████████████████████████████▉  | 40/42 [32:09<01:40, 50.28s/it]"
     ]
    },
    {
     "name": "stdout",
     "output_type": "stream",
     "text": [
      "\n",
      "Original:     Il mio albergho à vicino alla Monumento X .\n",
      "Gold labels:  c c i i c c c c c\n",
      "Pred labels:  c c i i c i c c c\n",
      "Gold:         Il mio albergo è vicino alla Monumento X .\n",
      "Correction 1: Il mio albergo è vicino al Monumento X .\n",
      "Correction 2: Il mio albergo à vicino al Monumento X .\n",
      "Correction 3: Il mio albergho è vicino a Monumento X .\n",
      "Correction 4: Il mio albergho à vicino a Monumento X .\n",
      "Correction 5: Il mio albergo è vicino alla Monumento X .\n",
      "Error types:  ['H_Intelltxt']\n",
      "\n"
     ]
    },
    {
     "name": "stderr",
     "output_type": "stream",
     "text": [
      " 98%|█████████████████████████████████████████▉ | 41/42 [33:36<01:01, 61.35s/it]"
     ]
    },
    {
     "name": "stdout",
     "output_type": "stream",
     "text": [
      "\n",
      "Original:     Poi scrivere una cartolina anche o puoi chiamiami a questo numero : 0345-11111111 !\n",
      "Gold labels:  i c c c i c c i c c c c c c\n",
      "Pred labels:  i c c c i c c i i c c c c c\n",
      "Gold:         Puoi scrivere una cartolina o puoi chiamarmi a questo numero : 0345-11111111 !\n",
      "Correction 1: Poi scrivere una cartolina anche oppure puoi chiamami a questo numero: 0345-11111111!\n",
      "Correction 2: Poi scrivere una cartolina anche o puoi chiamami a questo numero: 0345-11111111!\n",
      "Correction 3: Poi scrivere una cartolina anche oppure puoi chiamarmi a questo numero: 0345-11111111!\n",
      "Correction 4: Poi scrivere una cartolina anche o puoi chiamarmi a questo numero: 0345-11111111!\n",
      "Correction 5: Poi scrivere una cartolina anche oppure puoi chiamarmi a questo numero: 0345-11111111!\n",
      "Error types:  ['G_Pos', 'G_Conj', 'O_Graph']\n",
      "\n"
     ]
    },
    {
     "name": "stderr",
     "output_type": "stream",
     "text": [
      "100%|███████████████████████████████████████████| 42/42 [35:19<00:00, 50.47s/it]"
     ]
    },
    {
     "name": "stdout",
     "output_type": "stream",
     "text": [
      "\n",
      "Original:     Crispi 119 80127 Caserta Oggetto : La Sua lettera Caro Giorgio , in riferimento della Sua lettera Le scrivo .\n",
      "Gold labels:  c c c c c c c c c c c c c c i c c c c c\n",
      "Pred labels:  c c c c c c i c c c c c c c i c c i c c\n",
      "Gold:         Crispi 119 80127 Caserta Oggetto : La Sua lettera Caro Giorgio , in riferimento alla Sua lettera Le scrivo .\n",
      "Correction 1: Crispi 119 80127 Caserta Oggetto: La Sua lettera Caro Giorgio, in riferimento alla Sua lettera Le scrivo.\n",
      "Correction 2: Crispi 119 80127 Caserta Oggetto: La Sua lettera Caro Giorgio, in riferimento a Sua lettera Le scrivo.\n",
      "Correction 3: Crispi 119 80127 Caserta Oggetto: La Sua lettera Caro Giorgio, in riferimento alla Sua Le scrivo.\n",
      "Correction 4: Crispi 119 80127 Caserta Oggetto: La Sua lettera Caro Giorgio, in riferimento alla Sua lettera .\n",
      "Correction 5: Crispi 119 80127 Caserta Oggetto: La Sua lettera Caro Giorgio, in riferimento a Sua lettera .\n",
      "Error types:  ['NO_LABEL']\n",
      "\n"
     ]
    },
    {
     "name": "stderr",
     "output_type": "stream",
     "text": [
      "\n"
     ]
    }
   ],
   "source": [
    "all_false_positive_roberta = []\n",
    "\n",
    "for sentence in tqdm(roberta_merlin_only_fp):\n",
    "    sentence_corrections = get_corrections_tokenized_with_labels_from_data(sentence, client)\n",
    "    all_false_positive_roberta.append(sentence_corrections)"
   ]
  }
 ],
 "metadata": {
  "kernelspec": {
   "display_name": "Python 3 (ipykernel)",
   "language": "python",
   "name": "python3"
  },
  "language_info": {
   "codemirror_mode": {
    "name": "ipython",
    "version": 3
   },
   "file_extension": ".py",
   "mimetype": "text/x-python",
   "name": "python",
   "nbconvert_exporter": "python",
   "pygments_lexer": "ipython3",
   "version": "3.12.2"
  }
 },
 "nbformat": 4,
 "nbformat_minor": 5
}
